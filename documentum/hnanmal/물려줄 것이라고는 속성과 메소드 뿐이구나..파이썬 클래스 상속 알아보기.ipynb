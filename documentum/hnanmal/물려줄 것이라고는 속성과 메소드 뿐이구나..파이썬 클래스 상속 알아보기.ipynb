{
 "cells": [
  {
   "cell_type": "code",
   "execution_count": 8,
   "id": "copyrighted-moderator",
   "metadata": {},
   "outputs": [],
   "source": [
    "class 부모크라스:\n",
    "    pass\n",
    "\n",
    "class 자식크라스(부모크라스):\n",
    "    pass"
   ]
  },
  {
   "cell_type": "code",
   "execution_count": 9,
   "id": "comfortable-dealer",
   "metadata": {},
   "outputs": [
    {
     "name": "stdout",
     "output_type": "stream",
     "text": [
      "부모!!!\n",
      "\n",
      "\n",
      "부모!!!\n",
      "자식!!!\n"
     ]
    }
   ],
   "source": [
    "class 부모크라스:\n",
    "    def __init__(self):\n",
    "        print(\"부모!!!\")\n",
    "\n",
    "class 자식크라스(부모크라스):\n",
    "    def __init__(self):\n",
    "        부모크라스.__init__(self)\n",
    "        print(\"자식!!!\")\n",
    "        \n",
    "부모개체 = 부모크라스()\n",
    "print(\"\\n\")\n",
    "자식개체 = 자식크라스()"
   ]
  },
  {
   "cell_type": "code",
   "execution_count": 28,
   "id": "aboriginal-transport",
   "metadata": {},
   "outputs": [],
   "source": [
    "class RolePlayer:\n",
    "    \"\"\"Parent Class\"\"\"\n",
    "    name = \"성명\"\n",
    "    role = \"역할\"\n",
    "        \n",
    "    def tellName(self):\n",
    "        print(f\"내 이름은 {self.name} 이야..\")\n",
    "    "
   ]
  },
  {
   "cell_type": "code",
   "execution_count": 29,
   "id": "extra-strike",
   "metadata": {},
   "outputs": [
    {
     "name": "stdout",
     "output_type": "stream",
     "text": [
      "내 이름은 성명 이야..\n"
     ]
    }
   ],
   "source": [
    "player0 = RolePlayer()\n",
    "player0.tellName()"
   ]
  },
  {
   "cell_type": "code",
   "execution_count": 30,
   "id": "processed-batman",
   "metadata": {},
   "outputs": [],
   "source": [
    "## Class Declaration Code\n",
    "\n",
    "class Doctor_v0(RolePlayer):\n",
    "    \"\"\"Child Class\"\"\"\n",
    "    def __init__(self, name):\n",
    "        self.name = name\n",
    "        self.role = \"의사\"\n",
    "        \n",
    "    def introduce(self):\n",
    "        print(f\"나는 {self.role} 야.. 잘 부탁해.\")"
   ]
  },
  {
   "cell_type": "code",
   "execution_count": 31,
   "id": "unlimited-toilet",
   "metadata": {},
   "outputs": [
    {
     "name": "stdout",
     "output_type": "stream",
     "text": [
      "내 이름은 김익남 이야..\n",
      "나는 의사 야.. 잘 부탁해.\n"
     ]
    }
   ],
   "source": [
    "## Client Code\n",
    "\n",
    "의사0 = Doctor_v0(\"김익남\")\n",
    "의사0.tellName()\n",
    "의사0.introduce()"
   ]
  },
  {
   "cell_type": "code",
   "execution_count": 32,
   "id": "direct-september",
   "metadata": {},
   "outputs": [],
   "source": [
    "## Class Declaration Code\n",
    "\n",
    "class Patient(RolePlayer):\n",
    "    \"\"\"Child Class\"\"\"\n",
    "    def __init__(self, name, problem):\n",
    "        self.name = name\n",
    "        self.role = \"환자\"\n",
    "        self.problem = problem\n",
    "        \n",
    "    def introduce(self):\n",
    "        print(f\"나는 {self.role} 야.. 잘 부탁해.\")\n",
    "        \n",
    "    def tellName(self):\n",
    "        print(f\"내 이름은 {self.name} 이고, {self.problem} (이)가 아파서 왔어..\")"
   ]
  },
  {
   "cell_type": "code",
   "execution_count": 40,
   "id": "domestic-russia",
   "metadata": {},
   "outputs": [
    {
     "name": "stdout",
     "output_type": "stream",
     "text": [
      "나는 의사 야.. 잘 부탁해.\n",
      "내 이름은 익준 이야..\n",
      "\n",
      "\n",
      "나는 환자 야.. 잘 부탁해.\n",
      "내 이름은 청명 이고, 허리 (이)가 아파서 왔어..\n",
      "\n",
      "\n"
     ]
    }
   ],
   "source": [
    "## Client Code\n",
    "\n",
    "의사 = Doctor_v0(\"익준\")\n",
    "환자 = Patient(\"청명\", \"허리\")\n",
    "playerList = [의사, 환자]\n",
    "\n",
    "for i in playerList:\n",
    "    i.introduce()\n",
    "    i.tellName()\n",
    "    print(\"\\n\")"
   ]
  },
  {
   "cell_type": "code",
   "execution_count": 41,
   "id": "collect-cover",
   "metadata": {},
   "outputs": [],
   "source": [
    "## Class Declaration Code\n",
    "\n",
    "class Doctor_v1(Doctor_v0):\n",
    "    def matchPatient(self, *args):\n",
    "        self.patientList = args\n",
    "    \n",
    "    def diagnosis(self):\n",
    "        for i in self.patientList:\n",
    "            print(f\"{i.name}님, {i.problem}가 안좋으시군요. 약 처방할께요.\")"
   ]
  },
  {
   "cell_type": "code",
   "execution_count": 42,
   "id": "guided-adjustment",
   "metadata": {},
   "outputs": [
    {
     "name": "stdout",
     "output_type": "stream",
     "text": [
      "청명님, 허리가 안좋으시군요. 약 처방할께요.\n",
      "조걸님, 경추가 안좋으시군요. 약 처방할께요.\n",
      "철용님, 팔꿈치가 안좋으시군요. 약 처방할께요.\n"
     ]
    }
   ],
   "source": [
    "## Client Code\n",
    "\n",
    "환자1 = Patient(\"청명\", \"허리\")\n",
    "환자2 = Patient(\"조걸\", \"경추\")\n",
    "환자3 = Patient(\"철용\", \"팔꿈치\")\n",
    "\n",
    "newdoctor = Doctor_v1(\"화타\")\n",
    "newdoctor.matchPatient(환자1, 환자2, 환자3)\n",
    "newdoctor.diagnosis()"
   ]
  },
  {
   "cell_type": "code",
   "execution_count": null,
   "id": "better-qatar",
   "metadata": {},
   "outputs": [],
   "source": []
  },
  {
   "cell_type": "code",
   "execution_count": null,
   "id": "suspended-complex",
   "metadata": {},
   "outputs": [],
   "source": []
  }
 ],
 "metadata": {
  "kernelspec": {
   "display_name": "Python 3",
   "language": "python",
   "name": "python3"
  },
  "language_info": {
   "codemirror_mode": {
    "name": "ipython",
    "version": 3
   },
   "file_extension": ".py",
   "mimetype": "text/x-python",
   "name": "python",
   "nbconvert_exporter": "python",
   "pygments_lexer": "ipython3",
   "version": "3.8.8"
  },
  "toc": {
   "base_numbering": 1,
   "nav_menu": {},
   "number_sections": false,
   "sideBar": true,
   "skip_h1_title": false,
   "title_cell": "Table of Contents",
   "title_sidebar": "Contents",
   "toc_cell": false,
   "toc_position": {},
   "toc_section_display": true,
   "toc_window_display": false
  }
 },
 "nbformat": 4,
 "nbformat_minor": 5
}
