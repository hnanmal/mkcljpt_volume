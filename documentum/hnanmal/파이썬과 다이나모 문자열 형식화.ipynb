{
 "cells": [
  {
   "cell_type": "code",
   "execution_count": 1,
   "id": "applicable-velvet",
   "metadata": {},
   "outputs": [],
   "source": [
    "변수 = 11"
   ]
  },
  {
   "cell_type": "code",
   "execution_count": 3,
   "id": "fixed-actor",
   "metadata": {},
   "outputs": [
    {
     "name": "stdout",
     "output_type": "stream",
     "text": [
      "아름다운 우리들의 11 번째 만남을 기념하며!!\n"
     ]
    }
   ],
   "source": [
    "파이썬으로fstring = f\"아름다운 우리들의 {변수} 번째 만남을 기념하며!!\"\n",
    "\n",
    "print(파이썬으로fstring)"
   ]
  },
  {
   "cell_type": "code",
   "execution_count": null,
   "id": "paperback-marina",
   "metadata": {},
   "outputs": [],
   "source": []
  }
 ],
 "metadata": {
  "kernelspec": {
   "display_name": "Python 3",
   "language": "python",
   "name": "python3"
  },
  "language_info": {
   "codemirror_mode": {
    "name": "ipython",
    "version": 3
   },
   "file_extension": ".py",
   "mimetype": "text/x-python",
   "name": "python",
   "nbconvert_exporter": "python",
   "pygments_lexer": "ipython3",
   "version": "3.8.8"
  }
 },
 "nbformat": 4,
 "nbformat_minor": 5
}
