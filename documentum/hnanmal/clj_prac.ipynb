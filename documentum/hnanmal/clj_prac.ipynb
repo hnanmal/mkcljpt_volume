{
 "cells": [
  {
   "cell_type": "code",
   "execution_count": 1,
   "id": "spatial-spectrum",
   "metadata": {},
   "outputs": [
    {
     "data": {
      "text/plain": [
       "#'user/squares-of"
      ]
     },
     "execution_count": 1,
     "metadata": {},
     "output_type": "execute_result"
    }
   ],
   "source": [
    "(defn square [n] (* n n))\n",
    " \n",
    "(defn squares-of [list]\n",
    "  (map square list))"
   ]
  },
  {
   "cell_type": "code",
   "execution_count": 2,
   "id": "weekly-franchise",
   "metadata": {},
   "outputs": [
    {
     "data": {
      "text/plain": [
       "(0 1 4 9 16 25 36 49 64 81 100 121 144 169 196 225 256 289 324 361 400 441 484 529 576)"
      ]
     },
     "execution_count": 2,
     "metadata": {},
     "output_type": "execute_result"
    }
   ],
   "source": [
    "(take 25 (squares-of (range)))"
   ]
  },
  {
   "cell_type": "code",
   "execution_count": 3,
   "id": "czech-burner",
   "metadata": {},
   "outputs": [
    {
     "data": {
      "text/plain": [
       "#'user/scenes"
      ]
     },
     "execution_count": 3,
     "metadata": {},
     "output_type": "execute_result"
    }
   ],
   "source": [
    ";; Let's define some data using list / map\n",
    ";; literals:\n",
    "\n",
    "(def scenes [{:subject  \"Frankie\"\n",
    "              :action   \"say\"\n",
    "              :object   \"relax\"}\n",
    "\n",
    "             {:subject  \"Lucy\"\n",
    "              :action   \"❤s\"\n",
    "              :object   \"Clojure\"}\n",
    "\n",
    "             {:subject  \"Rich\"\n",
    "              :action   \"tries\"\n",
    "              :object   \"a new conditioner\"}])"
   ]
  },
  {
   "cell_type": "code",
   "execution_count": 4,
   "id": "careful-seller",
   "metadata": {},
   "outputs": [
    {
     "data": {
      "text/plain": [
       "#'user/people-in-scenes"
      ]
     },
     "execution_count": 4,
     "metadata": {},
     "output_type": "execute_result"
    }
   ],
   "source": [
    ";; Define a function\n",
    "(defn people-in-scenes [scenes]\n",
    "  (->> scenes\n",
    "       (map :subject)\n",
    "       (interpose \", \")\n",
    "       (reduce str)))"
   ]
  },
  {
   "cell_type": "code",
   "execution_count": 5,
   "id": "varying-abuse",
   "metadata": {},
   "outputs": [
    {
     "name": "stdout",
     "output_type": "stream",
     "text": [
      "People: Frankie, Lucy, Rich\n"
     ]
    },
    {
     "data": {
      "text/plain": [
       "nil"
      ]
     },
     "execution_count": 5,
     "metadata": {},
     "output_type": "execute_result"
    }
   ],
   "source": [
    ";; Who's in our scenes?\n",
    "\n",
    "(println \"People:\" (people-in-scenes scenes))\n",
    "\n",
    ";;=> People: Frankie, Lucy, Rich"
   ]
  },
  {
   "cell_type": "code",
   "execution_count": 8,
   "id": "third-seafood",
   "metadata": {},
   "outputs": [
    {
     "data": {
      "text/plain": [
       "1140"
      ]
     },
     "execution_count": 8,
     "metadata": {},
     "output_type": "execute_result"
    }
   ],
   "source": [
    "(->> (range)\n",
    "    (map #(* % %))\n",
    "    (filter even?)\n",
    "    (take 10)\n",
    "    (reduce +))"
   ]
  },
  {
   "cell_type": "code",
   "execution_count": 13,
   "id": "elegant-inspector",
   "metadata": {},
   "outputs": [
    {
     "data": {
      "text/plain": [
       "(0 1 2 3 4 5 6 7 8 9)"
      ]
     },
     "execution_count": 13,
     "metadata": {},
     "output_type": "execute_result"
    }
   ],
   "source": [
    "(take 10 (range))"
   ]
  },
  {
   "cell_type": "code",
   "execution_count": 22,
   "id": "frequent-sponsorship",
   "metadata": {},
   "outputs": [
    {
     "data": {
      "text/plain": [
       "#'user/integers-starting-at"
      ]
     },
     "execution_count": 22,
     "metadata": {},
     "output_type": "execute_result"
    }
   ],
   "source": [
    "(defn integers-starting-at [n]\n",
    "  (cons n (lazy-seq (integers-starting-at (inc n)))))"
   ]
  },
  {
   "cell_type": "code",
   "execution_count": 20,
   "id": "cognitive-danger",
   "metadata": {},
   "outputs": [
    {
     "data": {
      "text/plain": [
       "#'user/integers"
      ]
     },
     "execution_count": 20,
     "metadata": {},
     "output_type": "execute_result"
    }
   ],
   "source": [
    "(defn integers []\n",
    "  (integers-starting-at 1))"
   ]
  },
  {
   "cell_type": "code",
   "execution_count": 25,
   "id": "infrared-consent",
   "metadata": {},
   "outputs": [
    {
     "data": {
      "text/plain": [
       "#'user/_map"
      ]
     },
     "execution_count": 25,
     "metadata": {},
     "output_type": "execute_result"
    }
   ],
   "source": [
    "(defn _map [f l]\n",
    "  (if (empty? l)\n",
    "    []\n",
    "    (cons (f (first l)) (lazy-seq (map f (rest l))))))"
   ]
  },
  {
   "cell_type": "code",
   "execution_count": 27,
   "id": "associate-currency",
   "metadata": {},
   "outputs": [
    {
     "data": {
      "text/plain": [
       "#'user/_take"
      ]
     },
     "execution_count": 27,
     "metadata": {},
     "output_type": "execute_result"
    }
   ],
   "source": [
    "(defn _take [n l]\n",
    "  (if (zero? n)\n",
    "    []\n",
    "    (cons (first l) (take (dec n) (rest l)))))"
   ]
  },
  {
   "cell_type": "code",
   "execution_count": 31,
   "id": "egyptian-excess",
   "metadata": {},
   "outputs": [
    {
     "data": {
      "text/plain": [
       "#'user/wrap"
      ]
     },
     "execution_count": 31,
     "metadata": {},
     "output_type": "execute_result"
    }
   ],
   "source": [
    "(defn find-start-and-end [s n]\n",
    "  (let [space-before-end (.lastIndexOf s \" \" n)\n",
    "        line-end (if (neg? space-before-end) n space-before-end)\n",
    "        trailing-space (= \\space (get s line-end))\n",
    "        line-start (if trailing-space (inc line-end) line-end)]\n",
    "    [line-start line-end]))\n",
    " \n",
    "(defn wrap [s n]\n",
    "  (if (<= (count s) n)\n",
    "    s\n",
    "    (let [[start end] (find-start-and-end s n)\n",
    "          head (subs s 0 end)\n",
    "          tail (subs s start)]\n",
    "      (str head \"\\n\" (wrap tail n)))))"
   ]
  },
  {
   "cell_type": "code",
   "execution_count": 43,
   "id": "immediate-register",
   "metadata": {},
   "outputs": [
    {
     "data": {
      "text/plain": [
       "\"x\\nx\\nx\""
      ]
     },
     "execution_count": 43,
     "metadata": {},
     "output_type": "execute_result"
    }
   ],
   "source": [
    "(wrap \"xxx\" 1)"
   ]
  },
  {
   "cell_type": "code",
   "execution_count": 54,
   "id": "duplicate-prototype",
   "metadata": {},
   "outputs": [
    {
     "data": {
      "text/plain": [
       "\"그럼 라인을 자동으로\\n넘겨주는 '줄\\n바꾸기(Word\\nWrap)'이라는\\n간단한 함수형\\n프로그램을 함께\\n만들어보자\""
      ]
     },
     "execution_count": 54,
     "metadata": {},
     "output_type": "execute_result"
    }
   ],
   "source": [
    "(wrap \"그럼 라인을 자동으로 넘겨주는 '줄 바꾸기(Word Wrap)'이라는 간단한 함수형 프로그램을 함께 만들어보자\" 12)"
   ]
  },
  {
   "cell_type": "code",
   "execution_count": 55,
   "id": "spare-listening",
   "metadata": {},
   "outputs": [
    {
     "data": {
      "text/plain": [
       "nil"
      ]
     },
     "execution_count": 55,
     "metadata": {},
     "output_type": "execute_result"
    }
   ],
   "source": [
    "(use '[clojure.set :only [intersection]])"
   ]
  },
  {
   "cell_type": "code",
   "execution_count": null,
   "id": "powerful-serve",
   "metadata": {},
   "outputs": [],
   "source": []
  }
 ],
 "metadata": {
  "kernelspec": {
   "display_name": "Clojure (clojupyter-0.3.2)",
   "language": "clojure",
   "name": "clojupyter-0.3.2"
  },
  "language_info": {
   "file_extension": ".clj",
   "mimetype": "text/x-clojure",
   "name": "clojure",
   "version": "1.10.1"
  }
 },
 "nbformat": 4,
 "nbformat_minor": 5
}
