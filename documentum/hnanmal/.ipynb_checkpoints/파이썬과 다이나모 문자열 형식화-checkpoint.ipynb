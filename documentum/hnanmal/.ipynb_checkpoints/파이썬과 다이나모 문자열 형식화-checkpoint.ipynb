{
 "cells": [
  {
   "cell_type": "code",
   "execution_count": 1,
   "id": "applicable-velvet",
   "metadata": {},
   "outputs": [],
   "source": [
    "변수 = [1,2,3,4,5,6,7]"
   ]
  },
  {
   "cell_type": "code",
   "execution_count": 2,
   "id": "fixed-actor",
   "metadata": {
    "scrolled": true
   },
   "outputs": [
    {
     "name": "stdout",
     "output_type": "stream",
     "text": [
      "아름다운 우리들의 1 번째 만남을 기념하며!!\n",
      "아름다운 우리들의 2 번째 만남을 기념하며!!\n",
      "아름다운 우리들의 3 번째 만남을 기념하며!!\n",
      "아름다운 우리들의 4 번째 만남을 기념하며!!\n",
      "아름다운 우리들의 5 번째 만남을 기념하며!!\n",
      "아름다운 우리들의 6 번째 만남을 기념하며!!\n",
      "아름다운 우리들의 7 번째 만남을 기념하며!!\n"
     ]
    }
   ],
   "source": [
    "for i in 변수:\n",
    "    파이썬으로_fstring_만들기 = f\"아름다운 우리들의 {i} 번째 만남을 기념하며!!\"\n",
    "    \n",
    "    print(파이썬으로_fstring_만들기)"
   ]
  },
  {
   "cell_type": "code",
   "execution_count": 3,
   "id": "persistent-channels",
   "metadata": {},
   "outputs": [],
   "source": [
    "벽번호 = 3\n",
    "벽면적 = 200\n",
    "첫번째인사말 = \"감사합니다\"\n",
    "두번째인사말 = \"그럼 이만\""
   ]
  },
  {
   "cell_type": "code",
   "execution_count": 4,
   "id": "paperback-marina",
   "metadata": {},
   "outputs": [
    {
     "name": "stdout",
     "output_type": "stream",
     "text": [
      "우선, 3번째 벽체의 면적은 200m2 입니다. 감사합니다. 그럼 이만.\n"
     ]
    }
   ],
   "source": [
    "파이썬으로_fstring_만들기 = f\"우선, {벽번호}번째 벽체의 면적은 {벽면적}m2 입니다. {첫번째인사말}. {두번째인사말}.\"\n",
    "\n",
    "print(파이썬으로_fstring_만들기)"
   ]
  },
  {
   "cell_type": "code",
   "execution_count": 5,
   "id": "collaborative-presence",
   "metadata": {},
   "outputs": [
    {
     "name": "stdout",
     "output_type": "stream",
     "text": [
      "우선, {벽번호}번째 벽체의 면적은 {벽면적}m2 입니다. {첫번째인사말}. {두번째인사말}.\n"
     ]
    }
   ],
   "source": [
    "파이썬으로_fstring_만들기 = \"우선, {벽번호}번째 벽체의 면적은 {벽면적}m2 입니다. {첫번째인사말}. {두번째인사말}.\"\n",
    "\n",
    "print(파이썬으로_fstring_만들기)"
   ]
  },
  {
   "cell_type": "code",
   "execution_count": null,
   "id": "advised-joining",
   "metadata": {},
   "outputs": [],
   "source": []
  }
 ],
 "metadata": {
  "kernelspec": {
   "display_name": "Python 3",
   "language": "python",
   "name": "python3"
  },
  "language_info": {
   "codemirror_mode": {
    "name": "ipython",
    "version": 3
   },
   "file_extension": ".py",
   "mimetype": "text/x-python",
   "name": "python",
   "nbconvert_exporter": "python",
   "pygments_lexer": "ipython3",
   "version": "3.8.8"
  },
  "toc": {
   "base_numbering": 1,
   "nav_menu": {},
   "number_sections": false,
   "sideBar": true,
   "skip_h1_title": false,
   "title_cell": "Table of Contents",
   "title_sidebar": "Contents",
   "toc_cell": false,
   "toc_position": {},
   "toc_section_display": true,
   "toc_window_display": false
  }
 },
 "nbformat": 4,
 "nbformat_minor": 5
}
