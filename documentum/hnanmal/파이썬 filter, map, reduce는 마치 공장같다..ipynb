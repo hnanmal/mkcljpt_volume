{
 "cells": [
  {
   "cell_type": "markdown",
   "id": "active-hawaii",
   "metadata": {},
   "source": [
    "# 파이썬 filter, map, reduce는 마치 공장같다."
   ]
  },
  {
   "cell_type": "markdown",
   "id": "particular-fifteen",
   "metadata": {},
   "source": [
    "지난번 reduce 포스팅에서 말했듯이, filter, map, reduce 함수는 조합되어 많이 쓰입니다.\n",
    "\n",
    "- 여러가지 원소들 중 특정 조건을 만족하는 것들만 ***골라서*** => filter\n",
    "- 골라진 원소들을 어떤 규칙을 통해 ***변환한 뒤*** => map\n",
    "- 변환된 원소들의 특성을 하나로 ***추출하는*** => reduce\n",
    "\n",
    "이러한 방식으로 자주 쓰입니다.\n"
   ]
  },
  {
   "cell_type": "markdown",
   "id": "central-simpson",
   "metadata": {},
   "source": [
    "지난번 filter함수 포스팅에서는 커피가루를 예로 들어서 여러가지 필터링 코드를 짜봤지요?  \n",
    "이번에도 커피를 가지고 ***골라서***, ***변환한 뒤***, ***추출하는*** 예시 코드를 통해서 이해해 보도록 하겠습니다. "
   ]
  },
  {
   "cell_type": "code",
   "execution_count": 92,
   "id": "incorporated-abortion",
   "metadata": {},
   "outputs": [],
   "source": [
    "과테말라_커피가루 = [\n",
    "    {'이름': '카페인', '용해성': '수용성', '로스팅후변화': False, '함량': 10.00},\n",
    "    {'이름': '광물질', '용해성': '불용성', '로스팅후변화': False, '함량': 0.10},\n",
    "    {'이름': '지방', '용해성': '지용성', '로스팅후변화': False, '함량': 1.00},\n",
    "    {'이름': '탄닌산', '용해성': '수용성', '로스팅후변화': False, '함량': 7.00},\n",
    "    {'이름': '클로로겐산', '용해성': '수용성', '로스팅후변화': False, '함량': 3.00},\n",
    "    {'이름': '트리고넬린', '용해성': '수용성', '로스팅후변화': False, '함량': 2.50},\n",
    "    {'이름': '탄산가스', '용해성': '불용성', '로스팅후변화': True, '함량': 0.01},\n",
    "    {'이름': '당분', '용해성': '수용성', '로스팅후변화': False, '함량': 1.50},\n",
    "    {'이름': '섬유소', '용해성': '불용성', '로스팅후변화': False, '함량': 0.70},\n",
    "        ]\n",
    "\n",
    "케냐AA_커피가루 = [\n",
    "    {'이름': '카페인', '용해성': '수용성', '로스팅후변화': False, '함량': 10.00},\n",
    "    {'이름': '광물질', '용해성': '불용성', '로스팅후변화': False, '함량': 0.07},\n",
    "    {'이름': '지방', '용해성': '지용성', '로스팅후변화': False, '함량': 1.01},\n",
    "    {'이름': '탄닌산', '용해성': '수용성', '로스팅후변화': False, '함량': 7.21},\n",
    "    {'이름': '클로로겐산', '용해성': '수용성', '로스팅후변화': False, '함량': 3.29},\n",
    "    {'이름': '트리고넬린', '용해성': '수용성', '로스팅후변화': False, '함량': 2.32},\n",
    "    {'이름': '탄산가스', '용해성': '불용성', '로스팅후변화': True, '함량': 0.01},\n",
    "    {'이름': '당분', '용해성': '수용성', '로스팅후변화': False, '함량': 1.78},\n",
    "    {'이름': '섬유소', '용해성': '불용성', '로스팅후변화': False, '함량': 0.98},\n",
    "        ]\n",
    "\n",
    "예가체프_커피가루 = [\n",
    "    {'이름': '카페인', '용해성': '수용성', '로스팅후변화': False, '함량': 10.00},\n",
    "    {'이름': '광물질', '용해성': '불용성', '로스팅후변화': False, '함량': 0.11},\n",
    "    {'이름': '지방', '용해성': '지용성', '로스팅후변화': False, '함량': 1.33},\n",
    "    {'이름': '탄닌산', '용해성': '수용성', '로스팅후변화': False, '함량': 6.56},\n",
    "    {'이름': '클로로겐산', '용해성': '수용성', '로스팅후변화': False, '함량': 2.86},\n",
    "    {'이름': '트리고넬린', '용해성': '수용성', '로스팅후변화': False, '함량': 2.76},\n",
    "    {'이름': '탄산가스', '용해성': '불용성', '로스팅후변화': True, '함량': 0.01},\n",
    "    {'이름': '당분', '용해성': '수용성', '로스팅후변화': False, '함량': 1.62},\n",
    "    {'이름': '섬유소', '용해성': '불용성', '로스팅후변화': False, '함량': 0.88},\n",
    "        ]"
   ]
  },
  {
   "cell_type": "markdown",
   "id": "average-soundtrack",
   "metadata": {},
   "source": [
    "자 위와같이 원두 종류별로 커피가루를 준비했습니다.  \n",
    "\n",
    "예시로 진행해볼 과정은 이렇습니다.\n",
    "\n",
    "1. map으로 로스팅하고\n",
    "2. filter를 통해 건더기를 제거한 뒤\n",
    "3. reduce에 초기값으로 물을 집어넣어 차례로 수용액을 만들고 최종적으로는 커피용액을 추출하는 과정\n",
    "\n",
    "입니다."
   ]
  },
  {
   "cell_type": "markdown",
   "id": "steady-diploma",
   "metadata": {},
   "source": [
    "## 1. map으로 로스팅하고"
   ]
  },
  {
   "cell_type": "markdown",
   "id": "exciting-diagnosis",
   "metadata": {},
   "source": [
    "먼저 로스팅을 통해서 커피원두 속의 탄산가스를 날려버립시다.  \n",
    "일단 과테말라 원두로 시작해볼까요?\n",
    "\n",
    "일단 로스팅 함수를 정의해봅시다."
   ]
  },
  {
   "cell_type": "code",
   "execution_count": 46,
   "id": "fuzzy-shuttle",
   "metadata": {},
   "outputs": [],
   "source": [
    "def 로스팅하기(성분):\n",
    "    if 성분['로스팅후변화']:\n",
    "        성분['함량'] = 0\n",
    "        return 성분\n",
    "    else:\n",
    "        변화함량 = 성분['함량'] - 0.01\n",
    "        성분['함량'] = 변화함량\n",
    "        return 성분"
   ]
  },
  {
   "cell_type": "markdown",
   "id": "vocational-yesterday",
   "metadata": {},
   "source": [
    "이 함수는 성분들을 로스팅해서, \"로스팅후변화\" 속성이 True 이면 함량을 0으로 만들고,  \n",
    "속성이 False 이면 원래 가지고 있던 함량에서 0.01g을 빼서 돌려줍니다.\n",
    "\n",
    "과테말라 원두를 로스팅하려면 아래처럼 코딩하면 됩니다."
   ]
  },
  {
   "cell_type": "code",
   "execution_count": 47,
   "id": "reasonable-montgomery",
   "metadata": {},
   "outputs": [
    {
     "data": {
      "text/plain": [
       "[{'이름': '카페인', '용해성': '수용성', '로스팅후변화': False, '함량': 9.99},\n",
       " {'이름': '광물질', '용해성': '불용성', '로스팅후변화': False, '함량': 0.09000000000000001},\n",
       " {'이름': '지방', '용해성': '지용성', '로스팅후변화': False, '함량': 0.99},\n",
       " {'이름': '탄닌산', '용해성': '수용성', '로스팅후변화': False, '함량': 6.99},\n",
       " {'이름': '클로로겐산', '용해성': '수용성', '로스팅후변화': False, '함량': 2.99},\n",
       " {'이름': '트리고넬린', '용해성': '수용성', '로스팅후변화': False, '함량': 2.49},\n",
       " {'이름': '탄산가스', '용해성': '불용성', '로스팅후변화': True, '함량': 0},\n",
       " {'이름': '당분', '용해성': '수용성', '로스팅후변화': False, '함량': 1.49},\n",
       " {'이름': '섬유소', '용해성': '불용성', '로스팅후변화': False, '함량': 0.69}]"
      ]
     },
     "execution_count": 47,
     "metadata": {},
     "output_type": "execute_result"
    }
   ],
   "source": [
    "로스팅한_과테말라_커피가루 = list(map(로스팅하기, 과테말라_커피가루))\n",
    "\n",
    "로스팅한_과테말라_커피가루"
   ]
  },
  {
   "cell_type": "markdown",
   "id": "solar-enclosure",
   "metadata": {},
   "source": [
    "모든 성분들이 로스팅 되어 각자가 할 수 있는 변화를 일으킨 채 \"로스팅한_과테말라_커피가루\" 리스트에 잘 저장되어 있습니다."
   ]
  },
  {
   "cell_type": "markdown",
   "id": "viral-affairs",
   "metadata": {},
   "source": [
    "## 2. filter를 통해 건더기를 제거한 뒤"
   ]
  },
  {
   "cell_type": "markdown",
   "id": "subject-defense",
   "metadata": {},
   "source": [
    "이제는 로스팅을 했으니, 필터로 필요없는 것들을 제거해야 겠죠?  \n",
    "섬유소와 광물질처럼 물에 녹지 않는 것들과 이미 쭉정이만 남은 탄산가스를 제거해주면 되겠습니다.  \n",
    "\n",
    "그러면 필터링의 조건이 되는 함수를 먼저 선언해야겠죠?"
   ]
  },
  {
   "cell_type": "code",
   "execution_count": 63,
   "id": "diagnostic-hammer",
   "metadata": {},
   "outputs": [],
   "source": [
    "def 성분필터링하기(성분):\n",
    "    if 성분['함량'] == 0 or 성분['용해성'] == '불용성':\n",
    "        return False\n",
    "    else:\n",
    "        return True"
   ]
  },
  {
   "cell_type": "markdown",
   "id": "exotic-elizabeth",
   "metadata": {},
   "source": [
    "이 조건함수는 인자로 들어온 함수를 살펴서 함량이 0 이거나,  \n",
    "용해성이 '불용성'인 성분들만 False로 반환해서 탈락시키는 함수입니다.\n",
    "\n",
    "이 조건함수를 사용해서 필터링하는 코드를 짜보겠습니다."
   ]
  },
  {
   "cell_type": "code",
   "execution_count": 66,
   "id": "brown-startup",
   "metadata": {},
   "outputs": [
    {
     "data": {
      "text/plain": [
       "[{'이름': '카페인', '용해성': '수용성', '로스팅후변화': False, '함량': 9.99},\n",
       " {'이름': '지방', '용해성': '지용성', '로스팅후변화': False, '함량': 0.99},\n",
       " {'이름': '탄닌산', '용해성': '수용성', '로스팅후변화': False, '함량': 6.99},\n",
       " {'이름': '클로로겐산', '용해성': '수용성', '로스팅후변화': False, '함량': 2.99},\n",
       " {'이름': '트리고넬린', '용해성': '수용성', '로스팅후변화': False, '함량': 2.49},\n",
       " {'이름': '당분', '용해성': '수용성', '로스팅후변화': False, '함량': 1.49}]"
      ]
     },
     "execution_count": 66,
     "metadata": {},
     "output_type": "execute_result"
    }
   ],
   "source": [
    "필터링한_과테말라_커피가루 = list(filter(성분필터링하기, 로스팅한_과테말라_커피가루))\n",
    "\n",
    "필터링한_과테말라_커피가루"
   ]
  },
  {
   "cell_type": "markdown",
   "id": "desirable-level",
   "metadata": {},
   "source": [
    "필터가 제 역할을 잘 해줘서 마지막으로 카페인을 비롯한 6가지 성분들만 남았습니다!  \n",
    "\n",
    "이제 이 성분들을 커피용액으로 만드는 일만 남았네요."
   ]
  },
  {
   "cell_type": "markdown",
   "id": "found-carpet",
   "metadata": {},
   "source": [
    "## 3. reduce에 초기값으로 물을 집어넣어 차례로 커피수용액 추출하기"
   ]
  },
  {
   "cell_type": "markdown",
   "id": "moved-model",
   "metadata": {},
   "source": [
    "이제 리스트에서 원소를 두개씩 꺼내서 짝짜꿍시키는 reduce 함수 차례입니다.  \n",
    "\n",
    "짝짜궁 규칙함수를 먼저 작성해야겠죠?\n",
    "\n",
    "일단 먼저 물을 만들고요."
   ]
  },
  {
   "cell_type": "code",
   "execution_count": 87,
   "id": "simplified-calibration",
   "metadata": {},
   "outputs": [],
   "source": [
    "물 = {'이름': '물', '함량': 100}"
   ]
  },
  {
   "cell_type": "code",
   "execution_count": 88,
   "id": "outdoor-parliament",
   "metadata": {},
   "outputs": [],
   "source": [
    "def 용액만들기(액체, 성분):\n",
    "    용액 = {'이름': '미정', '함량': 0}\n",
    "    용액['이름'] = '+'.join([액체['이름'], 성분['이름']])\n",
    "    용액['함량'] = 액체['함량'] + 성분['함량']\n",
    "    return 용액"
   ]
  },
  {
   "cell_type": "markdown",
   "id": "analyzed-essay",
   "metadata": {},
   "source": [
    "이 함수는 용액과 성분을 인자로 받아서,  \n",
    "용액의 이름을 기존용액의 이름 뒤에 성분 이름을 더하기 표시로 결합해주고,  \n",
    "함량 수치도 합산해 주는 함수입니다.  \n",
    "\n",
    "예를 들어서 물과 카페인을 한번 \"용액만들기\" 함수로 합쳐볼까요?"
   ]
  },
  {
   "cell_type": "code",
   "execution_count": 89,
   "id": "military-tribune",
   "metadata": {},
   "outputs": [
    {
     "data": {
      "text/plain": [
       "{'이름': '물+카페인', '함량': 109.99}"
      ]
     },
     "execution_count": 89,
     "metadata": {},
     "output_type": "execute_result"
    }
   ],
   "source": [
    "용액만들기(물, 필터링한_과테말라_커피가루[0])"
   ]
  },
  {
   "cell_type": "markdown",
   "id": "offensive-floating",
   "metadata": {
    "tags": []
   },
   "source": [
    "이름은 '물+카페인' 으로 바뀌고, 함량도 물의 중량인 100g과 카페인의 중량인 9.99g 이 합쳐져서 109.99g이 되었군요.  \n",
    "이제 이 짓을 모든 성분에 대해 반복해 주면 됩니다!!!"
   ]
  },
  {
   "cell_type": "code",
   "execution_count": 90,
   "id": "animal-imperial",
   "metadata": {},
   "outputs": [
    {
     "data": {
      "text/plain": [
       "{'이름': '물+카페인+지방+탄닌산+클로로겐산+트리고넬린+당분', '함량': 124.93999999999997}"
      ]
     },
     "execution_count": 90,
     "metadata": {},
     "output_type": "execute_result"
    }
   ],
   "source": [
    "from functools import reduce\n",
    "\n",
    "김이나는커피한잔 = reduce(용액만들기, 필터링한_과테말라_커피가루, 물)\n",
    "\n",
    "김이나는커피한잔"
   ]
  },
  {
   "cell_type": "markdown",
   "id": "solar-latter",
   "metadata": {},
   "source": [
    "와! 대단하네요! 커피한잔 뚝딱입니다!!!\n",
    "\n",
    "후후 불어가면서 한잔 하시고, 나머지 원두들에 대해서는 직접 한 번 실습해보세요!!  \n",
    "해보면 익숙해지니까요."
   ]
  }
 ],
 "metadata": {
  "kernelspec": {
   "display_name": "Python 3",
   "language": "python",
   "name": "python3"
  },
  "language_info": {
   "codemirror_mode": {
    "name": "ipython",
    "version": 3
   },
   "file_extension": ".py",
   "mimetype": "text/x-python",
   "name": "python",
   "nbconvert_exporter": "python",
   "pygments_lexer": "ipython3",
   "version": "3.8.8"
  }
 },
 "nbformat": 4,
 "nbformat_minor": 5
}
