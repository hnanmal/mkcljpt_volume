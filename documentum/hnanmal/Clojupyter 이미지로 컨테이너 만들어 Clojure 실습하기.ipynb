{
 "cells": [
  {
   "cell_type": "markdown",
   "id": "modified-shoulder",
   "metadata": {},
   "source": [
    "# 도커: Clojupyter 이미지로 컨테이너 만들어 Clojure 실습하기"
   ]
  },
  {
   "cell_type": "markdown",
   "id": "south-removal",
   "metadata": {},
   "source": []
  }
 ],
 "metadata": {
  "kernelspec": {
   "display_name": "Clojure (clojupyter-0.3.2)",
   "language": "clojure",
   "name": "clojupyter-0.3.2"
  },
  "language_info": {
   "file_extension": ".clj",
   "mimetype": "text/x-clojure",
   "name": "clojure",
   "version": "1.10.1"
  }
 },
 "nbformat": 4,
 "nbformat_minor": 5
}
