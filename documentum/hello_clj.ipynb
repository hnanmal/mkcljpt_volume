{
 "cells": [
  {
   "cell_type": "code",
   "execution_count": 1,
   "id": "present-showcase",
   "metadata": {},
   "outputs": [
    {
     "name": "stdout",
     "output_type": "stream",
     "text": [
      "hello, clj !!"
     ]
    },
    {
     "data": {
      "text/plain": [
       "nil"
      ]
     },
     "execution_count": 1,
     "metadata": {},
     "output_type": "execute_result"
    }
   ],
   "source": [
    "(print \"hello, clj !!\")"
   ]
  },
  {
   "cell_type": "code",
   "execution_count": 2,
   "id": "danish-hunger",
   "metadata": {},
   "outputs": [
    {
     "data": {
      "text/plain": [
       "6"
      ]
     },
     "execution_count": 2,
     "metadata": {},
     "output_type": "execute_result"
    }
   ],
   "source": [
    "(+ 1 5)"
   ]
  },
  {
   "cell_type": "code",
   "execution_count": 3,
   "id": "short-rebate",
   "metadata": {},
   "outputs": [
    {
     "data": {
      "text/plain": [
       "6"
      ]
     },
     "execution_count": 3,
     "metadata": {},
     "output_type": "execute_result"
    }
   ],
   "source": [
    "(+ 1 2 3)"
   ]
  },
  {
   "cell_type": "code",
   "execution_count": 6,
   "id": "designed-guidance",
   "metadata": {},
   "outputs": [
    {
     "name": "stdout",
     "output_type": "stream",
     "text": [
      "10\n"
     ]
    },
    {
     "data": {
      "text/plain": [
       "nil"
      ]
     },
     "execution_count": 6,
     "metadata": {},
     "output_type": "execute_result"
    }
   ],
   "source": [
    "(def a 10) (println a)"
   ]
  },
  {
   "cell_type": "code",
   "execution_count": 7,
   "id": "monetary-admission",
   "metadata": {},
   "outputs": [
    {
     "data": {
      "text/plain": [
       "#'user/hello"
      ]
     },
     "execution_count": 7,
     "metadata": {},
     "output_type": "execute_result"
    }
   ],
   "source": [
    "(defn hello\n",
    "    []\n",
    "    (def a 3))"
   ]
  },
  {
   "cell_type": "code",
   "execution_count": 8,
   "id": "fabulous-palace",
   "metadata": {},
   "outputs": [
    {
     "data": {
      "text/plain": [
       "#'user/a"
      ]
     },
     "execution_count": 8,
     "metadata": {},
     "output_type": "execute_result"
    }
   ],
   "source": [
    "(hello)"
   ]
  },
  {
   "cell_type": "markdown",
   "id": "attached-calgary",
   "metadata": {},
   "source": [
    "lambda n: n * 2"
   ]
  },
  {
   "cell_type": "code",
   "execution_count": 1,
   "id": "olympic-discharge",
   "metadata": {
    "scrolled": true
   },
   "outputs": [
    {
     "data": {
      "text/plain": [
       "#function[user/eval4096/fn--4097]"
      ]
     },
     "execution_count": 1,
     "metadata": {},
     "output_type": "execute_result"
    }
   ],
   "source": [
    "(fn [n] (* n 2))"
   ]
  },
  {
   "cell_type": "code",
   "execution_count": 1,
   "id": "conventional-division",
   "metadata": {},
   "outputs": [
    {
     "data": {
      "text/plain": [
       "#function[user/eval5503/fn--5504]"
      ]
     },
     "execution_count": 1,
     "metadata": {},
     "output_type": "execute_result"
    }
   ],
   "source": [
    "#(* % 2)"
   ]
  },
  {
   "cell_type": "code",
   "execution_count": 4,
   "id": "seeing-grammar",
   "metadata": {},
   "outputs": [
    {
     "data": {
      "text/plain": [
       "#function[user/eval4104/fn--4105]"
      ]
     },
     "execution_count": 4,
     "metadata": {},
     "output_type": "execute_result"
    }
   ],
   "source": [
    "(fn [x] (cond (= x 0) \"영이다.\"\n",
    "      (= x 1) \"일이다.\"\n",
    "      :else \"다른거다.\"))"
   ]
  },
  {
   "cell_type": "code",
   "execution_count": 25,
   "id": "corrected-compression",
   "metadata": {},
   "outputs": [
    {
     "data": {
      "text/plain": [
       "#function[user/eval4157/fn--4158]"
      ]
     },
     "execution_count": 25,
     "metadata": {},
     "output_type": "execute_result"
    }
   ],
   "source": [
    "(fn [a] (fn [b] (a + b)))"
   ]
  },
  {
   "cell_type": "code",
   "execution_count": 14,
   "id": "national-victorian",
   "metadata": {},
   "outputs": [
    {
     "data": {
      "text/plain": [
       "java.text.SimpleDateFormat"
      ]
     },
     "execution_count": 14,
     "metadata": {},
     "output_type": "execute_result"
    }
   ],
   "source": [
    "(import '(java.util Date)\n",
    "        '(java.awt FlowLayout)\n",
    "        '(javax.swing JLabel JFrame)\n",
    "        '(java.text SimpleDateFormat))"
   ]
  },
  {
   "cell_type": "code",
   "execution_count": 15,
   "id": "eleven-letter",
   "metadata": {},
   "outputs": [
    {
     "data": {
      "text/plain": [
       "#'user/getTime"
      ]
     },
     "execution_count": 15,
     "metadata": {},
     "output_type": "execute_result"
    }
   ],
   "source": [
    "(defn getTime []\n",
    "    (Date.))"
   ]
  },
  {
   "cell_type": "code",
   "execution_count": 16,
   "id": "further-stockholm",
   "metadata": {},
   "outputs": [
    {
     "data": {
      "text/plain": [
       "#'user/editTime"
      ]
     },
     "execution_count": 16,
     "metadata": {},
     "output_type": "execute_result"
    }
   ],
   "source": [
    "(defn editTime [x]\n",
    "    (.format (SimpleDateFormat. \"yyyy년MM월dd일\") (getTime)))"
   ]
  },
  {
   "cell_type": "code",
   "execution_count": 18,
   "id": "banner-evening",
   "metadata": {},
   "outputs": [
    {
     "data": {
      "text/plain": [
       "#'user/aa"
      ]
     },
     "execution_count": 18,
     "metadata": {},
     "output_type": "execute_result"
    }
   ],
   "source": [
    "(defn aa []\n",
    "    (let [window (JFrame. \"시간 구하기\")\n",
    "          text (JLabel. (editTime (getTime)))]\n",
    "        (doto window\n",
    "            (.setLayout (FlowLayout.))\n",
    "            (.add text)\n",
    "            (.setDefaultCloseOperation (JFrame/EXIT_ON_CLOSE))\n",
    "            (.pack)\n",
    "            (.setVisible true)\n",
    "            )))"
   ]
  },
  {
   "cell_type": "code",
   "execution_count": 19,
   "id": "likely-cassette",
   "metadata": {
    "scrolled": true
   },
   "outputs": [
    {
     "name": "stderr",
     "output_type": "stream",
     "text": [
      "Execution error (HeadlessException) at java.awt.GraphicsEnvironment/checkHeadless (GraphicsEnvironment.java:204).\n",
      "\n",
      "No X11 DISPLAY variable was set, but this program performed an operation which requires it.\n"
     ]
    },
    {
     "ename": "class java.awt.HeadlessException",
     "evalue": "",
     "output_type": "error",
     "traceback": [
      "GraphicsEnvironment.java:   204 java.awt.GraphicsEnvironment/checkHeadless",
      "             Window.java:   536 java.awt.Window/<init>  ",
      "              Frame.java:   420 java.awt.Frame/<init>   ",
      "             JFrame.java:   233 javax.swing.JFrame/<init>",
      "                core.clj:  3214 clojure.core$eval/invokeStatic",
      "                core.clj:  3210 clojure.core$eval/invoke",
      "                main.clj:   437 clojure.main$repl$read_eval_print__9086$fn__9089/invoke",
      "                main.clj:   458 clojure.main$repl$fn__9095/invoke",
      "                main.clj:   368 clojure.main$repl/doInvoke",
      "             RestFn.java:  1523 clojure.lang.RestFn/invoke",
      "                AFn.java:    22 clojure.lang.AFn/run    ",
      "                AFn.java:    22 clojure.lang.AFn/run    ",
      "             Thread.java:   748 java.lang.Thread/run    "
     ]
    }
   ],
   "source": [
    "(aa)"
   ]
  },
  {
   "cell_type": "code",
   "execution_count": null,
   "id": "circular-french",
   "metadata": {},
   "outputs": [],
   "source": []
  }
 ],
 "metadata": {
  "kernelspec": {
   "display_name": "Clojure (clojupyter-0.3.2)",
   "language": "clojure",
   "name": "clojupyter-0.3.2"
  },
  "language_info": {
   "file_extension": ".clj",
   "mimetype": "text/x-clojure",
   "name": "clojure",
   "version": "1.10.1"
  },
  "toc": {
   "base_numbering": 1,
   "nav_menu": {},
   "number_sections": false,
   "sideBar": true,
   "skip_h1_title": false,
   "title_cell": "Table of Contents",
   "title_sidebar": "Contents",
   "toc_cell": false,
   "toc_position": {},
   "toc_section_display": true,
   "toc_window_display": false
  }
 },
 "nbformat": 4,
 "nbformat_minor": 5
}
