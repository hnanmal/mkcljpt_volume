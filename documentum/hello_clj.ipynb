{
 "cells": [
  {
   "cell_type": "code",
   "execution_count": 1,
   "id": "present-showcase",
   "metadata": {},
   "outputs": [
    {
     "name": "stdout",
     "output_type": "stream",
     "text": [
      "hello, clj !!"
     ]
    },
    {
     "data": {
      "text/plain": [
       "nil"
      ]
     },
     "execution_count": 1,
     "metadata": {},
     "output_type": "execute_result"
    }
   ],
   "source": [
    "(print \"hello, clj !!\")"
   ]
  },
  {
   "cell_type": "code",
   "execution_count": 2,
   "id": "danish-hunger",
   "metadata": {},
   "outputs": [
    {
     "data": {
      "text/plain": [
       "6"
      ]
     },
     "execution_count": 2,
     "metadata": {},
     "output_type": "execute_result"
    }
   ],
   "source": [
    "(+ 1 5)"
   ]
  },
  {
   "cell_type": "code",
   "execution_count": 3,
   "id": "short-rebate",
   "metadata": {},
   "outputs": [
    {
     "data": {
      "text/plain": [
       "6"
      ]
     },
     "execution_count": 3,
     "metadata": {},
     "output_type": "execute_result"
    }
   ],
   "source": [
    "(+ 1 2 3)"
   ]
  },
  {
   "cell_type": "code",
   "execution_count": 6,
   "id": "designed-guidance",
   "metadata": {},
   "outputs": [
    {
     "name": "stdout",
     "output_type": "stream",
     "text": [
      "10\n"
     ]
    },
    {
     "data": {
      "text/plain": [
       "nil"
      ]
     },
     "execution_count": 6,
     "metadata": {},
     "output_type": "execute_result"
    }
   ],
   "source": [
    "(def a 10) (println a)"
   ]
  },
  {
   "cell_type": "code",
   "execution_count": 7,
   "id": "monetary-admission",
   "metadata": {},
   "outputs": [
    {
     "data": {
      "text/plain": [
       "#'user/hello"
      ]
     },
     "execution_count": 7,
     "metadata": {},
     "output_type": "execute_result"
    }
   ],
   "source": [
    "(defn hello\n",
    "    []\n",
    "    (def a 3))"
   ]
  },
  {
   "cell_type": "code",
   "execution_count": 8,
   "id": "fabulous-palace",
   "metadata": {},
   "outputs": [
    {
     "data": {
      "text/plain": [
       "#'user/a"
      ]
     },
     "execution_count": 8,
     "metadata": {},
     "output_type": "execute_result"
    }
   ],
   "source": [
    "(hello)"
   ]
  },
  {
   "cell_type": "markdown",
   "id": "attached-calgary",
   "metadata": {},
   "source": [
    "lambda n: n * 2"
   ]
  },
  {
   "cell_type": "code",
   "execution_count": 1,
   "id": "olympic-discharge",
   "metadata": {
    "scrolled": true
   },
   "outputs": [
    {
     "data": {
      "text/plain": [
       "#function[user/eval4096/fn--4097]"
      ]
     },
     "execution_count": 1,
     "metadata": {},
     "output_type": "execute_result"
    }
   ],
   "source": [
    "(fn [n] (* n 2))"
   ]
  },
  {
   "cell_type": "code",
   "execution_count": 4,
   "id": "seeing-grammar",
   "metadata": {},
   "outputs": [
    {
     "data": {
      "text/plain": [
       "#function[user/eval4104/fn--4105]"
      ]
     },
     "execution_count": 4,
     "metadata": {},
     "output_type": "execute_result"
    }
   ],
   "source": [
    "(fn [x] (cond (= x 0) \"영이다.\"\n",
    "      (= x 1) \"일이다.\"\n",
    "      :else \"다른거다.\"))"
   ]
  },
  {
   "cell_type": "code",
   "execution_count": 25,
   "id": "corrected-compression",
   "metadata": {},
   "outputs": [
    {
     "data": {
      "text/plain": [
       "#function[user/eval4157/fn--4158]"
      ]
     },
     "execution_count": 25,
     "metadata": {},
     "output_type": "execute_result"
    }
   ],
   "source": [
    "(fn [a] (fn [b] (a + b)))"
   ]
  },
  {
   "cell_type": "code",
   "execution_count": null,
   "id": "national-victorian",
   "metadata": {},
   "outputs": [],
   "source": []
  }
 ],
 "metadata": {
  "kernelspec": {
   "display_name": "Clojure (clojupyter-0.3.2)",
   "language": "clojure",
   "name": "clojupyter-0.3.2"
  },
  "language_info": {
   "file_extension": ".clj",
   "mimetype": "text/x-clojure",
   "name": "clojure",
   "version": "1.10.1"
  }
 },
 "nbformat": 4,
 "nbformat_minor": 5
}
