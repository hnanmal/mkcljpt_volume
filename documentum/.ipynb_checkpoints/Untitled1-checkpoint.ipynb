{
 "cells": [
  {
   "cell_type": "code",
   "execution_count": 3,
   "id": "quiet-payment",
   "metadata": {},
   "outputs": [
    {
     "data": {
      "text/plain": [
       "nil"
      ]
     },
     "execution_count": 3,
     "metadata": {},
     "output_type": "execute_result"
    }
   ],
   "source": [
    "(require '[clojupyter.misc.helper :as helper])"
   ]
  },
  {
   "cell_type": "code",
   "execution_count": 4,
   "id": "steady-criterion",
   "metadata": {},
   "outputs": [
    {
     "name": "stderr",
     "output_type": "stream",
     "text": [
      "Execution error (ArtifactNotFoundException) at org.eclipse.aether.connector.basic.ArtifactTransportListener/transferFailed (ArtifactTransportListener.java:48).\n",
      "Could not find artifact koala:koala:jar:0.1.0-SNAPSHOT in central (https://repo1.maven.org/maven2/)\n"
     ]
    },
    {
     "ename": "class org.eclipse.aether.resolution.DependencyResolutionException",
     "evalue": "",
     "output_type": "error",
     "traceback": [
      "   ArtifactTransportListener.java:    48 org.eclipse.aether.connector.basic.ArtifactTransportListener/transferFailed",
      "    BasicRepositoryConnector.java:   364 org.eclipse.aether.connector.basic.BasicRepositoryConnector$TaskRunner/run",
      "      RunnableErrorForwarder.java:    75 org.eclipse.aether.util.concurrency.RunnableErrorForwarder$1/run",
      "    BasicRepositoryConnector.java:   590 org.eclipse.aether.connector.basic.BasicRepositoryConnector$DirectExecutor/execute",
      "    BasicRepositoryConnector.java:   258 org.eclipse.aether.connector.basic.BasicRepositoryConnector/get",
      "     DefaultArtifactResolver.java:   498 org.eclipse.aether.internal.impl.DefaultArtifactResolver/performDownloads",
      "     DefaultArtifactResolver.java:   399 org.eclipse.aether.internal.impl.DefaultArtifactResolver/resolve",
      "     DefaultArtifactResolver.java:   224 org.eclipse.aether.internal.impl.DefaultArtifactResolver/resolveArtifacts",
      "     DefaultRepositorySystem.java:   338 org.eclipse.aether.internal.impl.DefaultRepositorySystem/resolveDependencies",
      "    NativeMethodAccessorImpl.java:    -2 sun.reflect.NativeMethodAccessorImpl/invoke0",
      "    NativeMethodAccessorImpl.java:    62 sun.reflect.NativeMethodAccessorImpl/invoke",
      "DelegatingMethodAccessorImpl.java:    43 sun.reflect.DelegatingMethodAccessorImpl/invoke",
      "                      Method.java:   498 java.lang.reflect.Method/invoke  ",
      "                   Reflector.java:   167 clojure.lang.Reflector/invokeMatchingMethod",
      "                   Reflector.java:   102 clojure.lang.Reflector/invokeInstanceMethod",
      "                       aether.clj:   806 cemerick.pomegranate.aether$resolve_dependencies_STAR_/invokeStatic",
      "                       aether.clj:   707 cemerick.pomegranate.aether$resolve_dependencies_STAR_/doInvoke",
      "                      RestFn.java:   137 clojure.lang.RestFn/applyTo      ",
      "                         core.clj:   665 clojure.core$apply/invokeStatic  ",
      "                         core.clj:   660 clojure.core$apply/invoke        ",
      "                       aether.clj:   815 cemerick.pomegranate.aether$resolve_dependencies/invokeStatic",
      "                       aether.clj:   809 cemerick.pomegranate.aether$resolve_dependencies/doInvoke",
      "                      RestFn.java:   137 clojure.lang.RestFn/applyTo      ",
      "                         core.clj:   665 clojure.core$apply/invokeStatic  ",
      "                         core.clj:   660 clojure.core$apply/invoke        ",
      "                  pomegranate.clj:    83 cemerick.pomegranate$add_dependencies/invokeStatic",
      "                  pomegranate.clj:    57 cemerick.pomegranate$add_dependencies/doInvoke",
      "                      RestFn.java:   457 clojure.lang.RestFn/invoke       ",
      "                       helper.clj:    25 clojupyter.misc.helper$add_dependencies/invokeStatic",
      "                       helper.clj:    18 clojupyter.misc.helper$add_dependencies/doInvoke",
      "                      RestFn.java:   410 clojure.lang.RestFn/invoke       ",
      "                         core.clj:  3214 clojure.core$eval/invokeStatic   ",
      "                         core.clj:  3210 clojure.core$eval/invoke         ",
      "                         main.clj:   437 clojure.main$repl$read_eval_print__9086$fn__9089/invoke",
      "                         main.clj:   458 clojure.main$repl$fn__9095/invoke",
      "                         main.clj:   368 clojure.main$repl/doInvoke       ",
      "                      RestFn.java:  1523 clojure.lang.RestFn/invoke       ",
      "                         AFn.java:    22 clojure.lang.AFn/run             ",
      "                         AFn.java:    22 clojure.lang.AFn/run             ",
      "                      Thread.java:   748 java.lang.Thread/run             "
     ]
    }
   ],
   "source": [
    "(helper/add-dependencies '[koala \"0.1.0-SNAPSHOT\"])"
   ]
  },
  {
   "cell_type": "code",
   "execution_count": null,
   "id": "rapid-intellectual",
   "metadata": {},
   "outputs": [],
   "source": []
  }
 ],
 "metadata": {
  "kernelspec": {
   "display_name": "Clojure (clojupyter-0.3.2)",
   "language": "clojure",
   "name": "clojupyter-0.3.2"
  },
  "language_info": {
   "file_extension": ".clj",
   "mimetype": "text/x-clojure",
   "name": "clojure",
   "version": "1.10.1"
  },
  "toc": {
   "base_numbering": 1,
   "nav_menu": {},
   "number_sections": false,
   "sideBar": true,
   "skip_h1_title": false,
   "title_cell": "Table of Contents",
   "title_sidebar": "Contents",
   "toc_cell": false,
   "toc_position": {},
   "toc_section_display": true,
   "toc_window_display": false
  }
 },
 "nbformat": 4,
 "nbformat_minor": 5
}
