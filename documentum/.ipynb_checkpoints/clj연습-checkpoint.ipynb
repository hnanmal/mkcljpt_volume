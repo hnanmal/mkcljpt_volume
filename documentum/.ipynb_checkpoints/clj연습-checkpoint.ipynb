{
 "cells": [
  {
   "cell_type": "code",
   "execution_count": 1,
   "id": "described-breakfast",
   "metadata": {},
   "outputs": [],
   "source": [
    ";; (ns user.schema)"
   ]
  },
  {
   "cell_type": "code",
   "execution_count": 2,
   "id": "wicked-prince",
   "metadata": {},
   "outputs": [
    {
     "data": {
      "text/plain": [
       "nil"
      ]
     },
     "execution_count": 2,
     "metadata": {},
     "output_type": "execute_result"
    }
   ],
   "source": [
    "(ns joy.udp\n",
    " (:refer-clojure :exclude [get]))"
   ]
  },
  {
   "cell_type": "code",
   "execution_count": 3,
   "id": "quiet-payment",
   "metadata": {
    "scrolled": true
   },
   "outputs": [
    {
     "data": {
      "text/plain": [
       "nil"
      ]
     },
     "execution_count": 3,
     "metadata": {},
     "output_type": "execute_result"
    }
   ],
   "source": [
    "(require '[clojupyter.misc.helper :as helper])"
   ]
  },
  {
   "cell_type": "code",
   "execution_count": 4,
   "id": "specialized-monitoring",
   "metadata": {},
   "outputs": [
    {
     "name": "stderr",
     "output_type": "stream",
     "text": [
      "WARNING: delay already refers to: #'clojure.core/delay in namespace: joy.udp, being replaced by: #'joy.udp/delay\n"
     ]
    },
    {
     "data": {
      "text/plain": [
       "#'joy.udp/delay"
      ]
     },
     "execution_count": 4,
     "metadata": {},
     "output_type": "execute_result"
    }
   ],
   "source": [
    "(defmacro delay [expr]\n",
    "  `(fn [] ~expr))"
   ]
  },
  {
   "cell_type": "code",
   "execution_count": 5,
   "id": "micro-strength",
   "metadata": {},
   "outputs": [
    {
     "data": {
      "text/plain": [
       "#'joy.udp/delayed-print"
      ]
     },
     "execution_count": 5,
     "metadata": {},
     "output_type": "execute_result"
    }
   ],
   "source": [
    "(def delayed-print (delay (println \"지연되어야 합니다.\"))) ;; 이곳에서는 아무것도 출력되지 않습니다."
   ]
  },
  {
   "cell_type": "code",
   "execution_count": 6,
   "id": "absent-thousand",
   "metadata": {},
   "outputs": [
    {
     "name": "stdout",
     "output_type": "stream",
     "text": [
      "지연되어야 합니다.\n"
     ]
    },
    {
     "data": {
      "text/plain": [
       "nil"
      ]
     },
     "execution_count": 6,
     "metadata": {},
     "output_type": "execute_result"
    }
   ],
   "source": [
    "(delayed-print)  ;; \"지연되어야 합니다.\" 가 출력됩니다."
   ]
  },
  {
   "cell_type": "code",
   "execution_count": 7,
   "id": "natural-queen",
   "metadata": {},
   "outputs": [
    {
     "data": {
      "text/plain": [
       "#'joy.udp/zero"
      ]
     },
     "execution_count": 7,
     "metadata": {},
     "output_type": "execute_result"
    }
   ],
   "source": [
    "(def zero\n",
    "    (fn [f]\n",
    "        (fn [x] x)))"
   ]
  },
  {
   "cell_type": "code",
   "execution_count": 8,
   "id": "hazardous-gilbert",
   "metadata": {},
   "outputs": [
    {
     "data": {
      "text/plain": [
       "#'joy.udp/zero"
      ]
     },
     "execution_count": 8,
     "metadata": {},
     "output_type": "execute_result"
    }
   ],
   "source": [
    "(defn zero [f]\n",
    "    (fn [x]\n",
    "        x))"
   ]
  },
  {
   "cell_type": "code",
   "execution_count": 9,
   "id": "demonstrated-columbus",
   "metadata": {},
   "outputs": [],
   "source": [
    ";; (defn one [f]\n",
    ";;     (fn [x]\n",
    ";;         (f x)))"
   ]
  },
  {
   "cell_type": "code",
   "execution_count": 10,
   "id": "indian-error",
   "metadata": {},
   "outputs": [
    {
     "data": {
      "text/plain": [
       "#'joy.udp/one"
      ]
     },
     "execution_count": 10,
     "metadata": {},
     "output_type": "execute_result"
    }
   ],
   "source": [
    "(defn one [f]\n",
    "    (fn [x]\n",
    "        (-> x f)))"
   ]
  },
  {
   "cell_type": "code",
   "execution_count": 11,
   "id": "mineral-footwear",
   "metadata": {},
   "outputs": [],
   "source": [
    ";; (defn two [f]\n",
    ";;     (fn [x]\n",
    ";;         (f (f x))))"
   ]
  },
  {
   "cell_type": "code",
   "execution_count": 12,
   "id": "little-remainder",
   "metadata": {},
   "outputs": [
    {
     "data": {
      "text/plain": [
       "#'joy.udp/two"
      ]
     },
     "execution_count": 12,
     "metadata": {},
     "output_type": "execute_result"
    }
   ],
   "source": [
    "(defn two [f]\n",
    "    (fn [x]\n",
    "        (-> x f f)))"
   ]
  },
  {
   "cell_type": "code",
   "execution_count": 13,
   "id": "innovative-oriental",
   "metadata": {},
   "outputs": [],
   "source": [
    ";; (defn three [f]\n",
    ";;     (fn [x]\n",
    ";;         (f (f (f x)))))"
   ]
  },
  {
   "cell_type": "code",
   "execution_count": 14,
   "id": "amber-tract",
   "metadata": {},
   "outputs": [
    {
     "data": {
      "text/plain": [
       "#'joy.udp/three"
      ]
     },
     "execution_count": 14,
     "metadata": {},
     "output_type": "execute_result"
    }
   ],
   "source": [
    "(defn three [f]\n",
    "    (fn [x]\n",
    "        (-> x f f f)))"
   ]
  },
  {
   "cell_type": "code",
   "execution_count": 15,
   "id": "abandoned-administration",
   "metadata": {},
   "outputs": [
    {
     "data": {
      "text/plain": [
       "#'joy.udp/printNumber"
      ]
     },
     "execution_count": 15,
     "metadata": {},
     "output_type": "execute_result"
    }
   ],
   "source": [
    "(defn printNumber [f]\n",
    "    ((f\n",
    "      (fn [n]\n",
    "         (str n \"+1\"))\n",
    "      ) \"0\"))"
   ]
  },
  {
   "cell_type": "code",
   "execution_count": 16,
   "id": "another-edinburgh",
   "metadata": {},
   "outputs": [
    {
     "data": {
      "text/plain": [
       "\"0+1\""
      ]
     },
     "execution_count": 16,
     "metadata": {},
     "output_type": "execute_result"
    }
   ],
   "source": [
    "(printNumber one)"
   ]
  },
  {
   "cell_type": "code",
   "execution_count": 17,
   "id": "inner-impossible",
   "metadata": {},
   "outputs": [
    {
     "data": {
      "text/plain": [
       "\"0+1+1\""
      ]
     },
     "execution_count": 17,
     "metadata": {},
     "output_type": "execute_result"
    }
   ],
   "source": [
    "(printNumber two)"
   ]
  },
  {
   "cell_type": "code",
   "execution_count": 18,
   "id": "civil-candle",
   "metadata": {},
   "outputs": [
    {
     "data": {
      "text/plain": [
       "\"0+1+1+1\""
      ]
     },
     "execution_count": 18,
     "metadata": {},
     "output_type": "execute_result"
    }
   ],
   "source": [
    "(printNumber three)"
   ]
  },
  {
   "cell_type": "code",
   "execution_count": 19,
   "id": "chronic-ecology",
   "metadata": {},
   "outputs": [
    {
     "data": {
      "text/plain": [
       "#'joy.udp/beget"
      ]
     },
     "execution_count": 19,
     "metadata": {},
     "output_type": "execute_result"
    }
   ],
   "source": [
    "(defn beget [o p]\n",
    "    (assoc o ::prototype p))"
   ]
  },
  {
   "cell_type": "code",
   "execution_count": 20,
   "id": "recreational-session",
   "metadata": {},
   "outputs": [
    {
     "data": {
      "text/plain": [
       "#'joy.udp/mapA"
      ]
     },
     "execution_count": 20,
     "metadata": {},
     "output_type": "execute_result"
    }
   ],
   "source": [
    "(def mapA\n",
    "    (beget {:sub 0} {:super 1}))"
   ]
  },
  {
   "cell_type": "code",
   "execution_count": 21,
   "id": "exact-cartridge",
   "metadata": {},
   "outputs": [
    {
     "data": {
      "text/plain": [
       "{:super 1}"
      ]
     },
     "execution_count": 21,
     "metadata": {},
     "output_type": "execute_result"
    }
   ],
   "source": [
    "(:joy.udp/prototype mapA)"
   ]
  },
  {
   "cell_type": "code",
   "execution_count": 22,
   "id": "enormous-saver",
   "metadata": {},
   "outputs": [
    {
     "data": {
      "text/plain": [
       "#'joy.udp/put"
      ]
     },
     "execution_count": 22,
     "metadata": {},
     "output_type": "execute_result"
    }
   ],
   "source": [
    "(defn put [m k v]\n",
    " (when m\n",
    " (assoc m k v)))"
   ]
  },
  {
   "cell_type": "code",
   "execution_count": 23,
   "id": "aquatic-trigger",
   "metadata": {},
   "outputs": [
    {
     "data": {
      "text/plain": [
       "#'joy.udp/get"
      ]
     },
     "execution_count": 23,
     "metadata": {},
     "output_type": "execute_result"
    }
   ],
   "source": [
    "(defn get [m k]\n",
    " (when m\n",
    " (if (contains? m k)\n",
    " (m k)\n",
    " (recur (::prototype m) k))))"
   ]
  },
  {
   "cell_type": "code",
   "execution_count": 24,
   "id": "chinese-birmingham",
   "metadata": {},
   "outputs": [
    {
     "data": {
      "text/plain": [
       "1"
      ]
     },
     "execution_count": 24,
     "metadata": {},
     "output_type": "execute_result"
    }
   ],
   "source": [
    "(get mapA :super)"
   ]
  },
  {
   "cell_type": "code",
   "execution_count": 25,
   "id": "incoming-final",
   "metadata": {},
   "outputs": [
    {
     "name": "stderr",
     "output_type": "stream",
     "text": [
      "WARNING: cat already refers to: #'clojure.core/cat in namespace: joy.udp, being replaced by: #'joy.udp/cat\n"
     ]
    },
    {
     "data": {
      "text/plain": [
       "#'joy.udp/post-traumatic-morris"
      ]
     },
     "execution_count": 25,
     "metadata": {},
     "output_type": "execute_result"
    }
   ],
   "source": [
    "(def cat {:likes-dogs true, :ocd-bathing true})\n",
    "(def morris (beget {:likes-9lives true} cat))\n",
    "(def post-traumatic-morris (beget {:likes-dogs nil} morris))"
   ]
  },
  {
   "cell_type": "code",
   "execution_count": 26,
   "id": "industrial-fantasy",
   "metadata": {},
   "outputs": [
    {
     "data": {
      "text/plain": [
       "true"
      ]
     },
     "execution_count": 26,
     "metadata": {},
     "output_type": "execute_result"
    }
   ],
   "source": [
    "(get cat :likes-dogs)"
   ]
  },
  {
   "cell_type": "code",
   "execution_count": 27,
   "id": "ecological-weapon",
   "metadata": {},
   "outputs": [
    {
     "data": {
      "text/plain": [
       "true"
      ]
     },
     "execution_count": 27,
     "metadata": {},
     "output_type": "execute_result"
    }
   ],
   "source": [
    "(get morris :likes-dogs)"
   ]
  },
  {
   "cell_type": "code",
   "execution_count": 28,
   "id": "former-october",
   "metadata": {},
   "outputs": [
    {
     "data": {
      "text/plain": [
       "nil"
      ]
     },
     "execution_count": 28,
     "metadata": {},
     "output_type": "execute_result"
    }
   ],
   "source": [
    "(get post-traumatic-morris :likes-dogs)"
   ]
  },
  {
   "cell_type": "code",
   "execution_count": 29,
   "id": "fiscal-credit",
   "metadata": {},
   "outputs": [
    {
     "data": {
      "text/plain": [
       "#multifn[compiler 0x158adad7]"
      ]
     },
     "execution_count": 29,
     "metadata": {},
     "output_type": "execute_result"
    }
   ],
   "source": [
    "(defmulti compiler :os)\n",
    "(defmethod compiler ::unix [m] (get m :c-compiler))\n",
    "(defmethod compiler ::osx [m] (get m :c-compiler))"
   ]
  },
  {
   "cell_type": "code",
   "execution_count": 30,
   "id": "aggressive-composite",
   "metadata": {},
   "outputs": [
    {
     "data": {
      "text/plain": [
       "#'joy.udp/clone"
      ]
     },
     "execution_count": 30,
     "metadata": {},
     "output_type": "execute_result"
    }
   ],
   "source": [
    "(def clone (partial beget {}))"
   ]
  },
  {
   "cell_type": "code",
   "execution_count": 31,
   "id": "wicked-wellington",
   "metadata": {},
   "outputs": [
    {
     "data": {
      "text/plain": [
       "#'joy.udp/unix"
      ]
     },
     "execution_count": 31,
     "metadata": {},
     "output_type": "execute_result"
    }
   ],
   "source": [
    "(def unix {:os ::unix, :c-compiler \"cc\", :home \"/home\", :dev \"/dev\"})"
   ]
  },
  {
   "cell_type": "code",
   "execution_count": 32,
   "id": "decent-equality",
   "metadata": {},
   "outputs": [
    {
     "data": {
      "text/plain": [
       "#'joy.udp/osx"
      ]
     },
     "execution_count": 32,
     "metadata": {},
     "output_type": "execute_result"
    }
   ],
   "source": [
    "(def osx \n",
    "    (-> \n",
    "        (clone unix) \n",
    "        (put :os ::osx) \n",
    "        (put :c-compiler \"gcc\") \n",
    "        (put :home \"/Users\")))"
   ]
  },
  {
   "cell_type": "code",
   "execution_count": 33,
   "id": "authentic-separation",
   "metadata": {},
   "outputs": [
    {
     "data": {
      "text/plain": [
       "\"cc\""
      ]
     },
     "execution_count": 33,
     "metadata": {},
     "output_type": "execute_result"
    }
   ],
   "source": [
    "(compiler unix)"
   ]
  },
  {
   "cell_type": "code",
   "execution_count": 34,
   "id": "exclusive-poetry",
   "metadata": {},
   "outputs": [
    {
     "data": {
      "text/plain": [
       "\"gcc\""
      ]
     },
     "execution_count": 34,
     "metadata": {},
     "output_type": "execute_result"
    }
   ],
   "source": [
    "(compiler osx)"
   ]
  },
  {
   "cell_type": "code",
   "execution_count": null,
   "id": "bridal-encoding",
   "metadata": {},
   "outputs": [],
   "source": []
  }
 ],
 "metadata": {
  "kernelspec": {
   "display_name": "Clojure (clojupyter-0.3.2)",
   "language": "clojure",
   "name": "clojupyter-0.3.2"
  },
  "language_info": {
   "file_extension": ".clj",
   "mimetype": "text/x-clojure",
   "name": "clojure",
   "version": "1.10.1"
  },
  "toc": {
   "base_numbering": 1,
   "nav_menu": {},
   "number_sections": false,
   "sideBar": true,
   "skip_h1_title": false,
   "title_cell": "Table of Contents",
   "title_sidebar": "Contents",
   "toc_cell": false,
   "toc_position": {},
   "toc_section_display": true,
   "toc_window_display": false
  }
 },
 "nbformat": 4,
 "nbformat_minor": 5
}
