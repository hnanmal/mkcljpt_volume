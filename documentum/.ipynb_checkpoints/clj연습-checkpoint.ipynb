{
 "cells": [
  {
   "cell_type": "code",
   "execution_count": 10,
   "id": "described-breakfast",
   "metadata": {},
   "outputs": [
    {
     "data": {
      "text/plain": [
       "nil"
      ]
     },
     "execution_count": 10,
     "metadata": {},
     "output_type": "execute_result"
    }
   ],
   "source": [
    "(ns user.schema)"
   ]
  },
  {
   "cell_type": "code",
   "execution_count": 11,
   "id": "quiet-payment",
   "metadata": {
    "scrolled": true
   },
   "outputs": [
    {
     "data": {
      "text/plain": [
       "nil"
      ]
     },
     "execution_count": 11,
     "metadata": {},
     "output_type": "execute_result"
    }
   ],
   "source": [
    "(require '[clojupyter.misc.helper :as helper])"
   ]
  },
  {
   "cell_type": "code",
   "execution_count": 1,
   "id": "specialized-monitoring",
   "metadata": {},
   "outputs": [
    {
     "name": "stderr",
     "output_type": "stream",
     "text": [
      "WARNING: delay already refers to: #'clojure.core/delay in namespace: user, being replaced by: #'user/delay\n"
     ]
    },
    {
     "data": {
      "text/plain": [
       "#'user/delay"
      ]
     },
     "execution_count": 1,
     "metadata": {},
     "output_type": "execute_result"
    }
   ],
   "source": [
    "(defmacro delay [expr]\n",
    "  `(fn [] ~expr))"
   ]
  },
  {
   "cell_type": "code",
   "execution_count": 2,
   "id": "micro-strength",
   "metadata": {},
   "outputs": [
    {
     "data": {
      "text/plain": [
       "#'user/delayed-print"
      ]
     },
     "execution_count": 2,
     "metadata": {},
     "output_type": "execute_result"
    }
   ],
   "source": [
    "(def delayed-print (delay (println \"지연되어야 합니다.\"))) ;; 이곳에서는 아무것도 출력되지 않습니다."
   ]
  },
  {
   "cell_type": "code",
   "execution_count": 3,
   "id": "absent-thousand",
   "metadata": {},
   "outputs": [
    {
     "name": "stdout",
     "output_type": "stream",
     "text": [
      "지연되어야 합니다.\n"
     ]
    },
    {
     "data": {
      "text/plain": [
       "nil"
      ]
     },
     "execution_count": 3,
     "metadata": {},
     "output_type": "execute_result"
    }
   ],
   "source": [
    "(delayed-print)  ;; \"지연되어야 합니다.\" 가 출력됩니다."
   ]
  },
  {
   "cell_type": "code",
   "execution_count": 11,
   "id": "natural-queen",
   "metadata": {},
   "outputs": [
    {
     "data": {
      "text/plain": [
       "#'user/zero"
      ]
     },
     "execution_count": 11,
     "metadata": {},
     "output_type": "execute_result"
    }
   ],
   "source": [
    "(def zero\n",
    "    (fn [f]\n",
    "        (fn [x] x)))"
   ]
  },
  {
   "cell_type": "code",
   "execution_count": 12,
   "id": "hazardous-gilbert",
   "metadata": {},
   "outputs": [
    {
     "data": {
      "text/plain": [
       "#'user/zero"
      ]
     },
     "execution_count": 12,
     "metadata": {},
     "output_type": "execute_result"
    }
   ],
   "source": [
    "(defn zero [f]\n",
    "    (fn [x] x))"
   ]
  },
  {
   "cell_type": "code",
   "execution_count": 32,
   "id": "demonstrated-columbus",
   "metadata": {},
   "outputs": [
    {
     "data": {
      "text/plain": [
       "#'user/one"
      ]
     },
     "execution_count": 32,
     "metadata": {},
     "output_type": "execute_result"
    }
   ],
   "source": [
    "(defn one [f]\n",
    "    (fn [x]\n",
    "        (f x)))"
   ]
  },
  {
   "cell_type": "code",
   "execution_count": 33,
   "id": "mineral-footwear",
   "metadata": {},
   "outputs": [
    {
     "data": {
      "text/plain": [
       "#'user/two"
      ]
     },
     "execution_count": 33,
     "metadata": {},
     "output_type": "execute_result"
    }
   ],
   "source": [
    "(defn two [f]\n",
    "    (fn [x]\n",
    "        (f (f x))))"
   ]
  },
  {
   "cell_type": "code",
   "execution_count": 34,
   "id": "innovative-oriental",
   "metadata": {},
   "outputs": [
    {
     "data": {
      "text/plain": [
       "#'user/three"
      ]
     },
     "execution_count": 34,
     "metadata": {},
     "output_type": "execute_result"
    }
   ],
   "source": [
    "(defn three [f]\n",
    "    (fn [x]\n",
    "        (f (f (f x)))))"
   ]
  },
  {
   "cell_type": "code",
   "execution_count": 46,
   "id": "abandoned-administration",
   "metadata": {},
   "outputs": [
    {
     "data": {
      "text/plain": [
       "#'user/printNumber"
      ]
     },
     "execution_count": 46,
     "metadata": {},
     "output_type": "execute_result"
    }
   ],
   "source": [
    "(defn printNumber [f]\n",
    "    ((f\n",
    "      (fn [n]\n",
    "         (str n \"+1\"))\n",
    "      ) \"0\"))"
   ]
  },
  {
   "cell_type": "code",
   "execution_count": 47,
   "id": "another-edinburgh",
   "metadata": {},
   "outputs": [
    {
     "data": {
      "text/plain": [
       "\"0+1\""
      ]
     },
     "execution_count": 47,
     "metadata": {},
     "output_type": "execute_result"
    }
   ],
   "source": [
    "(printNumber one)"
   ]
  },
  {
   "cell_type": "code",
   "execution_count": 48,
   "id": "inner-impossible",
   "metadata": {},
   "outputs": [
    {
     "data": {
      "text/plain": [
       "\"0+1+1\""
      ]
     },
     "execution_count": 48,
     "metadata": {},
     "output_type": "execute_result"
    }
   ],
   "source": [
    "(printNumber two)"
   ]
  },
  {
   "cell_type": "code",
   "execution_count": 49,
   "id": "civil-candle",
   "metadata": {},
   "outputs": [
    {
     "data": {
      "text/plain": [
       "\"0+1+1+1\""
      ]
     },
     "execution_count": 49,
     "metadata": {},
     "output_type": "execute_result"
    }
   ],
   "source": [
    "(printNumber three)"
   ]
  },
  {
   "cell_type": "code",
   "execution_count": null,
   "id": "fifty-chain",
   "metadata": {},
   "outputs": [],
   "source": []
  }
 ],
 "metadata": {
  "kernelspec": {
   "display_name": "Clojure (clojupyter-0.3.2)",
   "language": "clojure",
   "name": "clojupyter-0.3.2"
  },
  "language_info": {
   "file_extension": ".clj",
   "mimetype": "text/x-clojure",
   "name": "clojure",
   "version": "1.10.1"
  },
  "toc": {
   "base_numbering": 1,
   "nav_menu": {},
   "number_sections": false,
   "sideBar": true,
   "skip_h1_title": false,
   "title_cell": "Table of Contents",
   "title_sidebar": "Contents",
   "toc_cell": false,
   "toc_position": {},
   "toc_section_display": true,
   "toc_window_display": false
  }
 },
 "nbformat": 4,
 "nbformat_minor": 5
}
