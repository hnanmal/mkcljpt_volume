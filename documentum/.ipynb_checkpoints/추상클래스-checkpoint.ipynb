{
 "cells": [
  {
   "cell_type": "code",
   "execution_count": 5,
   "id": "hydraulic-crawford",
   "metadata": {},
   "outputs": [
    {
     "name": "stdout",
     "output_type": "stream",
     "text": [
      "(1, 2)\n",
      "(1, 2)\n"
     ]
    }
   ],
   "source": [
    "class Coord(object):\n",
    "    def __init__(self, x, y):\n",
    "        self.x, self.y = x, y\n",
    "\n",
    "point = Coord(1, 2)\n",
    "print( '({}, {})'.format(point.x, point.y) ) \n",
    "\n",
    "# 또는\n",
    "def print_coord(coord):\n",
    "    print( '({}, {})'.format(coord.x, coord.y) )\n",
    "print_coord(point)"
   ]
  },
  {
   "cell_type": "code",
   "execution_count": 6,
   "id": "opening-trial",
   "metadata": {},
   "outputs": [],
   "source": [
    "class Coord(object):\n",
    "    def __init__ (self, x, y):\n",
    "        self.x, self.y = x, y\n",
    "    def __str__ (self):\n",
    "        return '({}, {})'.format(self.x, self.y)\n",
    "\n",
    "point = Coord(1, 2)"
   ]
  },
  {
   "cell_type": "code",
   "execution_count": 8,
   "id": "cloudy-accounting",
   "metadata": {},
   "outputs": [
    {
     "name": "stdout",
     "output_type": "stream",
     "text": [
      "(1, 2)\n"
     ]
    }
   ],
   "source": [
    "print(point)"
   ]
  },
  {
   "cell_type": "code",
   "execution_count": 9,
   "id": "varying-payment",
   "metadata": {},
   "outputs": [
    {
     "name": "stdout",
     "output_type": "stream",
     "text": [
      "lee sending message=안녕하세요\n",
      "kim receiving message=안녕하세요\n",
      "park receiving message=안녕하세요\n",
      "yon receiving message=안녕하세요\n",
      "kim sending message=yon없지?\n",
      "lee receiving message=yon없지?\n",
      "park receiving message=yon없지?\n"
     ]
    }
   ],
   "source": [
    "from abc import ABCMeta, abstractmethod\n",
    "\n",
    "class Colleague(metaclass=ABCMeta):\n",
    "    def __init__(self, _mediator, name):\n",
    "        self.mediator = _mediator\n",
    "        self.name = name\n",
    "\n",
    "    @abstractmethod\n",
    "    def send(self, msg:str):\n",
    "        pass\n",
    "\n",
    "    @abstractmethod\n",
    "    def receive(self, msg:str):\n",
    "        pass\n",
    "\n",
    "class Mediator(metaclass=ABCMeta):\n",
    "    @abstractmethod\n",
    "    def add_users(self, user):\n",
    "        pass\n",
    "\n",
    "    @abstractmethod\n",
    "    def delete_user(self, user):\n",
    "        pass\n",
    "\n",
    "    @abstractmethod\n",
    "    def send_message(self, msg:str, user):\n",
    "        pass\n",
    "\n",
    "class ConcreteMediator(Mediator):\n",
    "    def __init__(self):\n",
    "        self.users = []\n",
    "\n",
    "    def add_users(self, *users):\n",
    "        self.users.extend(users)\n",
    "\n",
    "    def delete_user(self, user):\n",
    "        self.users.remove(user)\n",
    "\n",
    "    def send_message(self, msg: str, user):\n",
    "        for _user in self.users:\n",
    "            if _user == user:\n",
    "                continue\n",
    "            _user.receive(msg)\n",
    "\n",
    "class ConcreteColleague(Colleague):\n",
    "    def __init__(self, mediator, name):\n",
    "        super().__init__(mediator, name)\n",
    "\n",
    "    def send(self, msg: str):\n",
    "        print(f'{self.name} sending message={msg}')\n",
    "        self.mediator.send_message(msg, self)\n",
    "\n",
    "    def receive(self, msg: str):\n",
    "        print(f'{self.name} receiving message={msg}')\n",
    "\n",
    "mediator = ConcreteMediator()\n",
    "user1 = ConcreteColleague(mediator, 'lee')\n",
    "user2 = ConcreteColleague(mediator, 'kim')\n",
    "user3 = ConcreteColleague(mediator, 'park')\n",
    "user4 = ConcreteColleague(mediator, 'yon')\n",
    "\n",
    "mediator.add_users(user1, user2, user3, user4)\n",
    "user1.send(\"안녕하세요\")\n",
    "mediator.delete_user(user4)\n",
    "user2.send(\"yon없지?\")"
   ]
  },
  {
   "cell_type": "code",
   "execution_count": null,
   "id": "behind-style",
   "metadata": {},
   "outputs": [],
   "source": []
  }
 ],
 "metadata": {
  "kernelspec": {
   "display_name": "Python 3",
   "language": "python",
   "name": "python3"
  },
  "language_info": {
   "codemirror_mode": {
    "name": "ipython",
    "version": 3
   },
   "file_extension": ".py",
   "mimetype": "text/x-python",
   "name": "python",
   "nbconvert_exporter": "python",
   "pygments_lexer": "ipython3",
   "version": "3.8.8"
  },
  "toc": {
   "base_numbering": 1,
   "nav_menu": {},
   "number_sections": false,
   "sideBar": true,
   "skip_h1_title": false,
   "title_cell": "Table of Contents",
   "title_sidebar": "Contents",
   "toc_cell": false,
   "toc_position": {},
   "toc_section_display": true,
   "toc_window_display": false
  }
 },
 "nbformat": 4,
 "nbformat_minor": 5
}
