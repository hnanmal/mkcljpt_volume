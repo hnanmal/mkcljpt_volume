{
 "cells": [
  {
   "cell_type": "code",
   "execution_count": 1,
   "id": "facial-baltimore",
   "metadata": {},
   "outputs": [
    {
     "data": {
      "text/plain": [
       "4"
      ]
     },
     "execution_count": 1,
     "metadata": {},
     "output_type": "execute_result"
    }
   ],
   "source": [
    "1 + 3"
   ]
  },
  {
   "cell_type": "code",
   "execution_count": 2,
   "id": "reliable-range",
   "metadata": {},
   "outputs": [
    {
     "data": {
      "text/plain": [
       "-2"
      ]
     },
     "execution_count": 2,
     "metadata": {},
     "output_type": "execute_result"
    }
   ],
   "source": [
    "1 - 3"
   ]
  },
  {
   "cell_type": "code",
   "execution_count": 3,
   "id": "decreased-anchor",
   "metadata": {},
   "outputs": [
    {
     "data": {
      "text/plain": [
       "3"
      ]
     },
     "execution_count": 3,
     "metadata": {},
     "output_type": "execute_result"
    }
   ],
   "source": [
    "1 * 3"
   ]
  },
  {
   "cell_type": "code",
   "execution_count": 4,
   "id": "selected-broadcast",
   "metadata": {},
   "outputs": [
    {
     "data": {
      "text/plain": [
       "0.3333333333333333"
      ]
     },
     "execution_count": 4,
     "metadata": {},
     "output_type": "execute_result"
    }
   ],
   "source": [
    "1 / 3"
   ]
  },
  {
   "cell_type": "code",
   "execution_count": 5,
   "id": "recent-toilet",
   "metadata": {},
   "outputs": [
    {
     "data": {
      "text/plain": [
       "1"
      ]
     },
     "execution_count": 5,
     "metadata": {},
     "output_type": "execute_result"
    }
   ],
   "source": [
    "1 % 3"
   ]
  },
  {
   "cell_type": "code",
   "execution_count": 6,
   "id": "conscious-fifty",
   "metadata": {},
   "outputs": [],
   "source": [
    "시험성적 = [100, 98, 70, 56, 86, 77, 58, 36, 59, 87, 41, 42, 23, 55, 86, 95, 92]"
   ]
  },
  {
   "cell_type": "code",
   "execution_count": 7,
   "id": "consistent-spank",
   "metadata": {},
   "outputs": [
    {
     "data": {
      "text/plain": [
       "1161"
      ]
     },
     "execution_count": 7,
     "metadata": {},
     "output_type": "execute_result"
    }
   ],
   "source": [
    "## SUM ##\n",
    "sum(시험성적)"
   ]
  },
  {
   "cell_type": "code",
   "execution_count": 8,
   "id": "determined-lunch",
   "metadata": {},
   "outputs": [
    {
     "data": {
      "text/plain": [
       "68.29411764705883"
      ]
     },
     "execution_count": 8,
     "metadata": {},
     "output_type": "execute_result"
    }
   ],
   "source": [
    "## AVERAGE ##\n",
    "sum(시험성적) / len(시험성적)"
   ]
  },
  {
   "cell_type": "code",
   "execution_count": 9,
   "id": "wrapped-edward",
   "metadata": {},
   "outputs": [
    {
     "data": {
      "text/plain": [
       "100"
      ]
     },
     "execution_count": 9,
     "metadata": {},
     "output_type": "execute_result"
    }
   ],
   "source": [
    "## MAX ##\n",
    "max(시험성적)"
   ]
  },
  {
   "cell_type": "code",
   "execution_count": 10,
   "id": "unique-thomson",
   "metadata": {},
   "outputs": [
    {
     "data": {
      "text/plain": [
       "23"
      ]
     },
     "execution_count": 10,
     "metadata": {},
     "output_type": "execute_result"
    }
   ],
   "source": [
    "## MIN ##\n",
    "min(시험성적)"
   ]
  },
  {
   "cell_type": "code",
   "execution_count": 11,
   "id": "acquired-brazilian",
   "metadata": {},
   "outputs": [
    {
     "data": {
      "text/plain": [
       "17"
      ]
     },
     "execution_count": 11,
     "metadata": {},
     "output_type": "execute_result"
    }
   ],
   "source": [
    "## COUNT ##\n",
    "len(시험성적)"
   ]
  },
  {
   "cell_type": "code",
   "execution_count": 36,
   "id": "outer-george",
   "metadata": {},
   "outputs": [],
   "source": [
    "학생DB = [\n",
    "    {\"학번\": 1111, \"이름\": \"김똑딱\", \"점수\": 100},\n",
    "    {\"학번\": 1112, \"이름\": \"이당돌\", \"점수\": 98},\n",
    "    {\"학번\": 1113, \"이름\": \"박혁수\", \"점수\": 70},\n",
    "    {\"학번\": 1114, \"이름\": \"최직박\", \"점수\": 56},\n",
    "    {\"학번\": 1115, \"이름\": \"정호두\", \"점수\": 86},\n",
    "    {\"학번\": 1116, \"이름\": \"윤사과\", \"점수\": 77},\n",
    "    {\"학번\": 1117, \"이름\": \"심감자\", \"점수\": 58},\n",
    "    {\"학번\": 1118, \"이름\": \"장석류\", \"점수\": 36},\n",
    "    {\"학번\": 1119, \"이름\": \"최수박\", \"점수\": 59},\n",
    "    {\"학번\": 1120, \"이름\": \"이배추\", \"점수\": 87},\n",
    "    {\"학번\": 1121, \"이름\": \"박상추\", \"점수\": 41},\n",
    "    {\"학번\": 1122, \"이름\": \"고양파\", \"점수\": 42},\n",
    "    {\"학번\": 1123, \"이름\": \"선대파\", \"점수\": 23},\n",
    "    {\"학번\": 1124, \"이름\": \"심당근\", \"점수\": 55}\n",
    "]"
   ]
  },
  {
   "cell_type": "code",
   "execution_count": 37,
   "id": "occupational-stroke",
   "metadata": {},
   "outputs": [
    {
     "data": {
      "text/plain": [
       "('정호두', 86)"
      ]
     },
     "execution_count": 37,
     "metadata": {},
     "output_type": "execute_result"
    }
   ],
   "source": [
    "## VLOOKUP ##\n",
    "\n",
    "조회대상 = 1115\n",
    "\n",
    "for i in 학생DB:\n",
    "    if i[\"학번\"] == 조회대상:\n",
    "        조회결과 = (i[\"이름\"], i[\"점수\"])\n",
    "        \n",
    "조회결과"
   ]
  },
  {
   "cell_type": "code",
   "execution_count": 53,
   "id": "molecular-dover",
   "metadata": {},
   "outputs": [],
   "source": [
    "## vlookup 함수 선언 ##\n",
    "def vlookup(재료1, 재료2, 재료3):\n",
    "    for i in 재료2:\n",
    "        if i[\"학번\"] == 재료1:\n",
    "            조회결과 = (i[\"이름\"], i[재료3])\n",
    "        \n",
    "    return 조회결과"
   ]
  },
  {
   "cell_type": "code",
   "execution_count": 56,
   "id": "entertaining-mouse",
   "metadata": {},
   "outputs": [
    {
     "data": {
      "text/plain": [
       "('정호두', 86)"
      ]
     },
     "execution_count": 56,
     "metadata": {},
     "output_type": "execute_result"
    }
   ],
   "source": [
    "## 이제 부터는 길고 복잡한 for 문을 일일이 작성할 필요 없이,\n",
    "## vlookup함수를 호출해서 사용하면 된다.\n",
    "\n",
    "vlookup(1115, 학생DB, \"점수\")"
   ]
  },
  {
   "cell_type": "code",
   "execution_count": 55,
   "id": "adjacent-removal",
   "metadata": {},
   "outputs": [
    {
     "data": {
      "text/plain": [
       "('심감자', 58)"
      ]
     },
     "execution_count": 55,
     "metadata": {},
     "output_type": "execute_result"
    }
   ],
   "source": [
    "vlookup(1117, 학생DB, \"점수\")"
   ]
  },
  {
   "cell_type": "code",
   "execution_count": null,
   "id": "norwegian-recall",
   "metadata": {},
   "outputs": [],
   "source": []
  },
  {
   "cell_type": "code",
   "execution_count": 38,
   "id": "medieval-python",
   "metadata": {},
   "outputs": [],
   "source": [
    "학생rawData = [\n",
    "    [\"학번\", \"이름\", '점수'],\n",
    "    [1111, \"김똑딱\", 100],\n",
    "    [1112, \"이당돌\", 98],\n",
    "    [1113, \"박혁수\", 70],\n",
    "    [1114, \"최직박\", 56],\n",
    "    [1115, \"정호두\", 86],\n",
    "    [1116, \"윤사과\", 77],\n",
    "    [1117, \"심감자\", 58],\n",
    "    [1118, \"장석류\", 36],\n",
    "    [1119, \"최수박\", 59],\n",
    "    [1120, \"이배추\", 87],\n",
    "    [1121, \"박상추\", 41],\n",
    "    [1122, \"고양파\", 42],\n",
    "    [1123, \"선대파\", 23],\n",
    "    [1124, \"심당근\", 55]\n",
    "]"
   ]
  },
  {
   "cell_type": "code",
   "execution_count": 39,
   "id": "small-consent",
   "metadata": {},
   "outputs": [
    {
     "data": {
      "text/plain": [
       "[{'학번': 1111, '이름': '김똑딱', '점수': 100},\n",
       " {'학번': 1112, '이름': '이당돌', '점수': 98},\n",
       " {'학번': 1113, '이름': '박혁수', '점수': 70},\n",
       " {'학번': 1114, '이름': '최직박', '점수': 56},\n",
       " {'학번': 1115, '이름': '정호두', '점수': 86},\n",
       " {'학번': 1116, '이름': '윤사과', '점수': 77},\n",
       " {'학번': 1117, '이름': '심감자', '점수': 58},\n",
       " {'학번': 1118, '이름': '장석류', '점수': 36},\n",
       " {'학번': 1119, '이름': '최수박', '점수': 59},\n",
       " {'학번': 1120, '이름': '이배추', '점수': 87},\n",
       " {'학번': 1121, '이름': '박상추', '점수': 41},\n",
       " {'학번': 1122, '이름': '고양파', '점수': 42},\n",
       " {'학번': 1123, '이름': '선대파', '점수': 23},\n",
       " {'학번': 1124, '이름': '심당근', '점수': 55}]"
      ]
     },
     "execution_count": 39,
     "metadata": {},
     "output_type": "execute_result"
    }
   ],
   "source": [
    "keys = 학생rawData[0]\n",
    "rest = 학생rawData[1:]\n",
    "\n",
    "학생DB_ = []\n",
    "for i in rest:\n",
    "    dic = {}\n",
    "    dic[keys[0]] = i[0]\n",
    "    dic[keys[1]] = i[1]\n",
    "    dic[keys[2]] = i[2]\n",
    "    학생DB_.append(dic)\n",
    "\n",
    "학생DB_"
   ]
  },
  {
   "cell_type": "code",
   "execution_count": 47,
   "id": "allied-interview",
   "metadata": {
    "scrolled": true
   },
   "outputs": [
    {
     "data": {
      "text/plain": [
       "('정호두', 86)"
      ]
     },
     "execution_count": 47,
     "metadata": {},
     "output_type": "execute_result"
    }
   ],
   "source": [
    "next(map(lambda x: (x[\"이름\"], x[\"점수\"]),\n",
    "        filter(lambda x: x[\"학번\"]==조회대상, \n",
    "               학생DB_)))"
   ]
  },
  {
   "cell_type": "code",
   "execution_count": null,
   "id": "advised-sally",
   "metadata": {},
   "outputs": [],
   "source": []
  },
  {
   "cell_type": "code",
   "execution_count": 17,
   "id": "renewable-pizza",
   "metadata": {},
   "outputs": [],
   "source": [
    "학생rawData = [\n",
    "    [\"시험성적\", \"소속반\"],\n",
    "    [100, \"병아리\"],\n",
    "    [98, \"오리\"],\n",
    "    [70, \"오리\"],\n",
    "    [56, \"병아리\"],\n",
    "    [86, \"병아리\"],\n",
    "    [77, \"오리\"],\n",
    "    [58, \"오리\"],\n",
    "    [36, \"오리\"],\n",
    "    [59, \"병아리\"],\n",
    "    [87, \"병아리\"],\n",
    "    [41, \"오리\"],\n",
    "    [42, \"병아리\"],\n",
    "    [23, \"병아리\"],\n",
    "    [55, \"병아리\"],\n",
    "    [86, \"오리\"],\n",
    "    [95, \"병아리\"],\n",
    "    [92, \"오리\"]\n",
    "]"
   ]
  },
  {
   "cell_type": "code",
   "execution_count": 18,
   "id": "advance-eclipse",
   "metadata": {},
   "outputs": [
    {
     "data": {
      "text/plain": [
       "[{'시험성적': 100, '소속반': '병아리'},\n",
       " {'시험성적': 98, '소속반': '오리'},\n",
       " {'시험성적': 70, '소속반': '오리'},\n",
       " {'시험성적': 56, '소속반': '병아리'},\n",
       " {'시험성적': 86, '소속반': '병아리'},\n",
       " {'시험성적': 77, '소속반': '오리'},\n",
       " {'시험성적': 58, '소속반': '오리'},\n",
       " {'시험성적': 36, '소속반': '오리'},\n",
       " {'시험성적': 59, '소속반': '병아리'},\n",
       " {'시험성적': 87, '소속반': '병아리'},\n",
       " {'시험성적': 41, '소속반': '오리'},\n",
       " {'시험성적': 42, '소속반': '병아리'},\n",
       " {'시험성적': 23, '소속반': '병아리'},\n",
       " {'시험성적': 55, '소속반': '병아리'},\n",
       " {'시험성적': 86, '소속반': '오리'},\n",
       " {'시험성적': 95, '소속반': '병아리'},\n",
       " {'시험성적': 92, '소속반': '오리'}]"
      ]
     },
     "execution_count": 18,
     "metadata": {},
     "output_type": "execute_result"
    }
   ],
   "source": [
    "keys = 학생rawData[0]\n",
    "rest = 학생rawData[1:]\n",
    "\n",
    "학생DB_ = []\n",
    "for i in rest:\n",
    "    dic = {}\n",
    "    dic[keys[0]] = i[0]\n",
    "    dic[keys[1]] = i[1]\n",
    "#     dic[keys[2]] = i[2]\n",
    "    학생DB_.append(dic)\n",
    "\n",
    "학생DB_"
   ]
  },
  {
   "cell_type": "code",
   "execution_count": 19,
   "id": "boring-cycle",
   "metadata": {},
   "outputs": [],
   "source": [
    "학생DB = [\n",
    "    {'시험성적': 100, '소속반': '병아리'},\n",
    "    {'시험성적': 98, '소속반': '오리'},\n",
    "    {'시험성적': 70, '소속반': '오리'},\n",
    "    {'시험성적': 56, '소속반': '병아리'},\n",
    "    {'시험성적': 86, '소속반': '병아리'},\n",
    "    {'시험성적': 77, '소속반': '오리'},\n",
    "    {'시험성적': 58, '소속반': '오리'},\n",
    "    {'시험성적': 36, '소속반': '오리'},\n",
    "    {'시험성적': 59, '소속반': '병아리'},\n",
    "    {'시험성적': 87, '소속반': '병아리'},\n",
    "    {'시험성적': 41, '소속반': '오리'},\n",
    "    {'시험성적': 42, '소속반': '병아리'},\n",
    "    {'시험성적': 23, '소속반': '병아리'},\n",
    "    {'시험성적': 55, '소속반': '병아리'},\n",
    "    {'시험성적': 86, '소속반': '오리'},\n",
    "    {'시험성적': 95, '소속반': '병아리'},\n",
    "    {'시험성적': 92, '소속반': '오리'}\n",
    "]"
   ]
  },
  {
   "cell_type": "code",
   "execution_count": 20,
   "id": "intellectual-johns",
   "metadata": {},
   "outputs": [
    {
     "data": {
      "text/plain": [
       "[{'시험성적': 100, '소속반': '병아리', '낙제여부': 'pass'},\n",
       " {'시험성적': 98, '소속반': '오리', '낙제여부': 'pass'},\n",
       " {'시험성적': 70, '소속반': '오리', '낙제여부': 'pass'},\n",
       " {'시험성적': 56, '소속반': '병아리', '낙제여부': 'fail'},\n",
       " {'시험성적': 86, '소속반': '병아리', '낙제여부': 'pass'},\n",
       " {'시험성적': 77, '소속반': '오리', '낙제여부': 'pass'},\n",
       " {'시험성적': 58, '소속반': '오리', '낙제여부': 'fail'},\n",
       " {'시험성적': 36, '소속반': '오리', '낙제여부': 'fail'},\n",
       " {'시험성적': 59, '소속반': '병아리', '낙제여부': 'fail'},\n",
       " {'시험성적': 87, '소속반': '병아리', '낙제여부': 'pass'},\n",
       " {'시험성적': 41, '소속반': '오리', '낙제여부': 'fail'},\n",
       " {'시험성적': 42, '소속반': '병아리', '낙제여부': 'fail'},\n",
       " {'시험성적': 23, '소속반': '병아리', '낙제여부': 'fail'},\n",
       " {'시험성적': 55, '소속반': '병아리', '낙제여부': 'fail'},\n",
       " {'시험성적': 86, '소속반': '오리', '낙제여부': 'pass'},\n",
       " {'시험성적': 95, '소속반': '병아리', '낙제여부': 'pass'},\n",
       " {'시험성적': 92, '소속반': '오리', '낙제여부': 'pass'}]"
      ]
     },
     "execution_count": 20,
     "metadata": {},
     "output_type": "execute_result"
    }
   ],
   "source": [
    "## IF ##\n",
    "\n",
    "for i in 학생DB_:\n",
    "    if i[\"시험성적\"] >= 70:\n",
    "        i[\"낙제여부\"] = \"pass\"\n",
    "    else:\n",
    "        i[\"낙제여부\"] = \"fail\"\n",
    "\n",
    "학생DB_"
   ]
  },
  {
   "cell_type": "code",
   "execution_count": 21,
   "id": "joined-replica",
   "metadata": {},
   "outputs": [
    {
     "data": {
      "text/plain": [
       "[{'시험성적': 100, '소속반': '병아리', '낙제여부': 'pass'},\n",
       " {'시험성적': 98, '소속반': '오리', '낙제여부': 'pass'},\n",
       " {'시험성적': 70, '소속반': '오리', '낙제여부': 'pass'},\n",
       " {'시험성적': 56, '소속반': '병아리', '낙제여부': 'fail'},\n",
       " {'시험성적': 86, '소속반': '병아리', '낙제여부': 'pass'},\n",
       " {'시험성적': 77, '소속반': '오리', '낙제여부': 'pass'},\n",
       " {'시험성적': 58, '소속반': '오리', '낙제여부': 'fail'},\n",
       " {'시험성적': 36, '소속반': '오리', '낙제여부': 'fail'},\n",
       " {'시험성적': 59, '소속반': '병아리', '낙제여부': 'fail'},\n",
       " {'시험성적': 87, '소속반': '병아리', '낙제여부': 'pass'},\n",
       " {'시험성적': 41, '소속반': '오리', '낙제여부': 'fail'},\n",
       " {'시험성적': 42, '소속반': '병아리', '낙제여부': 'fail'},\n",
       " {'시험성적': 23, '소속반': '병아리', '낙제여부': 'fail'},\n",
       " {'시험성적': 55, '소속반': '병아리', '낙제여부': 'fail'},\n",
       " {'시험성적': 86, '소속반': '오리', '낙제여부': 'pass'},\n",
       " {'시험성적': 95, '소속반': '병아리', '낙제여부': 'pass'},\n",
       " {'시험성적': 92, '소속반': '오리', '낙제여부': 'pass'}]"
      ]
     },
     "execution_count": 21,
     "metadata": {},
     "output_type": "execute_result"
    }
   ],
   "source": [
    "학생DB_"
   ]
  },
  {
   "cell_type": "code",
   "execution_count": 22,
   "id": "perceived-firmware",
   "metadata": {},
   "outputs": [
    {
     "data": {
      "text/plain": [
       "9"
      ]
     },
     "execution_count": 22,
     "metadata": {},
     "output_type": "execute_result"
    }
   ],
   "source": [
    "## COUNTIF ##\n",
    "\n",
    "cnt = 0\n",
    "for i in 학생DB_:\n",
    "    if i[\"소속반\"] == \"병아리\":\n",
    "        cnt = cnt + 1\n",
    "    else: pass\n",
    "\n",
    "cnt"
   ]
  },
  {
   "cell_type": "code",
   "execution_count": 23,
   "id": "electronic-poultry",
   "metadata": {},
   "outputs": [
    {
     "data": {
      "text/plain": [
       "[{'시험성적': 100, '소속반': '병아리', '낙제여부': 'pass'},\n",
       " {'시험성적': 98, '소속반': '오리', '낙제여부': 'pass'},\n",
       " {'시험성적': 70, '소속반': '오리', '낙제여부': 'pass'},\n",
       " {'시험성적': 56, '소속반': '병아리', '낙제여부': 'fail'},\n",
       " {'시험성적': 86, '소속반': '병아리', '낙제여부': 'pass'},\n",
       " {'시험성적': 77, '소속반': '오리', '낙제여부': 'pass'},\n",
       " {'시험성적': 58, '소속반': '오리', '낙제여부': 'fail'},\n",
       " {'시험성적': 36, '소속반': '오리', '낙제여부': 'fail'},\n",
       " {'시험성적': 59, '소속반': '병아리', '낙제여부': 'fail'},\n",
       " {'시험성적': 87, '소속반': '병아리', '낙제여부': 'pass'},\n",
       " {'시험성적': 41, '소속반': '오리', '낙제여부': 'fail'},\n",
       " {'시험성적': 42, '소속반': '병아리', '낙제여부': 'fail'},\n",
       " {'시험성적': 23, '소속반': '병아리', '낙제여부': 'fail'},\n",
       " {'시험성적': 55, '소속반': '병아리', '낙제여부': 'fail'},\n",
       " {'시험성적': 86, '소속반': '오리', '낙제여부': 'pass'},\n",
       " {'시험성적': 95, '소속반': '병아리', '낙제여부': 'pass'},\n",
       " {'시험성적': 92, '소속반': '오리', '낙제여부': 'pass'}]"
      ]
     },
     "execution_count": 23,
     "metadata": {},
     "output_type": "execute_result"
    }
   ],
   "source": [
    "학생DB_"
   ]
  },
  {
   "cell_type": "code",
   "execution_count": 24,
   "id": "creative-removal",
   "metadata": {},
   "outputs": [
    {
     "data": {
      "text/plain": [
       "603"
      ]
     },
     "execution_count": 24,
     "metadata": {},
     "output_type": "execute_result"
    }
   ],
   "source": [
    "## SUMIF ##\n",
    "\n",
    "결과 = []\n",
    "for i in 학생DB_:\n",
    "    if i[\"소속반\"] == \"병아리\":\n",
    "        결과.append(i[\"시험성적\"])\n",
    "    else: pass\n",
    "\n",
    "sum(결과)"
   ]
  },
  {
   "cell_type": "code",
   "execution_count": 25,
   "id": "regular-museum",
   "metadata": {},
   "outputs": [
    {
     "data": {
      "text/plain": [
       "[{'시험성적': 100, '소속반': '병아리', '낙제여부': 'pass'},\n",
       " {'시험성적': 98, '소속반': '오리', '낙제여부': 'pass'},\n",
       " {'시험성적': 70, '소속반': '오리', '낙제여부': 'pass'},\n",
       " {'시험성적': 56, '소속반': '병아리', '낙제여부': 'fail'},\n",
       " {'시험성적': 86, '소속반': '병아리', '낙제여부': 'pass'},\n",
       " {'시험성적': 77, '소속반': '오리', '낙제여부': 'pass'},\n",
       " {'시험성적': 58, '소속반': '오리', '낙제여부': 'fail'},\n",
       " {'시험성적': 36, '소속반': '오리', '낙제여부': 'fail'},\n",
       " {'시험성적': 59, '소속반': '병아리', '낙제여부': 'fail'},\n",
       " {'시험성적': 87, '소속반': '병아리', '낙제여부': 'pass'},\n",
       " {'시험성적': 41, '소속반': '오리', '낙제여부': 'fail'},\n",
       " {'시험성적': 42, '소속반': '병아리', '낙제여부': 'fail'},\n",
       " {'시험성적': 23, '소속반': '병아리', '낙제여부': 'fail'},\n",
       " {'시험성적': 55, '소속반': '병아리', '낙제여부': 'fail'},\n",
       " {'시험성적': 86, '소속반': '오리', '낙제여부': 'pass'},\n",
       " {'시험성적': 95, '소속반': '병아리', '낙제여부': 'pass'},\n",
       " {'시험성적': 92, '소속반': '오리', '낙제여부': 'pass'}]"
      ]
     },
     "execution_count": 25,
     "metadata": {},
     "output_type": "execute_result"
    }
   ],
   "source": [
    "학생DB_"
   ]
  },
  {
   "cell_type": "code",
   "execution_count": 26,
   "id": "secure-asbestos",
   "metadata": {},
   "outputs": [
    {
     "data": {
      "text/plain": [
       "67.0"
      ]
     },
     "execution_count": 26,
     "metadata": {},
     "output_type": "execute_result"
    }
   ],
   "source": [
    "## AVERAGEIF ##\n",
    "\n",
    "결과 = []\n",
    "for i in 학생DB_:\n",
    "    if i[\"소속반\"] == \"병아리\":\n",
    "        결과.append(i[\"시험성적\"])\n",
    "    else: pass\n",
    "\n",
    "sum(결과) / len(결과)"
   ]
  },
  {
   "cell_type": "code",
   "execution_count": 27,
   "id": "floppy-authority",
   "metadata": {
    "scrolled": true
   },
   "outputs": [
    {
     "data": {
      "text/plain": [
       "[{'시험성적': 100, '소속반': '병아리', '낙제여부': 'pass'},\n",
       " {'시험성적': 98, '소속반': '오리', '낙제여부': 'pass'},\n",
       " {'시험성적': 70, '소속반': '오리', '낙제여부': 'pass'},\n",
       " {'시험성적': 56, '소속반': '병아리', '낙제여부': 'fail'},\n",
       " {'시험성적': 86, '소속반': '병아리', '낙제여부': 'pass'},\n",
       " {'시험성적': 77, '소속반': '오리', '낙제여부': 'pass'},\n",
       " {'시험성적': 58, '소속반': '오리', '낙제여부': 'fail'},\n",
       " {'시험성적': 36, '소속반': '오리', '낙제여부': 'fail'},\n",
       " {'시험성적': 59, '소속반': '병아리', '낙제여부': 'fail'},\n",
       " {'시험성적': 87, '소속반': '병아리', '낙제여부': 'pass'},\n",
       " {'시험성적': 41, '소속반': '오리', '낙제여부': 'fail'},\n",
       " {'시험성적': 42, '소속반': '병아리', '낙제여부': 'fail'},\n",
       " {'시험성적': 23, '소속반': '병아리', '낙제여부': 'fail'},\n",
       " {'시험성적': 55, '소속반': '병아리', '낙제여부': 'fail'},\n",
       " {'시험성적': 86, '소속반': '오리', '낙제여부': 'pass'},\n",
       " {'시험성적': 95, '소속반': '병아리', '낙제여부': 'pass'},\n",
       " {'시험성적': 92, '소속반': '오리', '낙제여부': 'pass'}]"
      ]
     },
     "execution_count": 27,
     "metadata": {},
     "output_type": "execute_result"
    }
   ],
   "source": [
    "학생DB_"
   ]
  },
  {
   "cell_type": "code",
   "execution_count": 28,
   "id": "realistic-envelope",
   "metadata": {},
   "outputs": [
    {
     "data": {
      "text/plain": [
       "92.0"
      ]
     },
     "execution_count": 28,
     "metadata": {},
     "output_type": "execute_result"
    }
   ],
   "source": [
    "## AVERAGEIFS ##\n",
    "\n",
    "결과 = []\n",
    "for i in 학생DB_:\n",
    "    if i[\"소속반\"] == \"병아리\":\n",
    "        if i[\"낙제여부\"] == \"pass\":\n",
    "            결과.append(i[\"시험성적\"])\n",
    "    else: pass\n",
    "\n",
    "sum(결과) / len(결과)"
   ]
  },
  {
   "cell_type": "code",
   "execution_count": 29,
   "id": "separated-parallel",
   "metadata": {},
   "outputs": [],
   "source": [
    "# !pip install openpyxl"
   ]
  },
  {
   "cell_type": "code",
   "execution_count": 30,
   "id": "seven-tomato",
   "metadata": {},
   "outputs": [],
   "source": [
    "import openpyxl"
   ]
  },
  {
   "cell_type": "code",
   "execution_count": 31,
   "id": "solid-works",
   "metadata": {},
   "outputs": [],
   "source": [
    "wb=openpyxl.load_workbook('파이썬 모양만 다른 엑셀.xlsx')\n",
    "sheet = wb['4']\n",
    "# rows = tuple(sheet.values)\n",
    "cols = list(sheet.iter_cols(values_only=True))"
   ]
  },
  {
   "cell_type": "code",
   "execution_count": 32,
   "id": "statutory-habitat",
   "metadata": {},
   "outputs": [
    {
     "data": {
      "text/plain": [
       "[(None,\n",
       "  None,\n",
       "  None,\n",
       "  None,\n",
       "  None,\n",
       "  None,\n",
       "  None,\n",
       "  None,\n",
       "  None,\n",
       "  None,\n",
       "  None,\n",
       "  None,\n",
       "  None,\n",
       "  None,\n",
       "  None,\n",
       "  None,\n",
       "  None,\n",
       "  None,\n",
       "  None,\n",
       "  None,\n",
       "  None),\n",
       " (None,\n",
       "  None,\n",
       "  None,\n",
       "  '시험 성적',\n",
       "  100,\n",
       "  98,\n",
       "  70,\n",
       "  56,\n",
       "  86,\n",
       "  77,\n",
       "  58,\n",
       "  36,\n",
       "  59,\n",
       "  87,\n",
       "  41,\n",
       "  42,\n",
       "  23,\n",
       "  55,\n",
       "  86,\n",
       "  95,\n",
       "  92),\n",
       " (None,\n",
       "  None,\n",
       "  None,\n",
       "  '소속 반',\n",
       "  '병아리',\n",
       "  '오리',\n",
       "  '오리',\n",
       "  '병아리',\n",
       "  '병아리',\n",
       "  '오리',\n",
       "  '오리',\n",
       "  '오리',\n",
       "  '병아리',\n",
       "  '병아리',\n",
       "  '오리',\n",
       "  '병아리',\n",
       "  '병아리',\n",
       "  '병아리',\n",
       "  '오리',\n",
       "  '병아리',\n",
       "  '오리'),\n",
       " (None,\n",
       "  None,\n",
       "  None,\n",
       "  '낙제여부',\n",
       "  '=IF(B5>=70,\"pass\",\"fail\")',\n",
       "  '=IF(B6>=70,\"pass\",\"fail\")',\n",
       "  '=IF(B7>=70,\"pass\",\"fail\")',\n",
       "  '=IF(B8>=70,\"pass\",\"fail\")',\n",
       "  '=IF(B9>=70,\"pass\",\"fail\")',\n",
       "  '=IF(B10>=70,\"pass\",\"fail\")',\n",
       "  '=IF(B11>=70,\"pass\",\"fail\")',\n",
       "  '=IF(B12>=70,\"pass\",\"fail\")',\n",
       "  '=IF(B13>=70,\"pass\",\"fail\")',\n",
       "  '=IF(B14>=70,\"pass\",\"fail\")',\n",
       "  '=IF(B15>=70,\"pass\",\"fail\")',\n",
       "  '=IF(B16>=70,\"pass\",\"fail\")',\n",
       "  '=IF(B17>=70,\"pass\",\"fail\")',\n",
       "  '=IF(B18>=70,\"pass\",\"fail\")',\n",
       "  '=IF(B19>=70,\"pass\",\"fail\")',\n",
       "  '=IF(B20>=70,\"pass\",\"fail\")',\n",
       "  '=IF(B21>=70,\"pass\",\"fail\")'),\n",
       " (None,\n",
       "  None,\n",
       "  None,\n",
       "  None,\n",
       "  None,\n",
       "  None,\n",
       "  None,\n",
       "  None,\n",
       "  None,\n",
       "  None,\n",
       "  None,\n",
       "  None,\n",
       "  None,\n",
       "  None,\n",
       "  None,\n",
       "  None,\n",
       "  None,\n",
       "  None,\n",
       "  None,\n",
       "  None,\n",
       "  None),\n",
       " (None,\n",
       "  None,\n",
       "  None,\n",
       "  None,\n",
       "  'COUNTIF',\n",
       "  'SUMIF',\n",
       "  'AVERAGEIF',\n",
       "  'AVERAGEIFS',\n",
       "  None,\n",
       "  None,\n",
       "  None,\n",
       "  None,\n",
       "  None,\n",
       "  None,\n",
       "  None,\n",
       "  None,\n",
       "  None,\n",
       "  None,\n",
       "  None,\n",
       "  None,\n",
       "  None),\n",
       " (None,\n",
       "  None,\n",
       "  None,\n",
       "  None,\n",
       "  '=COUNTIF(C5:C21,\"병아리\")',\n",
       "  '=SUMIF(C5:C21,\"병아리\",B5:B21)',\n",
       "  '=AVERAGEIF(C5:C21,\"병아리\",B5:B21)',\n",
       "  '=AVERAGEIFS(B5:B21,C5:C21,\"병아리\",D5:D21,\"pass\")',\n",
       "  None,\n",
       "  None,\n",
       "  None,\n",
       "  None,\n",
       "  None,\n",
       "  None,\n",
       "  None,\n",
       "  None,\n",
       "  None,\n",
       "  None,\n",
       "  None,\n",
       "  None,\n",
       "  None),\n",
       " (None,\n",
       "  None,\n",
       "  None,\n",
       "  None,\n",
       "  '=COUNTIF(C5:C21,\"병아리\")',\n",
       "  '=SUMIF(C5:C21,\"병아리\",B5:B21)',\n",
       "  '=AVERAGEIF(C5:C21,\"병아리\",B5:B21)',\n",
       "  '=AVERAGEIFS(B5:B21,C5:C21,\"병아리\",D5:D21,\"pass\")',\n",
       "  None,\n",
       "  None,\n",
       "  None,\n",
       "  None,\n",
       "  None,\n",
       "  None,\n",
       "  None,\n",
       "  None,\n",
       "  None,\n",
       "  None,\n",
       "  None,\n",
       "  None,\n",
       "  None)]"
      ]
     },
     "execution_count": 32,
     "metadata": {},
     "output_type": "execute_result"
    }
   ],
   "source": [
    "cols"
   ]
  },
  {
   "cell_type": "code",
   "execution_count": 49,
   "id": "organizational-registrar",
   "metadata": {},
   "outputs": [
    {
     "data": {
      "text/plain": [
       "[(None,\n",
       "  None,\n",
       "  None,\n",
       "  '시험 성적',\n",
       "  100,\n",
       "  98,\n",
       "  70,\n",
       "  56,\n",
       "  86,\n",
       "  77,\n",
       "  58,\n",
       "  36,\n",
       "  59,\n",
       "  87,\n",
       "  41,\n",
       "  42,\n",
       "  23,\n",
       "  55,\n",
       "  86,\n",
       "  95,\n",
       "  92),\n",
       " (None,\n",
       "  None,\n",
       "  None,\n",
       "  '소속 반',\n",
       "  '병아리',\n",
       "  '오리',\n",
       "  '오리',\n",
       "  '병아리',\n",
       "  '병아리',\n",
       "  '오리',\n",
       "  '오리',\n",
       "  '오리',\n",
       "  '병아리',\n",
       "  '병아리',\n",
       "  '오리',\n",
       "  '병아리',\n",
       "  '병아리',\n",
       "  '병아리',\n",
       "  '오리',\n",
       "  '병아리',\n",
       "  '오리')]"
      ]
     },
     "execution_count": 49,
     "metadata": {},
     "output_type": "execute_result"
    }
   ],
   "source": [
    "[cols[1],cols[2]]"
   ]
  },
  {
   "cell_type": "code",
   "execution_count": null,
   "id": "fleet-survival",
   "metadata": {},
   "outputs": [],
   "source": []
  }
 ],
 "metadata": {
  "kernelspec": {
   "display_name": "Python 3",
   "language": "python",
   "name": "python3"
  },
  "language_info": {
   "codemirror_mode": {
    "name": "ipython",
    "version": 3
   },
   "file_extension": ".py",
   "mimetype": "text/x-python",
   "name": "python",
   "nbconvert_exporter": "python",
   "pygments_lexer": "ipython3",
   "version": "3.8.8"
  },
  "toc": {
   "base_numbering": 1,
   "nav_menu": {},
   "number_sections": false,
   "sideBar": true,
   "skip_h1_title": false,
   "title_cell": "Table of Contents",
   "title_sidebar": "Contents",
   "toc_cell": false,
   "toc_position": {},
   "toc_section_display": true,
   "toc_window_display": false
  },
  "varInspector": {
   "cols": {
    "lenName": 16,
    "lenType": 16,
    "lenVar": 40
   },
   "kernels_config": {
    "python": {
     "delete_cmd_postfix": "",
     "delete_cmd_prefix": "del ",
     "library": "var_list.py",
     "varRefreshCmd": "print(var_dic_list())"
    },
    "r": {
     "delete_cmd_postfix": ") ",
     "delete_cmd_prefix": "rm(",
     "library": "var_list.r",
     "varRefreshCmd": "cat(var_dic_list()) "
    }
   },
   "types_to_exclude": [
    "module",
    "function",
    "builtin_function_or_method",
    "instance",
    "_Feature"
   ],
   "window_display": false
  }
 },
 "nbformat": 4,
 "nbformat_minor": 5
}
