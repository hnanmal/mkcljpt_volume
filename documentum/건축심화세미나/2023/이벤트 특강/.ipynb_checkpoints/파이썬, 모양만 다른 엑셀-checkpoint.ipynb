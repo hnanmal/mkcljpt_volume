{
 "cells": [
  {
   "cell_type": "code",
   "execution_count": 1,
   "id": "facial-baltimore",
   "metadata": {},
   "outputs": [
    {
     "data": {
      "text/plain": [
       "4"
      ]
     },
     "execution_count": 1,
     "metadata": {},
     "output_type": "execute_result"
    }
   ],
   "source": [
    "1 + 3"
   ]
  },
  {
   "cell_type": "code",
   "execution_count": 2,
   "id": "reliable-range",
   "metadata": {},
   "outputs": [
    {
     "data": {
      "text/plain": [
       "-2"
      ]
     },
     "execution_count": 2,
     "metadata": {},
     "output_type": "execute_result"
    }
   ],
   "source": [
    "1 - 3"
   ]
  },
  {
   "cell_type": "code",
   "execution_count": 3,
   "id": "decreased-anchor",
   "metadata": {},
   "outputs": [
    {
     "data": {
      "text/plain": [
       "3"
      ]
     },
     "execution_count": 3,
     "metadata": {},
     "output_type": "execute_result"
    }
   ],
   "source": [
    "1 * 3"
   ]
  },
  {
   "cell_type": "code",
   "execution_count": 4,
   "id": "selected-broadcast",
   "metadata": {},
   "outputs": [
    {
     "data": {
      "text/plain": [
       "0.3333333333333333"
      ]
     },
     "execution_count": 4,
     "metadata": {},
     "output_type": "execute_result"
    }
   ],
   "source": [
    "1 / 3"
   ]
  },
  {
   "cell_type": "code",
   "execution_count": 5,
   "id": "recent-toilet",
   "metadata": {},
   "outputs": [
    {
     "data": {
      "text/plain": [
       "1"
      ]
     },
     "execution_count": 5,
     "metadata": {},
     "output_type": "execute_result"
    }
   ],
   "source": [
    "1 % 3"
   ]
  },
  {
   "cell_type": "code",
   "execution_count": 41,
   "id": "conscious-fifty",
   "metadata": {},
   "outputs": [],
   "source": [
    "시험성적 = [100, 98, 70, 56, 86, 77, 58, 36, 59, 87, 41, 42, 23, 55, 86, 95, 92]"
   ]
  },
  {
   "cell_type": "code",
   "execution_count": 42,
   "id": "consistent-spank",
   "metadata": {},
   "outputs": [
    {
     "data": {
      "text/plain": [
       "1161"
      ]
     },
     "execution_count": 42,
     "metadata": {},
     "output_type": "execute_result"
    }
   ],
   "source": [
    "## SUM ##\n",
    "sum(시험성적)"
   ]
  },
  {
   "cell_type": "code",
   "execution_count": 43,
   "id": "determined-lunch",
   "metadata": {},
   "outputs": [
    {
     "data": {
      "text/plain": [
       "68.29411764705883"
      ]
     },
     "execution_count": 43,
     "metadata": {},
     "output_type": "execute_result"
    }
   ],
   "source": [
    "## AVERAGE ##\n",
    "sum(시험성적) / len(시험성적)"
   ]
  },
  {
   "cell_type": "code",
   "execution_count": 44,
   "id": "wrapped-edward",
   "metadata": {},
   "outputs": [
    {
     "data": {
      "text/plain": [
       "100"
      ]
     },
     "execution_count": 44,
     "metadata": {},
     "output_type": "execute_result"
    }
   ],
   "source": [
    "## MAX ##\n",
    "max(시험성적)"
   ]
  },
  {
   "cell_type": "code",
   "execution_count": 45,
   "id": "unique-thomson",
   "metadata": {},
   "outputs": [
    {
     "data": {
      "text/plain": [
       "23"
      ]
     },
     "execution_count": 45,
     "metadata": {},
     "output_type": "execute_result"
    }
   ],
   "source": [
    "## MIN ##\n",
    "min(시험성적)"
   ]
  },
  {
   "cell_type": "code",
   "execution_count": 46,
   "id": "acquired-brazilian",
   "metadata": {},
   "outputs": [
    {
     "data": {
      "text/plain": [
       "17"
      ]
     },
     "execution_count": 46,
     "metadata": {},
     "output_type": "execute_result"
    }
   ],
   "source": [
    "## COUNT ##\n",
    "len(시험성적)"
   ]
  },
  {
   "cell_type": "code",
   "execution_count": 48,
   "id": "outer-george",
   "metadata": {},
   "outputs": [],
   "source": [
    "학생DB = [\n",
    "    {\"학번\": 1111, \"이름\": \"김똑딱\", \"점수\": 100},\n",
    "    {\"학번\": 1112, \"이름\": \"이당돌\", \"점수\": 98},\n",
    "    {\"학번\": 1113, \"이름\": \"박혁수\", \"점수\": 70},\n",
    "    {\"학번\": 1114, \"이름\": \"최직박\", \"점수\": 56},\n",
    "    {\"학번\": 1115, \"이름\": \"정호두\", \"점수\": 86},\n",
    "    {\"학번\": 1116, \"이름\": \"윤사과\", \"점수\": 77},\n",
    "    {\"학번\": 1117, \"이름\": \"심감자\", \"점수\": 58},\n",
    "    {\"학번\": 1118, \"이름\": \"장석류\", \"점수\": 36},\n",
    "    {\"학번\": 1119, \"이름\": \"최수박\", \"점수\": 59},\n",
    "    {\"학번\": 1120, \"이름\": \"이배추\", \"점수\": 87},\n",
    "    {\"학번\": 1121, \"이름\": \"박상추\", \"점수\": 41},\n",
    "    {\"학번\": 1122, \"이름\": \"고양파\", \"점수\": 42},\n",
    "    {\"학번\": 1123, \"이름\": \"선대파\", \"점수\": 23},\n",
    "    {\"학번\": 1124, \"이름\": \"심당근\", \"점수\": 55}\n",
    "]"
   ]
  },
  {
   "cell_type": "code",
   "execution_count": 52,
   "id": "occupational-stroke",
   "metadata": {},
   "outputs": [
    {
     "data": {
      "text/plain": [
       "('정호두', 86)"
      ]
     },
     "execution_count": 52,
     "metadata": {},
     "output_type": "execute_result"
    }
   ],
   "source": [
    "조회대상 = 1115\n",
    "\n",
    "for i in 학생DB:\n",
    "    if i[\"학번\"] == 조회대상:\n",
    "        조회결과 = (i[\"이름\"], i[\"점수\"])\n",
    "        \n",
    "조회결과"
   ]
  },
  {
   "cell_type": "code",
   "execution_count": 59,
   "id": "medieval-python",
   "metadata": {},
   "outputs": [],
   "source": [
    "학생rawData = [\n",
    "    [\"학번\", \"이름\", '점수'],\n",
    "    [1111, \"김똑딱\", 100],\n",
    "    [1112, \"이당돌\", 98],\n",
    "    [1113, \"박혁수\", 70],\n",
    "    [1114, \"최직박\", 56],\n",
    "    [1115, \"정호두\", 86],\n",
    "    [1116, \"윤사과\", 77],\n",
    "    [1117, \"심감자\", 58],\n",
    "    [1118, \"장석류\", 36],\n",
    "    [1119, \"최수박\", 59],\n",
    "    [1120, \"이배추\", 87],\n",
    "    [1121, \"박상추\", 41],\n",
    "    [1122, \"고양파\", 42],\n",
    "    [1123, \"선대파\", 23],\n",
    "    [1124, \"심당근\", 55]\n",
    "]"
   ]
  },
  {
   "cell_type": "code",
   "execution_count": 66,
   "id": "small-consent",
   "metadata": {},
   "outputs": [
    {
     "data": {
      "text/plain": [
       "[{'학번': 1111, '이름': '김똑딱', '점수': 100},\n",
       " {'학번': 1112, '이름': '이당돌', '점수': 98},\n",
       " {'학번': 1113, '이름': '박혁수', '점수': 70},\n",
       " {'학번': 1114, '이름': '최직박', '점수': 56},\n",
       " {'학번': 1115, '이름': '정호두', '점수': 86},\n",
       " {'학번': 1116, '이름': '윤사과', '점수': 77},\n",
       " {'학번': 1117, '이름': '심감자', '점수': 58},\n",
       " {'학번': 1118, '이름': '장석류', '점수': 36},\n",
       " {'학번': 1119, '이름': '최수박', '점수': 59},\n",
       " {'학번': 1120, '이름': '이배추', '점수': 87},\n",
       " {'학번': 1121, '이름': '박상추', '점수': 41},\n",
       " {'학번': 1122, '이름': '고양파', '점수': 42},\n",
       " {'학번': 1123, '이름': '선대파', '점수': 23},\n",
       " {'학번': 1124, '이름': '심당근', '점수': 55}]"
      ]
     },
     "execution_count": 66,
     "metadata": {},
     "output_type": "execute_result"
    }
   ],
   "source": [
    "keys = 학생rawData[0]\n",
    "rest = 학생rawData[1:]\n",
    "\n",
    "학생DB_ = []\n",
    "for i in rest:\n",
    "    dic = {}\n",
    "    dic[keys[0]] = i[0]\n",
    "    dic[keys[1]] = i[1]\n",
    "    dic[keys[2]] = i[2]\n",
    "    학생DB_.append(dic)\n",
    "\n",
    "학생DB_"
   ]
  },
  {
   "cell_type": "code",
   "execution_count": null,
   "id": "allied-interview",
   "metadata": {},
   "outputs": [],
   "source": []
  }
 ],
 "metadata": {
  "kernelspec": {
   "display_name": "Python 3",
   "language": "python",
   "name": "python3"
  },
  "language_info": {
   "codemirror_mode": {
    "name": "ipython",
    "version": 3
   },
   "file_extension": ".py",
   "mimetype": "text/x-python",
   "name": "python",
   "nbconvert_exporter": "python",
   "pygments_lexer": "ipython3",
   "version": "3.8.8"
  },
  "toc": {
   "base_numbering": 1,
   "nav_menu": {},
   "number_sections": false,
   "sideBar": true,
   "skip_h1_title": false,
   "title_cell": "Table of Contents",
   "title_sidebar": "Contents",
   "toc_cell": false,
   "toc_position": {},
   "toc_section_display": true,
   "toc_window_display": false
  }
 },
 "nbformat": 4,
 "nbformat_minor": 5
}
