{
 "cells": [
  {
   "cell_type": "code",
   "execution_count": 1,
   "id": "international-transition",
   "metadata": {},
   "outputs": [],
   "source": [
    "#!pip install qgrid\n",
    "#!jupyter nbextension enable --py --sys-prefix qgrid\n",
    "#!pip install pandas"
   ]
  },
  {
   "cell_type": "code",
   "execution_count": 2,
   "id": "unlimited-calculation",
   "metadata": {},
   "outputs": [],
   "source": [
    "import math\n",
    "from math import pi\n",
    "import pandas as pd\n",
    "import qgrid\n",
    "from copy import deepcopy\n",
    "from collections import namedtuple\n",
    "import struct\n",
    "from ipywidgets import interact"
   ]
  },
  {
   "cell_type": "code",
   "execution_count": 3,
   "id": "french-bulletin",
   "metadata": {},
   "outputs": [],
   "source": [
    "def isinstance_namedtuple(obj) -> bool:\n",
    "    return (\n",
    "            isinstance(obj, tuple) and\n",
    "            hasattr(obj, '_asdict') and\n",
    "            hasattr(obj, '_fields')\n",
    "    )"
   ]
  },
  {
   "cell_type": "code",
   "execution_count": 4,
   "id": "everyday-quebec",
   "metadata": {},
   "outputs": [],
   "source": [
    "def put_data(data=None, **kwargs):\n",
    "    if isinstance_namedtuple(data):\n",
    "        setMap = namedtuple('data', \",\".join([*data._fields, *kwargs]))\n",
    "        return setMap(*data, **kwargs)\n",
    "    elif data != None:\n",
    "        print(\"참조 데이터의 타입이 네임드튜플이 아닙니다.\")\n",
    "    else:\n",
    "        setMap = namedtuple('data', \",\".join([*kwargs]))\n",
    "        return setMap(**kwargs)\n",
    "\n",
    "    \n",
    "### 기본 컨셉으로 키워드 인자를 사용하는 이유는 입력 인터페이스에서 직관성을 높이기 위한것임.\n",
    "### 다양한 데이터를 동시입력해야하는 경우에는,\n",
    "### kwargs(키워드 인자)의 사용보다는 리스트 자체를 입력받거나, 위치전용인수로 함수를 새로 만드는 것이 좋다."
   ]
  },
  {
   "cell_type": "markdown",
   "id": "following-glasgow",
   "metadata": {},
   "source": [
    "# Required Strength of Rafter and Column"
   ]
  },
  {
   "cell_type": "markdown",
   "id": "pacific-novel",
   "metadata": {},
   "source": [
    "### Information of Main Frame"
   ]
  },
  {
   "cell_type": "markdown",
   "id": "mediterranean-inventory",
   "metadata": {},
   "source": [
    "/////////////////////////////////////////////\n",
    "<b>Information of Main Frame Input 구간</b>\n",
    "/////////////////////////////////////////////\n",
    "<br>\n",
    "////////////////////////////////////////////////////////////////////////////////////////////////////////////////////////////////////////////////////////////////////////////////////////////////////////"
   ]
  },
  {
   "cell_type": "code",
   "execution_count": 5,
   "id": "ruled-awareness",
   "metadata": {},
   "outputs": [],
   "source": [
    "def put_data_MainFrame(h, L, f, G, **kwargs):\n",
    "    data = namedtuple('data_MainFrame', \",\".join(['h, L, f, G', *kwargs]))\n",
    "    \n",
    "    return data(h, L, f, G, *kwargs)"
   ]
  },
  {
   "cell_type": "code",
   "execution_count": 6,
   "id": "nuclear-spelling",
   "metadata": {
    "cell_style": "center"
   },
   "outputs": [
    {
     "data": {
      "text/plain": [
       "data_MainFrame(h=6.025, L=20, f=1.02, G=8)"
      ]
     },
     "execution_count": 6,
     "metadata": {},
     "output_type": "execute_result"
    }
   ],
   "source": [
    "data_MainFrame = put_data_MainFrame(\n",
    "\n",
    "  ####### Building Height [m] #######\n",
    "h = 6.025\n",
    "\n",
    ", ####### span [m] #######\n",
    "L = 20\n",
    "\n",
    ", ####### Ridge Height [m] #######\n",
    "f = 1.02\n",
    "\n",
    ", ####### Column Grid Distance [˚] #######\n",
    "G = 8\n",
    "    \n",
    ")\n",
    "data_MainFrame"
   ]
  },
  {
   "cell_type": "markdown",
   "id": "incomplete-hypothesis",
   "metadata": {},
   "source": [
    "////////////////////////////////////////////////////////////////////////////////////////////////////////////////////////////////////////////////////////////////////////////////////////////////////////<br>\n",
    "////////////////////////////////////////////////////////////////////////////////////////////////////////////////////////////////////////////////////////////////////////////////////////////////////////"
   ]
  },
  {
   "cell_type": "code",
   "execution_count": 7,
   "id": "broke-cleaner",
   "metadata": {},
   "outputs": [
    {
     "name": "stdout",
     "output_type": "stream",
     "text": [
      "info_MainFrame(h=6.025, L=20, f=1.02, G=8, s=10.051885395287792, θ=5.823985922332906)\n"
     ]
    }
   ],
   "source": [
    "def set_info_MainFrame(data, **kwargs):\n",
    "    setInfo = namedtuple('info_MainFrame', \",\".join(['h, L, f, G, s, θ', *kwargs]))\n",
    "      ## roof beam length of one side\n",
    "    s = (data.f**2+(data.L/2)**2)**0.5\n",
    "    \n",
    "      ## Roof Slope Degree\n",
    "    θ = math.tanh(data.f/(data.L/2))*180/math.pi\n",
    "    \n",
    "    return setInfo(data.h, data.L, data.f, data.G, s, θ, **kwargs)\n",
    "\n",
    "print(set_info_MainFrame(data_MainFrame))\n",
    "\n",
    "info_mf = set_info_MainFrame(data_MainFrame)"
   ]
  },
  {
   "attachments": {
    "image.png": {
     "image/png": "[encoded data removed]"
    }
   },
   "cell_type": "markdown",
   "id": "sapphire-pressing",
   "metadata": {
    "cell_style": "split"
   },
   "source": [
    "![image.png](attachment:image.png)"
   ]
  },
  {
   "cell_type": "markdown",
   "id": "domestic-inclusion",
   "metadata": {},
   "source": [
    "### Section Properties of H Shapes"
   ]
  },
  {
   "cell_type": "markdown",
   "id": "behavioral-malpractice",
   "metadata": {},
   "source": [
    "/////////////////////////////////////////////\n",
    "<b>Section Properties Input 구간</b>\n",
    "/////////////////////////////////////////////\n",
    "<br>\n",
    "////////////////////////////////////////////////////////////////////////////////////////////////////////////////////////////////////////////////////////////////////////////////////////////////////////"
   ]
  },
  {
   "cell_type": "code",
   "execution_count": 8,
   "id": "solved-cotton",
   "metadata": {},
   "outputs": [],
   "source": [
    "def put_data_SectionH(H,B,t1,t2,r, **kwargs):\n",
    "    data = namedtuple('data_SectionH', \",\".join(['H,B,t1,t2,r', *kwargs]))\n",
    "    \n",
    "    return data(H,B,t1,t2,r, **kwargs)"
   ]
  },
  {
   "cell_type": "code",
   "execution_count": 9,
   "id": "protective-favorite",
   "metadata": {
    "scrolled": false
   },
   "outputs": [
    {
     "data": {
      "text/plain": [
       "data_SectionH(H=400, B=200, t1=8, t2=12, r=0)"
      ]
     },
     "execution_count": 9,
     "metadata": {},
     "output_type": "execute_result"
    }
   ],
   "source": [
    "data_SectionH0 = put_data_SectionH(\n",
    "    \n",
    "    ####### Beam Height [mm] #######\n",
    "H = 400\n",
    "    \n",
    ",   ####### Flange Width [mm] #######\n",
    "B = 200\n",
    "    \n",
    ",   ####### Web thickness [mm] #######\n",
    "t1 = 8\n",
    "    \n",
    ",   ####### Flange thickness [mm] #######\n",
    "t2 = 12\n",
    "    \n",
    ",   ####### Root radius [m] #######\n",
    "r = 0\n",
    "    \n",
    ")\n",
    "data_SectionH0"
   ]
  },
  {
   "cell_type": "markdown",
   "id": "enhanced-harbor",
   "metadata": {},
   "source": [
    "////////////////////////////////////////////////////////////////////////////////////////////////////////////////////////////////////////////////////////////////////////////////////////////////////////<br>\n",
    "////////////////////////////////////////////////////////////////////////////////////////////////////////////////////////////////////////////////////////////////////////////////////////////////////////"
   ]
  },
  {
   "cell_type": "code",
   "execution_count": 10,
   "id": "refined-disney",
   "metadata": {},
   "outputs": [
    {
     "name": "stdout",
     "output_type": "stream",
     "text": [
      "info_SectionH(H=400, B=200, t1=8, t2=12, r=0, lx=216148650.66666666)\n"
     ]
    }
   ],
   "source": [
    "def set_info_SectionH(data=None, **kwargs):\n",
    "    setInfo = namedtuple('info_SectionH', \",\".join(['H, B, t1, t2, r, lx', *kwargs]))\n",
    "    \n",
    "    lx = (2*(data.B*data.t2**3/12+data.B*data.t2*((data.H-2*data.t2)/2+data.t2/2)**2)+data.t1*(data.H-2*data.t2)**3/12) \n",
    "    \n",
    "    return setInfo(data.H, data.B, data.t1, data.t2, data.r, lx, **kwargs)\n",
    "\n",
    "print(set_info_SectionH(data_SectionH0))"
   ]
  },
  {
   "cell_type": "code",
   "execution_count": 11,
   "id": "hollywood-example",
   "metadata": {},
   "outputs": [],
   "source": [
    "info_SectionH0 = set_info_SectionH(data_SectionH0)"
   ]
  },
  {
   "cell_type": "markdown",
   "id": "contrary-frame",
   "metadata": {},
   "source": [
    "### Dead and Live Load"
   ]
  },
  {
   "cell_type": "markdown",
   "id": "blank-vintage",
   "metadata": {},
   "source": [
    "/////////////////////////////////////////////\n",
    "<b>Dead/Live Load Input 구간</b>\n",
    "/////////////////////////////////////////////\n",
    "<br>\n",
    "////////////////////////////////////////////////////////////////////////////////////////////////////////////////////////////////////////////////////////////////////////////////////////////////////////"
   ]
  },
  {
   "cell_type": "code",
   "execution_count": 12,
   "id": "alternate-milton",
   "metadata": {},
   "outputs": [],
   "source": [
    "data_deadLive = put_data(\n",
    "################################################################\n",
    "\n",
    "    ## Roof Dead [kN/m2]\n",
    "roof_dead = 0.4\n",
    ",   ## Roof Live [kN/m2]\n",
    "roof_live = 0.6\n",
    "\n",
    "################################################################\n",
    ")"
   ]
  },
  {
   "cell_type": "markdown",
   "id": "sustainable-database",
   "metadata": {},
   "source": [
    "////////////////////////////////////////////////////////////////////////////////////////////////////////////////////////////////////////////////////////////////////////////////////////////////////////<br>\n",
    "////////////////////////////////////////////////////////////////////////////////////////////////////////////////////////////////////////////////////////////////////////////////////////////////////////"
   ]
  },
  {
   "cell_type": "markdown",
   "id": "legendary-architect",
   "metadata": {},
   "source": [
    "### Wind Load"
   ]
  },
  {
   "cell_type": "markdown",
   "id": "public-crystal",
   "metadata": {},
   "source": [
    "/////////////////////////////////////////////\n",
    "<b>Wind Load Input 구간</b>\n",
    "/////////////////////////////////////////////\n",
    "<br>\n",
    "////////////////////////////////////////////////////////////////////////////////////////////////////////////////////////////////////////////////////////////////////////////////////////////////////////"
   ]
  },
  {
   "cell_type": "code",
   "execution_count": 13,
   "id": "conditional-purple",
   "metadata": {},
   "outputs": [
    {
     "data": {
      "text/plain": [
       "data(roof_dead=0.4, roof_live=0.6, g=0.85)"
      ]
     },
     "execution_count": 13,
     "metadata": {},
     "output_type": "execute_result"
    }
   ],
   "source": [
    "put_data(data_deadLive, g=0.85)"
   ]
  },
  {
   "cell_type": "code",
   "execution_count": 14,
   "id": "divine-conference",
   "metadata": {},
   "outputs": [],
   "source": [
    "data_wind = put_data(data_deadLive,\n",
    "################################################################\n",
    "                     \n",
    "    ## gust_factor_G\n",
    "gust_factor_G = 0.85\n",
    ",   ## wind_pressure_q\n",
    "wind_pressure_q = 1.5\n",
    "\n",
    ",   ## Site Exposure\n",
    "site_exposure = \"D\"\n",
    ",   ## Basice Wind Speed\n",
    "basic_wind_speed = 51.6\n",
    ",   ## Kz (Velocity Pressure Exposure Coefficients)\n",
    "Kz = 1.08\n",
    ",   ## Wind Speed at Site (Roof Eave Height, Site Exposure)\n",
    "wind_speed_site = 54\n",
    "\n",
    "################################################################\n",
    ")"
   ]
  },
  {
   "cell_type": "code",
   "execution_count": 15,
   "id": "local-ballot",
   "metadata": {},
   "outputs": [
    {
     "data": {
      "text/plain": [
       "data(roof_dead=0.4, roof_live=0.6, gust_factor_G=0.85, wind_pressure_q=1.5, site_exposure='D', basic_wind_speed=51.6, Kz=1.08, wind_speed_site=54)"
      ]
     },
     "execution_count": 15,
     "metadata": {},
     "output_type": "execute_result"
    }
   ],
   "source": [
    "data_wind"
   ]
  },
  {
   "cell_type": "code",
   "execution_count": 16,
   "id": "recent-height",
   "metadata": {},
   "outputs": [],
   "source": [
    "def set_info_wind(data_wind, **kwargs):\n",
    "    setInfo = namedtuple('info_wind', \",\".join([*data_wind._fields]))\n",
    "    gust_factor_G = data_wind.gust_factor_G\n",
    "    wind_pressure_q = data_wind.wind_pressure_q\n",
    "    \n",
    "#     test = [*args]\n",
    "    \n",
    "    setInfo_0 = namedtuple('map', 'Cp, WindLoad')\n",
    "    setInfo_1 = namedtuple('map', 'Windward, Leeward')\n",
    "    setInfo_3 = namedtuple('map', 'Wall, Roof')\n",
    "\n",
    "    wall_windward = setInfo_0(kwargs['wall_windward_Cp'], gust_factor_G*wind_pressure_q*kwargs['wall_windward_Cp'])\n",
    "    wall_leeward = setInfo_0(kwargs['wall_leeward_Cp'], gust_factor_G*wind_pressure_q*kwargs['wall_leeward_Cp'])\n",
    "    roof_windward = setInfo_0(kwargs['roof_windward_Cp'], gust_factor_G*wind_pressure_q*kwargs['roof_windward_Cp'])\n",
    "    roof_leeward = setInfo_0(kwargs['roof_leeward_Cp'], gust_factor_G*wind_pressure_q*kwargs['roof_leeward_Cp'])\n",
    "    \n",
    "    wall = setInfo_1(wall_windward, wall_leeward)\n",
    "    roof = setInfo_1(roof_windward, roof_leeward)\n",
    "    \n",
    "    total = setInfo_3(wall, roof)\n",
    "    \n",
    "    \n",
    "    \n",
    "    \n",
    "    return total  # info_wind 내부에 info_windfactor로 들어가게 수정하기"
   ]
  },
  {
   "cell_type": "code",
   "execution_count": 17,
   "id": "comfortable-brick",
   "metadata": {},
   "outputs": [
    {
     "data": {
      "text/plain": [
       "map(Wall=map(Windward=map(Cp=0.8, WindLoad=1.02), Leeward=map(Cp=-0.5, WindLoad=-0.6375)), Roof=map(Windward=map(Cp=-0.7, WindLoad=-0.8924999999999998), Leeward=map(Cp=-0.7, WindLoad=-0.8924999999999998)))"
      ]
     },
     "execution_count": 17,
     "metadata": {},
     "output_type": "execute_result"
    }
   ],
   "source": [
    "set_info_wind(data_wind,\n",
    "################################################################\n",
    "    ## 벽 바람 불어오는 방향\n",
    "wall_windward_Cp = 0.8\n",
    "\n",
    ",   ## 벽 바람 나가는 방향\n",
    "wall_leeward_Cp = -0.5\n",
    "\n",
    ",   ## 지붕 바람 불어오는 방향\n",
    "roof_windward_Cp = -0.7\n",
    "\n",
    ",   ## 지붕 바람 나가는 방향\n",
    "roof_leeward_Cp = -0.7\n",
    "\n",
    "################################################################\n",
    ")"
   ]
  },
  {
   "cell_type": "code",
   "execution_count": 18,
   "id": "imposed-victoria",
   "metadata": {
    "cell_style": "split",
    "code_folding": []
   },
   "outputs": [],
   "source": [
    "  ## Wind Factors\n",
    "wind_GustPressure = \\\n",
    "{\n",
    "    \"gust_factor_G\": 0.85,\n",
    "    \"wind_pressure_q\": 1.50\n",
    "}"
   ]
  },
  {
   "cell_type": "code",
   "execution_count": 19,
   "id": "coordinated-constant",
   "metadata": {},
   "outputs": [
    {
     "data": {
      "text/plain": [
       "<bound method aa.__repr__ of aa(gust_factor_G=0.85, wind_pressure_q=1.5)>"
      ]
     },
     "execution_count": 19,
     "metadata": {},
     "output_type": "execute_result"
    }
   ],
   "source": [
    "res = namedtuple('aa',wind_GustPressure)(**wind_GustPressure)\n",
    "dir(res)\n",
    "res.__repr__"
   ]
  },
  {
   "cell_type": "code",
   "execution_count": 20,
   "id": "played-johnson",
   "metadata": {
    "cell_style": "split"
   },
   "outputs": [],
   "source": [
    "info_wf = {}\n",
    "direction = \\\n",
    "{\n",
    "    \"windward\": wind_GustPressure,\n",
    "    \"leeward\": wind_GustPressure\n",
    "}\n",
    "info_wf[\"wall\"] = direction\n",
    "info_wf[\"roof\"] = direction"
   ]
  },
  {
   "cell_type": "code",
   "execution_count": 41,
   "id": "western-matthew",
   "metadata": {},
   "outputs": [
    {
     "data": {
      "text/plain": [
       "{'wall': {'windward': {'Gust Factor G': 0.85, 'Wind Pressure q': 1.5},\n",
       "  'leeward': {'Gust Factor G': 0.85, 'Wind Pressure q': 1.5}},\n",
       " 'roof': {'windward': {'Gust Factor G': 0.85, 'Wind Pressure q': 1.5},\n",
       "  'leeward': {'Gust Factor G': 0.85, 'Wind Pressure q': 1.5}}}"
      ]
     },
     "execution_count": 41,
     "metadata": {},
     "output_type": "execute_result"
    }
   ],
   "source": [
    "info_wf"
   ]
  },
  {
   "cell_type": "code",
   "execution_count": 21,
   "id": "discrete-permission",
   "metadata": {
    "hide_input": true
   },
   "outputs": [],
   "source": [
    "# def get_wallPressure_Coefficients():\n",
    "#     setInfo_0 = namedtuple('map', 'L_B, Cp, UseWith')\n",
    "#     setInfo_1 = namedtuple('map', 'Windward_Wall, Leeward_Wall, Side_Wall')\n",
    "    \n",
    "#     windward_kinds = namedtuple('w_knds', 'Allvalues')\n",
    "#     leeward_kinds = namedtuple('l_knds', 'between0_1, two, ge_then4')\n",
    "#     side_kinds = namedtuple('s_knds', 'Allvalues')\n",
    "    \n",
    "#     windward_0 = setInfo_0('All values', 0.8, 'qz')    \n",
    "#     leeward_Wall_0 = setInfo_0('between0_1', -0.5, 'qh')\n",
    "#     leeward_Wall_1 = setInfo_0('two', -0.3, 'qh')\n",
    "#     leeward_Wall_2 = setInfo_0('ge_then4', -0.2, 'qh')\n",
    "#     Side_Wall_0 = setInfo_0('All values', -0.7, 'qh')\n",
    "    \n",
    "#     Windward_Wall = windward_kinds(windward_0)\n",
    "#     Leeward_Wall = leeward_kinds(leeward_Wall_0, leeward_Wall_1, leeward_Wall_2)\n",
    "#     Side_Wall = side_kinds(Side_Wall_0)\n",
    "    \n",
    "#     total = setInfo_1(Windward_Wall, Leeward_Wall, Side_Wall)\n",
    "    \n",
    "#     return total"
   ]
  },
  {
   "cell_type": "code",
   "execution_count": 22,
   "id": "unlimited-terrorism",
   "metadata": {
    "hide_input": true
   },
   "outputs": [],
   "source": [
    "# wallPressure_Coef = get_wallPressure_Coefficients()\n",
    "# print(wallPressure_Coef)\n",
    "\n",
    "# wallPressure_Coef.Leeward_Wall.two"
   ]
  },
  {
   "cell_type": "markdown",
   "id": "tight-driving",
   "metadata": {},
   "source": [
    "////////////////////////////////////////////////////////////////////////////////////////////////////////////////////////////////////////////////////////////////////////////////////////////////////////<br>\n",
    "////////////////////////////////////////////////////////////////////////////////////////////////////////////////////////////////////////////////////////////////////////////////////////////////////////"
   ]
  },
  {
   "cell_type": "code",
   "execution_count": 23,
   "id": "painful-sierra",
   "metadata": {},
   "outputs": [],
   "source": [
    "def set_info_windCoef(wall_w_Cp, wall_l_Cp, roof_w_Cp, roof_l_Cp):\n",
    "    setInfo_0 = namedtuple('map', 'Cp, WindLoad')\n",
    "    setInfo_1 = namedtuple('map', 'Windward, Leeward')\n",
    "    setInfo_3 = namedtuple('map', 'Wall, Roof')\n",
    "    \n",
    "    Gust_G = 0.85\n",
    "    WindPressure = 1.50\n",
    "    \n",
    "    wall_windward = setInfo_0(wall_w_Cp, Gust_G*WindPressure*wall_w_Cp)\n",
    "    wall_leeward = setInfo_0(wall_l_Cp, Gust_G*WindPressure*wall_l_Cp)\n",
    "    roof_windward = setInfo_0(roof_w_Cp, Gust_G*WindPressure*roof_w_Cp)\n",
    "    roof_leeward = setInfo_0(roof_l_Cp, Gust_G*WindPressure*roof_l_Cp)\n",
    "    \n",
    "    wall = setInfo_1(wall_windward, wall_leeward)\n",
    "    roof = setInfo_1(roof_windward, roof_leeward)\n",
    "    \n",
    "    total = setInfo_3(wall, roof)\n",
    "    \n",
    "    return total\n",
    "    "
   ]
  },
  {
   "cell_type": "code",
   "execution_count": 24,
   "id": "reported-lunch",
   "metadata": {},
   "outputs": [
    {
     "name": "stdout",
     "output_type": "stream",
     "text": [
      "map(Wall=map(Windward=map(Cp=0.8, WindLoad=1.02), Leeward=map(Cp=-0.5, WindLoad=-0.6375)), Roof=map(Windward=map(Cp=-0.7, WindLoad=-0.8924999999999998), Leeward=map(Cp=-0.7, WindLoad=-0.8924999999999998)))\n"
     ]
    }
   ],
   "source": [
    "info_wf = set_info_windCoef(0.8, -0.5, -0.7, -0.7)\n",
    "print(set_info_windCoef(0.8, -0.5, -0.7, -0.7))"
   ]
  },
  {
   "cell_type": "code",
   "execution_count": 25,
   "id": "robust-girlfriend",
   "metadata": {},
   "outputs": [],
   "source": [
    "def set_info_Load(site_exposure, basic_wind_speed, Kz, wind_speed_site, data_wind, info_mf, info_wf):\n",
    "    setInfo = namedtuple('info_windLoad', 'site_exposure, basic_wind_speed, Kz, wind_speed_site, w_D, w_L, k, α, N')\n",
    "    \n",
    "    w_D = roof_dead * info_mf.G\n",
    "    w_L = roof_live * info_mf.G\n",
    "    lx_col = Section_Props_H_Column.lx\n",
    "    lx_beam = Section_Props_H_Beam.lx\n",
    "    k = (lx_beam/lx_col)*(info_mf.h/info_mf.s)\n",
    "    α = info_mf.h**2 * (k+3) + info_mf.f*(3*info_mf.h+info_mf.f)\n",
    "    N = (k*info_mf.h + info_mf.f)**2 + 4*k*(info_mf.h**2 + info_mf.h*info_mf.f + f**2)\n",
    "    \n",
    "    return setInfo(site_exposure, basic_wind_speed, Kz, wind_speed_site, w_D, w_L, k, α, N)"
   ]
  },
  {
   "cell_type": "code",
   "execution_count": 26,
   "id": "outdoor-chosen",
   "metadata": {},
   "outputs": [],
   "source": [
    "# info_wl = set_info_Load(site_exposure, basic_wind_speed, Kz, wind_speed_site, info_dl, info_mf, info_wf)\n",
    "# print(set_info_Load(site_exposure, basic_wind_speed, Kz, wind_speed_site, info_dl, info_mf, info_wf))"
   ]
  },
  {
   "cell_type": "markdown",
   "id": "floating-theta",
   "metadata": {},
   "source": [
    "## Required Strength for Dead Load"
   ]
  },
  {
   "cell_type": "code",
   "execution_count": 27,
   "id": "promotional-transcript",
   "metadata": {},
   "outputs": [],
   "source": [
    "def set_info_RS_DL(info_mf, info_wl, x):\n",
    "    w_D = info_wl.w_D\n",
    "    L = info_mf.L\n",
    "    h = info_mf.h\n",
    "    f = info_mf.f\n",
    "    θ = info_mf.θ\n",
    "    α = info_wl.α\n",
    "    \n",
    "    setInfo = namedtuple('rs_DL', 'Va, Ve, Ha, H, He, Mb, Mc, Md, Mx')\n",
    "    Va = Ve = w_D*L/2\n",
    "    H = Ha = ( (w_D*L**2)/32 ) * ( (8*h + 5*f)/α )\n",
    "    He = -Ha\n",
    "    Mb = Md = -H * h\n",
    "    Mc = ( (w_D*L**2)/8 ) - ( H*(h + f) )\n",
    "    Mx = ( Va*x ) - ( Ha*(h + 2*f*x/L)) - ( (w_D*x**2)/2 )\n",
    "    \n",
    "    return setInfo(Va, Ve, Ha, H, He, Mb, Mc, Md, Mx)"
   ]
  },
  {
   "cell_type": "code",
   "execution_count": 28,
   "id": "eastern-dating",
   "metadata": {},
   "outputs": [],
   "source": [
    "# info_rsDL = set_info_RS_DL(info_mf, info_wl, x=0)\n",
    "# print(set_info_RS_DL(info_mf, info_wl, x=0))"
   ]
  },
  {
   "attachments": {
    "image.png": {
     "image/png": "[encoded data removed]"
    }
   },
   "cell_type": "markdown",
   "id": "monetary-estate",
   "metadata": {
    "cell_style": "split"
   },
   "source": [
    "![image.png](attachment:image.png)"
   ]
  },
  {
   "cell_type": "markdown",
   "id": "focal-ancient",
   "metadata": {},
   "source": [
    "## Required Strength for Live Load"
   ]
  },
  {
   "cell_type": "code",
   "execution_count": 29,
   "id": "according-kennedy",
   "metadata": {},
   "outputs": [],
   "source": [
    "def set_info_RS_LL(info_mf, info_wl, x):\n",
    "    w_L = info_wl.w_L\n",
    "    L = info_mf.L\n",
    "    h = info_mf.h\n",
    "    f = info_mf.f\n",
    "    G = info_mf.G\n",
    "    θ = info_mf.θ\n",
    "    α = info_wl.α\n",
    "    \n",
    "    \n",
    "    setInfo = namedtuple('rs_LL', 'Va, Ve, Ha, H, He, Mb, Mc, Md, Mx, w1, w2v, w3v, w2h, w3h, w4')\n",
    "    Va = Ve = w_L*L/2\n",
    "    H = Ha = ( (w_L*L**2)/32 ) * ( (8*h + 5*f)/α )\n",
    "    He = -Ha\n",
    "    Mb = Md = -H * h\n",
    "    Mc = ( (w_L*L**2)/8 ) - ( H*(h + f) )\n",
    "    Mx = ( Va*x ) - ( Ha*(h + 2*f*x/L)) - ( (w_L*x**2)/2 )\n",
    "    \n",
    "    w1 = info_wf.Wall.Windward.WindLoad * G    # Wall Windward\n",
    "    w2v = info_wf.Roof.Windward.WindLoad * G * math.cos(θ*pi/180) * -1\n",
    "    w3v = info_wf.Roof.Leeward.WindLoad * G * math.cos(θ*pi/180) * -1\n",
    "    w2h = info_wf.Roof.Windward.WindLoad * G * math.sin(θ*pi/180) * -1\n",
    "    w3h = info_wf.Roof.Leeward.WindLoad * G * math.sin(θ*pi/180) * -1\n",
    "    w4 = info_wf.Wall.Leeward.WindLoad * G * -1\n",
    "    \n",
    "    return setInfo(Va, Ve, Ha, H, He, Mb, Mc, Md, Mx, w1, w2v, w3v, w2h, w3h, w4)"
   ]
  },
  {
   "cell_type": "code",
   "execution_count": 30,
   "id": "governmental-meter",
   "metadata": {},
   "outputs": [],
   "source": [
    "# info_rsLL = set_info_RS_LL(info_mf, info_wl, x=10)\n",
    "# print(set_info_RS_LL(info_mf, info_wl, x=10))"
   ]
  },
  {
   "cell_type": "code",
   "execution_count": null,
   "id": "miniature-reporter",
   "metadata": {},
   "outputs": [],
   "source": []
  },
  {
   "cell_type": "markdown",
   "id": "killing-jersey",
   "metadata": {},
   "source": [
    "## Required Strength for Wind Load"
   ]
  },
  {
   "cell_type": "code",
   "execution_count": 31,
   "id": "arabic-still",
   "metadata": {},
   "outputs": [],
   "source": [
    "def set_info_RS_WL(info_mf, info_wl, info_rsLL):\n",
    "    h = info_mf.h\n",
    "    L = info_mf.L\n",
    "    f = info_mf.f\n",
    "    s = info_mf.s\n",
    "    k = info_wl.k\n",
    "    α = info_wl.α\n",
    "    \n",
    "    [w1, w2v, w3v, w2h, w3h, w4] = [info_rsLL.w1, info_rsLL.w2v, info_rsLL.w3v, info_rsLL.w2h, info_rsLL.w3h, info_rsLL.w4]\n",
    "    \n",
    "    setInfo = namedtuple('rs_WL', 'Va14,Ve14,Ha14,He14,Va23h,Ve23h,Ha23h,He23h,Va2v,Ve2v,Ha2v,He2v,Ve3v,Va3v,He3v,Ha3v, Va,Ve,Ha,He, Mb,Mc,Md')\n",
    "    \n",
    "    Va14 = -(h**2)/(2*L) * (w1 + w4)\n",
    "    Ve14 = -Va14\n",
    "    Ha14 = -w1*h + ((5*h*k) + 6*(2*h+f))/(16*α) * (h**2) * (w1 - w4)\n",
    "    He14 = -w4*h - ((5*h*k) + 6*(2*h+f))/(16*α) * (h**2) * (w1 - w4)\n",
    "    Va23h = (f*(2*h+f))/(2*L) * (w2h - w3h)\n",
    "    Ve23h = -Va23h\n",
    "    Ha23h = (w2h * f) - ((8*h**2*(k+3) + 5*f*(4*h+f))/(16*α))*f*(w2h + w3h)\n",
    "    He23h = -(w3h * f) + ((8*h**2*(k+3) + 5*f*(4*h+f))/(16*α))*f*(w2h + w3h)\n",
    "    Va2v = -(3*w2v*L)/8\n",
    "    Ve2v = -(w2v*L)/8\n",
    "    Ha2v = ((-w2v*L**2)/64)*((8*h+5*f)/α)\n",
    "    He2v = -Ha2v\n",
    "    Ve3v = -(3*w3v*L)/8\n",
    "    Va3v = -(w3v*L)/8\n",
    "    He3v = ((w3v*L**2)/64)*((8*h+5*f)/α)\n",
    "    Ha3v = -He3v\n",
    "    \n",
    "    Va = Va14 + Va23h + Va2v + Va3v\n",
    "    Ve = Ve14 + Ve23h + Ve2v + Ve3v\n",
    "    Ha = Ha14 + Ha23h + Ha2v + Ha3v\n",
    "    He = He14 + He23h + He2v + He3v\n",
    "    \n",
    "    Mb = -Ha*h - (w1*h**2)/2\n",
    "    Mc = -Ha*(h+f) + (Va*L)/2 - w1*h*(h/2+f) + (w2v*s**2)/2\n",
    "    Md = He*h + (w4*h**2)/2\n",
    "    \n",
    "    return setInfo(Va14,Ve14,Ha14,He14,Va23h,Ve23h,Ha23h,He23h,Va2v,Ve2v,Ha2v,He2v,Ve3v,Va3v,He3v,Ha3v, Va,Ve,Ha,He, Mb,Mc,Md)"
   ]
  },
  {
   "cell_type": "code",
   "execution_count": 32,
   "id": "above-collection",
   "metadata": {},
   "outputs": [],
   "source": [
    "# info_rsWL = set_info_RS_WL(info_mf, info_wl, info_rsLL)\n",
    "# print(set_info_RS_WL(info_mf, info_wl, info_rsLL))"
   ]
  },
  {
   "cell_type": "code",
   "execution_count": 33,
   "id": "similar-people",
   "metadata": {},
   "outputs": [],
   "source": [
    "def get_df_RS_RafterAndColumn(info_rsDL, info_rsLL, info_rsWL):\n",
    "    setInfo = namedtuple('dt', 'A_P, A_M, B_M, C_M, D_M, E_P, E_M')\n",
    "    \n",
    "    dead = setInfo(-info_rsDL.Va, 0, info_rsDL.Mb, info_rsDL.Mc, info_rsDL.Md, -info_rsDL.Ve, 0)\n",
    "    live = setInfo(-info_rsLL.Va, 0, info_rsLL.Mb, info_rsLL.Mc, info_rsLL.Md, -info_rsLL.Ve, 0)\n",
    "    wind = setInfo(-info_rsWL.Va, 0, info_rsWL.Mb, info_rsWL.Mc, info_rsWL.Md, -info_rsWL.Ve, 0)\n",
    "    \n",
    "    combi1 = setInfo(1.2*dead.A_P+1.6*live.A_P, 1.2*dead.A_M+1.6*live.A_M, \n",
    "                     1.2*dead.B_M+1.6*live.B_M, \n",
    "                     1.2*dead.C_M+1.6*live.C_M, \n",
    "                     1.2*dead.D_M+1.6*live.D_M, \n",
    "                     1.2*dead.E_P+1.6*live.E_P, 1.2*dead.E_M+1.6*live.E_M)\n",
    "    \n",
    "    combi2 = setInfo(1.2*dead.A_P+1.6*live.A_P+0.8*wind.A_P, 1.2*dead.A_M+1.6*live.A_M+0.8*wind.A_M, \n",
    "                     1.2*dead.B_M+1.6*live.B_M+0.8*wind.B_M, \n",
    "                     1.2*dead.C_M+1.6*live.C_M+0.8*wind.C_M, \n",
    "                     1.2*dead.D_M+1.6*live.D_M+0.8*wind.D_M, \n",
    "                     1.2*dead.E_P+1.6*live.E_P+0.8*wind.E_P, 1.2*dead.E_M+1.6*live.E_M+0.8*wind.E_M)\n",
    "    \n",
    "    combi3 = setInfo(0.9*dead.A_P+1.6*wind.A_P, 0.9*dead.A_M+1.6*wind.A_M, \n",
    "                     0.9*dead.B_M+1.6*wind.B_M, \n",
    "                     0.9*dead.C_M+1.6*wind.C_M, \n",
    "                     0.9*dead.D_M+1.6*wind.D_M, \n",
    "                     0.9*dead.E_P+1.6*wind.E_P, 0.9*dead.E_M+1.6*wind.E_M)\n",
    "    \n",
    "    df = pd.DataFrame([dead, live, wind, combi1, combi2, combi3],\n",
    "                     columns= [['A','A','B','C','D','E','E'],['P','M','M','M','M','P','M']])\n",
    "    df.insert(0, 'Load Case', ['DEAD(D)','LIVE(L)','WIND(W)','1.2D+1.6L','1.2D+1.6L+0.8W','0.9D+1.6W'])\n",
    "    \n",
    "    return df"
   ]
  },
  {
   "cell_type": "code",
   "execution_count": 34,
   "id": "laughing-picnic",
   "metadata": {},
   "outputs": [],
   "source": [
    "# df=get_df_RS_RafterAndColumn(info_rsDL, info_rsLL, info_rsWL)\n",
    "# df"
   ]
  },
  {
   "cell_type": "markdown",
   "id": "successful-rapid",
   "metadata": {},
   "source": [
    "## Use"
   ]
  },
  {
   "cell_type": "markdown",
   "id": "confirmed-nature",
   "metadata": {},
   "source": [
    "/////////////////////////////////////////////\n",
    "<b>Information of Main Frame Input 구간</b>\n",
    "/////////////////////////////////////////////\n",
    "<br>\n",
    "////////////////////////////////////////////////////////////////////////////////////////////////////////////////////////////////////////////////////////////////////////////////////////////////////////"
   ]
  },
  {
   "cell_type": "code",
   "execution_count": 35,
   "id": "literary-dressing",
   "metadata": {
    "cell_style": "center"
   },
   "outputs": [],
   "source": [
    "## Building Height [m]\n",
    "h = 6.025\n",
    "\n",
    "  ## span [m]\n",
    "L = 20\n",
    "\n",
    "  ## Ridge Height [m]\n",
    "f = 1.02\n",
    "\n",
    "  ## Column Grid Distance [˚]\n",
    "G = 8"
   ]
  },
  {
   "cell_type": "markdown",
   "id": "western-sleep",
   "metadata": {},
   "source": [
    "/////////////////////////////////////////////\n",
    "<b>Section Properties Input 구간</b>\n",
    "/////////////////////////////////////////////\n",
    "<br>\n",
    "////////////////////////////////////////////////////////////////////////////////////////////////////////////////////////////////////////////////////////////////////////////////////////////////////////"
   ]
  },
  {
   "cell_type": "code",
   "execution_count": 36,
   "id": "suitable-institution",
   "metadata": {
    "scrolled": false
   },
   "outputs": [],
   "source": [
    "  ## Section1 (셀을 복사하여 단면 종류 추가하세요)\n",
    "    \n",
    "H = 400\n",
    "B = 200\n",
    "t1 = 8\n",
    "t2 = 12\n",
    "r = 0"
   ]
  },
  {
   "cell_type": "markdown",
   "id": "alleged-iceland",
   "metadata": {},
   "source": [
    "/////////////////////////////////////////////\n",
    "<b>Dead/Live Load Input 구간</b>\n",
    "/////////////////////////////////////////////\n",
    "<br>\n",
    "////////////////////////////////////////////////////////////////////////////////////////////////////////////////////////////////////////////////////////////////////////////////////////////////////////"
   ]
  },
  {
   "cell_type": "code",
   "execution_count": 37,
   "id": "mediterranean-vermont",
   "metadata": {},
   "outputs": [],
   "source": [
    "  ## Roof Dead [kN/m2]\n",
    "roof_dead = 0.4\n",
    "\n",
    "  ## Roof Live [kN/m2]\n",
    "roof_live = 0.6"
   ]
  },
  {
   "cell_type": "markdown",
   "id": "offshore-feeding",
   "metadata": {},
   "source": [
    "/////////////////////////////////////////////\n",
    "<b>Wind Load Input 구간</b>\n",
    "/////////////////////////////////////////////\n",
    "<br>\n",
    "////////////////////////////////////////////////////////////////////////////////////////////////////////////////////////////////////////////////////////////////////////////////////////////////////////"
   ]
  },
  {
   "cell_type": "code",
   "execution_count": null,
   "id": "japanese-height",
   "metadata": {},
   "outputs": [],
   "source": []
  },
  {
   "cell_type": "code",
   "execution_count": 38,
   "id": "local-advisory",
   "metadata": {},
   "outputs": [],
   "source": [
    "  ## Site Exposure\n",
    "site_exposure = \"D\"\n",
    "\n",
    "  ## Basice Wind Speed\n",
    "basic_wind_speed = 51.6\n",
    "\n",
    "  ## Kz (Velocity Pressure Exposure Coefficients)\n",
    "Kz = 1.08\n",
    "\n",
    "  ## Wind Speed at Site (Roof Eave Height, Site Exposure)\n",
    "wind_speed_site = 54"
   ]
  },
  {
   "cell_type": "code",
   "execution_count": 39,
   "id": "boring-python",
   "metadata": {},
   "outputs": [],
   "source": [
    "  ## Wind Factors\n",
    "wind_GustPressure = \\\n",
    "{\n",
    "    \"Gust Factor G\": 0.85,\n",
    "    \"Wind Pressure q\": 1.50\n",
    "}\n",
    "\n",
    "info_wf = {}\n",
    "direction = \\\n",
    "{\n",
    "    \"windward\": wind_GustPressure,\n",
    "    \"leeward\": wind_GustPressure\n",
    "}\n",
    "info_wf[\"wall\"] = direction\n",
    "info_wf[\"roof\"] = direction"
   ]
  },
  {
   "cell_type": "markdown",
   "id": "innovative-direction",
   "metadata": {},
   "source": [
    "////////////////////////////////////////////////////////////////////////////////////////////////////////////////////////////////////////////////////////////////////////////////////////////////////////<br>\n",
    "////////////////////////////////////////////////////////////////////////////////////////////////////////////////////////////////////////////////////////////////////////////////////////////////////////"
   ]
  },
  {
   "cell_type": "code",
   "execution_count": 40,
   "id": "coupled-empire",
   "metadata": {},
   "outputs": [
    {
     "ename": "NameError",
     "evalue": "name 'set_info_mainFrame' is not defined",
     "output_type": "error",
     "traceback": [
      "\u001b[0;31m\u001b[0m",
      "\u001b[0;31mNameError\u001b[0mTraceback (most recent call last)",
      "\u001b[0;32m<ipython-input-40-d074e48b03b0>\u001b[0m in \u001b[0;36m<module>\u001b[0;34m\u001b[0m\n\u001b[0;32m----> 1\u001b[0;31m \u001b[0minfo_mf\u001b[0m \u001b[0;34m=\u001b[0m \u001b[0mset_info_mainFrame\u001b[0m\u001b[0;34m(\u001b[0m\u001b[0mh\u001b[0m\u001b[0;34m,\u001b[0m\u001b[0mL\u001b[0m\u001b[0;34m,\u001b[0m\u001b[0mf\u001b[0m\u001b[0;34m,\u001b[0m\u001b[0mG\u001b[0m\u001b[0;34m)\u001b[0m\u001b[0;34m\u001b[0m\u001b[0;34m\u001b[0m\u001b[0m\n\u001b[0m\u001b[1;32m      2\u001b[0m \u001b[0msection_prop_H\u001b[0m \u001b[0;34m=\u001b[0m \u001b[0mset_prop_Hshape\u001b[0m\u001b[0;34m(\u001b[0m\u001b[0mH\u001b[0m\u001b[0;34m,\u001b[0m \u001b[0mB\u001b[0m\u001b[0;34m,\u001b[0m \u001b[0mt1\u001b[0m\u001b[0;34m,\u001b[0m \u001b[0mt2\u001b[0m\u001b[0;34m,\u001b[0m \u001b[0mr\u001b[0m\u001b[0;34m)\u001b[0m\u001b[0;34m\u001b[0m\u001b[0;34m\u001b[0m\u001b[0m\n\u001b[1;32m      3\u001b[0m \u001b[0mSection_Props_H_Column\u001b[0m \u001b[0;34m=\u001b[0m \u001b[0mset_prop_Hshape\u001b[0m\u001b[0;34m(\u001b[0m\u001b[0mH\u001b[0m\u001b[0;34m,\u001b[0m \u001b[0mB\u001b[0m\u001b[0;34m,\u001b[0m \u001b[0mt1\u001b[0m\u001b[0;34m,\u001b[0m \u001b[0mt2\u001b[0m\u001b[0;34m,\u001b[0m \u001b[0mr\u001b[0m\u001b[0;34m)\u001b[0m\u001b[0;34m\u001b[0m\u001b[0;34m\u001b[0m\u001b[0m\n\u001b[1;32m      4\u001b[0m \u001b[0mSection_Props_H_Beam\u001b[0m \u001b[0;34m=\u001b[0m \u001b[0mset_prop_Hshape\u001b[0m\u001b[0;34m(\u001b[0m\u001b[0mH\u001b[0m\u001b[0;34m,\u001b[0m \u001b[0mB\u001b[0m\u001b[0;34m,\u001b[0m \u001b[0mt1\u001b[0m\u001b[0;34m,\u001b[0m \u001b[0mt2\u001b[0m\u001b[0;34m,\u001b[0m \u001b[0mr\u001b[0m\u001b[0;34m)\u001b[0m\u001b[0;34m\u001b[0m\u001b[0;34m\u001b[0m\u001b[0m\n\u001b[1;32m      5\u001b[0m \u001b[0;34m\u001b[0m\u001b[0m\n",
      "\u001b[0;31mNameError\u001b[0m: name 'set_info_mainFrame' is not defined"
     ]
    }
   ],
   "source": [
    "info_mf = set_info_mainFrame(h,L,f,G)\n",
    "section_prop_H = set_prop_Hshape(H, B, t1, t2, r)\n",
    "Section_Props_H_Column = set_prop_Hshape(H, B, t1, t2, r)\n",
    "Section_Props_H_Beam = set_prop_Hshape(H, B, t1, t2, r)\n",
    "\n",
    "info_dl = set_info_dlLoad(roof_dead, roof_live)\n",
    "info_wf = get_info_windCoef(0.8, -0.5, -0.7, -0.7)\n",
    "info_wl = set_info_Load(site_exposure, basic_wind_speed, Kz, wind_speed_site, info_dl, info_mf, info_wf)\n",
    "\n",
    "info_rsDL = set_info_RS_DL(info_mf, info_wl, x=0)\n",
    "info_rsLL = set_info_RS_LL(info_mf, info_wl, x=10)\n",
    "info_rsWL = set_info_RS_WL(info_mf, info_wl, info_rsLL)\n",
    "\n",
    "df=get_df_RS_RafterAndColumn(info_rsDL, info_rsLL, info_rsWL)"
   ]
  },
  {
   "cell_type": "code",
   "execution_count": null,
   "id": "outside-senator",
   "metadata": {},
   "outputs": [],
   "source": [
    "df  ## Unit-kN. M"
   ]
  },
  {
   "cell_type": "code",
   "execution_count": null,
   "id": "different-fiber",
   "metadata": {},
   "outputs": [],
   "source": []
  },
  {
   "cell_type": "markdown",
   "id": "secret-raise",
   "metadata": {},
   "source": [
    "---"
   ]
  },
  {
   "cell_type": "markdown",
   "id": "dress-parent",
   "metadata": {},
   "source": [
    "---"
   ]
  },
  {
   "cell_type": "markdown",
   "id": "exposed-director",
   "metadata": {},
   "source": [
    "---"
   ]
  },
  {
   "cell_type": "code",
   "execution_count": null,
   "id": "strange-socket",
   "metadata": {},
   "outputs": [],
   "source": []
  }
 ],
 "metadata": {
  "kernelspec": {
   "display_name": "Python 3",
   "language": "python",
   "name": "python3"
  },
  "language_info": {
   "codemirror_mode": {
    "name": "ipython",
    "version": 3
   },
   "file_extension": ".py",
   "mimetype": "text/x-python",
   "name": "python",
   "nbconvert_exporter": "python",
   "pygments_lexer": "ipython3",
   "version": "3.8.8"
  },
  "toc": {
   "base_numbering": 1,
   "nav_menu": {},
   "number_sections": false,
   "sideBar": true,
   "skip_h1_title": false,
   "title_cell": "Table of Contents",
   "title_sidebar": "Contents",
   "toc_cell": false,
   "toc_position": {},
   "toc_section_display": true,
   "toc_window_display": true
  }
 },
 "nbformat": 4,
 "nbformat_minor": 5
}
