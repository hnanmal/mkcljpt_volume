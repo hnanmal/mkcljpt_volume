{
 "cells": [
  {
   "cell_type": "code",
   "execution_count": 6,
   "id": "cubic-dover",
   "metadata": {},
   "outputs": [
    {
     "data": {
      "text/plain": [
       "#'user/_db"
      ]
     },
     "execution_count": 6,
     "metadata": {},
     "output_type": "execute_result"
    }
   ],
   "source": [
    "(def _db {:db {:name \"re-frame\", :form [:animal-name \"adasfdfsdf\"]}})"
   ]
  },
  {
   "cell_type": "code",
   "execution_count": 7,
   "id": "sweet-projector",
   "metadata": {},
   "outputs": [
    {
     "data": {
      "text/plain": [
       "#'user/db"
      ]
     },
     "execution_count": 7,
     "metadata": {},
     "output_type": "execute_result"
    }
   ],
   "source": [
    "(def db (:db _db))"
   ]
  },
  {
   "cell_type": "code",
   "execution_count": 9,
   "id": "electric-reply",
   "metadata": {},
   "outputs": [
    {
     "data": {
      "text/plain": [
       "{:name \"re-frame\", :form [:animal-name \"adasfdfsdf\"]}"
      ]
     },
     "execution_count": 9,
     "metadata": {},
     "output_type": "execute_result"
    }
   ],
   "source": [
    "db"
   ]
  },
  {
   "cell_type": "markdown",
   "id": "mental-helmet",
   "metadata": {},
   "source": [
    "Returns the value in a nested associative structure,<br>\n",
    "where ks is a sequence of keys. Returns nil if the key\n",
    "is not present, or the not-found value if supplied."
   ]
  },
  {
   "cell_type": "code",
   "execution_count": 12,
   "id": "chronic-introduction",
   "metadata": {},
   "outputs": [
    {
     "data": {
      "text/plain": [
       "\"adasfdfsdf\""
      ]
     },
     "execution_count": 12,
     "metadata": {},
     "output_type": "execute_result"
    }
   ],
   "source": [
    "(get-in {:name \"re-frame\", :form {:animal-name \"adasfdfsdf\"}} [:form :animal-name])"
   ]
  },
  {
   "cell_type": "code",
   "execution_count": null,
   "id": "dramatic-salem",
   "metadata": {},
   "outputs": [],
   "source": []
  }
 ],
 "metadata": {
  "kernelspec": {
   "display_name": "Clojure (clojupyter-0.3.2)",
   "language": "clojure",
   "name": "clojupyter-0.3.2"
  },
  "language_info": {
   "file_extension": ".clj",
   "mimetype": "text/x-clojure",
   "name": "clojure",
   "version": "1.10.1"
  },
  "toc": {
   "base_numbering": 1,
   "nav_menu": {},
   "number_sections": true,
   "sideBar": true,
   "skip_h1_title": false,
   "title_cell": "Table of Contents",
   "title_sidebar": "Contents",
   "toc_cell": false,
   "toc_position": {},
   "toc_section_display": true,
   "toc_window_display": false
  },
  "varInspector": {
   "cols": {
    "lenName": 16,
    "lenType": 16,
    "lenVar": 40
   },
   "kernels_config": {
    "python": {
     "delete_cmd_postfix": "",
     "delete_cmd_prefix": "del ",
     "library": "var_list.py",
     "varRefreshCmd": "print(var_dic_list())"
    },
    "r": {
     "delete_cmd_postfix": ") ",
     "delete_cmd_prefix": "rm(",
     "library": "var_list.r",
     "varRefreshCmd": "cat(var_dic_list()) "
    }
   },
   "types_to_exclude": [
    "module",
    "function",
    "builtin_function_or_method",
    "instance",
    "_Feature"
   ],
   "window_display": false
  }
 },
 "nbformat": 4,
 "nbformat_minor": 5
}
