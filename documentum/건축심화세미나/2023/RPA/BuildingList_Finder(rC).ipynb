{
 "cells": [
  {
   "cell_type": "code",
   "execution_count": 16,
   "id": "arctic-dubai",
   "metadata": {},
   "outputs": [],
   "source": [
    "import openpyxl\n",
    "from openpyxl import Workbook\n",
    "from copy import deepcopy\n",
    "from typing import Iterable"
   ]
  },
  {
   "cell_type": "code",
   "execution_count": 17,
   "id": "characteristic-given",
   "metadata": {},
   "outputs": [],
   "source": [
    "def findNotNone(row):\n",
    "    \"\"\"엑셀의 한행 데이터 중, None이 아닌 항목 찾기\"\"\"\n",
    "    return list(filter(lambda x: x != None, row))\n",
    "\n",
    "def countNotNone(vals):\n",
    "    \"\"\"엑셀의 한행 데이터 중, None이 아닌 항목 개수 세기\"\"\"\n",
    "    return list(map(len, (map(findNotNone, vals))))"
   ]
  },
  {
   "cell_type": "code",
   "execution_count": 18,
   "id": "hungarian-marking",
   "metadata": {},
   "outputs": [
    {
     "name": "stdout",
     "output_type": "stream",
     "text": [
      "Help on function countNotNone in module __main__:\n",
      "\n",
      "countNotNone(vals)\n",
      "    엑셀의 한행 데이터 중, None이 아닌 항목 개수 세기\n",
      "\n"
     ]
    }
   ],
   "source": [
    "help(countNotNone)"
   ]
  },
  {
   "cell_type": "code",
   "execution_count": 20,
   "id": "fifth-saying",
   "metadata": {
    "code_folding": []
   },
   "outputs": [],
   "source": [
    "def make_sequential_group(nums):\n",
    "    \"\"\"리스트 중 연속한 숫자들을 서브리스트로 구성한다\"\"\"\n",
    "    res = []\n",
    "    tmp = []\n",
    "    enum_list = list(enumerate(nums))\n",
    "    start_i,start_e = enum_list[0]\n",
    "    for i,e in enum_list:\n",
    "        if (e - start_e) == (i-start_i):\n",
    "            if i == len(nums)-1:\n",
    "                tmp.append(e)\n",
    "                res.append(deepcopy(tmp))\n",
    "            else:\n",
    "                tmp.append(e)\n",
    "                \n",
    "        elif (e - start_e) != (i-start_i):\n",
    "            if i == len(nums)-1:\n",
    "                res.append(deepcopy(tmp))\n",
    "                tmp.clear()\n",
    "                tmp.append(e)\n",
    "                res.append(deepcopy(tmp))\n",
    "            else:\n",
    "                res.append(deepcopy(tmp))\n",
    "                tmp.clear()\n",
    "                start_i,start_e = i,e\n",
    "                tmp.append(e)\n",
    "        else:\n",
    "            res.append(deepcopy(tmp))\n",
    "\n",
    "    return res"
   ]
  },
  {
   "cell_type": "code",
   "execution_count": 44,
   "id": "found-boutique",
   "metadata": {},
   "outputs": [],
   "source": [
    "def find_MergedArea(rowObjs, colObj):\n",
    "    \"\"\"엑셀칼럼객체에서 병합된 셀의 영역idx를 찾는다\"\"\"\n",
    "    startRow_idx = find_header_startRow_idx(rowObjs)\n",
    "    all_idx_merged =  list(filter(lambda x: x > startRow_idx,\n",
    "                             (map(lambda x: x[0],\n",
    "                                  (filter(lambda x: \"Merged\" in str(x),\n",
    "                                          enumerate(colObj)))))))\n",
    "    all_idx_merged.insert(0, startRow_idx)\n",
    "    sequential_group = make_sequential_group(all_idx_merged)\n",
    "\n",
    "    return sequential_group"
   ]
  },
  {
   "cell_type": "code",
   "execution_count": 48,
   "id": "alien-hardware",
   "metadata": {},
   "outputs": [],
   "source": [
    "def find_header_startRow_idx(rowObjs):\n",
    "    \"\"\"None이 아닌 유효 데이터가 갑자기 많아지는 Row idx 찾기(헤더의 시작)\"\"\"\n",
    "    vals = [[x.value for x in y] for y in rowObjs]\n",
    "    validData_count = countNotNone(vals)\n",
    "    \n",
    "    for i,j in enumerate(validData_count):\n",
    "        if j - (validData_count[i-1]) >= 5:\n",
    "            return i"
   ]
  },
  {
   "cell_type": "code",
   "execution_count": 49,
   "id": "automatic-crest",
   "metadata": {},
   "outputs": [],
   "source": [
    "def find_header_endRow_idx(rowObjs, colObjs, startRow_idx):\n",
    "    \"\"\"헤더의 끝 row idx 찾기\"\"\"\n",
    "    MergedAreas = list(map(lambda x: find_MergedArea(rowObjs,x), colObjs))\n",
    "    firstElems_MaybeHeader = map(lambda x: x[0], MergedAreas)\n",
    "    last_idxs = map(lambda x: x[-1], firstElems_MaybeHeader)\n",
    "    \n",
    "    return max(last_idxs)"
   ]
  },
  {
   "cell_type": "code",
   "execution_count": 174,
   "id": "gentle-henry",
   "metadata": {},
   "outputs": [],
   "source": [
    "def fill_missing_h1(headers):\n",
    "    \"\"\"find_header_objs 함수 호출 시, 헤더 최상위 레벨의 병합부분 누락 데이터 채움용\"\"\"\n",
    "    new_h1 = deepcopy(headers[0])\n",
    "    for i,v in enumerate(headers[0]):\n",
    "        if v == None:\n",
    "            new_h1[i] = new_h1[i-1]\n",
    "    headers[0] = new_h1\n",
    "    return headers\n",
    "\n",
    "def find_header_objs(rowObjs, colObjs):\n",
    "    \"\"\"헤더 startRow_idx와 endRow_idx를 기반으로 헤더객체들 추출 \"\"\"\n",
    "    startRow_idx = find_header_startRow_idx(rowObjs)\n",
    "    endRow_idx = find_header_endRow_idx(rowObjs, colObjs, startRow_idx)\n",
    "    range_ = range(startRow_idx, endRow_idx+1)\n",
    "    find_header = lambda rowObj: map(lambda x: x.value, rowObj)\n",
    "    all_headers = list(map(lambda x: list(find_header(rowObjs[x])), range_))\n",
    "    all_headers_h1_filled = fill_missing_h1(all_headers)\n",
    "    zip_all_headers = zip(*all_headers_h1_filled)    \n",
    "    \n",
    "    return zip_all_headers"
   ]
  },
  {
   "cell_type": "code",
   "execution_count": 175,
   "id": "buried-moment",
   "metadata": {},
   "outputs": [],
   "source": [
    "def find_targetColumn_idx(rowObjs, colObjs, _target):\n",
    "    \"\"\"타겟 문자열이 포함된 헤더가 위치한 칼럼 인덱스 추출\"\"\"\n",
    "    headers = list(find_header_objs(rowObjs, colObjs))\n",
    "    headers_with_idx = list(enumerate(headers))\n",
    "    idx = list(map(lambda x: x[0], headers_with_idx))\n",
    "    str_headers = list(map(lambda x: str(x[1]), headers_with_idx))\n",
    "    str_headers_with_idx = list(zip(idx, str_headers))\n",
    "    \n",
    "    targets = _target.split()\n",
    "    \n",
    "    def is_all_include(targets, strs):\n",
    "        res = []\n",
    "        for i in targets:\n",
    "            if i in strs:  res.append(True)\n",
    "            else        :  res.append(False)\n",
    "        return all(res)\n",
    "    \n",
    "    find_f = lambda y: list(filter(lambda x: is_all_include(y ,x[1]), str_headers_with_idx))\n",
    "    \n",
    "    out = find_f(targets)\n",
    "    \n",
    "    return out"
   ]
  },
  {
   "cell_type": "code",
   "execution_count": null,
   "id": "psychological-shirt",
   "metadata": {},
   "outputs": [],
   "source": []
  },
  {
   "cell_type": "markdown",
   "id": "biological-yeast",
   "metadata": {},
   "source": [
    "---\n",
    "<br>\n",
    "\n",
    "---"
   ]
  },
  {
   "cell_type": "code",
   "execution_count": 54,
   "id": "attempted-integration",
   "metadata": {},
   "outputs": [],
   "source": [
    "## 검색할 파일명 기입 ##\n",
    "파일명 = \"Building List Resource_20230110.xlsx\""
   ]
  },
  {
   "cell_type": "code",
   "execution_count": 31,
   "id": "federal-degree",
   "metadata": {},
   "outputs": [],
   "source": [
    "def set_search_engine(filename, header_identifier):\n",
    "    doc = openpyxl.load_workbook(f'{파일명}')\n",
    "    \n",
    "    return doc"
   ]
  },
  {
   "cell_type": "code",
   "execution_count": 265,
   "id": "failing-sharp",
   "metadata": {},
   "outputs": [
    {
     "data": {
      "text/plain": [
       "['EGAT',\n",
       " 'HDO RVMP 2020TA',\n",
       " 'HDO RVMP',\n",
       " 'HDO SDA',\n",
       " 'Vistok',\n",
       " 'IKAN',\n",
       " 'UTCC',\n",
       " 'KLNG',\n",
       " 'SGPC',\n",
       " 'TACE',\n",
       " 'HPP4',\n",
       " 'PTT LNG',\n",
       " 'LINE',\n",
       " 'HNCC PKG-1',\n",
       " 'HNCC PKG-2',\n",
       " 'HNCC PKG-3',\n",
       " 'P-GMTP3',\n",
       " 'MMCC',\n",
       " 'IKCP',\n",
       " 'TVEP']"
      ]
     },
     "execution_count": 265,
     "metadata": {},
     "output_type": "execute_result"
    }
   ],
   "source": [
    "search_engine = set_search_engine(파일명, \"Name\")\n",
    "search_engine.sheetnames"
   ]
  },
  {
   "cell_type": "code",
   "execution_count": 266,
   "id": "trying-companion",
   "metadata": {},
   "outputs": [
    {
     "data": {
      "text/plain": [
       "<Worksheet \"TACE\">"
      ]
     },
     "execution_count": 266,
     "metadata": {},
     "output_type": "execute_result"
    }
   ],
   "source": [
    "sheet = search_engine[\"TACE\"]  # 임시로  search_engine이 doc 역할( 테스트 후 리팩토링 시 주석 삭제 예정)\n",
    "sheet"
   ]
  },
  {
   "cell_type": "code",
   "execution_count": 267,
   "id": "instrumental-ability",
   "metadata": {},
   "outputs": [],
   "source": [
    "def seach_in_targetSheet(sheet, search_target, target_prop):\n",
    "    sheet_name = sheet.title\n",
    "    lookup_target = \"Building Name\"  ##테스트 후 엔진객체에서 추출하는 걸로 수정\n",
    "    rowObjs = list(sheet.rows)\n",
    "    colObjs = list(sheet.columns)\n",
    "    head_startRow_idx = find_header_startRow_idx(rowObjs)\n",
    "    head_endRow_idx = find_header_endRow_idx(rowObjs, colObjs, head_startRow_idx)\n",
    "    lookup_target_col_idx = find_targetColumn_idx(rowObjs, colObjs, lookup_target)[0][0]\n",
    "    \n",
    "    f = lambda y: list(map(lambda x: x.value, colObjs[lookup_target_col_idx]))[y+1:]\n",
    "    data_NoneStr = list(map(str, f(head_endRow_idx)))\n",
    "    all_target_data = list(filter(lambda x: x[1] != 'None', enumerate(data_NoneStr)))\n",
    "    \n",
    "    search_target_data = list(filter(lambda x: search_target in x[1], all_target_data))\n",
    "    search_target_row_idxs = list(map(lambda x: x[0]+head_endRow_idx+1,search_target_data))\n",
    "    search_target_col_idxs = find_targetColumn_idx(rowObjs, colObjs, target_prop)\n",
    "    search_target_col_idx = search_target_col_idxs[0][0]  ## 임시로 첫째항목 기준 데이터 추출로 구현함(추후 수정예정)\n",
    "    \n",
    "    def find_target_prop_data(rowObjs, row_idx, col_idx):\n",
    "        return list(map(lambda x: x.value, rowObjs[row_idx]))[col_idx]\n",
    "    \n",
    "    goal_data = list(map(lambda x: find_target_prop_data(rowObjs, x, search_target_col_idx), search_target_row_idxs))\n",
    "    goal_data_identi = list(map(lambda x: x[1] ,search_target_data))\n",
    "    goal_data_pair = list(zip(goal_data_identi, goal_data))\n",
    "    \n",
    "    result_dict = {sheet_name: goal_data_pair}\n",
    "    \n",
    "    return result_dict"
   ]
  },
  {
   "cell_type": "code",
   "execution_count": 271,
   "id": "major-earthquake",
   "metadata": {},
   "outputs": [
    {
     "data": {
      "text/plain": [
       "{'TACE': [(' Co-Catalyst Shelter', '=22.8*6.5'),\n",
       "  (' Communication center &\\n Air Raid Shelter & Training Building',\n",
       "   '=55.55*14'),\n",
       "  (' Sea water Chlorination Shelter', '=7.1*8'),\n",
       "  (' Sea water Filtration Shelter', '=8.6*5.4')]}"
      ]
     },
     "execution_count": 271,
     "metadata": {},
     "output_type": "execute_result"
    }
   ],
   "source": [
    "seach_in_targetSheet(sheet, \"Shelter\", \"Area\")"
   ]
  },
  {
   "cell_type": "code",
   "execution_count": null,
   "id": "deluxe-suspect",
   "metadata": {},
   "outputs": [],
   "source": []
  },
  {
   "cell_type": "code",
   "execution_count": null,
   "id": "linear-preservation",
   "metadata": {},
   "outputs": [],
   "source": []
  }
 ],
 "metadata": {
  "kernelspec": {
   "display_name": "Python 3",
   "language": "python",
   "name": "python3"
  },
  "language_info": {
   "codemirror_mode": {
    "name": "ipython",
    "version": 3
   },
   "file_extension": ".py",
   "mimetype": "text/x-python",
   "name": "python",
   "nbconvert_exporter": "python",
   "pygments_lexer": "ipython3",
   "version": "3.8.8"
  },
  "toc": {
   "base_numbering": 1,
   "nav_menu": {},
   "number_sections": false,
   "sideBar": true,
   "skip_h1_title": false,
   "title_cell": "Table of Contents",
   "title_sidebar": "Contents",
   "toc_cell": false,
   "toc_position": {},
   "toc_section_display": true,
   "toc_window_display": false
  }
 },
 "nbformat": 4,
 "nbformat_minor": 5
}
