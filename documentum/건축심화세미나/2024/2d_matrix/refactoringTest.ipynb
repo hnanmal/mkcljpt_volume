{
 "cells": [
  {
   "cell_type": "code",
   "execution_count": 1,
   "metadata": {},
   "outputs": [],
   "source": [
    "# import matrixSolve as MSO\n",
    "from matrixSolve import *"
   ]
  },
  {
   "cell_type": "code",
   "execution_count": 2,
   "metadata": {},
   "outputs": [
    {
     "name": "stdout",
     "output_type": "stream",
     "text": [
      "\n",
      "ex 16.1\n"
     ]
    }
   ],
   "source": [
    "Elements2D.elements_list=[] # 위에서 한 예제의 메모리 비우기\n",
    "Nodes.nodes_list = []\n",
    "Nodes.boundary_DOF = []\n",
    "print(\"\\nex 16.1\")"
   ]
  },
  {
   "cell_type": "code",
   "execution_count": 5,
   "metadata": {},
   "outputs": [],
   "source": [
    "def solve14_1():\n",
    "    Elements2D.elements_list=[] # 위에서 한 예제의 메모리 비우기\n",
    "    Nodes.nodes_list = []\n",
    "    Nodes.boundary_DOF = []\n",
    "    #Set node coordination. \n",
    "    # print(\"ex 14.1\")\n",
    "    n1 = Nodes(3,4)\n",
    "    n2 = Nodes(0,0)\n",
    "    n3 = Nodes(3,0)\n",
    "    #set element tag \n",
    "    E1 = Elements2D(n2, n3)\n",
    "    E2 = Elements2D(n2, n1)\n",
    "    #define element properties \n",
    "    E1.Truss2D(1,1)\n",
    "    E2.Truss2D(1,1)\n",
    "\n",
    "\n",
    "    #print(E1.nodes)\n",
    "    #print(E1.x1, E1.y1,   E1.x2, E1.y2)\n",
    "    # print(\"length E1\", E1.length)\n",
    "    # print(\"length E2\", E2.length)\n",
    "\n",
    "    # print(\"k_E1= \\n\",E1.k)\n",
    "    # print(\"k_E2= \\n\",E2.k)\n",
    "\n",
    "    #Node 선언시 자동으로 3개의 자유도를가지게 됨. 아래와 같이 수동으로 자유도 설정하여 예제 비교. \n",
    "    n1.DefineDOF([5,6])\n",
    "    n2.DefineDOF([1,2])\n",
    "    n3.DefineDOF([3,4])\n",
    "\n",
    "\n",
    "    Load = DefineLoad()\n",
    "\n",
    "    Solve = ElasticSolver(Load)\n",
    "\n",
    "\n",
    "    # print(Nodes.boundary_DOF) \n",
    "    n1.fix(1,1,0) # x, y 방향 고정 Mz = 0 초기값\n",
    "    n3.fix(1,1,0)\n",
    "    # print(\"boundary DOFs\", Nodes.boundary_DOF)\n",
    "\n",
    "\n",
    "  \n",
    "\n",
    "\n",
    "    grobal_K = Solve.Build_Matrix(2)\n",
    "    Solve.ReduceMatrix()\n",
    "    res = Solve.SolveStructure()\n",
    "\n",
    "    print(\"!!!\"+str(res))\n",
    "    return res"
   ]
  },
  {
   "cell_type": "code",
   "execution_count": 6,
   "metadata": {},
   "outputs": [
    {
     "name": "stdout",
     "output_type": "stream",
     "text": [
      "λx , λy 1.0 0.0\n",
      "λx , λy 0.6 0.8\n",
      "all dof :  [1, 2, 3, 4, 5, 6]\n",
      "[1 2 3 4]\n",
      "[1 2 5 6]\n",
      "[[ 0.40533333  0.096      -0.33333333  0.         -0.072      -0.096     ]\n",
      " [ 0.096       0.128       0.          0.         -0.096      -0.128     ]\n",
      " [-0.33333333  0.          0.33333333  0.          0.          0.        ]\n",
      " [ 0.          0.          0.          0.          0.          0.        ]\n",
      " [-0.072      -0.096       0.          0.          0.072       0.096     ]\n",
      " [-0.096      -0.128       0.          0.          0.096       0.128     ]]\n",
      "Free DOF :  [1, 2]\n",
      "[[0.40533333 0.096     ]\n",
      " [0.096      0.128     ]]\n",
      "[[0.072      0.096      0.         0.        ]\n",
      " [0.096      0.128      0.         0.        ]\n",
      " [0.         0.         0.33333333 0.        ]\n",
      " [0.         0.         0.         0.        ]]\n",
      "[0. 0.]\n",
      "disp [0. 0. 0. 0. 0. 0.]\n",
      "all force [0. 0. 0. 0. 0. 0.]\n",
      "reaction [0. 0. 0. 0.]\n",
      "!!!None\n"
     ]
    }
   ],
   "source": [
    "solve14_1()"
   ]
  },
  {
   "cell_type": "code",
   "execution_count": null,
   "metadata": {},
   "outputs": [],
   "source": []
  }
 ],
 "metadata": {
  "kernelspec": {
   "display_name": "Python 3",
   "language": "python",
   "name": "python3"
  },
  "language_info": {
   "codemirror_mode": {
    "name": "ipython",
    "version": 3
   },
   "file_extension": ".py",
   "mimetype": "text/x-python",
   "name": "python",
   "nbconvert_exporter": "python",
   "pygments_lexer": "ipython3",
   "version": "3.10.4"
  }
 },
 "nbformat": 4,
 "nbformat_minor": 2
}
