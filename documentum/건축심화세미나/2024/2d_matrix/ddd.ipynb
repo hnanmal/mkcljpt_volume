{
 "cells": [
  {
   "cell_type": "code",
   "execution_count": 3,
   "metadata": {},
   "outputs": [],
   "source": [
    "class Nodes:\n",
    "    nodes_list = []\n",
    "    boundary_DOF = [] # 반력을 산출해야 하는 자유도 번호 정리\n",
    "    def __init__(self, x, y):\n",
    "        self.x = x\n",
    "        self.y = y\n",
    "        self.coordi_pair = (x,y)\n",
    "\n",
    "        nodes_coord_list = list(map(lambda x:x.coordi_pair, Nodes.nodes_list))\n",
    "        if self.coordi_pair not in nodes_coord_list:\n",
    "            Nodes.nodes_list.append(self)# node list 정의\n",
    "        number_of_nodes = len(Nodes.nodes_list)  ##??\n",
    "        self.DOF= [number_of_nodes*3-2,number_of_nodes*3-1,number_of_nodes*3] # Node 별 자유도 자동배치\n",
    "    \n",
    "    def DefineDOF(self,degree_of_freedom):\n",
    "        self.DOF = degree_of_freedom\n",
    "        pass #노드별 자유도값 가지게 하기\n",
    "\n",
    "    def mass(self):\n",
    "        pass\n",
    "\n",
    "    def fix(self,x,y,Mz=0):\n",
    "        \n",
    "        if x == 1: \n",
    "            Nodes.boundary_DOF.append(self.DOF[0])\n",
    "        if y == 1: \n",
    "            Nodes.boundary_DOF.append(self.DOF[1])\n",
    "        if Mz == 1:\n",
    "            Nodes.boundary_DOF.append(self.DOF[2])\n",
    "\n",
    "\n",
    "\n",
    "    @classmethod \n",
    "    def get_nodes_list(cls):\n",
    "        return cls.nodes_list"
   ]
  },
  {
   "cell_type": "code",
   "execution_count": 4,
   "metadata": {},
   "outputs": [],
   "source": [
    "n1 = Nodes(3,4)\n",
    "n2 = Nodes(1,2)"
   ]
  },
  {
   "cell_type": "code",
   "execution_count": 5,
   "metadata": {},
   "outputs": [
    {
     "data": {
      "text/plain": [
       "[<__main__.Nodes at 0x21218441ed0>, <__main__.Nodes at 0x212185f9c60>]"
      ]
     },
     "execution_count": 5,
     "metadata": {},
     "output_type": "execute_result"
    }
   ],
   "source": [
    "Nodes.get_nodes_list()"
   ]
  },
  {
   "cell_type": "code",
   "execution_count": 6,
   "metadata": {},
   "outputs": [
    {
     "data": {
      "text/plain": [
       "4"
      ]
     },
     "execution_count": 6,
     "metadata": {},
     "output_type": "execute_result"
    }
   ],
   "source": [
    "dir(n1)\n",
    "n1.y"
   ]
  },
  {
   "cell_type": "code",
   "execution_count": 12,
   "metadata": {},
   "outputs": [],
   "source": [
    "class Elements2D:\n",
    "    elements_list = []\n",
    "    def __init__(self, node1, node2):\n",
    "        self.nodes = [node1, node2]\n",
    "        self.node1 = node1\n",
    "        self.node2 = node2\n",
    "        self.x1 = node1.x\n",
    "        self.x2 = node2.x\n",
    "        self.y1 = node1.y\n",
    "        self.y2 = node2.y\n",
    "        self.length = ( (self.x2 - self.x1)**2 + (self.y2 - self.y1)**2 )**0.5\n",
    "        # Elements2D.elements_list.append(self)\n",
    "        # elements_nodes_list = nodes_coord_list = list(map(lambda x:x.nodes, Elements2D.elements_list))\n",
    "        # if self.nodes not in elements_nodes_list:\n",
    "        #     Elements2D.elements_list.append(self)# element list 정의 ## elements_list는 밖으로 빼는 것이?\n",
    "    \n",
    "    def addTo_elemList(self):\n",
    "            Elements2D.elements_list.append(self)"
   ]
  },
  {
   "cell_type": "code",
   "execution_count": 13,
   "metadata": {},
   "outputs": [],
   "source": [
    "e1 = Elements2D(n1,n2)"
   ]
  },
  {
   "cell_type": "code",
   "execution_count": 14,
   "metadata": {},
   "outputs": [
    {
     "name": "stdout",
     "output_type": "stream",
     "text": [
      "[]\n"
     ]
    }
   ],
   "source": [
    "print(Elements2D.elements_list)"
   ]
  },
  {
   "cell_type": "code",
   "execution_count": 15,
   "metadata": {},
   "outputs": [],
   "source": [
    "e1.addTo_elemList()"
   ]
  },
  {
   "cell_type": "code",
   "execution_count": 16,
   "metadata": {},
   "outputs": [
    {
     "name": "stdout",
     "output_type": "stream",
     "text": [
      "[<__main__.Elements2D object at 0x00000212197FC6D0>]\n"
     ]
    }
   ],
   "source": [
    "print(Elements2D.elements_list)"
   ]
  },
  {
   "cell_type": "code",
   "execution_count": 25,
   "metadata": {},
   "outputs": [
    {
     "name": "stdout",
     "output_type": "stream",
     "text": [
      "3\n",
      "4\n",
      "1\n",
      "2\n"
     ]
    }
   ],
   "source": [
    "print(Elements2D.elements_list[0].node1.x)\n",
    "print(Elements2D.elements_list[0].node1.y)\n",
    "print(Elements2D.elements_list[0].node2.x)\n",
    "print(Elements2D.elements_list[0].node2.y)"
   ]
  },
  {
   "cell_type": "code",
   "execution_count": null,
   "metadata": {},
   "outputs": [],
   "source": []
  }
 ],
 "metadata": {
  "kernelspec": {
   "display_name": "Python 3",
   "language": "python",
   "name": "python3"
  },
  "language_info": {
   "codemirror_mode": {
    "name": "ipython",
    "version": 3
   },
   "file_extension": ".py",
   "mimetype": "text/x-python",
   "name": "python",
   "nbconvert_exporter": "python",
   "pygments_lexer": "ipython3",
   "version": "3.10.4"
  }
 },
 "nbformat": 4,
 "nbformat_minor": 2
}
