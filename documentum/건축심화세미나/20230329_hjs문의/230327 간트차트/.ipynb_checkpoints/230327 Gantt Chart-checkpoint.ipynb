{
 "cells": [
  {
   "cell_type": "code",
   "execution_count": 1,
   "id": "square-cattle",
   "metadata": {},
   "outputs": [],
   "source": [
    "import matplotlib\n",
    "matplotlib.use('Agg')\n",
    "import csv\n",
    "from dataclasses import dataclass, field, asdict, astuple\n",
    "from typing import List\n",
    "from collections import namedtuple\n",
    "from functools import reduce\n",
    "from functools import partial\n",
    "# import forallpeople as si ## 단위 변환 관련 패키지(아직 미사용)\n",
    "import math\n",
    "# %matplotlib Tk\n",
    "\n",
    "import matplotlib.pyplot as plt\n",
    "import numpy as np\n",
    "import datetime\n",
    "# import matplotlib.transforms as transforms"
   ]
  },
  {
   "cell_type": "code",
   "execution_count": 2,
   "id": "oriental-upper",
   "metadata": {},
   "outputs": [],
   "source": [
    "def importCSV(_path):\n",
    "    with open(_path,'r') as f:\n",
    "        reader = csv.reader(f, delimiter='\\t')\n",
    "        res = [x for x in reader]\n",
    "        \n",
    "        new_list = []\n",
    "        for sublist in res:\n",
    "            # 첫 항의 띄어쓰기 수 계산\n",
    "            num_spaces = len(sublist[0]) - len(sublist[0].lstrip())\n",
    "\n",
    "            # 띄어쓰기를 제거하여 새로운 리스트에 저장\n",
    "            new_sublist = [sublist[0].lstrip()]\n",
    "            new_sublist.extend([item.strip() for item in sublist[1:]])\n",
    "\n",
    "            # 첫 항의 띄어쓰기 수를 첫 요소로 추가하여 저장\n",
    "            new_sublist.insert(0, num_spaces)\n",
    "            new_list.append(new_sublist)\n",
    "            # 코드 앞4글자를 추가하여 저장\n",
    "            new_sublist.insert(1,sublist[0].lstrip()[7:9])\n",
    "        \n",
    "            new_list.append(new_sublist)\n",
    "        \n",
    "    return new_list"
   ]
  },
  {
   "cell_type": "code",
   "execution_count": 3,
   "id": "polished-bouquet",
   "metadata": {},
   "outputs": [],
   "source": [
    "def exportCSV(_filename, _datas):\n",
    "    f = open(_filename, 'w', newline='') # 자동줄바꿈 방지 header 이후 첫행 빈행 생성 방지\n",
    "    csv_writer = csv.writer(f)\n",
    "    \n",
    "    for x in _datas:\n",
    "        csv_writer.writerow(x)\n",
    "    f.close()"
   ]
  },
  {
   "cell_type": "code",
   "execution_count": 4,
   "id": "identified-basement",
   "metadata": {},
   "outputs": [],
   "source": [
    "#################################Module For Functional Programing#############################################\n",
    "curry = lambda f: lambda a,*args: f(a, *args) if (len(args)) else lambda *args: f(a, *args)\n",
    "\n",
    "filter = curry(filter)\n",
    "map = curry(map)\n",
    "\n",
    "def _take(length, iter):\n",
    "    res = []\n",
    "    for a in iter:\n",
    "        res.append(a)\n",
    "        if len(res) == length:\n",
    "            return res\n",
    "        \n",
    "take = curry(_take)\n",
    "reduce = curry(reduce)\n",
    "\n",
    "go = lambda *args: reduce(lambda a,f: f(a), args) ## 함수도 축약 가능 ##\n",
    "##############################################################################################################"
   ]
  },
  {
   "cell_type": "code",
   "execution_count": 5,
   "id": "handled-webster",
   "metadata": {},
   "outputs": [
    {
     "data": {
      "text/plain": [
       "'/home/jovyan/notebooks/documentum/건축심화세미나/20230329_hjs문의/230327 간트차트'"
      ]
     },
     "execution_count": 5,
     "metadata": {},
     "output_type": "execute_result"
    }
   ],
   "source": [
    "import os\n",
    "os.getcwd()"
   ]
  },
  {
   "cell_type": "code",
   "execution_count": 6,
   "id": "natural-chick",
   "metadata": {},
   "outputs": [],
   "source": [
    "input_path = './Schedule Input.csv'"
   ]
  },
  {
   "cell_type": "code",
   "execution_count": 7,
   "id": "parliamentary-guide",
   "metadata": {},
   "outputs": [
    {
     "ename": "FileNotFoundError",
     "evalue": "[Errno 2] No such file or directory: '/home/jovyan/notebooks/230327 간트차트/Schedule Input.csv'",
     "output_type": "error",
     "traceback": [
      "\u001b[0;31m\u001b[0m",
      "\u001b[0;31mFileNotFoundError\u001b[0mTraceback (most recent call last)",
      "\u001b[0;32m<ipython-input-7-5b426daa1afe>\u001b[0m in \u001b[0;36m<module>\u001b[0;34m\u001b[0m\n\u001b[0;32m----> 1\u001b[0;31m \u001b[0mdfScheduleSet\u001b[0m \u001b[0;34m=\u001b[0m \u001b[0mimportCSV\u001b[0m\u001b[0;34m(\u001b[0m\u001b[0minput_path\u001b[0m\u001b[0;34m)\u001b[0m\u001b[0;34m\u001b[0m\u001b[0;34m\u001b[0m\u001b[0m\n\u001b[0m\u001b[1;32m      2\u001b[0m \u001b[0mdfScheduleSet\u001b[0m\u001b[0;34m\u001b[0m\u001b[0;34m\u001b[0m\u001b[0m\n",
      "\u001b[0;32m<ipython-input-2-13ee0c47738e>\u001b[0m in \u001b[0;36mimportCSV\u001b[0;34m(_path)\u001b[0m\n\u001b[1;32m      1\u001b[0m \u001b[0;32mdef\u001b[0m \u001b[0mimportCSV\u001b[0m\u001b[0;34m(\u001b[0m\u001b[0m_path\u001b[0m\u001b[0;34m)\u001b[0m\u001b[0;34m:\u001b[0m\u001b[0;34m\u001b[0m\u001b[0;34m\u001b[0m\u001b[0m\n\u001b[0;32m----> 2\u001b[0;31m     \u001b[0;32mwith\u001b[0m \u001b[0mopen\u001b[0m\u001b[0;34m(\u001b[0m\u001b[0m_path\u001b[0m\u001b[0;34m,\u001b[0m\u001b[0;34m'r'\u001b[0m\u001b[0;34m)\u001b[0m \u001b[0;32mas\u001b[0m \u001b[0mf\u001b[0m\u001b[0;34m:\u001b[0m\u001b[0;34m\u001b[0m\u001b[0;34m\u001b[0m\u001b[0m\n\u001b[0m\u001b[1;32m      3\u001b[0m         \u001b[0mreader\u001b[0m \u001b[0;34m=\u001b[0m \u001b[0mcsv\u001b[0m\u001b[0;34m.\u001b[0m\u001b[0mreader\u001b[0m\u001b[0;34m(\u001b[0m\u001b[0mf\u001b[0m\u001b[0;34m,\u001b[0m \u001b[0mdelimiter\u001b[0m\u001b[0;34m=\u001b[0m\u001b[0;34m'\\t'\u001b[0m\u001b[0;34m)\u001b[0m\u001b[0;34m\u001b[0m\u001b[0;34m\u001b[0m\u001b[0m\n\u001b[1;32m      4\u001b[0m         \u001b[0mres\u001b[0m \u001b[0;34m=\u001b[0m \u001b[0;34m[\u001b[0m\u001b[0mx\u001b[0m \u001b[0;32mfor\u001b[0m \u001b[0mx\u001b[0m \u001b[0;32min\u001b[0m \u001b[0mreader\u001b[0m\u001b[0;34m]\u001b[0m\u001b[0;34m\u001b[0m\u001b[0;34m\u001b[0m\u001b[0m\n\u001b[1;32m      5\u001b[0m \u001b[0;34m\u001b[0m\u001b[0m\n",
      "\u001b[0;31mFileNotFoundError\u001b[0m: [Errno 2] No such file or directory: '/home/jovyan/notebooks/230327 간트차트/Schedule Input.csv'"
     ]
    }
   ],
   "source": [
    "dfScheduleSet = importCSV(input_path)\n",
    "dfScheduleSet"
   ]
  },
  {
   "cell_type": "code",
   "execution_count": null,
   "id": "conscious-procurement",
   "metadata": {},
   "outputs": [],
   "source": []
  },
  {
   "cell_type": "code",
   "execution_count": null,
   "id": "imported-phone",
   "metadata": {},
   "outputs": [],
   "source": [
    "dfHeader = dfScheduleSet.pop(0)\n",
    "dfHeader"
   ]
  },
  {
   "cell_type": "code",
   "execution_count": null,
   "id": "spiritual-assault",
   "metadata": {
    "scrolled": true
   },
   "outputs": [],
   "source": [
    "def makeScheduleForm(args):\n",
    "    \n",
    "    Form = namedtuple('ScheduleForm', ['Level','Cate','ActivityID', 'New', 'ActivityName', 'Duration', 'Start', 'Finish']\n",
    "                     )\n",
    "    form =         Form(Level=args[0], Cate=args[1], ActivityID=args[2], New=args[3], \n",
    "            ActivityName=args[4], Duration=args[5], \n",
    "            Start=args[6], Finish=args[7])        \n",
    "    \n",
    "    return form\n",
    "\n",
    "_targetSchedule = list(filter(lambda x: makeScheduleForm(x).Cate== \"AR\", dfScheduleSet))[0]\n",
    "targetSchedule = makeScheduleForm(_targetSchedule)\n",
    "targetSchedule"
   ]
  },
  {
   "cell_type": "code",
   "execution_count": null,
   "id": "detailed-spray",
   "metadata": {},
   "outputs": [],
   "source": [
    "## 여기서 makeSectionForms는 데이터를 저장하지 않고 함수 객체를 저장한다. C#, JAVA에서의 Delegate와 동일\n",
    "makeScheduleForms = lambda _list: go\\\n",
    "(\n",
    "    _list,\n",
    "    map(makeScheduleForm),\n",
    "    filter(lambda x: makeScheduleForm(x).Cate ==\"AR\"),\n",
    "    \n",
    "list)"
   ]
  },
  {
   "cell_type": "code",
   "execution_count": null,
   "id": "personal-version",
   "metadata": {},
   "outputs": [],
   "source": [
    "multiScheduleForm = lambda _list: go\\\n",
    "(\n",
    "    _list,\n",
    "    map(makeScheduleForm),\n",
    "    filter(lambda x: makeScheduleForm(x).Cate ==\"AR\"),\n",
    "    \n",
    "list)"
   ]
  },
  {
   "cell_type": "code",
   "execution_count": null,
   "id": "corporate-threshold",
   "metadata": {},
   "outputs": [],
   "source": [
    "multiScheduleForm(targetSchedules)"
   ]
  },
  {
   "cell_type": "code",
   "execution_count": null,
   "id": "structured-cattle",
   "metadata": {},
   "outputs": [],
   "source": [
    "import matplotlib.pyplot as plt\n",
    "\n",
    "def draw_gantt_chart(schedule_forms):\n",
    "    # 시작일, 종료일, 활동명, 활동번호 추출\n",
    "    starts = [datetime.datetime.strptime(schedule.Start, \"%d-%b-%y\") for schedule in schedule_forms]\n",
    "    ends = [datetime.datetime.strptime(schedule.Finish, \"%d-%b-%y\") for schedule in schedule_forms]\n",
    "    activities = [schedule.ActivityName for schedule in schedule_forms]\n",
    "    ids = [schedule.ActivityID for schedule in schedule_forms]\n",
    "\n",
    "    sorted_schedules = sorted(schedule_forms, key=lambda x: x.Start)\n",
    "    fig, axs = plt.subplots(len(set(schedule.Cate for schedule in schedule_forms)), figsize=(10, 5), sharey=True)\n",
    "    \n",
    "    axs = np.array(axs).flatten() # axs를 1차원 리스트로 변환\n",
    "    \n",
    "    for i, category in enumerate(set(schedule.Cate for schedule in schedule_forms)):\n",
    "        category_schedules = list(filter(lambda x: x.Cate == category, sorted_schedules))\n",
    "        bars = axs[i].barh(range(len(category_schedules)), \n",
    "                           [(schedule.Finish - schedule.Start).days for schedule in category_schedules],\n",
    "                           left=[(schedule.Start - sorted_schedules[0].Start).days for schedule in category_schedules],\n",
    "                           height=0.5, align='center', color='green', alpha=0.5)\n",
    "        \n",
    "        axs[i].set_title(category)\n",
    "        axs[i].set_yticks(range(len(category_schedules)))\n",
    "        axs[i].set_yticklabels([schedule.ActivityName for schedule in category_schedules])\n",
    "        axs[i].set_xlim(0, (sorted_schedules[-1].Finish - sorted_schedules[0].Start).days + 1)\n",
    "        axs[i].invert_yaxis()\n",
    "\n",
    "    plt.tight_layout()\n",
    "    plt.show()"
   ]
  },
  {
   "cell_type": "code",
   "execution_count": null,
   "id": "lucky-award",
   "metadata": {},
   "outputs": [],
   "source": [
    "import matplotlib.pyplot as plt\n",
    "\n",
    "def draw_gantt_chart(schedule_forms):\n",
    "    # 시작일, 종료일, 활동명, 활동번호 추출\n",
    "    starts = [datetime.datetime.strptime(form.Start, \"%d-%b-%y\") for form in schedule_forms]\n",
    "    ends = [datetime.datetime.strptime(form.Finish, \"%d-%b-%y\") for form in schedule_forms]\n",
    "    activities = [form.ActivityName for form in schedule_forms]\n",
    "    ids = [form.ActivityID for form in schedule_forms]\n",
    "\n",
    "    # 그래프 설정\n",
    "    fig, ax = plt.subplots(figsize=(10, 60))\n",
    "    ax.grid(True)\n",
    "    ax.set_ylim([0, 1])\n",
    "    ax.set_xlim([min(starts), max(ends)])\n",
    "    ax.set_xlabel('Date')\n",
    "    ax.set_yticks([0.5])\n",
    "    ax.set_yticklabels(['Activities'])\n",
    "\n",
    "    # 각각의 활동을 그리기 위한 반복문\n",
    "    for i in range(len(schedule_forms)):\n",
    "        ax.broken_barh([(starts[i], (ends[i] - starts[i]).days)], (0.25, 0.5), edgecolors='black')\n",
    "        ax.text(starts[i], 0.5, activities[i] + \" (\" + ids[i] + \")\", ha='left', va='center')\n",
    "\n",
    "    plt.show()"
   ]
  },
  {
   "cell_type": "code",
   "execution_count": null,
   "id": "touched-reminder",
   "metadata": {},
   "outputs": [],
   "source": [
    "len(multiScheduleForm(targetSchedules))"
   ]
  },
  {
   "cell_type": "code",
   "execution_count": null,
   "id": "amended-tactics",
   "metadata": {},
   "outputs": [],
   "source": [
    "def create_gantt_chart(schedule_list):\n",
    "    activity_times = {}\n",
    "    for schedule in schedule_list:\n",
    "        activity_times[schedule.ActivityName] = (datetime.datetime.strptime(schedule.Start, '%d-%b-%y'), \n",
    "                                                  datetime.datetime.strptime(schedule.Finish, '%d-%b-%y'))\n",
    "    \n",
    "    fig, ax = plt.subplots(figsize=(50, len(schedule_list)/6))\n",
    "    \n",
    "    # Set font size\n",
    "    plt.rcParams.update({'font.size': 5})\n",
    "    \n",
    "     # Set x-axis range\n",
    "    min_date = min(activity_times.values(), key=lambda x: x[0])[0] - datetime.timedelta(days=30)\n",
    "    max_date = max(activity_times.values(), key=lambda x: x[1])[1] + datetime.timedelta(days=30)\n",
    "    plt.xlim(min_date, max_date)\n",
    "    \n",
    "    # Plot horizontal bars for each activity\n",
    "    y_pos = list(range(len(activity_times)))\n",
    "    height = 0.4\n",
    "    for idx, (activity, times) in enumerate(activity_times.items()):\n",
    "        ax.broken_barh([(times[0], times[1]-times[0])], (idx+height/4, height/2), \n",
    "                       facecolors=['tab:blue'])\n",
    "        ax.text(times[0] + (times[1]-times[0])/2, idx+height/2, activity, ha='center', va='center')\n",
    "    \n",
    "    # Set y-axis labels\n",
    "    ax.set_yticks(y_pos)\n",
    "    ax.set_yticklabels(activity_times.keys())\n",
    "    \n",
    "    # Set x-axis label\n",
    "    ax.set_xlabel('Date')\n",
    "    \n",
    "    # Set plot title\n",
    "    ax.set_title('Gantt Chart')\n",
    "    \n",
    "    # Show plot\n",
    "    plt.show()"
   ]
  },
  {
   "cell_type": "code",
   "execution_count": null,
   "id": "electoral-mining",
   "metadata": {
    "scrolled": false
   },
   "outputs": [],
   "source": [
    "create_gantt_chart(multiScheduleForm(targetSchedules))"
   ]
  },
  {
   "cell_type": "code",
   "execution_count": null,
   "id": "serious-optimum",
   "metadata": {},
   "outputs": [],
   "source": []
  },
  {
   "cell_type": "code",
   "execution_count": null,
   "id": "elect-secret",
   "metadata": {},
   "outputs": [],
   "source": []
  }
 ],
 "metadata": {
  "kernelspec": {
   "display_name": "Python 3",
   "language": "python",
   "name": "python3"
  },
  "language_info": {
   "codemirror_mode": {
    "name": "ipython",
    "version": 3
   },
   "file_extension": ".py",
   "mimetype": "text/x-python",
   "name": "python",
   "nbconvert_exporter": "python",
   "pygments_lexer": "ipython3",
   "version": "3.8.8"
  },
  "toc": {
   "base_numbering": 1,
   "nav_menu": {},
   "number_sections": false,
   "sideBar": true,
   "skip_h1_title": false,
   "title_cell": "Table of Contents",
   "title_sidebar": "Contents",
   "toc_cell": false,
   "toc_position": {},
   "toc_section_display": true,
   "toc_window_display": false
  }
 },
 "nbformat": 4,
 "nbformat_minor": 5
}
