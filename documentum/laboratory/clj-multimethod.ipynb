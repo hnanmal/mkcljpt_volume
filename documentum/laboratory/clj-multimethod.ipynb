{
 "cells": [
  {
   "cell_type": "code",
   "execution_count": 1,
   "id": "architectural-projection",
   "metadata": {},
   "outputs": [
    {
     "data": {
      "text/plain": [
       "#'user/french-map"
      ]
     },
     "execution_count": 1,
     "metadata": {},
     "output_type": "execute_result"
    }
   ],
   "source": [
    "(def english-map {\"id\" \"1\", \"language\" \"English\"})\n",
    "(def french-map {\"id\" \"2\", \"language\" \"French\"})"
   ]
  },
  {
   "cell_type": "code",
   "execution_count": 2,
   "id": "obvious-tuner",
   "metadata": {},
   "outputs": [
    {
     "data": {
      "text/plain": [
       "#'user/greeting"
      ]
     },
     "execution_count": 2,
     "metadata": {},
     "output_type": "execute_result"
    }
   ],
   "source": [
    "(defn greeting [language-map]\n",
    "  (case (language-map \"language\")\n",
    "    \"English\" \"Hello!\"\n",
    "    \"French\" \"Bonjour!\"))"
   ]
  },
  {
   "cell_type": "code",
   "execution_count": 3,
   "id": "latest-hughes",
   "metadata": {},
   "outputs": [
    {
     "data": {
      "text/plain": [
       "\"Hello!\""
      ]
     },
     "execution_count": 3,
     "metadata": {},
     "output_type": "execute_result"
    }
   ],
   "source": [
    "(greeting english-map)"
   ]
  },
  {
   "cell_type": "code",
   "execution_count": 4,
   "id": "cellular-creativity",
   "metadata": {},
   "outputs": [
    {
     "data": {
      "text/plain": [
       "\"Bonjour!\""
      ]
     },
     "execution_count": 4,
     "metadata": {},
     "output_type": "execute_result"
    }
   ],
   "source": [
    "(greeting french-map)"
   ]
  },
  {
   "cell_type": "code",
   "execution_count": 5,
   "id": "laden-texas",
   "metadata": {},
   "outputs": [
    {
     "data": {
      "text/plain": [
       "#'user/spanish-map"
      ]
     },
     "execution_count": 5,
     "metadata": {},
     "output_type": "execute_result"
    }
   ],
   "source": [
    "(def english-map {\"id\" \"1\", \"language\" \"English\"})\n",
    "(def french-map {\"id\" \"2\", \"language\" \"French\"})\n",
    "(def spanish-map {\"id\" \"3\", \"language\" \"Spanish\"})"
   ]
  },
  {
   "cell_type": "code",
   "execution_count": 6,
   "id": "entitled-vegetation",
   "metadata": {},
   "outputs": [
    {
     "data": {
      "text/plain": [
       "#'user/greeting"
      ]
     },
     "execution_count": 6,
     "metadata": {},
     "output_type": "execute_result"
    }
   ],
   "source": [
    "(defmulti greeting\n",
    "  (fn[x] (x \"language\")))"
   ]
  },
  {
   "cell_type": "code",
   "execution_count": 7,
   "id": "smart-cotton",
   "metadata": {},
   "outputs": [
    {
     "data": {
      "text/plain": [
       "#multifn[greeting 0x7972e2b8]"
      ]
     },
     "execution_count": 7,
     "metadata": {},
     "output_type": "execute_result"
    }
   ],
   "source": [
    "(defmethod greeting \"English\" [params]\n",
    " \"Hello!\")\n",
    "\n",
    "(defmethod greeting \"French\" [params]\n",
    " \"Bonjour!\")\n",
    "\n",
    "(defmethod greeting :default [params]\n",
    " (throw (IllegalArgumentException.\n",
    "          (str \"I don't know the \" (params \"language\") \" language\"))))"
   ]
  },
  {
   "cell_type": "code",
   "execution_count": 8,
   "id": "adolescent-hammer",
   "metadata": {},
   "outputs": [
    {
     "data": {
      "text/plain": [
       "\"Hello!\""
      ]
     },
     "execution_count": 8,
     "metadata": {},
     "output_type": "execute_result"
    }
   ],
   "source": [
    "(greeting english-map)"
   ]
  },
  {
   "cell_type": "code",
   "execution_count": 9,
   "id": "wooden-thing",
   "metadata": {},
   "outputs": [
    {
     "data": {
      "text/plain": [
       "\"Bonjour!\""
      ]
     },
     "execution_count": 9,
     "metadata": {},
     "output_type": "execute_result"
    }
   ],
   "source": [
    "(greeting french-map)"
   ]
  },
  {
   "cell_type": "code",
   "execution_count": 10,
   "id": "smoking-testament",
   "metadata": {},
   "outputs": [
    {
     "name": "stderr",
     "output_type": "stream",
     "text": [
      "Execution error (IllegalArgumentException) at user/eval4116$fn (REPL:9).\n",
      "I don't know the Spanish language\n"
     ]
    },
    {
     "ename": "class java.lang.IllegalArgumentException",
     "evalue": "",
     "output_type": "error",
     "traceback": [
      "MultiFn.java:   229 clojure.lang.MultiFn/invoke",
      "    core.clj:  3214 clojure.core$eval/invokeStatic",
      "    core.clj:  3210 clojure.core$eval/invoke",
      "    main.clj:   437 clojure.main$repl$read_eval_print__9086$fn__9089/invoke",
      "    main.clj:   458 clojure.main$repl$fn__9095/invoke",
      "    main.clj:   368 clojure.main$repl/doInvoke",
      " RestFn.java:  1523 clojure.lang.RestFn/invoke",
      "    AFn.java:    22 clojure.lang.AFn/run",
      "    AFn.java:    22 clojure.lang.AFn/run",
      " Thread.java:   748 java.lang.Thread/run"
     ]
    }
   ],
   "source": [
    "(greeting spanish-map)"
   ]
  },
  {
   "cell_type": "code",
   "execution_count": 11,
   "id": "dressed-guess",
   "metadata": {},
   "outputs": [
    {
     "data": {
      "text/plain": [
       "#'user/seoul"
      ]
     },
     "execution_count": 11,
     "metadata": {},
     "output_type": "execute_result"
    }
   ],
   "source": [
    "(def todd {:id 1 :name \"todd\" :age 10})\n",
    "(def seoul {:id 1 :name \"Seoul\"})"
   ]
  },
  {
   "cell_type": "code",
   "execution_count": 12,
   "id": "simple-making",
   "metadata": {},
   "outputs": [
    {
     "data": {
      "text/plain": [
       "#'user/add-age"
      ]
     },
     "execution_count": 12,
     "metadata": {},
     "output_type": "execute_result"
    }
   ],
   "source": [
    "(defn add-age [user age]\n",
    "  (+ (:age user) age))"
   ]
  },
  {
   "cell_type": "code",
   "execution_count": 13,
   "id": "experimental-accordance",
   "metadata": {},
   "outputs": [
    {
     "data": {
      "text/plain": [
       "20"
      ]
     },
     "execution_count": 13,
     "metadata": {},
     "output_type": "execute_result"
    }
   ],
   "source": [
    "(add-age todd 10)"
   ]
  },
  {
   "cell_type": "code",
   "execution_count": 14,
   "id": "major-holder",
   "metadata": {},
   "outputs": [
    {
     "name": "stderr",
     "output_type": "stream",
     "text": [
      "Execution error (NullPointerException) at user/add-age (REPL:2).\n",
      "null\n"
     ]
    },
    {
     "ename": "class java.lang.NullPointerException",
     "evalue": "",
     "output_type": "error",
     "traceback": [
      "Numbers.java:  1068 clojure.lang.Numbers/ops",
      "Numbers.java:   153 clojure.lang.Numbers/add",
      "    core.clj:  3214 clojure.core$eval/invokeStatic",
      "    core.clj:  3210 clojure.core$eval/invoke",
      "    main.clj:   437 clojure.main$repl$read_eval_print__9086$fn__9089/invoke",
      "    main.clj:   458 clojure.main$repl$fn__9095/invoke",
      "    main.clj:   368 clojure.main$repl/doInvoke",
      " RestFn.java:  1523 clojure.lang.RestFn/invoke",
      "    AFn.java:    22 clojure.lang.AFn/run",
      "    AFn.java:    22 clojure.lang.AFn/run",
      " Thread.java:   748 java.lang.Thread/run"
     ]
    }
   ],
   "source": [
    "(add-age seoul 10)"
   ]
  },
  {
   "cell_type": "code",
   "execution_count": 15,
   "id": "national-syracuse",
   "metadata": {},
   "outputs": [
    {
     "data": {
      "text/plain": [
       "user.User"
      ]
     },
     "execution_count": 15,
     "metadata": {},
     "output_type": "execute_result"
    }
   ],
   "source": [
    "(defrecord User [id name age])"
   ]
  },
  {
   "cell_type": "code",
   "execution_count": 16,
   "id": "common-gathering",
   "metadata": {},
   "outputs": [
    {
     "data": {
      "text/plain": [
       "#user.User{:id 1, :name \"todd\", :age 10}"
      ]
     },
     "execution_count": 16,
     "metadata": {},
     "output_type": "execute_result"
    }
   ],
   "source": [
    "(->User 1 \"todd\" 10)"
   ]
  },
  {
   "cell_type": "code",
   "execution_count": 17,
   "id": "adjustable-penguin",
   "metadata": {},
   "outputs": [
    {
     "data": {
      "text/plain": [
       "#user.User{:id 1, :name \"todd\", :age 10}"
      ]
     },
     "execution_count": 17,
     "metadata": {},
     "output_type": "execute_result"
    }
   ],
   "source": [
    "(map->User {:id 1 :name \"todd\" :age 10})"
   ]
  },
  {
   "cell_type": "code",
   "execution_count": 18,
   "id": "separate-aaron",
   "metadata": {},
   "outputs": [
    {
     "data": {
      "text/plain": [
       "#'user/todd-with-level"
      ]
     },
     "execution_count": 18,
     "metadata": {},
     "output_type": "execute_result"
    }
   ],
   "source": [
    "(def todd-with-level (assoc todd :level 1))"
   ]
  },
  {
   "cell_type": "code",
   "execution_count": 19,
   "id": "abstract-glasgow",
   "metadata": {},
   "outputs": [
    {
     "data": {
      "text/plain": [
       "1"
      ]
     },
     "execution_count": 19,
     "metadata": {},
     "output_type": "execute_result"
    }
   ],
   "source": [
    "(:level todd-with-level)"
   ]
  },
  {
   "cell_type": "code",
   "execution_count": 20,
   "id": "adolescent-diary",
   "metadata": {},
   "outputs": [
    {
     "data": {
      "text/plain": [
       "clojure.lang.PersistentArrayMap"
      ]
     },
     "execution_count": 20,
     "metadata": {},
     "output_type": "execute_result"
    }
   ],
   "source": [
    "(class todd-with-level)"
   ]
  },
  {
   "cell_type": "code",
   "execution_count": 21,
   "id": "wooden-curve",
   "metadata": {},
   "outputs": [
    {
     "data": {
      "text/plain": [
       "user.User"
      ]
     },
     "execution_count": 21,
     "metadata": {},
     "output_type": "execute_result"
    }
   ],
   "source": [
    "(defrecord User [id name age])"
   ]
  },
  {
   "cell_type": "code",
   "execution_count": 22,
   "id": "altered-olive",
   "metadata": {},
   "outputs": [
    {
     "data": {
      "text/plain": [
       "#'user/seoul"
      ]
     },
     "execution_count": 22,
     "metadata": {},
     "output_type": "execute_result"
    }
   ],
   "source": [
    "(def todd (map->User {:id 1 :name \"todd\" :age 10}))\n",
    "(def seoul {:id 1 :name \"Seoul\"})"
   ]
  },
  {
   "cell_type": "code",
   "execution_count": 23,
   "id": "applicable-nation",
   "metadata": {},
   "outputs": [
    {
     "data": {
      "text/plain": [
       "#'user/add-age"
      ]
     },
     "execution_count": 23,
     "metadata": {},
     "output_type": "execute_result"
    }
   ],
   "source": [
    "(defn add-age [user age]\n",
    "  (when-not (= (class user) User)\n",
    "    (throw (IllegalArgumentException.)))\n",
    "  (+ (:age user) age))"
   ]
  },
  {
   "cell_type": "code",
   "execution_count": 24,
   "id": "damaged-testimony",
   "metadata": {},
   "outputs": [
    {
     "data": {
      "text/plain": [
       "20"
      ]
     },
     "execution_count": 24,
     "metadata": {},
     "output_type": "execute_result"
    }
   ],
   "source": [
    "(add-age todd 10)"
   ]
  },
  {
   "cell_type": "code",
   "execution_count": 25,
   "id": "hydraulic-prevention",
   "metadata": {},
   "outputs": [
    {
     "name": "stderr",
     "output_type": "stream",
     "text": [
      "Execution error (IllegalArgumentException) at user/add-age (REPL:2).\n",
      "null\n"
     ]
    },
    {
     "ename": "class java.lang.IllegalArgumentException",
     "evalue": "",
     "output_type": "error",
     "traceback": [
      "   core.clj:  3214 clojure.core$eval/invokeStatic",
      "   core.clj:  3210 clojure.core$eval/invoke",
      "   main.clj:   437 clojure.main$repl$read_eval_print__9086$fn__9089/invoke",
      "   main.clj:   458 clojure.main$repl$fn__9095/invoke",
      "   main.clj:   368 clojure.main$repl/doInvoke",
      "RestFn.java:  1523 clojure.lang.RestFn/invoke",
      "   AFn.java:    22 clojure.lang.AFn/run",
      "   AFn.java:    22 clojure.lang.AFn/run",
      "Thread.java:   748 java.lang.Thread/run"
     ]
    }
   ],
   "source": [
    "(add-age seoul 10)"
   ]
  },
  {
   "cell_type": "code",
   "execution_count": 26,
   "id": "alternative-brazil",
   "metadata": {},
   "outputs": [
    {
     "name": "stderr",
     "output_type": "stream",
     "text": [
      "Execution error (FileNotFoundException) at user/eval4198 (REPL:1).\n",
      "Could not locate dk/ative/docjure/spreadsheet__init.class, dk/ative/docjure/spreadsheet.clj or dk/ative/docjure/spreadsheet.cljc on classpath.\n",
      "Syntax error compiling at (REPL:4:10).\n",
      "Unable to resolve symbol: create-workbook in this context\n"
     ]
    },
    {
     "ename": "class clojure.lang.Compiler$CompilerException",
     "evalue": "",
     "output_type": "error",
     "traceback": [
      "  Util.java:   221 clojure.lang.Util/runtimeException",
      "   core.clj:  3214 clojure.core$eval/invokeStatic",
      "   core.clj:  3210 clojure.core$eval/invoke",
      "   main.clj:   437 clojure.main$repl$read_eval_print__9086$fn__9089/invoke",
      "   main.clj:   458 clojure.main$repl$fn__9095/invoke",
      "   main.clj:   368 clojure.main$repl/doInvoke",
      "RestFn.java:  1523 clojure.lang.RestFn/invoke",
      "   AFn.java:    22 clojure.lang.AFn/run",
      "   AFn.java:    22 clojure.lang.AFn/run",
      "Thread.java:   748 java.lang.Thread/run"
     ]
    }
   ],
   "source": [
    "(use 'dk.ative.docjure.spreadsheet)\n",
    "\n",
    ";; Create a spreadsheet and save it\n",
    "(let [wb (create-workbook \"Price List\"\n",
    "                          [[\"Name\" \"Price\"]\n",
    "                           [\"Foo Widget\" 100]\n",
    "                           [\"Bar Widget\" 200]])\n",
    "      sheet (select-sheet \"Price List\" wb)\n",
    "      header-row (first (row-seq sheet))]\n",
    "  (set-row-style! header-row (create-cell-style! wb {:background :yellow,\n",
    "                                                     :font {:bold true}}))\n",
    "  (save-workbook! \"spreadsheet.xlsx\" wb))"
   ]
  },
  {
   "cell_type": "code",
   "execution_count": 27,
   "id": "infectious-interview",
   "metadata": {},
   "outputs": [
    {
     "name": "stdout",
     "output_type": "stream",
     "text": [
      "\"Elapsed time: 0.960294 msecs\"\n"
     ]
    },
    {
     "data": {
      "text/plain": [
       "499500"
      ]
     },
     "execution_count": 27,
     "metadata": {},
     "output_type": "execute_result"
    }
   ],
   "source": [
    "(time (reduce + (range 1000)))"
   ]
  },
  {
   "cell_type": "code",
   "execution_count": 28,
   "id": "fifth-crystal",
   "metadata": {},
   "outputs": [
    {
     "name": "stdout",
     "output_type": "stream",
     "text": [
      "Date:\t\t\tWed Jul 06 04:33:00 UTC 2022\n",
      "Clojure version:\tv1.10\n",
      "Clojupyter version:\t0.3.2\n"
     ]
    },
    {
     "data": {
      "text/plain": [
       "nil"
      ]
     },
     "execution_count": 28,
     "metadata": {},
     "output_type": "execute_result"
    }
   ],
   "source": [
    "(println (str \"Date:\\t\\t\\t\" (java.util.Date.)))\n",
    "(println (apply format \"Clojure version:\\tv%d.%d\" ((juxt :major :minor) *clojure-version*)))\n",
    "(println (str \"Clojupyter version:\\t\" (clojupyter.kernel.version/version-string)))"
   ]
  },
  {
   "cell_type": "code",
   "execution_count": 29,
   "id": "heard-sacramento",
   "metadata": {},
   "outputs": [
    {
     "data": {
      "text/plain": [
       "nil"
      ]
     },
     "execution_count": 29,
     "metadata": {},
     "output_type": "execute_result"
    }
   ],
   "source": [
    "(require '[clojupyter.display :as display])"
   ]
  },
  {
   "cell_type": "code",
   "execution_count": 30,
   "id": "noble-geology",
   "metadata": {},
   "outputs": [
    {
     "data": {
      "text/html": [
       "<ul><li>a <i>emphatic</i> idea</li><li>a <b>bold</b> idea</li><li>an <span style=\"text-decoration: underline;\">important</span> idea</li></ul>"
      ]
     },
     "execution_count": 30,
     "metadata": {},
     "output_type": "execute_result"
    }
   ],
   "source": [
    ";; displaying html\n",
    "(display/hiccup-html \n",
    "    [:ul \n",
    "     [:li \"a \" [:i \"emphatic\"] \" idea\"]\n",
    "     [:li \"a \" [:b \"bold\"] \" idea\"]\n",
    "     [:li \"an \" [:span {:style \"text-decoration: underline;\"} \"important\"] \" idea\"]])"
   ]
  },
  {
   "cell_type": "code",
   "execution_count": 31,
   "id": "compound-mexico",
   "metadata": {},
   "outputs": [
    {
     "data": {
      "text/html": [
       "<svg height=\"100\" width=\"100\" xmlns=\"http://www.w3.org/2000/svg\"><circle cx=\"50\" cy=\"40\" fill=\"red\" r=\"40\"></circle></svg>"
      ]
     },
     "execution_count": 31,
     "metadata": {},
     "output_type": "execute_result"
    }
   ],
   "source": [
    "(display/hiccup-html\n",
    "    [:svg {:height 100 :width 100 :xmlns \"http://www.w3.org/2000/svg\"}\n",
    "            [:circle {:cx 50 :cy 40 :r 40 :fill \"red\"}]])"
   ]
  },
  {
   "cell_type": "code",
   "execution_count": 32,
   "id": "rubber-excitement",
   "metadata": {},
   "outputs": [
    {
     "name": "stdout",
     "output_type": "stream",
     "text": [
      "Logo is of type: class java.awt.image.BufferedImage\n"
     ]
    },
    {
     "data": {
      "image/png": "[encoded data removed]"
     },
     "execution_count": 32,
     "metadata": {},
     "output_type": "execute_result"
    }
   ],
   "source": [
    "(->> clojupyter/*logo* type (str \"Logo is of type: \") println)\n",
    "clojupyter/*logo*"
   ]
  },
  {
   "cell_type": "code",
   "execution_count": 33,
   "id": "quality-healing",
   "metadata": {},
   "outputs": [
    {
     "data": {
      "text/plain": [
       "This is plain text."
      ]
     },
     "execution_count": 33,
     "metadata": {},
     "output_type": "execute_result"
    }
   ],
   "source": [
    "(display/render-mime \"text/plain\" \"This is plain text.\")"
   ]
  },
  {
   "cell_type": "code",
   "execution_count": 34,
   "id": "international-elizabeth",
   "metadata": {},
   "outputs": [
    {
     "data": {
      "text/html": [
       "<h1>This is a heading</h1>"
      ]
     },
     "execution_count": 34,
     "metadata": {},
     "output_type": "execute_result"
    }
   ],
   "source": [
    "(display/render-mime \"text/html\" \"<h1>This is a heading</h1>\")"
   ]
  },
  {
   "cell_type": "code",
   "execution_count": 35,
   "id": "egyptian-visiting",
   "metadata": {},
   "outputs": [
    {
     "data": {
      "text/plain": [
       "nil"
      ]
     },
     "execution_count": 35,
     "metadata": {},
     "output_type": "execute_result"
    }
   ],
   "source": [
    "(require '[clojupyter.misc.helper :as helper])\n",
    ";; (helper/add-dependencies '[incanter \"1.5.7\"])\n",
    ";; (use '(incanter core stats charts io)) ; include Incanter's facilities into working namespace"
   ]
  },
  {
   "cell_type": "code",
   "execution_count": 36,
   "id": "apparent-december",
   "metadata": {
    "scrolled": true
   },
   "outputs": [
    {
     "data": {
      "text/plain": [
       "\";---------------------------------------------------------------------------\\n;  midas Gen Text(MGT) File.\\n;  Date : 2022/5/23\\n;---------------------------------------------------------------------------\\n\\n*VERSION\\n   8.1.5\\n\\n*UNIT    ; Unit System\\n; FORCE, LENGTH, HEAT, TEMPER\\n   KN   , M, KCAL, C\\n\\n*STRUCTYPE    ; Structure Type\\n; iSTYP, iMASS, iSMAS, bMASSOFFSET, bSELFWEIGHT, GRAV, TEMPER, bALIGNBEAM, bALIGNSLAB, bROTRIGID\\n     0, 1, 2, NO, YES, 9.806, 0, YES, NO, NO\\n\\n*REBAR-MATL-CODE    ; Rebar Material Code\\n; CONC_CODE, CONC_MDB, SRC_CODE, SRC_MDB\\n KS01(RC), SD400, KS01(RC), SD400\\n\\n*NODE    ; Nodes\\n; iNO, X, Y, Z\\n     1, 289863.018050291, 1514354.08230643, 0\\n     2, 289868.018050291, 1514354.08230643, 0\\n     3, 289873.018050291, 1514354.08230643, 0\\n     4, 289876.018050291, 1514354.08230643, 0\\n     5, 289879.018050291, 1514354.08230643, 0\\n     6, 289882.018050291, 1514354.08230643, 0\\n     7, 289885.018050291, 1514354.08230643, 0\\n     8, 289888.018050291, 1514354.08230643, 0\\n     9, 289891.018050291, 1514354.08230643, 0\\n    10, 289895.518050291, 1514354.08230643, 0\\n    11, 289900.018050291, 1514354.08230643, 0\\n    12, 289903.518050291, 1514354.08230643, 0\\n    13, 289907.018050291, 1514354.08230643, 0\\n    14, 289912.018050291, 1514354.08230643, 0\\n    15, 289917.018050291, 1514354.08230643, 0\\n    16, 289921.018050291, 1514354.08230643, 0\\n    17, 289863.018050291, 1514358.08230643, 0\\n    18, 289921.018050291, 1514358.08230643, 0\\n    19, 289863.018050291, 1514362.08230643, 0\\n    20, 289873.018050291, 1514362.08230643, 0\\n    21, 289879.018050291, 1514362.08230643, 0\\n    22, 289885.018050291, 1514362.08230643, 0\\n    23, 289891.018050291, 1514362.08230643, 0\\n    24, 289900.018050291, 1514362.08230643, 0\\n    25, 289907.018050291, 1514362.08230643, 0\\n    26, 289921.018050291, 1514362.08230643, 0\\n    27, 289863.018050291, 1514365.08230643, 0\\n    28, 289921.018050291, 1514365.08230643, 0\\n    29, 289863.018050291, 1514368.08230643, 0\\n    30, 289921.018050291, 1514368.08230643, 0\\n    31, 289863.018050291, 1514371.08230643, 0\\n    32, 289873.018050291, 1514371.08230643, 0\\n    33, 289879.018050291, 1514371.08230643, 0\\n    34, 289885.018050291, 1514371.08230643, 0\\n    35, 289891.018050291, 1514371.08230643, 0\\n    36, 289900.018050291, 1514371.08230643, 0\\n    37, 289907.018050291, 1514371.08230643, 0\\n    38, 289921.018050291, 1514371.08230643, 0\\n    39, 289863.018050291, 1514374.08230643, 0\\n    40, 289868.018050291, 1514374.08230643, 0\\n    41, 289873.018050291, 1514374.08230643, 0\\n    42, 289876.018050291, 1514374.08230643, 0\\n    43, 289879.018050291, 1514374.08230643, 0\\n    44, 289882.018050291, 1514374.08230643, 0\\n    45, 289885.018050291, 1514374.08230643, 0\\n    46, 289888.018050291, 1514374.08230643, 0\\n    47, 289891.018050291, 1514374.08230643, 0\\n    48, 289895.518050291, 1514374.08230643, 0\\n    49, 289900.018050291, 1514374.08230643, 0\\n    50, 289903.518050291, 1514374.08230643, 0\\n    51, 289907.018050291, 1514374.08230643, 0\\n    52, 289912.018050291, 1514374.08230643, 0\\n    53, 289917.018050291, 1514374.08230643, 0\\n    54, 289921.018050291, 1514374.08230643, 0\\n    55, 289876.018050291, 1514354.08230643, 2\\n    56, 289888.018050291, 1514354.08230643, 2\\n    57, 289903.518050291, 1514354.08230643, 1.99999999993348\\n    58, 289876.018050291, 1514374.08230643, 2\\n    59, 289888.018050291, 1514374.08230643, 2\\n    60, 289903.518050291, 1514374.08230643, 1.99999999993348\\n    61, 289921.018050291, 1514371.08230643, 3.83333333333333\\n    62, 289921.018050291, 1514358.08230643, 3.86363636363636\\n    63, 289863.018050291, 1514354.08230643, 4\\n    64, 289868.018050291, 1514354.08230643, 4\\n    65, 289873.018050291, 1514354.08230643, 4\\n    66, 289876.018050291, 1514354.08230643, 4\\n    67, 289879.018050291, 1514354.08230643, 4\\n    68, 289882.018050291, 1514354.08230643, 4\\n    69, 289885.018050291, 1514354.08230643, 4\\n    70, 289888.018050291, 1514354.08230643, 4\\n    71, 289891.018050291, 1514354.08230643, 4\\n    72, 289894.018050291, 1514354.08230643, 4\\n    73, 289895.518050291, 1514354.08230643, 4\\n    74, 289897.018050291, 1514354.08230643, 4\\n    75, 289900.018050291, 1514354.08230643, 4\\n    76, 289903.518050291, 1514354.08230643, 4\\n    77, 289907.018050291, 1514354.08230643, 4\\n    78, 289873.018050291, 1514356.08230643, 4\\n    79, 289879.018050291, 1514356.08230643, 4\\n    80, 289885.018050291, 1514356.08230643, 4\\n    81, 289891.018050291, 1514356.08230643, 4\\n    82, 289900.018050291, 1514356.08230643, 4\\n    83, 289907.018050291, 1514356.08230643, 4\\n    84, 289863.018050291, 1514358.08230643, 4\\n    85, 289873.018050291, 1514358.08230643, 4\\n    86, 289879.018050291, 1514358.08230643, 4\\n    87, 289885.018050291, 1514358.08230643, 4\\n    88, 289891.018050291, 1514358.08230643, 4\\n    89, 289894.018050291, 1514358.08230643, 4\\n    90, 289897.018050291, 1514358.08230643, 4\\n    91, 289900.018050291, 1514358.08230643, 4\\n    92, 289907.018050291, 1514358.08230643, 4\\n    93, 289863.018050291, 1514360.08230643, 4\\n    94, 289873.018050291, 1514360.08230643, 4\\n    95, 289879.018050291, 1514360.08230643, 4\\n    96, 289885.018050291, 1514360.08230643, 4\\n    97, 289891.018050291, 1514360.08230643, 4\\n    98, 289900.018050291, 1514360.08230643, 4\\n    99, 289907.018050291, 1514360.08230643, 4\\n   100, 289863.018050291, 1514362.08230643, 4\\n   101, 289873.018050291, 1514362.08230643, 4\\n   102, 289876.018050291, 1514362.08230643, 4\\n   103, 289879.018050291, 1514362.08230643, 4\\n   104, 289885.018050291, 1514362.08230643, 4\\n   105, 289891.018050291, 1514362.08230643, 4\\n   106, 289900.018050291, 1514362.08230643, 4\\n   107, 289907.018050291, 1514362.08230643, 4\\n   108, 289873.018050291, 1514364.08230643, 4\\n   109, 289876.018050291, 1514364.08230643, 4\\n   110, 289900.018050291, 1514364.08230643, 4\\n   111, 289907.018050291, 1514364.08230643, 4\\n   112, 289863.018050291, 1514365.08230643, 4\\n   113, 289873.018050291, 1514366.08230643, 4\\n   114, 289876.018050291, 1514366.08230643, 4\\n   115, 289900.018050291, 1514366.08230643, 4\\n   116, 289907.018050291, 1514366.08230643, 4\\n   117, 289863.018050291, 1514368.08230643, 4\\n   118, 289873.018050291, 1514368.08230643, 4\\n   119, 289876.018050291, 1514368.08230643, 4\\n   120, 289900.018050291, 1514368.08230643, 4\\n   121, 289907.018050291, 1514368.08230643, 4\\n   122, 289873.018050291, 1514369.58230643, 4\\n   123, 289876.018050291, 1514369.58230643, 4\\n   124, 289900.018050291, 1514369.58230643, 4\\n   125, 289907.018050291, 1514369.58230643, 4\\n   126, 289863.018050291, 1514371.08230643, 4\\n   127, 289873.018050291, 1514371.08230643, 4\\n   128, 289876.018050291, 1514371.08230643, 4\\n   129, 289879.018050291, 1514371.08230643, 4\\n   130, 289885.018050291, 1514371.08230643, 4\\n   131, 289891.018050291, 1514371.08230643, 4\\n   132, 289894.018050291, 1514371.08230643, 4\\n   133, 289897.018050291, 1514371.08230643, 4\\n   134, 289900.018050291, 1514371.08230643, 4\\n   135, 289907.018050291, 1514371.08230643, 4\\n   136, 289873.018050291, 1514372.58230643, 4\\n   137, 289879.018050291, 1514372.58230643, 4\\n   138, 289885.018050291, 1514372.58230643, 4\\n   139, 289891.018050291, 1514372.58230643, 4\\n   140, 289900.018050291, 1514372.58230643, 4\\n   141, 289907.018050291, 1514372.58230643, 4\\n   142, 289863.018050291, 1514374.08230643, 4\\n   143, 289868.018050291, 1514374.08230643, 4\\n   144, 289873.018050291, 1514374.08230643, 4\\n   145, 289876.018050291, 1514374.08230643, 4\\n   146, 289879.018050291, 1514374.08230643, 4\\n   147, 289882.018050291, 1514374.08230643, 4\\n   148, 289885.018050291, 1514374.08230643, 4\\n   149, 289888.018050291, 1514374.08230643, 4\\n   150, 289891.018050291, 1514374.08230643, 4\\n   151, 289894.018050291, 1514374.08230643, 4\\n   152, 289895.518050291, 1514374.08230643, 4\\n   153, 289897.018050291, 1514374.08230643, 4\\n   154, 289900.018050291, 1514374.08230643, 4\\n   155, 289903.518050291, 1514374.08230643, 4\\n   156, 289907.018050291, 1514374.08230643, 4\\n   157, 289876.018050291, 1514354.08230645, 6.0000000000194\\n   158, 289888.018050291, 1514354.08230645, 6.0000000000194\\n   159, 289903.518050291, 1514354.08230645, 5.99999999995011\\n   160, 289876.018050291, 1514374.08230641, 6.0000000000194\\n   161, 289888.018050291, 1514374.08230641, 6.0000000000194\\n   162, 289903.518050291, 1514374.08230641, 5.99999999995011\\n   163, 289907.018050291, 1514354.08230643, 7\\n   164, 289909.018050291, 1514354.08230643, 7\\n   165, 289912.018050291, 1514354.08230643, 7\\n   166, 289917.018050291, 1514354.08230643, 7\\n   167, 289921.018050291, 1514354.08230643, 7\\n   168, 289907.018050291, 1514374.08230643, 7\\n   169, 289909.018050291, 1514374.08230643, 7\\n   170, 289912.018050291, 1514374.08230643, 7\\n   171, 289917.018050291, 1514374.08230643, 7\\n   172, 289921.018050291, 1514374.08230643, 7\\n   173, 289907.018050291, 1514371.08230643, 7.33333333333333\\n   174, 289912.018050291, 1514371.08230643, 7.33333333333333\\n   175, 289917.018050291, 1514371.08230643, 7.33333333333333\\n   176, 289919.018050291, 1514371.08230643, 7.33333333333333\\n   177, 289921.018050291, 1514371.08230643, 7.33333333333333\\n   178, 289907.018050291, 1514358.08230643, 7.36363636363636\\n   179, 289912.018050291, 1514358.08230643, 7.36363636363636\\n   180, 289917.018050291, 1514358.08230643, 7.36363636363636\\n   181, 289919.018050291, 1514358.08230643, 7.36363636363636\\n   182, 289921.018050291, 1514358.08230643, 7.36363636363636\\n   183, 289907.018050291, 1514368.08230643, 7.66666666666667\\n   184, 289912.018050291, 1514368.08230643, 7.66666666666667\\n   185, 289917.018050291, 1514368.08230643, 7.66666666666667\\n   186, 289921.018050291, 1514368.08230643, 7.66666666666667\\n   187, 289907.018050291, 1514362.08230643, 7.72727272727273\\n   188, 289912.018050291, 1514362.08230643, 7.72727272727273\\n   189, 289917.018050291, 1514362.08230643, 7.72727272727273\\n   190, 289921.018050291, 1514362.08230643, 7.72727272727273\\n   191, 289863.018050291, 1514354.08230643, 8\\n   192, 289868.018050291, 1514354.08230647, 8\\n   193, 289873.018050291, 1514354.08230647, 8\\n   194, 289876.018050291, 1514354.08230647, 8\\n   195, 289879.018050291, 1514354.08230647, 8\\n   196, 289882.018050291, 1514354.08230647, 8\\n   197, 289885.018050291, 1514354.08230647, 8\\n   198, 289888.018050291, 1514354.08230647, 8\\n   199, 289891.018050291, 1514354.08230647, 8\\n   200, 289895.518050291, 1514354.08230647, 8\\n   201, 289900.018050291, 1514354.08230647, 8\\n   202, 289903.518050291, 1514354.08230647, 8\\n   203, 289907.018050291, 1514354.08230643, 8\\n   204, 289863.018050291, 1514358.08230643, 8\\n   205, 289863.018050291, 1514362.08230643, 8\\n   206, 289863.018050291, 1514365.08230643, 8\\n   207, 289907.018050291, 1514365.08230643, 8\\n   208, 289912.018050291, 1514365.08230643, 8\\n   209, 289917.018050291, 1514365.08230643, 8\\n   210, 289919.018050291, 1514365.08230643, 8\\n   211, 289921.018050291, 1514365.08230643, 8\\n   212, 289863.018050291, 1514368.08230643, 8\\n   213, 289863.018050291, 1514371.08230643, 8\\n   214, 289863.018050291, 1514374.08230643, 8\\n   215, 289868.018050291, 1514374.08230639, 8\\n   216, 289873.018050291, 1514374.08230639, 8\\n   217, 289876.018050291, 1514374.08230639, 8\\n   218, 289879.018050291, 1514374.08230639, 8\\n   219, 289882.018050291, 1514374.08230639, 8\\n   220, 289885.018050291, 1514374.08230639, 8\\n   221, 289888.018050291, 1514374.08230639, 8\\n   222, 289891.018050291, 1514374.08230639, 8\\n   223, 289895.518050291, 1514374.08230639, 8\\n   224, 289900.018050291, 1514374.08230639, 8\\n   225, 289903.518050291, 1514374.08230639, 8\\n   226, 289907.018050291, 1514374.08230643, 8\\n   227, 289876.018050291, 1514354.08230649, 10.0000000000582\\n   228, 289888.018050291, 1514354.08230649, 10.0000000000388\\n   229, 289903.518050291, 1514354.08230649, 9.99999999996674\\n   230, 289876.018050291, 1514374.08230638, 10.0000000000582\\n   231, 289888.018050291, 1514374.08230638, 10.0000000000388\\n   232, 289903.518050291, 1514374.08230638, 10\\n   233, 289863.018050291, 1514354.08230651, 12\\n   234, 289866.418050291, 1514354.08230651, 12\\n   235, 289868.018050291, 1514354.08230651, 12\\n   236, 289869.818050291, 1514354.08230651, 12\\n   237, 289873.018050291, 1514354.08230651, 12\\n   238, 289876.018050291, 1514354.08230651, 12\\n   239, 289879.018050291, 1514354.08230651, 12\\n   240, 289882.018050291, 1514354.08230651, 12\\n   241, 289885.018050291, 1514354.08230651, 12\\n   242, 289888.018050291, 1514354.08230651, 12\\n   243, 289891.018050291, 1514354.08230651, 12\\n   244, 289894.018050291, 1514354.08230651, 12\\n   245, 289895.518050291, 1514354.08230651, 12\\n   246, 289897.018050291, 1514354.08230651, 12\\n   247, 289900.018050291, 1514354.08230651, 12\\n   248, 289903.518050291, 1514354.08230651, 12\\n   249, 289907.018050291, 1514354.08230651, 12\\n   250, 289863.018050291, 1514355.08230651, 12\\n   251, 289864.718050291, 1514355.08230651, 12\\n   252, 289868.118050291, 1514355.08230651, 12\\n   253, 289871.518050291, 1514355.08230651, 12\\n   254, 289873.018050291, 1514355.08230651, 12\\n   255, 289874.518050291, 1514355.08230651, 12\\n   256, 289877.518050291, 1514355.08230651, 12\\n   257, 289879.018050291, 1514355.08230651, 12\\n   258, 289880.518050291, 1514355.08230651, 12\\n   259, 289883.518050291, 1514355.08230651, 12\\n   260, 289885.018050291, 1514355.08230651, 12\\n   261, 289886.518050291, 1514355.08230651, 12\\n   262, 289889.518050291, 1514355.08230651, 12\\n   263, 289891.018050291, 1514355.08230651, 12\\n   264, 289892.518050291, 1514355.08230651, 12\\n   265, 289895.518050291, 1514355.08230651, 12\\n   266, 289898.518050291, 1514355.08230651, 12\\n   267, 289900.018050291, 1514355.08230651, 12\\n   268, 289901.768050291, 1514355.08230651, 12\\n   269, 289905.268050291, 1514355.08230651, 12\\n   270, 289907.018050291, 1514355.08230651, 12\\n   271, 289863.018050291, 1514358.08230643, 12\\n   272, 289907.018050291, 1514358.08230643, 12\\n   273, 289863.018050291, 1514362.08230643, 12\\n   274, 289907.018050291, 1514362.08230643, 12\\n   275, 289863.018050291, 1514365.08230643, 12\\n   276, 289907.018050291, 1514365.08230643, 12\\n   277, 289863.018050291, 1514368.08230643, 12\\n   278, 289907.018050291, 1514368.08230643, 12\\n   279, 289863.018050291, 1514371.08230643, 12\\n   280, 289907.018050291, 1514371.08230643, 12\\n   281, 289863.018050291, 1514373.08230636, 12\\n   282, 289864.718050291, 1514373.08230636, 12\\n   283, 289868.118050291, 1514373.08230636, 12\\n   284, 289871.518050291, 1514373.08230636, 12\\n   285, 289873.018050291, 1514373.08230636, 12\\n   286, 289874.518050291, 1514373.08230636, 12\\n   287, 289877.518050291, 1514373.08230636, 12\\n   288, 289879.018050291, 1514373.08230636, 12\\n   289, 289880.518050291, 1514373.08230636, 12\\n   290, 289883.518050291, 1514373.08230636, 12\\n   291, 289885.018050291, 1514373.08230636, 12\\n   292, 289886.518050291, 1514373.08230636, 12\\n   293, 289889.518050291, 1514373.08230636, 12\\n   294, 289891.018050291, 1514373.08230636, 12\\n   295, 289892.518050291, 1514373.08230636, 12\\n   296, 289895.518050291, 1514373.08230636, 12\\n   297, 289898.518050291, 1514373.08230636, 12\\n   298, 289900.018050291, 1514373.08230636, 12\\n   299, 289901.768050291, 1514373.08230636, 12\\n   300, 289905.268050291, 1514373.08230636, 12\\n   301, 289907.018050291, 1514373.08230636, 12\\n   302, 289863.018050291, 1514374.08230636, 12\\n   303, 289866.418050291, 1514374.08230636, 12\\n   304, 289868.018050291, 1514374.08230636, 12\\n   305, 289869.818050291, 1514374.08230636, 12\\n   306, 289873.018050291, 1514374.08230636, 12\\n   307, 289876.018050291, 1514374.08230636, 12\\n   308, 289879.018050291, 1514374.08230636, 12\\n   309, 289882.018050291, 1514374.08230636, 12\\n   310, 289885.018050291, 1514374.08230636, 12\\n   311, 289888.018050291, 1514374.08230636, 12\\n   312, 289891.018050291, 1514374.08230636, 12\\n   313, 289894.018050291, 1514374.08230636, 12\\n   314, 289895.518050291, 1514374.08230636, 12\\n   315, 289897.018050291, 1514374.08230636, 12\\n   316, 289900.018050291, 1514374.08230636, 12\\n   317, 289903.518050291, 1514374.08230636, 12\\n   318, 289907.018050291, 1514374.08230636, 12\\n   319, 289876.018050291, 1514354.08230647, 14.500000000097\\n   320, 289888.018050291, 1514354.08230647, 14.5000000000485\\n   321, 289903.518050291, 1514354.08230647, 14.5\\n   322, 289876.018050291, 1514374.0823064, 14.500000000097\\n   323, 289888.018050291, 1514374.0823064, 14.5000000000485\\n   324, 289903.518050291, 1514374.0823064, 14.5\\n   325, 289863.018050291, 1514354.08230643, 17\\n   326, 289868.018050291, 1514354.08230643, 17\\n   327, 289873.018050291, 1514354.08230643, 17\\n   328, 289876.018050291, 1514354.08230643, 17\\n   329, 289879.018050291, 1514354.08230643, 17\\n   330, 289882.018050291, 1514354.08230643, 17\\n   331, 289885.018050291, 1514354.08230643, 17\\n   332, 289888.018050291, 1514354.08230643, 17\\n   333, 289891.018050291, 1514354.08230643, 17\\n   334, 289895.518050291, 1514354.08230643, 17\\n   335, 289900.018050291, 1514354.08230643, 17\\n   336, 289903.518050291, 1514354.08230643, 17\\n   337, 289907.018050291, 1514354.08230643, 17\\n   338, 289863.018050291, 1514374.08230643, 17\\n   339, 289868.018050291, 1514374.08230643, 17\\n   340, 289873.018050291, 1514374.08230643, 17\\n   341, 289876.018050291, 1514374.08230643, 17\\n   342, 289879.018050291, 1514374.08230643, 17\\n   343, 289882.018050291, 1514374.08230643, 17\\n   344, 289885.018050291, 1514374.08230643, 17\\n   345, 289888.018050291, 1514374.08230643, 17\\n   346, 289891.018050291, 1514374.08230643, 17\\n   347, 289895.518050291, 1514374.08230643, 17\\n   348, 289900.018050291, 1514374.08230643, 17\\n   349, 289903.518050291, 1514374.08230643, 17\\n   350, 289907.018050291, 1514374.08230643, 17\\n   351, 289863.018050291, 1514371.08230643, 17.3333333333333\\n   352, 289868.018050291, 1514371.08230643, 17.3333333333333\\n   353, 289873.018050291, 1514371.08230643, 17.3333333333333\\n   354, 289876.018050291, 1514371.08230643, 17.3333333333333\\n   355, 289879.018050291, 1514371.08230643, 17.3333333333333\\n   356, 289882.018050291, 1514371.08230643, 17.3333333333333\\n   357, 289885.018050291, 1514371.08230643, 17.3333333333333\\n   358, 289888.018050291, 1514371.08230643, 17.3333333333333\\n   359, 289891.018050291, 1514371.08230643, 17.3333333333333\\n   360, 289895.518050291, 1514371.08230643, 17.3333333333333\\n   361, 289900.018050291, 1514371.08230643, 17.3333333333333\\n   362, 289903.518050291, 1514371.08230643, 17.3333333333333\\n   363, 289907.018050291, 1514371.08230643, 17.3333333333333\\n   364, 289863.018050291, 1514358.08230643, 17.3636363636364\\n   365, 289868.018050291, 1514358.08230643, 17.3636363636364\\n   366, 289873.018050291, 1514358.08230643, 17.3636363636364\\n   367, 289876.018050291, 1514358.08230643, 17.3636363636364\\n   368, 289879.018050291, 1514358.08230643, 17.3636363636364\\n   369, 289882.018050291, 1514358.08230643, 17.3636363636364\\n   370, 289885.018050291, 1514358.08230643, 17.3636363636364\\n   371, 289888.018050291, 1514358.08230643, 17.3636363636364\\n   372, 289891.018050291, 1514358.08230643, 17.3636363636364\\n   373, 289895.518050291, 1514358.08230643, 17.3636363636364\\n   374, 289900.018050291, 1514358.08230643, 17.3636363636364\\n   375, 289903.518050291, 1514358.08230643, 17.3636363636364\\n   376, 289907.018050291, 1514358.08230643, 17.3636363636364\\n   377, 289863.018050291, 1514368.08230643, 17.6666666666667\\n   378, 289868.018050291, 1514368.08230643, 17.6666666666667\\n   379, 289873.018050291, 1514368.08230643, 17.6666666666667\\n   380, 289876.018050291, 1514368.08230643, 17.6666666666667\\n   381, 289879.018050291, 1514368.08230643, 17.6666666666667\\n   382, 289882.018050291, 1514368.08230643, 17.6666666666667\\n   383, 289885.018050291, 1514368.08230643, 17.6666666666667\\n   384, 289888.018050291, 1514368.08230643, 17.6666666666667\\n   385, 289891.018050291, 1514368.08230643, 17.6666666666667\\n   386, 289895.518050291, 1514368.08230643, 17.6666666666667\\n   387, 289900.018050291, 1514368.08230643, 17.6666666666667\\n   388, 289903.518050291, 1514368.08230643, 17.6666666666667\\n   389, 289907.018050291, 1514368.08230643, 17.6666666666667\\n   390, 289863.018050291, 1514362.08230643, 17.7272727272727\\n   391, 289868.018050291, 1514362.08230643, 17.7272727272727\\n   392, 289873.018050291, 1514362.08230643, 17.7272727272727\\n   393, 289876.018050291, 1514362.08230643, 17.7272727272727\\n   394, 289879.018050291, 1514362.08230643, 17.7272727272727\\n   395, 289882.018050291, 1514362.08230643, 17.7272727272727\\n   396, 289885.018050291, 1514362.08230643, 17.7272727272727\\n   397, 289888.018050291, 1514362.08230643, 17.7272727272727\\n   398, 289891.018050291, 1514362.08230643, 17.7272727272727\\n   399, 289895.518050291, 1514362.08230643, 17.7272727272727\\n   400, 289900.018050291, 1514362.08230643, 17.7272727272727\\n   401, 289903.518050291, 1514362.08230643, 17.7272727272727\\n   402, 289907.018050291, 1514362.08230643, 17.7272727272727\\n   403, 289863.018050291, 1514365.08230643, 18\\n   404, 289868.018050291, 1514365.08230643, 18\\n   405, 289873.018050291, 1514365.08230643, 18\\n   406, 289876.018050291, 1514365.08230643, 18\\n   407, 289879.018050291, 1514365.08230643, 18\\n   408, 289882.018050291, 1514365.08230643, 18\\n   409, 289885.018050291, 1514365.08230643, 18\\n   410, 289888.018050291, 1514365.08230643, 18\\n   411, 289891.018050291, 1514365.08230643, 18\\n   412, 289895.518050291, 1514365.08230643, 18\\n   413, 289900.018050291, 1514365.08230643, 18\\n   414, 289903.518050291, 1514365.08230643, 18\\n   415, 289907.018050291, 1514365.08230643, 18\\n\\n*ELEMENT    ; Elements\\n; iEL, TYPE, iMAT, iPRO, iN1, iN2, ANGLE, iSUB,                     ; Frame  Element\\n; iEL, TYPE, iMAT, iPRO, iN1, iN2, ANGLE, iSUB, EXVAL, EXVAL2, bLMT ; Comp/Tens Truss\\n; iEL, TYPE, iMAT, iPRO, iN1, iN2, iN3, iN4, iSUB, iWID , LCAXIS    ; Planar Element\\n; iEL, TYPE, iMAT, iPRO, iN1, iN2, iN3, iN4, iN5, iN6, iN7, iN8     ; Solid  Element\\n     1, TRUSS ,   20,   810,    55,     3,     0\\n     2, BEAM  ,   20,   140,     4,    55,    90\\n     3, TRUSS ,   20,   810,    55,     5,     0\\n     4, TRUSS ,   20,   810,    56,     7,     0\\n     5, BEAM  ,   20,   140,     8,    56,    90\\n     6, TRUSS ,   20,   810,    56,     9,     0\\n     7, TRUSS ,   20,   810,    57,    11,     0\\n     8, BEAM  ,   20,   140,    12,    57,    90\\n     9, TRUSS ,   20,   810,    57,    13,     0\\n    10, TRUSS ,   20,   810,    58,    41,     0\\n    11, BEAM  ,   20,   140,    42,    58,    90\\n    12, TRUSS ,   20,   810,    58,    43,     0\\n    13, TRUSS ,   20,   810,    59,    45,     0\\n    14, BEAM  ,   20,   140,    46,    59,    90\\n    15, TRUSS ,   20,   810,    59,    47,     0\\n    16, TRUSS ,   20,   810,    60,    49,     0\\n    17, BEAM  ,   20,   140,    50,    60,    90\\n    18, TRUSS ,   20,   810,    60,    51,     0\\n    19, TRUSS ,   20,   813,    61,    30,     0\\n    20, BEAM  ,   20,   143,    38,    61,     0\\n    21, TRUSS ,   20,   813,    61,    54,     0\\n    22, TRUSS ,   20,   813,    62,    16,     0\\n    23, BEAM  ,   20,   143,    18,    62,     0\\n    24, TRUSS ,   20,   813,    62,    26,     0\\n    25, BEAM  ,   20,   110,     1,    63,    90\\n    26, BEAM  ,   20,   140,     2,    64,    90\\n    27, BEAM  ,   20,   110,     3,    65,    90\\n    28, BEAM  ,   20,   110,     5,    67,    90\\n    29, BEAM  ,   20,   140,     6,    68,    90\\n    30, BEAM  ,   20,   110,     7,    69,    90\\n    31, BEAM  ,   20,   110,     9,    71,    90\\n    32, BEAM  ,   20,   140,    10,    73,    90\\n    33, BEAM  ,   20,   110,    11,    75,    90\\n    34, BEAM  ,   20,   110,    13,    77,    90\\n    35, BEAM  ,   20,   120,    17,    84,     0\\n    36, BEAM  ,   20,   120,    19,   100,     0\\n    37, BEAM  ,   20,   150,    20,   101,    90\\n    38, BEAM  ,   20,   150,    21,   103,    90\\n    39, BEAM  ,   20,   150,    22,   104,    90\\n    40, BEAM  ,   20,   150,    23,   105,    90\\n    41, BEAM  ,   20,   153,    24,   106,    90\\n    42, BEAM  ,   20,   153,    25,   107,    90\\n    43, TRUSS ,   20,   810,   112,    19,     0\\n    44, TRUSS ,   20,   810,   100,    27,     0\\n    45, BEAM  ,   20,   120,    27,   112,     0\\n    46, TRUSS ,   20,   810,   117,    27,     0\\n    47, TRUSS ,   20,   810,   112,    29,     0\\n    48, BEAM  ,   20,   120,    29,   117,     0\\n    49, BEAM  ,   20,   120,    31,   126,     0\\n    50, BEAM  ,   20,   150,    32,   127,    90\\n    51, BEAM  ,   20,   150,    33,   129,    90\\n    52, BEAM  ,   20,   150,    34,   130,    90\\n    53, BEAM  ,   20,   150,    35,   131,    90\\n    54, BEAM  ,   20,   153,    36,   134,    90\\n    55, BEAM  ,   20,   153,    37,   135,    90\\n    56, BEAM  ,   20,   110,    39,   142,    90\\n    57, BEAM  ,   20,   140,    40,   143,    90\\n    58, BEAM  ,   20,   110,    41,   144,    90\\n    59, BEAM  ,   20,   110,    43,   146,    90\\n    60, BEAM  ,   20,   140,    44,   147,    90\\n    61, BEAM  ,   20,   110,    45,   148,    90\\n    62, BEAM  ,   20,   110,    47,   150,    90\\n    63, BEAM  ,   20,   140,    48,   152,    90\\n    64, BEAM  ,   20,   110,    49,   154,    90\\n    65, BEAM  ,   20,   110,    51,   156,    90\\n    66, TRUSS ,   20,   810,    65,    55,     0\\n    67, BEAM  ,   20,   140,    55,    66,    90\\n    68, TRUSS ,   20,   810,    67,    55,     0\\n    69, TRUSS ,   20,   810,    69,    56,     0\\n    70, BEAM  ,   20,   140,    56,    70,    90\\n    71, TRUSS ,   20,   810,    71,    56,     0\\n    72, TRUSS ,   20,   810,    75,    57,     0\\n    73, BEAM  ,   20,   140,    57,    76,    90\\n    74, TRUSS ,   20,   810,    77,    57,     0\\n    75, TRUSS ,   20,   810,   144,    58,     0\\n    76, BEAM  ,   20,   140,    58,   145,    90\\n    77, TRUSS ,   20,   810,   146,    58,     0\\n    78, TRUSS ,   20,   810,   148,    59,     0\\n    79, BEAM  ,   20,   140,    59,   149,    90\\n    80, TRUSS ,   20,   810,   150,    59,     0\\n    81, TRUSS ,   20,   810,   154,    60,     0\\n    82, BEAM  ,   20,   140,    60,   155,    90\\n    83, TRUSS ,   20,   810,   156,    60,     0\\n    84, BEAM  ,   20,   130,    14,   165,    90\\n    85, BEAM  ,   20,   130,    15,   166,    90\\n    86, BEAM  ,   20,   130,    16,   167,    90\\n    87, BEAM  ,   20,   130,    52,   170,    90\\n    88, BEAM  ,   20,   130,    53,   171,    90\\n    89, BEAM  ,   20,   130,    54,   172,    90\\n    90, BEAM  ,   20,   130,    30,   186,     0\\n    91, BEAM  ,   20,   130,    26,   190,     0\\n    92, BEAM  ,   20,   315,    63,    64,     0\\n    93, BEAM  ,   20,   315,    64,    65,     0\\n    94, BEAM  ,   20,   310,    65,    66,     0\\n    95, BEAM  ,   20,   310,    66,    67,     0\\n    96, BEAM  ,   20,   310,    67,    68,     0\\n    97, BEAM  ,   20,   310,    68,    69,     0\\n    98, BEAM  ,   20,   310,    69,    70,     0\\n    99, BEAM  ,   20,   310,    70,    71,     0\\n   100, BEAM  ,   20,   315,    71,    72,     0\\n   101, BEAM  ,   20,   315,    72,    73,     0\\n   102, BEAM  ,   20,   315,    73,    74,     0\\n   103, BEAM  ,   20,   315,    74,    75,     0\\n   104, BEAM  ,   20,   310,    75,    76,     0\\n   105, BEAM  ,   20,   310,    76,    77,     0\\n   106, BEAM  ,   20,   338,    78,    65,     0\\n   107, BEAM  ,   20,   338,    79,    67,     0\\n   108, BEAM  ,   20,   338,    80,    69,     0\\n   109, BEAM  ,   20,   334,    81,    71,     0\\n   110, BEAM  ,   20,   334,    82,    75,     0\\n   111, BEAM  ,   20,   334,    83,    77,     0\\n   112, BEAM  ,   20,   313,    84,    63,     0\\n   113, BEAM  ,   20,   630,    78,    79,     0\\n   114, BEAM  ,   20,   630,    79,    80,     0\\n   115, BEAM  ,   20,   630,    80,    81,     0\\n   116, BEAM  ,   20,   643,    89,    72,     0\\n   117, BEAM  ,   20,   643,    90,    74,     0\\n   118, BEAM  ,   20,   631,    82,    83,     0\\n   119, BEAM  ,   20,   338,    85,    78,     0\\n   120, BEAM  ,   20,   338,    86,    79,     0\\n   121, BEAM  ,   20,   338,    87,    80,     0\\n   122, BEAM  ,   20,   334,    88,    81,     0\\n   123, BEAM  ,   20,   334,    91,    82,     0\\n   124, BEAM  ,   20,   334,    92,    83,     0\\n   125, BEAM  ,   20,   337,    84,    85,     0\\n   126, BEAM  ,   20,   630,    85,    86,     0\\n   127, BEAM  ,   20,   630,    86,    87,     0\\n   128, BEAM  ,   20,   630,    87,    88,     0\\n   129, BEAM  ,   20,   340,    88,    89,     0\\n   130, BEAM  ,   20,   340,    89,    90,     0\\n   131, BEAM  ,   20,   340,    90,    91,     0\\n   132, BEAM  ,   20,   631,    91,    92,     0\\n   133, BEAM  ,   20,   314,    93,    84,     0\\n   134, BEAM  ,   20,   338,    94,    85,     0\\n   135, BEAM  ,   20,   338,    95,    86,     0\\n   136, BEAM  ,   20,   338,    96,    87,     0\\n   137, BEAM  ,   20,   334,    97,    88,     0\\n   138, BEAM  ,   20,   334,    98,    91,     0\\n   139, BEAM  ,   20,   334,    99,    92,     0\\n   140, BEAM  ,   20,   640,    93,    94,     0\\n   141, BEAM  ,   20,   630,    94,    95,     0\\n   142, BEAM  ,   20,   630,    95,    96,     0\\n   143, BEAM  ,   20,   630,    96,    97,     0\\n   144, BEAM  ,   20,   631,    98,    99,     0\\n   145, BEAM  ,   20,   314,   100,    93,     0\\n   146, BEAM  ,   20,   338,   101,    94,     0\\n   147, BEAM  ,   20,   338,   103,    95,     0\\n   148, BEAM  ,   20,   338,   104,    96,     0\\n   149, BEAM  ,   20,   334,   105,    97,     0\\n   150, BEAM  ,   20,   334,   106,    98,     0\\n   151, BEAM  ,   20,   334,   107,    99,     0\\n   152, BEAM  ,   20,   337,   100,   101,     0\\n   153, BEAM  ,   20,   335,   101,   102,     0\\n   154, BEAM  ,   20,   335,   102,   103,     0\\n   155, BEAM  ,   20,   335,   103,   104,     0\\n   156, BEAM  ,   20,   335,   104,   105,     0\\n   157, BEAM  ,   20,   336,   106,   107,     0\\n   158, BEAM  ,   20,   330,   108,   101,     0\\n   159, BEAM  ,   20,   330,   109,   102,     0\\n   160, BEAM  ,   20,   331,   110,   106,     0\\n   161, BEAM  ,   20,   331,   111,   107,     0\\n   162, BEAM  ,   20,   313,   112,   100,     0\\n   163, BEAM  ,   20,   633,   108,   109,     0\\n   164, BEAM  ,   20,   631,   110,   111,     0\\n   165, BEAM  ,   20,   330,   113,   108,     0\\n   166, BEAM  ,   20,   330,   114,   109,     0\\n   167, BEAM  ,   20,   331,   115,   110,     0\\n   168, BEAM  ,   20,   331,   116,   111,     0\\n   169, BEAM  ,   20,   130,    28,   211,     0\\n   170, BEAM  ,   20,   633,   113,   114,     0\\n   171, BEAM  ,   20,   631,   115,   116,     0\\n   172, BEAM  ,   20,   313,   117,   112,     0\\n   173, BEAM  ,   20,   330,   118,   113,     0\\n   174, BEAM  ,   20,   330,   119,   114,     0\\n   175, BEAM  ,   20,   331,   120,   115,     0\\n   176, BEAM  ,   20,   331,   121,   116,     0\\n   177, BEAM  ,   20,   633,   118,   119,     0\\n   178, BEAM  ,   20,   631,   120,   121,     0\\n   179, BEAM  ,   20,   330,   122,   118,     0\\n   180, BEAM  ,   20,   330,   123,   119,     0\\n   181, BEAM  ,   20,   331,   124,   120,     0\\n   182, BEAM  ,   20,   331,   125,   121,     0\\n   183, BEAM  ,   20,   313,   126,   117,     0\\n   184, BEAM  ,   20,   633,   122,   123,     0\\n   185, BEAM  ,   20,   631,   124,   125,     0\\n   186, BEAM  ,   20,   330,   127,   122,     0\\n   187, BEAM  ,   20,   330,   128,   123,     0\\n   188, BEAM  ,   20,   331,   134,   124,     0\\n   189, BEAM  ,   20,   331,   135,   125,     0\\n   190, BEAM  ,   20,   335,   127,   128,     0\\n   191, BEAM  ,   20,   335,   128,   129,     0\\n   192, BEAM  ,   20,   335,   129,   130,     0\\n   193, BEAM  ,   20,   335,   130,   131,     0\\n   194, BEAM  ,   20,   340,   131,   132,     0\\n   195, BEAM  ,   20,   340,   132,   133,     0\\n   196, BEAM  ,   20,   340,   133,   134,     0\\n   197, BEAM  ,   20,   336,   134,   135,     0\\n   198, BEAM  ,   20,   333,   136,   127,     0\\n   199, BEAM  ,   20,   333,   137,   129,     0\\n   200, BEAM  ,   20,   333,   138,   130,     0\\n   201, BEAM  ,   20,   333,   139,   131,     0\\n   202, BEAM  ,   20,   333,   140,   134,     0\\n   203, BEAM  ,   20,   333,   141,   135,     0\\n   204, BEAM  ,   20,   313,   142,   126,     0\\n   205, BEAM  ,   20,   630,   136,   137,     0\\n   206, BEAM  ,   20,   630,   137,   138,     0\\n   207, BEAM  ,   20,   630,   138,   139,     0\\n   208, BEAM  ,   20,   643,   151,   132,     0\\n   209, BEAM  ,   20,   643,   153,   133,     0\\n   210, BEAM  ,   20,   631,   140,   141,     0\\n   211, BEAM  ,   20,   333,   144,   136,     0\\n   212, BEAM  ,   20,   333,   146,   137,     0\\n   213, BEAM  ,   20,   333,   148,   138,     0\\n   214, BEAM  ,   20,   333,   150,   139,     0\\n   215, BEAM  ,   20,   333,   154,   140,     0\\n   216, BEAM  ,   20,   333,   156,   141,     0\\n   217, BEAM  ,   20,   315,   142,   143,     0\\n   218, BEAM  ,   20,   315,   143,   144,     0\\n   219, BEAM  ,   20,   310,   144,   145,     0\\n   220, BEAM  ,   20,   310,   145,   146,     0\\n   221, BEAM  ,   20,   310,   146,   147,     0\\n   222, BEAM  ,   20,   310,   147,   148,     0\\n   223, BEAM  ,   20,   310,   148,   149,     0\\n   224, BEAM  ,   20,   310,   149,   150,     0\\n   225, BEAM  ,   20,   315,   150,   151,     0\\n   226, BEAM  ,   20,   315,   151,   152,     0\\n   227, BEAM  ,   20,   315,   152,   153,     0\\n   228, BEAM  ,   20,   315,   153,   154,     0\\n   229, BEAM  ,   20,   310,   154,   155,     0\\n   230, BEAM  ,   20,   310,   155,   156,     0\\n   231, TRUSS ,   20,   810,   157,    65,     0\\n   232, BEAM  ,   20,   140,    66,   157,    90\\n   233, TRUSS ,   20,   810,   157,    67,     0\\n   234, TRUSS ,   20,   810,   158,    69,     0\\n   235, BEAM  ,   20,   140,    70,   158,    90\\n   236, TRUSS ,   20,   810,   158,    71,     0\\n   237, TRUSS ,   20,   810,   159,    75,     0\\n   238, BEAM  ,   20,   140,    76,   159,    90\\n   239, TRUSS ,   20,   810,   159,    77,     0\\n   240, TRUSS ,   20,   810,   160,   144,     0\\n   241, BEAM  ,   20,   140,   145,   160,    90\\n   242, TRUSS ,   20,   810,   160,   146,     0\\n   243, TRUSS ,   20,   810,   161,   148,     0\\n   244, BEAM  ,   20,   140,   149,   161,    90\\n   245, TRUSS ,   20,   810,   161,   150,     0\\n   246, TRUSS ,   20,   810,   162,   154,     0\\n   247, BEAM  ,   20,   140,   155,   162,    90\\n   248, TRUSS ,   20,   810,   162,   156,     0\\n   249, TRUSS ,   20,   813,   172,    61,     0\\n   250, TRUSS ,   20,   813,   167,    62,     0\\n   251, BEAM  ,   20,   110,    77,   163,    90\\n   252, TRUSS ,   20,   830,    77,   164,     0\\n   253, BEAM  ,   20,   110,   156,   168,    90\\n   254, TRUSS ,   20,   830,   156,   169,     0\\n   255, BEAM  ,   20,   143,    61,   177,     0\\n   256, BEAM  ,   20,   143,    62,   182,     0\\n   257, TRUSS ,   20,   813,   186,    61,     0\\n   258, TRUSS ,   20,   813,   190,    62,     0\\n   259, BEAM  ,   20,   110,    63,   191,    90\\n   260, BEAM  ,   20,   140,    64,   192,    90\\n   261, BEAM  ,   20,   110,    65,   193,    90\\n   262, BEAM  ,   20,   110,    67,   195,    90\\n   263, BEAM  ,   20,   140,    68,   196,    90\\n   264, BEAM  ,   20,   110,    69,   197,    90\\n   265, BEAM  ,   20,   110,    71,   199,    90\\n   266, BEAM  ,   20,   140,    73,   200,    90\\n   267, BEAM  ,   20,   110,    75,   201,    90\\n   268, BEAM  ,   20,   120,    84,   204,     0\\n   269, BEAM  ,   20,   120,   100,   205,     0\\n   270, TRUSS ,   20,   810,   205,   112,     0\\n   271, TRUSS ,   20,   810,   206,   100,     0\\n   272, BEAM  ,   20,   120,   112,   206,     0\\n   273, TRUSS ,   20,   810,   212,   112,     0\\n   274, TRUSS ,   20,   810,   206,   117,     0\\n   275, BEAM  ,   20,   120,   117,   212,     0\\n   276, BEAM  ,   20,   120,   126,   213,     0\\n   277, BEAM  ,   20,   110,   142,   214,    90\\n   278, BEAM  ,   20,   140,   143,   215,    90\\n   279, BEAM  ,   20,   110,   144,   216,    90\\n   280, BEAM  ,   20,   110,   146,   218,    90\\n   281, BEAM  ,   20,   140,   147,   219,    90\\n   282, BEAM  ,   20,   110,   148,   220,    90\\n   283, BEAM  ,   20,   110,   150,   222,    90\\n   284, BEAM  ,   20,   140,   152,   223,    90\\n   285, BEAM  ,   20,   110,   154,   224,    90\\n   286, TRUSS ,   20,   810,   193,   157,     0\\n   287, BEAM  ,   20,   140,   157,   194,    90\\n   288, TRUSS ,   20,   810,   195,   157,     0\\n   289, TRUSS ,   20,   810,   197,   158,     0\\n   290, BEAM  ,   20,   140,   158,   198,    90\\n   291, TRUSS ,   20,   810,   199,   158,     0\\n   292, TRUSS ,   20,   810,   201,   159,     0\\n   293, BEAM  ,   20,   140,   159,   202,    90\\n   294, TRUSS ,   20,   810,   203,   159,     0\\n   295, BEAM  ,   20,   385,   163,   164,     0\\n   296, BEAM  ,   20,   385,   164,   165,     0\\n   297, BEAM  ,   20,   385,   165,   166,     0\\n   298, BEAM  ,   20,   387,   166,   167,     0\\n   299, TRUSS ,   20,   810,   216,   160,     0\\n   300, BEAM  ,   20,   140,   160,   217,    90\\n   301, TRUSS ,   20,   810,   218,   160,     0\\n   302, TRUSS ,   20,   810,   220,   161,     0\\n   303, BEAM  ,   20,   140,   161,   221,    90\\n   304, TRUSS ,   20,   810,   222,   161,     0\\n   305, TRUSS ,   20,   810,   224,   162,     0\\n   306, BEAM  ,   20,   140,   162,   225,    90\\n   307, TRUSS ,   20,   810,   226,   162,     0\\n   308, BEAM  ,   20,   385,   168,   169,     0\\n   309, BEAM  ,   20,   385,   169,   170,     0\\n   310, BEAM  ,   20,   385,   170,   171,     0\\n   311, BEAM  ,   20,   387,   171,   172,     0\\n   312, BEAM  ,   20,   380,   168,   173,     0\\n   313, TRUSS ,   20,   820,   168,   174,     0\\n   314, BEAM  ,   20,   680,   170,   174,     0\\n   315, TRUSS ,   20,   820,   171,   174,     0\\n   316, BEAM  ,   20,   383,   171,   175,     0\\n   317, TRUSS ,   20,   820,   171,   176,     0\\n   318, TRUSS ,   20,   820,   172,   176,     0\\n   319, BEAM  ,   20,   384,   172,   177,     0\\n   320, BEAM  ,   20,   380,   178,   163,     0\\n   321, TRUSS ,   20,   820,   179,   163,     0\\n   322, BEAM  ,   20,   680,   179,   165,     0\\n   323, TRUSS ,   20,   820,   179,   166,     0\\n   324, BEAM  ,   20,   383,   180,   166,     0\\n   325, TRUSS ,   20,   820,   181,   166,     0\\n   326, TRUSS ,   20,   820,   181,   167,     0\\n   327, BEAM  ,   20,   384,   182,   167,     0\\n   328, BEAM  ,   20,   685,   173,   174,     0\\n   329, BEAM  ,   20,   685,   174,   175,     0\\n   330, BEAM  ,   20,   685,   175,   176,     0\\n   331, BEAM  ,   20,   685,   176,   177,     0\\n   332, BEAM  ,   20,   685,   178,   179,     0\\n   333, BEAM  ,   20,   685,   179,   180,     0\\n   334, BEAM  ,   20,   685,   180,   181,     0\\n   335, BEAM  ,   20,   685,   181,   182,     0\\n   336, BEAM  ,   20,   110,   163,   203,    90\\n   337, BEAM  ,   20,   380,   173,   183,     0\\n   338, TRUSS ,   20,   820,   174,   183,     0\\n   339, BEAM  ,   20,   680,   174,   184,     0\\n   340, TRUSS ,   20,   820,   174,   185,     0\\n   341, BEAM  ,   20,   383,   175,   185,     0\\n   342, TRUSS ,   20,   820,   176,   185,     0\\n   343, TRUSS ,   20,   820,   176,   186,     0\\n   344, BEAM  ,   20,   384,   177,   186,     0\\n   345, BEAM  ,   20,   110,   168,   226,    90\\n   346, BEAM  ,   20,   380,   187,   178,     0\\n   347, TRUSS ,   20,   820,   187,   179,     0\\n   348, BEAM  ,   20,   680,   188,   179,     0\\n   349, TRUSS ,   20,   820,   189,   179,     0\\n   350, BEAM  ,   20,   383,   189,   180,     0\\n   351, TRUSS ,   20,   820,   189,   181,     0\\n   352, TRUSS ,   20,   820,   190,   181,     0\\n   353, BEAM  ,   20,   384,   190,   182,     0\\n   354, BEAM  ,   20,   683,   183,   184,     0\\n   355, BEAM  ,   20,   683,   184,   185,     0\\n   356, BEAM  ,   20,   387,   185,   186,     0\\n   357, BEAM  ,   20,   683,   187,   188,     0\\n   358, BEAM  ,   20,   683,   188,   189,     0\\n   359, BEAM  ,   20,   387,   189,   190,     0\\n   360, BEAM  ,   20,   380,   183,   207,     0\\n   361, BEAM  ,   20,   680,   184,   208,     0\\n   362, BEAM  ,   20,   383,   185,   209,     0\\n   363, TRUSS ,   20,   820,   185,   210,     0\\n   364, TRUSS ,   20,   820,   186,   210,     0\\n   365, BEAM  ,   20,   384,   186,   211,     0\\n   366, BEAM  ,   20,   380,   207,   187,     0\\n   367, BEAM  ,   20,   680,   208,   188,     0\\n   368, BEAM  ,   20,   383,   209,   189,     0\\n   369, TRUSS ,   20,   820,   210,   189,     0\\n   370, TRUSS ,   20,   820,   210,   190,     0\\n   371, BEAM  ,   20,   384,   211,   190,     0\\n   372, BEAM  ,   20,   315,   191,   192,     0\\n   373, BEAM  ,   20,   315,   192,   193,     0\\n   374, BEAM  ,   20,   310,   193,   194,     0\\n   375, BEAM  ,   20,   310,   194,   195,     0\\n   376, BEAM  ,   20,   310,   195,   196,     0\\n   377, BEAM  ,   20,   310,   196,   197,     0\\n   378, BEAM  ,   20,   310,   197,   198,     0\\n   379, BEAM  ,   20,   310,   198,   199,     0\\n   380, BEAM  ,   20,   315,   199,   200,     0\\n   381, BEAM  ,   20,   315,   200,   201,     0\\n   382, BEAM  ,   20,   310,   201,   202,     0\\n   383, BEAM  ,   20,   310,   202,   203,     0\\n   384, BEAM  ,   20,   313,   204,   191,     0\\n   385, BEAM  ,   20,   313,   205,   204,     0\\n   386, BEAM  ,   20,   313,   206,   205,     0\\n   387, BEAM  ,   20,   686,   207,   208,     0\\n   388, BEAM  ,   20,   686,   208,   209,     0\\n   389, BEAM  ,   20,   685,   209,   210,     0\\n   390, BEAM  ,   20,   685,   210,   211,     0\\n   391, BEAM  ,   20,   313,   212,   206,     0\\n   392, BEAM  ,   20,   313,   213,   212,     0\\n   393, BEAM  ,   20,   313,   214,   213,     0\\n   394, BEAM  ,   20,   315,   214,   215,     0\\n   395, BEAM  ,   20,   315,   215,   216,     0\\n   396, BEAM  ,   20,   310,   216,   217,     0\\n   397, BEAM  ,   20,   310,   217,   218,     0\\n   398, BEAM  ,   20,   310,   218,   219,     0\\n   399, BEAM  ,   20,   310,   219,   220,     0\\n   400, BEAM  ,   20,   310,   220,   221,     0\\n   401, BEAM  ,   20,   310,   221,   222,     0\\n   402, BEAM  ,   20,   315,   222,   223,     0\\n   403, BEAM  ,   20,   315,   223,   224,     0\\n   404, BEAM  ,   20,   310,   224,   225,     0\\n   405, BEAM  ,   20,   310,   225,   226,     0\\n   406, TRUSS ,   20,   810,   227,   193,     0\\n   407, BEAM  ,   20,   140,   194,   227,    90\\n   408, TRUSS ,   20,   810,   227,   195,     0\\n   409, TRUSS ,   20,   810,   228,   197,     0\\n   410, BEAM  ,   20,   140,   198,   228,    90\\n   411, TRUSS ,   20,   810,   228,   199,     0\\n   412, TRUSS ,   20,   810,   229,   201,     0\\n   413, BEAM  ,   20,   140,   202,   229,    90\\n   414, TRUSS ,   20,   810,   229,   203,     0\\n   415, TRUSS ,   20,   810,   230,   216,     0\\n   416, BEAM  ,   20,   140,   217,   230,    90\\n   417, TRUSS ,   20,   810,   230,   218,     0\\n   418, TRUSS ,   20,   810,   231,   220,     0\\n   419, BEAM  ,   20,   140,   221,   231,    90\\n   420, TRUSS ,   20,   810,   231,   222,     0\\n   421, TRUSS ,   20,   810,   232,   224,     0\\n   422, BEAM  ,   20,   140,   225,   232,    90\\n   423, TRUSS ,   20,   810,   232,   226,     0\\n   424, BEAM  ,   20,   123,   173,   280,     0\\n   425, BEAM  ,   20,   123,   178,   272,     0\\n   426, TRUSS ,   20,   810,   276,   183,     0\\n   427, BEAM  ,   20,   123,   183,   278,     0\\n   428, BEAM  ,   20,   123,   187,   274,     0\\n   429, TRUSS ,   20,   810,   276,   187,     0\\n   430, BEAM  ,   20,   110,   191,   233,    90\\n   431, BEAM  ,   20,   140,   192,   235,    90\\n   432, BEAM  ,   20,   110,   193,   237,    90\\n   433, BEAM  ,   20,   110,   195,   239,    90\\n   434, BEAM  ,   20,   140,   196,   240,    90\\n   435, BEAM  ,   20,   110,   197,   241,    90\\n   436, BEAM  ,   20,   110,   199,   243,    90\\n   437, BEAM  ,   20,   140,   200,   245,    90\\n   438, BEAM  ,   20,   110,   201,   247,    90\\n   439, BEAM  ,   20,   110,   203,   249,    90\\n   440, BEAM  ,   20,   120,   204,   271,     0\\n   441, BEAM  ,   20,   120,   205,   273,     0\\n   442, TRUSS ,   20,   810,   275,   205,     0\\n   443, TRUSS ,   20,   810,   273,   206,     0\\n   444, TRUSS ,   20,   810,   274,   207,     0\\n   445, BEAM  ,   20,   120,   206,   275,     0\\n   446, BEAM  ,   20,   123,   207,   276,     0\\n   447, TRUSS ,   20,   810,   275,   212,     0\\n   448, TRUSS ,   20,   810,   277,   206,     0\\n   449, TRUSS ,   20,   810,   278,   207,     0\\n   450, BEAM  ,   20,   120,   212,   277,     0\\n   451, BEAM  ,   20,   120,   213,   279,     0\\n   452, BEAM  ,   20,   110,   214,   302,    90\\n   453, BEAM  ,   20,   140,   215,   304,    90\\n   454, BEAM  ,   20,   110,   216,   306,    90\\n   455, BEAM  ,   20,   110,   218,   308,    90\\n   456, BEAM  ,   20,   140,   219,   309,    90\\n   457, BEAM  ,   20,   110,   220,   310,    90\\n   458, BEAM  ,   20,   110,   222,   312,    90\\n   459, BEAM  ,   20,   140,   223,   314,    90\\n   460, BEAM  ,   20,   110,   224,   316,    90\\n   461, BEAM  ,   20,   110,   226,   318,    90\\n   462, TRUSS ,   20,   810,   237,   227,     0\\n   463, BEAM  ,   20,   140,   227,   238,    90\\n   464, TRUSS ,   20,   810,   239,   227,     0\\n   465, TRUSS ,   20,   810,   241,   228,     0\\n   466, BEAM  ,   20,   140,   228,   242,    90\\n   467, TRUSS ,   20,   810,   243,   228,     0\\n   468, TRUSS ,   20,   810,   247,   229,     0\\n   469, BEAM  ,   20,   140,   229,   248,    90\\n   470, TRUSS ,   20,   810,   249,   229,     0\\n   471, TRUSS ,   20,   810,   306,   230,     0\\n   472, BEAM  ,   20,   140,   230,   307,    90\\n   473, TRUSS ,   20,   810,   308,   230,     0\\n   474, TRUSS ,   20,   810,   310,   231,     0\\n   475, BEAM  ,   20,   140,   231,   311,    90\\n   476, TRUSS ,   20,   810,   312,   231,     0\\n   477, TRUSS ,   20,   810,   316,   232,     0\\n   478, BEAM  ,   20,   140,   232,   317,    90\\n   479, TRUSS ,   20,   810,   318,   232,     0\\n   480, BEAM  ,   20,   430,   233,   234,     0\\n   481, BEAM  ,   20,   430,   234,   235,     0\\n   482, BEAM  ,   20,   430,   235,   236,     0\\n   483, BEAM  ,   20,   430,   236,   237,     0\\n   484, BEAM  ,   20,   430,   237,   238,     0\\n   485, BEAM  ,   20,   430,   238,   239,     0\\n   486, BEAM  ,   20,   430,   239,   240,     0\\n   487, BEAM  ,   20,   430,   240,   241,     0\\n   488, BEAM  ,   20,   430,   241,   242,     0\\n   489, BEAM  ,   20,   430,   242,   243,     0\\n   490, BEAM  ,   20,   430,   243,   244,     0\\n   491, BEAM  ,   20,   430,   244,   245,     0\\n   492, BEAM  ,   20,   430,   245,   246,     0\\n   493, BEAM  ,   20,   430,   246,   247,     0\\n   494, BEAM  ,   20,   430,   247,   248,     0\\n   495, BEAM  ,   20,   430,   248,   249,     0\\n   496, BEAM  ,   20,   420,   250,   233,     0\\n   497, TRUSS ,   20,   440,   233,   251,   180\\n   498, TRUSS ,   20,   440,   251,   234,   180\\n   499, TRUSS ,   20,   440,   234,   252,   180\\n   500, TRUSS ,   20,   440,   252,   236,   180\\n   501, TRUSS ,   20,   440,   236,   253,   180\\n   502, TRUSS ,   20,   440,   253,   237,   180\\n   503, BEAM  ,   20,   420,   254,   237,     0\\n   504, TRUSS ,   20,   440,   237,   255,   180\\n   505, TRUSS ,   20,   440,   255,   238,   180\\n   506, TRUSS ,   20,   440,   238,   256,   180\\n   507, TRUSS ,   20,   440,   256,   239,   180\\n   508, BEAM  ,   20,   420,   257,   239,     0\\n   509, TRUSS ,   20,   440,   239,   258,   180\\n   510, TRUSS ,   20,   440,   258,   240,   180\\n   511, TRUSS ,   20,   440,   240,   259,   180\\n   512, TRUSS ,   20,   440,   259,   241,   180\\n   513, BEAM  ,   20,   420,   260,   241,     0\\n   514, TRUSS ,   20,   440,   241,   261,   180\\n   515, TRUSS ,   20,   440,   261,   242,   180\\n   516, TRUSS ,   20,   440,   242,   262,   180\\n   517, TRUSS ,   20,   440,   262,   243,   180\\n   518, BEAM  ,   20,   420,   263,   243,     0\\n   519, TRUSS ,   20,   440,   243,   264,   180\\n   520, TRUSS ,   20,   440,   264,   244,   180\\n   521, TRUSS ,   20,   440,   244,   265,   180\\n   522, TRUSS ,   20,   440,   265,   246,   180\\n   523, TRUSS ,   20,   440,   246,   266,   180\\n   524, TRUSS ,   20,   440,   266,   247,   180\\n   525, BEAM  ,   20,   420,   267,   247,     0\\n   526, TRUSS ,   20,   440,   247,   268,   180\\n   527, TRUSS ,   20,   440,   268,   248,   180\\n   528, TRUSS ,   20,   440,   248,   269,   180\\n   529, TRUSS ,   20,   440,   269,   249,   180\\n   530, BEAM  ,   20,   420,   270,   249,     0\\n   531, BEAM  ,   20,   410,   250,   251,     0\\n   532, BEAM  ,   20,   410,   251,   252,     0\\n   533, BEAM  ,   20,   410,   252,   253,     0\\n   534, BEAM  ,   20,   410,   253,   254,     0\\n   535, BEAM  ,   20,   410,   254,   255,     0\\n   536, BEAM  ,   20,   410,   255,   256,     0\\n   537, BEAM  ,   20,   410,   256,   257,     0\\n   538, BEAM  ,   20,   410,   257,   258,     0\\n   539, BEAM  ,   20,   410,   258,   259,     0\\n   540, BEAM  ,   20,   410,   259,   260,     0\\n   541, BEAM  ,   20,   410,   260,   261,     0\\n   542, BEAM  ,   20,   410,   261,   262,     0\\n   543, BEAM  ,   20,   410,   262,   263,     0\\n   544, BEAM  ,   20,   410,   263,   264,     0\\n   545, BEAM  ,   20,   410,   264,   265,     0\\n   546, BEAM  ,   20,   410,   265,   266,     0\\n   547, BEAM  ,   20,   410,   266,   267,     0\\n   548, BEAM  ,   20,   410,   267,   268,     0\\n   549, BEAM  ,   20,   410,   268,   269,     0\\n   550, BEAM  ,   20,   410,   269,   270,     0\\n   551, BEAM  ,   20,   313,   271,   250,     0\\n   552, BEAM  ,   20,   313,   272,   270,     0\\n   553, BEAM  ,   20,   313,   273,   271,     0\\n   554, BEAM  ,   20,   313,   274,   272,     0\\n   555, BEAM  ,   20,   313,   275,   273,     0\\n   556, BEAM  ,   20,   313,   276,   274,     0\\n   557, BEAM  ,   20,   313,   277,   275,     0\\n   558, BEAM  ,   20,   313,   278,   276,     0\\n   559, BEAM  ,   20,   313,   279,   277,     0\\n   560, BEAM  ,   20,   313,   280,   278,     0\\n   561, BEAM  ,   20,   313,   281,   279,     0\\n   562, BEAM  ,   20,   313,   301,   280,     0\\n   563, BEAM  ,   20,   410,   281,   282,     0\\n   564, BEAM  ,   20,   410,   282,   283,     0\\n   565, BEAM  ,   20,   410,   283,   284,     0\\n   566, BEAM  ,   20,   410,   284,   285,     0\\n   567, BEAM  ,   20,   410,   285,   286,     0\\n   568, BEAM  ,   20,   410,   286,   287,     0\\n   569, BEAM  ,   20,   410,   287,   288,     0\\n   570, BEAM  ,   20,   410,   288,   289,     0\\n   571, BEAM  ,   20,   410,   289,   290,     0\\n   572, BEAM  ,   20,   410,   290,   291,     0\\n   573, BEAM  ,   20,   410,   291,   292,     0\\n   574, BEAM  ,   20,   410,   292,   293,     0\\n   575, BEAM  ,   20,   410,   293,   294,     0\\n   576, BEAM  ,   20,   410,   294,   295,     0\\n   577, BEAM  ,   20,   410,   295,   296,     0\\n   578, BEAM  ,   20,   410,   296,   297,     0\\n   579, BEAM  ,   20,   410,   297,   298,     0\\n   580, BEAM  ,   20,   410,   298,   299,     0\\n   581, BEAM  ,   20,   410,   299,   300,     0\\n   582, BEAM  ,   20,   410,   300,   301,     0\\n   583, BEAM  ,   20,   420,   281,   302,     0\\n   584, TRUSS ,   20,   440,   302,   282,   180\\n   585, TRUSS ,   20,   440,   282,   303,   180\\n   586, TRUSS ,   20,   440,   303,   283,   180\\n   587, TRUSS ,   20,   440,   283,   305,   180\\n   588, TRUSS ,   20,   440,   305,   284,   180\\n   589, TRUSS ,   20,   440,   284,   306,   180\\n   590, BEAM  ,   20,   420,   285,   306,     0\\n   591, TRUSS ,   20,   440,   306,   286,   180\\n   592, TRUSS ,   20,   440,   286,   307,   180\\n   593, TRUSS ,   20,   440,   307,   287,   180\\n   594, TRUSS ,   20,   440,   287,   308,   180\\n   595, BEAM  ,   20,   420,   288,   308,     0\\n   596, TRUSS ,   20,   440,   308,   289,   180\\n   597, TRUSS ,   20,   440,   289,   309,   180\\n   598, TRUSS ,   20,   440,   309,   290,   180\\n   599, TRUSS ,   20,   440,   290,   310,   180\\n   600, BEAM  ,   20,   420,   291,   310,     0\\n   601, TRUSS ,   20,   440,   310,   292,   180\\n   602, TRUSS ,   20,   440,   292,   311,   180\\n   603, TRUSS ,   20,   440,   311,   293,   180\\n   604, TRUSS ,   20,   440,   293,   312,   180\\n   605, BEAM  ,   20,   420,   294,   312,     0\\n   606, TRUSS ,   20,   440,   312,   295,   180\\n   607, TRUSS ,   20,   440,   295,   313,   180\\n   608, TRUSS ,   20,   440,   313,   296,   180\\n   609, TRUSS ,   20,   440,   296,   315,   180\\n   610, TRUSS ,   20,   440,   315,   297,   180\\n   611, TRUSS ,   20,   440,   297,   316,   180\\n   612, BEAM  ,   20,   420,   298,   316,     0\\n   613, TRUSS ,   20,   440,   316,   299,   180\\n   614, TRUSS ,   20,   440,   299,   317,   180\\n   615, TRUSS ,   20,   440,   317,   300,   180\\n   616, TRUSS ,   20,   440,   300,   318,   180\\n   617, BEAM  ,   20,   420,   301,   318,     0\\n   618, BEAM  ,   20,   430,   302,   303,     0\\n   619, BEAM  ,   20,   430,   303,   304,     0\\n   620, BEAM  ,   20,   430,   304,   305,     0\\n   621, BEAM  ,   20,   430,   305,   306,     0\\n   622, BEAM  ,   20,   430,   306,   307,     0\\n   623, BEAM  ,   20,   430,   307,   308,     0\\n   624, BEAM  ,   20,   430,   308,   309,     0\\n   625, BEAM  ,   20,   430,   309,   310,     0\\n   626, BEAM  ,   20,   430,   310,   311,     0\\n   627, BEAM  ,   20,   430,   311,   312,     0\\n   628, BEAM  ,   20,   430,   312,   313,     0\\n   629, BEAM  ,   20,   430,   313,   314,     0\\n   630, BEAM  ,   20,   430,   314,   315,     0\\n   631, BEAM  ,   20,   430,   315,   316,     0\\n   632, BEAM  ,   20,   430,   316,   317,     0\\n   633, BEAM  ,   20,   430,   317,   318,     0\\n   634, TRUSS ,   20,   810,   319,   237,     0\\n   635, BEAM  ,   20,   140,   238,   319,    90\\n   636, TRUSS ,   20,   810,   319,   239,     0\\n   637, TRUSS ,   20,   810,   320,   241,     0\\n   638, BEAM  ,   20,   140,   242,   320,    90\\n   639, TRUSS ,   20,   810,   320,   243,     0\\n   640, TRUSS ,   20,   810,   321,   247,     0\\n   641, BEAM  ,   20,   140,   248,   321,    90\\n   642, TRUSS ,   20,   810,   321,   249,     0\\n   643, TRUSS ,   20,   810,   322,   306,     0\\n   644, BEAM  ,   20,   140,   307,   322,    90\\n   645, TRUSS ,   20,   810,   322,   308,     0\\n   646, TRUSS ,   20,   810,   323,   310,     0\\n   647, BEAM  ,   20,   140,   311,   323,    90\\n   648, TRUSS ,   20,   810,   323,   312,     0\\n   649, TRUSS ,   20,   810,   324,   316,     0\\n   650, BEAM  ,   20,   140,   317,   324,    90\\n   651, TRUSS ,   20,   810,   324,   318,     0\\n   652, BEAM  ,   20,   113,   233,   325,    90\\n   653, BEAM  ,   20,   140,   235,   326,    90\\n   654, BEAM  ,   20,   113,   237,   327,    90\\n   655, BEAM  ,   20,   113,   239,   329,    90\\n   656, BEAM  ,   20,   140,   240,   330,    90\\n   657, BEAM  ,   20,   113,   241,   331,    90\\n   658, BEAM  ,   20,   113,   243,   333,    90\\n   659, BEAM  ,   20,   140,   245,   334,    90\\n   660, BEAM  ,   20,   113,   247,   335,    90\\n   661, BEAM  ,   20,   113,   249,   337,    90\\n   662, BEAM  ,   20,   113,   302,   338,    90\\n   663, BEAM  ,   20,   140,   304,   339,    90\\n   664, BEAM  ,   20,   113,   306,   340,    90\\n   665, BEAM  ,   20,   113,   308,   342,    90\\n   666, BEAM  ,   20,   140,   309,   343,    90\\n   667, BEAM  ,   20,   113,   310,   344,    90\\n   668, BEAM  ,   20,   113,   312,   346,    90\\n   669, BEAM  ,   20,   140,   314,   347,    90\\n   670, BEAM  ,   20,   113,   316,   348,    90\\n   671, BEAM  ,   20,   113,   318,   350,    90\\n   672, BEAM  ,   20,   120,   279,   351,     0\\n   673, BEAM  ,   20,   123,   280,   363,     0\\n   674, BEAM  ,   20,   120,   271,   364,     0\\n   675, BEAM  ,   20,   123,   272,   376,     0\\n   676, TRUSS ,   20,   810,   377,   275,     0\\n   677, TRUSS ,   20,   810,   389,   276,     0\\n   678, BEAM  ,   20,   120,   277,   377,     0\\n   679, BEAM  ,   20,   123,   278,   389,     0\\n   680, BEAM  ,   20,   120,   273,   390,     0\\n   681, BEAM  ,   20,   123,   274,   402,     0\\n   682, TRUSS ,   20,   810,   390,   275,     0\\n   683, TRUSS ,   20,   810,   402,   276,     0\\n   684, TRUSS ,   20,   810,   403,   273,     0\\n   685, TRUSS ,   20,   810,   415,   274,     0\\n   686, BEAM  ,   20,   120,   275,   403,     0\\n   687, BEAM  ,   20,   123,   276,   415,     0\\n   688, TRUSS ,   20,   810,   403,   277,     0\\n   689, TRUSS ,   20,   810,   415,   278,     0\\n   690, TRUSS ,   20,   810,   327,   319,     0\\n   691, BEAM  ,   20,   140,   319,   328,    90\\n   692, TRUSS ,   20,   810,   329,   319,     0\\n   693, TRUSS ,   20,   810,   331,   320,     0\\n   694, BEAM  ,   20,   140,   320,   332,    90\\n   695, TRUSS ,   20,   810,   333,   320,     0\\n   696, TRUSS ,   20,   810,   335,   321,     0\\n   697, BEAM  ,   20,   140,   321,   336,    90\\n   698, TRUSS ,   20,   810,   337,   321,     0\\n   699, TRUSS ,   20,   810,   340,   322,     0\\n   700, BEAM  ,   20,   140,   322,   341,    90\\n   701, TRUSS ,   20,   810,   342,   322,     0\\n   702, TRUSS ,   20,   810,   344,   323,     0\\n   703, BEAM  ,   20,   140,   323,   345,    90\\n   704, TRUSS ,   20,   810,   346,   323,     0\\n   705, TRUSS ,   20,   810,   348,   324,     0\\n   706, BEAM  ,   20,   140,   324,   349,    90\\n   707, TRUSS ,   20,   810,   350,   324,     0\\n   708, BEAM  ,   20,   363,   325,   326,     0\\n   709, BEAM  ,   20,   363,   326,   327,     0\\n   710, BEAM  ,   20,   363,   327,   328,     0\\n   711, BEAM  ,   20,   363,   328,   329,     0\\n   712, BEAM  ,   20,   363,   329,   330,     0\\n   713, BEAM  ,   20,   363,   330,   331,     0\\n   714, BEAM  ,   20,   363,   331,   332,     0\\n   715, BEAM  ,   20,   363,   332,   333,     0\\n   716, BEAM  ,   20,   363,   333,   334,     0\\n   717, BEAM  ,   20,   363,   334,   335,     0\\n   718, BEAM  ,   20,   363,   335,   336,     0\\n   719, BEAM  ,   20,   363,   336,   337,     0\\n   720, BEAM  ,   20,   363,   338,   339,     0\\n   721, BEAM  ,   20,   363,   339,   340,     0\\n   722, BEAM  ,   20,   363,   340,   341,     0\\n   723, BEAM  ,   20,   363,   341,   342,     0\\n   724, BEAM  ,   20,   363,   342,   343,     0\\n   725, BEAM  ,   20,   363,   343,   344,     0\\n   726, BEAM  ,   20,   363,   344,   345,     0\\n   727, BEAM  ,   20,   363,   345,   346,     0\\n   728, BEAM  ,   20,   363,   346,   347,     0\\n   729, BEAM  ,   20,   363,   347,   348,     0\\n   730, BEAM  ,   20,   363,   348,   349,     0\\n   731, BEAM  ,   20,   363,   349,   350,     0\\n   732, BEAM  ,   20,   361,   338,   351,     0\\n   733, TRUSS ,   20,   820,   338,   352,     0\\n   734, BEAM  ,   20,   660,   339,   352,     0\\n   735, TRUSS ,   20,   820,   340,   352,     0\\n   736, BEAM  ,   20,   360,   340,   353,     0\\n   737, TRUSS ,   20,   820,   340,   354,     0\\n   738, BEAM  ,   20,   660,   341,   354,     0\\n   739, TRUSS ,   20,   820,   342,   354,     0\\n   740, BEAM  ,   20,   360,   342,   355,     0\\n   741, TRUSS ,   20,   820,   342,   356,     0\\n   742, BEAM  ,   20,   660,   343,   356,     0\\n   743, TRUSS ,   20,   820,   344,   356,     0\\n   744, BEAM  ,   20,   360,   344,   357,     0\\n   745, TRUSS ,   20,   820,   344,   358,     0\\n   746, BEAM  ,   20,   660,   345,   358,     0\\n   747, TRUSS ,   20,   820,   346,   358,     0\\n   748, BEAM  ,   20,   360,   346,   359,     0\\n   749, TRUSS ,   20,   820,   346,   360,     0\\n   750, BEAM  ,   20,   660,   347,   360,     0\\n   751, TRUSS ,   20,   820,   348,   360,     0\\n   752, BEAM  ,   20,   360,   348,   361,     0\\n   753, TRUSS ,   20,   820,   348,   362,     0\\n   754, BEAM  ,   20,   660,   349,   362,     0\\n   755, TRUSS ,   20,   820,   350,   362,     0\\n   756, BEAM  ,   20,   362,   350,   363,     0\\n   757, BEAM  ,   20,   361,   364,   325,     0\\n   758, TRUSS ,   20,   820,   365,   325,     0\\n   759, BEAM  ,   20,   660,   365,   326,     0\\n   760, TRUSS ,   20,   820,   365,   327,     0\\n   761, BEAM  ,   20,   360,   366,   327,     0\\n   762, TRUSS ,   20,   820,   367,   327,     0\\n   763, BEAM  ,   20,   660,   367,   328,     0\\n   764, TRUSS ,   20,   820,   367,   329,     0\\n   765, BEAM  ,   20,   360,   368,   329,     0\\n   766, TRUSS ,   20,   820,   369,   329,     0\\n   767, BEAM  ,   20,   660,   369,   330,     0\\n   768, TRUSS ,   20,   820,   369,   331,     0\\n   769, BEAM  ,   20,   360,   370,   331,     0\\n   770, TRUSS ,   20,   820,   371,   331,     0\\n   771, BEAM  ,   20,   660,   371,   332,     0\\n   772, TRUSS ,   20,   820,   371,   333,     0\\n   773, BEAM  ,   20,   360,   372,   333,     0\\n   774, TRUSS ,   20,   820,   373,   333,     0\\n   775, BEAM  ,   20,   660,   373,   334,     0\\n   776, TRUSS ,   20,   820,   373,   335,     0\\n   777, BEAM  ,   20,   360,   374,   335,     0\\n   778, TRUSS ,   20,   820,   375,   335,     0\\n   779, BEAM  ,   20,   660,   375,   336,     0\\n   780, TRUSS ,   20,   820,   375,   337,     0\\n   781, BEAM  ,   20,   362,   376,   337,     0\\n   782, BEAM  ,   20,   665,   351,   352,     0\\n   783, BEAM  ,   20,   665,   352,   353,     0\\n   784, BEAM  ,   20,   665,   353,   354,     0\\n   785, BEAM  ,   20,   665,   354,   355,     0\\n   786, BEAM  ,   20,   665,   355,   356,     0\\n   787, BEAM  ,   20,   665,   356,   357,     0\\n   788, BEAM  ,   20,   665,   357,   358,     0\\n   789, BEAM  ,   20,   665,   358,   359,     0\\n   790, BEAM  ,   20,   665,   359,   360,     0\\n   791, BEAM  ,   20,   665,   360,   361,     0\\n   792, BEAM  ,   20,   665,   361,   362,     0\\n   793, BEAM  ,   20,   665,   362,   363,     0\\n   794, BEAM  ,   20,   665,   364,   365,     0\\n   795, BEAM  ,   20,   665,   365,   366,     0\\n   796, BEAM  ,   20,   665,   366,   367,     0\\n   797, BEAM  ,   20,   665,   367,   368,     0\\n   798, BEAM  ,   20,   665,   368,   369,     0\\n   799, BEAM  ,   20,   665,   369,   370,     0\\n   800, BEAM  ,   20,   665,   370,   371,     0\\n   801, BEAM  ,   20,   665,   371,   372,     0\\n   802, BEAM  ,   20,   665,   372,   373,     0\\n   803, BEAM  ,   20,   665,   373,   374,     0\\n   804, BEAM  ,   20,   665,   374,   375,     0\\n   805, BEAM  ,   20,   665,   375,   376,     0\\n   806, BEAM  ,   20,   361,   351,   377,     0\\n   807, TRUSS ,   20,   820,   352,   377,     0\\n   808, BEAM  ,   20,   660,   352,   378,     0\\n   809, TRUSS ,   20,   820,   352,   379,     0\\n   810, BEAM  ,   20,   360,   353,   379,     0\\n   811, TRUSS ,   20,   820,   354,   379,     0\\n   812, BEAM  ,   20,   660,   354,   380,     0\\n   813, TRUSS ,   20,   820,   354,   381,     0\\n   814, BEAM  ,   20,   360,   355,   381,     0\\n   815, TRUSS ,   20,   820,   356,   381,     0\\n   816, BEAM  ,   20,   660,   356,   382,     0\\n   817, TRUSS ,   20,   820,   356,   383,     0\\n   818, BEAM  ,   20,   360,   357,   383,     0\\n   819, TRUSS ,   20,   820,   358,   383,     0\\n   820, BEAM  ,   20,   660,   358,   384,     0\\n   821, TRUSS ,   20,   820,   358,   385,     0\\n   822, BEAM  ,   20,   360,   359,   385,     0\\n   823, TRUSS ,   20,   820,   360,   385,     0\\n   824, BEAM  ,   20,   660,   360,   386,     0\\n   825, TRUSS ,   20,   820,   360,   387,     0\\n   826, BEAM  ,   20,   360,   361,   387,     0\\n   827, TRUSS ,   20,   820,   362,   387,     0\\n   828, BEAM  ,   20,   660,   362,   388,     0\\n   829, TRUSS ,   20,   820,   362,   389,     0\\n   830, BEAM  ,   20,   362,   363,   389,     0\\n   831, BEAM  ,   20,   361,   390,   364,     0\\n   832, TRUSS ,   20,   820,   390,   365,     0\\n   833, BEAM  ,   20,   660,   391,   365,     0\\n   834, TRUSS ,   20,   820,   392,   365,     0\\n   835, BEAM  ,   20,   360,   392,   366,     0\\n   836, TRUSS ,   20,   820,   392,   367,     0\\n   837, BEAM  ,   20,   660,   393,   367,     0\\n   838, TRUSS ,   20,   820,   394,   367,     0\\n   839, BEAM  ,   20,   360,   394,   368,     0\\n   840, TRUSS ,   20,   820,   394,   369,     0\\n   841, BEAM  ,   20,   660,   395,   369,     0\\n   842, TRUSS ,   20,   820,   396,   369,     0\\n   843, BEAM  ,   20,   360,   396,   370,     0\\n   844, TRUSS ,   20,   820,   396,   371,     0\\n   845, BEAM  ,   20,   660,   397,   371,     0\\n   846, TRUSS ,   20,   820,   398,   371,     0\\n   847, BEAM  ,   20,   360,   398,   372,     0\\n   848, TRUSS ,   20,   820,   398,   373,     0\\n   849, BEAM  ,   20,   660,   399,   373,     0\\n   850, TRUSS ,   20,   820,   400,   373,     0\\n   851, BEAM  ,   20,   360,   400,   374,     0\\n   852, TRUSS ,   20,   820,   400,   375,     0\\n   853, BEAM  ,   20,   660,   401,   375,     0\\n   854, TRUSS ,   20,   820,   402,   375,     0\\n   855, BEAM  ,   20,   362,   402,   376,     0\\n   856, BEAM  ,   20,   664,   377,   378,     0\\n   857, BEAM  ,   20,   664,   378,   379,     0\\n   858, BEAM  ,   20,   663,   379,   380,     0\\n   859, BEAM  ,   20,   663,   380,   381,     0\\n   860, BEAM  ,   20,   663,   381,   382,     0\\n   861, BEAM  ,   20,   663,   382,   383,     0\\n   862, BEAM  ,   20,   663,   383,   384,     0\\n   863, BEAM  ,   20,   663,   384,   385,     0\\n   864, BEAM  ,   20,   663,   385,   386,     0\\n   865, BEAM  ,   20,   663,   386,   387,     0\\n   866, BEAM  ,   20,   663,   387,   388,     0\\n   867, BEAM  ,   20,   663,   388,   389,     0\\n   868, BEAM  ,   20,   664,   390,   391,     0\\n   869, BEAM  ,   20,   664,   391,   392,     0\\n   870, BEAM  ,   20,   663,   392,   393,     0\\n   871, BEAM  ,   20,   663,   393,   394,     0\\n   872, BEAM  ,   20,   663,   394,   395,     0\\n   873, BEAM  ,   20,   663,   395,   396,     0\\n   874, BEAM  ,   20,   663,   396,   397,     0\\n   875, BEAM  ,   20,   663,   397,   398,     0\\n   876, BEAM  ,   20,   663,   398,   399,     0\\n   877, BEAM  ,   20,   663,   399,   400,     0\\n   878, BEAM  ,   20,   663,   400,   401,     0\\n   879, BEAM  ,   20,   663,   401,   402,     0\\n   880, BEAM  ,   20,   361,   377,   403,     0\\n   881, TRUSS ,   20,   820,   377,   404,     0\\n   882, BEAM  ,   20,   660,   378,   404,     0\\n   883, TRUSS ,   20,   820,   379,   404,     0\\n   884, BEAM  ,   20,   360,   379,   405,     0\\n   885, BEAM  ,   20,   660,   380,   406,     0\\n   886, BEAM  ,   20,   360,   381,   407,     0\\n   887, BEAM  ,   20,   660,   382,   408,     0\\n   888, BEAM  ,   20,   360,   383,   409,     0\\n   889, BEAM  ,   20,   660,   384,   410,     0\\n   890, BEAM  ,   20,   360,   385,   411,     0\\n   891, BEAM  ,   20,   660,   386,   412,     0\\n   892, BEAM  ,   20,   360,   387,   413,     0\\n   893, TRUSS ,   20,   820,   387,   414,     0\\n   894, BEAM  ,   20,   660,   388,   414,     0\\n   895, TRUSS ,   20,   820,   389,   414,     0\\n   896, BEAM  ,   20,   362,   389,   415,     0\\n   897, BEAM  ,   20,   361,   403,   390,     0\\n   898, TRUSS ,   20,   820,   404,   390,     0\\n   899, BEAM  ,   20,   660,   404,   391,     0\\n   900, TRUSS ,   20,   820,   404,   392,     0\\n   901, BEAM  ,   20,   360,   405,   392,     0\\n   902, BEAM  ,   20,   660,   406,   393,     0\\n   903, BEAM  ,   20,   360,   407,   394,     0\\n   904, BEAM  ,   20,   660,   408,   395,     0\\n   905, BEAM  ,   20,   360,   409,   396,     0\\n   906, BEAM  ,   20,   660,   410,   397,     0\\n   907, BEAM  ,   20,   360,   411,   398,     0\\n   908, BEAM  ,   20,   660,   412,   399,     0\\n   909, BEAM  ,   20,   360,   413,   400,     0\\n   910, TRUSS ,   20,   820,   414,   400,     0\\n   911, BEAM  ,   20,   660,   414,   401,     0\\n   912, TRUSS ,   20,   820,   414,   402,     0\\n   913, BEAM  ,   20,   362,   415,   402,     0\\n   914, BEAM  ,   20,   665,   403,   404,     0\\n   915, BEAM  ,   20,   665,   404,   405,     0\\n   916, BEAM  ,   20,   665,   405,   406,     0\\n   917, BEAM  ,   20,   665,   406,   407,     0\\n   918, BEAM  ,   20,   665,   407,   408,     0\\n   919, BEAM  ,   20,   665,   408,   409,     0\\n   920, BEAM  ,   20,   665,   409,   410,     0\\n   921, BEAM  ,   20,   665,   410,   411,     0\\n   922, BEAM  ,   20,   665,   411,   412,     0\\n   923, BEAM  ,   20,   665,   412,   413,     0\\n   924, BEAM  ,   20,   665,   413,   414,     0\\n   925, BEAM  ,   20,   665,   414,   415,     0\\n   926, TRUSS ,   20,   820,   183,   208,     0\\n   927, TRUSS ,   20,   820,   208,   189,     0\\n   928, TRUSS ,   20,   820,   185,   208,     0\\n   929, TRUSS ,   20,   820,   208,   187,     0\\n\\n*GROUP    ; Group\\n; NAME, NODE_LIST, ELEM_LIST, PLANE_TYPE\\n   0S_Midas  , , 295to298 308to311 480to550 563to633, 0\\n\\n*MATERIAL    ; Material\\n; iMAT, TYPE, MNAME, SPHEAT, HEATCO, PLAST, TUNIT, bMASS, DAMPRATIO, [DATA1]           ; STEEL, CONC, ALUMINUM, USER\\n; iMAT, TYPE, MNAME, SPHEAT, HEATCO, PLAST, TUNIT, bMASS, DAMPRATIO, [DATA2], [DATA2]  ; SRC\\n; [DATA1] : 1, STANDARD, CODE/PRODUCT, DB, USEELAST, ELAST\\n; [DATA1] : 2, ELAST, POISN, THERMAL, DEN, MASS\\n; [DATA1] : 3, Ex, Ey, Ez, Tx, Ty, Tz, Sxy, Sxz, Syz, Pxy, Pxz, Pyz, DEN, MASS         ; Orthotropic\\n; [DATA2] : 1, STANDARD, CODE/PRODUCT, DB, USEELAST, ELAST or 2, ELAST, POISN, THERMAL, DEN, MASS\\n   20, USER , SHN355            , 0, 0, , C, NO, 0.02, 2,  2.1000e+08,   0.3,  1.2000e-05, 76.98,     0\\n\\n*MATL-COLOR\\n; iMAT, W_R, W_G, W_B, HF_R, HF_G, HF_B, HE_R, HE_G, HE_B, bBLEND, FACT\\n   20, 128,   0, 128,  255,   0,   0,    0, 255,   0,  NO, 0.5\\n\\n*SECTION    ; Section\\n; iSEC, TYPE, SNAME, [OFFSET], bSD, bWE, SHAPE, [DATA1], [DATA2]                    ; 1st line - DB/USER\\n; iSEC, TYPE, SNAME, [OFFSET], bSD, bWE, SHAPE, BLT, D1, ..., D8, iCEL              ; 1st line - VALUE\\n;       AREA, ASy, ASz, Ixx, Iyy, Izz                                               ; 2nd line\\n;       CyP, CyM, CzP, CzM, QyB, QzB, PERI_OUT, PERI_IN, Cy, Cz                     ; 3rd line\\n;       Y1, Y2, Y3, Y4, Z1, Z2, Z3, Z4, Zyy, Zzz                                    ; 4th line\\n; iSEC, TYPE, SNAME, [OFFSET], bSD, bWE, SHAPE, ELAST, DEN, POIS, POIC, SF, THERMAL ; 1st line - SRC\\n;       D1, D2, [SRC]                                                               ; 2nd line\\n; iSEC, TYPE, SNAME, [OFFSET], bSD, bWE, SHAPE, 1, DB, NAME1, NAME2, D1, D2         ; 1st line - COMBINED\\n; iSEC, TYPE, SNAME, [OFFSET], bSD, bWE, SHAPE, 2, D11, D12, D13, D14, D15, D21, D22, D23, D24\\n; iSEC, TYPE, SNAME, [OFFSET2], bSD, bWE, SHAPE, iyVAR, izVAR, STYPE                ; 1st line - TAPERED\\n;       DB, NAME1, NAME2                                                            ; 2nd line(STYPE=DB)\\n;       [DIM1], [DIM2]                                                              ; 2nd line(STYPE=USER)\\n;       D11, D12, D13, D14, D15, D16, D17, D18                                      ; 2nd line(STYPE=VALUE)\\n;       AREA1, ASy1, ASz1, Ixx1, Iyy1, Izz1                                         ; 3rd line(STYPE=VALUE)\\n;       CyP1, CyM1, CzP1, CzM1, QyB1, QzB1, PERI_OUT1, PERI_IN1, Cy1, Cz1           ; 4th line(STYPE=VALUE)\\n;       Y11, Y12, Y13, Y14, Z11, Z12, Z13, Z14, Zyy1, Zyy2                          ; 5th line(STYPE=VALUE)\\n;       D21, D22, D23, D24, D25, D26, D27, D28                                      ; 6th line(STYPE=VALUE)\\n;       AREA2, ASy2, ASz2, Ixx2, Iyy2, Izz2                                         ; 7th line(STYPE=VALUE)\\n;       CyP2, CyM2, CzP2, CzM2, QyB2, QzB2, PERI_OUT2, PERI_IN2, Cy2, Cz2           ; 8th line(STYPE=VALUE)\\n;       Y21, Y22, Y23, Y24, Z21, Z22, Z23, Z24, Zyy2, Zzz2                          ; 9th line(STYPE=VALUE)\\n; iSEC, TYPE, SNAME, [OFFSET], bSD, bWE, SHAPE                                      ; 1st line - COMPOSITE-B\\n;       Hw, tw, B1, Bf1, tf1, B2, Bf2, tf2                                          ; 2nd line\\n;       [SHAPE-NUM], [STIFF-SHAPE], [STIFF-POS] (1~4)                               ; 3rd line\\n;       SW, GN, CTC, Bc, Tc, Hh, EsEc, DsDc, Ps, Pc, TsTc, bMulti, Elong, Esh       ; 4th line\\n; iSEC, TYPE, SNAME, [OFFSET], bSD, bWE, SHAPE                                      ; 1st line - COMPOSITE-I\\n;       Hw, tw, B1, tf1, B2, tf2                                                    ; 2nd line\\n;       [SHAPE-NUM], [STIFF-SHAPE], [STIFF-POS] (1~2)                               ; 3rd line\\n;       SW, GN, CTC, Bc, Tc, Hh, EsEc, DsDc, Ps, Pc, TsTc, bMulti, Elong, Esh       ; 4th line\\n; iSEC, TYPE, SNAME, [OFFSET], bSD, bWE, SHAPE                                      ; 1st line - COMPOSITE-TUB\\n;       Hw, tw, B1, Bf1, tf1, B2, Bf2, tf2, Bf3, tfp                                ; 2nd line\\n;       [SHAPE-NUM], [STIFF-SHAPE], [STIFF-POS] (1~3)                               ; 3rd line\\n;       SW, GN, CTC, Bc, Tc, Hh, EsEc, DsDc, Ps, Pc, TsTc, bMulti, Elong, Esh       ; 4th line\\n; [DATA1] : 1, DB, NAME or 2, D1, D2, D3, D4, D5, D6, D7, D8, D9, D10\\n; [DATA2] : CCSHAPE or iCEL or iN1, iN2\\n; [SRC]  : 1, DB, NAME1, NAME2 or 2, D1, D2, D3, D4, D5, D6, D7, D8, D9, D10, iN1, iN2\\n; [DIM1], [DIM2] : D1, D2, D3, D4, D5, D6, D7, D8\\n; [OFFSET] : OFFSET, iCENT, iREF, iHORZ, HUSER, iVERT, VUSER\\n; [OFFSET2]: OFFSET, iCENT, iREF, iHORZ, HUSERI, HUSERJ, iVERT, VUSERI, VUSERJ\\n; [SHAPE-NUM]: SHAPE-NUM, POS, STIFF-NUM1, STIFF-NUM2, STIFF-NUM3, STIFF-NUM4\\n; [STIFF-SHAPE]: SHAPE-NUM, for(SHAPE-NUM) { NAME, SIZE1~8 }\\n; [STIFF-POS]: STIFF-NUM, for(STIFF-NUM) { SPACING, iSHAPE, bCALC }\\n  100, DBUSER    , ----Steel/C----   , CC, 0, 0, 0, 0, 0, 0, YES, H  , 2, 0.1, 0.05, 0.005, 0.007, 0, 0, 0.008, 0, 0, 0\\n  110, DBUSER    , SC1L (H 700x300x13/24), CC, 0, 0, 0, 0, 0, 0, YES, H  , 2, 0.7, 0.3, 0.013, 0.024, 0, 0, 0.028, 0, 0, 0\\n  111, DBUSER    , SC1A (H 800x300x14/26), CC, 0, 0, 0, 0, 0, 0, YES, H  , 2, 0.8, 0.3, 0.014, 0.026, 0, 0, 0.028, 0, 0, 0\\n  113, DBUSER    , SC1U (H 588x300x12/20), CC, 0, 0, 0, 0, 0, 0, YES, H  , 2, 0.588, 0.3, 0.012, 0.02, 0, 0, 0.028, 0, 0, 0\\n  120, DBUSER    , SC2 (H 482x300x11/15), CC, 0, 0, 0, 0, 0, 0, YES, H  , 2, 0.482, 0.3, 0.011, 0.015, 0, 0, 0.026, 0, 0, 0\\n  123, DBUSER    , SC2A (H 400x200x8/13), CC, 0, 0, 0, 0, 0, 0, YES, H  , 2, 0.4, 0.2, 0.008, 0.013, 0, 0, 0.016, 0, 0, 0\\n  130, DBUSER    , SC3 (H 200x200x8/12), CC, 0, 0, 0, 0, 0, 0, YES, H  , 2, 0.2, 0.2, 0.008, 0.012, 0, 0, 0.013, 0, 0, 0\\n  140, DBUSER    , WC1 (H 150x150x7/10), CC, 0, 0, 0, 0, 0, 0, YES, H  , 2, 0.15, 0.15, 0.007, 0.01, 0, 0, 0.011, 0, 0, 0\\n  143, DBUSER    , WC1A (H 150x150x7/10), CC, 0, 0, 0, 0, 0, 0, YES, H  , 2, 0.15, 0.15, 0.007, 0.01, 0, 0, 0.011, 0, 0, 0\\n  145, DBUSER    , WC2 (H 250x250x9/14), CC, 0, 0, 0, 0, 0, 0, YES, H  , 2, 0.25, 0.25, 0.009, 0.014, 0, 0, 0.016, 0, 0, 0\\n  150, DBUSER    , SC4 (H 300x300x10/15), CC, 0, 0, 0, 0, 0, 0, YES, H  , 2, 0.3, 0.3, 0.01, 0.015, 0, 0, 0.018, 0, 0, 0\\n  153, DBUSER    , SC4A (H 350x350x12/19), CC, 0, 0, 0, 0, 0, 0, YES, H  , 2, 0.35, 0.35, 0.012, 0.019, 0, 0, 0.02, 0, 0, 0\\n  300, DBUSER    , ----Steel/G----   , CC, 0, 0, 0, 0, 0, 0, YES, H  , 2, 0.1, 0.05, 0.005, 0.007, 0, 0, 0.008, 0, 0, 0\\n  310, DBUSER    , WG1 (H 294x200x8/12), CC, 0, 0, 0, 0, 0, 0, YES, H  , 2, 0.294, 0.2, 0.008, 0.012, 0, 0, 0.018, 0, 0, 0\\n  313, DBUSER    , WG2 (H 250x125x6/9), CC, 0, 0, 0, 0, 0, 0, YES, H  , 2, 0.25, 0.125, 0.006, 0.009, 0, 0, 0.012, 0, 0, 0\\n  314, DBUSER    , WG2A (H 340x250x9/14), CC, 0, 0, 0, 0, 0, 0, YES, H  , 2, 0.34, 0.25, 0.009, 0.014, 0, 0, 0.02, 0, 0, 0\\n  315, DBUSER    , WG3 (H 340x250x9/14), CC, 0, 0, 0, 0, 0, 0, YES, H  , 2, 0.34, 0.25, 0.009, 0.014, 0, 0, 0.02, 0, 0, 0\\n  317, DBUSER    , WG3A (H 340x250x9/14), CC, 0, 0, 0, 0, 0, 0, YES, H  , 2, 0.34, 0.25, 0.009, 0.014, 0, 0, 0.02, 0, 0, 0\\n  330, DBUSER    , OG1 (H 482x300x11/15), CC, 0, 0, 0, 0, 0, 0, YES, H  , 2, 0.482, 0.3, 0.011, 0.015, 0, 0, 0.026, 0, 0, 0\\n  331, DBUSER    , OG1A (H 700x300x13/24), CC, 0, 0, 0, 0, 0, 0, YES, H  , 2, 0.7, 0.3, 0.013, 0.024, 0, 0, 0.028, 0, 0, 0\\n  333, DBUSER    , OG2 (H 400x200x8/13), CC, 0, 0, 0, 0, 0, 0, YES, H  , 2, 0.4, 0.2, 0.008, 0.013, 0, 0, 0.016, 0, 0, 0\\n  334, DBUSER    , OG2A (H 588x300x12/20), CC, 0, 0, 0, 0, 0, 0, YES, H  , 2, 0.588, 0.3, 0.012, 0.02, 0, 0, 0.028, 0, 0, 0\\n  335, DBUSER    , OG3 (H 500x200x10/16), CC, 0, 0, 0, 0, 0, 0, YES, H  , 2, 0.5, 0.2, 0.01, 0.016, 0, 0, 0.02, 0, 0, 0\\n  336, DBUSER    , OG3A (H 482x300x11/15), CC, 0, 0, 0, 0, 0, 0, YES, H  , 2, 0.482, 0.3, 0.011, 0.015, 0, 0, 0.026, 0, 0, 0\\n  337, DBUSER    , OG4 (H 482x300x11/15), CC, 0, 0, 0, 0, 0, 0, YES, H  , 2, 0.482, 0.3, 0.011, 0.015, 0, 0, 0.026, 0, 0, 0\\n  338, DBUSER    , OG2B (H 700x300x13/24), CC, 0, 0, 0, 0, 0, 0, YES, H  , 2, 0.7, 0.3, 0.013, 0.024, 0, 0, 0.028, 0, 0, 0\\n  340, DBUSER    , PG1 (H 350x175x7/11), CC, 0, 0, 0, 0, 0, 0, YES, H  , 2, 0.35, 0.175, 0.007, 0.011, 0, 0, 0.014, 0, 0, 0\\n  343, DBUSER    , 2G2 (H 482x300x11/15), CC, 0, 0, 0, 0, 0, 0, YES, H  , 2, 0.482, 0.3, 0.011, 0.015, 0, 0, 0.026, 0, 0, 0\\n  345, DBUSER    , 2G2A (H 500x200x10/16), CC, 0, 0, 0, 0, 0, 0, YES, H  , 2, 0.5, 0.2, 0.01, 0.016, 0, 0, 0.02, 0, 0, 0\\n  347, DBUSER    , 2G3 (H 588x300x12/20), CC, 0, 0, 0, 0, 0, 0, YES, H  , 2, 0.588, 0.3, 0.012, 0.02, 0, 0, 0.028, 0, 0, 0\\n  350, DBUSER    , 3G1 (H 488x300x11/18), CC, 0, 0, 0, 0, 0, 0, YES, H  , 2, 0.488, 0.3, 0.011, 0.018, 0, 0, 0.026, 0, 0, 0\\n  351, DBUSER    , 3G1A (H 400x200x8/13), CC, 0, 0, 0, 0, 0, 0, YES, H  , 2, 0.4, 0.2, 0.008, 0.013, 0, 0, 0.016, 0, 0, 0\\n  353, DBUSER    , 3G2 (H 482x300x11/15), CC, 0, 0, 0, 0, 0, 0, YES, H  , 2, 0.482, 0.3, 0.011, 0.015, 0, 0, 0.026, 0, 0, 0\\n  355, DBUSER    , 3G2A (H 500x200x10/16), CC, 0, 0, 0, 0, 0, 0, YES, H  , 2, 0.5, 0.2, 0.01, 0.016, 0, 0, 0.02, 0, 0, 0\\n  357, DBUSER    , 3G3 (H 488x300x11/18), CC, 0, 0, 0, 0, 0, 0, YES, H  , 2, 0.488, 0.3, 0.011, 0.018, 0, 0, 0.026, 0, 0, 0\\n  360, DBUSER    , RG1 (H 488x300x11/18), CC, 0, 0, 0, 0, 0, 0, YES, H  , 2, 0.488, 0.3, 0.011, 0.018, 0, 0, 0.026, 0, 0, 0\\n  361, DBUSER    , RG1A (H 400x200x8/13), CC, 0, 0, 0, 0, 0, 0, YES, H  , 2, 0.4, 0.2, 0.008, 0.013, 0, 0, 0.016, 0, 0, 0\\n  362, DBUSER    , RG1B (H 300x150x6.5/9), CC, 0, 0, 0, 0, 0, 0, YES, H  , 2, 0.3, 0.15, 0.0065, 0.009, 0, 0, 0.013, 0, 0, 0\\n  363, DBUSER    , RG2 (H 300x150x6.5/9), CC, 0, 0, 0, 0, 0, 0, YES, H  , 2, 0.3, 0.15, 0.0065, 0.009, 0, 0, 0.013, 0, 0, 0\\n  365, DBUSER    , RG2A (H 500x200x10/16), CC, 0, 0, 0, 0, 0, 0, YES, H  , 2, 0.5, 0.2, 0.01, 0.016, 0, 0, 0.02, 0, 0, 0\\n  367, DBUSER    , RG3 (H 488x300x11/18), CC, 0, 0, 0, 0, 0, 0, YES, H  , 2, 0.488, 0.3, 0.011, 0.018, 0, 0, 0.026, 0, 0, 0\\n  380, DBUSER    , RG11 (H 800x300x14/26), CC, 0, 0, 0, 0, 0, 0, YES, H  , 2, 0.8, 0.3, 0.014, 0.026, 0, 0, 0.028, 0, 0, 0\\n  383, DBUSER    , RG11A (H 500x200x10/16), CC, 0, 0, 0, 0, 0, 0, YES, H  , 2, 0.5, 0.2, 0.01, 0.016, 0, 0, 0.02, 0, 0, 0\\n  384, DBUSER    , RG11B (H 300x150x6.5/9), CC, 0, 0, 0, 0, 0, 0, YES, H  , 2, 0.3, 0.15, 0.0065, 0.009, 0, 0, 0.013, 0, 0, 0\\n  385, DBUSER    , RG12 (H 300x150x6.5/9), CC, 0, 0, 0, 0, 0, 0, YES, H  , 2, 0.3, 0.15, 0.0065, 0.009, 0, 0, 0.013, 0, 0, 0\\n  387, DBUSER    , RG12A (H 300x150x6.5/9), CC, 0, 0, 0, 0, 0, 0, YES, H  , 2, 0.3, 0.15, 0.0065, 0.009, 0, 0, 0.013, 0, 0, 0\\n  400, DBUSER    , ----Steel/Crane----, CC, 0, 0, 0, 0, 0, 0, YES, H  , 2, 0.1, 0.05, 0.005, 0.007, 0, 0, 0.008, 0, 0, 0\\n  410, DBUSER    , CRG1 (BH 900x350x16x28), CC, 0, 0, 0, 0, 0, 0, YES, H  , 2, 0.9, 0.35, 0.016, 0.028, 0, 0, 0, 0, 0, 0\\n  420, DBUSER    , BK1 (BH 900x750x30x50), CC, 0, 0, 0, 0, 0, 0, YES, H  , 2, 0.9, 0.75, 0.03, 0.05, 0, 0, 0, 0, 0, 0\\n  430, DBUSER    , BG1 (H 400x200x8/13), CC, 0, 0, 0, 0, 0, 0, YES, H  , 2, 0.4, 0.2, 0.008, 0.013, 0, 0, 0.016, 0, 0, 0\\n  440, DBUSER    , HBR2 (T 125x125x6/9), CC, 0, 0, 0, 0, 0, 0, YES, T  , 2, 0.125, 0.125, 0.006, 0.009, 0, 0, 0, 0, 0, 0\\n  600, DBUSER    , ----Steel/B----   , CC, 0, 0, 0, 0, 0, 0, YES, H  , 2, 0.1, 0.05, 0.005, 0.007, 0, 0, 0.008, 0, 0, 0\\n  630, DBUSER    , OB1 (H 450x200x9/14), CC, 0, 0, 0, 0, 0, 0, YES, H  , 2, 0.45, 0.2, 0.009, 0.014, 0, 0, 0.018, 0, 0, 0\\n  631, DBUSER    , OB1A (H 482x300x11/15), CC, 0, 0, 0, 0, 0, 0, YES, H  , 2, 0.482, 0.3, 0.011, 0.015, 0, 0, 0.026, 0, 0, 0\\n  633, DBUSER    , OB2 (H 300x150x6.5/9), CC, 0, 0, 0, 0, 0, 0, YES, H  , 2, 0.3, 0.15, 0.0065, 0.009, 0, 0, 0.013, 0, 0, 0\\n  640, DBUSER    , OB4 (H 588x300x12/20), CC, 0, 0, 0, 0, 0, 0, YES, H  , 2, 0.588, 0.3, 0.012, 0.02, 0, 0, 0.028, 0, 0, 0\\n  643, DBUSER    , PB1 (H 300x150x6.5/9), CC, 0, 0, 0, 0, 0, 0, YES, H  , 2, 0.3, 0.15, 0.0065, 0.009, 0, 0, 0.013, 0, 0, 0\\n  650, DBUSER    , 3B2 (H 482x300x11/15), CC, 0, 0, 0, 0, 0, 0, YES, H  , 2, 0.482, 0.3, 0.011, 0.015, 0, 0, 0.026, 0, 0, 0\\n  653, DBUSER    , 3B3 (H 488x300x11/18), CC, 0, 0, 0, 0, 0, 0, YES, H  , 2, 0.488, 0.3, 0.011, 0.018, 0, 0, 0.026, 0, 0, 0\\n  660, DBUSER    , RB1 (H 300x150x6.5/9), CC, 0, 0, 0, 0, 0, 0, YES, H  , 2, 0.3, 0.15, 0.0065, 0.009, 0, 0, 0.013, 0, 0, 0\\n  663, DBUSER    , RB2 (H 350x175x7/11), CC, 0, 0, 0, 0, 0, 0, YES, H  , 2, 0.35, 0.175, 0.007, 0.011, 0, 0, 0.014, 0, 0, 0\\n  664, DBUSER    , RB2A (H 400x200x8/13), CC, 0, 0, 0, 0, 0, 0, YES, H  , 2, 0.4, 0.2, 0.008, 0.013, 0, 0, 0.016, 0, 0, 0\\n  665, DBUSER    , RB3 (H 194x150x6/9), CC, 0, 0, 0, 0, 0, 0, YES, H  , 2, 0.194, 0.15, 0.006, 0.009, 0, 0, 0.013, 0, 0, 0\\n  680, DBUSER    , RB11 (H 300x150x6.5/9), CC, 0, 0, 0, 0, 0, 0, YES, H  , 2, 0.3, 0.15, 0.0065, 0.009, 0, 0, 0.013, 0, 0, 0\\n  683, DBUSER    , RB12 (H 400x200x8/13), CC, 0, 0, 0, 0, 0, 0, YES, H  , 2, 0.4, 0.2, 0.008, 0.013, 0, 0, 0.016, 0, 0, 0\\n  685, DBUSER    , RB13 (H 194x150x6/9), CC, 0, 0, 0, 0, 0, 0, YES, H  , 2, 0.194, 0.15, 0.006, 0.009, 0, 0, 0.013, 0, 0, 0\\n  686, DBUSER    , RB13 (H 294x200x8/12), CC, 0, 0, 0, 0, 0, 0, YES, H  , 2, 0.294, 0.2, 0.008, 0.012, 0, 0, 0.018, 0, 0, 0\\n  800, DBUSER    , ----Steel/BR----  , CC, 0, 0, 0, 0, 0, 0, YES, H  , 2, 0.1, 0.05, 0.005, 0.007, 0, 0, 0.008, 0, 0, 0\\n  810, DBUSER    , VB1 (H 200x200x8/12), CC, 0, 0, 0, 0, 0, 0, YES, H  , 2, 0.2, 0.2, 0.008, 0.012, 0, 0, 0.013, 0, 0, 0\\n  813, DBUSER    , VB1A (H 150x150x7/10), CC, 0, 0, 0, 0, 0, 0, YES, H  , 2, 0.15, 0.15, 0.007, 0.01, 0, 0, 0.011, 0, 0, 0\\n  820, DBUSER    , HBR1 (P 190.7x5)  , CC, 0, 0, 0, 0, 0, 0, YES, P  , 2, 0.1907, 0.005, 0, 0, 0, 0, 0, 0, 0, 0\\n  830, DBUSER    , KBR1 (P 101.6x3.2), CC, 0, 0, 0, 0, 0, 0, YES, P  , 2, 0.1016, 0.0032, 0, 0, 0, 0, 0, 0, 0, 0\\n  900, DBUSER    , ----Steel/Truss----, CC, 0, 0, 0, 0, 0, 0, YES, H  , 2, 0.1, 0.05, 0.005, 0.007, 0, 0, 0.008, 0, 0, 0\\n  910, DBUSER    , MT1_T (H 200x200x8/12), CC, 0, 0, 0, 0, 0, 0, YES, H  , 2, 0.2, 0.2, 0.008, 0.012, 0, 0, 0.013, 0, 0, 0\\n  920, DBUSER    , MT1_B (H 250x250x9/14), CC, 0, 0, 0, 0, 0, 0, YES, H  , 2, 0.25, 0.25, 0.009, 0.014, 0, 0, 0.016, 0, 0, 0\\n  930, DBUSER    , MT1_VR (T 125x250x9/14), CC, 0, 0, 0, 0, 0, 0, YES, T  , 2, 0.125, 0.25, 0.009, 0.014, 0, 0, 0, 0, 0, 0\\n  940, DBUSER    , MT1_DR (T 125x250x9/14), CC, 0, 0, 0, 0, 0, 0, YES, T  , 2, 0.125, 0.25, 0.009, 0.014, 0, 0, 0, 0, 0, 0\\n  960, DBUSER    , VBR2 (T 125x125x6/9), CC, 0, 0, 0, 0, 0, 0, YES, T  , 2, 0.125, 0.125, 0.006, 0.009, 0, 0, 0, 0, 0, 0\\n 1000, DBUSER    , ----Dummy----     , CC, 0, 0, 0, 0, 0, 0, YES, SB , 2, 0.001, 0.001, 0, 0, 0, 0, 0, 0, 0, 0\\n 1100, DBUSER    , Dummy             , CC, 0, 0, 0, 0, 0, 0, YES, SB , 2, 0.001, 0.001, 0, 0, 0, 0, 0, 0, 0, 0\\n\\n*SECT-COLOR\\n; iSEC, W_R, W_G, W_B, HF_R, HF_G, HF_B, HE_R, HE_G, HE_B, bBLEND, FACT\\n  100, 128,   0, 128,  255,   0,   0,    0, 255,   0,  NO, 0.5\\n  110, 128,   0, 128,  255,   0,   0,    0, 255,   0,  NO, 0.5\\n  111, 128,   0, 128,  255,   0,   0,    0, 255,   0,  NO, 0.5\\n  113, 128,   0, 128,  255,   0,   0,    0, 255,   0,  NO, 0.5\\n  120, 128,   0, 128,  255,   0,   0,    0, 255,   0,  NO, 0.5\\n  123, 128,   0, 128,  255,   0,   0,    0, 255,   0,  NO, 0.5\\n  130, 128,   0, 128,  255,   0,   0,    0, 255,   0,  NO, 0.5\\n  140, 128,   0, 128,  255,   0,   0,    0, 255,   0,  NO, 0.5\\n  143, 128,   0, 128,  255,   0,   0,    0, 255,   0,  NO, 0.5\\n  145, 128,   0, 128,  255,   0,   0,    0, 255,   0,  NO, 0.5\\n  150, 128,   0, 128,  255,   0,   0,    0, 255,   0,  NO, 0.5\\n  153, 128,   0, 128,  255,   0,   0,    0, 255,   0,  NO, 0.5\\n  300, 128,   0, 128,  255,   0,   0,    0, 255,   0,  NO, 0.5\\n  310, 128,   0, 128,  255,   0,   0,    0, 255,   0,  NO, 0.5\\n  313, 128,   0, 128,  255,   0,   0,    0, 255,   0,  NO, 0.5\\n  314, 128,   0, 128,  255,   0,   0,    0, 255,   0,  NO, 0.5\\n  315, 128,   0, 128,  255,   0,   0,    0, 255,   0,  NO, 0.5\\n  317, 128,   0, 128,  255,   0,   0,    0, 255,   0,  NO, 0.5\\n  330, 128,   0, 128,  255,   0,   0,    0, 255,   0,  NO, 0.5\\n  331, 128,   0, 128,  255,   0,   0,    0, 255,   0,  NO, 0.5\\n  333, 128,   0, 128,  255,   0,   0,    0, 255,   0,  NO, 0.5\\n  334, 128,   0, 128,  255,   0,   0,    0, 255,   0,  NO, 0.5\\n  335, 128,   0, 128,  255,   0,   0,    0, 255,   0,  NO, 0.5\\n  336, 128,   0, 128,  255,   0,   0,    0, 255,   0,  NO, 0.5\\n  337, 128,   0, 128,  255,   0,   0,    0, 255,   0,  NO, 0.5\\n  338, 128,   0, 128,  255,   0,   0,    0, 255,   0,  NO, 0.5\\n  340, 128,   0, 128,  255,   0,   0,    0, 255,   0,  NO, 0.5\\n  343, 128,   0, 128,  255,   0,   0,    0, 255,   0,  NO, 0.5\\n  345, 128,   0, 128,  255,   0,   0,    0, 255,   0,  NO, 0.5\\n  347, 128,   0, 128,  255,   0,   0,    0, 255,   0,  NO, 0.5\\n  350, 128,   0, 128,  255,   0,   0,    0, 255,   0,  NO, 0.5\\n  351, 128,   0, 128,  255,   0,   0,    0, 255,   0,  NO, 0.5\\n  353, 128,   0, 128,  255,   0,   0,    0, 255,   0,  NO, 0.5\\n  355, 128,   0, 128,  255,   0,   0,    0, 255,   0,  NO, 0.5\\n  357, 128,   0, 128,  255,   0,   0,    0, 255,   0,  NO, 0.5\\n  360, 128,   0, 128,  255,   0,   0,    0, 255,   0,  NO, 0.5\\n  361, 128,   0, 128,  255,   0,   0,    0, 255,   0,  NO, 0.5\\n  362, 128,   0, 128,  255,   0,   0,    0, 255,   0,  NO, 0.5\\n  363, 128,   0, 128,  255,   0,   0,    0, 255,   0,  NO, 0.5\\n  365, 128,   0, 128,  255,   0,   0,    0, 255,   0,  NO, 0.5\\n  367, 128,   0, 128,  255,   0,   0,    0, 255,   0,  NO, 0.5\\n  380, 128,   0, 128,  255,   0,   0,    0, 255,   0,  NO, 0.5\\n  383, 128,   0, 128,  255,   0,   0,    0, 255,   0,  NO, 0.5\\n  384, 128,   0, 128,  255,   0,   0,    0, 255,   0,  NO, 0.5\\n  385, 128,   0, 128,  255,   0,   0,    0, 255,   0,  NO, 0.5\\n  387, 128,   0, 128,  255,   0,   0,    0, 255,   0,  NO, 0.5\\n  400, 128,   0, 128,  255,   0,   0,    0, 255,   0,  NO, 0.5\\n  410, 128,   0, 128,  255,   0,   0,    0, 255,   0,  NO, 0.5\\n  420, 128,   0, 128,  255,   0,   0,    0, 255,   0,  NO, 0.5\\n  430, 128,   0, 128,  255,   0,   0,    0, 255,   0,  NO, 0.5\\n  440, 128,   0, 128,  255,   0,   0,    0, 255,   0,  NO, 0.5\\n  600, 128,   0, 128,  255,   0,   0,    0, 255,   0,  NO, 0.5\\n  630, 128,   0, 128,  255,   0,   0,    0, 255,   0,  NO, 0.5\\n  631, 128,   0, 128,  255,   0,   0,    0, 255,   0,  NO, 0.5\\n  633, 128,   0, 128,  255,   0,   0,    0, 255,   0,  NO, 0.5\\n  640, 128,   0, 128,  255,   0,   0,    0, 255,   0,  NO, 0.5\\n  643, 128,   0, 128,  255,   0,   0,    0, 255,   0,  NO, 0.5\\n  650, 128,   0, 128,  255,   0,   0,    0, 255,   0,  NO, 0.5\\n  653, 128,   0, 128,  255,   0,   0,    0, 255,   0,  NO, 0.5\\n  660, 128,   0, 128,  255,   0,   0,    0, 255,   0,  NO, 0.5\\n  663, 128,   0, 128,  255,   0,   0,    0, 255,   0,  NO, 0.5\\n  664, 128,   0, 128,  255,   0,   0,    0, 255,   0,  NO, 0.5\\n  665, 128,   0, 128,  255,   0,   0,    0, 255,   0,  NO, 0.5\\n  680, 128,   0, 128,  255,   0,   0,    0, 255,   0,  NO, 0.5\\n  683, 128,   0, 128,  255,   0,   0,    0, 255,   0,  NO, 0.5\\n  685, 128,   0, 128,  255,   0,   0,    0, 255,   0,  NO, 0.5\\n  686, 128,   0, 128,  255,   0,   0,    0, 255,   0,  NO, 0.5\\n  800, 128,   0, 128,  255,   0,   0,    0, 255,   0,  NO, 0.5\\n  810, 128,   0, 128,  255,   0,   0,    0, 255,   0,  NO, 0.5\\n  813, 128,   0, 128,  255,   0,   0,    0, 255,   0,  NO, 0.5\\n  820, 128,   0, 128,  255,   0,   0,    0, 255,   0,  NO, 0.5\\n  830, 128,   0, 128,  255,   0,   0,    0, 255,   0,  NO, 0.5\\n  900, 128,   0, 128,  255,   0,   0,    0, 255,   0,  NO, 0.5\\n  910, 128,   0, 128,  255,   0,   0,    0, 255,   0,  NO, 0.5\\n  920, 128,   0, 128,  255,   0,   0,    0, 255,   0,  NO, 0.5\\n  930, 128,   0, 128,  255,   0,   0,    0, 255,   0,  NO, 0.5\\n  940, 128,   0, 128,  255,   0,   0,    0, 255,   0,  NO, 0.5\\n  960, 128,   0, 128,  255,   0,   0,    0, 255,   0,  NO, 0.5\\n 1000, 128,   0, 128,  255,   0,   0,    0, 255,   0,  NO, 0.5\\n 1100, 128,   0, 128,  255,   0,   0,    0, 255,   0,  NO, 0.5\\n\\n*DGN-SECT\\n; iSEC, TYPE, SNAME, [OFFSET], bSD, bWE, SHAPE, [DATA1], [DATA2]                    ; 1st line - DB/USER\\n; iSEC, TYPE, SNAME, [OFFSET], bSD, bWE, SHAPE, BLT, D1, ..., D8, iCEL              ; 1st line - VALUE\\n;       AREA, ASy, ASz, Ixx, Iyy, Izz                                               ; 2nd line\\n;       CyP, CyM, CzP, CzM, QyB, QzB, PERI_OUT, PERI_IN, Cy, Cz                     ; 3rd line\\n;       Y1, Y2, Y3, Y4, Z1, Z2, Z3, Z4, Zyy, Zzz                                    ; 4th line\\n; iSEC, TYPE, SNAME, [OFFSET], bSD, bWE, SHAPE, ELAST, DEN, POIS, POIC, SF, THERMAL ; 1st line - SRC\\n;       D1, D2, [SRC]                                                               ; 2nd line\\n; iSEC, TYPE, SNAME, [OFFSET], bSD, bWE, SHAPE, 1, DB, NAME1, NAME2, D1, D2         ; 1st line - COMBINED\\n; iSEC, TYPE, SNAME, [OFFSET], bSD, bWE, SHAPE, 2, D11, D12, D13, D14, D15, D21, D22, D23, D24\\n; iSEC, TYPE, SNAME, [OFFSET2], bSD, bWE, SHAPE, iyVAR, izVAR, STYPE                ; 1st line - TAPERED\\n;       DB, NAME1, NAME2                                                            ; 2nd line(STYPE=DB)\\n;       [DIM1], [DIM2]                                                              ; 2nd line(STYPE=USER)\\n;       D11, D12, D13, D14, D15, D16, D17, D18                                      ; 2nd line(STYPE=VALUE)\\n;       AREA1, ASy1, ASz1, Ixx1, Iyy1, Izz1                                         ; 3rd line(STYPE=VALUE)\\n;       CyP1, CyM1, CzP1, CzM1, QyB1, QzB1, PERI_OUT1, PERI_IN1, Cy1, Cz1           ; 4th line(STYPE=VALUE)\\n;       Y11, Y12, Y13, Y14, Z11, Z12, Z13, Z14, Zyy1, Zyy2                          ; 5th line(STYPE=VALUE)\\n;       D21, D22, D23, D24, D25, D26, D27, D28                                      ; 6th line(STYPE=VALUE)\\n;       AREA2, ASy2, ASz2, Ixx2, Iyy2, Izz2                                         ; 7th line(STYPE=VALUE)\\n;       CyP2, CyM2, CzP2, CzM2, QyB2, QzB2, PERI_OUT2, PERI_IN2, Cy2, Cz2           ; 8th line(STYPE=VALUE)\\n;       Y21, Y22, Y23, Y24, Z21, Z22, Z23, Z24, Zyy2, Zzz2                          ; 9th line(STYPE=VALUE)\\n; iSEC, TYPE, SNAME, [OFFSET], bSD, bWE, SHAPE                                      ; 1st line - COMPOSITE-B\\n;       Hw, tw, B1, Bf1, tf1, B2, Bf2, tf2                                          ; 2nd line\\n;       [SHAPE-NUM], [STIFF-SHAPE], [STIFF-POS] (1~4)                               ; 3rd line\\n;       SW, GN, CTC, Bc, Tc, Hh, EsEc, DsDc, Ps, Pc, TsTc, bMulti, Elong, Esh       ; 4th line\\n; iSEC, TYPE, SNAME, [OFFSET], bSD, bWE, SHAPE                                      ; 1st line - COMPOSITE-I\\n;       Hw, tw, B1, tf1, B2, tf2                                                    ; 2nd line\\n;       [SHAPE-NUM], [STIFF-SHAPE], [STIFF-POS] (1~2)                               ; 3rd line\\n;       SW, GN, CTC, Bc, Tc, Hh, EsEc, DsDc, Ps, Pc, TsTc, bMulti, Elong, Esh       ; 4th line\\n; iSEC, TYPE, SNAME, [OFFSET], bSD, bWE, SHAPE                                      ; 1st line - COMPOSITE-TUB\\n;       Hw, tw, B1, Bf1, tf1, B2, Bf2, tf2, Bf3, tfp                                ; 2nd line\\n;       [SHAPE-NUM], [STIFF-SHAPE], [STIFF-POS] (1~3)                               ; 3rd line\\n;       SW, GN, CTC, Bc, Tc, Hh, EsEc, DsDc, Ps, Pc, TsTc, bMulti, Elong, Esh       ; 4th line\\n; [DATA1] : 1, DB, NAME or 2, D1, D2, D3, D4, D5, D6, D7, D8, D9, D10\\n; [DATA2] : CCSHAPE or iCEL or iN1, iN2\\n; [SRC]  : 1, DB, NAME1, NAME2 or 2, D1, D2, D3, D4, D5, D6, D7, D8, D9, D10, iN1, iN2\\n; [DIM1], [DIM2] : D1, D2, D3, D4, D5, D6, D7, D8\\n; [OFFSET] : OFFSET, iCENT, iREF, iHORZ, HUSER, iVERT, VUSER\\n; [OFFSET2]: OFFSET, iCENT, iREF, iHORZ, HUSERI, HUSERJ, iVERT, VUSERI, VUSERJ\\n; [SHAPE-NUM]: SHAPE-NUM, POS, STIFF-NUM1, STIFF-NUM2, STIFF-NUM3, STIFF-NUM4\\n; [STIFF-SHAPE]: SHAPE-NUM, for(SHAPE-NUM) { NAME, SIZE1~8 }\\n; [STIFF-POS]: STIFF-NUM, for(STIFF-NUM) { SPACING, iSHAPE, bCALC }\\n  100, DBUSER    , ----Steel/C----   , CC, 0, 0, 0, 0, 0, 0, YES, H  , 1, KS, H 100x50x5/7\\n  110, DBUSER    , SC1L (H 700x300x13/24), CC, 0, 0, 0, 0, 0, 0, YES, H  , 1, KS, H 700x300x13/24\\n  111, DBUSER    , SC1A (H 800x300x14/26), CC, 0, 0, 0, 0, 0, 0, YES, H  , 1, KS, H 800x300x14/26\\n  113, DBUSER    , SC1U (H 588x300x12/20), CC, 0, 0, 0, 0, 0, 0, YES, H  , 1, KS, H 588x300x12/20\\n  120, DBUSER    , SC2 (H 482x300x11/15), CC, 0, 0, 0, 0, 0, 0, YES, H  , 1, KS, H 482x300x11/15\\n  123, DBUSER    , SC2A (H 400x200x8/13), CC, 0, 0, 0, 0, 0, 0, YES, H  , 1, KS, H 400x200x8/13\\n  130, DBUSER    , SC3 (H 200x200x8/12), CC, 0, 0, 0, 0, 0, 0, YES, H  , 1, KS, H 200x200x8/12\\n  140, DBUSER    , WC1 (H 150x150x7/10), CC, 0, 0, 0, 0, 0, 0, YES, H  , 1, KS, H 150x150x7/10\\n  143, DBUSER    , WC1A (H 150x150x7/10), CC, 0, 0, 0, 0, 0, 0, YES, H  , 1, KS, H 150x150x7/10\\n  145, DBUSER    , WC2 (H 250x250x9/14), CC, 0, 0, 0, 0, 0, 0, YES, H  , 1, KS, H 250x250x9/14\\n  150, DBUSER    , SC4 (H 300x300x10/15), CC, 0, 0, 0, 0, 0, 0, YES, H  , 1, KS, H 300x300x10/15\\n  153, DBUSER    , SC4A (H 350x350x12/19), CC, 0, 0, 0, 0, 0, 0, YES, H  , 1, KS, H 350x350x12/19\\n  300, DBUSER    , ----Steel/G----   , CC, 0, 0, 0, 0, 0, 0, YES, H  , 1, KS, H 100x50x5/7\\n  310, DBUSER    , WG1 (H 294x200x8/12), CC, 0, 0, 0, 0, 0, 0, YES, H  , 1, KS, H 294x200x8/12\\n  313, DBUSER    , WG2 (H 250x125x6/9), CC, 0, 0, 0, 0, 0, 0, YES, H  , 1, KS, H 250x125x6/9\\n  314, DBUSER    , WG2A (H 340x250x9/14), CC, 0, 0, 0, 0, 0, 0, YES, H  , 1, KS, H 340x250x9/14\\n  315, DBUSER    , WG3 (H 340x250x9/14), CC, 0, 0, 0, 0, 0, 0, YES, H  , 1, KS, H 340x250x9/14\\n  317, DBUSER    , WG3A (H 340x250x9/14), CC, 0, 0, 0, 0, 0, 0, YES, H  , 1, KS21, H 340x250x9/14\\n  330, DBUSER    , OG1 (H 482x300x11/15), CC, 0, 0, 0, 0, 0, 0, YES, H  , 1, KS, H 482x300x11/15\\n  331, DBUSER    , OG1A (H 700x300x13/24), CC, 0, 0, 0, 0, 0, 0, YES, H  , 1, KS21, H 700x300x13/24\\n  333, DBUSER    , OG2 (H 400x200x8/13), CC, 0, 0, 0, 0, 0, 0, YES, H  , 1, KS, H 400x200x8/13\\n  334, DBUSER    , OG2A (H 588x300x12/20), CC, 0, 0, 0, 0, 0, 0, YES, H  , 1, KS21, H 588x300x12/20\\n  335, DBUSER    , OG3 (H 500x200x10/16), CC, 0, 0, 0, 0, 0, 0, YES, H  , 1, KS, H 500x200x10/16\\n  336, DBUSER    , OG3A (H 482x300x11/15), CC, 0, 0, 0, 0, 0, 0, YES, H  , 1, KS21, H 482x300x11/15\\n  337, DBUSER    , OG4 (H 482x300x11/15), CC, 0, 0, 0, 0, 0, 0, YES, H  , 1, KS, H 482x300x11/15\\n  338, DBUSER    , OG2B (H 700x300x13/24), CC, 0, 0, 0, 0, 0, 0, YES, H  , 1, KS21, H 700x300x13/24\\n  340, DBUSER    , PG1 (H 350x175x7/11), CC, 0, 0, 0, 0, 0, 0, YES, H  , 1, KS, H 350x175x7/11\\n  343, DBUSER    , 2G2 (H 482x300x11/15), CC, 0, 0, 0, 0, 0, 0, YES, H  , 1, KS, H 482x300x11/15\\n  345, DBUSER    , 2G2A (H 500x200x10/16), CC, 0, 0, 0, 0, 0, 0, YES, H  , 1, KS, H 500x200x10/16\\n  347, DBUSER    , 2G3 (H 588x300x12/20), CC, 0, 0, 0, 0, 0, 0, YES, H  , 1, KS, H 588x300x12/20\\n  350, DBUSER    , 3G1 (H 488x300x11/18), CC, 0, 0, 0, 0, 0, 0, YES, H  , 1, KS, H 488x300x11/18\\n  351, DBUSER    , 3G1A (H 400x200x8/13), CC, 0, 0, 0, 0, 0, 0, YES, H  , 1, KS, H 400x200x8/13\\n  353, DBUSER    , 3G2 (H 482x300x11/15), CC, 0, 0, 0, 0, 0, 0, YES, H  , 1, KS, H 482x300x11/15\\n  355, DBUSER    , 3G2A (H 500x200x10/16), CC, 0, 0, 0, 0, 0, 0, YES, H  , 1, KS, H 500x200x10/16\\n  357, DBUSER    , 3G3 (H 488x300x11/18), CC, 0, 0, 0, 0, 0, 0, YES, H  , 1, KS, H 488x300x11/18\\n  360, DBUSER    , RG1 (H 488x300x11/18), CC, 0, 0, 0, 0, 0, 0, YES, H  , 1, KS, H 488x300x11/18\\n  361, DBUSER    , RG1A (H 400x200x8/13), CC, 0, 0, 0, 0, 0, 0, YES, H  , 1, KS, H 400x200x8/13\\n  362, DBUSER    , RG1B (H 300x150x6.5/9), CC, 0, 0, 0, 0, 0, 0, YES, H  , 1, KS21, H 300x150x6.5/9\\n  363, DBUSER    , RG2 (H 300x150x6.5/9), CC, 0, 0, 0, 0, 0, 0, YES, H  , 1, KS, H 300x150x6.5/9\\n  365, DBUSER    , RG2A (H 500x200x10/16), CC, 0, 0, 0, 0, 0, 0, YES, H  , 1, KS, H 500x200x10/16\\n  367, DBUSER    , RG3 (H 488x300x11/18), CC, 0, 0, 0, 0, 0, 0, YES, H  , 1, KS, H 488x300x11/18\\n  380, DBUSER    , RG11 (H 800x300x14/26), CC, 0, 0, 0, 0, 0, 0, YES, H  , 1, KS, H 800x300x14/26\\n  383, DBUSER    , RG11A (H 500x200x10/16), CC, 0, 0, 0, 0, 0, 0, YES, H  , 1, KS, H 500x200x10/16\\n  384, DBUSER    , RG11B (H 300x150x6.5/9), CC, 0, 0, 0, 0, 0, 0, YES, H  , 1, KS21, H 300x150x6.5/9\\n  385, DBUSER    , RG12 (H 300x150x6.5/9), CC, 0, 0, 0, 0, 0, 0, YES, H  , 1, KS, H 300x150x6.5/9\\n  387, DBUSER    , RG12A (H 300x150x6.5/9), CC, 0, 0, 0, 0, 0, 0, YES, H  , 1, KS21, H 300x150x6.5/9\\n  400, DBUSER    , ----Steel/Crane----, CC, 0, 0, 0, 0, 0, 0, YES, H  , 1, KS, H 100x50x5/7\\n  410, DBUSER    , CRG1 (BH 900x350x16x28), CC, 0, 0, 0, 0, 0, 0, YES, H  , 2, 0.9, 0.35, 0.016, 0.028, 0, 0, 0, 0, 0, 0\\n  420, DBUSER    , BK1 (BH 900x750x30x50), CC, 0, 0, 0, 0, 0, 0, YES, H  , 2, 0.9, 0.75, 0.03, 0.05, 0, 0, 0, 0, 0, 0\\n  430, DBUSER    , BG1 (H 400x200x8/13), CC, 0, 0, 0, 0, 0, 0, YES, H  , 1, KS, H 400x200x8/13\\n  440, DBUSER    , HBR2 (T 125x125x6/9), CC, 0, 0, 0, 0, 0, 0, YES, T  , 1, KS, T 125x125x6/9\\n  600, DBUSER    , ----Steel/B----   , CC, 0, 0, 0, 0, 0, 0, YES, H  , 1, KS, H 100x50x5/7\\n  630, DBUSER    , OB1 (H 450x200x9/14), CC, 0, 0, 0, 0, 0, 0, YES, H  , 1, KS, H 450x200x9/14\\n  631, DBUSER    , OB1A (H 482x300x11/15), CC, 0, 0, 0, 0, 0, 0, YES, H  , 1, KS21, H 482x300x11/15\\n  633, DBUSER    , OB2 (H 300x150x6.5/9), CC, 0, 0, 0, 0, 0, 0, YES, H  , 1, KS, H 300x150x6.5/9\\n  640, DBUSER    , OB4 (H 588x300x12/20), CC, 0, 0, 0, 0, 0, 0, YES, H  , 1, KS, H 588x300x12/20\\n  643, DBUSER    , PB1 (H 300x150x6.5/9), CC, 0, 0, 0, 0, 0, 0, YES, H  , 1, KS, H 300x150x6.5/9\\n  650, DBUSER    , 3B2 (H 482x300x11/15), CC, 0, 0, 0, 0, 0, 0, YES, H  , 1, KS, H 482x300x11/15\\n  653, DBUSER    , 3B3 (H 488x300x11/18), CC, 0, 0, 0, 0, 0, 0, YES, H  , 1, KS, H 488x300x11/18\\n  660, DBUSER    , RB1 (H 300x150x6.5/9), CC, 0, 0, 0, 0, 0, 0, YES, H  , 1, KS, H 300x150x6.5/9\\n  663, DBUSER    , RB2 (H 350x175x7/11), CC, 0, 0, 0, 0, 0, 0, YES, H  , 1, KS, H 350x175x7/11\\n  664, DBUSER    , RB2A (H 400x200x8/13), CC, 0, 0, 0, 0, 0, 0, YES, H  , 1, KS21, H 400x200x8/13\\n  665, DBUSER    , RB3 (H 194x150x6/9), CC, 0, 0, 0, 0, 0, 0, YES, H  , 1, KS, H 194x150x6/9\\n  680, DBUSER    , RB11 (H 300x150x6.5/9), CC, 0, 0, 0, 0, 0, 0, YES, H  , 1, KS, H 300x150x6.5/9\\n  683, DBUSER    , RB12 (H 400x200x8/13), CC, 0, 0, 0, 0, 0, 0, YES, H  , 1, KS, H 400x200x8/13\\n  685, DBUSER    , RB13 (H 194x150x6/9), CC, 0, 0, 0, 0, 0, 0, YES, H  , 1, KS, H 194x150x6/9\\n  686, DBUSER    , RB13 (H 294x200x8/12), CC, 0, 0, 0, 0, 0, 0, YES, H  , 1, KS21, H 294x200x8/12\\n  800, DBUSER    , ----Steel/BR----  , CC, 0, 0, 0, 0, 0, 0, YES, H  , 1, KS, H 100x50x5/7\\n  810, DBUSER    , VB1 (H 200x200x8/12), CC, 0, 0, 0, 0, 0, 0, YES, H  , 1, KS, H 200x200x8/12\\n  813, DBUSER    , VB1A (H 150x150x7/10), CC, 0, 0, 0, 0, 0, 0, YES, H  , 1, KS, H 150x150x7/10\\n  820, DBUSER    , HBR1 (P 190.7x5)  , CC, 0, 0, 0, 0, 0, 0, YES, P  , 1, KS, P 190.7x5\\n  830, DBUSER    , KBR1 (P 101.6x3.2), CC, 0, 0, 0, 0, 0, 0, YES, P  , 1, KS, P 101.6x3.2\\n  900, DBUSER    , ----Steel/Truss----, CC, 0, 0, 0, 0, 0, 0, YES, H  , 1, KS, H 100x50x5/7\\n  910, DBUSER    , MT1_T (H 200x200x8/12), CC, 0, 0, 0, 0, 0, 0, YES, H  , 1, KS, H 200x200x8/12\\n  920, DBUSER    , MT1_B (H 250x250x9/14), CC, 0, 0, 0, 0, 0, 0, YES, H  , 1, KS, H 250x250x9/14\\n  930, DBUSER    , MT1_VR (T 125x250x9/14), CC, 0, 0, 0, 0, 0, 0, YES, T  , 1, KS, T 125x250x9/14\\n  940, DBUSER    , MT1_DR (T 125x250x9/14), CC, 0, 0, 0, 0, 0, 0, YES, T  , 1, KS, T 125x250x9/14\\n  960, DBUSER    , VBR2 (T 125x125x6/9), CC, 0, 0, 0, 0, 0, 0, YES, T  , 1, KS, T 125x125x6/9\\n 1000, DBUSER    , ----Dummy----     , CC, 0, 0, 0, 0, 0, 0, YES, SB , 2, 0.001, 0.001, 0, 0, 0, 0, 0, 0, 0, 0\\n 1100, DBUSER    , Dummy             , CC, 0, 0, 0, 0, 0, 0, YES, SB , 2, 0.001, 0.001, 0, 0, 0, 0, 0, 0, 0, 0\\n\\n*DGN-STEEL    ; Steel Design Code\\n; CODE=CODE, bBRACED,  bDEFLECT, iWTL                                         ; line 1\\n; [AISC-LRFD93]   : PHI-T1, PHI-T2, PHI-C, PHI-B, PHI-V                       ; line 2\\n; [AISC-LRFD2K]   : PHI-T1, PHI-T2, PHI-C, PHI-B, PHI-V                       ; line 2\\n; [AIK-LSD97]     : PHI-T1, PHI-T2, PHI-C, PHI-B, PHI-V                       ; line 2\\n; [TWN-LSD90]     : PHI-T1, PHI-T2, PHI-C, PHI-B, PHI-V                       ; line 2\\n; [TWN-LSD96]     : PHI-T1, PHI-T2, PHI-C, PHI-B, PHI-V, bSPECIAL, FRAMETYPE, bSCWB ; line 2\\n; [KSSC-LSD09]    : PHI-T1, PHI-T2, PHI-C, PHI-B, PHI-V, bSPECIAL, FRAMETYPE, bSCWB ; line 2\\n; [KSSC-LSD16]    : PHI-T1, PHI-T2, PHI-C, PHI-B, PHI-V, bSPECIAL, FRAMETYPE, bSCWB ; line 2\\n; [AISC(13th)-LRFD05] : PHI-T1, PHI-T2, PHI-C, PHT-B, PHI-V, bSPECIAL, FRAMETYPE, bSCWB ; line 2\\n; [AISC(14th)-LRFD10] : PHI-T1, PHI-T2, PHI-C, PHT-B, PHI-V, bSPECIAL, FRAMETYPE, bSCWB ; line 2\\n; [AISC(13th)-ASD05]  : OMEGA-T1, OMEGA-T2, OMEGA-C, OMEGA-B, OMEGA-V, bSPECIAL, FRAMETYPE , bSCWB; line 2\\n; [AISC(13th)-ASD10]  : OMEGA-T1, OMEGA-T2, OMEGA-C, OMEGA-B, OMEGA-V, bSPECIAL, FRAMETYPE , bSCWB; line 2\\n; [EUROCODE3]     : GAMMA-M0, GAMMA-M1, GAMMA-M2, iSCODE, iUseMaxForce ; line 2\\n; [EUROCODE3:05]  : GAMMA-M0, GAMMA-M1, GAMMA-M2, iSCODE, iUseMaxForce ; line 2\\n; [EUROCODE3-2:05]: GAMMA-M0, GAMMA-M1, GAMMA-M2, iSCODE, iUseMaxForce ; line 2\\n; [BS5950-90]     : GAMMA-M1, GAMMA-M2                                 ; line 2\\n; [BS5950-2K]     : GAMMA-M                                            ; line 2\\n; [CSA-S16-01]    : PHI                                                ; line 2\\n; [CSA-S6-14]     : PHI                                                ; line 2\\n; [AISC-ASD89]    :                                           ; \\n; [KSSC-ASD03]    :                                           ; \\n; [AISI-CFSD86]   :                                           ; \\n; [AISI-CFSD08]   :                                           ; \\n; [AIK-ASD83]     :                                           ; \\n; [KSCE-ASD96]    :                                           ; \\n; [AIJ-ASD02]     :                                           ; \\n; [AISC-CFSD86]   :                                           ; \\n; [AIK-CFSD98]    :                                           ; \\n; [GBJ17-88]      : bSPECIAL, iCLASS, NetGrossAreaRatio       ; line 2\\n; [GB50017-03]    : bSPECIAL, iCLASS, NetGrossAreaRatio       ; line 2\\n; [GB50017-17]    : bSPECIAL, iCLASS, SafeLevel,EqGrade,BendingEnvelope,NetGrossAreaRatio       ; line 2\\n; [GB50017-15]    : iCLASS, AreaRatio, iSeis, bSPECIAL, bWeldBeam, bStiffRib, StiffRibSpace; line 2\\n; [IS:800-1984]   :                                           ; \\n; [IS:800-2007]   : GAMMA-M0, GAMMA-M1                        ; \\n; [AASHTO-LRFD02] : PHI-T1, PHI-T2, PHI-C, PHI-B, PHI-V       ; line 2\\n; [AASHTO-LFD96]  :                                           ; \\n; [AASHTO-ASD96]  :                                           ; \\n; [JTJ025-86]     :                                           ; \\n; [TWN-BRG-LSD90] :                                           ; \\n; [TWN-ASD90]     :                                           ; \\n; [TWN-ASD96]     : PHI-T1, PHI-T2, PHI-C, PHI-B, PHI-V, bSPECIAL, FRAMETYPE, bSCWB ; line 2\\n; [TWN-BRG-ASD90] :                                           ; \\n; [KSCE-ASD05]    : iDGN_LCOM, bENVE_FORCE1, ... bENVE_FORCE12; line2 \\n;                 : bPRINT_CHK1, ... bPRINT_CHK5              ; line3 \\n   CODE=KDS 41 31 : 2019, NO, 0\\n\\n\\n*BLDG-CTRL    ; Building Control Data\\n; bBASE, LEVEL, bBEDROCK, BEDROCKLEVEL, bMASS, bSSFR, bSTORMDUL, bSRTH, iSRTHOPT, [EccenRatio], bLATFLEX ; line 1\\n; LCNAME1, FACT1, LCNAME2, FACT2, ...                                                                    ; from line 2\\n; [EccenRatio] : bCENTER                                                                                 ; bCENTER=NO\\n; [EccenRatio] : bCENTER, XDLC, YDLC, USE                                                                ; bCENTER=YES, USE=MASS\\n; [EccenRatio] : bCENTER, XDLC, YDLC, USE                                                                ; bCENTER=YES, USE=AXIAL\\n; [EccenRatio] : bCENTER, XDLC, YDLC, USE, SLCX, SLCY                                                    ; bCENTER=YES, USE=SHEAR\\n   YES, 0, NO, YES, NO, NO, 0, NO, , , AXIAL, YES\\n\\n*MEMBER    ; Member\\n; iKEY, ELEM, bREVERSE, AELEM1, AELEM2, ...\\n145, NO, 133\\n732, NO, 806, 880, 897, 831, 757\\n736, NO, 810, 884, 901, 835, 761\\n740, NO, 814, 886, 903, 839, 765\\n744, NO, 818, 888, 905, 843, 769\\n748, NO, 822, 890, 907, 847, 773\\n752, NO, 826, 892, 909, 851, 777\\n756, NO, 830, 896, 913, 855, 781\\n708, NO, 709\\n720, NO, 721\\n856, NO, 857\\n868, NO, 869\\n710, NO, 711\\n722, NO, 723\\n858, NO, 859\\n870, NO, 871\\n712, NO, 713\\n716, NO, 717\\n724, NO, 725\\n728, NO, 729\\n860, NO, 861\\n864, NO, 865\\n49, NO, 276, 451, 672\\n48, NO, 275, 450, 678\\n45, NO, 272, 445, 686\\n36, NO, 269, 441, 680\\n35, NO, 268, 440, 674\\n56, NO, 277, 452\\n25, NO, 259, 430\\n65, NO, 253, 345, 461\\n34, NO, 251, 336, 439\\n312, NO, 337, 360, 366, 346, 320\\n425, NO, 675\\n428, NO, 681\\n446, NO, 687\\n427, NO, 679\\n424, NO, 673\\n872, NO, 873\\n146, NO, 134, 119, 106\\n187, NO, 180, 174, 166, 159\\n186, NO, 179, 173, 165, 158\\n153, NO, 154\\n147, NO, 135, 120, 107\\n148, NO, 136, 121, 108\\n149, NO, 137, 122, 109\\n100, NO, 101, 102, 103\\n129, NO, 130, 131\\n98, NO, 99\\n96, NO, 97\\n94, NO, 95\\n92, NO, 93\\n217, NO, 218\\n150, NO, 138, 123, 110\\n151, NO, 139, 124, 111\\n188, NO, 181, 175, 167, 160\\n189, NO, 182, 176, 168, 161\\n225, NO, 226, 227, 228\\n194, NO, 195, 196\\n229, NO, 230\\n216, NO, 203\\n215, NO, 202\\n211, NO, 198\\n212, NO, 199\\n213, NO, 200\\n190, NO, 191\\n104, NO, 105\\n221, NO, 222\\n219, NO, 220\\n223, NO, 224\\n876, NO, 877\\n714, NO, 715\\n718, NO, 719\\n726, NO, 727\\n730, NO, 731\\n862, NO, 863\\n866, NO, 867\\n874, NO, 875\\n878, NO, 879\\n734, NO, 808\\n738, NO, 812\\n742, NO, 816\\n746, NO, 820\\n750, NO, 824\\n754, NO, 828\\n882, NO, 899\\n885, NO, 902\\n887, NO, 904\\n889, NO, 906\\n891, NO, 908\\n894, NO, 911\\n833, NO, 759\\n837, NO, 763\\n841, NO, 767\\n845, NO, 771\\n849, NO, 775\\n853, NO, 779\\n316, NO, 341, 362, 368, 350, 324\\n319, NO, 344, 365, 371, 353, 327\\n295, NO, 296, 297\\n308, NO, 309, 310\\n354, NO, 355\\n357, NO, 358\\n314, NO, 339\\n361, NO, 367\\n348, NO, 322\\n330, NO, 331\\n389, NO, 390\\n334, NO, 335\\n20, NO, 255\\n23, NO, 256\\n372, NO, 373\\n480, NO, 481, 482, 483\\n374, NO, 375\\n484, NO, 485\\n376, NO, 377\\n486, NO, 487\\n380, NO, 381\\n490, NO, 491, 492, 493\\n27, NO, 261, 432\\n28, NO, 262, 433\\n30, NO, 264, 435\\n31, NO, 265, 436\\n33, NO, 267, 438\\n635, NO, 691\\n638, NO, 694\\n641, NO, 697\\n378, NO, 379\\n382, NO, 383\\n488, NO, 489\\n494, NO, 495\\n2, NO, 67\\n8, NO, 73\\n407, NO, 463\\n413, NO, 469\\n232, NO, 287\\n235, NO, 290\\n238, NO, 293\\n5, NO, 70\\n410, NO, 466\\n394, NO, 395\\n618, NO, 619, 620, 621\\n396, NO, 397\\n622, NO, 623\\n398, NO, 399\\n624, NO, 625\\n400, NO, 401\\n626, NO, 627\\n628, NO, 629, 630, 631\\n402, NO, 403\\n404, NO, 405\\n632, NO, 633\\n241, NO, 300\\n244, NO, 303\\n247, NO, 306\\n644, NO, 700\\n647, NO, 703\\n650, NO, 706\\n11, NO, 76\\n14, NO, 79\\n17, NO, 82\\n416, NO, 472\\n419, NO, 475\\n422, NO, 478\\n214, NO, 201\\n531, NO, 532, 533, 534\\n563, NO, 564, 565, 566\\n535, NO, 536, 537\\n567, NO, 568, 569\\n538, NO, 539, 540\\n570, NO, 571, 572\\n541, NO, 542, 543\\n573, NO, 574, 575\\n544, NO, 545, 546, 547\\n576, NO, 577, 578, 579\\n548, NO, 549, 550\\n580, NO, 581, 582\\n\\n*DGN-MATL    ; Modify Steel(Concrete) Material\\n; iMAT, TYPE, MNAME, [DATA1]                                    ; STEEL\\n; iMAT, TYPE, MNAME, [DATA2], [R-DATA], FCI, bSERV, SHORT, LONG ; CONC\\n; iMAT, TYPE, MNAME, [DATA3], [DATA2], [R-DATA]                 ; SRC\\n; iMAT, TYPE, MNAME, [DATA5]                                    ; STEEL(None) & KSCE-ASD05\\n; [DATA1] : 1, DB, CODE, NAME or 2, ELAST, POISN, FU, FY1, FY2, FY3, FY4\\n;           FY5, FY6, AFT, AFT2, AFT3, FY, AFV, AFV2, AFV3\\n; [DATA2] : 1, DB, CODE, NAME or 2, FC, CHK, LAMBDA, bFCI, FCI\\n; [DATA3] : 1, DB, CODE, NAME or 2, ELAST, FU, FY1, FY2, FY3, FY4\\n;              FY5, FY6, AFT, AFT2, AFT3, FY, AFV, AFV2, AFV3\\n; [DATA4] : 1, DB, CODE, NAME or 2, FC\\n; [DATA5] : 3, ELAST, POISN, AL1, AL2, AL3, AL4, AL5, AL6, AL7, AL8, AL9, AL10\\n;              MIN1, MIN2, MIN3\\n; [R-DATA]: RBCODE, RBMAIN, RBSUB, FY(R), FYS\\n   20, STEEL, SHN355            , 1, KS18(S)    ,            ,SHN355        \\n\\n*ENDDATA\\n\""
      ]
     },
     "execution_count": 36,
     "metadata": {},
     "output_type": "execute_result"
    }
   ],
   "source": [
    "(slurp \"Ulsan_STB_Steel_New_BOQ.mxt\")\n",
    ";; (slurp \"[FAASA2104]_Work Master@20220211131621_All_qlqh.xlsx\")"
   ]
  },
  {
   "cell_type": "code",
   "execution_count": 37,
   "id": "forty-halifax",
   "metadata": {},
   "outputs": [],
   "source": [
    ";; (use 'clojure.java.io)\n",
    ";; ;; (with-open [rdr (reader \"Ulsan_STB_Steel_New_BOQ.mxt\")]\n",
    ";; ;;   (doseq [line (line-seq rdr)]\n",
    ";; ;;     (println line)))"
   ]
  },
  {
   "cell_type": "code",
   "execution_count": 38,
   "id": "blond-porcelain",
   "metadata": {},
   "outputs": [
    {
     "name": "stdout",
     "output_type": "stream",
     "text": [
      ";---------------------------------------------------------------------------\n",
      ";  midas Gen Text(MGT) File.\n"
     ]
    },
    {
     "data": {
      "text/plain": [
       "nil"
      ]
     },
     "execution_count": 38,
     "metadata": {},
     "output_type": "execute_result"
    }
   ],
   "source": [
    "(ns file.test\n",
    "  (:require [clojure.java.io :as io]))\n",
    "\n",
    "(let [wrtr (io/writer \"test.txt\")]\n",
    "  (.write wrtr \"hello, world!\\n\")\n",
    "  (.close wrtr))\n",
    "\n",
    "(let [wrtr (io/writer \"test.txt\" :append true)]\n",
    "  (.write wrtr \"hello again!\")\n",
    "  (.close wrtr))\n",
    "\n",
    "(let [rdr (io/reader \"Ulsan_STB_Steel_New_BOQ.mxt\")]\n",
    "  (println (.readLine rdr))\n",
    "  (println (.readLine rdr)))"
   ]
  },
  {
   "cell_type": "code",
   "execution_count": 39,
   "id": "second-application",
   "metadata": {},
   "outputs": [
    {
     "data": {
      "text/plain": [
       "#'file.test/echo-file"
      ]
     },
     "execution_count": 39,
     "metadata": {},
     "output_type": "execute_result"
    }
   ],
   "source": [
    "(use 'clojure.java.io)\n",
    "\n",
    "(defn read-lines [filename]\n",
    "  (let [rdr (reader filename)]\n",
    "    (defn read-next-line []\n",
    "      (if-let [line (.readLine rdr)]\n",
    "       (cons line (lazy-seq (read-next-line)))\n",
    "       (.close rdr)))\n",
    "    (lazy-seq (read-next-line)))\n",
    ")\n",
    "\n",
    "(defn echo-file []\n",
    "  (doseq [line (read-lines \"Ulsan_STB_Steel_New_BOQ.mxt\")]\n",
    "    (println line)))"
   ]
  },
  {
   "cell_type": "code",
   "execution_count": 40,
   "id": "expanded-pressure",
   "metadata": {
    "scrolled": false
   },
   "outputs": [
    {
     "name": "stderr",
     "output_type": "stream",
     "text": [
      "Syntax error compiling at (REPL:5:29).\n",
      "No such namespace: csv\n",
      "Execution error (IllegalStateException) at file.test/eval4288 (REPL:8).\n",
      "Attempting to call unbound fn: #'file.test/read-csv\n",
      "Syntax error compiling at (REPL:0:0).\n",
      "Can't take value of a macro: #'clojure.core/->\n",
      "Syntax error reading source at (REPL:9:40).\n",
      "No reader function for tag Record\n"
     ]
    },
    {
     "ename": "class clojure.lang.ExceptionInfo",
     "evalue": "",
     "output_type": "error",
     "traceback": [
      "LispReader.java:  1444 clojure.lang.LispReader$CtorReader/readTagged",
      "LispReader.java:  1427 clojure.lang.LispReader$CtorReader/invoke",
      "LispReader.java:   846 clojure.lang.LispReader$DispatchReader/invoke",
      "LispReader.java:   285 clojure.lang.LispReader/read",
      "LispReader.java:  1398 clojure.lang.LispReader/readDelimitedList",
      "LispReader.java:  1243 clojure.lang.LispReader$ListReader/invoke",
      "LispReader.java:   285 clojure.lang.LispReader/read",
      "       core.clj:  3768 clojure.core$read/invokeStatic",
      "       core.clj:  3741 clojure.core$read/invoke",
      "       main.clj:   433 clojure.main$repl$read_eval_print__9086$fn__9087/invoke",
      "       main.clj:   432 clojure.main$repl$read_eval_print__9086/invoke",
      "       main.clj:   458 clojure.main$repl$fn__9095/invoke",
      "       main.clj:   368 clojure.main$repl/doInvoke",
      "    RestFn.java:  1523 clojure.lang.RestFn/invoke",
      "       AFn.java:    22 clojure.lang.AFn/run",
      "       AFn.java:    22 clojure.lang.AFn/run",
      "    Thread.java:   748 java.lang.Thread/run"
     ]
    }
   ],
   "source": [
    "(defrecord Record [W1 W2 W3])\n",
    "\n",
    "(defn read-csv [fname count]\n",
    "  (with-open [file (reader fname)]\n",
    "    (doall (take count (map (comp first csv/read-csv)\n",
    "                            (line-seq file))))))\n",
    "\n",
    "(map #(apply ->Record %) (read-csv \"1.csv\" 3))\n",
    "->(#Record{:W1 \"1\", :W2 \"one\", :W3 \"A\"}\n",
    "   #Record{:W1 \"2\", :W2 \"two\", :W3 \"B\"}\n",
    "   #Record{:W1 \"3\", :W2 \"three\", :W3 \"C\"})"
   ]
  },
  {
   "cell_type": "code",
   "execution_count": 41,
   "id": "published-liverpool",
   "metadata": {},
   "outputs": [
    {
     "data": {
      "text/plain": [
       "{[org.apache.commons/commons-math3 \"3.6.1\"] nil, [commons-codec \"1.12\"] nil, [org.clojure/clojure \"1.10.0\"] #{[org.clojure/core.specs.alpha \"0.2.44\"] [org.clojure/spec.alpha \"0.2.176\"]}, [org.apache.poi/poi-ooxml \"4.1.0\"] #{[com.github.virtuald/curvesapi \"1.06\"] [org.apache.commons/commons-compress \"1.18\"] [org.apache.poi/poi-ooxml-schemas \"4.1.0\"]}, [org.apache.commons/commons-collections4 \"4.3\"] nil, [com.github.virtuald/curvesapi \"1.06\"] nil, [org.apache.poi/poi \"4.1.0\"] #{[org.apache.commons/commons-math3 \"3.6.1\"] [commons-codec \"1.12\"] [org.apache.commons/commons-collections4 \"4.3\"]}, [dk.ative/docjure \"1.14.0\"] #{[org.clojure/clojure \"1.10.0\"] [org.apache.poi/poi-ooxml \"4.1.0\"] [org.apache.poi/poi \"4.1.0\"]}, [org.apache.xmlbeans/xmlbeans \"3.1.0\"] nil, [org.clojure/core.specs.alpha \"0.2.44\"] nil, [org.apache.commons/commons-compress \"1.18\"] nil, [org.clojure/spec.alpha \"0.2.176\"] nil, [org.apache.poi/poi-ooxml-schemas \"4.1.0\"] #{[org.apache.xmlbeans/xmlbeans \"3.1.0\"]}}"
      ]
     },
     "execution_count": 41,
     "metadata": {},
     "output_type": "execute_result"
    }
   ],
   "source": [
    "(require '[clojupyter.misc.helper :as helper])\n",
    "(helper/add-dependencies '[dk.ative/docjure \"1.14.0\"])"
   ]
  },
  {
   "cell_type": "code",
   "execution_count": 2,
   "id": "pretty-digit",
   "metadata": {},
   "outputs": [
    {
     "name": "stderr",
     "output_type": "stream",
     "text": [
      "Syntax error compiling at (REPL:2:1).\n",
      "Unable to resolve symbol: read-cell in this context\n"
     ]
    },
    {
     "ename": "class clojure.lang.Compiler$CompilerException",
     "evalue": "",
     "output_type": "error",
     "traceback": [
      "  Util.java:   221 clojure.lang.Util/runtimeException",
      "   core.clj:  3214 clojure.core$eval/invokeStatic",
      "   core.clj:  3210 clojure.core$eval/invoke",
      "   main.clj:   437 clojure.main$repl$read_eval_print__9086$fn__9089/invoke",
      "   main.clj:   458 clojure.main$repl$fn__9095/invoke",
      "   main.clj:   368 clojure.main$repl/doInvoke",
      "RestFn.java:  1523 clojure.lang.RestFn/invoke",
      "   AFn.java:    22 clojure.lang.AFn/run",
      "   AFn.java:    22 clojure.lang.AFn/run",
      "Thread.java:   748 java.lang.Thread/run"
     ]
    }
   ],
   "source": [
    ";; (use 'dk.ative.docjure.spreadsheet)\n",
    "(read-cell\n",
    " (->> (load-workbook \"test.xlsx\")\n",
    "      (select-sheet \"Work Master\")\n",
    "      (select-cell \"C4\")))"
   ]
  },
  {
   "cell_type": "code",
   "execution_count": 43,
   "id": "statewide-prisoner",
   "metadata": {},
   "outputs": [
    {
     "name": "stderr",
     "output_type": "stream",
     "text": [
      "Syntax error compiling at (REPL:3:24).\n",
      "Unable to resolve symbol: cell-seq in this context\n"
     ]
    },
    {
     "ename": "class clojure.lang.Compiler$CompilerException",
     "evalue": "",
     "output_type": "error",
     "traceback": [
      "  Util.java:   221 clojure.lang.Util/runtimeException",
      "   core.clj:  3214 clojure.core$eval/invokeStatic",
      "   core.clj:  3210 clojure.core$eval/invoke",
      "   main.clj:   437 clojure.main$repl$read_eval_print__9086$fn__9089/invoke",
      "   main.clj:   458 clojure.main$repl$fn__9095/invoke",
      "   main.clj:   368 clojure.main$repl/doInvoke",
      "RestFn.java:  1523 clojure.lang.RestFn/invoke",
      "   AFn.java:    22 clojure.lang.AFn/run",
      "   AFn.java:    22 clojure.lang.AFn/run",
      "Thread.java:   748 java.lang.Thread/run"
     ]
    }
   ],
   "source": [
    "(def sample-cells (->> (load-workbook \"[FAASA2104]_Work Master@20220211131621_All_qlqh.xlsx\")\n",
    "                       (sheet-seq)\n",
    "                       (mapcat cell-seq)))"
   ]
  },
  {
   "cell_type": "code",
   "execution_count": null,
   "id": "fleet-edmonton",
   "metadata": {},
   "outputs": [],
   "source": []
  }
 ],
 "metadata": {
  "kernelspec": {
   "display_name": "Clojure (clojupyter-0.3.2)",
   "language": "clojure",
   "name": "clojupyter-0.3.2"
  },
  "language_info": {
   "file_extension": ".clj",
   "mimetype": "text/x-clojure",
   "name": "clojure",
   "version": "1.10.1"
  },
  "toc": {
   "base_numbering": 1,
   "nav_menu": {},
   "number_sections": false,
   "sideBar": true,
   "skip_h1_title": false,
   "title_cell": "Table of Contents",
   "title_sidebar": "Contents",
   "toc_cell": false,
   "toc_position": {},
   "toc_section_display": true,
   "toc_window_display": false
  }
 },
 "nbformat": 4,
 "nbformat_minor": 5
}
