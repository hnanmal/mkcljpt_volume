{
 "cells": [
  {
   "cell_type": "code",
   "execution_count": 1,
   "id": "extreme-reunion",
   "metadata": {},
   "outputs": [
    {
     "name": "stdout",
     "output_type": "stream",
     "text": [
      "300 zombies for every human!\n"
     ]
    },
    {
     "data": {
      "text/plain": [
       "nil"
      ]
     },
     "execution_count": 1,
     "metadata": {},
     "output_type": "execute_result"
    }
   ],
   "source": [
    "(def population {::zombies 2700 ::humans 9})\n",
    "(def per-capita (/ (population ::zombies) (population ::humans)))\n",
    "(println per-capita \"zombies for every human!\")"
   ]
  },
  {
   "cell_type": "code",
   "execution_count": 2,
   "id": "existing-implement",
   "metadata": {},
   "outputs": [
    {
     "name": "stdout",
     "output_type": "stream",
     "text": [
      "300 zombies for every human!\n"
     ]
    },
    {
     "data": {
      "text/plain": [
       "nil"
      ]
     },
     "execution_count": 2,
     "metadata": {},
     "output_type": "execute_result"
    }
   ],
   "source": [
    "(def population {:zombies 2700 :humans 9})\n",
    "(def per-capita (/ (population :zombies) (population :humans)))\n",
    "(println per-capita \"zombies for every human!\")"
   ]
  },
  {
   "cell_type": "code",
   "execution_count": 9,
   "id": "medical-estonia",
   "metadata": {},
   "outputs": [
    {
     "name": "stdout",
     "output_type": "stream",
     "text": [
      "The value of the atom has been changed\n",
      "old-state 0\n",
      "new-state 2\n"
     ]
    },
    {
     "data": {
      "text/plain": [
       "2"
      ]
     },
     "execution_count": 9,
     "metadata": {},
     "output_type": "execute_result"
    }
   ],
   "source": [
    "(ns clojure.examples.example\n",
    "   (:gen-class))\n",
    "\n",
    "(defn Example []\n",
    "   (def x (atom 0))\n",
    "   (add-watch x :watcher\n",
    "      (fn [key atom old-state new-state]\n",
    "      (println \"The value of the atom has been changed\")\n",
    "      (println \"old-state\" old-state)\n",
    "      (println \"new-state\" new-state)\n",
    "          ))\n",
    "(reset! x 2))\n",
    "(Example)"
   ]
  },
  {
   "cell_type": "code",
   "execution_count": 10,
   "id": "identified-contamination",
   "metadata": {},
   "outputs": [
    {
     "data": {
      "text/plain": [
       "#'clojure.examples.example/my-atom"
      ]
     },
     "execution_count": 10,
     "metadata": {},
     "output_type": "execute_result"
    }
   ],
   "source": [
    "(def my-atom (atom 0))"
   ]
  },
  {
   "cell_type": "code",
   "execution_count": 11,
   "id": "comfortable-violence",
   "metadata": {},
   "outputs": [
    {
     "data": {
      "text/plain": [
       "0"
      ]
     },
     "execution_count": 11,
     "metadata": {},
     "output_type": "execute_result"
    }
   ],
   "source": [
    "@my-atom"
   ]
  },
  {
   "cell_type": "code",
   "execution_count": 12,
   "id": "generous-radiation",
   "metadata": {},
   "outputs": [
    {
     "data": {
      "text/plain": [
       "1"
      ]
     },
     "execution_count": 12,
     "metadata": {},
     "output_type": "execute_result"
    }
   ],
   "source": [
    "(swap! my-atom inc)"
   ]
  },
  {
   "cell_type": "code",
   "execution_count": 13,
   "id": "fundamental-fishing",
   "metadata": {},
   "outputs": [
    {
     "data": {
      "text/plain": [
       "1"
      ]
     },
     "execution_count": 13,
     "metadata": {},
     "output_type": "execute_result"
    }
   ],
   "source": [
    "@my-atom"
   ]
  },
  {
   "cell_type": "code",
   "execution_count": 15,
   "id": "distant-commissioner",
   "metadata": {},
   "outputs": [
    {
     "data": {
      "text/plain": [
       "16"
      ]
     },
     "execution_count": 15,
     "metadata": {},
     "output_type": "execute_result"
    }
   ],
   "source": [
    "(swap! my-atom (fn [n] (* (+ n n) 2)))"
   ]
  },
  {
   "cell_type": "code",
   "execution_count": 16,
   "id": "powered-doubt",
   "metadata": {},
   "outputs": [
    {
     "data": {
      "text/plain": [
       "0"
      ]
     },
     "execution_count": 16,
     "metadata": {},
     "output_type": "execute_result"
    }
   ],
   "source": [
    "(reset! my-atom 0)"
   ]
  },
  {
   "cell_type": "code",
   "execution_count": 17,
   "id": "brilliant-valuable",
   "metadata": {},
   "outputs": [
    {
     "data": {
      "text/plain": [
       "#'clojure.examples.example/a"
      ]
     },
     "execution_count": 17,
     "metadata": {},
     "output_type": "execute_result"
    }
   ],
   "source": [
    "(def a (atom #{}))"
   ]
  },
  {
   "cell_type": "code",
   "execution_count": 18,
   "id": "committed-british",
   "metadata": {},
   "outputs": [
    {
     "data": {
      "text/plain": [
       "#{:tag}"
      ]
     },
     "execution_count": 18,
     "metadata": {},
     "output_type": "execute_result"
    }
   ],
   "source": [
    "(swap! a conj :tag)"
   ]
  },
  {
   "cell_type": "code",
   "execution_count": 19,
   "id": "minimal-utility",
   "metadata": {},
   "outputs": [
    {
     "data": {
      "text/plain": [
       "#{:tag}"
      ]
     },
     "execution_count": 19,
     "metadata": {},
     "output_type": "execute_result"
    }
   ],
   "source": [
    "@a"
   ]
  },
  {
   "cell_type": "code",
   "execution_count": 28,
   "id": "necessary-editing",
   "metadata": {},
   "outputs": [
    {
     "data": {
      "text/plain": [
       "#'clojure.examples.example/my-atom"
      ]
     },
     "execution_count": 28,
     "metadata": {},
     "output_type": "execute_result"
    }
   ],
   "source": [
    "(def my-atom (atom 0 ))"
   ]
  },
  {
   "cell_type": "code",
   "execution_count": 29,
   "id": "funny-sunglasses",
   "metadata": {},
   "outputs": [
    {
     "data": {
      "text/plain": [
       "0"
      ]
     },
     "execution_count": 29,
     "metadata": {},
     "output_type": "execute_result"
    }
   ],
   "source": [
    "@my-atom"
   ]
  },
  {
   "cell_type": "code",
   "execution_count": 30,
   "id": "infectious-diabetes",
   "metadata": {},
   "outputs": [
    {
     "data": {
      "text/plain": [
       "1"
      ]
     },
     "execution_count": 30,
     "metadata": {},
     "output_type": "execute_result"
    }
   ],
   "source": [
    "(swap! my-atom inc)"
   ]
  },
  {
   "cell_type": "code",
   "execution_count": 31,
   "id": "limiting-jacob",
   "metadata": {},
   "outputs": [
    {
     "data": {
      "text/plain": [
       "3"
      ]
     },
     "execution_count": 31,
     "metadata": {},
     "output_type": "execute_result"
    }
   ],
   "source": [
    "(swap! my-atom (partial + 2))"
   ]
  },
  {
   "cell_type": "code",
   "execution_count": 32,
   "id": "elegant-header",
   "metadata": {},
   "outputs": [
    {
     "data": {
      "text/plain": [
       "3"
      ]
     },
     "execution_count": 32,
     "metadata": {},
     "output_type": "execute_result"
    }
   ],
   "source": [
    "@my-atom"
   ]
  },
  {
   "cell_type": "code",
   "execution_count": 33,
   "id": "executive-highway",
   "metadata": {},
   "outputs": [
    {
     "data": {
      "text/plain": [
       "#atom[0 0x40929d0f]"
      ]
     },
     "execution_count": 33,
     "metadata": {},
     "output_type": "execute_result"
    }
   ],
   "source": [
    "(atom 0 :validator even?)"
   ]
  },
  {
   "cell_type": "code",
   "execution_count": 34,
   "id": "floating-jewelry",
   "metadata": {},
   "outputs": [
    {
     "data": {
      "text/plain": [
       "3"
      ]
     },
     "execution_count": 34,
     "metadata": {},
     "output_type": "execute_result"
    }
   ],
   "source": [
    "(+ 1 2)"
   ]
  },
  {
   "cell_type": "code",
   "execution_count": null,
   "id": "flying-certificate",
   "metadata": {},
   "outputs": [],
   "source": []
  }
 ],
 "metadata": {
  "kernelspec": {
   "display_name": "Clojure (clojupyter-0.3.2)",
   "language": "clojure",
   "name": "clojupyter-0.3.2"
  },
  "language_info": {
   "file_extension": ".clj",
   "mimetype": "text/x-clojure",
   "name": "clojure",
   "version": "1.10.1"
  }
 },
 "nbformat": 4,
 "nbformat_minor": 5
}
