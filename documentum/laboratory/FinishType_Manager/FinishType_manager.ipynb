{
 "cells": [
  {
   "cell_type": "code",
   "execution_count": 3,
   "id": "smooth-andrews",
   "metadata": {},
   "outputs": [],
   "source": [
    "# Pandas\n",
    "import pandas as pd"
   ]
  },
  {
   "cell_type": "code",
   "execution_count": 6,
   "id": "declared-miami",
   "metadata": {},
   "outputs": [],
   "source": [
    "fileName = 'bl.xlsx'\n",
    "sheetName ='Building List(Rev.1)'\n",
    "headerRow = 3\n",
    "naValues = '-'"
   ]
  },
  {
   "cell_type": "code",
   "execution_count": 9,
   "id": "equal-alias",
   "metadata": {},
   "outputs": [
    {
     "name": "stderr",
     "output_type": "stream",
     "text": [
      "/opt/conda/lib/python3.8/site-packages/openpyxl/worksheet/_reader.py:312: UserWarning: Data Validation extension is not supported and will be removed\n",
      "  warn(msg)\n"
     ]
    },
    {
     "data": {
      "text/html": [
       "<div>\n",
       "<style scoped>\n",
       "    .dataframe tbody tr th:only-of-type {\n",
       "        vertical-align: middle;\n",
       "    }\n",
       "\n",
       "    .dataframe tbody tr th {\n",
       "        vertical-align: top;\n",
       "    }\n",
       "\n",
       "    .dataframe thead th {\n",
       "        text-align: right;\n",
       "    }\n",
       "</style>\n",
       "<table border=\"1\" class=\"dataframe\">\n",
       "  <thead>\n",
       "    <tr style=\"text-align: right;\">\n",
       "      <th></th>\n",
       "      <th>3</th>\n",
       "      <th>NO.</th>\n",
       "      <th>Plot Plan NO.</th>\n",
       "      <th>Building Name</th>\n",
       "      <th>Structure</th>\n",
       "      <th>Q'ty</th>\n",
       "      <th>Story</th>\n",
       "      <th>Floor</th>\n",
       "      <th>Room NO.</th>\n",
       "      <th>Room Name</th>\n",
       "      <th>...</th>\n",
       "      <th>Dicipline Colour</th>\n",
       "      <th>Dicipline ID</th>\n",
       "      <th>Occupancy</th>\n",
       "      <th>Room KKS ID</th>\n",
       "      <th>Rotate</th>\n",
       "      <th>Adjacent Dicipline</th>\n",
       "      <th>Adjacent Room</th>\n",
       "      <th>Unnamed: 39</th>\n",
       "      <th>Unnamed: 40</th>\n",
       "      <th>Unnamed: 41</th>\n",
       "    </tr>\n",
       "  </thead>\n",
       "  <tbody>\n",
       "    <tr>\n",
       "      <th>0</th>\n",
       "      <td>4.0</td>\n",
       "      <td>1</td>\n",
       "      <td>NaN</td>\n",
       "      <td>Main FF Building</td>\n",
       "      <td>RC</td>\n",
       "      <td>1.0</td>\n",
       "      <td>3.0</td>\n",
       "      <td>NaN</td>\n",
       "      <td>NaN</td>\n",
       "      <td>NaN</td>\n",
       "      <td>...</td>\n",
       "      <td>NaN</td>\n",
       "      <td>NaN</td>\n",
       "      <td>NaN</td>\n",
       "      <td>NaN</td>\n",
       "      <td>NaN</td>\n",
       "      <td>NaN</td>\n",
       "      <td>NaN</td>\n",
       "      <td>NaN</td>\n",
       "      <td>Purple</td>\n",
       "      <td>PI</td>\n",
       "    </tr>\n",
       "    <tr>\n",
       "      <th>1</th>\n",
       "      <td>5.0</td>\n",
       "      <td>NaN</td>\n",
       "      <td>NaN</td>\n",
       "      <td>* 방사능 관리구역 : Z3, Z4</td>\n",
       "      <td>NaN</td>\n",
       "      <td>NaN</td>\n",
       "      <td>NaN</td>\n",
       "      <td>Basement  FL</td>\n",
       "      <td>NaN</td>\n",
       "      <td>NaN</td>\n",
       "      <td>...</td>\n",
       "      <td>NaN</td>\n",
       "      <td>NaN</td>\n",
       "      <td>NaN</td>\n",
       "      <td>NaN</td>\n",
       "      <td>NaN</td>\n",
       "      <td>NaN</td>\n",
       "      <td>NaN</td>\n",
       "      <td>NaN</td>\n",
       "      <td>Lime</td>\n",
       "      <td>EN</td>\n",
       "    </tr>\n",
       "    <tr>\n",
       "      <th>2</th>\n",
       "      <td>17.0</td>\n",
       "      <td>NaN</td>\n",
       "      <td>NaN</td>\n",
       "      <td>NaN</td>\n",
       "      <td>RA-Z3</td>\n",
       "      <td>NaN</td>\n",
       "      <td>NaN</td>\n",
       "      <td>BF</td>\n",
       "      <td>U1001</td>\n",
       "      <td>Liquid Waste Water Treatment Room</td>\n",
       "      <td>...</td>\n",
       "      <td>NaN</td>\n",
       "      <td>NaN</td>\n",
       "      <td>NaN</td>\n",
       "      <td>NaN</td>\n",
       "      <td>NaN</td>\n",
       "      <td>NaN</td>\n",
       "      <td>NaN</td>\n",
       "      <td>NaN</td>\n",
       "      <td>NaN</td>\n",
       "      <td>NaN</td>\n",
       "    </tr>\n",
       "    <tr>\n",
       "      <th>3</th>\n",
       "      <td>15.0</td>\n",
       "      <td>NaN</td>\n",
       "      <td>NaN</td>\n",
       "      <td>NaN</td>\n",
       "      <td>RA-Z1</td>\n",
       "      <td>NaN</td>\n",
       "      <td>NaN</td>\n",
       "      <td>BF</td>\n",
       "      <td>U1002</td>\n",
       "      <td>Cooling Water System Area</td>\n",
       "      <td>...</td>\n",
       "      <td>NaN</td>\n",
       "      <td>NaN</td>\n",
       "      <td>NaN</td>\n",
       "      <td>NaN</td>\n",
       "      <td>NaN</td>\n",
       "      <td>NaN</td>\n",
       "      <td>NaN</td>\n",
       "      <td>NaN</td>\n",
       "      <td>Cyan</td>\n",
       "      <td>AR</td>\n",
       "    </tr>\n",
       "    <tr>\n",
       "      <th>4</th>\n",
       "      <td>16.0</td>\n",
       "      <td>NaN</td>\n",
       "      <td>NaN</td>\n",
       "      <td>NaN</td>\n",
       "      <td>RA-Z3</td>\n",
       "      <td>NaN</td>\n",
       "      <td>NaN</td>\n",
       "      <td>BF</td>\n",
       "      <td>U1003</td>\n",
       "      <td>FF Waste Collection Tank</td>\n",
       "      <td>...</td>\n",
       "      <td>NaN</td>\n",
       "      <td>NaN</td>\n",
       "      <td>NaN</td>\n",
       "      <td>NaN</td>\n",
       "      <td>NaN</td>\n",
       "      <td>NaN</td>\n",
       "      <td>NaN</td>\n",
       "      <td>NaN</td>\n",
       "      <td>NaN</td>\n",
       "      <td>NaN</td>\n",
       "    </tr>\n",
       "    <tr>\n",
       "      <th>...</th>\n",
       "      <td>...</td>\n",
       "      <td>...</td>\n",
       "      <td>...</td>\n",
       "      <td>...</td>\n",
       "      <td>...</td>\n",
       "      <td>...</td>\n",
       "      <td>...</td>\n",
       "      <td>...</td>\n",
       "      <td>...</td>\n",
       "      <td>...</td>\n",
       "      <td>...</td>\n",
       "      <td>...</td>\n",
       "      <td>...</td>\n",
       "      <td>...</td>\n",
       "      <td>...</td>\n",
       "      <td>...</td>\n",
       "      <td>...</td>\n",
       "      <td>...</td>\n",
       "      <td>...</td>\n",
       "      <td>...</td>\n",
       "      <td>...</td>\n",
       "    </tr>\n",
       "    <tr>\n",
       "      <th>322</th>\n",
       "      <td>306.0</td>\n",
       "      <td>NaN</td>\n",
       "      <td>NaN</td>\n",
       "      <td>NaN</td>\n",
       "      <td>NaN</td>\n",
       "      <td>NaN</td>\n",
       "      <td>NaN</td>\n",
       "      <td>NaN</td>\n",
       "      <td>NaN</td>\n",
       "      <td>Car Parking (Large Vehicle 4 Nos.)</td>\n",
       "      <td>...</td>\n",
       "      <td>NaN</td>\n",
       "      <td>NaN</td>\n",
       "      <td>NaN</td>\n",
       "      <td>NaN</td>\n",
       "      <td>NaN</td>\n",
       "      <td>NaN</td>\n",
       "      <td>NaN</td>\n",
       "      <td>NaN</td>\n",
       "      <td>NaN</td>\n",
       "      <td>NaN</td>\n",
       "    </tr>\n",
       "    <tr>\n",
       "      <th>323</th>\n",
       "      <td>307.0</td>\n",
       "      <td>NaN</td>\n",
       "      <td>NaN</td>\n",
       "      <td>NaN</td>\n",
       "      <td>NaN</td>\n",
       "      <td>NaN</td>\n",
       "      <td>NaN</td>\n",
       "      <td>NaN</td>\n",
       "      <td>NaN</td>\n",
       "      <td>NaN</td>\n",
       "      <td>...</td>\n",
       "      <td>NaN</td>\n",
       "      <td>NaN</td>\n",
       "      <td>NaN</td>\n",
       "      <td>NaN</td>\n",
       "      <td>NaN</td>\n",
       "      <td>NaN</td>\n",
       "      <td>NaN</td>\n",
       "      <td>NaN</td>\n",
       "      <td>NaN</td>\n",
       "      <td>NaN</td>\n",
       "    </tr>\n",
       "    <tr>\n",
       "      <th>324</th>\n",
       "      <td>308.0</td>\n",
       "      <td>NaN</td>\n",
       "      <td>NaN</td>\n",
       "      <td>NaN</td>\n",
       "      <td>NaN</td>\n",
       "      <td>NaN</td>\n",
       "      <td>NaN</td>\n",
       "      <td>NaN</td>\n",
       "      <td>NaN</td>\n",
       "      <td>NaN</td>\n",
       "      <td>...</td>\n",
       "      <td>NaN</td>\n",
       "      <td>NaN</td>\n",
       "      <td>NaN</td>\n",
       "      <td>NaN</td>\n",
       "      <td>NaN</td>\n",
       "      <td>NaN</td>\n",
       "      <td>NaN</td>\n",
       "      <td>NaN</td>\n",
       "      <td>NaN</td>\n",
       "      <td>NaN</td>\n",
       "    </tr>\n",
       "    <tr>\n",
       "      <th>325</th>\n",
       "      <td>309.0</td>\n",
       "      <td>NaN</td>\n",
       "      <td>NaN</td>\n",
       "      <td>NaN</td>\n",
       "      <td>NaN</td>\n",
       "      <td>NaN</td>\n",
       "      <td>NaN</td>\n",
       "      <td>NaN</td>\n",
       "      <td>NaN</td>\n",
       "      <td>NaN</td>\n",
       "      <td>...</td>\n",
       "      <td>NaN</td>\n",
       "      <td>NaN</td>\n",
       "      <td>NaN</td>\n",
       "      <td>NaN</td>\n",
       "      <td>NaN</td>\n",
       "      <td>NaN</td>\n",
       "      <td>NaN</td>\n",
       "      <td>NaN</td>\n",
       "      <td>NaN</td>\n",
       "      <td>NaN</td>\n",
       "    </tr>\n",
       "    <tr>\n",
       "      <th>326</th>\n",
       "      <td>310.0</td>\n",
       "      <td>NaN</td>\n",
       "      <td>NaN</td>\n",
       "      <td>NaN</td>\n",
       "      <td>NaN</td>\n",
       "      <td>NaN</td>\n",
       "      <td>NaN</td>\n",
       "      <td>NaN</td>\n",
       "      <td>NaN</td>\n",
       "      <td>NaN</td>\n",
       "      <td>...</td>\n",
       "      <td>NaN</td>\n",
       "      <td>NaN</td>\n",
       "      <td>NaN</td>\n",
       "      <td>NaN</td>\n",
       "      <td>NaN</td>\n",
       "      <td>NaN</td>\n",
       "      <td>NaN</td>\n",
       "      <td>NaN</td>\n",
       "      <td>NaN</td>\n",
       "      <td>NaN</td>\n",
       "    </tr>\n",
       "  </tbody>\n",
       "</table>\n",
       "<p>327 rows × 42 columns</p>\n",
       "</div>"
      ],
      "text/plain": [
       "         3  NO.  Plot Plan NO.        Building Name Structure  Q'ty  Story  \\\n",
       "0      4.0    1            NaN     Main FF Building        RC   1.0    3.0   \n",
       "1      5.0  NaN            NaN  * 방사능 관리구역 : Z3, Z4       NaN   NaN    NaN   \n",
       "2     17.0  NaN            NaN                  NaN     RA-Z3   NaN    NaN   \n",
       "3     15.0  NaN            NaN                  NaN     RA-Z1   NaN    NaN   \n",
       "4     16.0  NaN            NaN                  NaN     RA-Z3   NaN    NaN   \n",
       "..     ...  ...            ...                  ...       ...   ...    ...   \n",
       "322  306.0  NaN            NaN                  NaN       NaN   NaN    NaN   \n",
       "323  307.0  NaN            NaN                  NaN       NaN   NaN    NaN   \n",
       "324  308.0  NaN            NaN                  NaN       NaN   NaN    NaN   \n",
       "325  309.0  NaN            NaN                  NaN       NaN   NaN    NaN   \n",
       "326  310.0  NaN            NaN                  NaN       NaN   NaN    NaN   \n",
       "\n",
       "            Floor Room NO.                           Room Name  ...  \\\n",
       "0             NaN      NaN                                 NaN  ...   \n",
       "1    Basement  FL      NaN                                 NaN  ...   \n",
       "2              BF    U1001   Liquid Waste Water Treatment Room  ...   \n",
       "3              BF    U1002           Cooling Water System Area  ...   \n",
       "4              BF    U1003            FF Waste Collection Tank  ...   \n",
       "..            ...      ...                                 ...  ...   \n",
       "322           NaN      NaN  Car Parking (Large Vehicle 4 Nos.)  ...   \n",
       "323           NaN      NaN                                 NaN  ...   \n",
       "324           NaN      NaN                                 NaN  ...   \n",
       "325           NaN      NaN                                 NaN  ...   \n",
       "326           NaN      NaN                                 NaN  ...   \n",
       "\n",
       "     Dicipline Colour  Dicipline ID  Occupancy  Room KKS ID  Rotate  \\\n",
       "0                 NaN           NaN        NaN          NaN     NaN   \n",
       "1                 NaN           NaN        NaN          NaN     NaN   \n",
       "2                 NaN           NaN        NaN          NaN     NaN   \n",
       "3                 NaN           NaN        NaN          NaN     NaN   \n",
       "4                 NaN           NaN        NaN          NaN     NaN   \n",
       "..                ...           ...        ...          ...     ...   \n",
       "322               NaN           NaN        NaN          NaN     NaN   \n",
       "323               NaN           NaN        NaN          NaN     NaN   \n",
       "324               NaN           NaN        NaN          NaN     NaN   \n",
       "325               NaN           NaN        NaN          NaN     NaN   \n",
       "326               NaN           NaN        NaN          NaN     NaN   \n",
       "\n",
       "     Adjacent Dicipline  Adjacent Room Unnamed: 39 Unnamed: 40 Unnamed: 41  \n",
       "0                   NaN            NaN         NaN      Purple          PI  \n",
       "1                   NaN            NaN         NaN        Lime          EN  \n",
       "2                   NaN            NaN         NaN         NaN         NaN  \n",
       "3                   NaN            NaN         NaN        Cyan          AR  \n",
       "4                   NaN            NaN         NaN         NaN         NaN  \n",
       "..                  ...            ...         ...         ...         ...  \n",
       "322                 NaN            NaN         NaN         NaN         NaN  \n",
       "323                 NaN            NaN         NaN         NaN         NaN  \n",
       "324                 NaN            NaN         NaN         NaN         NaN  \n",
       "325                 NaN            NaN         NaN         NaN         NaN  \n",
       "326                 NaN            NaN         NaN         NaN         NaN  \n",
       "\n",
       "[327 rows x 42 columns]"
      ]
     },
     "execution_count": 9,
     "metadata": {},
     "output_type": "execute_result"
    }
   ],
   "source": [
    "df = pd.read_excel(fileName, sheet_name = sheetName, header= headerRow, na_values= naValues)\n",
    "df"
   ]
  },
  {
   "cell_type": "code",
   "execution_count": 10,
   "id": "together-license",
   "metadata": {
    "scrolled": true
   },
   "outputs": [
    {
     "data": {
      "text/plain": [
       "0                                      NaN\n",
       "1                                      NaN\n",
       "2      Epoxy Paint  Nuclear on FF Concrete\n",
       "3      Epoxy Paint on Steel Trowel Finish \n",
       "4      Epoxy Paint  Nuclear on FF Concrete\n",
       "                      ...                 \n",
       "322                                    NaN\n",
       "323                                    NaN\n",
       "324                                    NaN\n",
       "325                                    NaN\n",
       "326                                    NaN\n",
       "Name: Int. Floor-1, Length: 327, dtype: object"
      ]
     },
     "execution_count": 10,
     "metadata": {},
     "output_type": "execute_result"
    }
   ],
   "source": [
    "df[\"Int. Floor-1\"]"
   ]
  },
  {
   "cell_type": "markdown",
   "id": "stupid-shell",
   "metadata": {},
   "source": [
    "## 엑셀 연계 작업대"
   ]
  },
  {
   "cell_type": "code",
   "execution_count": 342,
   "id": "considerable-burlington",
   "metadata": {},
   "outputs": [
    {
     "data": {
      "text/plain": [
       "'\\nFire Truck Bay\\nTool Room\\nAmbulance Bay\\nElectrical Room\\nFM200 Cylinder Room\\n\\n'"
      ]
     },
     "execution_count": 342,
     "metadata": {},
     "output_type": "execute_result"
    }
   ],
   "source": [
    "### 항목 복사 후 붙여넣기\n",
    "\n",
    "input = \"\"\"\n",
    "Engine Driven Fire Water Pump Room\n",
    "Motor Driven Fire Water Pump Room\n",
    "\n",
    "\"\"\"\n",
    "aa"
   ]
  },
  {
   "cell_type": "code",
   "execution_count": 343,
   "id": "fancy-ethiopia",
   "metadata": {},
   "outputs": [
    {
     "data": {
      "text/plain": [
       "['Engine Driven Fire Water Pump Room', 'Motor Driven Fire Water Pump Room']"
      ]
     },
     "execution_count": 343,
     "metadata": {},
     "output_type": "execute_result"
    }
   ],
   "source": [
    "tmp1 = input.split(\"\\n\")\n",
    "tmp2 = tmp1[1:len(tmp1)-2]\n",
    "tmp3 = sorted(set(tmp2))\n",
    "tmp3\n"
   ]
  },
  {
   "cell_type": "code",
   "execution_count": 344,
   "id": "confirmed-freeze",
   "metadata": {
    "scrolled": true
   },
   "outputs": [
    {
     "data": {
      "text/plain": [
       "'Engine Driven Fire Water Pump Room / Motor Driven Fire Water Pump Room'"
      ]
     },
     "execution_count": 344,
     "metadata": {},
     "output_type": "execute_result"
    }
   ],
   "source": [
    "result = \" / \".join(tmp3)\n",
    "result"
   ]
  },
  {
   "cell_type": "code",
   "execution_count": null,
   "id": "coral-cameroon",
   "metadata": {},
   "outputs": [],
   "source": []
  },
  {
   "cell_type": "markdown",
   "id": "southeast-retention",
   "metadata": {},
   "source": [
    "## 순서교정"
   ]
  },
  {
   "cell_type": "code",
   "execution_count": 290,
   "id": "twenty-wheat",
   "metadata": {},
   "outputs": [],
   "source": [
    "input = \"\"\"\n",
    "Liquid Waste Water Treatment Room / FF Waste Collection Tank / Corridor / Stair #4\n",
    "\"\"\""
   ]
  },
  {
   "cell_type": "code",
   "execution_count": 291,
   "id": "identified-qualification",
   "metadata": {},
   "outputs": [
    {
     "data": {
      "text/plain": [
       "'\\nLiquid Waste Water Treatment Room / FF Waste Collection Tank / Corridor / Stair #4\\n'"
      ]
     },
     "execution_count": 291,
     "metadata": {},
     "output_type": "execute_result"
    }
   ],
   "source": [
    "input"
   ]
  },
  {
   "cell_type": "code",
   "execution_count": 292,
   "id": "amino-chart",
   "metadata": {},
   "outputs": [],
   "source": [
    "tmp1 = input.split(\"\\n\")\n",
    "tmp2 = tmp1[1:len(tmp1)-1][0]\n",
    "tmp3 = tmp2.split(\" / \")"
   ]
  },
  {
   "cell_type": "code",
   "execution_count": 293,
   "id": "fitting-rugby",
   "metadata": {},
   "outputs": [
    {
     "data": {
      "text/plain": [
       "'Corridor / FF Waste Collection Tank / Liquid Waste Water Treatment Room / Stair #4'"
      ]
     },
     "execution_count": 293,
     "metadata": {},
     "output_type": "execute_result"
    }
   ],
   "source": [
    "tmp4 = sorted(tmp3)\n",
    "result = \" / \".join(tmp4)\n",
    "result"
   ]
  },
  {
   "cell_type": "code",
   "execution_count": null,
   "id": "inside-example",
   "metadata": {},
   "outputs": [],
   "source": []
  }
 ],
 "metadata": {
  "kernelspec": {
   "display_name": "Python 3",
   "language": "python",
   "name": "python3"
  },
  "language_info": {
   "codemirror_mode": {
    "name": "ipython",
    "version": 3
   },
   "file_extension": ".py",
   "mimetype": "text/x-python",
   "name": "python",
   "nbconvert_exporter": "python",
   "pygments_lexer": "ipython3",
   "version": "3.8.8"
  },
  "toc": {
   "base_numbering": 1,
   "nav_menu": {},
   "number_sections": false,
   "sideBar": true,
   "skip_h1_title": false,
   "title_cell": "Table of Contents",
   "title_sidebar": "Contents",
   "toc_cell": false,
   "toc_position": {},
   "toc_section_display": true,
   "toc_window_display": false
  }
 },
 "nbformat": 4,
 "nbformat_minor": 5
}
