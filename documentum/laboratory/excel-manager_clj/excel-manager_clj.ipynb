{
 "cells": [
  {
   "cell_type": "code",
   "execution_count": 24,
   "id": "humanitarian-acrobat",
   "metadata": {
    "scrolled": false
   },
   "outputs": [
    {
     "data": {
      "text/plain": [
       "nil"
      ]
     },
     "execution_count": 24,
     "metadata": {},
     "output_type": "execute_result"
    }
   ],
   "source": [
    "(ns excel-manager_clj.core\n",
    "  (:gen-class)\n",
    "  (:require [clojure.java.io :as io])\n",
    "  (:require [clojure.string :as str])\n",
    ";;   (:require [clojure.java.System])\n",
    "  (:require [clojupyter.misc.helper :as helper]))\n",
    "(helper/add-dependencies '[dk.ative/docjure \"1.14.0\"])\n",
    "\n",
    "(use 'dk.ative.docjure.spreadsheet)"
   ]
  },
  {
   "cell_type": "code",
   "execution_count": 5,
   "id": "egyptian-deployment",
   "metadata": {},
   "outputs": [
    {
     "name": "stderr",
     "output_type": "stream",
     "text": [
      "Syntax error (IllegalArgumentException) compiling . at (REPL:1:7).\n",
      "Malformed member expression, expecting (. target member ...)\n"
     ]
    },
    {
     "ename": "class clojure.lang.Compiler$CompilerException",
     "evalue": "",
     "output_type": "error",
     "traceback": [
      "   core.clj:  3214 clojure.core$eval/invokeStatic",
      "   core.clj:  3210 clojure.core$eval/invoke",
      "   main.clj:   437 clojure.main$repl$read_eval_print__9086$fn__9089/invoke",
      "   main.clj:   458 clojure.main$repl$fn__9095/invoke",
      "   main.clj:   368 clojure.main$repl/doInvoke",
      "RestFn.java:  1523 clojure.lang.RestFn/invoke",
      "   AFn.java:    22 clojure.lang.AFn/run",
      "   AFn.java:    22 clojure.lang.AFn/run",
      "Thread.java:   748 java.lang.Thread/run"
     ]
    }
   ],
   "source": [
    "(type (. spreadsheet))"
   ]
  },
  {
   "cell_type": "code",
   "execution_count": 6,
   "id": "amino-october",
   "metadata": {},
   "outputs": [
    {
     "data": {
      "text/plain": [
       "\"/home/jovyan/notebooks/documentum/laboratory/excel-manager_clj\""
      ]
     },
     "execution_count": 6,
     "metadata": {},
     "output_type": "execute_result"
    }
   ],
   "source": [
    "(System/getProperty \"user.dir\") "
   ]
  },
  {
   "cell_type": "code",
   "execution_count": 8,
   "id": "oriental-steel",
   "metadata": {
    "scrolled": true
   },
   "outputs": [
    {
     "data": {
      "text/plain": [
       "\"/home/jovyan/notebooks/documentum/laboratory/excel-manager_clj/building_list.xlsx\""
      ]
     },
     "execution_count": 8,
     "metadata": {},
     "output_type": "execute_result"
    }
   ],
   "source": [
    "(def res \n",
    "    (-> \n",
    "        (java.io.File. \"building_list.xlsx\")\n",
    "        .getAbsolutePath))\n",
    "res"
   ]
  },
  {
   "cell_type": "code",
   "execution_count": 9,
   "id": "black-buddy",
   "metadata": {
    "scrolled": true
   },
   "outputs": [
    {
     "data": {
      "text/plain": [
       "\"/home/jovyan/notebooks/documentum/laboratory/excel-manager_clj/building_list.xlsx\""
      ]
     },
     "execution_count": 9,
     "metadata": {},
     "output_type": "execute_result"
    }
   ],
   "source": [
    "(def aa (str (System/getProperty \"user.dir\") \"/building_list.xlsx\"))\n",
    "aa"
   ]
  },
  {
   "cell_type": "code",
   "execution_count": 10,
   "id": "careful-november",
   "metadata": {},
   "outputs": [
    {
     "name": "stderr",
     "output_type": "stream",
     "text": [
      "Execution error (IllegalArgumentException) at nrepl.middleware.interruptible-eval/evaluate (interruptible_eval.clj:79).\n",
      "No implementation of method: :as-file of protocol: #'clojure.java.io/Coercions found for class: clojure.core$rest__5388\n"
     ]
    },
    {
     "name": "stdout",
     "output_type": "stream",
     "text": [
      "#object[clojure.lang.Var$Unbound 0x56826586 Unbound: #'excel-manager_clj.core/rdr]"
     ]
    },
    {
     "ename": "class clojure.lang.Compiler$CompilerException",
     "evalue": "",
     "output_type": "error",
     "traceback": [
      "core_deftype.clj:   583 clojure.core$_cache_protocol_fn/invokeStatic",
      "          io.clj:    35 clojure.java.io$fn__11366$G__11348__11371/invoke",
      "          io.clj:   424 clojure.java.io$file/invokeStatic",
      "          io.clj:   418 clojure.java.io$file/invoke",
      "        AFn.java:   154 clojure.lang.AFn/applyToHelper",
      "     RestFn.java:   132 clojure.lang.RestFn/applyTo",
      "        core.clj:  3214 clojure.core$eval/invokeStatic",
      "        core.clj:  3210 clojure.core$eval/invoke",
      "        main.clj:   437 clojure.main$repl$read_eval_print__9086$fn__9089/invoke",
      "        main.clj:   458 clojure.main$repl$fn__9095/invoke",
      "        main.clj:   368 clojure.main$repl/doInvoke",
      "     RestFn.java:  1523 clojure.lang.RestFn/invoke",
      "        AFn.java:    22 clojure.lang.AFn/run",
      "        AFn.java:    22 clojure.lang.AFn/run",
      "     Thread.java:   748 java.lang.Thread/run"
     ]
    }
   ],
   "source": [
    "(def rdr (io/file rest))\n",
    "\n",
    "(print rdr)"
   ]
  },
  {
   "cell_type": "code",
   "execution_count": 11,
   "id": "deadly-prayer",
   "metadata": {},
   "outputs": [
    {
     "name": "stderr",
     "output_type": "stream",
     "text": [
      "Execution error (IllegalArgumentException) at excel-manager-clj.core/eval6042 (REPL:1).\n",
      "No method in multimethod 'load-workbook' for dispatch value: class clojure.lang.Var$Unbound\n"
     ]
    },
    {
     "ename": "class java.lang.IllegalArgumentException",
     "evalue": "",
     "output_type": "error",
     "traceback": [
      "MultiFn.java:   156 clojure.lang.MultiFn/getFn",
      "MultiFn.java:   229 clojure.lang.MultiFn/invoke",
      "    core.clj:  3214 clojure.core$eval/invokeStatic",
      "    core.clj:  3210 clojure.core$eval/invoke",
      "    main.clj:   437 clojure.main$repl$read_eval_print__9086$fn__9089/invoke",
      "    main.clj:   458 clojure.main$repl$fn__9095/invoke",
      "    main.clj:   368 clojure.main$repl/doInvoke",
      " RestFn.java:  1523 clojure.lang.RestFn/invoke",
      "    AFn.java:    22 clojure.lang.AFn/run",
      "    AFn.java:    22 clojure.lang.AFn/run",
      " Thread.java:   748 java.lang.Thread/run"
     ]
    }
   ],
   "source": [
    "(load-workbook rdr)"
   ]
  },
  {
   "cell_type": "code",
   "execution_count": 12,
   "id": "federal-charm",
   "metadata": {},
   "outputs": [
    {
     "data": {
      "text/plain": [
       "nil"
      ]
     },
     "execution_count": 12,
     "metadata": {},
     "output_type": "execute_result"
    }
   ],
   "source": [
    "(when *compile-files* (println \"Compiling:\" *file*))"
   ]
  },
  {
   "cell_type": "code",
   "execution_count": 14,
   "id": "sexual-provider",
   "metadata": {
    "scrolled": false
   },
   "outputs": [
    {
     "name": "stderr",
     "output_type": "stream",
     "text": [
      "Syntax error reading source at (REPL:2:32).\n",
      "Invalid token: /building_list.xlsx\n"
     ]
    },
    {
     "ename": "class clojure.lang.ExceptionInfo",
     "evalue": "",
     "output_type": "error",
     "traceback": [
      "      Util.java:   221 clojure.lang.Util/runtimeException",
      "LispReader.java:   412 clojure.lang.LispReader/interpretToken",
      "LispReader.java:   305 clojure.lang.LispReader/read",
      "LispReader.java:    41 clojure.lang.LispReader/access$200",
      "LispReader.java:   771 clojure.lang.LispReader$WrappingReader/invoke",
      "LispReader.java:   285 clojure.lang.LispReader/read",
      "LispReader.java:  1398 clojure.lang.LispReader/readDelimitedList",
      "LispReader.java:  1243 clojure.lang.LispReader$ListReader/invoke",
      "LispReader.java:   285 clojure.lang.LispReader/read",
      "LispReader.java:  1398 clojure.lang.LispReader/readDelimitedList",
      "LispReader.java:  1243 clojure.lang.LispReader$ListReader/invoke",
      "LispReader.java:   285 clojure.lang.LispReader/read",
      "       core.clj:  3768 clojure.core$read/invokeStatic",
      "       core.clj:  3741 clojure.core$read/invoke",
      "       main.clj:   433 clojure.main$repl$read_eval_print__9086$fn__9087/invoke",
      "       main.clj:   432 clojure.main$repl$read_eval_print__9086/invoke",
      "       main.clj:   458 clojure.main$repl$fn__9095/invoke",
      "       main.clj:   368 clojure.main$repl/doInvoke",
      "    RestFn.java:  1523 clojure.lang.RestFn/invoke",
      "       AFn.java:    22 clojure.lang.AFn/run",
      "       AFn.java:    22 clojure.lang.AFn/run",
      "    Thread.java:   748 java.lang.Thread/run"
     ]
    }
   ],
   "source": [
    "(binding [*compile-path* \".\"]\n",
    "  (compile '/building_list.xlsx))"
   ]
  },
  {
   "cell_type": "code",
   "execution_count": 8,
   "id": "falling-punch",
   "metadata": {},
   "outputs": [
    {
     "name": "stdout",
     "output_type": "stream",
     "text": [
      "hello, world!\n",
      "hello again!\n"
     ]
    },
    {
     "data": {
      "text/plain": [
       "nil"
      ]
     },
     "execution_count": 8,
     "metadata": {},
     "output_type": "execute_result"
    }
   ],
   "source": [
    "(let [wrtr (io/writer \"test.txt\")]\n",
    "  (.write wrtr \"hello, world!\\n\")\n",
    "  (.close wrtr))\n",
    "\n",
    "(let [wrtr (io/writer \"test.txt\" :append true)]\n",
    "  (.write wrtr \"hello again!\")\n",
    "  (.close wrtr))\n",
    "\n",
    "(let [rdr (io/reader \"test.txt\")]\n",
    "  (println (.readLine rdr))\n",
    "  (println (.readLine rdr)))"
   ]
  },
  {
   "cell_type": "code",
   "execution_count": 20,
   "id": "floating-pension",
   "metadata": {},
   "outputs": [
    {
     "name": "stderr",
     "output_type": "stream",
     "text": [
      "Execution error (IllegalArgumentException) at excel-manager-clj.core/eval6080 (REPL:10).\n",
      "No matching field found: readLine for class java.io.File\n"
     ]
    },
    {
     "ename": "class java.lang.IllegalArgumentException",
     "evalue": "",
     "output_type": "error",
     "traceback": [
      "Reflector.java:   397 clojure.lang.Reflector/getInstanceField",
      "Reflector.java:   440 clojure.lang.Reflector/invokeNoArgInstanceMember",
      "      core.clj:  3214 clojure.core$eval/invokeStatic",
      "      core.clj:  3210 clojure.core$eval/invoke",
      "      main.clj:   437 clojure.main$repl$read_eval_print__9086$fn__9089/invoke",
      "      main.clj:   458 clojure.main$repl$fn__9095/invoke",
      "      main.clj:   368 clojure.main$repl/doInvoke",
      "   RestFn.java:  1523 clojure.lang.RestFn/invoke",
      "      AFn.java:    22 clojure.lang.AFn/run",
      "      AFn.java:    22 clojure.lang.AFn/run",
      "   Thread.java:   748 java.lang.Thread/run"
     ]
    }
   ],
   "source": [
    "(let [wrtr (io/writer \"test.txt\")]\n",
    "  (.write wrtr \"hello, world!\\n\")\n",
    "  (.close wrtr))\n",
    "\n",
    "(let [wrtr (io/writer \"test.txt\" :append true)]\n",
    "  (.write wrtr \"hello again!\")\n",
    "  (.close wrtr))\n",
    "\n",
    "(let [rdr (io/file \"building_list.xlsx\")]\n",
    "  (println (.readLine rdr))\n",
    "  (println (.readLine rdr)))"
   ]
  },
  {
   "cell_type": "code",
   "execution_count": 22,
   "id": "frequent-section",
   "metadata": {
    "scrolled": true
   },
   "outputs": [
    {
     "name": "stderr",
     "output_type": "stream",
     "text": [
      "Execution error (FileNotFoundException) at java.io.FileInputStream/open0 (FileInputStream.java:-2).\n",
      "/building_list.xlsx (No such file or directory)\n"
     ]
    },
    {
     "ename": "class java.io.FileNotFoundException",
     "evalue": "",
     "output_type": "error",
     "traceback": [
      "FileInputStream.java:    -2 java.io.FileInputStream/open0",
      "FileInputStream.java:   195 java.io.FileInputStream/open",
      "FileInputStream.java:   138 java.io.FileInputStream/<init>",
      "     spreadsheet.clj:    66 dk.ative.docjure.spreadsheet$load_workbook_from_file/invokeStatic",
      "     spreadsheet.clj:    85 dk.ative.docjure.spreadsheet$eval4192$fn__4193/invoke",
      "        MultiFn.java:   229 clojure.lang.MultiFn/invoke",
      "            core.clj:  3214 clojure.core$eval/invokeStatic",
      "            core.clj:  3210 clojure.core$eval/invoke",
      "            main.clj:   437 clojure.main$repl$read_eval_print__9086$fn__9089/invoke",
      "            main.clj:   458 clojure.main$repl$fn__9095/invoke",
      "            main.clj:   368 clojure.main$repl/doInvoke",
      "         RestFn.java:  1523 clojure.lang.RestFn/invoke",
      "            AFn.java:    22 clojure.lang.AFn/run",
      "            AFn.java:    22 clojure.lang.AFn/run",
      "         Thread.java:   748 java.lang.Thread/run"
     ]
    }
   ],
   "source": [
    ";; (println\n",
    "(->> (load-workbook \"/building_list.xlsx\")\n",
    "  (select-sheet \"Building List(Rev.B)\"))\n",
    "      row-seq\n",
    "      (remove nil?)\n",
    "      (map cell-seq)\n",
    "      (map #(map read-cell %))"
   ]
  },
  {
   "cell_type": "code",
   "execution_count": 17,
   "id": "bored-habitat",
   "metadata": {},
   "outputs": [
    {
     "data": {
      "text/plain": [
       "#'excel-manager_clj.core/mkData"
      ]
     },
     "execution_count": 17,
     "metadata": {},
     "output_type": "execute_result"
    }
   ],
   "source": [
    "(def mkData \n",
    "    (assoc {} :key1 \"value\" :key2 \"another value\"))"
   ]
  },
  {
   "cell_type": "code",
   "execution_count": 15,
   "id": "humanitarian-storage",
   "metadata": {},
   "outputs": [
    {
     "data": {
      "text/plain": [
       "[10 2 3]"
      ]
     },
     "execution_count": 15,
     "metadata": {},
     "output_type": "execute_result"
    }
   ],
   "source": [
    "(assoc [1 2 3] 0 10)     ;;=> [10 2 3]"
   ]
  },
  {
   "cell_type": "code",
   "execution_count": 16,
   "id": "arabic-tulsa",
   "metadata": {},
   "outputs": [
    {
     "data": {
      "text/plain": [
       "[1 2 (4 6)]"
      ]
     },
     "execution_count": 16,
     "metadata": {},
     "output_type": "execute_result"
    }
   ],
   "source": [
    "(assoc [1 2 3] 2 '(4 6)) ;;=> [1 2 (4 6)]"
   ]
  },
  {
   "cell_type": "code",
   "execution_count": 18,
   "id": "sufficient-assist",
   "metadata": {},
   "outputs": [
    {
     "data": {
      "text/plain": [
       "{:key1 \"VALUE\", :key2 \"another value\"}"
      ]
     },
     "execution_count": 18,
     "metadata": {},
     "output_type": "execute_result"
    }
   ],
   "source": [
    "(assoc mkData :key1 \"VALUE\")"
   ]
  },
  {
   "cell_type": "code",
   "execution_count": null,
   "id": "oriented-stone",
   "metadata": {},
   "outputs": [],
   "source": []
  }
 ],
 "metadata": {
  "kernelspec": {
   "display_name": "Clojure (clojupyter-0.3.2)",
   "language": "clojure",
   "name": "clojupyter-0.3.2"
  },
  "language_info": {
   "file_extension": ".clj",
   "mimetype": "text/x-clojure",
   "name": "clojure",
   "version": "1.10.1"
  },
  "toc": {
   "base_numbering": 1,
   "nav_menu": {},
   "number_sections": false,
   "sideBar": true,
   "skip_h1_title": false,
   "title_cell": "Table of Contents",
   "title_sidebar": "Contents",
   "toc_cell": false,
   "toc_position": {},
   "toc_section_display": true,
   "toc_window_display": false
  }
 },
 "nbformat": 4,
 "nbformat_minor": 5
}
