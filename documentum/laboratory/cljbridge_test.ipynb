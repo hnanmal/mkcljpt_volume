{
 "cells": [
  {
   "cell_type": "code",
   "execution_count": 1,
   "id": "incoming-kingdom",
   "metadata": {},
   "outputs": [
    {
     "name": "stdout",
     "output_type": "stream",
     "text": [
      "\u001b[33mWARNING: The directory '/home/jovyan/.cache/pip' or its parent directory is not owned or is not writable by the current user. The cache has been disabled. Check the permissions and owner of that directory. If executing pip with sudo, you should use sudo's -H flag.\u001b[0m\u001b[33m\n",
      "\u001b[0mCollecting cljbridge\n",
      "  Downloading cljbridge-0.0.8-py3-none-any.whl (5.7 kB)\n",
      "Collecting python-javabridge\n",
      "  Downloading python-javabridge-4.0.3.tar.gz (1.3 MB)\n",
      "\u001b[2K     \u001b[90m━━━━━━━━━━━━━━━━━━━━━━━━━━━━━━━━━━━━━━━━\u001b[0m \u001b[32m1.3/1.3 MB\u001b[0m \u001b[31m9.7 MB/s\u001b[0m eta \u001b[36m0:00:00\u001b[0ma \u001b[36m0:00:01\u001b[0m\n",
      "\u001b[?25h  Preparing metadata (setup.py) ... \u001b[?25ldone\n",
      "\u001b[?25hRequirement already satisfied: numpy>=1.20.1 in /opt/conda/lib/python3.8/site-packages (from python-javabridge->cljbridge) (1.22.3)\n",
      "Building wheels for collected packages: python-javabridge\n",
      "  Building wheel for python-javabridge (setup.py) ... \u001b[?25ldone\n",
      "\u001b[?25h  Created wheel for python-javabridge: filename=python_javabridge-4.0.3-cp38-cp38-linux_x86_64.whl size=1907180 sha256=148b1f0e48be0ce993dddda72f30dda1f4f1456e363e0226cad1df731719b881\n",
      "  Stored in directory: /tmp/pip-ephem-wheel-cache-27jjsx4e/wheels/ce/f3/d8/389d390e98d568ea1dbcbd36398e73360038c289d29e78c462\n",
      "Successfully built python-javabridge\n",
      "Installing collected packages: python-javabridge, cljbridge\n",
      "Successfully installed cljbridge-0.0.8 python-javabridge-4.0.3\n",
      "\u001b[33mWARNING: Running pip as the 'root' user can result in broken permissions and conflicting behaviour with the system package manager. It is recommended to use a virtual environment instead: https://pip.pypa.io/warnings/venv\u001b[0m\u001b[33m\n",
      "\u001b[0m\u001b[33mWARNING: You are using pip version 22.0.4; however, version 22.3.1 is available.\n",
      "You should consider upgrading via the '/opt/conda/bin/python -m pip install --upgrade pip' command.\u001b[0m\u001b[33m\n",
      "\u001b[0m"
     ]
    }
   ],
   "source": [
    "!pip install cljbridge"
   ]
  },
  {
   "cell_type": "code",
   "execution_count": 2,
   "id": "isolated-providence",
   "metadata": {},
   "outputs": [],
   "source": [
    "from clojurebridge import cljbridge"
   ]
  },
  {
   "cell_type": "code",
   "execution_count": 3,
   "id": "eight-waste",
   "metadata": {},
   "outputs": [],
   "source": [
    "test_var=10"
   ]
  },
  {
   "cell_type": "code",
   "execution_count": 4,
   "id": "thorough-savage",
   "metadata": {},
   "outputs": [
    {
     "ename": "CalledProcessError",
     "evalue": "Command '['clojure', '-Sdeps', '{:deps {io.github.clojure/tools.build {:git/tag \"v0.8.3\" :git/sha \"0d20256\"}}}', '-e', '(require \\'[clojure.tools.build.api :as b]\\'[clojure.string :as str])(let [basis (b/create-basis {:aliases (map keyword [])}) jvm-args (str/join \" \" (:jvm-opts (:resolve-args basis)))] (println jvm-args))']' returned non-zero exit status 1.",
     "output_type": "error",
     "traceback": [
      "\u001b[0;31m\u001b[0m",
      "\u001b[0;31mCalledProcessError\u001b[0mTraceback (most recent call last)",
      "\u001b[0;32m<ipython-input-4-e57278f9d5c9>\u001b[0m in \u001b[0;36m<module>\u001b[0;34m\u001b[0m\n\u001b[0;32m----> 1\u001b[0;31m \u001b[0mcljbridge\u001b[0m\u001b[0;34m.\u001b[0m\u001b[0minit_jvm\u001b[0m\u001b[0;34m(\u001b[0m\u001b[0mstart_repl\u001b[0m\u001b[0;34m=\u001b[0m\u001b[0;32mTrue\u001b[0m\u001b[0;34m)\u001b[0m\u001b[0;34m\u001b[0m\u001b[0;34m\u001b[0m\u001b[0m\n\u001b[0m",
      "\u001b[0;32m/opt/conda/lib/python3.8/site-packages/clojurebridge/cljbridge.py\u001b[0m in \u001b[0;36minit_jvm\u001b[0;34m(aliases, **kw_args)\u001b[0m\n\u001b[1;32m    169\u001b[0m       \u001b[0mbind\u001b[0m\u001b[0;34m=\u001b[0m\u001b[0;31m\\\u001b[0m\u001b[0;34m\"0.0.0.0\\\"\"\u001b[0m\u001b[0;34m\"\"\u001b[0m\u001b[0;34m\u001b[0m\u001b[0;34m\u001b[0m\u001b[0m\n\u001b[1;32m    170\u001b[0m     javabridge.start_vm(run_headless=True,\n\u001b[0;32m--> 171\u001b[0;31m                         \u001b[0margs\u001b[0m\u001b[0;34m=\u001b[0m\u001b[0mget_jvm_args\u001b[0m\u001b[0;34m(\u001b[0m\u001b[0maliases\u001b[0m\u001b[0;34m)\u001b[0m\u001b[0;34m,\u001b[0m\u001b[0;34m\u001b[0m\u001b[0;34m\u001b[0m\u001b[0m\n\u001b[0m\u001b[1;32m    172\u001b[0m                         class_path=repl_classpath(**kw_args))\n\u001b[1;32m    173\u001b[0m     \u001b[0minit_clojure_runtime\u001b[0m\u001b[0;34m(\u001b[0m\u001b[0;34m)\u001b[0m\u001b[0;34m\u001b[0m\u001b[0;34m\u001b[0m\u001b[0m\n",
      "\u001b[0;32m/opt/conda/lib/python3.8/site-packages/clojurebridge/cljbridge.py\u001b[0m in \u001b[0;36mget_jvm_args\u001b[0;34m(aliases)\u001b[0m\n\u001b[1;32m    117\u001b[0m \u001b[0;32mdef\u001b[0m \u001b[0mget_jvm_args\u001b[0m\u001b[0;34m(\u001b[0m\u001b[0maliases\u001b[0m\u001b[0;34m)\u001b[0m\u001b[0;34m:\u001b[0m\u001b[0;34m\u001b[0m\u001b[0;34m\u001b[0m\u001b[0m\n\u001b[1;32m    118\u001b[0m     \u001b[0;34m\"\"\"Call to Clojure at commandline and resolve given aliases to JVM args \"\"\"\u001b[0m\u001b[0;34m\u001b[0m\u001b[0;34m\u001b[0m\u001b[0m\n\u001b[0;32m--> 119\u001b[0;31m     return subprocess.check_output(['clojure',\n\u001b[0m\u001b[1;32m    120\u001b[0m                                     \u001b[0;34m'-Sdeps'\u001b[0m\u001b[0;34m,\u001b[0m \u001b[0;34m'{:deps {io.github.clojure/tools.build {:git/tag \"v0.8.3\" :git/sha \"0d20256\"}}}'\u001b[0m\u001b[0;34m,\u001b[0m\u001b[0;34m\u001b[0m\u001b[0;34m\u001b[0m\u001b[0m\n\u001b[1;32m    121\u001b[0m                                     \u001b[0;34m'-e'\u001b[0m\u001b[0;34m,\u001b[0m\u001b[0;34m\u001b[0m\u001b[0;34m\u001b[0m\u001b[0m\n",
      "\u001b[0;32m/opt/conda/lib/python3.8/subprocess.py\u001b[0m in \u001b[0;36mcheck_output\u001b[0;34m(timeout, *popenargs, **kwargs)\u001b[0m\n\u001b[1;32m    413\u001b[0m         \u001b[0mkwargs\u001b[0m\u001b[0;34m[\u001b[0m\u001b[0;34m'input'\u001b[0m\u001b[0;34m]\u001b[0m \u001b[0;34m=\u001b[0m \u001b[0mempty\u001b[0m\u001b[0;34m\u001b[0m\u001b[0;34m\u001b[0m\u001b[0m\n\u001b[1;32m    414\u001b[0m \u001b[0;34m\u001b[0m\u001b[0m\n\u001b[0;32m--> 415\u001b[0;31m     return run(*popenargs, stdout=PIPE, timeout=timeout, check=True,\n\u001b[0m\u001b[1;32m    416\u001b[0m                **kwargs).stdout\n\u001b[1;32m    417\u001b[0m \u001b[0;34m\u001b[0m\u001b[0m\n",
      "\u001b[0;32m/opt/conda/lib/python3.8/subprocess.py\u001b[0m in \u001b[0;36mrun\u001b[0;34m(input, capture_output, timeout, check, *popenargs, **kwargs)\u001b[0m\n\u001b[1;32m    514\u001b[0m         \u001b[0mretcode\u001b[0m \u001b[0;34m=\u001b[0m \u001b[0mprocess\u001b[0m\u001b[0;34m.\u001b[0m\u001b[0mpoll\u001b[0m\u001b[0;34m(\u001b[0m\u001b[0;34m)\u001b[0m\u001b[0;34m\u001b[0m\u001b[0;34m\u001b[0m\u001b[0m\n\u001b[1;32m    515\u001b[0m         \u001b[0;32mif\u001b[0m \u001b[0mcheck\u001b[0m \u001b[0;32mand\u001b[0m \u001b[0mretcode\u001b[0m\u001b[0;34m:\u001b[0m\u001b[0;34m\u001b[0m\u001b[0;34m\u001b[0m\u001b[0m\n\u001b[0;32m--> 516\u001b[0;31m             raise CalledProcessError(retcode, process.args,\n\u001b[0m\u001b[1;32m    517\u001b[0m                                      output=stdout, stderr=stderr)\n\u001b[1;32m    518\u001b[0m     \u001b[0;32mreturn\u001b[0m \u001b[0mCompletedProcess\u001b[0m\u001b[0;34m(\u001b[0m\u001b[0mprocess\u001b[0m\u001b[0;34m.\u001b[0m\u001b[0margs\u001b[0m\u001b[0;34m,\u001b[0m \u001b[0mretcode\u001b[0m\u001b[0;34m,\u001b[0m \u001b[0mstdout\u001b[0m\u001b[0;34m,\u001b[0m \u001b[0mstderr\u001b[0m\u001b[0;34m)\u001b[0m\u001b[0;34m\u001b[0m\u001b[0;34m\u001b[0m\u001b[0m\n",
      "\u001b[0;31mCalledProcessError\u001b[0m: Command '['clojure', '-Sdeps', '{:deps {io.github.clojure/tools.build {:git/tag \"v0.8.3\" :git/sha \"0d20256\"}}}', '-e', '(require \\'[clojure.tools.build.api :as b]\\'[clojure.string :as str])(let [basis (b/create-basis {:aliases (map keyword [])}) jvm-args (str/join \" \" (:jvm-opts (:resolve-args basis)))] (println jvm-args))']' returned non-zero exit status 1."
     ]
    }
   ],
   "source": [
    "cljbridge.init_jvm(start_repl=True)"
   ]
  },
  {
   "cell_type": "code",
   "execution_count": 5,
   "id": "proved-victorian",
   "metadata": {},
   "outputs": [
    {
     "ename": "SyntaxError",
     "evalue": "invalid syntax (<ipython-input-5-d3dd8b051d79>, line 1)",
     "output_type": "error",
     "traceback": [
      "\u001b[0;36m  File \u001b[0;32m\"<ipython-input-5-d3dd8b051d79>\"\u001b[0;36m, line \u001b[0;32m1\u001b[0m\n\u001b[0;31m    python3 -c 'import cljbridge;cljbridge.load_clojure_file(clj_file=\"my-file.clj\")'\u001b[0m\n\u001b[0m               ^\u001b[0m\n\u001b[0;31mSyntaxError\u001b[0m\u001b[0;31m:\u001b[0m invalid syntax\n"
     ]
    }
   ],
   "source": [
    "python3 -c 'import cljbridge;cljbridge.load_clojure_file(clj_file=\"my-file.clj\")'"
   ]
  },
  {
   "cell_type": "code",
   "execution_count": null,
   "id": "chinese-pavilion",
   "metadata": {},
   "outputs": [],
   "source": []
  }
 ],
 "metadata": {
  "kernelspec": {
   "display_name": "Python 3",
   "language": "python",
   "name": "python3"
  },
  "language_info": {
   "codemirror_mode": {
    "name": "ipython",
    "version": 3
   },
   "file_extension": ".py",
   "mimetype": "text/x-python",
   "name": "python",
   "nbconvert_exporter": "python",
   "pygments_lexer": "ipython3",
   "version": "3.8.8"
  },
  "toc": {
   "base_numbering": 1,
   "nav_menu": {},
   "number_sections": false,
   "sideBar": true,
   "skip_h1_title": false,
   "title_cell": "Table of Contents",
   "title_sidebar": "Contents",
   "toc_cell": false,
   "toc_position": {},
   "toc_section_display": true,
   "toc_window_display": false
  }
 },
 "nbformat": 4,
 "nbformat_minor": 5
}
