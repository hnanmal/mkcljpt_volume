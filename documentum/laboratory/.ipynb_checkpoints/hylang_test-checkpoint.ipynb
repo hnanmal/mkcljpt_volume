{
 "cells": [
  {
   "cell_type": "code",
   "execution_count": 1,
   "id": "initial-natural",
   "metadata": {},
   "outputs": [
    {
     "name": "stdout",
     "output_type": "stream",
     "text": [
      "\u001b[33mWARNING: The directory '/home/jovyan/.cache/pip' or its parent directory is not owned or is not writable by the current user. The cache has been disabled. Check the permissions and owner of that directory. If executing pip with sudo, you should use sudo's -H flag.\u001b[0m\u001b[33m\n",
      "\u001b[0mCollecting hy\n",
      "  Downloading hy-0.25.0.tar.gz (97 kB)\n",
      "\u001b[2K     \u001b[90m━━━━━━━━━━━━━━━━━━━━━━━━━━━━━━━━━━━━━━━━\u001b[0m \u001b[32m97.1/97.1 KB\u001b[0m \u001b[31m10.9 MB/s\u001b[0m eta \u001b[36m0:00:00\u001b[0m\n",
      "\u001b[?25h  Preparing metadata (setup.py) ... \u001b[?25ldone\n",
      "\u001b[?25hCollecting funcparserlib~=1.0\n",
      "  Downloading funcparserlib-1.0.1-py2.py3-none-any.whl (17 kB)\n",
      "Collecting colorama\n",
      "  Downloading colorama-0.4.6-py2.py3-none-any.whl (25 kB)\n",
      "Collecting astor>=0.8\n",
      "  Downloading astor-0.8.1-py2.py3-none-any.whl (27 kB)\n",
      "Building wheels for collected packages: hy\n",
      "  Building wheel for hy (setup.py) ... \u001b[?25ldone\n",
      "\u001b[?25h  Created wheel for hy: filename=hy-0.25.0-py3-none-any.whl size=101016 sha256=8db4da1e09df0eaa9bd739e0a05ad96c43d490efe5593457df44ff82d750d62c\n",
      "  Stored in directory: /tmp/pip-ephem-wheel-cache-4mufv4ty/wheels/60/ea/4f/627622128de39f4d8ffa2541a195564eb19f685acfcda86973\n",
      "Successfully built hy\n",
      "Installing collected packages: funcparserlib, colorama, astor, hy\n",
      "Successfully installed astor-0.8.1 colorama-0.4.6 funcparserlib-1.0.1 hy-0.25.0\n",
      "\u001b[33mWARNING: Running pip as the 'root' user can result in broken permissions and conflicting behaviour with the system package manager. It is recommended to use a virtual environment instead: https://pip.pypa.io/warnings/venv\u001b[0m\u001b[33m\n",
      "\u001b[0m\u001b[33mWARNING: You are using pip version 22.0.4; however, version 22.3.1 is available.\n",
      "You should consider upgrading via the '/opt/conda/bin/python -m pip install --upgrade pip' command.\u001b[0m\u001b[33m\n",
      "\u001b[0m"
     ]
    }
   ],
   "source": [
    "!pip install hy"
   ]
  },
  {
   "cell_type": "code",
   "execution_count": 3,
   "id": "spare-edgar",
   "metadata": {},
   "outputs": [],
   "source": [
    "import hy"
   ]
  },
  {
   "cell_type": "code",
   "execution_count": 6,
   "id": "lightweight-segment",
   "metadata": {
    "scrolled": true
   },
   "outputs": [
    {
     "data": {
      "text/plain": [
       "<module 'hy' from '/opt/conda/lib/python3.8/site-packages/hy/__init__.py'>"
      ]
     },
     "execution_count": 6,
     "metadata": {},
     "output_type": "execute_result"
    }
   ],
   "source": [
    "hy"
   ]
  },
  {
   "cell_type": "code",
   "execution_count": 7,
   "id": "fourth-lawyer",
   "metadata": {},
   "outputs": [
    {
     "ename": "SyntaxError",
     "evalue": "invalid syntax (<ipython-input-7-b293bf2a568d>, line 1)",
     "output_type": "error",
     "traceback": [
      "\u001b[0;36m  File \u001b[0;32m\"<ipython-input-7-b293bf2a568d>\"\u001b[0;36m, line \u001b[0;32m1\u001b[0m\n\u001b[0;31m    (setv a 3)\u001b[0m\n\u001b[0m          ^\u001b[0m\n\u001b[0;31mSyntaxError\u001b[0m\u001b[0;31m:\u001b[0m invalid syntax\n"
     ]
    }
   ],
   "source": [
    "(setv a 3)"
   ]
  },
  {
   "cell_type": "code",
   "execution_count": 5,
   "id": "welsh-extension",
   "metadata": {},
   "outputs": [
    {
     "data": {
      "text/plain": [
       "['__builtins__',\n",
       " '__cached__',\n",
       " '__doc__',\n",
       " '__file__',\n",
       " '__getattr__',\n",
       " '__loader__',\n",
       " '__name__',\n",
       " '__package__',\n",
       " '__path__',\n",
       " '__spec__',\n",
       " '__version__',\n",
       " '_compat',\n",
       " '_initialize_env_var',\n",
       " '_jit_imports',\n",
       " 'compiler',\n",
       " 'core',\n",
       " 'errors',\n",
       " 'hy',\n",
       " 'importer',\n",
       " 'macros',\n",
       " 'model_patterns',\n",
       " 'models',\n",
       " 'reader',\n",
       " 'scoping',\n",
       " 'version']"
      ]
     },
     "execution_count": 5,
     "metadata": {},
     "output_type": "execute_result"
    }
   ],
   "source": [
    "dir(hy)"
   ]
  },
  {
   "cell_type": "code",
   "execution_count": null,
   "id": "funded-pilot",
   "metadata": {},
   "outputs": [],
   "source": []
  }
 ],
 "metadata": {
  "kernelspec": {
   "display_name": "Python 3",
   "language": "python",
   "name": "python3"
  },
  "language_info": {
   "codemirror_mode": {
    "name": "ipython",
    "version": 3
   },
   "file_extension": ".py",
   "mimetype": "text/x-python",
   "name": "python",
   "nbconvert_exporter": "python",
   "pygments_lexer": "ipython3",
   "version": "3.8.8"
  },
  "toc": {
   "base_numbering": 1,
   "nav_menu": {},
   "number_sections": false,
   "sideBar": true,
   "skip_h1_title": false,
   "title_cell": "Table of Contents",
   "title_sidebar": "Contents",
   "toc_cell": false,
   "toc_position": {},
   "toc_section_display": true,
   "toc_window_display": false
  }
 },
 "nbformat": 4,
 "nbformat_minor": 5
}
