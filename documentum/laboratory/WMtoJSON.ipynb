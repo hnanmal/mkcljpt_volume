{
 "cells": [
  {
   "cell_type": "code",
   "execution_count": 1,
   "id": "nonprofit-pasta",
   "metadata": {},
   "outputs": [],
   "source": [
    "# Pandas\n",
    "import pandas as pd"
   ]
  },
  {
   "cell_type": "code",
   "execution_count": 2,
   "id": "funded-direction",
   "metadata": {},
   "outputs": [],
   "source": [
    "fileName = '[FAASA2104]_Work Master@20220211131621_All_qlqh.xlsx'\n",
    "sheetName ='Work Master'\n",
    "headerRow = 2\n",
    "naValues = '-'"
   ]
  },
  {
   "cell_type": "code",
   "execution_count": 2,
   "id": "yellow-graphics",
   "metadata": {},
   "outputs": [
    {
     "ename": "NameError",
     "evalue": "name 'pd' is not defined",
     "output_type": "error",
     "traceback": [
      "\u001b[0;31m\u001b[0m",
      "\u001b[0;31mNameError\u001b[0mTraceback (most recent call last)",
      "\u001b[0;32m<ipython-input-2-e3206a3f878c>\u001b[0m in \u001b[0;36m<module>\u001b[0;34m\u001b[0m\n\u001b[0;32m----> 1\u001b[0;31m \u001b[0mpd\u001b[0m\u001b[0;34m.\u001b[0m\u001b[0mread_excel\u001b[0m\u001b[0;34m(\u001b[0m\u001b[0mfileName\u001b[0m\u001b[0;34m,\u001b[0m \u001b[0msheet_name\u001b[0m \u001b[0;34m=\u001b[0m \u001b[0msheetName\u001b[0m\u001b[0;34m,\u001b[0m \u001b[0mheader\u001b[0m\u001b[0;34m=\u001b[0m \u001b[0mheaderRow\u001b[0m\u001b[0;34m,\u001b[0m \u001b[0mna_values\u001b[0m\u001b[0;34m=\u001b[0m \u001b[0mnaValues\u001b[0m\u001b[0;34m)\u001b[0m\u001b[0;34m\u001b[0m\u001b[0;34m\u001b[0m\u001b[0m\n\u001b[0m",
      "\u001b[0;31mNameError\u001b[0m: name 'pd' is not defined"
     ]
    }
   ],
   "source": [
    "pd.read_excel(fileName, sheet_name = sheetName, header= headerRow, na_values= naValues)"
   ]
  },
  {
   "cell_type": "code",
   "execution_count": 4,
   "id": "retained-apartment",
   "metadata": {},
   "outputs": [],
   "source": [
    "# %%writefile Component.py\n",
    "\n",
    "from dataclasses import dataclass\n",
    "from typing import List\n",
    "\n",
    "@dataclass\n",
    "class Position:\n",
    "    x: float = 0\n",
    "    y: float = 0\n",
    "    z: float = 0\n",
    "\n",
    "    def __add__(self, pos):\n",
    "        return Position(self.x + pos.x, self.y + pos.y, self.z + pos.z)\n",
    "\n",
    "    def __iadd__(self, pos):\n",
    "        self.x += pos.x\n",
    "        self.y += pos.y\n",
    "        self.z += pos.z\n",
    "        return self\n",
    "\n",
    "\n",
    "class Component:\n",
    "    def __init__(self, name: str, pos: Position):\n",
    "        self._name: str = name\n",
    "        self._position: Position = pos\n",
    "\n",
    "    @property\n",
    "    def name(self):\n",
    "        return self._name\n",
    "\n",
    "    @name.setter\n",
    "    def name(self, value: Position):\n",
    "        self._name = value\n",
    "\n",
    "    @property\n",
    "    def position(self):\n",
    "        return self._position\n",
    "\n",
    "    @position.setter\n",
    "    def position(self, value: Position):\n",
    "        self._position = value\n",
    "\n",
    "    def get_composite(self):\n",
    "        raise NotImplementedError\n",
    "\n",
    "    def move(self, delta: Position):\n",
    "        raise NotImplementedError\n",
    "\n",
    "    def scale(self, factor: float):\n",
    "        raise NotImplementedError\n",
    "\n",
    "class Composite(Component):\n",
    "    def __init__(self, name: str, pos: Position):\n",
    "        super().__init__(name, pos)\n",
    "        self._leafs: List[Component] = []\n",
    "\n",
    "    def get_composite(self):\n",
    "        return self\n",
    "\n",
    "    def move(self, delta: Position):\n",
    "        for leaf in self._leafs:\n",
    "            leaf.move(delta)\n",
    "\n",
    "    def scale(self, factor: float):\n",
    "        for leaf in self._leafs:\n",
    "            leaf.scale(factor)\n",
    "\n",
    "    def add_component(self, comp: Component):\n",
    "        self._leafs.append(comp)\n",
    "\n",
    "    def remove_component(self, comp: Component):\n",
    "        self._leafs.remove(comp)\n",
    "\n",
    "    def get_childs(self) -> List[Component]:\n",
    "        return self._leafs\n",
    "\n",
    "class Leaf(Component):\n",
    "    def __init__(self, name: str, pos: Position):\n",
    "        super().__init__(name, pos)\n",
    "\n",
    "    def get_composite(self):\n",
    "        return None\n",
    "\n",
    "    def move(self, delta: Position):\n",
    "        self.position += delta\n",
    "        print(f\"{self.name} move {self.position}\")\n",
    "\n",
    "    def scale(self, factor: float):\n",
    "        print(f\"{self.name} scale : {factor}\")"
   ]
  },
  {
   "cell_type": "code",
   "execution_count": 5,
   "id": "exotic-progress",
   "metadata": {},
   "outputs": [],
   "source": [
    "from Component import *\n",
    "\n",
    "def main():\n",
    "    collection1 = Composite(\"Collection1\", Position(1, 1, 1))\n",
    "    cylinder = Leaf(\"Cylinder\", Position(0, 0, 0))\n",
    "    collection2 = Composite(\"Collection2\", Position(0, 0, 0))\n",
    "    box = Leaf(\"Box\", Position(0, 0, 0))\n",
    "    camera = Leaf(\"Camera\", Position(10, 10, 3))\n",
    "    light = Leaf(\"Light\", Position(15, 10, 13))\n",
    "\n",
    "    collection2.add_component(camera)\n",
    "    collection2.add_component(light)\n",
    "    collection2.add_component(box)\n",
    "    for item in collection2.get_childs():\n",
    "        print(item.name)\n",
    "\n",
    "    collection1.add_component(cylinder)\n",
    "    collection1.add_component(collection2)\n",
    "    for item in collection1.get_childs():\n",
    "        print(item.name)\n",
    "\n",
    "    box.move(Position(2, 2, 2))\n",
    "    collection1.scale(1.3)"
   ]
  },
  {
   "cell_type": "code",
   "execution_count": 6,
   "id": "eight-request",
   "metadata": {},
   "outputs": [
    {
     "name": "stdout",
     "output_type": "stream",
     "text": [
      "Camera\n",
      "Light\n",
      "Box\n",
      "Cylinder\n",
      "Collection2\n",
      "Box move Position(x=2, y=2, z=2)\n",
      "Cylinder scale : 1.3\n",
      "Camera scale : 1.3\n",
      "Light scale : 1.3\n",
      "Box scale : 1.3\n"
     ]
    }
   ],
   "source": [
    "main()"
   ]
  },
  {
   "cell_type": "code",
   "execution_count": null,
   "id": "given-burns",
   "metadata": {},
   "outputs": [],
   "source": []
  }
 ],
 "metadata": {
  "kernelspec": {
   "display_name": "Python 3",
   "language": "python",
   "name": "python3"
  },
  "language_info": {
   "codemirror_mode": {
    "name": "ipython",
    "version": 3
   },
   "file_extension": ".py",
   "mimetype": "text/x-python",
   "name": "python",
   "nbconvert_exporter": "python",
   "pygments_lexer": "ipython3",
   "version": "3.8.8"
  },
  "toc": {
   "base_numbering": 1,
   "nav_menu": {},
   "number_sections": false,
   "sideBar": true,
   "skip_h1_title": false,
   "title_cell": "Table of Contents",
   "title_sidebar": "Contents",
   "toc_cell": false,
   "toc_position": {},
   "toc_section_display": true,
   "toc_window_display": false
  }
 },
 "nbformat": 4,
 "nbformat_minor": 5
}
