{
 "cells": [
  {
   "cell_type": "code",
   "execution_count": 1,
   "id": "sacred-opera",
   "metadata": {},
   "outputs": [
    {
     "name": "stderr",
     "output_type": "stream",
     "text": [
      "Warning: protocol #'user/Concatenatable is overwriting function cat\n",
      "WARNING: cat already refers to: #'clojure.core/cat in namespace: user, being replaced by: #'user/cat\n"
     ]
    },
    {
     "data": {
      "text/plain": [
       "Concatenatable"
      ]
     },
     "execution_count": 1,
     "metadata": {},
     "output_type": "execute_result"
    }
   ],
   "source": [
    "(defprotocol Concatenatable\n",
    "    (cat [this other]))"
   ]
  },
  {
   "cell_type": "code",
   "execution_count": 5,
   "id": "amino-alaska",
   "metadata": {},
   "outputs": [
    {
     "data": {
      "text/plain": [
       "nil"
      ]
     },
     "execution_count": 5,
     "metadata": {},
     "output_type": "execute_result"
    }
   ],
   "source": [
    "(extend-type String\n",
    "    Concatenatable\n",
    "    (cat [this other]\n",
    "         (.concat this other)))"
   ]
  },
  {
   "cell_type": "code",
   "execution_count": 6,
   "id": "charitable-recall",
   "metadata": {},
   "outputs": [
    {
     "data": {
      "text/plain": [
       "\"House of Leaves\""
      ]
     },
     "execution_count": 6,
     "metadata": {},
     "output_type": "execute_result"
    }
   ],
   "source": [
    "(cat \"House\" \" of Leaves\")"
   ]
  },
  {
   "cell_type": "code",
   "execution_count": 7,
   "id": "urban-zimbabwe",
   "metadata": {},
   "outputs": [
    {
     "data": {
      "text/plain": [
       "nil"
      ]
     },
     "execution_count": 7,
     "metadata": {},
     "output_type": "execute_result"
    }
   ],
   "source": [
    "(extend-type java.util.List\n",
    "    Concatenatable\n",
    "    (cat [this other]\n",
    "         (concat this other)))"
   ]
  },
  {
   "cell_type": "code",
   "execution_count": 8,
   "id": "vocal-wallace",
   "metadata": {},
   "outputs": [
    {
     "data": {
      "text/plain": [
       "(1 2 3 4 5 6)"
      ]
     },
     "execution_count": 8,
     "metadata": {},
     "output_type": "execute_result"
    }
   ],
   "source": [
    "(cat [1 2 3] [4 5 6])"
   ]
  },
  {
   "cell_type": "code",
   "execution_count": null,
   "id": "powered-stage",
   "metadata": {},
   "outputs": [],
   "source": []
  }
 ],
 "metadata": {
  "kernelspec": {
   "display_name": "Clojure (clojupyter-0.3.2)",
   "language": "clojure",
   "name": "clojupyter-0.3.2"
  },
  "language_info": {
   "file_extension": ".clj",
   "mimetype": "text/x-clojure",
   "name": "clojure",
   "version": "1.10.1"
  }
 },
 "nbformat": 4,
 "nbformat_minor": 5
}
