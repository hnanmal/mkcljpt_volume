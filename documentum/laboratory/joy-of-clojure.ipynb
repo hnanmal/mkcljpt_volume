{
 "cells": [
  {
   "cell_type": "code",
   "execution_count": 1,
   "id": "sacred-opera",
   "metadata": {},
   "outputs": [
    {
     "data": {
      "text/plain": [
       "nil"
      ]
     },
     "execution_count": 1,
     "metadata": {},
     "output_type": "execute_result"
    }
   ],
   "source": [
    "(ns joy.core\n",
    "  (:gen-class))"
   ]
  },
  {
   "cell_type": "code",
   "execution_count": 2,
   "id": "amino-alaska",
   "metadata": {},
   "outputs": [
    {
     "data": {
      "text/plain": [
       "#'joy.core/initial-board"
      ]
     },
     "execution_count": 2,
     "metadata": {},
     "output_type": "execute_result"
    }
   ],
   "source": [
    "(defn initial-board\n",
    "  []\n",
    "  [\\r \\n \\b \\q \\k \\b \\n \\r\n",
    "   \\p \\p \\p \\p \\p \\p \\p \\p\n",
    "   \\- \\- \\- \\- \\- \\- \\- \\-\n",
    "   \\- \\- \\- \\- \\- \\- \\- \\-\n",
    "   \\- \\- \\- \\- \\- \\- \\- \\-\n",
    "   \\- \\- \\- \\- \\- \\- \\- \\-\n",
    "   \\P \\P \\P \\P \\P \\P \\P \\P\n",
    "   \\R \\N \\B \\Q \\K \\B \\N \\R])"
   ]
  },
  {
   "cell_type": "code",
   "execution_count": 3,
   "id": "composed-development",
   "metadata": {},
   "outputs": [
    {
     "data": {
      "text/plain": [
       "#'joy.core/*file-key*"
      ]
     },
     "execution_count": 3,
     "metadata": {},
     "output_type": "execute_result"
    }
   ],
   "source": [
    "(def ^:dynamic *file-key* \\a)"
   ]
  },
  {
   "cell_type": "code",
   "execution_count": 4,
   "id": "headed-october",
   "metadata": {},
   "outputs": [
    {
     "data": {
      "text/plain": [
       "\\a"
      ]
     },
     "execution_count": 4,
     "metadata": {},
     "output_type": "execute_result"
    }
   ],
   "source": [
    "*file-key*"
   ]
  },
  {
   "cell_type": "code",
   "execution_count": 5,
   "id": "charitable-recall",
   "metadata": {},
   "outputs": [
    {
     "data": {
      "text/plain": [
       "#'joy.core/*rank-key*"
      ]
     },
     "execution_count": 5,
     "metadata": {},
     "output_type": "execute_result"
    }
   ],
   "source": [
    "(def ^:dynamic *rank-key* \\0)"
   ]
  },
  {
   "cell_type": "code",
   "execution_count": 6,
   "id": "pressed-allocation",
   "metadata": {},
   "outputs": [
    {
     "data": {
      "text/plain": [
       "\\0"
      ]
     },
     "execution_count": 6,
     "metadata": {},
     "output_type": "execute_result"
    }
   ],
   "source": [
    "*rank-key*"
   ]
  },
  {
   "cell_type": "code",
   "execution_count": 7,
   "id": "urban-zimbabwe",
   "metadata": {},
   "outputs": [
    {
     "data": {
      "text/plain": [
       "#'joy.core/file-component"
      ]
     },
     "execution_count": 7,
     "metadata": {},
     "output_type": "execute_result"
    }
   ],
   "source": [
    "(defn- file-component [file]\n",
    "  (- (int file) (int *file-key*)))"
   ]
  },
  {
   "cell_type": "code",
   "execution_count": 8,
   "id": "going-somewhere",
   "metadata": {},
   "outputs": [
    {
     "data": {
      "text/plain": [
       "48"
      ]
     },
     "execution_count": 8,
     "metadata": {},
     "output_type": "execute_result"
    }
   ],
   "source": [
    "(int *rank-key*)"
   ]
  },
  {
   "cell_type": "code",
   "execution_count": 9,
   "id": "vocal-wallace",
   "metadata": {},
   "outputs": [
    {
     "data": {
      "text/plain": [
       "#'joy.core/rank-component"
      ]
     },
     "execution_count": 9,
     "metadata": {},
     "output_type": "execute_result"
    }
   ],
   "source": [
    "(defn- rank-component [rank]\n",
    "  (->> (int *rank-key*)\n",
    "       (- (int rank))\n",
    "       (- 8)\n",
    "       (* 8)))"
   ]
  },
  {
   "cell_type": "code",
   "execution_count": null,
   "id": "powered-stage",
   "metadata": {},
   "outputs": [],
   "source": []
  }
 ],
 "metadata": {
  "kernelspec": {
   "display_name": "Clojure (clojupyter-0.3.2)",
   "language": "clojure",
   "name": "clojupyter-0.3.2"
  },
  "language_info": {
   "file_extension": ".clj",
   "mimetype": "text/x-clojure",
   "name": "clojure",
   "version": "1.10.1"
  },
  "toc": {
   "base_numbering": 1,
   "nav_menu": {},
   "number_sections": false,
   "sideBar": true,
   "skip_h1_title": false,
   "title_cell": "Table of Contents",
   "title_sidebar": "Contents",
   "toc_cell": false,
   "toc_position": {},
   "toc_section_display": true,
   "toc_window_display": false
  }
 },
 "nbformat": 4,
 "nbformat_minor": 5
}
