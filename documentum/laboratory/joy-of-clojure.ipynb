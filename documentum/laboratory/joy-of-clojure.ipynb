{
 "cells": [
  {
   "cell_type": "code",
   "execution_count": 1,
   "id": "sacred-opera",
   "metadata": {},
   "outputs": [
    {
     "data": {
      "text/plain": [
       "nil"
      ]
     },
     "execution_count": 1,
     "metadata": {},
     "output_type": "execute_result"
    }
   ],
   "source": [
    "(ns joy.core\n",
    "  (:gen-class))"
   ]
  },
  {
   "cell_type": "code",
   "execution_count": 2,
   "id": "amino-alaska",
   "metadata": {},
   "outputs": [
    {
     "data": {
      "text/plain": [
       "#'joy.core/initial-board"
      ]
     },
     "execution_count": 2,
     "metadata": {},
     "output_type": "execute_result"
    }
   ],
   "source": [
    "(defn initial-board\n",
    "  []\n",
    "  [\\r \\n \\b \\q \\k \\b \\n \\r\n",
    "   \\p \\p \\p \\p \\p \\p \\p \\p\n",
    "   \\- \\- \\- \\- \\- \\- \\- \\-\n",
    "   \\- \\- \\- \\- \\- \\- \\- \\-\n",
    "   \\- \\- \\- \\- \\- \\- \\- \\-\n",
    "   \\- \\- \\- \\- \\- \\- \\- \\-\n",
    "   \\P \\P \\P \\P \\P \\P \\P \\P\n",
    "   \\R \\N \\B \\Q \\K \\B \\N \\R])"
   ]
  },
  {
   "cell_type": "code",
   "execution_count": 3,
   "id": "composed-development",
   "metadata": {},
   "outputs": [
    {
     "data": {
      "text/plain": [
       "#'joy.core/*file-key*"
      ]
     },
     "execution_count": 3,
     "metadata": {},
     "output_type": "execute_result"
    }
   ],
   "source": [
    "(def ^:dynamic *file-key* \\a)"
   ]
  },
  {
   "cell_type": "code",
   "execution_count": 4,
   "id": "headed-october",
   "metadata": {},
   "outputs": [
    {
     "data": {
      "text/plain": [
       "\\a"
      ]
     },
     "execution_count": 4,
     "metadata": {},
     "output_type": "execute_result"
    }
   ],
   "source": [
    "*file-key*"
   ]
  },
  {
   "cell_type": "code",
   "execution_count": 5,
   "id": "charitable-recall",
   "metadata": {},
   "outputs": [
    {
     "data": {
      "text/plain": [
       "#'joy.core/*rank-key*"
      ]
     },
     "execution_count": 5,
     "metadata": {},
     "output_type": "execute_result"
    }
   ],
   "source": [
    "(def ^:dynamic *rank-key* \\0)"
   ]
  },
  {
   "cell_type": "code",
   "execution_count": 6,
   "id": "pressed-allocation",
   "metadata": {},
   "outputs": [
    {
     "data": {
      "text/plain": [
       "\\0"
      ]
     },
     "execution_count": 6,
     "metadata": {},
     "output_type": "execute_result"
    }
   ],
   "source": [
    "*rank-key*"
   ]
  },
  {
   "cell_type": "code",
   "execution_count": 7,
   "id": "urban-zimbabwe",
   "metadata": {},
   "outputs": [
    {
     "data": {
      "text/plain": [
       "#'joy.core/file-component"
      ]
     },
     "execution_count": 7,
     "metadata": {},
     "output_type": "execute_result"
    }
   ],
   "source": [
    "(defn- file-component [file]\n",
    "  (- (int file) (int *file-key*)))"
   ]
  },
  {
   "cell_type": "code",
   "execution_count": 8,
   "id": "going-somewhere",
   "metadata": {},
   "outputs": [
    {
     "data": {
      "text/plain": [
       "48"
      ]
     },
     "execution_count": 8,
     "metadata": {},
     "output_type": "execute_result"
    }
   ],
   "source": [
    "(int *rank-key*)"
   ]
  },
  {
   "cell_type": "code",
   "execution_count": 9,
   "id": "vocal-wallace",
   "metadata": {},
   "outputs": [
    {
     "data": {
      "text/plain": [
       "#'joy.core/rank-component"
      ]
     },
     "execution_count": 9,
     "metadata": {},
     "output_type": "execute_result"
    }
   ],
   "source": [
    "(defn- rank-component [rank]\n",
    "  (->> (int *rank-key*)\n",
    "       (- (int rank))\n",
    "       (- 8)\n",
    "       (* 8)))"
   ]
  },
  {
   "cell_type": "code",
   "execution_count": 10,
   "id": "powered-stage",
   "metadata": {},
   "outputs": [
    {
     "data": {
      "text/plain": [
       "#'joy.core/guys-whole-name"
      ]
     },
     "execution_count": 10,
     "metadata": {},
     "output_type": "execute_result"
    }
   ],
   "source": [
    "(def guys-whole-name [\"Guy\" \"Lewis\" \"Steele\"])"
   ]
  },
  {
   "cell_type": "code",
   "execution_count": 11,
   "id": "compact-language",
   "metadata": {},
   "outputs": [
    {
     "data": {
      "text/plain": [
       "#'joy.core/guys-name-map"
      ]
     },
     "execution_count": 11,
     "metadata": {},
     "output_type": "execute_result"
    }
   ],
   "source": [
    "(def guys-name-map\n",
    "    {:f-name \"Guy\" :m-name \"Lewis\" :l-name \"Steele\"})"
   ]
  },
  {
   "cell_type": "code",
   "execution_count": 12,
   "id": "familiar-calculator",
   "metadata": {},
   "outputs": [
    {
     "data": {
      "text/plain": [
       "nil"
      ]
     },
     "execution_count": 12,
     "metadata": {},
     "output_type": "execute_result"
    }
   ],
   "source": [
    "(:keys guys-name-map)"
   ]
  },
  {
   "cell_type": "code",
   "execution_count": 13,
   "id": "otherwise-surgeon",
   "metadata": {
    "scrolled": true
   },
   "outputs": [
    {
     "data": {
      "text/plain": [
       "\"Steele, Guy Lewis\""
      ]
     },
     "execution_count": 13,
     "metadata": {},
     "output_type": "execute_result"
    }
   ],
   "source": [
    "(let [{:keys [f-name m-name l-name]} guys-name-map]\n",
    "    (str l-name \", \" f-name \" \" m-name))"
   ]
  },
  {
   "cell_type": "code",
   "execution_count": 14,
   "id": "extra-universe",
   "metadata": {},
   "outputs": [
    {
     "name": "stdout",
     "output_type": "stream",
     "text": [
      "First name is Guy\n",
      "Whole name is below:\n"
     ]
    },
    {
     "data": {
      "text/plain": [
       "{:f-name \"Guy\", :m-name \"Lewis\", :l-name \"Steele\"}"
      ]
     },
     "execution_count": 14,
     "metadata": {},
     "output_type": "execute_result"
    }
   ],
   "source": [
    "(let [{f-name :f-name, :as whole-name} guys-name-map]\n",
    "    (println \"First name is\" f-name)\n",
    "    (println \"Whole name is below:\")\n",
    "    whole-name)"
   ]
  },
  {
   "cell_type": "code",
   "execution_count": 15,
   "id": "international-vegetable",
   "metadata": {},
   "outputs": [
    {
     "name": "stdout",
     "output_type": "stream",
     "text": [
      "Whole name is below:\n"
     ]
    },
    {
     "data": {
      "text/plain": [
       "{:f-name \"Guy\", :m-name \"Lewis\", :l-name \"Steele\"}"
      ]
     },
     "execution_count": 15,
     "metadata": {},
     "output_type": "execute_result"
    }
   ],
   "source": [
    "(let [{:as whole-name} guys-name-map]\n",
    ";;     (println \"First name is\" f-name)\n",
    "    (println \"Whole name is below:\")\n",
    "    whole-name)"
   ]
  },
  {
   "cell_type": "code",
   "execution_count": 16,
   "id": "handy-sandwich",
   "metadata": {},
   "outputs": [
    {
     "name": "stdout",
     "output_type": "stream",
     "text": [
      "Mr. Guy Lewis Steele\n"
     ]
    },
    {
     "data": {
      "text/plain": [
       "nil"
      ]
     },
     "execution_count": 16,
     "metadata": {},
     "output_type": "execute_result"
    }
   ],
   "source": [
    "(let [{:keys [title f-name m-name l-name],\n",
    "       :or {title \"Mr.\"}} guys-name-map]\n",
    "    (println title f-name m-name l-name))"
   ]
  },
  {
   "cell_type": "code",
   "execution_count": 17,
   "id": "surgical-magazine",
   "metadata": {
    "scrolled": true
   },
   "outputs": [
    {
     "data": {
      "text/plain": [
       "[1 4]"
      ]
     },
     "execution_count": 17,
     "metadata": {},
     "output_type": "execute_result"
    }
   ],
   "source": [
    "(let [{first-thing 0, last-thing 3} [1,2,3 4]]\n",
    "    [first-thing last-thing] )\n"
   ]
  },
  {
   "cell_type": "code",
   "execution_count": 18,
   "id": "neural-blocking",
   "metadata": {},
   "outputs": [
    {
     "data": {
      "text/plain": [
       "[1 4]"
      ]
     },
     "execution_count": 18,
     "metadata": {},
     "output_type": "execute_result"
    }
   ],
   "source": [
    "(let [{a 0, b 3} [1,2,3 4]]\n",
    "    [a b] )"
   ]
  },
  {
   "cell_type": "code",
   "execution_count": 19,
   "id": "upper-capture",
   "metadata": {},
   "outputs": [
    {
     "data": {
      "text/plain": [
       "1"
      ]
     },
     "execution_count": 19,
     "metadata": {},
     "output_type": "execute_result"
    }
   ],
   "source": [
    "(nth [1 2 3] 0)"
   ]
  },
  {
   "cell_type": "code",
   "execution_count": 20,
   "id": "assigned-amsterdam",
   "metadata": {},
   "outputs": [
    {
     "data": {
      "text/plain": [
       "#'joy.core/print-last-name"
      ]
     },
     "execution_count": 20,
     "metadata": {},
     "output_type": "execute_result"
    }
   ],
   "source": [
    "(defn print-last-name [{:keys [l-name m-name]}]\n",
    "    (println (str l-name \" \" m-name)))"
   ]
  },
  {
   "cell_type": "code",
   "execution_count": 21,
   "id": "latest-stage",
   "metadata": {},
   "outputs": [
    {
     "name": "stdout",
     "output_type": "stream",
     "text": [
      "Steele Lewis\n"
     ]
    },
    {
     "data": {
      "text/plain": [
       "nil"
      ]
     },
     "execution_count": 21,
     "metadata": {},
     "output_type": "execute_result"
    }
   ],
   "source": [
    "(print-last-name guys-name-map)"
   ]
  },
  {
   "cell_type": "markdown",
   "id": "intended-white",
   "metadata": {},
   "source": [
    "3.4.1 시퀀스 다뤄보기"
   ]
  },
  {
   "cell_type": "code",
   "execution_count": 22,
   "id": "molecular-pacific",
   "metadata": {},
   "outputs": [
    {
     "data": {
      "text/plain": [
       "(0 1 2 3 4)"
      ]
     },
     "execution_count": 22,
     "metadata": {},
     "output_type": "execute_result"
    }
   ],
   "source": [
    "(range 5)"
   ]
  },
  {
   "cell_type": "code",
   "execution_count": 28,
   "id": "finished-gabriel",
   "metadata": {},
   "outputs": [
    {
     "data": {
      "text/plain": [
       "([0 0] [0 1] [1 0] [1 1])"
      ]
     },
     "execution_count": 28,
     "metadata": {},
     "output_type": "execute_result"
    }
   ],
   "source": [
    "(for [x (range 2) y (range 2)] [x y])"
   ]
  },
  {
   "cell_type": "code",
   "execution_count": 29,
   "id": "extensive-cheese",
   "metadata": {},
   "outputs": [
    {
     "data": {
      "text/plain": [
       "3"
      ]
     },
     "execution_count": 29,
     "metadata": {},
     "output_type": "execute_result"
    }
   ],
   "source": [
    "(bit-xor 1 2)"
   ]
  },
  {
   "cell_type": "code",
   "execution_count": 30,
   "id": "classical-armenia",
   "metadata": {},
   "outputs": [
    {
     "data": {
      "text/plain": [
       "([0 0 0] [0 1 1] [1 0 1] [1 1 0])"
      ]
     },
     "execution_count": 30,
     "metadata": {},
     "output_type": "execute_result"
    }
   ],
   "source": [
    "(for [x (range 2) y (range 2)] [x y (bit-xor x y)])"
   ]
  },
  {
   "cell_type": "code",
   "execution_count": 32,
   "id": "major-struggle",
   "metadata": {},
   "outputs": [
    {
     "data": {
      "text/plain": [
       "#'joy.core/xors"
      ]
     },
     "execution_count": 32,
     "metadata": {},
     "output_type": "execute_result"
    }
   ],
   "source": [
    "(defn xors [max-x max-y]\n",
    "    (for [x (range max-x) y (range max-y)]\n",
    "        [x y (bit-xor x y)]))"
   ]
  },
  {
   "cell_type": "code",
   "execution_count": 33,
   "id": "infectious-dialogue",
   "metadata": {},
   "outputs": [
    {
     "data": {
      "text/plain": [
       "([0 0 0] [0 1 1] [1 0 1] [1 1 0])"
      ]
     },
     "execution_count": 33,
     "metadata": {},
     "output_type": "execute_result"
    }
   ],
   "source": [
    "(xors 2 2)"
   ]
  },
  {
   "cell_type": "markdown",
   "id": "educational-serve",
   "metadata": {},
   "source": [
    "3.4.2 그래픽 다뤄보기"
   ]
  },
  {
   "cell_type": "code",
   "execution_count": 35,
   "id": "flush-positive",
   "metadata": {},
   "outputs": [
    {
     "data": {
      "text/plain": [
       "#'joy.core/population"
      ]
     },
     "execution_count": 35,
     "metadata": {},
     "output_type": "execute_result"
    }
   ],
   "source": [
    "(def population {:zombies 2700 :humans 9})"
   ]
  },
  {
   "cell_type": "code",
   "execution_count": 36,
   "id": "cleared-hayes",
   "metadata": {},
   "outputs": [
    {
     "data": {
      "text/plain": [
       "2700"
      ]
     },
     "execution_count": 36,
     "metadata": {},
     "output_type": "execute_result"
    }
   ],
   "source": [
    "(get population :zombies)"
   ]
  },
  {
   "cell_type": "code",
   "execution_count": 38,
   "id": "prime-lancaster",
   "metadata": {},
   "outputs": [
    {
     "name": "stdout",
     "output_type": "stream",
     "text": [
      "300 zombies per capita\n"
     ]
    },
    {
     "data": {
      "text/plain": [
       "nil"
      ]
     },
     "execution_count": 38,
     "metadata": {},
     "output_type": "execute_result"
    }
   ],
   "source": [
    "(println (/ (get population :zombies)\n",
    "            (get population :humans))\n",
    "         \"zombies per capita\")"
   ]
  },
  {
   "cell_type": "code",
   "execution_count": 39,
   "id": "color-district",
   "metadata": {},
   "outputs": [
    {
     "name": "stdout",
     "output_type": "stream",
     "text": [
      "300 zombies per capita\n"
     ]
    },
    {
     "data": {
      "text/plain": [
       "nil"
      ]
     },
     "execution_count": 39,
     "metadata": {},
     "output_type": "execute_result"
    }
   ],
   "source": [
    "(println (/ (:zombies population)\n",
    "            (:humans population))\n",
    "         \"zombies per capita\")"
   ]
  },
  {
   "cell_type": "code",
   "execution_count": 40,
   "id": "active-sunglasses",
   "metadata": {},
   "outputs": [
    {
     "data": {
      "text/plain": [
       "#'joy.core/pour"
      ]
     },
     "execution_count": 40,
     "metadata": {},
     "output_type": "execute_result"
    }
   ],
   "source": [
    "(defn pour [lb ub]\n",
    "    (cond\n",
    "        (= ub :toujours) (iterate inc lb)\n",
    "        :else (range lb ub)))"
   ]
  },
  {
   "cell_type": "code",
   "execution_count": 41,
   "id": "consecutive-adrian",
   "metadata": {},
   "outputs": [
    {
     "data": {
      "text/plain": [
       "(1 2 3 4 5 6 7 8 9)"
      ]
     },
     "execution_count": 41,
     "metadata": {},
     "output_type": "execute_result"
    }
   ],
   "source": [
    "(pour 1 10)"
   ]
  },
  {
   "cell_type": "code",
   "execution_count": null,
   "id": "strong-knife",
   "metadata": {},
   "outputs": [],
   "source": [
    "(pour 1 :toujours)"
   ]
  },
  {
   "cell_type": "code",
   "execution_count": null,
   "id": "inside-filing",
   "metadata": {},
   "outputs": [],
   "source": []
  }
 ],
 "metadata": {
  "kernelspec": {
   "display_name": "Clojure (clojupyter-0.3.2)",
   "language": "clojure",
   "name": "clojupyter-0.3.2"
  },
  "language_info": {
   "file_extension": ".clj",
   "mimetype": "text/x-clojure",
   "name": "clojure",
   "version": "1.10.1"
  },
  "toc": {
   "base_numbering": 1,
   "nav_menu": {},
   "number_sections": false,
   "sideBar": true,
   "skip_h1_title": false,
   "title_cell": "Table of Contents",
   "title_sidebar": "Contents",
   "toc_cell": false,
   "toc_position": {},
   "toc_section_display": true,
   "toc_window_display": false
  }
 },
 "nbformat": 4,
 "nbformat_minor": 5
}
