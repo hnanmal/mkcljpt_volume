{
 "cells": [
  {
   "cell_type": "code",
   "execution_count": 1,
   "id": "mineral-fundamentals",
   "metadata": {},
   "outputs": [],
   "source": [
    "import math\n",
    "import cmath\n",
    "import random\n",
    "\n",
    "# from sympy import Symbol, re, solve"
   ]
  },
  {
   "cell_type": "code",
   "execution_count": 2,
   "id": "fiscal-music",
   "metadata": {},
   "outputs": [],
   "source": [
    "def solve_cubEq(a,b,c,d):\n",
    "    i = cmath.sqrt(-1)\n",
    "    \n",
    "    p = (c/(3*a)) - ((b**2)/(9*(a**2)))\n",
    "    q = (d/a) + ((2*(b**3))/(27*(a**3))) - ((c*b)/(3*(a**27)))\n",
    "    w = (-1 + cmath.sqrt(-3))/2\n",
    "    \n",
    "    x1 = -b / (3*a) + ((-q + (q**2 + 4*(p**3))**(1/2))/2)**(1/3) + ((-q - (q**2 + 4*(p**3))**(1/2))/2)**(1/3)\n",
    "    x2 = -b / (3*a) + (((-q + (q**2 + 4*(p**3))**(1/2))/2)**(1/3))*(w) + (((-q - (q**2 + 4*(p**3))**(1/2))/2)**(1/3))*(w**2)\n",
    "    x3 = -b / (3*a) + (((-q + (q**2 + 4*(p**3))**(1/2))/2)**(1/3))*(w**2) + (((-q - (q**2 + 4*(p**3))**(1/2))/2)**(1/3))*(w)\n",
    "    \n",
    "    res = [x1, x2, x3]\n",
    "    \n",
    "#     return list(filter(lambda x: x.imag == 0, res))\n",
    "    return res"
   ]
  },
  {
   "cell_type": "code",
   "execution_count": 3,
   "id": "binary-scholar",
   "metadata": {},
   "outputs": [],
   "source": [
    "def solve_cubEq_bisect(a,b,c,d):\n",
    "    def f(x):\n",
    "        return a*x**3 + b*x**2 + c*x + d\n",
    "    while True:\n",
    "        r1= random.randint(-100, 100)\n",
    "        r2 = random.randint(-100, 100)\n",
    "        if f(r1)*f(r2) < 0:\n",
    "            p = r1\n",
    "            q = r2\n",
    "            break\n",
    "    m = p + (q - p)/2\n",
    "    err = abs(f(m))\n",
    "#     n=0\n",
    "    while err > 10**(-4):\n",
    "#         n = n + 1\n",
    "        \n",
    "        if f(m)*f(p) < 0:\n",
    "            q = m\n",
    "        else:\n",
    "            p = m\n",
    "        m = p + (q-p)/2\n",
    "        err = abs(f(m))\n",
    "    \n",
    "    return round(m,3)"
   ]
  },
  {
   "cell_type": "code",
   "execution_count": 4,
   "id": "viral-strike",
   "metadata": {},
   "outputs": [],
   "source": [
    "\n",
    "qa = 150 # 허용지내력 kPa\n",
    "h_BOFDN = 2.4 # 기초 저면 m  ## from revit input\n",
    "S = 10 # Surcharge Load kN/m^2\n",
    "w_c = 24 #콘크리트 단중 kN/m^3\n",
    "w_s = 17 # 흙 단중 kN/m^3\n",
    "fc = 32 #콘크리트 압축강도MPa  ## from revit input\n",
    "fy = 420 #철근 항복강도 MPa\n",
    "Cx = 0.5 #기둥치수 x m  ## from revit input\n",
    "Cy = 0.8 #기둥치수 y m  ## from revit input\n",
    "cc = 75 #피복두께 mm  ## from revit input or Excel input\n",
    "\n",
    "\n",
    "Dc = 16 # 기둥 Pedestal 주근 mm  from revit input or Excel input\n",
    "D = 16 # 기초 배근 mm\n",
    "\n",
    "ldb = max(0.25*Dc*fy/(fc)**0.5, 0.043*Dc*fy) #기둥 철근의 압축 정착 길이\n",
    "\n",
    "Ps = 850  ## from frame analysis module\n",
    "Pu = 1235.9  ## from frame analysis module\n",
    "Msx = 150  ## from frame analysis module\n",
    "Msy = 120  ## from frame analysis module\n",
    "Mux = 230  ## from frame analysis module\n",
    "Muy = 207.2  ## from frame analysis module"
   ]
  },
  {
   "cell_type": "code",
   "execution_count": 5,
   "id": "processed-palestinian",
   "metadata": {},
   "outputs": [],
   "source": [
    "#흙과 기초 평균 두께에 의한 유효 허용 지내력 산정\n",
    "qe = qa - (w_c+w_s)/2*h_BOFDN-S \n",
    "a = qe\n",
    "b = 0\n",
    "c = -Ps\n",
    "d = -6*Msx-6*Msy"
   ]
  },
  {
   "cell_type": "code",
   "execution_count": 6,
   "id": "aggregate-charlotte",
   "metadata": {},
   "outputs": [
    {
     "name": "stdout",
     "output_type": "stream",
     "text": [
      "3.756433698771615\n",
      "(-1.8782168493858074+1.1053787223273466j)\n",
      "(-1.8782168493858071-1.1053787223273466j)\n"
     ]
    }
   ],
   "source": [
    "# x = Symbol('x')\n",
    "# eq = a*x**3+b*x**2+c*x+d\n",
    "# kk_ = solve(eq)\n",
    "kk = solve_cubEq(a,b,c,d)\n",
    "x1 = kk[0]\n",
    "x2 = kk[1]\n",
    "x3 = kk[2]\n",
    "\n",
    "print(x1)\n",
    "print(x2)\n",
    "print(x3)"
   ]
  },
  {
   "cell_type": "code",
   "execution_count": 7,
   "id": "neural-burton",
   "metadata": {},
   "outputs": [
    {
     "name": "stdout",
     "output_type": "stream",
     "text": [
      "Lx =  3.8 m\n",
      "Ly =  3.8 m\n"
     ]
    }
   ],
   "source": [
    "if round(x1.real,1) > 0:\n",
    "    Lx = round(x1.real,2)\n",
    "elif round(x2.real,1) > 0:\n",
    "    Lx = round(x2.real,2)\n",
    "elif round(x3.real,1) > 0:\n",
    "    Lx = round(x3.real,2)\n",
    "\n",
    "# import math\n",
    "Lx = max(math.ceil(Lx*10)/10,Cx) \n",
    "Ly = max(Lx, Cy)\n",
    "\n",
    "print(\"Lx = \", round(Lx,1), \"m\")\n",
    "print(\"Ly = \", round(Ly,1), \"m\")"
   ]
  },
  {
   "cell_type": "code",
   "execution_count": 8,
   "id": "convenient-designation",
   "metadata": {},
   "outputs": [
    {
     "name": "stdout",
     "output_type": "stream",
     "text": [
      "0.19965110319771873\n",
      "0.21531714192595733\n"
     ]
    }
   ],
   "source": [
    "#1면 전단에 의한 두께 산정 d1, d2\n",
    "d1 = ((Ly/2-Cy/2)*(6*Mux/(Lx*Ly**2)+Pu/(Lx*Ly)))*Lx/(0.75*0.17*fc**0.5*Lx*1000+6*Mux/(Lx*Ly**2)*Lx+Pu/(Lx*Ly)*Lx)\n",
    "d2 = ((Lx/2-Cx/2)*(6*Muy/(Ly*Lx**2)+Pu/(Lx*Ly)))*Ly/(0.75*0.17*fc**0.5*Ly*1000+6*Muy/(Ly*Lx**2)*Ly+Pu/(Lx*Ly)*Ly)\n",
    "print(d1)\n",
    "print(d2)"
   ]
  },
  {
   "cell_type": "code",
   "execution_count": 9,
   "id": "familiar-judges",
   "metadata": {},
   "outputs": [
    {
     "name": "stdout",
     "output_type": "stream",
     "text": [
      "0.24597159542074223\n"
     ]
    }
   ],
   "source": [
    "#2면 전단에 의한 두께 산정 d3\n",
    "s1 = (Pu)/(Lx*Ly)+Mux/(Lx*Ly**2/6)+Muy/(Ly*Lx**2/6)\n",
    "s2 = (Pu)/(Lx*Ly)+Mux/(Lx*Ly**2/6)-Muy/(Ly*Lx**2/6)\n",
    "s3 = (Pu)/(Lx*Ly)-Mux/(Lx*Ly**2/6)-Muy/(Ly*Lx**2/6)\n",
    "s4 = (Pu)/(Lx*Ly)-Mux/(Lx*Ly**2/6)+Muy/(Ly*Lx**2/6)\n",
    "\n",
    "s_max = max(s1, s2, s3, s4)\n",
    "s_min = min(s1, s2, s3, s4)\n",
    "s_avg = (s_max+s_min)/2\n",
    "\n",
    "a = s_avg-0.75*0.33*fc**0.5*4*1000\n",
    "b = (Cx + Cy)*s_avg-0.75*0.33*fc**0.5*2*(Cx+Cy)*1000\n",
    "c = (Lx*Ly-Cx*Cy)*s_avg\n",
    "\n",
    "x1 = (-b+(b**2-4*a*c)**0.5)/(2*a)\n",
    "x2 = (-b-(b**2-4*a*c)**0.5)/(2*a)\n",
    "\n",
    "if x1 <= 0:\n",
    "    d3 = x2\n",
    "elif x2 <= 0:\n",
    "    d3 = x1\n",
    "\n",
    "print(d3)"
   ]
  },
  {
   "cell_type": "code",
   "execution_count": 10,
   "id": "homeless-cradle",
   "metadata": {},
   "outputs": [
    {
     "name": "stdout",
     "output_type": "stream",
     "text": [
      "400\n"
     ]
    }
   ],
   "source": [
    "#기초 두께 산정\n",
    "d4 = max(d1*1000, d2*1000, d3*1000, ldb)\n",
    "H = math.ceil((d4+cc)/100)*100\n",
    "\n",
    "print(H)"
   ]
  },
  {
   "cell_type": "code",
   "execution_count": 11,
   "id": "animal-course",
   "metadata": {},
   "outputs": [],
   "source": [
    "#기초 두께에 따른 허용 지내력 재산정 / 기초 크기 재산정\n",
    "qe = qa - (H/1000*w_c+(h_BOFDN-H/1000)*w_s*(Lx*Ly-Cx*Cy)/(Lx*Ly)+Cx*Cy/(Lx*Ly)*(h_BOFDN-H/1000)*(w_c))-S\n",
    "a = qe\n",
    "b = 0\n",
    "c = -Ps\n",
    "d = -6*Msx-6*Msy\n",
    "\n",
    "# x = Symbol('x')\n",
    "# eq = a*x**3+b*x**2+c*x+d\n",
    "kk = solve_cubEq(a,b,c,d)\n",
    "x1 = kk[0]\n",
    "x2 = kk[1]\n",
    "x3 = kk[2]\n",
    "\n",
    "if round(x1.real,1) > 0:\n",
    "    Lx = round(x1.real,2)\n",
    "elif round(x2.real,1) > 0:\n",
    "    Lx = round(x2.real,2)\n",
    "elif round(x3.real,1) > 0:\n",
    "    Lx = round(x3.real,2)\n",
    "\n",
    "# import math\n",
    "Lx = max(math.ceil(Lx*10)/10,Cx) \n",
    "Ly = max(Lx, Cy) \n",
    "# print(\"\")"
   ]
  },
  {
   "cell_type": "code",
   "execution_count": 12,
   "id": "elect-lighting",
   "metadata": {},
   "outputs": [
    {
     "name": "stdout",
     "output_type": "stream",
     "text": [
      "Lx =  3.7 m\n",
      "Ly =  3.7 m\n"
     ]
    }
   ],
   "source": [
    "#편심 제한 기준\n",
    "while Lx/6 < Msy/Ps:\n",
    "    Lx = Lx + 0.1\n",
    "print (\"Lx = \", round(Lx,1), \"m\")\n",
    "\n",
    "while Ly/6 < Msx/Ps:\n",
    "    Ly = Ly + 0.1\n",
    "print (\"Ly = \", round(Ly,1), \"m\")"
   ]
  },
  {
   "cell_type": "code",
   "execution_count": 13,
   "id": "crucial-wisdom",
   "metadata": {},
   "outputs": [
    {
     "name": "stdout",
     "output_type": "stream",
     "text": [
      "0.20316227530054454\n",
      "0.21973479457383271\n"
     ]
    }
   ],
   "source": [
    "#1면 전단에 의한 두께 재산정 d1, d2\n",
    "d1 = ((Ly/2-Cy/2)*(6*Mux/(Lx*Ly**2)+Pu/(Lx*Ly)))*Lx/(0.75*0.17*fc**0.5*Lx*1000+6*Mux/(Lx*Ly**2)*Lx+Pu/(Lx*Ly)*Lx)\n",
    "d2 = ((Lx/2-Cx/2)*(6*Muy/(Ly*Lx**2)+Pu/(Lx*Ly)))*Ly/(0.75*0.17*fc**0.5*Ly*1000+6*Muy/(Ly*Lx**2)*Ly+Pu/(Lx*Ly)*Ly)\n",
    "\n",
    "print(d1)\n",
    "print(d2)"
   ]
  },
  {
   "cell_type": "code",
   "execution_count": 14,
   "id": "reliable-parcel",
   "metadata": {},
   "outputs": [
    {
     "name": "stdout",
     "output_type": "stream",
     "text": [
      "\n",
      "Required FDN Effective Depth =  297.0 mm\n",
      "FDN Full Depth =  400 mm\n",
      "\n"
     ]
    }
   ],
   "source": [
    "#2면 전단에 의한 두께 재산정 d3\n",
    "s1 = (Pu)/(Lx*Ly)+Mux/(Lx*Ly**2/6)+Muy/(Ly*Lx**2/6)\n",
    "s2 = (Pu)/(Lx*Ly)+Mux/(Lx*Ly**2/6)-Muy/(Ly*Lx**2/6)\n",
    "s3 = (Pu)/(Lx*Ly)-Mux/(Lx*Ly**2/6)-Muy/(Ly*Lx**2/6)\n",
    "s4 = (Pu)/(Lx*Ly)-Mux/(Lx*Ly**2/6)+Muy/(Ly*Lx**2/6)\n",
    "\n",
    "s_max = max(s1, s2, s3, s4)\n",
    "s_min = min(s1, s2, s3, s4)\n",
    "s_avg = (s_max+s_min)/2\n",
    "\n",
    "a = s_avg-0.75*0.33*fc**0.5*4*1000\n",
    "b = (Cx + Cy)*s_avg-0.75*0.33*fc**0.5*2*(Cx+Cy)*1000\n",
    "c = (Lx*Ly-Cx*Cy)*s_avg\n",
    "\n",
    "x1 = (-b+(b**2-4*a*c)**0.5)/(2*a)\n",
    "x2 = (-b-(b**2-4*a*c)**0.5)/(2*a)\n",
    "\n",
    "if x1 < 0:\n",
    "    d3 = x2\n",
    "elif x2 < 0:\n",
    "    d3 = x1\n",
    "\n",
    "\n",
    "print (\"\")\n",
    "d4 = max(d1*1000, d2*1000, d3*1000, ldb)\n",
    "print (\"Required FDN Effective Depth = \", round(d4,1), \"mm\")\n",
    "H = math.ceil((d4+cc+D)/100)*100\n",
    "print (\"FDN Full Depth = \", H, \"mm\")\n",
    "print (\"\")"
   ]
  },
  {
   "cell_type": "code",
   "execution_count": 15,
   "id": "empirical-resistance",
   "metadata": {},
   "outputs": [
    {
     "name": "stdout",
     "output_type": "stream",
     "text": [
      "Mux = 123.54 kNm/m\n",
      "    =  457.12 kNm\n",
      "Muy = 146.97 kNm/m\n",
      "    =  543.79 kNm\n"
     ]
    }
   ],
   "source": [
    "#요구모멘트산정\n",
    "Mux1 = (Ly/2-Cy/2)**2/2*(Pu/(Lx*Ly)+abs(Mux/(Lx*Ly**2/6)))\n",
    "Muy1 = (Lx/2-Cx/2)**2/2*(Pu/(Lx*Ly)+abs(Muy/(Ly*Lx**2/6)))\n",
    "print (\"Mux =\", round(Mux1,2), \"kNm/m\")\n",
    "print (\"    = \", round(Mux1 * Lx,2), \"kNm\")\n",
    "print (\"Muy =\", round(Muy1,2), \"kNm/m\")\n",
    "print (\"    = \", round(Muy1 * Ly,2), \"kNm\")"
   ]
  },
  {
   "cell_type": "code",
   "execution_count": 16,
   "id": "other-pennsylvania",
   "metadata": {},
   "outputs": [
    {
     "name": "stdout",
     "output_type": "stream",
     "text": [
      "\n",
      "dx =  301.0 mm\n",
      "dy =  317.0 mm\n",
      "\n"
     ]
    }
   ],
   "source": [
    "#방향별 모멘트 크기에 따른 주근과 부근 유효 깊이 산정\n",
    "if Mux1 < Muy1:\n",
    "    dx = H-cc-3/2*D\n",
    "    dy = H-cc-1/2*D\n",
    "else:\n",
    "    dy = H-cc-3/2*D\n",
    "    dx = H-cc-1/2*D\n",
    "\n",
    "print (\"\")\n",
    "print (\"dx = \", round(dx, 4), \"mm\")\n",
    "print (\"dy = \", round(dy, 4), \"mm\")\n",
    "print (\"\")"
   ]
  },
  {
   "cell_type": "code",
   "execution_count": 17,
   "id": "noticed-organization",
   "metadata": {},
   "outputs": [
    {
     "name": "stdout",
     "output_type": "stream",
     "text": [
      "Asx =  1094.1 mm2/m\n",
      "    =  4048.17 mm2\n",
      "D 16 @ 150\n",
      "\n",
      "Asy =  1236.6 mm2/m\n",
      "    =  4575.42 mm2\n",
      "D 16 @ 150\n"
     ]
    }
   ],
   "source": [
    "#각 방향별 휨 철근 설계\n",
    "b = Lx*1000\n",
    "d = dx\n",
    "Mu = Mux1*10**6\n",
    "\n",
    "a1 = ((-0.9*0.85*fc*b*d)+((0.9*0.85*fc*b*d)**2-4*(-0.9*0.85*fc*b*0.5)*(-Mu))**0.5)/(2*(-0.9*0.85*fc*b*0.5))\n",
    "a2 = ((-0.9*0.85*fc*b*d)-((0.9*0.85*fc*b*d)**2-4*(-0.9*0.85*fc*b*0.5)*(-Mu))**0.5)/(2*(-0.9*0.85*fc*b*0.5))\n",
    "\n",
    "if a1 < 0:\n",
    "    a = a2\n",
    "elif a2 < 0:\n",
    "    a = a1\n",
    "elif a1 > d:\n",
    "    a = a2\n",
    "elif a2 > d:\n",
    "    a = a1\n",
    "\n",
    "Asx = max(0.85*fc*a*b/fy, 0.0018*1000*H)\n",
    "print (\"Asx = \", round(Asx,1), \"mm2/m\")\n",
    "print (\"    = \", round(Asx,1)* Lx, \"mm2\")\n",
    "sx = int(1000/(Asx/((D/2)**2*3.141))/50)*50\n",
    "print (\"D\",D,\"@\",sx)\n",
    "print (\"\")\n",
    "\n",
    "b = Ly*1000\n",
    "d = dy\n",
    "Mu = Muy1*10**6\n",
    "\n",
    "a1 = ((-0.9*0.85*fc*b*d)+((0.9*0.85*fc*b*d)**2-4*(-0.9*0.85*fc*b*0.5)*(-Mu))**0.5)/(2*(-0.9*0.85*fc*b*0.5))\n",
    "a2 = ((-0.9*0.85*fc*b*d)-((0.9*0.85*fc*b*d)**2-4*(-0.9*0.85*fc*b*0.5)*(-Mu))**0.5)/(2*(-0.9*0.85*fc*b*0.5))\n",
    "\n",
    "if a1 < 0:\n",
    "    a = a2\n",
    "elif a2 < 0:\n",
    "    a = a1\n",
    "elif a1 > d:\n",
    "    a = a2\n",
    "elif a2 > d:\n",
    "    a = a1\n",
    "\n",
    "Asy = max(0.85*fc*a*b/fy, 0.0018*1000*H)\n",
    "print (\"Asy = \", round(Asy,1), \"mm2/m\")\n",
    "print (\"    = \", round(Asy,1) * Ly, \"mm2\")\n",
    "sy = int(1000/(Asy/((D/2)**2*3.141592))/50)*50\n",
    "print (\"D\",D,\"@\",sy)"
   ]
  },
  {
   "cell_type": "code",
   "execution_count": 18,
   "id": "young-waters",
   "metadata": {},
   "outputs": [
    {
     "name": "stdout",
     "output_type": "stream",
     "text": [
      "\n",
      "Service Soil Pressure =  148.08 kPa\n",
      "Factored Soil Pressure =  142.07 kPa\n",
      "\n"
     ]
    }
   ],
   "source": [
    "#허용지내력 만족 여부 검토\n",
    "W_c = (Lx*Ly*H/1000+Cx*Cy*(h_BOFDN-H/1000))*w_c\n",
    "W_s = (Lx*Ly-Cx*Cy)*(h_BOFDN-H/1000)*w_s\n",
    "\n",
    "a1 = (Ps+W_c+W_s)/(Lx*Ly)+Msx/(Lx*Ly**2/6)+Msy/(Ly*Lx**2/6)+S\n",
    "a2 = (Ps+W_c+W_s)/(Lx*Ly)+Msx/(Lx*Ly**2/6)-Msy/(Ly*Lx**2/6)+S\n",
    "a3 = (Ps+W_c+W_s)/(Lx*Ly)-Msx/(Lx*Ly**2/6)-Msy/(Ly*Lx**2/6)+S\n",
    "a4 = (Ps+W_c+W_s)/(Lx*Ly)-Msx/(Lx*Ly**2/6)+Msy/(Ly*Lx**2/6)+S\n",
    "\n",
    "print (\"\")\n",
    "print (\"Service Soil Pressure = \", round(max(a1, a2, a3, a4),2), \"kPa\")\n",
    "print (\"Factored Soil Pressure = \", round(max(s1, s2, s3, s4),2), \"kPa\")\n",
    "print (\"\")"
   ]
  },
  {
   "cell_type": "code",
   "execution_count": 19,
   "id": "continuous-breath",
   "metadata": {},
   "outputs": [
    {
     "name": "stdout",
     "output_type": "stream",
     "text": [
      "Vux = 499.62 kN\n",
      "phiVcx = 803.25 kN\n",
      "\n",
      "Vuy = 545.07 kN\n",
      "phiVcy = 845.95 kN\n",
      "\n",
      "Vup = 1154.69 kN\n",
      "phiVcp = 1659.54 kN\n",
      "\n"
     ]
    }
   ],
   "source": [
    "#1방향/2방향 전단검토\n",
    "dxy = (dx+dy)/2\n",
    "\n",
    "Vux = (Ly/2-Cy/2-dx/1000)*(max(Mux/(Lx*Ly**2/6),-Mux/(Lx*Ly**2/6))+Pu/(Lx*Ly))*Lx\n",
    "print (\"Vux =\" , round(Vux,2), \"kN\")\n",
    "phiVcx = 0.75*0.17*(fc)**0.5*Lx*1000*dx/1000\n",
    "print(\"phiVcx =\" , round(phiVcx,2), \"kN\")\n",
    "print (\"\")\n",
    "\n",
    "Vuy = (Lx/2-Cx/2-dy/1000)*(max(Muy/(Ly*Lx**2/6),-Muy/(Ly*Lx**2/6))+Pu/(Lx*Ly))*Ly\n",
    "print (\"Vuy =\", round(Vuy,2), \"kN\")\n",
    "phiVcy = 0.75*0.17*(fc)**0.5*Ly*1000*dy/1000\n",
    "print(\"phiVcy =\", round(phiVcy,2), \"kN\")\n",
    "print (\"\")\n",
    "\n",
    "Vup = (Lx*Ly-(Cx+dy/1000)*(Cy+dx/1000))*s_avg\n",
    "print (\"Vup =\", round(Vup,2), \"kN\")\n",
    "phiVcp = 0.75*0.33*(fc)**0.5*(2*Cx+2*Cy+4*dxy/1000)*dxy/1000*1000\n",
    "print (\"phiVcp =\", round(phiVcp,2), \"kN\")\n",
    "print (\"\")"
   ]
  },
  {
   "cell_type": "code",
   "execution_count": null,
   "id": "every-metro",
   "metadata": {},
   "outputs": [],
   "source": []
  }
 ],
 "metadata": {
  "kernelspec": {
   "display_name": "Python 3",
   "language": "python",
   "name": "python3"
  },
  "language_info": {
   "codemirror_mode": {
    "name": "ipython",
    "version": 3
   },
   "file_extension": ".py",
   "mimetype": "text/x-python",
   "name": "python",
   "nbconvert_exporter": "python",
   "pygments_lexer": "ipython3",
   "version": "3.8.8"
  },
  "toc": {
   "base_numbering": 1,
   "nav_menu": {},
   "number_sections": false,
   "sideBar": true,
   "skip_h1_title": false,
   "title_cell": "Table of Contents",
   "title_sidebar": "Contents",
   "toc_cell": false,
   "toc_position": {},
   "toc_section_display": true,
   "toc_window_display": false
  }
 },
 "nbformat": 4,
 "nbformat_minor": 5
}
