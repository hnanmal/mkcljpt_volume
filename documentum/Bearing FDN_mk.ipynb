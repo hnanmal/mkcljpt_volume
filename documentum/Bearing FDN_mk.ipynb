{
 "cells": [
  {
   "cell_type": "code",
   "execution_count": 1,
   "id": "infrared-intensity",
   "metadata": {},
   "outputs": [
    {
     "name": "stdout",
     "output_type": "stream",
     "text": [
      "\u001b[33mWARNING: The directory '/home/jovyan/.cache/pip' or its parent directory is not owned or is not writable by the current user. The cache has been disabled. Check the permissions and owner of that directory. If executing pip with sudo, you should use sudo's -H flag.\u001b[0m\u001b[33m\n",
      "\u001b[0mCollecting sympy\n",
      "  Downloading sympy-1.12-py3-none-any.whl (5.7 MB)\n",
      "\u001b[2K     \u001b[90m━━━━━━━━━━━━━━━━━━━━━━━━━━━━━━━━━━━━━━━━\u001b[0m \u001b[32m5.7/5.7 MB\u001b[0m \u001b[31m9.9 MB/s\u001b[0m eta \u001b[36m0:00:00\u001b[0m:00:01\u001b[0m00:01\u001b[0m\n",
      "\u001b[?25hCollecting mpmath>=0.19\n",
      "  Downloading mpmath-1.3.0-py3-none-any.whl (536 kB)\n",
      "\u001b[2K     \u001b[90m━━━━━━━━━━━━━━━━━━━━━━━━━━━━━━━━━━━━━━━\u001b[0m \u001b[32m536.2/536.2 KB\u001b[0m \u001b[31m8.8 MB/s\u001b[0m eta \u001b[36m0:00:00\u001b[0ma \u001b[36m0:00:01\u001b[0m\n",
      "\u001b[?25hInstalling collected packages: mpmath, sympy\n",
      "Successfully installed mpmath-1.3.0 sympy-1.12\n",
      "\u001b[33mWARNING: Running pip as the 'root' user can result in broken permissions and conflicting behaviour with the system package manager. It is recommended to use a virtual environment instead: https://pip.pypa.io/warnings/venv\u001b[0m\u001b[33m\n",
      "\u001b[0m\u001b[33mWARNING: You are using pip version 22.0.4; however, version 23.2.1 is available.\n",
      "You should consider upgrading via the '/opt/conda/bin/python -m pip install --upgrade pip' command.\u001b[0m\u001b[33m\n",
      "\u001b[0m"
     ]
    }
   ],
   "source": [
    "!pip install sympy"
   ]
  },
  {
   "cell_type": "code",
   "execution_count": 12,
   "id": "outer-westminster",
   "metadata": {},
   "outputs": [],
   "source": [
    "from sympy import Symbol, solve, re"
   ]
  },
  {
   "cell_type": "code",
   "execution_count": 56,
   "id": "graphic-dispute",
   "metadata": {
    "scrolled": true
   },
   "outputs": [
    {
     "data": {
      "text/plain": [
       "sympy.core.numbers.Float"
      ]
     },
     "execution_count": 56,
     "metadata": {},
     "output_type": "execute_result"
    }
   ],
   "source": [
    "type(re(10.7))"
   ]
  },
  {
   "cell_type": "code",
   "execution_count": 415,
   "id": "mineral-fundamentals",
   "metadata": {},
   "outputs": [],
   "source": [
    "import math\n",
    "import cmath\n",
    "import random"
   ]
  },
  {
   "cell_type": "code",
   "execution_count": 416,
   "id": "standing-brush",
   "metadata": {},
   "outputs": [
    {
     "data": {
      "text/plain": [
       "['__doc__',\n",
       " '__file__',\n",
       " '__loader__',\n",
       " '__name__',\n",
       " '__package__',\n",
       " '__spec__',\n",
       " 'acos',\n",
       " 'acosh',\n",
       " 'asin',\n",
       " 'asinh',\n",
       " 'atan',\n",
       " 'atan2',\n",
       " 'atanh',\n",
       " 'ceil',\n",
       " 'comb',\n",
       " 'copysign',\n",
       " 'cos',\n",
       " 'cosh',\n",
       " 'degrees',\n",
       " 'dist',\n",
       " 'e',\n",
       " 'erf',\n",
       " 'erfc',\n",
       " 'exp',\n",
       " 'expm1',\n",
       " 'fabs',\n",
       " 'factorial',\n",
       " 'floor',\n",
       " 'fmod',\n",
       " 'frexp',\n",
       " 'fsum',\n",
       " 'gamma',\n",
       " 'gcd',\n",
       " 'hypot',\n",
       " 'inf',\n",
       " 'isclose',\n",
       " 'isfinite',\n",
       " 'isinf',\n",
       " 'isnan',\n",
       " 'isqrt',\n",
       " 'ldexp',\n",
       " 'lgamma',\n",
       " 'log',\n",
       " 'log10',\n",
       " 'log1p',\n",
       " 'log2',\n",
       " 'modf',\n",
       " 'nan',\n",
       " 'perm',\n",
       " 'pi',\n",
       " 'pow',\n",
       " 'prod',\n",
       " 'radians',\n",
       " 'remainder',\n",
       " 'sin',\n",
       " 'sinh',\n",
       " 'sqrt',\n",
       " 'tan',\n",
       " 'tanh',\n",
       " 'tau',\n",
       " 'trunc']"
      ]
     },
     "execution_count": 416,
     "metadata": {},
     "output_type": "execute_result"
    }
   ],
   "source": [
    "dir(math)"
   ]
  },
  {
   "cell_type": "code",
   "execution_count": 420,
   "id": "previous-allocation",
   "metadata": {},
   "outputs": [
    {
     "data": {
      "text/plain": [
       "1.7320508075688772"
      ]
     },
     "execution_count": 420,
     "metadata": {},
     "output_type": "execute_result"
    }
   ],
   "source": [
    "pow(3,0.5)"
   ]
  },
  {
   "cell_type": "code",
   "execution_count": 423,
   "id": "hungry-calcium",
   "metadata": {},
   "outputs": [
    {
     "data": {
      "text/plain": [
       "40"
      ]
     },
     "execution_count": 423,
     "metadata": {},
     "output_type": "execute_result"
    }
   ],
   "source": [
    "(2**3) * 5"
   ]
  },
  {
   "cell_type": "code",
   "execution_count": 385,
   "id": "knowing-collaboration",
   "metadata": {},
   "outputs": [],
   "source": [
    "i = cmath.sqrt(-1)"
   ]
  },
  {
   "cell_type": "code",
   "execution_count": 386,
   "id": "limiting-waterproof",
   "metadata": {},
   "outputs": [
    {
     "data": {
      "text/plain": [
       "(-1+0j)"
      ]
     },
     "execution_count": 386,
     "metadata": {},
     "output_type": "execute_result"
    }
   ],
   "source": [
    "i**2"
   ]
  },
  {
   "cell_type": "code",
   "execution_count": 466,
   "id": "revised-occupation",
   "metadata": {},
   "outputs": [],
   "source": [
    "def solve_cubEq(a,b,c,d):\n",
    "    i = cmath.sqrt(-1)\n",
    "     \n",
    "#     def part1a():\n",
    "#         return 2*(b**3) - (9*a*b*c) + 27*(a**2)*d\n",
    "#     def part1b():\n",
    "#         return 2*(b**3) - (9*a*b*c) + 27*(a**2)*(d**2)\n",
    "    \n",
    "#     def part2a():\n",
    "#         return ((part1b()**2) - 4*(((b**2)-(3*a*c))**3))**0.5\n",
    "#     def part2b():\n",
    "#         return ((part1a()**2) - 4*(((b**2)-(3*a*c))**3))**0.5\n",
    "    \n",
    "#     def partA1():\n",
    "#         return (part1a() + part2a())/2\n",
    "#     def partA2():\n",
    "#         return (part1a() - part2b())/2\n",
    "    \n",
    "    \n",
    "#     x1 = -(b/(3*a)) - (1/(3*a)) * (partA1()**(1/3)) - (1/(3*a)) * (partA2()**(1/3))\n",
    "#     x2 = -(b/(3*a)) + ((1+(i*(3**0.5)))/(6*a))*(partA1()**(1/3)) + ((1-(i*(3**0.5)))/(6*a))*(partA2()**(1/3))\n",
    "#     x3 = -(b/(3*a)) + ((1-(i*(3**0.5)))/(6*a))*(partA1()**(1/3)) + ((1+(i*(3**0.5)))/(6*a))*(partA2()**(1/3))\n",
    "    \n",
    "    commonPart = 2*(b**3) - 9*a*b*c + 27*(a**2)*d\n",
    "    \n",
    "    A = ((1/2)*(commonPart + (commonPart**2-4*(b**2 - 3*a*c)**3)**(1/2)))**(1/3)\n",
    "    B = ((1/2)*(commonPart - (commonPart**2-4*(b**2 - 3*a*c)**3)**(1/2)))**(1/3)\n",
    "    \n",
    "    x1 = -b/(3*a) -A/(3*a) -B/(3*a)\n",
    "    x2 = -b/(3*a) +((1+(3**(1/2))*i)*A)/(3*a) +((1+3**(1/2)*i)*B)/(6*a)\n",
    "    x3 = -b/(3*a) +((1-(3**(1/2))*i)*A)/(3*a) +((1-3**(1/2)*i)*B)/(6*a)\n",
    "    \n",
    "    return [x1,x2,x3]\n",
    "#     return [part1(), part2(), partA1(), partA2()]"
   ]
  },
  {
   "cell_type": "code",
   "execution_count": 467,
   "id": "binary-scholar",
   "metadata": {},
   "outputs": [],
   "source": [
    "def solve_cubEq_bisect(a,b,c,d):\n",
    "    def f(x):\n",
    "        return a*x**3 + b*x**2 + c*x + d\n",
    "    while True:\n",
    "        r1= random.randint(-100, 100)\n",
    "        r2 = random.randint(-100, 100)\n",
    "        if f(r1)*f(r2) < 0:\n",
    "            p = r1\n",
    "            q = r2\n",
    "            break\n",
    "    m = p + (q - p)/2\n",
    "    err = abs(f(m))\n",
    "#     n=0\n",
    "    while err > 10**(-4):\n",
    "#         n = n + 1\n",
    "        \n",
    "        if f(m)*f(p) < 0:\n",
    "            q = m\n",
    "        else:\n",
    "            p = m\n",
    "        m = p + (q-p)/2\n",
    "        err = abs(f(m))\n",
    "    \n",
    "    return round(m,3)"
   ]
  },
  {
   "cell_type": "code",
   "execution_count": 468,
   "id": "viral-strike",
   "metadata": {},
   "outputs": [],
   "source": [
    "\n",
    "qa = 150 # 허용지내력 kPa\n",
    "h_BOFDN = 2.4 # 기초 저면 m\n",
    "S = 10 # Surcharge Load kN/m^2\n",
    "w_c = 24 #콘크리트 단중 kN/m^3\n",
    "w_s = 17 # 흙 단중 kN/m^3\n",
    "fc = 32 #콘크리트 압축강도MPa\n",
    "fy = 420 #철근 항복강도 MPa\n",
    "Cx = 0.5 #기둥치수 x m\n",
    "Cy = 0.8 #기둥치수 y m\n",
    "cc = 75 #피복두께 mm\n",
    "\n",
    "\n",
    "Dc = 16 # 기둥 Pedestal 주근 mm\n",
    "D = 16 # 기초 배근 mm\n",
    "\n",
    "ldb = max(0.25*Dc*fy/(fc)**0.5, 0.043*Dc*fy) #기둥 철근의 압축 정착 길이\n",
    "\n",
    "Ps = 850\n",
    "Pu = 1235.9\n",
    "Msx = 150\n",
    "Msy = 120\n",
    "Mux = 230\n",
    "Muy = 207.2"
   ]
  },
  {
   "cell_type": "code",
   "execution_count": 469,
   "id": "processed-palestinian",
   "metadata": {},
   "outputs": [],
   "source": [
    "#흙과 기초 평균 두께에 의한 유효 허용 지내력 산정\n",
    "qe = qa - (w_c+w_s)/2*h_BOFDN-S \n",
    "a = qe\n",
    "b = 0\n",
    "c = -Ps\n",
    "d = -6*Msx-6*Msy"
   ]
  },
  {
   "cell_type": "code",
   "execution_count": 470,
   "id": "governing-questionnaire",
   "metadata": {},
   "outputs": [
    {
     "data": {
      "text/plain": [
       "3.756"
      ]
     },
     "execution_count": 470,
     "metadata": {},
     "output_type": "execute_result"
    }
   ],
   "source": [
    "solve_cubEq_bisect(a,b,c,d)"
   ]
  },
  {
   "cell_type": "code",
   "execution_count": 471,
   "id": "received-living",
   "metadata": {},
   "outputs": [],
   "source": [
    "res = solve_cubEq(a,b,c,d)"
   ]
  },
  {
   "cell_type": "code",
   "execution_count": 472,
   "id": "physical-executive",
   "metadata": {},
   "outputs": [
    {
     "data": {
      "text/plain": [
       "[(-1.8782168493858071-3.253167010768159j),\n",
       " (-2.4982299226326203+4.3270611549885665j),\n",
       " (4.9964598452652424-4.1735256138625556e-16j)]"
      ]
     },
     "execution_count": 472,
     "metadata": {},
     "output_type": "execute_result"
    }
   ],
   "source": [
    "res"
   ]
  },
  {
   "cell_type": "code",
   "execution_count": 473,
   "id": "aggregate-charlotte",
   "metadata": {},
   "outputs": [],
   "source": [
    "x = Symbol('x')\n",
    "eq = a*x**3+b*x**2+c*x+d\n",
    "kk_ = solve(eq)\n",
    "kk = solve_cubEq(a,b,c,d)\n",
    "x1 = kk[0]\n",
    "x2 = kk[1]\n",
    "x3 = kk[2]"
   ]
  },
  {
   "cell_type": "code",
   "execution_count": 474,
   "id": "supported-payday",
   "metadata": {},
   "outputs": [
    {
     "data": {
      "text/plain": [
       "[3.75643369877162,\n",
       " -1.87821684938581 - 1.10537872232735*I,\n",
       " -1.87821684938581 + 1.10537872232735*I]"
      ]
     },
     "execution_count": 474,
     "metadata": {},
     "output_type": "execute_result"
    }
   ],
   "source": [
    "kk_"
   ]
  },
  {
   "cell_type": "code",
   "execution_count": 475,
   "id": "neural-burton",
   "metadata": {},
   "outputs": [
    {
     "data": {
      "text/plain": [
       "[(-1.8782168493858071-3.253167010768159j),\n",
       " (-2.4982299226326203+4.3270611549885665j),\n",
       " (4.9964598452652424-4.1735256138625556e-16j)]"
      ]
     },
     "execution_count": 475,
     "metadata": {},
     "output_type": "execute_result"
    }
   ],
   "source": [
    "kk"
   ]
  },
  {
   "cell_type": "code",
   "execution_count": 323,
   "id": "champion-genetics",
   "metadata": {},
   "outputs": [
    {
     "data": {
      "text/plain": [
       "-3.2531670107681587"
      ]
     },
     "execution_count": 323,
     "metadata": {},
     "output_type": "execute_result"
    }
   ],
   "source": [
    "kk[0].imag"
   ]
  },
  {
   "cell_type": "code",
   "execution_count": 376,
   "id": "advisory-litigation",
   "metadata": {},
   "outputs": [],
   "source": [
    "x = kk_[0]"
   ]
  },
  {
   "cell_type": "code",
   "execution_count": 377,
   "id": "urban-bradford",
   "metadata": {},
   "outputs": [],
   "source": [
    "res = (a*x**3+b*x**2+c*x+d)**2"
   ]
  },
  {
   "cell_type": "code",
   "execution_count": 378,
   "id": "relevant-aquatic",
   "metadata": {},
   "outputs": [
    {
     "data": {
      "text/latex": [
       "$\\displaystyle 8.27180612553028 \\cdot 10^{-25}$"
      ],
      "text/plain": [
       "8.27180612553028e-25"
      ]
     },
     "execution_count": 378,
     "metadata": {},
     "output_type": "execute_result"
    }
   ],
   "source": [
    "res"
   ]
  },
  {
   "cell_type": "code",
   "execution_count": 337,
   "id": "adult-yugoslavia",
   "metadata": {
    "scrolled": true
   },
   "outputs": [
    {
     "ename": "AttributeError",
     "evalue": "'complex' object has no attribute 'evalf'",
     "output_type": "error",
     "traceback": [
      "\u001b[0;31m\u001b[0m",
      "\u001b[0;31mAttributeError\u001b[0mTraceback (most recent call last)",
      "\u001b[0;32m<ipython-input-337-2e3a2a39dbe9>\u001b[0m in \u001b[0;36m<module>\u001b[0;34m\u001b[0m\n\u001b[0;32m----> 1\u001b[0;31m \u001b[0mres\u001b[0m\u001b[0;34m.\u001b[0m\u001b[0mevalf\u001b[0m\u001b[0;34m(\u001b[0m\u001b[0;36m100\u001b[0m\u001b[0;34m)\u001b[0m\u001b[0;34m\u001b[0m\u001b[0;34m\u001b[0m\u001b[0m\n\u001b[0m",
      "\u001b[0;31mAttributeError\u001b[0m: 'complex' object has no attribute 'evalf'"
     ]
    }
   ],
   "source": [
    "res.evalf(100)"
   ]
  },
  {
   "cell_type": "code",
   "execution_count": null,
   "id": "attempted-genius",
   "metadata": {},
   "outputs": [],
   "source": []
  },
  {
   "cell_type": "code",
   "execution_count": null,
   "id": "convenient-designation",
   "metadata": {},
   "outputs": [],
   "source": []
  },
  {
   "cell_type": "code",
   "execution_count": null,
   "id": "shared-playback",
   "metadata": {},
   "outputs": [],
   "source": []
  },
  {
   "cell_type": "code",
   "execution_count": null,
   "id": "familiar-judges",
   "metadata": {},
   "outputs": [],
   "source": []
  },
  {
   "cell_type": "code",
   "execution_count": null,
   "id": "homeless-cradle",
   "metadata": {},
   "outputs": [],
   "source": []
  }
 ],
 "metadata": {
  "kernelspec": {
   "display_name": "Python 3",
   "language": "python",
   "name": "python3"
  },
  "language_info": {
   "codemirror_mode": {
    "name": "ipython",
    "version": 3
   },
   "file_extension": ".py",
   "mimetype": "text/x-python",
   "name": "python",
   "nbconvert_exporter": "python",
   "pygments_lexer": "ipython3",
   "version": "3.8.8"
  },
  "toc": {
   "base_numbering": 1,
   "nav_menu": {},
   "number_sections": false,
   "sideBar": true,
   "skip_h1_title": false,
   "title_cell": "Table of Contents",
   "title_sidebar": "Contents",
   "toc_cell": false,
   "toc_position": {},
   "toc_section_display": true,
   "toc_window_display": false
  }
 },
 "nbformat": 4,
 "nbformat_minor": 5
}
