{
 "cells": [
  {
   "cell_type": "code",
   "execution_count": 11,
   "id": "automatic-palestinian",
   "metadata": {},
   "outputs": [],
   "source": [
    "import ctypes"
   ]
  },
  {
   "cell_type": "code",
   "execution_count": 13,
   "id": "ignored-entity",
   "metadata": {},
   "outputs": [
    {
     "ename": "OSError",
     "evalue": "./dll_py.dll: invalid ELF header",
     "output_type": "error",
     "traceback": [
      "\u001b[0;31m\u001b[0m",
      "\u001b[0;31mOSError\u001b[0mTraceback (most recent call last)",
      "\u001b[0;32m<ipython-input-13-07bfe26f74cb>\u001b[0m in \u001b[0;36m<module>\u001b[0;34m\u001b[0m\n\u001b[1;32m      1\u001b[0m \u001b[0;31m# a = ctypes.cdll.LoadLibrary('./dll_py.dll')\u001b[0m\u001b[0;34m\u001b[0m\u001b[0;34m\u001b[0m\u001b[0;34m\u001b[0m\u001b[0m\n\u001b[0;32m----> 2\u001b[0;31m \u001b[0mlibc\u001b[0m \u001b[0;34m=\u001b[0m \u001b[0mctypes\u001b[0m\u001b[0;34m.\u001b[0m\u001b[0mCDLL\u001b[0m\u001b[0;34m(\u001b[0m\u001b[0;34m'./dll_py.dll'\u001b[0m\u001b[0;34m)\u001b[0m\u001b[0;34m\u001b[0m\u001b[0;34m\u001b[0m\u001b[0m\n\u001b[0m",
      "\u001b[0;32m/opt/conda/lib/python3.8/ctypes/__init__.py\u001b[0m in \u001b[0;36m__init__\u001b[0;34m(self, name, mode, handle, use_errno, use_last_error, winmode)\u001b[0m\n\u001b[1;32m    371\u001b[0m \u001b[0;34m\u001b[0m\u001b[0m\n\u001b[1;32m    372\u001b[0m         \u001b[0;32mif\u001b[0m \u001b[0mhandle\u001b[0m \u001b[0;32mis\u001b[0m \u001b[0;32mNone\u001b[0m\u001b[0;34m:\u001b[0m\u001b[0;34m\u001b[0m\u001b[0;34m\u001b[0m\u001b[0m\n\u001b[0;32m--> 373\u001b[0;31m             \u001b[0mself\u001b[0m\u001b[0;34m.\u001b[0m\u001b[0m_handle\u001b[0m \u001b[0;34m=\u001b[0m \u001b[0m_dlopen\u001b[0m\u001b[0;34m(\u001b[0m\u001b[0mself\u001b[0m\u001b[0;34m.\u001b[0m\u001b[0m_name\u001b[0m\u001b[0;34m,\u001b[0m \u001b[0mmode\u001b[0m\u001b[0;34m)\u001b[0m\u001b[0;34m\u001b[0m\u001b[0;34m\u001b[0m\u001b[0m\n\u001b[0m\u001b[1;32m    374\u001b[0m         \u001b[0;32melse\u001b[0m\u001b[0;34m:\u001b[0m\u001b[0;34m\u001b[0m\u001b[0;34m\u001b[0m\u001b[0m\n\u001b[1;32m    375\u001b[0m             \u001b[0mself\u001b[0m\u001b[0;34m.\u001b[0m\u001b[0m_handle\u001b[0m \u001b[0;34m=\u001b[0m \u001b[0mhandle\u001b[0m\u001b[0;34m\u001b[0m\u001b[0;34m\u001b[0m\u001b[0m\n",
      "\u001b[0;31mOSError\u001b[0m: ./dll_py.dll: invalid ELF header"
     ]
    }
   ],
   "source": [
    "# a = ctypes.cdll.LoadLibrary('./dll_py.dll')\n",
    "libc = ctypes.CDLL('./dll_py.dll')"
   ]
  },
  {
   "cell_type": "code",
   "execution_count": 1,
   "id": "collectible-bridal",
   "metadata": {},
   "outputs": [],
   "source": [
    "from functools import reduce"
   ]
  },
  {
   "cell_type": "code",
   "execution_count": 7,
   "id": "revised-paper",
   "metadata": {},
   "outputs": [
    {
     "data": {
      "text/plain": [
       "5040"
      ]
     },
     "execution_count": 7,
     "metadata": {},
     "output_type": "execute_result"
    }
   ],
   "source": [
    "input = 7\n",
    "range_ = range(1, input+1)\n",
    "\n",
    "reduce(lambda x,y: x * y, range_)"
   ]
  },
  {
   "cell_type": "code",
   "execution_count": 34,
   "id": "prescribed-mainland",
   "metadata": {},
   "outputs": [
    {
     "name": "stdout",
     "output_type": "stream",
     "text": [
      "난 3년 만에 이렇게 강해졌다.\n",
      "푸쉬업 100회\n",
      "윗몸일으키기 100회\n",
      "스쿼드 100회\n",
      "그리고 달리기 10km!\n",
      "그리고 그걸 매일 한다!\n"
     ]
    }
   ],
   "source": [
    "class Person:\n",
    "\n",
    "    def __init__(self, start=None, end=None):\n",
    "        self.actions = []\n",
    "\n",
    "    def traning(self, action:str):\n",
    "        self.actions.append(action)\n",
    "        return self\n",
    "\n",
    "    @property\n",
    "    def schedule(self):\n",
    "        return \"\\n\".join(self.actions)\n",
    "\n",
    "saitama = Person()\n",
    "# 원하는 만큼 다양한 traning을 추가할 수 있다.\n",
    "# 또한 체이닝만 구현한다면 다른 객체의 메서드 체인으로 넘어갈 수도 있다.\n",
    "saitama \\\n",
    "    .traning(\"푸쉬업 100회\") \\\n",
    "    .traning(\"윗몸일으키기 100회\") \\\n",
    "    .traning(\"스쿼드 100회\") \\\n",
    "    .traning(\"그리고 달리기 10km!\")\n",
    "\n",
    "print(\"난 3년 만에 이렇게 강해졌다.\")\n",
    "print(saitama.schedule)\n",
    "print(\"그리고 그걸 매일 한다!\")"
   ]
  },
  {
   "cell_type": "code",
   "execution_count": 32,
   "id": "familiar-dynamics",
   "metadata": {},
   "outputs": [
    {
     "name": "stdout",
     "output_type": "stream",
     "text": [
      "난 3년 만에 이렇게 강해졌다.\n",
      "푸쉬업 101회\n",
      "윗몸일으키기 102회\n",
      "스쿼드 103회\n",
      "그리고 달리기 15km!\n",
      "그리고 그걸 매일 한다!\n"
     ]
    }
   ],
   "source": [
    "saitama = Person()\n",
    "# 원하는 만큼 다양한 traning을 추가할 수 있다.\n",
    "# 또한 체이닝만 구현한다면 다른 객체의 메서드 체인으로 넘어갈 수도 있다.\n",
    "saitama.\\\n",
    "    traning(\"푸쉬업 101회\").\\\n",
    "    traning(\"윗몸일으키기 102회\").\\\n",
    "    traning(\"스쿼드 103회\").\\\n",
    "    traning(\"그리고 달리기 15km!\")\n",
    "\n",
    "print(\"난 3년 만에 이렇게 강해졌다.\")\n",
    "print(saitama.schedule)\n",
    "print(\"그리고 그걸 매일 한다!\")"
   ]
  },
  {
   "cell_type": "code",
   "execution_count": 33,
   "id": "careful-mirror",
   "metadata": {},
   "outputs": [
    {
     "data": {
      "text/plain": [
       "<__main__.Person at 0x7fbe3c9f70a0>"
      ]
     },
     "execution_count": 33,
     "metadata": {},
     "output_type": "execute_result"
    }
   ],
   "source": [
    "saitama = Person()\n",
    "# 원하는 만큼 다양한 traning을 추가할 수 있다.\n",
    "# 또한 체이닝만 구현한다면 다른 객체의 메서드 체인으로 넘어갈 수도 있다.\n",
    "saitama \\\n",
    "    .traning(\"푸쉬업 101회\")\\\n",
    "    .traning(\"윗몸일으키기 102회\")\\\n",
    "    .traning(\"스쿼드 103회\")\\\n",
    "    .traning(\"그리고 달리기 15km!\")\n"
   ]
  },
  {
   "cell_type": "code",
   "execution_count": 1,
   "id": "accessible-edinburgh",
   "metadata": {},
   "outputs": [],
   "source": [
    "zero = lambda f: lambda x: x\n",
    "one = lambda f: lambda x: f(x)\n",
    "two = lambda f: lambda x: f(f(x))\n",
    "three = lambda f: lambda x: f(f(f(x)))"
   ]
  },
  {
   "cell_type": "code",
   "execution_count": 3,
   "id": "secondary-documentary",
   "metadata": {},
   "outputs": [
    {
     "data": {
      "text/plain": [
       "<function __main__.<lambda>(f)>"
      ]
     },
     "execution_count": 3,
     "metadata": {},
     "output_type": "execute_result"
    }
   ],
   "source": [
    "zero"
   ]
  },
  {
   "cell_type": "code",
   "execution_count": 5,
   "id": "appreciated-participation",
   "metadata": {},
   "outputs": [
    {
     "data": {
      "text/plain": [
       "<function __main__.<lambda>(f)>"
      ]
     },
     "execution_count": 5,
     "metadata": {},
     "output_type": "execute_result"
    }
   ],
   "source": [
    "printNumber = lambda f: f(lambda n: n + \"+1\")(\"0\")\n",
    "printNumber"
   ]
  },
  {
   "cell_type": "code",
   "execution_count": 6,
   "id": "cutting-perfume",
   "metadata": {},
   "outputs": [
    {
     "data": {
      "text/plain": [
       "'0'"
      ]
     },
     "execution_count": 6,
     "metadata": {},
     "output_type": "execute_result"
    }
   ],
   "source": [
    "printNumber(zero)"
   ]
  },
  {
   "cell_type": "code",
   "execution_count": 7,
   "id": "protective-bread",
   "metadata": {},
   "outputs": [
    {
     "data": {
      "text/plain": [
       "'0+1+1+1'"
      ]
     },
     "execution_count": 7,
     "metadata": {},
     "output_type": "execute_result"
    }
   ],
   "source": [
    "printNumber(three)"
   ]
  },
  {
   "cell_type": "code",
   "execution_count": 14,
   "id": "legitimate-hometown",
   "metadata": {},
   "outputs": [],
   "source": [
    "a = lambda : 1\n"
   ]
  },
  {
   "cell_type": "code",
   "execution_count": 15,
   "id": "animal-model",
   "metadata": {},
   "outputs": [
    {
     "data": {
      "text/plain": [
       "1"
      ]
     },
     "execution_count": 15,
     "metadata": {},
     "output_type": "execute_result"
    }
   ],
   "source": [
    "a()"
   ]
  },
  {
   "cell_type": "code",
   "execution_count": null,
   "id": "stable-bidding",
   "metadata": {},
   "outputs": [],
   "source": []
  }
 ],
 "metadata": {
  "kernelspec": {
   "display_name": "Python 3",
   "language": "python",
   "name": "python3"
  },
  "language_info": {
   "codemirror_mode": {
    "name": "ipython",
    "version": 3
   },
   "file_extension": ".py",
   "mimetype": "text/x-python",
   "name": "python",
   "nbconvert_exporter": "python",
   "pygments_lexer": "ipython3",
   "version": "3.8.8"
  },
  "toc": {
   "base_numbering": 1,
   "nav_menu": {},
   "number_sections": false,
   "sideBar": true,
   "skip_h1_title": false,
   "title_cell": "Table of Contents",
   "title_sidebar": "Contents",
   "toc_cell": false,
   "toc_position": {},
   "toc_section_display": true,
   "toc_window_display": false
  }
 },
 "nbformat": 4,
 "nbformat_minor": 5
}
