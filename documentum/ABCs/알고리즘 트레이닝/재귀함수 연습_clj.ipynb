{
 "cells": [
  {
   "cell_type": "code",
   "execution_count": 5,
   "id": "tested-brave",
   "metadata": {},
   "outputs": [
    {
     "data": {
      "text/plain": [
       "#'user/fibo"
      ]
     },
     "execution_count": 5,
     "metadata": {},
     "output_type": "execute_result"
    }
   ],
   "source": [
    "(defn fibo [n]\n",
    "    (if (<= n 2)\n",
    "        1\n",
    "        (+ (fibo (- n 1)) (fibo (- n 2)))))"
   ]
  },
  {
   "cell_type": "code",
   "execution_count": 160,
   "id": "broken-salem",
   "metadata": {},
   "outputs": [
    {
     "data": {
      "text/plain": [
       "55"
      ]
     },
     "execution_count": 160,
     "metadata": {},
     "output_type": "execute_result"
    }
   ],
   "source": [
    "(fibo 10)"
   ]
  },
  {
   "cell_type": "code",
   "execution_count": 157,
   "id": "signed-printing",
   "metadata": {},
   "outputs": [
    {
     "data": {
      "text/plain": [
       "#'user/r-fibo"
      ]
     },
     "execution_count": 157,
     "metadata": {},
     "output_type": "execute_result"
    }
   ],
   "source": [
    "(defn r-fibo [n] ;; 연습\n",
    "    (let [n (inc n)]\n",
    "        (loop [x [0 1]]\n",
    "            (if (< (count x) n)\n",
    "                (recur (conj x (+ (last x) (x (- (count x) 2)))))\n",
    "                (last x)))))"
   ]
  },
  {
   "cell_type": "code",
   "execution_count": 161,
   "id": "social-death",
   "metadata": {},
   "outputs": [
    {
     "data": {
      "text/plain": [
       "55"
      ]
     },
     "execution_count": 161,
     "metadata": {},
     "output_type": "execute_result"
    }
   ],
   "source": [
    "(r-fibo 10)"
   ]
  },
  {
   "cell_type": "code",
   "execution_count": 21,
   "id": "checked-people",
   "metadata": {},
   "outputs": [
    {
     "data": {
      "text/plain": [
       "#'user/factorial"
      ]
     },
     "execution_count": 21,
     "metadata": {},
     "output_type": "execute_result"
    }
   ],
   "source": [
    "(defn factorial [n]\n",
    "    (if (<= n 1)\n",
    "        1\n",
    "        (* n (factorial (dec n)))))"
   ]
  },
  {
   "cell_type": "code",
   "execution_count": 45,
   "id": "cloudy-astrology",
   "metadata": {},
   "outputs": [
    {
     "data": {
      "text/plain": [
       "2432902008176640000"
      ]
     },
     "execution_count": 45,
     "metadata": {},
     "output_type": "execute_result"
    }
   ],
   "source": [
    "(factorial 20)"
   ]
  },
  {
   "cell_type": "code",
   "execution_count": 50,
   "id": "fifteen-acquisition",
   "metadata": {},
   "outputs": [
    {
     "data": {
      "text/plain": [
       "#'user/r-factorial"
      ]
     },
     "execution_count": 50,
     "metadata": {},
     "output_type": "execute_result"
    }
   ],
   "source": [
    "(defn r-factorial [n]\n",
    "    (loop [n n acc 1]\n",
    "        (if (<= n 1)\n",
    "            acc\n",
    "            (recur (dec n) (* acc n)))))"
   ]
  },
  {
   "cell_type": "code",
   "execution_count": 51,
   "id": "latter-spyware",
   "metadata": {},
   "outputs": [
    {
     "data": {
      "text/plain": [
       "2432902008176640000"
      ]
     },
     "execution_count": 51,
     "metadata": {},
     "output_type": "execute_result"
    }
   ],
   "source": [
    "(r-factorial 20)"
   ]
  },
  {
   "cell_type": "code",
   "execution_count": 58,
   "id": "appreciated-testimony",
   "metadata": {},
   "outputs": [
    {
     "data": {
      "text/plain": [
       "#'user/q-reverse"
      ]
     },
     "execution_count": 58,
     "metadata": {},
     "output_type": "execute_result"
    }
   ],
   "source": [
    "(defn q-reverse [s]\n",
    "    (first s))"
   ]
  },
  {
   "cell_type": "code",
   "execution_count": 59,
   "id": "greatest-action",
   "metadata": {},
   "outputs": [
    {
     "data": {
      "text/plain": [
       "\\h"
      ]
     },
     "execution_count": 59,
     "metadata": {},
     "output_type": "execute_result"
    }
   ],
   "source": [
    "(q-reverse \"hello\")"
   ]
  },
  {
   "cell_type": "code",
   "execution_count": null,
   "id": "floppy-controversy",
   "metadata": {},
   "outputs": [],
   "source": []
  }
 ],
 "metadata": {
  "kernelspec": {
   "display_name": "Clojure (clojupyter-0.3.2)",
   "language": "clojure",
   "name": "clojupyter-0.3.2"
  },
  "language_info": {
   "file_extension": ".clj",
   "mimetype": "text/x-clojure",
   "name": "clojure",
   "version": "1.10.1"
  },
  "toc": {
   "base_numbering": 1,
   "nav_menu": {},
   "number_sections": true,
   "sideBar": true,
   "skip_h1_title": false,
   "title_cell": "Table of Contents",
   "title_sidebar": "Contents",
   "toc_cell": false,
   "toc_position": {},
   "toc_section_display": true,
   "toc_window_display": false
  },
  "varInspector": {
   "cols": {
    "lenName": 16,
    "lenType": 16,
    "lenVar": 40
   },
   "kernels_config": {
    "python": {
     "delete_cmd_postfix": "",
     "delete_cmd_prefix": "del ",
     "library": "var_list.py",
     "varRefreshCmd": "print(var_dic_list())"
    },
    "r": {
     "delete_cmd_postfix": ") ",
     "delete_cmd_prefix": "rm(",
     "library": "var_list.r",
     "varRefreshCmd": "cat(var_dic_list()) "
    }
   },
   "types_to_exclude": [
    "module",
    "function",
    "builtin_function_or_method",
    "instance",
    "_Feature"
   ],
   "window_display": false
  }
 },
 "nbformat": 4,
 "nbformat_minor": 5
}
