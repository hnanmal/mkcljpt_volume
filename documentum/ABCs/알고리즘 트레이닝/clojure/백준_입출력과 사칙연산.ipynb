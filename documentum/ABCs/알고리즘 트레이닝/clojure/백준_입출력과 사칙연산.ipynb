{
 "cells": [
  {
   "cell_type": "markdown",
   "id": "parallel-minnesota",
   "metadata": {},
   "source": [
    "### 2557 Hello World"
   ]
  },
  {
   "cell_type": "code",
   "execution_count": 1,
   "id": "intellectual-crystal",
   "metadata": {},
   "outputs": [
    {
     "name": "stdout",
     "output_type": "stream",
     "text": [
      "Hello World!\n"
     ]
    },
    {
     "data": {
      "text/plain": [
       "nil"
      ]
     },
     "execution_count": 1,
     "metadata": {},
     "output_type": "execute_result"
    }
   ],
   "source": [
    "(println \"Hello World!\")"
   ]
  },
  {
   "cell_type": "markdown",
   "id": "governmental-champion",
   "metadata": {},
   "source": [
    "### 1000 A+B"
   ]
  },
  {
   "cell_type": "code",
   "execution_count": 2,
   "id": "smoking-alcohol",
   "metadata": {},
   "outputs": [
    {
     "name": "stdout",
     "output_type": "stream",
     "text": [
      "Enter value: 7 7\n",
      "14\n"
     ]
    },
    {
     "data": {
      "text/plain": [
       "nil"
      ]
     },
     "execution_count": 2,
     "metadata": {},
     "output_type": "execute_result"
    }
   ],
   "source": [
    "(ns bj_sol\n",
    "    (:require [clojure.string :as str]))\n",
    "\n",
    ";; (defn parse-int [s]\n",
    ";;   (Integer. (re-find #\"[0-9]*\" s)))\n",
    "\n",
    "(defn parse-int [s]\n",
    "  (Integer. s))\n",
    "\n",
    "(let [[a b]\n",
    "      (map parse-int (str/split (read-line) #\" \"))]\n",
    "    (println (+ a b)))\n"
   ]
  },
  {
   "cell_type": "code",
   "execution_count": 3,
   "id": "representative-bride",
   "metadata": {},
   "outputs": [
    {
     "name": "stdout",
     "output_type": "stream",
     "text": [
      "Enter value: 7 7\n",
      "14\n"
     ]
    },
    {
     "data": {
      "text/plain": [
       "nil"
      ]
     },
     "execution_count": 3,
     "metadata": {},
     "output_type": "execute_result"
    }
   ],
   "source": [
    "(defn sum-str [s]\n",
    "    (reduce + (map parse-int (str/split s #\" \"))))\n",
    "\n",
    "(println (sum-str (read-line)))"
   ]
  },
  {
   "cell_type": "code",
   "execution_count": 4,
   "id": "foreign-chancellor",
   "metadata": {},
   "outputs": [
    {
     "name": "stdout",
     "output_type": "stream",
     "text": [
      "Enter value: 7 7\n",
      "14\n"
     ]
    },
    {
     "data": {
      "text/plain": [
       "nil"
      ]
     },
     "execution_count": 4,
     "metadata": {},
     "output_type": "execute_result"
    }
   ],
   "source": [
    "(defn sum-str2 [s]\n",
    "    (-> s\n",
    "        (str/split #\" \")\n",
    "        ((partial map #(Integer. %)))\n",
    ";;         ((partial map parse-int))\n",
    "        ((partial reduce +))))\n",
    "\n",
    "(println (sum-str2 (read-line)))"
   ]
  },
  {
   "cell_type": "code",
   "execution_count": 7,
   "id": "loving-trash",
   "metadata": {
    "scrolled": true
   },
   "outputs": [
    {
     "name": "stdout",
     "output_type": "stream",
     "text": [
      "Enter value: 8 8\n",
      "16\n"
     ]
    },
    {
     "data": {
      "text/plain": [
       "nil"
      ]
     },
     "execution_count": 7,
     "metadata": {},
     "output_type": "execute_result"
    }
   ],
   "source": [
    "(defn sum-str3 [s]\n",
    "    (->> s\n",
    "        (#(str/split % #\" \"))\n",
    "        (map #(Integer. %)) ; (map parse-int)\n",
    "        (reduce +)))\n",
    "\n",
    "(println (sum-str3 (read-line)))"
   ]
  },
  {
   "cell_type": "code",
   "execution_count": 6,
   "id": "handy-constitutional",
   "metadata": {
    "scrolled": true
   },
   "outputs": [
    {
     "data": {
      "text/plain": [
       "3"
      ]
     },
     "execution_count": 6,
     "metadata": {},
     "output_type": "execute_result"
    }
   ],
   "source": [
    "(Integer. \"3\")"
   ]
  },
  {
   "cell_type": "code",
   "execution_count": null,
   "id": "limiting-practice",
   "metadata": {},
   "outputs": [],
   "source": []
  }
 ],
 "metadata": {
  "kernelspec": {
   "display_name": "Clojure (clojupyter-0.3.2)",
   "language": "clojure",
   "name": "clojupyter-0.3.2"
  },
  "language_info": {
   "file_extension": ".clj",
   "mimetype": "text/x-clojure",
   "name": "clojure",
   "version": "1.10.1"
  },
  "toc": {
   "base_numbering": 1,
   "nav_menu": {},
   "number_sections": false,
   "sideBar": true,
   "skip_h1_title": false,
   "title_cell": "Table of Contents",
   "title_sidebar": "Contents",
   "toc_cell": false,
   "toc_position": {},
   "toc_section_display": true,
   "toc_window_display": false
  }
 },
 "nbformat": 4,
 "nbformat_minor": 5
}
