{
 "cells": [
  {
   "cell_type": "markdown",
   "id": "occasional-liverpool",
   "metadata": {},
   "source": [
    "### 1330 두 수 비교하기"
   ]
  },
  {
   "cell_type": "code",
   "execution_count": 4,
   "id": "civil-restoration",
   "metadata": {},
   "outputs": [
    {
     "data": {
      "text/plain": [
       "nil"
      ]
     },
     "execution_count": 4,
     "metadata": {},
     "output_type": "execute_result"
    }
   ],
   "source": [
    "(ns bj_sol\n",
    "    (:require [clojure.string :as str]))"
   ]
  },
  {
   "cell_type": "code",
   "execution_count": 2,
   "id": "frequent-noise",
   "metadata": {},
   "outputs": [
    {
     "name": "stdout",
     "output_type": "stream",
     "text": [
      "Enter value: 2 3\n",
      "<\n"
     ]
    },
    {
     "data": {
      "text/plain": [
       "nil"
      ]
     },
     "execution_count": 2,
     "metadata": {},
     "output_type": "execute_result"
    }
   ],
   "source": [
    "(let [s (read-line)\n",
    "      s (clojure.string/split s #\" \")\n",
    "      [a b] (map #(Integer. %) s)]\n",
    "    (let [res (cond\n",
    "                  (> a b) \">\"\n",
    "                  (< a b) \"<\"\n",
    "                  :else \"==\")]\n",
    "        (println res)))"
   ]
  },
  {
   "cell_type": "markdown",
   "id": "peripheral-choice",
   "metadata": {},
   "source": [
    "### 9498 시험 성적"
   ]
  },
  {
   "cell_type": "code",
   "execution_count": 3,
   "id": "connected-professor",
   "metadata": {},
   "outputs": [
    {
     "name": "stdout",
     "output_type": "stream",
     "text": [
      "Enter value: 30\n",
      "F\n"
     ]
    },
    {
     "data": {
      "text/plain": [
       "nil"
      ]
     },
     "execution_count": 3,
     "metadata": {},
     "output_type": "execute_result"
    }
   ],
   "source": [
    "(let [s (read-line)\n",
    "      s (Integer. s)]\n",
    "    (let [res (cond\n",
    "                  (>= s 90) \"A\"\n",
    "                  (>= s 80) \"B\"\n",
    "                  (>= s 70) \"C\"\n",
    "                  (>= s 60) \"D\"\n",
    "                  :else \"F\")]\n",
    "        (println res)))"
   ]
  },
  {
   "cell_type": "markdown",
   "id": "agreed-internet",
   "metadata": {},
   "source": [
    "### 2753 윤년"
   ]
  },
  {
   "cell_type": "code",
   "execution_count": 4,
   "id": "listed-public",
   "metadata": {},
   "outputs": [
    {
     "name": "stdout",
     "output_type": "stream",
     "text": [
      "Enter value: 1999\n",
      "0\n"
     ]
    },
    {
     "data": {
      "text/plain": [
       "nil"
      ]
     },
     "execution_count": 4,
     "metadata": {},
     "output_type": "execute_result"
    }
   ],
   "source": [
    "(let [s (read-line)\n",
    "      s (Integer. s)]\n",
    "    (let [res (cond\n",
    "                  (or                   \n",
    "                   (and (= (rem s 4) 0) (not= (rem s 100) 0))\n",
    "                   (= (rem s 400) 0)) 1\n",
    "                  :else 0)]\n",
    "        (println res)))"
   ]
  },
  {
   "cell_type": "markdown",
   "id": "governing-fellowship",
   "metadata": {},
   "source": [
    "### 14681 사분면 고르기"
   ]
  },
  {
   "cell_type": "code",
   "execution_count": 7,
   "id": "express-bracket",
   "metadata": {},
   "outputs": [
    {
     "name": "stdout",
     "output_type": "stream",
     "text": [
      "Enter value: 1\n",
      "Enter value: 3\n",
      "1\n"
     ]
    },
    {
     "data": {
      "text/plain": [
       "nil"
      ]
     },
     "execution_count": 7,
     "metadata": {},
     "output_type": "execute_result"
    }
   ],
   "source": [
    "(let [x (read-line) x (Integer. x)\n",
    "      y (read-line) y (Integer. y)]\n",
    "    (let [res (cond\n",
    "                  (and (> x 0) (> y 0)) 1\n",
    "                  (and (< x 0) (> y 0)) 2\n",
    "                  (and (< x 0) (< y 0)) 3\n",
    "                  (and (> x 0) (< y 0)) 4\n",
    "                  :else \"n/a\")]\n",
    "        (println res)))"
   ]
  },
  {
   "cell_type": "markdown",
   "id": "national-passport",
   "metadata": {},
   "source": [
    "### 2884 알람 시계"
   ]
  },
  {
   "cell_type": "code",
   "execution_count": 5,
   "id": "minus-calvin",
   "metadata": {},
   "outputs": [
    {
     "name": "stdout",
     "output_type": "stream",
     "text": [
      "Enter value: 10 10\n",
      "9 25\n"
     ]
    },
    {
     "data": {
      "text/plain": [
       "nil"
      ]
     },
     "execution_count": 5,
     "metadata": {},
     "output_type": "execute_result"
    }
   ],
   "source": [
    "(defn find-alarm-time []\n",
    "    (let [s (clojure.string/split (read-line) #\" \")\n",
    "          [h m] (map #(Integer. %) s)]\n",
    "        (let [[h2 m2] [h (- m 45)]]\n",
    "            (if (< m2 0)\n",
    "                 (if (= h 0)\n",
    "                     (println (dec 24) (+ 60 m2))\n",
    "                     (println (dec h2) (+ 60 m2)))\n",
    "                 (println h2 m2)))))\n",
    "\n",
    "(find-alarm-time)"
   ]
  },
  {
   "cell_type": "code",
   "execution_count": 3,
   "id": "indoor-category",
   "metadata": {},
   "outputs": [
    {
     "name": "stdout",
     "output_type": "stream",
     "text": [
      "Enter value: 10 10\n",
      "9 25\n"
     ]
    },
    {
     "data": {
      "text/plain": [
       "nil"
      ]
     },
     "execution_count": 3,
     "metadata": {},
     "output_type": "execute_result"
    }
   ],
   "source": [
    "(defn find-alarm-time []\n",
    "    (let [s (clojure.string/split (read-line) #\" \")\n",
    "          [h m] (map #(Integer. %) s)]\n",
    "        (let [[h2 m2] [h (- m 45)]]\n",
    "            (apply println \n",
    "                   (if (< m2 0)                  \n",
    "                       (if (= h 0)\n",
    "                           [(dec 24) (+ 60 m2)]\n",
    "                           [(dec h2) (+ 60 m2)])\n",
    "                       [h2 m2])))))\n",
    "\n",
    "(find-alarm-time)"
   ]
  },
  {
   "cell_type": "markdown",
   "id": "premium-myrtle",
   "metadata": {},
   "source": [
    "### 2525 오븐시계"
   ]
  },
  {
   "cell_type": "code",
   "execution_count": 1,
   "id": "informative-evolution",
   "metadata": {},
   "outputs": [
    {
     "name": "stdout",
     "output_type": "stream",
     "text": [
      "Enter value: 14 30\n",
      "Enter value: 20\n",
      "14 50\n"
     ]
    },
    {
     "data": {
      "text/plain": [
       "nil"
      ]
     },
     "execution_count": 1,
     "metadata": {},
     "output_type": "execute_result"
    }
   ],
   "source": [
    "(defn destruct-input []\n",
    "    (let [cur-time (map #(Integer. %) (clojure.string/split (read-line) #\" \"))\n",
    "          [duration] (map #(Integer. %) (clojure.string/split (read-line) #\" \"))]\n",
    "        [cur-time duration]))\n",
    "\n",
    "\n",
    "(defn find-oven-end-time [[cur-time duration]]\n",
    "    (let [[h m] cur-time]\n",
    "        (if (> (+ m duration) 60)\n",
    "            (if (= h 23)\n",
    "                (println\n",
    "                 (- (+ h (quot (+ m duration) 60)) 24)\n",
    "                 (rem (+ m duration) 60))\n",
    "                (println\n",
    "                 (+ h (quot (+ m duration) 60))\n",
    "                 (rem (+ m duration) 60)))\n",
    "            (println \n",
    "             h \n",
    "             (+ m duration)))))\n",
    "\n",
    "(find-oven-end-time (destruct-input))"
   ]
  },
  {
   "cell_type": "code",
   "execution_count": 3,
   "id": "strategic-tracy",
   "metadata": {},
   "outputs": [
    {
     "name": "stdout",
     "output_type": "stream",
     "text": [
      "Enter value: 17 40\n",
      "Enter value: 80\n",
      "19 0\n"
     ]
    },
    {
     "data": {
      "text/plain": [
       "nil"
      ]
     },
     "execution_count": 3,
     "metadata": {},
     "output_type": "execute_result"
    }
   ],
   "source": [
    "(defn destruct-input []\n",
    "    (let [cur-time (map #(Integer. %) (clojure.string/split (read-line) #\" \"))\n",
    "          [duration] (map #(Integer. %) (clojure.string/split (read-line) #\" \"))]\n",
    "        [cur-time duration]))\n",
    "\n",
    "\n",
    "(defn find-oven-end-time [[cur-time duration]]\n",
    "    (let [[h m] cur-time]\n",
    "        (apply println \n",
    "               (if (> (+ m duration) 60)\n",
    "                   (if (= h 23)\n",
    "                       [(- (+ h (quot (+ m duration) 60)) 24)\n",
    "                        (rem (+ m duration) 60)]\n",
    "                       [(+ h (quot (+ m duration) 60))\n",
    "                        (rem (+ m duration) 60)])\n",
    "                   [h (+ m duration)]))))\n",
    "\n",
    "(find-oven-end-time (destruct-input))"
   ]
  },
  {
   "cell_type": "markdown",
   "id": "first-matrix",
   "metadata": {},
   "source": [
    "### 2480 주사위 세개"
   ]
  },
  {
   "cell_type": "code",
   "execution_count": 4,
   "id": "another-basis",
   "metadata": {},
   "outputs": [
    {
     "name": "stdout",
     "output_type": "stream",
     "text": [
      "Enter value: 3 3 6\n"
     ]
    },
    {
     "data": {
      "text/plain": [
       "#'user/input"
      ]
     },
     "execution_count": 4,
     "metadata": {},
     "output_type": "execute_result"
    }
   ],
   "source": [
    "(defn destruct-input []\n",
    "    (let [tri-num (map #(Integer. %) (clojure.string/split (read-line) #\" \"))]\n",
    "        tri-num))\n",
    "\n",
    "(def input (destruct-input))"
   ]
  },
  {
   "cell_type": "code",
   "execution_count": 5,
   "id": "democratic-indicator",
   "metadata": {
    "scrolled": true
   },
   "outputs": [
    {
     "data": {
      "text/plain": [
       "(3 3 6)"
      ]
     },
     "execution_count": 5,
     "metadata": {},
     "output_type": "execute_result"
    }
   ],
   "source": [
    "input"
   ]
  },
  {
   "cell_type": "code",
   "execution_count": 121,
   "id": "korean-indianapolis",
   "metadata": {},
   "outputs": [
    {
     "name": "stdout",
     "output_type": "stream",
     "text": [
      "Enter value: 6 2 5\n"
     ]
    },
    {
     "data": {
      "text/plain": [
       "600"
      ]
     },
     "execution_count": 121,
     "metadata": {},
     "output_type": "execute_result"
    }
   ],
   "source": [
    "(defn destruct-input []\n",
    "    (let [tri-num (map #(Integer. %) (clojure.string/split (read-line) #\" \"))]\n",
    "        tri-num))\n",
    "\n",
    "(defn sort-map-by-count [m]\n",
    "    (sort-by #(count (nnext %)) m))\n",
    "\n",
    "(defn find-price [coll]\n",
    "    (let [m (group-by + coll)]\n",
    "        (cond\n",
    "            (= (count m) 1) \n",
    "                (+ 10000 (* 1000 (ffirst m)))\n",
    "            (= (count m) 2) \n",
    "                (-> m\n",
    "                    sort-map-by-count\n",
    "                    ffirst\n",
    "                    (* 100)\n",
    "                    (+ 1000))\n",
    "            :else\n",
    "                (* 100 (apply max (map first m))))))\n",
    "\n",
    "(find-price (destruct-input))"
   ]
  },
  {
   "cell_type": "code",
   "execution_count": null,
   "id": "alleged-montreal",
   "metadata": {},
   "outputs": [],
   "source": []
  }
 ],
 "metadata": {
  "kernelspec": {
   "display_name": "Clojure (clojupyter-0.3.2)",
   "language": "clojure",
   "name": "clojupyter-0.3.2"
  },
  "language_info": {
   "file_extension": ".clj",
   "mimetype": "text/x-clojure",
   "name": "clojure",
   "version": "1.10.1"
  },
  "toc": {
   "base_numbering": 1,
   "nav_menu": {},
   "number_sections": false,
   "sideBar": true,
   "skip_h1_title": false,
   "title_cell": "Table of Contents",
   "title_sidebar": "Contents",
   "toc_cell": false,
   "toc_position": {},
   "toc_section_display": true,
   "toc_window_display": false
  },
  "varInspector": {
   "cols": {
    "lenName": 16,
    "lenType": 16,
    "lenVar": 40
   },
   "kernels_config": {
    "python": {
     "delete_cmd_postfix": "",
     "delete_cmd_prefix": "del ",
     "library": "var_list.py",
     "varRefreshCmd": "print(var_dic_list())"
    },
    "r": {
     "delete_cmd_postfix": ") ",
     "delete_cmd_prefix": "rm(",
     "library": "var_list.r",
     "varRefreshCmd": "cat(var_dic_list()) "
    }
   },
   "types_to_exclude": [
    "module",
    "function",
    "builtin_function_or_method",
    "instance",
    "_Feature"
   ],
   "window_display": false
  }
 },
 "nbformat": 4,
 "nbformat_minor": 5
}
