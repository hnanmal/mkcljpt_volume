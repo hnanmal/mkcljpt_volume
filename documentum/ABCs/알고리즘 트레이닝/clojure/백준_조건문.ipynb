{
 "cells": [
  {
   "cell_type": "markdown",
   "id": "occasional-liverpool",
   "metadata": {},
   "source": [
    "### 1330 두 수 비교하기"
   ]
  },
  {
   "cell_type": "code",
   "execution_count": 3,
   "id": "civil-restoration",
   "metadata": {},
   "outputs": [
    {
     "data": {
      "text/plain": [
       "nil"
      ]
     },
     "execution_count": 3,
     "metadata": {},
     "output_type": "execute_result"
    }
   ],
   "source": [
    "(ns bj_sol\n",
    "    (:require [clojure.string :as str]))"
   ]
  },
  {
   "cell_type": "code",
   "execution_count": 16,
   "id": "frequent-noise",
   "metadata": {},
   "outputs": [
    {
     "name": "stdout",
     "output_type": "stream",
     "text": [
      "Enter value: 1 2\n",
      "<\n"
     ]
    },
    {
     "data": {
      "text/plain": [
       "nil"
      ]
     },
     "execution_count": 16,
     "metadata": {},
     "output_type": "execute_result"
    }
   ],
   "source": [
    "(let [s (read-line)\n",
    "      s (clojure.string/split s #\" \")\n",
    "      [a b] (map #(Integer. %) s)]\n",
    "    (let [res (cond\n",
    "                  (> a b) \">\"\n",
    "                  (< a b) \"<\"\n",
    "                  :else \"==\")]\n",
    "        (println res)))"
   ]
  },
  {
   "cell_type": "markdown",
   "id": "peripheral-choice",
   "metadata": {},
   "source": [
    "### 9498 시험 성적"
   ]
  },
  {
   "cell_type": "code",
   "execution_count": 18,
   "id": "connected-professor",
   "metadata": {},
   "outputs": [
    {
     "name": "stdout",
     "output_type": "stream",
     "text": [
      "Enter value: 65\n",
      "D\n"
     ]
    },
    {
     "data": {
      "text/plain": [
       "nil"
      ]
     },
     "execution_count": 18,
     "metadata": {},
     "output_type": "execute_result"
    }
   ],
   "source": [
    "(let [s (read-line)\n",
    "      s (Integer. s)]\n",
    "    (let [res (cond\n",
    "                  (>= s 90) \"A\"\n",
    "                  (>= s 80) \"B\"\n",
    "                  (>= s 70) \"C\"\n",
    "                  (>= s 60) \"D\"\n",
    "                  :else \"F\")]\n",
    "        (println res)))"
   ]
  },
  {
   "cell_type": "markdown",
   "id": "agreed-internet",
   "metadata": {},
   "source": [
    "### 2753 윤년"
   ]
  },
  {
   "cell_type": "code",
   "execution_count": 58,
   "id": "listed-public",
   "metadata": {},
   "outputs": [
    {
     "name": "stdout",
     "output_type": "stream",
     "text": [
      "Enter value: 2000\n",
      "1\n"
     ]
    },
    {
     "data": {
      "text/plain": [
       "nil"
      ]
     },
     "execution_count": 58,
     "metadata": {},
     "output_type": "execute_result"
    }
   ],
   "source": [
    "(let [s (read-line)\n",
    "      s (Integer. s)]\n",
    "    (let [res (cond\n",
    "                  (or                   \n",
    "                   (and (= (rem s 4) 0) (not= (rem s 100) 0))\n",
    "                   (= (rem s 400) 0)) 1\n",
    "                  :else 0)]\n",
    "        (println res)))"
   ]
  },
  {
   "cell_type": "markdown",
   "id": "governing-fellowship",
   "metadata": {},
   "source": [
    "### 14681 사분면 고르기"
   ]
  },
  {
   "cell_type": "code",
   "execution_count": 64,
   "id": "express-bracket",
   "metadata": {},
   "outputs": [
    {
     "name": "stdout",
     "output_type": "stream",
     "text": [
      "Enter value: 9\n",
      "Enter value: -13\n",
      "4\n"
     ]
    },
    {
     "data": {
      "text/plain": [
       "nil"
      ]
     },
     "execution_count": 64,
     "metadata": {},
     "output_type": "execute_result"
    }
   ],
   "source": [
    "(let [x (read-line) x (Integer. x)\n",
    "      y (read-line) y (Integer. y)]\n",
    "    (let [res (cond\n",
    "                  (and (> x 0) (> y 0)) 1\n",
    "                  (and (< x 0) (> y 0)) 2\n",
    "                  (and (< x 0) (< y 0)) 3\n",
    "                  (and (> x 0) (< y 0)) 4\n",
    "                  :else \"n/a\")]\n",
    "        (println res)))"
   ]
  },
  {
   "cell_type": "code",
   "execution_count": null,
   "id": "geographic-parent",
   "metadata": {},
   "outputs": [],
   "source": []
  }
 ],
 "metadata": {
  "kernelspec": {
   "display_name": "Clojure (clojupyter-0.3.2)",
   "language": "clojure",
   "name": "clojupyter-0.3.2"
  },
  "language_info": {
   "file_extension": ".clj",
   "mimetype": "text/x-clojure",
   "name": "clojure",
   "version": "1.10.1"
  },
  "toc": {
   "base_numbering": 1,
   "nav_menu": {},
   "number_sections": false,
   "sideBar": true,
   "skip_h1_title": false,
   "title_cell": "Table of Contents",
   "title_sidebar": "Contents",
   "toc_cell": false,
   "toc_position": {},
   "toc_section_display": true,
   "toc_window_display": false
  }
 },
 "nbformat": 4,
 "nbformat_minor": 5
}
