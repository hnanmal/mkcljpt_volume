{
 "cells": [
  {
   "cell_type": "markdown",
   "id": "fluid-patrol",
   "metadata": {},
   "source": [
    "## Problem 30, Compress a Sequence\n",
    "Difficulty: easy\n",
    "Write a function which removes consecutive duplicates from a sequence."
   ]
  },
  {
   "cell_type": "code",
   "execution_count": 3,
   "id": "danish-subscription",
   "metadata": {},
   "outputs": [],
   "source": [
    "coll = [1, 1, 2, 3, 3, 2, 2, 3]"
   ]
  },
  {
   "cell_type": "code",
   "execution_count": 5,
   "id": "completed-philip",
   "metadata": {},
   "outputs": [
    {
     "data": {
      "text/plain": [
       "[(0, 1), (1, 1), (2, 2), (3, 3), (4, 3), (5, 2), (6, 2), (7, 3)]"
      ]
     },
     "execution_count": 5,
     "metadata": {},
     "output_type": "execute_result"
    }
   ],
   "source": [
    "list(enumerate(coll))"
   ]
  },
  {
   "cell_type": "code",
   "execution_count": 11,
   "id": "outstanding-aruba",
   "metadata": {},
   "outputs": [],
   "source": [
    "def comp_seq(coll):\n",
    "    res = []\n",
    "    for i,v in enumerate(coll):\n",
    "        if v != coll[i-1]:\n",
    "            res.append(v)\n",
    "        else:\n",
    "            pass\n",
    "    return res"
   ]
  },
  {
   "cell_type": "code",
   "execution_count": 10,
   "id": "shared-austin",
   "metadata": {},
   "outputs": [
    {
     "data": {
      "text/plain": [
       "[1, 2, 3, 2, 3]"
      ]
     },
     "execution_count": 10,
     "metadata": {},
     "output_type": "execute_result"
    }
   ],
   "source": [
    "res"
   ]
  },
  {
   "cell_type": "code",
   "execution_count": 12,
   "id": "legendary-victory",
   "metadata": {},
   "outputs": [
    {
     "data": {
      "text/plain": [
       "[1, 2, 3, 2, 3]"
      ]
     },
     "execution_count": 12,
     "metadata": {},
     "output_type": "execute_result"
    }
   ],
   "source": [
    "comp_seq(coll)"
   ]
  },
  {
   "cell_type": "code",
   "execution_count": 14,
   "id": "scheduled-address",
   "metadata": {},
   "outputs": [
    {
     "data": {
      "text/plain": [
       "[[3, 4], [1, 2]]"
      ]
     },
     "execution_count": 14,
     "metadata": {},
     "output_type": "execute_result"
    }
   ],
   "source": [
    "comp_seq([[1, 2], [1, 2], [3, 4], [1, 2]])"
   ]
  },
  {
   "cell_type": "code",
   "execution_count": null,
   "id": "ranking-advantage",
   "metadata": {},
   "outputs": [],
   "source": []
  }
 ],
 "metadata": {
  "kernelspec": {
   "display_name": "Python 3",
   "language": "python",
   "name": "python3"
  },
  "language_info": {
   "codemirror_mode": {
    "name": "ipython",
    "version": 3
   },
   "file_extension": ".py",
   "mimetype": "text/x-python",
   "name": "python",
   "nbconvert_exporter": "python",
   "pygments_lexer": "ipython3",
   "version": "3.8.8"
  },
  "toc": {
   "base_numbering": 1,
   "nav_menu": {},
   "number_sections": false,
   "sideBar": true,
   "skip_h1_title": false,
   "title_cell": "Table of Contents",
   "title_sidebar": "Contents",
   "toc_cell": false,
   "toc_position": {},
   "toc_section_display": true,
   "toc_window_display": false
  }
 },
 "nbformat": 4,
 "nbformat_minor": 5
}
