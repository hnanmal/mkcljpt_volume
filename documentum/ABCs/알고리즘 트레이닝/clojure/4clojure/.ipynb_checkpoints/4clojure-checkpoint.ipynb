{
 "cells": [
  {
   "cell_type": "markdown",
   "id": "respiratory-server",
   "metadata": {},
   "source": [
    "## Problem 1, Nothing but the Truth\n",
    "Difficulty: elementary\n",
    "Complete the expression so it will evaluate to true."
   ]
  },
  {
   "cell_type": "code",
   "execution_count": 1,
   "id": "jewish-effort",
   "metadata": {},
   "outputs": [
    {
     "data": {
      "text/plain": [
       "#'user/__"
      ]
     },
     "execution_count": 1,
     "metadata": {},
     "output_type": "execute_result"
    }
   ],
   "source": [
    "(def __ true)"
   ]
  },
  {
   "cell_type": "code",
   "execution_count": 2,
   "id": "quantitative-brunei",
   "metadata": {},
   "outputs": [
    {
     "data": {
      "text/plain": [
       "true"
      ]
     },
     "execution_count": 2,
     "metadata": {},
     "output_type": "execute_result"
    }
   ],
   "source": [
    "(= __ true)"
   ]
  },
  {
   "cell_type": "markdown",
   "id": "experienced-sydney",
   "metadata": {},
   "source": [
    "## Problem 2, Simple Math\n",
    "Difficulty: elementary\n",
    "Innermost forms are evaluated first."
   ]
  },
  {
   "cell_type": "code",
   "execution_count": 3,
   "id": "weighted-armor",
   "metadata": {},
   "outputs": [
    {
     "data": {
      "text/plain": [
       "#'user/__"
      ]
     },
     "execution_count": 3,
     "metadata": {},
     "output_type": "execute_result"
    }
   ],
   "source": [
    "(def __ 4)"
   ]
  },
  {
   "cell_type": "code",
   "execution_count": 4,
   "id": "ordinary-garage",
   "metadata": {},
   "outputs": [
    {
     "data": {
      "text/plain": [
       "true"
      ]
     },
     "execution_count": 4,
     "metadata": {},
     "output_type": "execute_result"
    }
   ],
   "source": [
    "(= (- 10 (* 2 3)) __)"
   ]
  },
  {
   "cell_type": "markdown",
   "id": "warming-photography",
   "metadata": {},
   "source": [
    "## Problem 3, Strings\n",
    "Difficulty: elementary\n",
    "Clojure strings are Java strings, so you can use Java string methods on them."
   ]
  },
  {
   "cell_type": "code",
   "execution_count": 5,
   "id": "charitable-adapter",
   "metadata": {},
   "outputs": [
    {
     "data": {
      "text/plain": [
       "#'user/__"
      ]
     },
     "execution_count": 5,
     "metadata": {},
     "output_type": "execute_result"
    }
   ],
   "source": [
    "(def __ \"HELLO WORLD\")"
   ]
  },
  {
   "cell_type": "code",
   "execution_count": 6,
   "id": "purple-north",
   "metadata": {},
   "outputs": [
    {
     "data": {
      "text/plain": [
       "true"
      ]
     },
     "execution_count": 6,
     "metadata": {},
     "output_type": "execute_result"
    }
   ],
   "source": [
    "(= __ (.toUpperCase \"hello world\"))"
   ]
  },
  {
   "cell_type": "markdown",
   "id": "aggressive-answer",
   "metadata": {},
   "source": [
    "## Problem 4, Lists\n",
    "Difficulty: elementary\n",
    "Lists can be constructed with either a function or a quoted form."
   ]
  },
  {
   "cell_type": "code",
   "execution_count": 7,
   "id": "actual-australian",
   "metadata": {},
   "outputs": [
    {
     "data": {
      "text/plain": [
       "true"
      ]
     },
     "execution_count": 7,
     "metadata": {},
     "output_type": "execute_result"
    }
   ],
   "source": [
    "(= (list :a :b :c) '(:a :b :c))"
   ]
  },
  {
   "cell_type": "markdown",
   "id": "forbidden-disposal",
   "metadata": {},
   "source": [
    "## Problem 5, conj on lists\n",
    "Difficulty: elementary\n",
    "When operating on a list, the conj function will return a new list with one or more items \"added\" to the front."
   ]
  },
  {
   "cell_type": "code",
   "execution_count": 8,
   "id": "palestinian-dependence",
   "metadata": {},
   "outputs": [
    {
     "data": {
      "text/plain": [
       "#'user/__"
      ]
     },
     "execution_count": 8,
     "metadata": {},
     "output_type": "execute_result"
    }
   ],
   "source": [
    "(def __ '(1 2 3 4))"
   ]
  },
  {
   "cell_type": "code",
   "execution_count": 9,
   "id": "infrared-healthcare",
   "metadata": {},
   "outputs": [
    {
     "data": {
      "text/plain": [
       "true"
      ]
     },
     "execution_count": 9,
     "metadata": {},
     "output_type": "execute_result"
    }
   ],
   "source": [
    "(= __ (conj '(2 3 4) 1))"
   ]
  },
  {
   "cell_type": "code",
   "execution_count": 10,
   "id": "ceramic-darwin",
   "metadata": {},
   "outputs": [
    {
     "data": {
      "text/plain": [
       "true"
      ]
     },
     "execution_count": 10,
     "metadata": {},
     "output_type": "execute_result"
    }
   ],
   "source": [
    "(= __ (conj '(3 4) 2 1))"
   ]
  },
  {
   "cell_type": "markdown",
   "id": "damaged-disorder",
   "metadata": {},
   "source": [
    "## Problem 6, Vectors\n",
    "Difficulty: elementary\n",
    "Vectors can be constructed several ways. You can compare them with lists."
   ]
  },
  {
   "cell_type": "code",
   "execution_count": 11,
   "id": "comprehensive-preliminary",
   "metadata": {},
   "outputs": [
    {
     "data": {
      "text/plain": [
       "true"
      ]
     },
     "execution_count": 11,
     "metadata": {},
     "output_type": "execute_result"
    }
   ],
   "source": [
    "(= [:a :b :c] (list :a :b :c) (vec '(:a :b :c)) (vector :a :b :c))"
   ]
  },
  {
   "cell_type": "markdown",
   "id": "unlimited-wagner",
   "metadata": {},
   "source": [
    "## Problem 7, conj on vectors\n",
    "Difficulty: elementary\n",
    "When operating on a Vector, the conj function will return a new vector with one or more items \"added\" to the end."
   ]
  },
  {
   "cell_type": "code",
   "execution_count": 12,
   "id": "beginning-trace",
   "metadata": {},
   "outputs": [
    {
     "data": {
      "text/plain": [
       "#'user/__"
      ]
     },
     "execution_count": 12,
     "metadata": {},
     "output_type": "execute_result"
    }
   ],
   "source": [
    "(def __ [1 2 3 4])"
   ]
  },
  {
   "cell_type": "code",
   "execution_count": 13,
   "id": "likely-sunday",
   "metadata": {
    "scrolled": true
   },
   "outputs": [
    {
     "data": {
      "text/plain": [
       "true"
      ]
     },
     "execution_count": 13,
     "metadata": {},
     "output_type": "execute_result"
    }
   ],
   "source": [
    "(= __ (conj [1 2 3] 4))"
   ]
  },
  {
   "cell_type": "code",
   "execution_count": 14,
   "id": "tracked-photography",
   "metadata": {},
   "outputs": [
    {
     "data": {
      "text/plain": [
       "true"
      ]
     },
     "execution_count": 14,
     "metadata": {},
     "output_type": "execute_result"
    }
   ],
   "source": [
    "(= __ (conj [1 2] 3 4))"
   ]
  },
  {
   "cell_type": "markdown",
   "id": "arbitrary-century",
   "metadata": {},
   "source": [
    "## Problem 8, Sets\n",
    "Difficulty: elementary\n",
    "Sets are collections of unique values."
   ]
  },
  {
   "cell_type": "code",
   "execution_count": 15,
   "id": "determined-network",
   "metadata": {},
   "outputs": [
    {
     "data": {
      "text/plain": [
       "#'user/__"
      ]
     },
     "execution_count": 15,
     "metadata": {},
     "output_type": "execute_result"
    }
   ],
   "source": [
    "(def __ #{:a :b :c :d})"
   ]
  },
  {
   "cell_type": "code",
   "execution_count": 16,
   "id": "sunset-controversy",
   "metadata": {},
   "outputs": [
    {
     "data": {
      "text/plain": [
       "true"
      ]
     },
     "execution_count": 16,
     "metadata": {},
     "output_type": "execute_result"
    }
   ],
   "source": [
    "(= __ (set '(:a :a :b :c :c :c :c :d :d)))"
   ]
  },
  {
   "cell_type": "code",
   "execution_count": 17,
   "id": "alien-rating",
   "metadata": {},
   "outputs": [
    {
     "data": {
      "text/plain": [
       "true"
      ]
     },
     "execution_count": 17,
     "metadata": {},
     "output_type": "execute_result"
    }
   ],
   "source": [
    "(= __ (clojure.set/union #{:a :b :c} #{:b :c :d}))"
   ]
  },
  {
   "cell_type": "markdown",
   "id": "close-technique",
   "metadata": {},
   "source": [
    "## Problem 9, conj on sets\n",
    "Difficulty: elementary\n",
    "When operating on a set, the conj function returns a new set with one or more keys \"added\"."
   ]
  },
  {
   "cell_type": "code",
   "execution_count": 18,
   "id": "monthly-spectacular",
   "metadata": {},
   "outputs": [
    {
     "data": {
      "text/plain": [
       "#'user/__"
      ]
     },
     "execution_count": 18,
     "metadata": {},
     "output_type": "execute_result"
    }
   ],
   "source": [
    "(def __ 2)"
   ]
  },
  {
   "cell_type": "code",
   "execution_count": 19,
   "id": "violent-accountability",
   "metadata": {},
   "outputs": [
    {
     "data": {
      "text/plain": [
       "true"
      ]
     },
     "execution_count": 19,
     "metadata": {},
     "output_type": "execute_result"
    }
   ],
   "source": [
    "(= #{1 2 3 4} (conj #{1 4 3} __))"
   ]
  },
  {
   "cell_type": "markdown",
   "id": "extraordinary-competition",
   "metadata": {},
   "source": [
    "## Problem 10, Maps\n",
    "Difficulty: elementary\n",
    "Maps store key-value pairs. Both maps and keywords can be used as lookup functions. Commas are whitespace."
   ]
  },
  {
   "cell_type": "code",
   "execution_count": 20,
   "id": "bored-sender",
   "metadata": {},
   "outputs": [
    {
     "data": {
      "text/plain": [
       "#'user/__"
      ]
     },
     "execution_count": 20,
     "metadata": {},
     "output_type": "execute_result"
    }
   ],
   "source": [
    "(def __ 20)"
   ]
  },
  {
   "cell_type": "code",
   "execution_count": 21,
   "id": "removed-quilt",
   "metadata": {},
   "outputs": [
    {
     "data": {
      "text/plain": [
       "true"
      ]
     },
     "execution_count": 21,
     "metadata": {},
     "output_type": "execute_result"
    }
   ],
   "source": [
    "(= __ ((hash-map :a 10, :b 20, :c 30) :b))"
   ]
  },
  {
   "cell_type": "code",
   "execution_count": 22,
   "id": "confirmed-conservative",
   "metadata": {},
   "outputs": [
    {
     "data": {
      "text/plain": [
       "true"
      ]
     },
     "execution_count": 22,
     "metadata": {},
     "output_type": "execute_result"
    }
   ],
   "source": [
    "(= __ (:b {:a 10, :b 20, :c 30}))"
   ]
  },
  {
   "cell_type": "markdown",
   "id": "stunning-vietnam",
   "metadata": {},
   "source": [
    "## Problem 11, conj on maps\n",
    "Difficulty: elementary\n",
    "When operating on a map, the conj function returns a new map with one or more key-value pairs \"added\"."
   ]
  },
  {
   "cell_type": "code",
   "execution_count": 23,
   "id": "necessary-milwaukee",
   "metadata": {},
   "outputs": [
    {
     "data": {
      "text/plain": [
       "#'user/__"
      ]
     },
     "execution_count": 23,
     "metadata": {},
     "output_type": "execute_result"
    }
   ],
   "source": [
    "(def __ [:b 2])"
   ]
  },
  {
   "cell_type": "code",
   "execution_count": 24,
   "id": "interstate-destruction",
   "metadata": {},
   "outputs": [
    {
     "data": {
      "text/plain": [
       "true"
      ]
     },
     "execution_count": 24,
     "metadata": {},
     "output_type": "execute_result"
    }
   ],
   "source": [
    "(= {:a 1, :b 2, :c 3} (conj {:a 1} __ [:c 3]))"
   ]
  },
  {
   "cell_type": "markdown",
   "id": "experimental-working",
   "metadata": {},
   "source": [
    "## Problem 12, Sequences\n",
    "Difficulty: elementary\n",
    "All Clojure collections support sequencing. You can operate on sequences with functions like first, second, and last."
   ]
  },
  {
   "cell_type": "code",
   "execution_count": 25,
   "id": "surface-commission",
   "metadata": {},
   "outputs": [
    {
     "data": {
      "text/plain": [
       "#'user/__"
      ]
     },
     "execution_count": 25,
     "metadata": {},
     "output_type": "execute_result"
    }
   ],
   "source": [
    "(def __ 3)"
   ]
  },
  {
   "cell_type": "code",
   "execution_count": 26,
   "id": "assisted-record",
   "metadata": {},
   "outputs": [
    {
     "data": {
      "text/plain": [
       "true"
      ]
     },
     "execution_count": 26,
     "metadata": {},
     "output_type": "execute_result"
    }
   ],
   "source": [
    "(= __ (first '(3 2 1)))"
   ]
  },
  {
   "cell_type": "code",
   "execution_count": 27,
   "id": "southern-nicaragua",
   "metadata": {},
   "outputs": [
    {
     "data": {
      "text/plain": [
       "true"
      ]
     },
     "execution_count": 27,
     "metadata": {},
     "output_type": "execute_result"
    }
   ],
   "source": [
    "(= __ (second [2 3 4]))"
   ]
  },
  {
   "cell_type": "code",
   "execution_count": 28,
   "id": "norman-forty",
   "metadata": {},
   "outputs": [
    {
     "data": {
      "text/plain": [
       "true"
      ]
     },
     "execution_count": 28,
     "metadata": {},
     "output_type": "execute_result"
    }
   ],
   "source": [
    "(= __ (last (list 1 2 3)))"
   ]
  },
  {
   "cell_type": "markdown",
   "id": "weird-instrumentation",
   "metadata": {},
   "source": [
    "## Problem 13, rest\n",
    "Difficulty: elementary\n",
    "The rest function will return all the items of a sequence except the first."
   ]
  },
  {
   "cell_type": "code",
   "execution_count": 29,
   "id": "convertible-booking",
   "metadata": {},
   "outputs": [
    {
     "data": {
      "text/plain": [
       "#'user/__"
      ]
     },
     "execution_count": 29,
     "metadata": {},
     "output_type": "execute_result"
    }
   ],
   "source": [
    "(def __ [20 30 40])"
   ]
  },
  {
   "cell_type": "code",
   "execution_count": 30,
   "id": "arbitrary-thesis",
   "metadata": {},
   "outputs": [
    {
     "data": {
      "text/plain": [
       "true"
      ]
     },
     "execution_count": 30,
     "metadata": {},
     "output_type": "execute_result"
    }
   ],
   "source": [
    "(= __ (rest [10 20 30 40]))"
   ]
  },
  {
   "cell_type": "markdown",
   "id": "stock-bidding",
   "metadata": {},
   "source": [
    "## Problem 14, Functions\n",
    "Difficulty: elementary\n",
    "Clojure has many different ways to create functions."
   ]
  },
  {
   "cell_type": "code",
   "execution_count": 31,
   "id": "corresponding-dealer",
   "metadata": {},
   "outputs": [
    {
     "data": {
      "text/plain": [
       "#'user/__"
      ]
     },
     "execution_count": 31,
     "metadata": {},
     "output_type": "execute_result"
    }
   ],
   "source": [
    "(def __ 8)"
   ]
  },
  {
   "cell_type": "code",
   "execution_count": 32,
   "id": "final-anxiety",
   "metadata": {},
   "outputs": [
    {
     "data": {
      "text/plain": [
       "true"
      ]
     },
     "execution_count": 32,
     "metadata": {},
     "output_type": "execute_result"
    }
   ],
   "source": [
    "(= __ ((fn add-five [x] (+ x 5)) 3))"
   ]
  },
  {
   "cell_type": "code",
   "execution_count": 33,
   "id": "sacred-chancellor",
   "metadata": {},
   "outputs": [
    {
     "data": {
      "text/plain": [
       "true"
      ]
     },
     "execution_count": 33,
     "metadata": {},
     "output_type": "execute_result"
    }
   ],
   "source": [
    "(= __ ((fn [x] (+ x 5)) 3))"
   ]
  },
  {
   "cell_type": "code",
   "execution_count": 34,
   "id": "tough-retail",
   "metadata": {},
   "outputs": [
    {
     "data": {
      "text/plain": [
       "true"
      ]
     },
     "execution_count": 34,
     "metadata": {},
     "output_type": "execute_result"
    }
   ],
   "source": [
    "(= __ (#(+ % 5) 3))"
   ]
  },
  {
   "cell_type": "code",
   "execution_count": 35,
   "id": "measured-breast",
   "metadata": {},
   "outputs": [
    {
     "data": {
      "text/plain": [
       "true"
      ]
     },
     "execution_count": 35,
     "metadata": {},
     "output_type": "execute_result"
    }
   ],
   "source": [
    "(= __ ((partial + 5) 3))"
   ]
  },
  {
   "cell_type": "markdown",
   "id": "numeric-future",
   "metadata": {},
   "source": [
    "## Problem 15, Double Down\n",
    "Difficulty: elementary\n",
    "Write a function which doubles a number."
   ]
  },
  {
   "cell_type": "code",
   "execution_count": 36,
   "id": "public-swaziland",
   "metadata": {},
   "outputs": [
    {
     "data": {
      "text/plain": [
       "#'user/__"
      ]
     },
     "execution_count": 36,
     "metadata": {},
     "output_type": "execute_result"
    }
   ],
   "source": [
    "(def __ #(* 2 %))"
   ]
  },
  {
   "cell_type": "code",
   "execution_count": 37,
   "id": "intelligent-amber",
   "metadata": {},
   "outputs": [
    {
     "data": {
      "text/plain": [
       "true"
      ]
     },
     "execution_count": 37,
     "metadata": {},
     "output_type": "execute_result"
    }
   ],
   "source": [
    "(= (__ 2) 4)"
   ]
  },
  {
   "cell_type": "code",
   "execution_count": 38,
   "id": "happy-traveler",
   "metadata": {},
   "outputs": [
    {
     "data": {
      "text/plain": [
       "true"
      ]
     },
     "execution_count": 38,
     "metadata": {},
     "output_type": "execute_result"
    }
   ],
   "source": [
    "(= (__ 3) 6)"
   ]
  },
  {
   "cell_type": "code",
   "execution_count": 39,
   "id": "searching-architecture",
   "metadata": {},
   "outputs": [
    {
     "data": {
      "text/plain": [
       "true"
      ]
     },
     "execution_count": 39,
     "metadata": {},
     "output_type": "execute_result"
    }
   ],
   "source": [
    "(= (__ 11) 22)"
   ]
  },
  {
   "cell_type": "code",
   "execution_count": 40,
   "id": "latter-internet",
   "metadata": {},
   "outputs": [
    {
     "data": {
      "text/plain": [
       "true"
      ]
     },
     "execution_count": 40,
     "metadata": {},
     "output_type": "execute_result"
    }
   ],
   "source": [
    "(= (__ 7) 14)"
   ]
  },
  {
   "cell_type": "markdown",
   "id": "statutory-performer",
   "metadata": {},
   "source": [
    "## Problem 16, Hello World\n",
    "Difficulty: elementary\n",
    "Write a function which returns a personalized greeting."
   ]
  },
  {
   "cell_type": "code",
   "execution_count": 41,
   "id": "comic-miami",
   "metadata": {},
   "outputs": [
    {
     "data": {
      "text/plain": [
       "#'user/__"
      ]
     },
     "execution_count": 41,
     "metadata": {},
     "output_type": "execute_result"
    }
   ],
   "source": [
    "(defn __ [str-]\n",
    "    (str \"Hello, \" str- \"!\"))"
   ]
  },
  {
   "cell_type": "code",
   "execution_count": 42,
   "id": "reliable-kruger",
   "metadata": {},
   "outputs": [
    {
     "data": {
      "text/plain": [
       "true"
      ]
     },
     "execution_count": 42,
     "metadata": {},
     "output_type": "execute_result"
    }
   ],
   "source": [
    "(= (__ \"Dave\") \"Hello, Dave!\")"
   ]
  },
  {
   "cell_type": "code",
   "execution_count": 43,
   "id": "funny-criterion",
   "metadata": {},
   "outputs": [
    {
     "data": {
      "text/plain": [
       "true"
      ]
     },
     "execution_count": 43,
     "metadata": {},
     "output_type": "execute_result"
    }
   ],
   "source": [
    "(= (__ \"Jenn\") \"Hello, Jenn!\")"
   ]
  },
  {
   "cell_type": "code",
   "execution_count": 44,
   "id": "light-engineering",
   "metadata": {},
   "outputs": [
    {
     "data": {
      "text/plain": [
       "true"
      ]
     },
     "execution_count": 44,
     "metadata": {},
     "output_type": "execute_result"
    }
   ],
   "source": [
    "(= (__ \"Rhea\") \"Hello, Rhea!\")"
   ]
  },
  {
   "cell_type": "markdown",
   "id": "distributed-playing",
   "metadata": {},
   "source": [
    "## Problem 17, map\n",
    "Difficulty: elementary\n",
    "The map function takes two arguments: a function (f) and a sequence (s). Map returns a new sequence consisting of the result of applying f to each item of s. Do not confuse the map function with the map data structure."
   ]
  },
  {
   "cell_type": "code",
   "execution_count": 45,
   "id": "committed-irrigation",
   "metadata": {},
   "outputs": [
    {
     "data": {
      "text/plain": [
       "#'user/__"
      ]
     },
     "execution_count": 45,
     "metadata": {},
     "output_type": "execute_result"
    }
   ],
   "source": [
    "(def __ '(6 7 8))"
   ]
  },
  {
   "cell_type": "code",
   "execution_count": 46,
   "id": "collaborative-enterprise",
   "metadata": {},
   "outputs": [
    {
     "data": {
      "text/plain": [
       "true"
      ]
     },
     "execution_count": 46,
     "metadata": {},
     "output_type": "execute_result"
    }
   ],
   "source": [
    "(= __ (map #(+ % 5) '(1 2 3)))"
   ]
  },
  {
   "cell_type": "markdown",
   "id": "checked-shannon",
   "metadata": {},
   "source": [
    "## Problem 18, filter\n",
    "Difficulty: elementary\n",
    "The filter function takes two arguments: a predicate function (f) and a sequence (s). Filter returns a new sequence consisting of all the items of s for which (f item) returns true."
   ]
  },
  {
   "cell_type": "code",
   "execution_count": 47,
   "id": "actual-innocent",
   "metadata": {},
   "outputs": [
    {
     "data": {
      "text/plain": [
       "#'user/__"
      ]
     },
     "execution_count": 47,
     "metadata": {},
     "output_type": "execute_result"
    }
   ],
   "source": [
    "(def __ '(6 7))"
   ]
  },
  {
   "cell_type": "code",
   "execution_count": 48,
   "id": "sound-backup",
   "metadata": {},
   "outputs": [
    {
     "data": {
      "text/plain": [
       "true"
      ]
     },
     "execution_count": 48,
     "metadata": {},
     "output_type": "execute_result"
    }
   ],
   "source": [
    "(= __ (filter #(> % 5) '(3 4 5 6 7)))"
   ]
  },
  {
   "cell_type": "markdown",
   "id": "medical-earthquake",
   "metadata": {},
   "source": [
    "## Problem 19, Last Element\n",
    "Difficulty: easy\n",
    "Write a function which returns the last element in a sequence."
   ]
  },
  {
   "cell_type": "code",
   "execution_count": 49,
   "id": "atomic-intermediate",
   "metadata": {},
   "outputs": [
    {
     "data": {
      "text/plain": [
       "#'user/__"
      ]
     },
     "execution_count": 49,
     "metadata": {},
     "output_type": "execute_result"
    }
   ],
   "source": [
    "(defn __ [coll]\n",
    "    (nth coll (dec (count coll))))"
   ]
  },
  {
   "cell_type": "code",
   "execution_count": 50,
   "id": "occupied-collector",
   "metadata": {},
   "outputs": [
    {
     "data": {
      "text/plain": [
       "true"
      ]
     },
     "execution_count": 50,
     "metadata": {},
     "output_type": "execute_result"
    }
   ],
   "source": [
    "(= (__ [1 2 3 4 5]) 5)"
   ]
  },
  {
   "cell_type": "code",
   "execution_count": 51,
   "id": "waiting-cylinder",
   "metadata": {},
   "outputs": [
    {
     "data": {
      "text/plain": [
       "true"
      ]
     },
     "execution_count": 51,
     "metadata": {},
     "output_type": "execute_result"
    }
   ],
   "source": [
    "(= (__ '(5 4 3)) 3)"
   ]
  },
  {
   "cell_type": "code",
   "execution_count": 52,
   "id": "desirable-injection",
   "metadata": {},
   "outputs": [
    {
     "data": {
      "text/plain": [
       "true"
      ]
     },
     "execution_count": 52,
     "metadata": {},
     "output_type": "execute_result"
    }
   ],
   "source": [
    "(= (__ [\"b\" \"c\" \"d\"]) \"d\")"
   ]
  },
  {
   "cell_type": "markdown",
   "id": "multiple-chuck",
   "metadata": {},
   "source": [
    "## Problem 20, Penultimate Element\n",
    "Difficulty: easy\n",
    "Write a function which returns the second to last element from a sequence."
   ]
  },
  {
   "cell_type": "code",
   "execution_count": 53,
   "id": "confirmed-sharing",
   "metadata": {},
   "outputs": [
    {
     "data": {
      "text/plain": [
       "#'user/__"
      ]
     },
     "execution_count": 53,
     "metadata": {},
     "output_type": "execute_result"
    }
   ],
   "source": [
    "(defn __ [coll]\n",
    "    (nth coll (- (count coll) 2)))\n",
    "\n",
    ";;#(second (reverse %))"
   ]
  },
  {
   "cell_type": "code",
   "execution_count": 54,
   "id": "hidden-broadway",
   "metadata": {},
   "outputs": [
    {
     "data": {
      "text/plain": [
       "true"
      ]
     },
     "execution_count": 54,
     "metadata": {},
     "output_type": "execute_result"
    }
   ],
   "source": [
    "(= (__ (list 1 2 3 4 5)) 4)"
   ]
  },
  {
   "cell_type": "code",
   "execution_count": 55,
   "id": "attractive-contents",
   "metadata": {},
   "outputs": [
    {
     "data": {
      "text/plain": [
       "true"
      ]
     },
     "execution_count": 55,
     "metadata": {},
     "output_type": "execute_result"
    }
   ],
   "source": [
    "(= (__ [\"a\" \"b\" \"c\"]) \"b\")"
   ]
  },
  {
   "cell_type": "code",
   "execution_count": 56,
   "id": "auburn-brown",
   "metadata": {},
   "outputs": [
    {
     "data": {
      "text/plain": [
       "true"
      ]
     },
     "execution_count": 56,
     "metadata": {},
     "output_type": "execute_result"
    }
   ],
   "source": [
    "(= (__ [[1 2] [3 4]]) [1 2])"
   ]
  },
  {
   "cell_type": "markdown",
   "id": "bulgarian-percentage",
   "metadata": {},
   "source": [
    "## Problem 21, Nth Element\n",
    "Difficulty: easy\n",
    "Write a function which returns the Nth element from a sequence."
   ]
  },
  {
   "cell_type": "code",
   "execution_count": 57,
   "id": "handed-builder",
   "metadata": {},
   "outputs": [
    {
     "data": {
      "text/plain": [
       "#'user/__"
      ]
     },
     "execution_count": 57,
     "metadata": {},
     "output_type": "execute_result"
    }
   ],
   "source": [
    "(defn __ [coll n]\n",
    "    ((vec coll) n))"
   ]
  },
  {
   "cell_type": "code",
   "execution_count": 58,
   "id": "seventh-england",
   "metadata": {},
   "outputs": [
    {
     "data": {
      "text/plain": [
       "#'user/__"
      ]
     },
     "execution_count": 58,
     "metadata": {},
     "output_type": "execute_result"
    }
   ],
   "source": [
    "(defn __ [coll n]\n",
    "    (loop [cnt 0 res (seq coll)]\n",
    "        (if (= cnt n)\n",
    "            (first res)\n",
    "            (recur (inc cnt) (next res)))))"
   ]
  },
  {
   "cell_type": "code",
   "execution_count": 59,
   "id": "ahead-black",
   "metadata": {
    "scrolled": true
   },
   "outputs": [
    {
     "data": {
      "text/plain": [
       "6"
      ]
     },
     "execution_count": 59,
     "metadata": {},
     "output_type": "execute_result"
    }
   ],
   "source": [
    "(__ '(4 5 6 7) 2)"
   ]
  },
  {
   "cell_type": "code",
   "execution_count": 60,
   "id": "coordinate-glossary",
   "metadata": {},
   "outputs": [
    {
     "data": {
      "text/plain": [
       "true"
      ]
     },
     "execution_count": 60,
     "metadata": {},
     "output_type": "execute_result"
    }
   ],
   "source": [
    "(= (__ '(4 5 6 7) 2) 6)"
   ]
  },
  {
   "cell_type": "code",
   "execution_count": 61,
   "id": "supported-clock",
   "metadata": {},
   "outputs": [
    {
     "data": {
      "text/plain": [
       "true"
      ]
     },
     "execution_count": 61,
     "metadata": {},
     "output_type": "execute_result"
    }
   ],
   "source": [
    "(= (__ [:a :b :c] 0) :a)"
   ]
  },
  {
   "cell_type": "code",
   "execution_count": 62,
   "id": "funded-reset",
   "metadata": {},
   "outputs": [
    {
     "data": {
      "text/plain": [
       "true"
      ]
     },
     "execution_count": 62,
     "metadata": {},
     "output_type": "execute_result"
    }
   ],
   "source": [
    "(= (__ [1 2 3 4] 1) 2)"
   ]
  },
  {
   "cell_type": "code",
   "execution_count": 63,
   "id": "banned-viewer",
   "metadata": {},
   "outputs": [
    {
     "data": {
      "text/plain": [
       "true"
      ]
     },
     "execution_count": 63,
     "metadata": {},
     "output_type": "execute_result"
    }
   ],
   "source": [
    "(= (__ '([1 2] [3 4] [5 6]) 2) [5 6])"
   ]
  },
  {
   "cell_type": "markdown",
   "id": "pressed-interpretation",
   "metadata": {},
   "source": [
    "## Problem 22, Count a Sequence\n",
    "Difficulty: easy\n",
    "Write a function which returns the total number of elements in a sequence."
   ]
  },
  {
   "cell_type": "code",
   "execution_count": 64,
   "id": "occupational-nothing",
   "metadata": {},
   "outputs": [
    {
     "data": {
      "text/plain": [
       "#'user/__"
      ]
     },
     "execution_count": 64,
     "metadata": {},
     "output_type": "execute_result"
    }
   ],
   "source": [
    "(defn __ [coll]\n",
    "    (loop [cnt 0 res (seq coll)]\n",
    "        (if (empty? res)\n",
    "            cnt\n",
    "            (recur (inc cnt) (next res)))))"
   ]
  },
  {
   "cell_type": "code",
   "execution_count": 65,
   "id": "hearing-double",
   "metadata": {},
   "outputs": [
    {
     "data": {
      "text/plain": [
       "true"
      ]
     },
     "execution_count": 65,
     "metadata": {},
     "output_type": "execute_result"
    }
   ],
   "source": [
    "(= (__ '(1 2 3 3 1)) 5)"
   ]
  },
  {
   "cell_type": "code",
   "execution_count": 66,
   "id": "young-junior",
   "metadata": {},
   "outputs": [
    {
     "data": {
      "text/plain": [
       "true"
      ]
     },
     "execution_count": 66,
     "metadata": {},
     "output_type": "execute_result"
    }
   ],
   "source": [
    "(= (__ \"Hello World\") 11)"
   ]
  },
  {
   "cell_type": "code",
   "execution_count": 67,
   "id": "electoral-aging",
   "metadata": {},
   "outputs": [
    {
     "data": {
      "text/plain": [
       "true"
      ]
     },
     "execution_count": 67,
     "metadata": {},
     "output_type": "execute_result"
    }
   ],
   "source": [
    "(= (__ [[1 2] [3 4] [5 6]]) 3)"
   ]
  },
  {
   "cell_type": "code",
   "execution_count": 68,
   "id": "convinced-sense",
   "metadata": {},
   "outputs": [
    {
     "data": {
      "text/plain": [
       "true"
      ]
     },
     "execution_count": 68,
     "metadata": {},
     "output_type": "execute_result"
    }
   ],
   "source": [
    "(= (__ '(13)) 1)"
   ]
  },
  {
   "cell_type": "code",
   "execution_count": 69,
   "id": "advisory-drilling",
   "metadata": {},
   "outputs": [
    {
     "data": {
      "text/plain": [
       "true"
      ]
     },
     "execution_count": 69,
     "metadata": {},
     "output_type": "execute_result"
    }
   ],
   "source": [
    "(= (__ '(:a :b :c)) 3)"
   ]
  },
  {
   "cell_type": "markdown",
   "id": "passive-quick",
   "metadata": {},
   "source": [
    "## Problem 23, Reverse a Sequence\n",
    "Difficulty: easy\n",
    "Write a function which reverses a sequence."
   ]
  },
  {
   "cell_type": "code",
   "execution_count": 70,
   "id": "behavioral-mexico",
   "metadata": {},
   "outputs": [
    {
     "data": {
      "text/plain": [
       "#'user/__"
      ]
     },
     "execution_count": 70,
     "metadata": {},
     "output_type": "execute_result"
    }
   ],
   "source": [
    "(defn __ [coll]\n",
    "    (loop [acc (vec nil) res (vec coll)]\n",
    "        (if (empty? res)\n",
    "            acc\n",
    "            (recur (conj acc (peek res)) (pop res)))))"
   ]
  },
  {
   "cell_type": "code",
   "execution_count": 71,
   "id": "french-stretch",
   "metadata": {
    "scrolled": true
   },
   "outputs": [
    {
     "data": {
      "text/plain": [
       "true"
      ]
     },
     "execution_count": 71,
     "metadata": {},
     "output_type": "execute_result"
    }
   ],
   "source": [
    "(= (__ [1 2 3 4 5]) [5 4 3 2 1])"
   ]
  },
  {
   "cell_type": "code",
   "execution_count": 72,
   "id": "young-hepatitis",
   "metadata": {},
   "outputs": [
    {
     "data": {
      "text/plain": [
       "true"
      ]
     },
     "execution_count": 72,
     "metadata": {},
     "output_type": "execute_result"
    }
   ],
   "source": [
    "(= (__ (sorted-set 5 7 2 7)) '(7 5 2))"
   ]
  },
  {
   "cell_type": "code",
   "execution_count": 73,
   "id": "lyric-pencil",
   "metadata": {},
   "outputs": [
    {
     "data": {
      "text/plain": [
       "true"
      ]
     },
     "execution_count": 73,
     "metadata": {},
     "output_type": "execute_result"
    }
   ],
   "source": [
    "(= (__ [[1 2][3 4][5 6]]) [[5 6][3 4][1 2]])"
   ]
  },
  {
   "cell_type": "markdown",
   "id": "corporate-organic",
   "metadata": {},
   "source": [
    "## Problem 24, Sum It All Up\n",
    "Difficulty: easy\n",
    "Write a function which returns the sum of a sequence of numbers."
   ]
  },
  {
   "cell_type": "code",
   "execution_count": 74,
   "id": "previous-musical",
   "metadata": {},
   "outputs": [
    {
     "data": {
      "text/plain": [
       "#'user/__"
      ]
     },
     "execution_count": 74,
     "metadata": {},
     "output_type": "execute_result"
    }
   ],
   "source": [
    "(defn __ [coll]\n",
    "    (reduce + coll))"
   ]
  },
  {
   "cell_type": "code",
   "execution_count": 75,
   "id": "clinical-librarian",
   "metadata": {},
   "outputs": [
    {
     "data": {
      "text/plain": [
       "true"
      ]
     },
     "execution_count": 75,
     "metadata": {},
     "output_type": "execute_result"
    }
   ],
   "source": [
    "(= (__ [1 2 3]) 6)"
   ]
  },
  {
   "cell_type": "code",
   "execution_count": 76,
   "id": "dominant-habitat",
   "metadata": {},
   "outputs": [
    {
     "data": {
      "text/plain": [
       "true"
      ]
     },
     "execution_count": 76,
     "metadata": {},
     "output_type": "execute_result"
    }
   ],
   "source": [
    "(= (__ (list 0 -2 5 5)) 8)"
   ]
  },
  {
   "cell_type": "code",
   "execution_count": 77,
   "id": "sticky-pledge",
   "metadata": {},
   "outputs": [
    {
     "data": {
      "text/plain": [
       "true"
      ]
     },
     "execution_count": 77,
     "metadata": {},
     "output_type": "execute_result"
    }
   ],
   "source": [
    "(= (__ #{4 2 1}) 7)"
   ]
  },
  {
   "cell_type": "code",
   "execution_count": 78,
   "id": "lucky-bulletin",
   "metadata": {},
   "outputs": [
    {
     "data": {
      "text/plain": [
       "true"
      ]
     },
     "execution_count": 78,
     "metadata": {},
     "output_type": "execute_result"
    }
   ],
   "source": [
    "(= (__ '(0 0 -1)) -1)"
   ]
  },
  {
   "cell_type": "code",
   "execution_count": 79,
   "id": "mental-satisfaction",
   "metadata": {},
   "outputs": [
    {
     "data": {
      "text/plain": [
       "true"
      ]
     },
     "execution_count": 79,
     "metadata": {},
     "output_type": "execute_result"
    }
   ],
   "source": [
    "(= (__ '(1 10 3)) 14)"
   ]
  },
  {
   "cell_type": "markdown",
   "id": "declared-manchester",
   "metadata": {},
   "source": [
    "## Problem 25, Find the odd numbers\n",
    "Difficulty: easy\n",
    "Write a function which returns only the odd numbers from a sequence."
   ]
  },
  {
   "cell_type": "code",
   "execution_count": 80,
   "id": "chubby-roads",
   "metadata": {},
   "outputs": [
    {
     "data": {
      "text/plain": [
       "#'user/__"
      ]
     },
     "execution_count": 80,
     "metadata": {},
     "output_type": "execute_result"
    }
   ],
   "source": [
    "(defn __ [coll]\n",
    "    (filter odd? coll))"
   ]
  },
  {
   "cell_type": "code",
   "execution_count": 81,
   "id": "surprised-devon",
   "metadata": {},
   "outputs": [
    {
     "data": {
      "text/plain": [
       "true"
      ]
     },
     "execution_count": 81,
     "metadata": {},
     "output_type": "execute_result"
    }
   ],
   "source": [
    "(= (__ #{1 2 3 4 5}) '(1 3 5))"
   ]
  },
  {
   "cell_type": "code",
   "execution_count": 82,
   "id": "approximate-month",
   "metadata": {},
   "outputs": [
    {
     "data": {
      "text/plain": [
       "true"
      ]
     },
     "execution_count": 82,
     "metadata": {},
     "output_type": "execute_result"
    }
   ],
   "source": [
    "(= (__ [4 2 1 6]) '(1))"
   ]
  },
  {
   "cell_type": "code",
   "execution_count": 83,
   "id": "governing-columbia",
   "metadata": {},
   "outputs": [
    {
     "data": {
      "text/plain": [
       "true"
      ]
     },
     "execution_count": 83,
     "metadata": {},
     "output_type": "execute_result"
    }
   ],
   "source": [
    "(= (__ [2 2 4 6]) '())"
   ]
  },
  {
   "cell_type": "code",
   "execution_count": 84,
   "id": "possible-waste",
   "metadata": {},
   "outputs": [
    {
     "data": {
      "text/plain": [
       "true"
      ]
     },
     "execution_count": 84,
     "metadata": {},
     "output_type": "execute_result"
    }
   ],
   "source": [
    "(= (__ [1 1 1 3]) '(1 1 1 3))"
   ]
  },
  {
   "cell_type": "markdown",
   "id": "overhead-detective",
   "metadata": {},
   "source": [
    "## Problem 26, Fibonacci Sequence\n",
    "Difficulty: easy\n",
    "Write a function which returns the first X fibonacci numbers."
   ]
  },
  {
   "cell_type": "code",
   "execution_count": 85,
   "id": "innocent-guyana",
   "metadata": {},
   "outputs": [
    {
     "data": {
      "text/plain": [
       "#'user/__"
      ]
     },
     "execution_count": 85,
     "metadata": {},
     "output_type": "execute_result"
    }
   ],
   "source": [
    "(defn __ [n]\n",
    "    (defn fibo [n]\n",
    "        (case n\n",
    "            0 1\n",
    "            1 1\n",
    "            (+ (fibo (- n 1)) (fibo (- n 2)))))\n",
    "    (map fibo (range n)))"
   ]
  },
  {
   "cell_type": "code",
   "execution_count": 86,
   "id": "yellow-biodiversity",
   "metadata": {},
   "outputs": [
    {
     "data": {
      "text/plain": [
       "#'user/__"
      ]
     },
     "execution_count": 86,
     "metadata": {},
     "output_type": "execute_result"
    }
   ],
   "source": [
    "(defn __ [n]\n",
    "    (loop [ x [0 1]] \n",
    "        (if (< (count x) n) \n",
    "            (recur \n",
    "             (conj x \n",
    "                   (+ (last x) (nth x (- (count x) 2)))))\n",
    "            x)))"
   ]
  },
  {
   "cell_type": "code",
   "execution_count": 87,
   "id": "crude-domain",
   "metadata": {},
   "outputs": [
    {
     "data": {
      "text/plain": [
       "#'user/__"
      ]
     },
     "execution_count": 87,
     "metadata": {},
     "output_type": "execute_result"
    }
   ],
   "source": [
    "(defn __ [n]\n",
    "    (def fib-seq (lazy-cat [0 1] (map + fib-seq (rest fib-seq))))\n",
    "    (next (vec (take (inc n) fib-seq))))"
   ]
  },
  {
   "cell_type": "code",
   "execution_count": 88,
   "id": "identified-strike",
   "metadata": {},
   "outputs": [
    {
     "data": {
      "text/plain": [
       "(1 1 2 3 5 8 13 21 34 55 89 144 233 377 610 987 1597 2584 4181 6765 10946 17711 28657 46368 75025 121393 196418 317811 514229 832040 1346269 2178309 3524578 5702887 9227465 14930352 24157817 39088169 63245986 102334155 165580141 267914296 433494437 701408733 1134903170 1836311903 2971215073 4807526976 7778742049 12586269025 20365011074 32951280099 53316291173 86267571272 139583862445 225851433717 365435296162 591286729879 956722026041 1548008755920 2504730781961 4052739537881 6557470319842 10610209857723 17167680177565 27777890035288 44945570212853 72723460248141 117669030460994 190392490709135 308061521170129 498454011879264 806515533049393 1304969544928657 2111485077978050 3416454622906707 5527939700884757 8944394323791464 14472334024676221 23416728348467685 37889062373143906 61305790721611591 99194853094755497 160500643816367088 259695496911122585 420196140727489673 679891637638612258 1100087778366101931 1779979416004714189 2880067194370816120 4660046610375530309 7540113804746346429)"
      ]
     },
     "execution_count": 88,
     "metadata": {},
     "output_type": "execute_result"
    }
   ],
   "source": [
    "(__ 92)"
   ]
  },
  {
   "cell_type": "code",
   "execution_count": 89,
   "id": "united-kelly",
   "metadata": {},
   "outputs": [
    {
     "data": {
      "text/plain": [
       "true"
      ]
     },
     "execution_count": 89,
     "metadata": {},
     "output_type": "execute_result"
    }
   ],
   "source": [
    "(= (__ 3) '(1 1 2))"
   ]
  },
  {
   "cell_type": "code",
   "execution_count": 90,
   "id": "satisfied-madagascar",
   "metadata": {},
   "outputs": [
    {
     "data": {
      "text/plain": [
       "true"
      ]
     },
     "execution_count": 90,
     "metadata": {},
     "output_type": "execute_result"
    }
   ],
   "source": [
    "(= (__ 6) '(1 1 2 3 5 8))"
   ]
  },
  {
   "cell_type": "code",
   "execution_count": 91,
   "id": "scientific-ocean",
   "metadata": {},
   "outputs": [
    {
     "data": {
      "text/plain": [
       "true"
      ]
     },
     "execution_count": 91,
     "metadata": {},
     "output_type": "execute_result"
    }
   ],
   "source": [
    "(= (__ 8) '(1 1 2 3 5 8 13 21))"
   ]
  },
  {
   "cell_type": "markdown",
   "id": "under-message",
   "metadata": {},
   "source": [
    "## Problem 27, Palindrome Detector\n",
    "Difficulty: easy\n",
    "Write a function which returns true if the given sequence is a palindrome. Hint: \"racecar\" does not equal '(\\r \\a \\c \\e \\c \\a \\r)"
   ]
  },
  {
   "cell_type": "code",
   "execution_count": 92,
   "id": "economic-consensus",
   "metadata": {},
   "outputs": [
    {
     "data": {
      "text/plain": [
       "#'user/__"
      ]
     },
     "execution_count": 92,
     "metadata": {},
     "output_type": "execute_result"
    }
   ],
   "source": [
    "(defn __ [s]\n",
    "    (= (seq s) (reverse s)))"
   ]
  },
  {
   "cell_type": "code",
   "execution_count": 93,
   "id": "portable-execution",
   "metadata": {},
   "outputs": [
    {
     "data": {
      "text/plain": [
       "true"
      ]
     },
     "execution_count": 93,
     "metadata": {},
     "output_type": "execute_result"
    }
   ],
   "source": [
    "(false? (__ '(1 2 3 4 5)))"
   ]
  },
  {
   "cell_type": "code",
   "execution_count": 94,
   "id": "destroyed-blame",
   "metadata": {},
   "outputs": [
    {
     "data": {
      "text/plain": [
       "true"
      ]
     },
     "execution_count": 94,
     "metadata": {},
     "output_type": "execute_result"
    }
   ],
   "source": [
    "(true? (__ \"racecar\"))"
   ]
  },
  {
   "cell_type": "code",
   "execution_count": 95,
   "id": "latest-burst",
   "metadata": {},
   "outputs": [
    {
     "data": {
      "text/plain": [
       "true"
      ]
     },
     "execution_count": 95,
     "metadata": {},
     "output_type": "execute_result"
    }
   ],
   "source": [
    "(true? (__ [:foo :bar :foo]))"
   ]
  },
  {
   "cell_type": "code",
   "execution_count": 96,
   "id": "widespread-mason",
   "metadata": {},
   "outputs": [
    {
     "data": {
      "text/plain": [
       "true"
      ]
     },
     "execution_count": 96,
     "metadata": {},
     "output_type": "execute_result"
    }
   ],
   "source": [
    "(true? (__ '(1 1 3 3 1 1)))"
   ]
  },
  {
   "cell_type": "code",
   "execution_count": 97,
   "id": "cognitive-highlight",
   "metadata": {},
   "outputs": [
    {
     "data": {
      "text/plain": [
       "true"
      ]
     },
     "execution_count": 97,
     "metadata": {},
     "output_type": "execute_result"
    }
   ],
   "source": [
    "(false? (__ '(:a :b :c)))"
   ]
  },
  {
   "cell_type": "markdown",
   "id": "formal-producer",
   "metadata": {},
   "source": [
    "## Problem 28, Flatten a Sequence\n",
    "Difficulty: easy\n",
    "Write a function which flattens a sequence."
   ]
  },
  {
   "cell_type": "code",
   "execution_count": 98,
   "id": "conditional-affiliation",
   "metadata": {},
   "outputs": [
    {
     "data": {
      "text/plain": [
       "#'user/__"
      ]
     },
     "execution_count": 98,
     "metadata": {},
     "output_type": "execute_result"
    }
   ],
   "source": [
    ";; version 1\n",
    "\n",
    "(defn __ [coll]\n",
    "    (lazy-seq\n",
    "     (when-let [s (seq coll)]\n",
    "         (if (sequential? (first s))\n",
    "             (concat (__ (first s)) (__ (rest s)))\n",
    "             (cons (first s) (__ (rest s)))))))"
   ]
  },
  {
   "cell_type": "code",
   "execution_count": 99,
   "id": "separated-reduction",
   "metadata": {},
   "outputs": [
    {
     "data": {
      "text/plain": [
       "#'user/__"
      ]
     },
     "execution_count": 99,
     "metadata": {},
     "output_type": "execute_result"
    }
   ],
   "source": [
    ";; version 2\n",
    "\n",
    "(defn __ [coll]\n",
    "    (loop [x coll]\n",
    "        (if (some sequential? x)\n",
    "            (recur (reduce (fn [acc v]\n",
    "                              (if (sequential? v)\n",
    "                                  (concat acc v)\n",
    "                                  (concat acc [v]))) [] x))\n",
    "            x)))"
   ]
  },
  {
   "cell_type": "code",
   "execution_count": 100,
   "id": "quality-publisher",
   "metadata": {},
   "outputs": [
    {
     "data": {
      "text/plain": [
       "true"
      ]
     },
     "execution_count": 100,
     "metadata": {},
     "output_type": "execute_result"
    }
   ],
   "source": [
    "(= (__ '((1 2) 3 [4 [5 6]])) '(1 2 3 4 5 6))"
   ]
  },
  {
   "cell_type": "code",
   "execution_count": 101,
   "id": "applied-insured",
   "metadata": {},
   "outputs": [
    {
     "data": {
      "text/plain": [
       "true"
      ]
     },
     "execution_count": 101,
     "metadata": {},
     "output_type": "execute_result"
    }
   ],
   "source": [
    "(= (__ [\"a\" [\"b\"] \"c\"]) '(\"a\" \"b\" \"c\"))"
   ]
  },
  {
   "cell_type": "code",
   "execution_count": 102,
   "id": "soviet-fifteen",
   "metadata": {},
   "outputs": [
    {
     "data": {
      "text/plain": [
       "true"
      ]
     },
     "execution_count": 102,
     "metadata": {},
     "output_type": "execute_result"
    }
   ],
   "source": [
    "(= (__ '((((:a))))) '(:a))"
   ]
  },
  {
   "cell_type": "markdown",
   "id": "isolated-composite",
   "metadata": {},
   "source": [
    "## Problem 29, Get the Caps\n",
    "Difficulty: easy\n",
    "Write a function which takes a string and returns a new string containing only the capital letters."
   ]
  },
  {
   "cell_type": "code",
   "execution_count": 103,
   "id": "metropolitan-eugene",
   "metadata": {},
   "outputs": [
    {
     "data": {
      "text/plain": [
       "#'user/__"
      ]
     },
     "execution_count": 103,
     "metadata": {},
     "output_type": "execute_result"
    }
   ],
   "source": [
    "(defn __ [str]\n",
    "    (defn in? [coll elm]\n",
    "        (some #(= elm %) coll))\n",
    "    (let [l-str-seq (seq (clojure.string/lower-case str))\n",
    "          str-seq (seq str)]\n",
    "        (clojure.string/join (filter #((complement in?) l-str-seq %) str-seq))))"
   ]
  },
  {
   "cell_type": "code",
   "execution_count": 104,
   "id": "adjacent-inquiry",
   "metadata": {},
   "outputs": [
    {
     "data": {
      "text/plain": [
       "\"HLOWRD\""
      ]
     },
     "execution_count": 104,
     "metadata": {},
     "output_type": "execute_result"
    }
   ],
   "source": [
    "(__ \"HeLlO, WoRlD!\")"
   ]
  },
  {
   "cell_type": "code",
   "execution_count": 105,
   "id": "greenhouse-stack",
   "metadata": {},
   "outputs": [
    {
     "data": {
      "text/plain": [
       "true"
      ]
     },
     "execution_count": 105,
     "metadata": {},
     "output_type": "execute_result"
    }
   ],
   "source": [
    "(= (__ \"HeLlO, WoRlD!\") \"HLOWRD\")"
   ]
  },
  {
   "cell_type": "code",
   "execution_count": 106,
   "id": "russian-mirror",
   "metadata": {},
   "outputs": [
    {
     "data": {
      "text/plain": [
       "true"
      ]
     },
     "execution_count": 106,
     "metadata": {},
     "output_type": "execute_result"
    }
   ],
   "source": [
    "(empty? (__ \"nothing\"))"
   ]
  },
  {
   "cell_type": "code",
   "execution_count": 107,
   "id": "abandoned-customs",
   "metadata": {
    "scrolled": true
   },
   "outputs": [
    {
     "data": {
      "text/plain": [
       "true"
      ]
     },
     "execution_count": 107,
     "metadata": {},
     "output_type": "execute_result"
    }
   ],
   "source": [
    "(= (__ \"$#A(*&987Zf\") \"AZ\")"
   ]
  },
  {
   "cell_type": "code",
   "execution_count": 108,
   "id": "medieval-czech",
   "metadata": {},
   "outputs": [
    {
     "data": {
      "text/plain": [
       "(\\H \\e \\L \\l \\O \\, \\space \\W \\o \\R \\l \\D \\!)"
      ]
     },
     "execution_count": 108,
     "metadata": {},
     "output_type": "execute_result"
    }
   ],
   "source": [
    "(seq \"HeLlO, WoRlD!\")"
   ]
  },
  {
   "cell_type": "code",
   "execution_count": 109,
   "id": "acknowledged-radius",
   "metadata": {},
   "outputs": [
    {
     "data": {
      "text/plain": [
       "true"
      ]
     },
     "execution_count": 109,
     "metadata": {},
     "output_type": "execute_result"
    }
   ],
   "source": [
    "(in? (seq \"HeLlO, WoRlD!\") \\H)"
   ]
  },
  {
   "cell_type": "code",
   "execution_count": 110,
   "id": "massive-viking",
   "metadata": {},
   "outputs": [
    {
     "data": {
      "text/plain": [
       "#function[user/--/in?--4290]"
      ]
     },
     "execution_count": 110,
     "metadata": {},
     "output_type": "execute_result"
    }
   ],
   "source": [
    "in?"
   ]
  },
  {
   "cell_type": "markdown",
   "id": "scenic-disclaimer",
   "metadata": {},
   "source": [
    "## Problem 30, Compress a Sequence\n",
    "Difficulty: easy\n",
    "Write a function which removes consecutive duplicates from a sequence."
   ]
  },
  {
   "cell_type": "code",
   "execution_count": 270,
   "id": "verified-watch",
   "metadata": {},
   "outputs": [
    {
     "data": {
      "text/plain": [
       "#'user/indexes-of"
      ]
     },
     "execution_count": 270,
     "metadata": {},
     "output_type": "execute_result"
    }
   ],
   "source": [
    "(defn indexes-of [e coll]\n",
    "    (keep-indexed #(if (= e %2) %1) coll))"
   ]
  },
  {
   "cell_type": "code",
   "execution_count": 271,
   "id": "several-painting",
   "metadata": {
    "scrolled": true
   },
   "outputs": [
    {
     "data": {
      "text/plain": [
       "#'user/__"
      ]
     },
     "execution_count": 271,
     "metadata": {},
     "output_type": "execute_result"
    }
   ],
   "source": [
    "(defn __ [coll]\n",
    "    (defn enumerate [coll]\n",
    "        (let [v (vec coll)]\n",
    "            (map #(find v %) (range (count v)))))\n",
    "    (filter (complement nil?)\n",
    "            (for [[i v] (enumerate coll)]\n",
    "                (cond\n",
    "                    (= i 0) v\n",
    "                    (not= v (nth coll (dec i))) v))))"
   ]
  },
  {
   "cell_type": "code",
   "execution_count": 272,
   "id": "antique-overall",
   "metadata": {},
   "outputs": [
    {
     "data": {
      "text/plain": [
       "true"
      ]
     },
     "execution_count": 272,
     "metadata": {},
     "output_type": "execute_result"
    }
   ],
   "source": [
    "(= (apply str (__ \"Leeeeeerrroyyy\")) \"Leroy\")"
   ]
  },
  {
   "cell_type": "code",
   "execution_count": 273,
   "id": "retained-rover",
   "metadata": {},
   "outputs": [
    {
     "data": {
      "text/plain": [
       "true"
      ]
     },
     "execution_count": 273,
     "metadata": {},
     "output_type": "execute_result"
    }
   ],
   "source": [
    "(= (__ [1 1 2 3 3 2 2 3]) '(1 2 3 2 3))"
   ]
  },
  {
   "cell_type": "code",
   "execution_count": 274,
   "id": "insured-recovery",
   "metadata": {},
   "outputs": [
    {
     "data": {
      "text/plain": [
       "true"
      ]
     },
     "execution_count": 274,
     "metadata": {},
     "output_type": "execute_result"
    }
   ],
   "source": [
    "(= (__ [[1 2] [1 2] [3 4] [1 2]]) '([1 2] [3 4] [1 2]))"
   ]
  },
  {
   "cell_type": "code",
   "execution_count": null,
   "id": "sweet-occasion",
   "metadata": {},
   "outputs": [],
   "source": []
  }
 ],
 "metadata": {
  "kernelspec": {
   "display_name": "Clojure (clojupyter-0.3.2)",
   "language": "clojure",
   "name": "clojupyter-0.3.2"
  },
  "language_info": {
   "file_extension": ".clj",
   "mimetype": "text/x-clojure",
   "name": "clojure",
   "version": "1.10.1"
  },
  "toc": {
   "base_numbering": 1,
   "nav_menu": {},
   "number_sections": false,
   "sideBar": true,
   "skip_h1_title": false,
   "title_cell": "Table of Contents",
   "title_sidebar": "Contents",
   "toc_cell": false,
   "toc_position": {},
   "toc_section_display": true,
   "toc_window_display": true
  }
 },
 "nbformat": 4,
 "nbformat_minor": 5
}
