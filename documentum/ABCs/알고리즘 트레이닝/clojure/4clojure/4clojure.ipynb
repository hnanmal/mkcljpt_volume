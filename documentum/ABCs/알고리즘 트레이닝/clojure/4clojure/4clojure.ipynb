{
 "cells": [
  {
   "cell_type": "markdown",
   "id": "respiratory-server",
   "metadata": {},
   "source": [
    "## Problem 1, Nothing but the Truth\n",
    "Difficulty: elementary\n",
    "Complete the expression so it will evaluate to true."
   ]
  },
  {
   "cell_type": "code",
   "execution_count": 1,
   "id": "jewish-effort",
   "metadata": {},
   "outputs": [
    {
     "data": {
      "text/plain": [
       "#'user/__"
      ]
     },
     "execution_count": 1,
     "metadata": {},
     "output_type": "execute_result"
    }
   ],
   "source": [
    "(def __ true)"
   ]
  },
  {
   "cell_type": "code",
   "execution_count": 2,
   "id": "quantitative-brunei",
   "metadata": {},
   "outputs": [
    {
     "data": {
      "text/plain": [
       "true"
      ]
     },
     "execution_count": 2,
     "metadata": {},
     "output_type": "execute_result"
    }
   ],
   "source": [
    "(= __ true)"
   ]
  },
  {
   "cell_type": "markdown",
   "id": "experienced-sydney",
   "metadata": {},
   "source": [
    "## Problem 2, Simple Math\n",
    "Difficulty: elementary\n",
    "Innermost forms are evaluated first."
   ]
  },
  {
   "cell_type": "code",
   "execution_count": 3,
   "id": "weighted-armor",
   "metadata": {},
   "outputs": [
    {
     "data": {
      "text/plain": [
       "#'user/__"
      ]
     },
     "execution_count": 3,
     "metadata": {},
     "output_type": "execute_result"
    }
   ],
   "source": [
    "(def __ 4)"
   ]
  },
  {
   "cell_type": "code",
   "execution_count": 4,
   "id": "ordinary-garage",
   "metadata": {},
   "outputs": [
    {
     "data": {
      "text/plain": [
       "true"
      ]
     },
     "execution_count": 4,
     "metadata": {},
     "output_type": "execute_result"
    }
   ],
   "source": [
    "(= (- 10 (* 2 3)) __)"
   ]
  },
  {
   "cell_type": "markdown",
   "id": "warming-photography",
   "metadata": {},
   "source": [
    "## Problem 3, Strings\n",
    "Difficulty: elementary\n",
    "Clojure strings are Java strings, so you can use Java string methods on them."
   ]
  },
  {
   "cell_type": "code",
   "execution_count": 5,
   "id": "charitable-adapter",
   "metadata": {},
   "outputs": [
    {
     "data": {
      "text/plain": [
       "#'user/__"
      ]
     },
     "execution_count": 5,
     "metadata": {},
     "output_type": "execute_result"
    }
   ],
   "source": [
    "(def __ \"HELLO WORLD\")"
   ]
  },
  {
   "cell_type": "code",
   "execution_count": 6,
   "id": "purple-north",
   "metadata": {},
   "outputs": [
    {
     "data": {
      "text/plain": [
       "true"
      ]
     },
     "execution_count": 6,
     "metadata": {},
     "output_type": "execute_result"
    }
   ],
   "source": [
    "(= __ (.toUpperCase \"hello world\"))"
   ]
  },
  {
   "cell_type": "markdown",
   "id": "aggressive-answer",
   "metadata": {},
   "source": [
    "## Problem 4, Lists\n",
    "Difficulty: elementary\n",
    "Lists can be constructed with either a function or a quoted form."
   ]
  },
  {
   "cell_type": "code",
   "execution_count": 7,
   "id": "actual-australian",
   "metadata": {},
   "outputs": [
    {
     "data": {
      "text/plain": [
       "true"
      ]
     },
     "execution_count": 7,
     "metadata": {},
     "output_type": "execute_result"
    }
   ],
   "source": [
    "(= (list :a :b :c) '(:a :b :c))"
   ]
  },
  {
   "cell_type": "markdown",
   "id": "forbidden-disposal",
   "metadata": {},
   "source": [
    "## Problem 5, conj on lists\n",
    "Difficulty: elementary\n",
    "When operating on a list, the conj function will return a new list with one or more items \"added\" to the front."
   ]
  },
  {
   "cell_type": "code",
   "execution_count": 8,
   "id": "palestinian-dependence",
   "metadata": {},
   "outputs": [
    {
     "data": {
      "text/plain": [
       "#'user/__"
      ]
     },
     "execution_count": 8,
     "metadata": {},
     "output_type": "execute_result"
    }
   ],
   "source": [
    "(def __ '(1 2 3 4))"
   ]
  },
  {
   "cell_type": "code",
   "execution_count": 9,
   "id": "infrared-healthcare",
   "metadata": {},
   "outputs": [
    {
     "data": {
      "text/plain": [
       "true"
      ]
     },
     "execution_count": 9,
     "metadata": {},
     "output_type": "execute_result"
    }
   ],
   "source": [
    "(= __ (conj '(2 3 4) 1))"
   ]
  },
  {
   "cell_type": "code",
   "execution_count": 10,
   "id": "ceramic-darwin",
   "metadata": {},
   "outputs": [
    {
     "data": {
      "text/plain": [
       "true"
      ]
     },
     "execution_count": 10,
     "metadata": {},
     "output_type": "execute_result"
    }
   ],
   "source": [
    "(= __ (conj '(3 4) 2 1))"
   ]
  },
  {
   "cell_type": "markdown",
   "id": "damaged-disorder",
   "metadata": {},
   "source": [
    "## Problem 6, Vectors\n",
    "Difficulty: elementary\n",
    "Vectors can be constructed several ways. You can compare them with lists."
   ]
  },
  {
   "cell_type": "code",
   "execution_count": 11,
   "id": "comprehensive-preliminary",
   "metadata": {},
   "outputs": [
    {
     "data": {
      "text/plain": [
       "true"
      ]
     },
     "execution_count": 11,
     "metadata": {},
     "output_type": "execute_result"
    }
   ],
   "source": [
    "(= [:a :b :c] (list :a :b :c) (vec '(:a :b :c)) (vector :a :b :c))"
   ]
  },
  {
   "cell_type": "markdown",
   "id": "unlimited-wagner",
   "metadata": {},
   "source": [
    "## Problem 7, conj on vectors\n",
    "Difficulty: elementary\n",
    "When operating on a Vector, the conj function will return a new vector with one or more items \"added\" to the end."
   ]
  },
  {
   "cell_type": "code",
   "execution_count": 12,
   "id": "beginning-trace",
   "metadata": {},
   "outputs": [
    {
     "data": {
      "text/plain": [
       "#'user/__"
      ]
     },
     "execution_count": 12,
     "metadata": {},
     "output_type": "execute_result"
    }
   ],
   "source": [
    "(def __ [1 2 3 4])"
   ]
  },
  {
   "cell_type": "code",
   "execution_count": 13,
   "id": "likely-sunday",
   "metadata": {
    "scrolled": true
   },
   "outputs": [
    {
     "data": {
      "text/plain": [
       "true"
      ]
     },
     "execution_count": 13,
     "metadata": {},
     "output_type": "execute_result"
    }
   ],
   "source": [
    "(= __ (conj [1 2 3] 4))"
   ]
  },
  {
   "cell_type": "code",
   "execution_count": 14,
   "id": "tracked-photography",
   "metadata": {},
   "outputs": [
    {
     "data": {
      "text/plain": [
       "true"
      ]
     },
     "execution_count": 14,
     "metadata": {},
     "output_type": "execute_result"
    }
   ],
   "source": [
    "(= __ (conj [1 2] 3 4))"
   ]
  },
  {
   "cell_type": "markdown",
   "id": "arbitrary-century",
   "metadata": {},
   "source": [
    "## Problem 8, Sets\n",
    "Difficulty: elementary\n",
    "Sets are collections of unique values."
   ]
  },
  {
   "cell_type": "code",
   "execution_count": 15,
   "id": "determined-network",
   "metadata": {},
   "outputs": [
    {
     "data": {
      "text/plain": [
       "#'user/__"
      ]
     },
     "execution_count": 15,
     "metadata": {},
     "output_type": "execute_result"
    }
   ],
   "source": [
    "(def __ #{:a :b :c :d})"
   ]
  },
  {
   "cell_type": "code",
   "execution_count": 16,
   "id": "sunset-controversy",
   "metadata": {},
   "outputs": [
    {
     "data": {
      "text/plain": [
       "true"
      ]
     },
     "execution_count": 16,
     "metadata": {},
     "output_type": "execute_result"
    }
   ],
   "source": [
    "(= __ (set '(:a :a :b :c :c :c :c :d :d)))"
   ]
  },
  {
   "cell_type": "code",
   "execution_count": 17,
   "id": "alien-rating",
   "metadata": {},
   "outputs": [
    {
     "data": {
      "text/plain": [
       "true"
      ]
     },
     "execution_count": 17,
     "metadata": {},
     "output_type": "execute_result"
    }
   ],
   "source": [
    "(= __ (clojure.set/union #{:a :b :c} #{:b :c :d}))"
   ]
  },
  {
   "cell_type": "markdown",
   "id": "close-technique",
   "metadata": {},
   "source": [
    "## Problem 9, conj on sets\n",
    "Difficulty: elementary\n",
    "When operating on a set, the conj function returns a new set with one or more keys \"added\"."
   ]
  },
  {
   "cell_type": "code",
   "execution_count": 18,
   "id": "monthly-spectacular",
   "metadata": {},
   "outputs": [
    {
     "data": {
      "text/plain": [
       "#'user/__"
      ]
     },
     "execution_count": 18,
     "metadata": {},
     "output_type": "execute_result"
    }
   ],
   "source": [
    "(def __ 2)"
   ]
  },
  {
   "cell_type": "code",
   "execution_count": 19,
   "id": "violent-accountability",
   "metadata": {},
   "outputs": [
    {
     "data": {
      "text/plain": [
       "true"
      ]
     },
     "execution_count": 19,
     "metadata": {},
     "output_type": "execute_result"
    }
   ],
   "source": [
    "(= #{1 2 3 4} (conj #{1 4 3} __))"
   ]
  },
  {
   "cell_type": "markdown",
   "id": "extraordinary-competition",
   "metadata": {},
   "source": [
    "## Problem 10, Maps\n",
    "Difficulty: elementary\n",
    "Maps store key-value pairs. Both maps and keywords can be used as lookup functions. Commas are whitespace."
   ]
  },
  {
   "cell_type": "code",
   "execution_count": 20,
   "id": "bored-sender",
   "metadata": {},
   "outputs": [
    {
     "data": {
      "text/plain": [
       "#'user/__"
      ]
     },
     "execution_count": 20,
     "metadata": {},
     "output_type": "execute_result"
    }
   ],
   "source": [
    "(def __ 20)"
   ]
  },
  {
   "cell_type": "code",
   "execution_count": 21,
   "id": "removed-quilt",
   "metadata": {},
   "outputs": [
    {
     "data": {
      "text/plain": [
       "true"
      ]
     },
     "execution_count": 21,
     "metadata": {},
     "output_type": "execute_result"
    }
   ],
   "source": [
    "(= __ ((hash-map :a 10, :b 20, :c 30) :b))"
   ]
  },
  {
   "cell_type": "code",
   "execution_count": 22,
   "id": "confirmed-conservative",
   "metadata": {
    "scrolled": true
   },
   "outputs": [
    {
     "data": {
      "text/plain": [
       "true"
      ]
     },
     "execution_count": 22,
     "metadata": {},
     "output_type": "execute_result"
    }
   ],
   "source": [
    "(= __ (:b {:a 10, :b 20, :c 30}))"
   ]
  },
  {
   "cell_type": "markdown",
   "id": "wrong-applicant",
   "metadata": {},
   "source": [
    "---"
   ]
  },
  {
   "cell_type": "markdown",
   "id": "stunning-vietnam",
   "metadata": {},
   "source": [
    "## Problem 11, conj on maps\n",
    "Difficulty: elementary\n",
    "When operating on a map, the conj function returns a new map with one or more key-value pairs \"added\"."
   ]
  },
  {
   "cell_type": "code",
   "execution_count": 23,
   "id": "necessary-milwaukee",
   "metadata": {},
   "outputs": [
    {
     "data": {
      "text/plain": [
       "#'user/__"
      ]
     },
     "execution_count": 23,
     "metadata": {},
     "output_type": "execute_result"
    }
   ],
   "source": [
    "(def __ [:b 2])"
   ]
  },
  {
   "cell_type": "code",
   "execution_count": 24,
   "id": "interstate-destruction",
   "metadata": {},
   "outputs": [
    {
     "data": {
      "text/plain": [
       "true"
      ]
     },
     "execution_count": 24,
     "metadata": {},
     "output_type": "execute_result"
    }
   ],
   "source": [
    "(= {:a 1, :b 2, :c 3} (conj {:a 1} __ [:c 3]))"
   ]
  },
  {
   "cell_type": "markdown",
   "id": "experimental-working",
   "metadata": {},
   "source": [
    "## Problem 12, Sequences\n",
    "Difficulty: elementary\n",
    "All Clojure collections support sequencing. You can operate on sequences with functions like first, second, and last."
   ]
  },
  {
   "cell_type": "code",
   "execution_count": 25,
   "id": "surface-commission",
   "metadata": {},
   "outputs": [
    {
     "data": {
      "text/plain": [
       "#'user/__"
      ]
     },
     "execution_count": 25,
     "metadata": {},
     "output_type": "execute_result"
    }
   ],
   "source": [
    "(def __ 3)"
   ]
  },
  {
   "cell_type": "code",
   "execution_count": 26,
   "id": "assisted-record",
   "metadata": {},
   "outputs": [
    {
     "data": {
      "text/plain": [
       "true"
      ]
     },
     "execution_count": 26,
     "metadata": {},
     "output_type": "execute_result"
    }
   ],
   "source": [
    "(= __ (first '(3 2 1)))"
   ]
  },
  {
   "cell_type": "code",
   "execution_count": 27,
   "id": "southern-nicaragua",
   "metadata": {},
   "outputs": [
    {
     "data": {
      "text/plain": [
       "true"
      ]
     },
     "execution_count": 27,
     "metadata": {},
     "output_type": "execute_result"
    }
   ],
   "source": [
    "(= __ (second [2 3 4]))"
   ]
  },
  {
   "cell_type": "code",
   "execution_count": 28,
   "id": "norman-forty",
   "metadata": {},
   "outputs": [
    {
     "data": {
      "text/plain": [
       "true"
      ]
     },
     "execution_count": 28,
     "metadata": {},
     "output_type": "execute_result"
    }
   ],
   "source": [
    "(= __ (last (list 1 2 3)))"
   ]
  },
  {
   "cell_type": "markdown",
   "id": "weird-instrumentation",
   "metadata": {},
   "source": [
    "## Problem 13, rest\n",
    "Difficulty: elementary\n",
    "The rest function will return all the items of a sequence except the first."
   ]
  },
  {
   "cell_type": "code",
   "execution_count": 29,
   "id": "convertible-booking",
   "metadata": {},
   "outputs": [
    {
     "data": {
      "text/plain": [
       "#'user/__"
      ]
     },
     "execution_count": 29,
     "metadata": {},
     "output_type": "execute_result"
    }
   ],
   "source": [
    "(def __ [20 30 40])"
   ]
  },
  {
   "cell_type": "code",
   "execution_count": 30,
   "id": "arbitrary-thesis",
   "metadata": {},
   "outputs": [
    {
     "data": {
      "text/plain": [
       "true"
      ]
     },
     "execution_count": 30,
     "metadata": {},
     "output_type": "execute_result"
    }
   ],
   "source": [
    "(= __ (rest [10 20 30 40]))"
   ]
  },
  {
   "cell_type": "markdown",
   "id": "stock-bidding",
   "metadata": {},
   "source": [
    "## Problem 14, Functions\n",
    "Difficulty: elementary\n",
    "Clojure has many different ways to create functions."
   ]
  },
  {
   "cell_type": "code",
   "execution_count": 31,
   "id": "corresponding-dealer",
   "metadata": {},
   "outputs": [
    {
     "data": {
      "text/plain": [
       "#'user/__"
      ]
     },
     "execution_count": 31,
     "metadata": {},
     "output_type": "execute_result"
    }
   ],
   "source": [
    "(def __ 8)"
   ]
  },
  {
   "cell_type": "code",
   "execution_count": 32,
   "id": "final-anxiety",
   "metadata": {},
   "outputs": [
    {
     "data": {
      "text/plain": [
       "true"
      ]
     },
     "execution_count": 32,
     "metadata": {},
     "output_type": "execute_result"
    }
   ],
   "source": [
    "(= __ ((fn add-five [x] (+ x 5)) 3))"
   ]
  },
  {
   "cell_type": "code",
   "execution_count": 33,
   "id": "sacred-chancellor",
   "metadata": {},
   "outputs": [
    {
     "data": {
      "text/plain": [
       "true"
      ]
     },
     "execution_count": 33,
     "metadata": {},
     "output_type": "execute_result"
    }
   ],
   "source": [
    "(= __ ((fn [x] (+ x 5)) 3))"
   ]
  },
  {
   "cell_type": "code",
   "execution_count": 34,
   "id": "tough-retail",
   "metadata": {},
   "outputs": [
    {
     "data": {
      "text/plain": [
       "true"
      ]
     },
     "execution_count": 34,
     "metadata": {},
     "output_type": "execute_result"
    }
   ],
   "source": [
    "(= __ (#(+ % 5) 3))"
   ]
  },
  {
   "cell_type": "code",
   "execution_count": 35,
   "id": "measured-breast",
   "metadata": {},
   "outputs": [
    {
     "data": {
      "text/plain": [
       "true"
      ]
     },
     "execution_count": 35,
     "metadata": {},
     "output_type": "execute_result"
    }
   ],
   "source": [
    "(= __ ((partial + 5) 3))"
   ]
  },
  {
   "cell_type": "markdown",
   "id": "numeric-future",
   "metadata": {},
   "source": [
    "## Problem 15, Double Down\n",
    "Difficulty: elementary\n",
    "Write a function which doubles a number."
   ]
  },
  {
   "cell_type": "code",
   "execution_count": 36,
   "id": "public-swaziland",
   "metadata": {},
   "outputs": [
    {
     "data": {
      "text/plain": [
       "#'user/__"
      ]
     },
     "execution_count": 36,
     "metadata": {},
     "output_type": "execute_result"
    }
   ],
   "source": [
    "(def __ #(* 2 %))"
   ]
  },
  {
   "cell_type": "code",
   "execution_count": 37,
   "id": "intelligent-amber",
   "metadata": {},
   "outputs": [
    {
     "data": {
      "text/plain": [
       "true"
      ]
     },
     "execution_count": 37,
     "metadata": {},
     "output_type": "execute_result"
    }
   ],
   "source": [
    "(= (__ 2) 4)"
   ]
  },
  {
   "cell_type": "code",
   "execution_count": 38,
   "id": "happy-traveler",
   "metadata": {},
   "outputs": [
    {
     "data": {
      "text/plain": [
       "true"
      ]
     },
     "execution_count": 38,
     "metadata": {},
     "output_type": "execute_result"
    }
   ],
   "source": [
    "(= (__ 3) 6)"
   ]
  },
  {
   "cell_type": "code",
   "execution_count": 39,
   "id": "searching-architecture",
   "metadata": {},
   "outputs": [
    {
     "data": {
      "text/plain": [
       "true"
      ]
     },
     "execution_count": 39,
     "metadata": {},
     "output_type": "execute_result"
    }
   ],
   "source": [
    "(= (__ 11) 22)"
   ]
  },
  {
   "cell_type": "code",
   "execution_count": 40,
   "id": "latter-internet",
   "metadata": {},
   "outputs": [
    {
     "data": {
      "text/plain": [
       "true"
      ]
     },
     "execution_count": 40,
     "metadata": {},
     "output_type": "execute_result"
    }
   ],
   "source": [
    "(= (__ 7) 14)"
   ]
  },
  {
   "cell_type": "markdown",
   "id": "statutory-performer",
   "metadata": {},
   "source": [
    "## Problem 16, Hello World\n",
    "Difficulty: elementary\n",
    "Write a function which returns a personalized greeting."
   ]
  },
  {
   "cell_type": "code",
   "execution_count": 41,
   "id": "comic-miami",
   "metadata": {},
   "outputs": [
    {
     "data": {
      "text/plain": [
       "#'user/__"
      ]
     },
     "execution_count": 41,
     "metadata": {},
     "output_type": "execute_result"
    }
   ],
   "source": [
    "(defn __ [str-]\n",
    "    (str \"Hello, \" str- \"!\"))"
   ]
  },
  {
   "cell_type": "code",
   "execution_count": 42,
   "id": "reliable-kruger",
   "metadata": {},
   "outputs": [
    {
     "data": {
      "text/plain": [
       "true"
      ]
     },
     "execution_count": 42,
     "metadata": {},
     "output_type": "execute_result"
    }
   ],
   "source": [
    "(= (__ \"Dave\") \"Hello, Dave!\")"
   ]
  },
  {
   "cell_type": "code",
   "execution_count": 43,
   "id": "funny-criterion",
   "metadata": {},
   "outputs": [
    {
     "data": {
      "text/plain": [
       "true"
      ]
     },
     "execution_count": 43,
     "metadata": {},
     "output_type": "execute_result"
    }
   ],
   "source": [
    "(= (__ \"Jenn\") \"Hello, Jenn!\")"
   ]
  },
  {
   "cell_type": "code",
   "execution_count": 44,
   "id": "light-engineering",
   "metadata": {},
   "outputs": [
    {
     "data": {
      "text/plain": [
       "true"
      ]
     },
     "execution_count": 44,
     "metadata": {},
     "output_type": "execute_result"
    }
   ],
   "source": [
    "(= (__ \"Rhea\") \"Hello, Rhea!\")"
   ]
  },
  {
   "cell_type": "markdown",
   "id": "distributed-playing",
   "metadata": {},
   "source": [
    "## Problem 17, map\n",
    "Difficulty: elementary\n",
    "The map function takes two arguments: a function (f) and a sequence (s). Map returns a new sequence consisting of the result of applying f to each item of s. Do not confuse the map function with the map data structure."
   ]
  },
  {
   "cell_type": "code",
   "execution_count": 45,
   "id": "committed-irrigation",
   "metadata": {},
   "outputs": [
    {
     "data": {
      "text/plain": [
       "#'user/__"
      ]
     },
     "execution_count": 45,
     "metadata": {},
     "output_type": "execute_result"
    }
   ],
   "source": [
    "(def __ '(6 7 8))"
   ]
  },
  {
   "cell_type": "code",
   "execution_count": 46,
   "id": "collaborative-enterprise",
   "metadata": {},
   "outputs": [
    {
     "data": {
      "text/plain": [
       "true"
      ]
     },
     "execution_count": 46,
     "metadata": {},
     "output_type": "execute_result"
    }
   ],
   "source": [
    "(= __ (map #(+ % 5) '(1 2 3)))"
   ]
  },
  {
   "cell_type": "markdown",
   "id": "checked-shannon",
   "metadata": {},
   "source": [
    "## Problem 18, filter\n",
    "Difficulty: elementary\n",
    "The filter function takes two arguments: a predicate function (f) and a sequence (s). Filter returns a new sequence consisting of all the items of s for which (f item) returns true."
   ]
  },
  {
   "cell_type": "code",
   "execution_count": 47,
   "id": "actual-innocent",
   "metadata": {},
   "outputs": [
    {
     "data": {
      "text/plain": [
       "#'user/__"
      ]
     },
     "execution_count": 47,
     "metadata": {},
     "output_type": "execute_result"
    }
   ],
   "source": [
    "(def __ '(6 7))"
   ]
  },
  {
   "cell_type": "code",
   "execution_count": 48,
   "id": "sound-backup",
   "metadata": {},
   "outputs": [
    {
     "data": {
      "text/plain": [
       "true"
      ]
     },
     "execution_count": 48,
     "metadata": {},
     "output_type": "execute_result"
    }
   ],
   "source": [
    "(= __ (filter #(> % 5) '(3 4 5 6 7)))"
   ]
  },
  {
   "cell_type": "markdown",
   "id": "medical-earthquake",
   "metadata": {},
   "source": [
    "## Problem 19, Last Element\n",
    "Difficulty: easy\n",
    "Write a function which returns the last element in a sequence."
   ]
  },
  {
   "cell_type": "code",
   "execution_count": 49,
   "id": "atomic-intermediate",
   "metadata": {},
   "outputs": [
    {
     "data": {
      "text/plain": [
       "#'user/__"
      ]
     },
     "execution_count": 49,
     "metadata": {},
     "output_type": "execute_result"
    }
   ],
   "source": [
    "(defn __ [coll]\n",
    "    (nth coll (dec (count coll))))"
   ]
  },
  {
   "cell_type": "code",
   "execution_count": 50,
   "id": "occupied-collector",
   "metadata": {},
   "outputs": [
    {
     "data": {
      "text/plain": [
       "true"
      ]
     },
     "execution_count": 50,
     "metadata": {},
     "output_type": "execute_result"
    }
   ],
   "source": [
    "(= (__ [1 2 3 4 5]) 5)"
   ]
  },
  {
   "cell_type": "code",
   "execution_count": 51,
   "id": "waiting-cylinder",
   "metadata": {},
   "outputs": [
    {
     "data": {
      "text/plain": [
       "true"
      ]
     },
     "execution_count": 51,
     "metadata": {},
     "output_type": "execute_result"
    }
   ],
   "source": [
    "(= (__ '(5 4 3)) 3)"
   ]
  },
  {
   "cell_type": "code",
   "execution_count": 52,
   "id": "desirable-injection",
   "metadata": {},
   "outputs": [
    {
     "data": {
      "text/plain": [
       "true"
      ]
     },
     "execution_count": 52,
     "metadata": {},
     "output_type": "execute_result"
    }
   ],
   "source": [
    "(= (__ [\"b\" \"c\" \"d\"]) \"d\")"
   ]
  },
  {
   "cell_type": "markdown",
   "id": "multiple-chuck",
   "metadata": {},
   "source": [
    "## Problem 20, Penultimate Element\n",
    "Difficulty: easy\n",
    "Write a function which returns the second to last element from a sequence."
   ]
  },
  {
   "cell_type": "code",
   "execution_count": 53,
   "id": "confirmed-sharing",
   "metadata": {},
   "outputs": [
    {
     "data": {
      "text/plain": [
       "#'user/__"
      ]
     },
     "execution_count": 53,
     "metadata": {},
     "output_type": "execute_result"
    }
   ],
   "source": [
    "(defn __ [coll]\n",
    "    (nth coll (- (count coll) 2)))\n",
    "\n",
    ";;#(second (reverse %))"
   ]
  },
  {
   "cell_type": "code",
   "execution_count": 54,
   "id": "hidden-broadway",
   "metadata": {},
   "outputs": [
    {
     "data": {
      "text/plain": [
       "true"
      ]
     },
     "execution_count": 54,
     "metadata": {},
     "output_type": "execute_result"
    }
   ],
   "source": [
    "(= (__ (list 1 2 3 4 5)) 4)"
   ]
  },
  {
   "cell_type": "code",
   "execution_count": 55,
   "id": "attractive-contents",
   "metadata": {},
   "outputs": [
    {
     "data": {
      "text/plain": [
       "true"
      ]
     },
     "execution_count": 55,
     "metadata": {},
     "output_type": "execute_result"
    }
   ],
   "source": [
    "(= (__ [\"a\" \"b\" \"c\"]) \"b\")"
   ]
  },
  {
   "cell_type": "code",
   "execution_count": 56,
   "id": "auburn-brown",
   "metadata": {},
   "outputs": [
    {
     "data": {
      "text/plain": [
       "true"
      ]
     },
     "execution_count": 56,
     "metadata": {},
     "output_type": "execute_result"
    }
   ],
   "source": [
    "(= (__ [[1 2] [3 4]]) [1 2])"
   ]
  },
  {
   "cell_type": "markdown",
   "id": "bulgarian-percentage",
   "metadata": {},
   "source": [
    "## Problem 21, Nth Element\n",
    "Difficulty: easy\n",
    "Write a function which returns the Nth element from a sequence."
   ]
  },
  {
   "cell_type": "code",
   "execution_count": 57,
   "id": "handed-builder",
   "metadata": {},
   "outputs": [
    {
     "data": {
      "text/plain": [
       "#'user/__"
      ]
     },
     "execution_count": 57,
     "metadata": {},
     "output_type": "execute_result"
    }
   ],
   "source": [
    "(defn __ [coll n]\n",
    "    ((vec coll) n))"
   ]
  },
  {
   "cell_type": "code",
   "execution_count": 58,
   "id": "seventh-england",
   "metadata": {},
   "outputs": [
    {
     "data": {
      "text/plain": [
       "#'user/__"
      ]
     },
     "execution_count": 58,
     "metadata": {},
     "output_type": "execute_result"
    }
   ],
   "source": [
    "(defn __ [coll n]\n",
    "    (loop [cnt 0 res (seq coll)]\n",
    "        (if (= cnt n)\n",
    "            (first res)\n",
    "            (recur (inc cnt) (next res)))))"
   ]
  },
  {
   "cell_type": "code",
   "execution_count": 59,
   "id": "ahead-black",
   "metadata": {
    "scrolled": true
   },
   "outputs": [
    {
     "data": {
      "text/plain": [
       "6"
      ]
     },
     "execution_count": 59,
     "metadata": {},
     "output_type": "execute_result"
    }
   ],
   "source": [
    "(__ '(4 5 6 7) 2)"
   ]
  },
  {
   "cell_type": "code",
   "execution_count": 60,
   "id": "coordinate-glossary",
   "metadata": {},
   "outputs": [
    {
     "data": {
      "text/plain": [
       "true"
      ]
     },
     "execution_count": 60,
     "metadata": {},
     "output_type": "execute_result"
    }
   ],
   "source": [
    "(= (__ '(4 5 6 7) 2) 6)"
   ]
  },
  {
   "cell_type": "code",
   "execution_count": 61,
   "id": "supported-clock",
   "metadata": {},
   "outputs": [
    {
     "data": {
      "text/plain": [
       "true"
      ]
     },
     "execution_count": 61,
     "metadata": {},
     "output_type": "execute_result"
    }
   ],
   "source": [
    "(= (__ [:a :b :c] 0) :a)"
   ]
  },
  {
   "cell_type": "code",
   "execution_count": 62,
   "id": "funded-reset",
   "metadata": {},
   "outputs": [
    {
     "data": {
      "text/plain": [
       "true"
      ]
     },
     "execution_count": 62,
     "metadata": {},
     "output_type": "execute_result"
    }
   ],
   "source": [
    "(= (__ [1 2 3 4] 1) 2)"
   ]
  },
  {
   "cell_type": "code",
   "execution_count": 63,
   "id": "banned-viewer",
   "metadata": {},
   "outputs": [
    {
     "data": {
      "text/plain": [
       "true"
      ]
     },
     "execution_count": 63,
     "metadata": {},
     "output_type": "execute_result"
    }
   ],
   "source": [
    "(= (__ '([1 2] [3 4] [5 6]) 2) [5 6])"
   ]
  },
  {
   "cell_type": "markdown",
   "id": "pressed-interpretation",
   "metadata": {},
   "source": [
    "## Problem 22, Count a Sequence\n",
    "Difficulty: easy\n",
    "Write a function which returns the total number of elements in a sequence."
   ]
  },
  {
   "cell_type": "code",
   "execution_count": 64,
   "id": "occupational-nothing",
   "metadata": {},
   "outputs": [
    {
     "data": {
      "text/plain": [
       "#'user/__"
      ]
     },
     "execution_count": 64,
     "metadata": {},
     "output_type": "execute_result"
    }
   ],
   "source": [
    "(defn __ [coll]\n",
    "    (loop [cnt 0 res (seq coll)]\n",
    "        (if (empty? res)\n",
    "            cnt\n",
    "            (recur (inc cnt) (next res)))))"
   ]
  },
  {
   "cell_type": "code",
   "execution_count": 65,
   "id": "hearing-double",
   "metadata": {},
   "outputs": [
    {
     "data": {
      "text/plain": [
       "true"
      ]
     },
     "execution_count": 65,
     "metadata": {},
     "output_type": "execute_result"
    }
   ],
   "source": [
    "(= (__ '(1 2 3 3 1)) 5)"
   ]
  },
  {
   "cell_type": "code",
   "execution_count": 66,
   "id": "young-junior",
   "metadata": {},
   "outputs": [
    {
     "data": {
      "text/plain": [
       "true"
      ]
     },
     "execution_count": 66,
     "metadata": {},
     "output_type": "execute_result"
    }
   ],
   "source": [
    "(= (__ \"Hello World\") 11)"
   ]
  },
  {
   "cell_type": "code",
   "execution_count": 67,
   "id": "electoral-aging",
   "metadata": {},
   "outputs": [
    {
     "data": {
      "text/plain": [
       "true"
      ]
     },
     "execution_count": 67,
     "metadata": {},
     "output_type": "execute_result"
    }
   ],
   "source": [
    "(= (__ [[1 2] [3 4] [5 6]]) 3)"
   ]
  },
  {
   "cell_type": "code",
   "execution_count": 68,
   "id": "convinced-sense",
   "metadata": {},
   "outputs": [
    {
     "data": {
      "text/plain": [
       "true"
      ]
     },
     "execution_count": 68,
     "metadata": {},
     "output_type": "execute_result"
    }
   ],
   "source": [
    "(= (__ '(13)) 1)"
   ]
  },
  {
   "cell_type": "code",
   "execution_count": 69,
   "id": "advisory-drilling",
   "metadata": {},
   "outputs": [
    {
     "data": {
      "text/plain": [
       "true"
      ]
     },
     "execution_count": 69,
     "metadata": {},
     "output_type": "execute_result"
    }
   ],
   "source": [
    "(= (__ '(:a :b :c)) 3)"
   ]
  },
  {
   "cell_type": "markdown",
   "id": "passive-quick",
   "metadata": {},
   "source": [
    "## Problem 23, Reverse a Sequence\n",
    "Difficulty: easy\n",
    "Write a function which reverses a sequence."
   ]
  },
  {
   "cell_type": "code",
   "execution_count": 70,
   "id": "behavioral-mexico",
   "metadata": {},
   "outputs": [
    {
     "data": {
      "text/plain": [
       "#'user/__"
      ]
     },
     "execution_count": 70,
     "metadata": {},
     "output_type": "execute_result"
    }
   ],
   "source": [
    "(defn __ [coll]\n",
    "    (loop [acc (vec nil) res (vec coll)]\n",
    "        (if (empty? res)\n",
    "            acc\n",
    "            (recur (conj acc (peek res)) (pop res)))))"
   ]
  },
  {
   "cell_type": "code",
   "execution_count": 71,
   "id": "french-stretch",
   "metadata": {
    "scrolled": true
   },
   "outputs": [
    {
     "data": {
      "text/plain": [
       "true"
      ]
     },
     "execution_count": 71,
     "metadata": {},
     "output_type": "execute_result"
    }
   ],
   "source": [
    "(= (__ [1 2 3 4 5]) [5 4 3 2 1])"
   ]
  },
  {
   "cell_type": "code",
   "execution_count": 72,
   "id": "young-hepatitis",
   "metadata": {},
   "outputs": [
    {
     "data": {
      "text/plain": [
       "true"
      ]
     },
     "execution_count": 72,
     "metadata": {},
     "output_type": "execute_result"
    }
   ],
   "source": [
    "(= (__ (sorted-set 5 7 2 7)) '(7 5 2))"
   ]
  },
  {
   "cell_type": "code",
   "execution_count": 73,
   "id": "lyric-pencil",
   "metadata": {},
   "outputs": [
    {
     "data": {
      "text/plain": [
       "true"
      ]
     },
     "execution_count": 73,
     "metadata": {},
     "output_type": "execute_result"
    }
   ],
   "source": [
    "(= (__ [[1 2][3 4][5 6]]) [[5 6][3 4][1 2]])"
   ]
  },
  {
   "cell_type": "markdown",
   "id": "corporate-organic",
   "metadata": {},
   "source": [
    "## Problem 24, Sum It All Up\n",
    "Difficulty: easy\n",
    "Write a function which returns the sum of a sequence of numbers."
   ]
  },
  {
   "cell_type": "code",
   "execution_count": 74,
   "id": "previous-musical",
   "metadata": {},
   "outputs": [
    {
     "data": {
      "text/plain": [
       "#'user/__"
      ]
     },
     "execution_count": 74,
     "metadata": {},
     "output_type": "execute_result"
    }
   ],
   "source": [
    "(defn __ [coll]\n",
    "    (reduce + coll))"
   ]
  },
  {
   "cell_type": "code",
   "execution_count": 75,
   "id": "clinical-librarian",
   "metadata": {},
   "outputs": [
    {
     "data": {
      "text/plain": [
       "true"
      ]
     },
     "execution_count": 75,
     "metadata": {},
     "output_type": "execute_result"
    }
   ],
   "source": [
    "(= (__ [1 2 3]) 6)"
   ]
  },
  {
   "cell_type": "code",
   "execution_count": 76,
   "id": "dominant-habitat",
   "metadata": {},
   "outputs": [
    {
     "data": {
      "text/plain": [
       "true"
      ]
     },
     "execution_count": 76,
     "metadata": {},
     "output_type": "execute_result"
    }
   ],
   "source": [
    "(= (__ (list 0 -2 5 5)) 8)"
   ]
  },
  {
   "cell_type": "code",
   "execution_count": 77,
   "id": "sticky-pledge",
   "metadata": {},
   "outputs": [
    {
     "data": {
      "text/plain": [
       "true"
      ]
     },
     "execution_count": 77,
     "metadata": {},
     "output_type": "execute_result"
    }
   ],
   "source": [
    "(= (__ #{4 2 1}) 7)"
   ]
  },
  {
   "cell_type": "code",
   "execution_count": 78,
   "id": "lucky-bulletin",
   "metadata": {},
   "outputs": [
    {
     "data": {
      "text/plain": [
       "true"
      ]
     },
     "execution_count": 78,
     "metadata": {},
     "output_type": "execute_result"
    }
   ],
   "source": [
    "(= (__ '(0 0 -1)) -1)"
   ]
  },
  {
   "cell_type": "code",
   "execution_count": 79,
   "id": "mental-satisfaction",
   "metadata": {},
   "outputs": [
    {
     "data": {
      "text/plain": [
       "true"
      ]
     },
     "execution_count": 79,
     "metadata": {},
     "output_type": "execute_result"
    }
   ],
   "source": [
    "(= (__ '(1 10 3)) 14)"
   ]
  },
  {
   "cell_type": "markdown",
   "id": "declared-manchester",
   "metadata": {},
   "source": [
    "## Problem 25, Find the odd numbers\n",
    "Difficulty: easy\n",
    "Write a function which returns only the odd numbers from a sequence."
   ]
  },
  {
   "cell_type": "code",
   "execution_count": 80,
   "id": "chubby-roads",
   "metadata": {},
   "outputs": [
    {
     "data": {
      "text/plain": [
       "#'user/__"
      ]
     },
     "execution_count": 80,
     "metadata": {},
     "output_type": "execute_result"
    }
   ],
   "source": [
    "(defn __ [coll]\n",
    "    (filter odd? coll))"
   ]
  },
  {
   "cell_type": "code",
   "execution_count": 81,
   "id": "surprised-devon",
   "metadata": {},
   "outputs": [
    {
     "data": {
      "text/plain": [
       "true"
      ]
     },
     "execution_count": 81,
     "metadata": {},
     "output_type": "execute_result"
    }
   ],
   "source": [
    "(= (__ #{1 2 3 4 5}) '(1 3 5))"
   ]
  },
  {
   "cell_type": "code",
   "execution_count": 82,
   "id": "approximate-month",
   "metadata": {},
   "outputs": [
    {
     "data": {
      "text/plain": [
       "true"
      ]
     },
     "execution_count": 82,
     "metadata": {},
     "output_type": "execute_result"
    }
   ],
   "source": [
    "(= (__ [4 2 1 6]) '(1))"
   ]
  },
  {
   "cell_type": "code",
   "execution_count": 83,
   "id": "governing-columbia",
   "metadata": {},
   "outputs": [
    {
     "data": {
      "text/plain": [
       "true"
      ]
     },
     "execution_count": 83,
     "metadata": {},
     "output_type": "execute_result"
    }
   ],
   "source": [
    "(= (__ [2 2 4 6]) '())"
   ]
  },
  {
   "cell_type": "code",
   "execution_count": 84,
   "id": "possible-waste",
   "metadata": {},
   "outputs": [
    {
     "data": {
      "text/plain": [
       "true"
      ]
     },
     "execution_count": 84,
     "metadata": {},
     "output_type": "execute_result"
    }
   ],
   "source": [
    "(= (__ [1 1 1 3]) '(1 1 1 3))"
   ]
  },
  {
   "cell_type": "markdown",
   "id": "overhead-detective",
   "metadata": {},
   "source": [
    "## Problem 26, Fibonacci Sequence\n",
    "Difficulty: easy\n",
    "Write a function which returns the first X fibonacci numbers."
   ]
  },
  {
   "cell_type": "code",
   "execution_count": 85,
   "id": "innocent-guyana",
   "metadata": {},
   "outputs": [
    {
     "data": {
      "text/plain": [
       "#'user/__"
      ]
     },
     "execution_count": 85,
     "metadata": {},
     "output_type": "execute_result"
    }
   ],
   "source": [
    "(defn __ [n]\n",
    "    (defn fibo [n]\n",
    "        (case n\n",
    "            0 1\n",
    "            1 1\n",
    "            (+ (fibo (- n 1)) (fibo (- n 2)))))\n",
    "    (map fibo (range n)))"
   ]
  },
  {
   "cell_type": "code",
   "execution_count": 86,
   "id": "yellow-biodiversity",
   "metadata": {},
   "outputs": [
    {
     "data": {
      "text/plain": [
       "#'user/__"
      ]
     },
     "execution_count": 86,
     "metadata": {},
     "output_type": "execute_result"
    }
   ],
   "source": [
    "(defn __ [n]\n",
    "    (loop [ x [0 1]] \n",
    "        (if (< (count x) n) \n",
    "            (recur \n",
    "             (conj x \n",
    "                   (+ (last x) (nth x (- (count x) 2)))))\n",
    "            x)))"
   ]
  },
  {
   "cell_type": "code",
   "execution_count": 87,
   "id": "crude-domain",
   "metadata": {},
   "outputs": [
    {
     "data": {
      "text/plain": [
       "#'user/__"
      ]
     },
     "execution_count": 87,
     "metadata": {},
     "output_type": "execute_result"
    }
   ],
   "source": [
    "(defn __ [n]\n",
    "    (def fib-seq (lazy-cat [0 1] (map + fib-seq (rest fib-seq))))\n",
    "    (next (vec (take (inc n) fib-seq))))"
   ]
  },
  {
   "cell_type": "code",
   "execution_count": 88,
   "id": "identified-strike",
   "metadata": {},
   "outputs": [
    {
     "data": {
      "text/plain": [
       "(1 1 2 3 5 8 13 21 34 55 89 144 233 377 610 987 1597 2584 4181 6765 10946 17711 28657 46368 75025 121393 196418 317811 514229 832040 1346269 2178309 3524578 5702887 9227465 14930352 24157817 39088169 63245986 102334155 165580141 267914296 433494437 701408733 1134903170 1836311903 2971215073 4807526976 7778742049 12586269025 20365011074 32951280099 53316291173 86267571272 139583862445 225851433717 365435296162 591286729879 956722026041 1548008755920 2504730781961 4052739537881 6557470319842 10610209857723 17167680177565 27777890035288 44945570212853 72723460248141 117669030460994 190392490709135 308061521170129 498454011879264 806515533049393 1304969544928657 2111485077978050 3416454622906707 5527939700884757 8944394323791464 14472334024676221 23416728348467685 37889062373143906 61305790721611591 99194853094755497 160500643816367088 259695496911122585 420196140727489673 679891637638612258 1100087778366101931 1779979416004714189 2880067194370816120 4660046610375530309 7540113804746346429)"
      ]
     },
     "execution_count": 88,
     "metadata": {},
     "output_type": "execute_result"
    }
   ],
   "source": [
    "(__ 92)"
   ]
  },
  {
   "cell_type": "code",
   "execution_count": 89,
   "id": "united-kelly",
   "metadata": {},
   "outputs": [
    {
     "data": {
      "text/plain": [
       "true"
      ]
     },
     "execution_count": 89,
     "metadata": {},
     "output_type": "execute_result"
    }
   ],
   "source": [
    "(= (__ 3) '(1 1 2))"
   ]
  },
  {
   "cell_type": "code",
   "execution_count": 90,
   "id": "satisfied-madagascar",
   "metadata": {},
   "outputs": [
    {
     "data": {
      "text/plain": [
       "true"
      ]
     },
     "execution_count": 90,
     "metadata": {},
     "output_type": "execute_result"
    }
   ],
   "source": [
    "(= (__ 6) '(1 1 2 3 5 8))"
   ]
  },
  {
   "cell_type": "code",
   "execution_count": 91,
   "id": "scientific-ocean",
   "metadata": {},
   "outputs": [
    {
     "data": {
      "text/plain": [
       "true"
      ]
     },
     "execution_count": 91,
     "metadata": {},
     "output_type": "execute_result"
    }
   ],
   "source": [
    "(= (__ 8) '(1 1 2 3 5 8 13 21))"
   ]
  },
  {
   "cell_type": "markdown",
   "id": "ordinary-capture",
   "metadata": {},
   "source": [
    "## Problem 27, Palindrome Detector\n",
    "Difficulty: easy\n",
    "Write a function which returns true if the given sequence is a palindrome. Hint: \"racecar\" does not equal '(\\r \\a \\c \\e \\c \\a \\r)"
   ]
  },
  {
   "cell_type": "code",
   "execution_count": 92,
   "id": "economic-consensus",
   "metadata": {},
   "outputs": [
    {
     "data": {
      "text/plain": [
       "#'user/__"
      ]
     },
     "execution_count": 92,
     "metadata": {},
     "output_type": "execute_result"
    }
   ],
   "source": [
    "(defn __ [s]\n",
    "    (= (seq s) (reverse s)))"
   ]
  },
  {
   "cell_type": "code",
   "execution_count": 93,
   "id": "whole-poverty",
   "metadata": {},
   "outputs": [
    {
     "data": {
      "text/plain": [
       "true"
      ]
     },
     "execution_count": 93,
     "metadata": {},
     "output_type": "execute_result"
    }
   ],
   "source": [
    "(false? (__ '(1 2 3 4 5)))"
   ]
  },
  {
   "cell_type": "code",
   "execution_count": 94,
   "id": "living-cabin",
   "metadata": {},
   "outputs": [
    {
     "data": {
      "text/plain": [
       "true"
      ]
     },
     "execution_count": 94,
     "metadata": {},
     "output_type": "execute_result"
    }
   ],
   "source": [
    "(true? (__ \"racecar\"))"
   ]
  },
  {
   "cell_type": "code",
   "execution_count": 95,
   "id": "divine-moisture",
   "metadata": {},
   "outputs": [
    {
     "data": {
      "text/plain": [
       "true"
      ]
     },
     "execution_count": 95,
     "metadata": {},
     "output_type": "execute_result"
    }
   ],
   "source": [
    "(true? (__ [:foo :bar :foo]))"
   ]
  },
  {
   "cell_type": "code",
   "execution_count": 96,
   "id": "joint-findings",
   "metadata": {},
   "outputs": [
    {
     "data": {
      "text/plain": [
       "true"
      ]
     },
     "execution_count": 96,
     "metadata": {},
     "output_type": "execute_result"
    }
   ],
   "source": [
    "(true? (__ '(1 1 3 3 1 1)))"
   ]
  },
  {
   "cell_type": "code",
   "execution_count": 97,
   "id": "moderate-laptop",
   "metadata": {},
   "outputs": [
    {
     "data": {
      "text/plain": [
       "true"
      ]
     },
     "execution_count": 97,
     "metadata": {},
     "output_type": "execute_result"
    }
   ],
   "source": [
    "(false? (__ '(:a :b :c)))"
   ]
  },
  {
   "cell_type": "markdown",
   "id": "indirect-claim",
   "metadata": {},
   "source": [
    "## Problem 28, Flatten a Sequence\n",
    "Difficulty: easy\n",
    "Write a function which flattens a sequence."
   ]
  },
  {
   "cell_type": "code",
   "execution_count": 98,
   "id": "handed-country",
   "metadata": {},
   "outputs": [
    {
     "data": {
      "text/plain": [
       "#'user/__"
      ]
     },
     "execution_count": 98,
     "metadata": {},
     "output_type": "execute_result"
    }
   ],
   "source": [
    ";; version 1\n",
    "\n",
    "(defn __ [coll]\n",
    "    (lazy-seq\n",
    "     (when-let [s (seq coll)]\n",
    "         (if (sequential? (first s))\n",
    "             (concat (__ (first s)) (__ (rest s)))\n",
    "             (cons (first s) (__ (rest s)))))))"
   ]
  },
  {
   "cell_type": "code",
   "execution_count": 99,
   "id": "intellectual-fancy",
   "metadata": {},
   "outputs": [
    {
     "data": {
      "text/plain": [
       "#'user/__"
      ]
     },
     "execution_count": 99,
     "metadata": {},
     "output_type": "execute_result"
    }
   ],
   "source": [
    ";; version 2\n",
    "\n",
    "(defn __ [coll]\n",
    "    (loop [x coll]\n",
    "        (if (some sequential? x)\n",
    "            (recur (reduce (fn [acc v]\n",
    "                              (if (sequential? v)\n",
    "                                  (concat acc v)\n",
    "                                  (concat acc [v]))) [] x))\n",
    "            x)))"
   ]
  },
  {
   "cell_type": "code",
   "execution_count": 100,
   "id": "angry-reset",
   "metadata": {},
   "outputs": [
    {
     "data": {
      "text/plain": [
       "true"
      ]
     },
     "execution_count": 100,
     "metadata": {},
     "output_type": "execute_result"
    }
   ],
   "source": [
    "(= (__ '((1 2) 3 [4 [5 6]])) '(1 2 3 4 5 6))"
   ]
  },
  {
   "cell_type": "code",
   "execution_count": 101,
   "id": "japanese-module",
   "metadata": {},
   "outputs": [
    {
     "data": {
      "text/plain": [
       "true"
      ]
     },
     "execution_count": 101,
     "metadata": {},
     "output_type": "execute_result"
    }
   ],
   "source": [
    "(= (__ [\"a\" [\"b\"] \"c\"]) '(\"a\" \"b\" \"c\"))"
   ]
  },
  {
   "cell_type": "code",
   "execution_count": 102,
   "id": "soviet-fifteen",
   "metadata": {},
   "outputs": [
    {
     "data": {
      "text/plain": [
       "true"
      ]
     },
     "execution_count": 102,
     "metadata": {},
     "output_type": "execute_result"
    }
   ],
   "source": [
    "(= (__ '((((:a))))) '(:a))"
   ]
  },
  {
   "cell_type": "markdown",
   "id": "clean-penguin",
   "metadata": {},
   "source": [
    "## Problem 29, Get the Caps\n",
    "Difficulty: easy\n",
    "Write a function which takes a string and returns a new string containing only the capital letters."
   ]
  },
  {
   "cell_type": "code",
   "execution_count": 103,
   "id": "ordinary-cooling",
   "metadata": {},
   "outputs": [
    {
     "data": {
      "text/plain": [
       "#'user/__"
      ]
     },
     "execution_count": 103,
     "metadata": {},
     "output_type": "execute_result"
    }
   ],
   "source": [
    "(defn __ [str]\n",
    "    (defn in? [coll elm]\n",
    "        (some #(= elm %) coll))\n",
    "    (let [l-str-seq (seq (clojure.string/lower-case str))\n",
    "          str-seq (seq str)]\n",
    "        (clojure.string/join (filter #((complement in?) l-str-seq %) str-seq))))"
   ]
  },
  {
   "cell_type": "code",
   "execution_count": 104,
   "id": "annual-balloon",
   "metadata": {},
   "outputs": [
    {
     "data": {
      "text/plain": [
       "\"HLOWRD\""
      ]
     },
     "execution_count": 104,
     "metadata": {},
     "output_type": "execute_result"
    }
   ],
   "source": [
    "(__ \"HeLlO, WoRlD!\")"
   ]
  },
  {
   "cell_type": "code",
   "execution_count": 105,
   "id": "stupid-execution",
   "metadata": {},
   "outputs": [
    {
     "data": {
      "text/plain": [
       "true"
      ]
     },
     "execution_count": 105,
     "metadata": {},
     "output_type": "execute_result"
    }
   ],
   "source": [
    "(= (__ \"HeLlO, WoRlD!\") \"HLOWRD\")"
   ]
  },
  {
   "cell_type": "code",
   "execution_count": 106,
   "id": "resident-blocking",
   "metadata": {},
   "outputs": [
    {
     "data": {
      "text/plain": [
       "true"
      ]
     },
     "execution_count": 106,
     "metadata": {},
     "output_type": "execute_result"
    }
   ],
   "source": [
    "(empty? (__ \"nothing\"))"
   ]
  },
  {
   "cell_type": "code",
   "execution_count": 107,
   "id": "copyrighted-dominant",
   "metadata": {
    "scrolled": true
   },
   "outputs": [
    {
     "data": {
      "text/plain": [
       "true"
      ]
     },
     "execution_count": 107,
     "metadata": {},
     "output_type": "execute_result"
    }
   ],
   "source": [
    "(= (__ \"$#A(*&987Zf\") \"AZ\")"
   ]
  },
  {
   "cell_type": "code",
   "execution_count": 108,
   "id": "departmental-nicaragua",
   "metadata": {},
   "outputs": [
    {
     "data": {
      "text/plain": [
       "(\\H \\e \\L \\l \\O \\, \\space \\W \\o \\R \\l \\D \\!)"
      ]
     },
     "execution_count": 108,
     "metadata": {},
     "output_type": "execute_result"
    }
   ],
   "source": [
    "(seq \"HeLlO, WoRlD!\")"
   ]
  },
  {
   "cell_type": "code",
   "execution_count": 109,
   "id": "second-jaguar",
   "metadata": {},
   "outputs": [
    {
     "data": {
      "text/plain": [
       "true"
      ]
     },
     "execution_count": 109,
     "metadata": {},
     "output_type": "execute_result"
    }
   ],
   "source": [
    "(in? (seq \"HeLlO, WoRlD!\") \\H)"
   ]
  },
  {
   "cell_type": "code",
   "execution_count": 110,
   "id": "clinical-october",
   "metadata": {},
   "outputs": [
    {
     "data": {
      "text/plain": [
       "#function[user/--/in?--4290]"
      ]
     },
     "execution_count": 110,
     "metadata": {},
     "output_type": "execute_result"
    }
   ],
   "source": [
    "in?"
   ]
  },
  {
   "cell_type": "markdown",
   "id": "lasting-component",
   "metadata": {},
   "source": [
    "## Problem 30, Compress a Sequence\n",
    "Difficulty: easy\n",
    "Write a function which removes consecutive duplicates from a sequence."
   ]
  },
  {
   "cell_type": "code",
   "execution_count": 111,
   "id": "multiple-pharmacology",
   "metadata": {},
   "outputs": [
    {
     "data": {
      "text/plain": [
       "#'user/indexes-of"
      ]
     },
     "execution_count": 111,
     "metadata": {},
     "output_type": "execute_result"
    }
   ],
   "source": [
    "(defn indexes-of [e coll]\n",
    "    (keep-indexed #(if (= e %2) %1) coll))"
   ]
  },
  {
   "cell_type": "code",
   "execution_count": 112,
   "id": "driving-corpus",
   "metadata": {
    "scrolled": true
   },
   "outputs": [
    {
     "data": {
      "text/plain": [
       "#'user/__"
      ]
     },
     "execution_count": 112,
     "metadata": {},
     "output_type": "execute_result"
    }
   ],
   "source": [
    ";; rev1\n",
    "(defn __ [coll]\n",
    "    (defn enumerate [coll]      ; rev2의 (map-indexed vector coll) 구문으로 대체 가능\n",
    "        (let [v (vec coll)]\n",
    "            (map #(find v %) (range (count v)))))\n",
    "    (filter (complement nil?)\n",
    "            (for [[i v] (enumerate coll)]\n",
    "                (cond\n",
    "                    (= i 0) v\n",
    "                    (not= v (nth coll (dec i))) v))))"
   ]
  },
  {
   "cell_type": "code",
   "execution_count": 113,
   "id": "eligible-miller",
   "metadata": {},
   "outputs": [
    {
     "data": {
      "text/plain": [
       "#'user/__"
      ]
     },
     "execution_count": 113,
     "metadata": {},
     "output_type": "execute_result"
    }
   ],
   "source": [
    ";; rev2\n",
    "(defn __ [coll]\n",
    "    (filter (complement nil?)\n",
    "            (for [[i v] (map-indexed vector coll)]\n",
    "                (cond\n",
    "                    (= i 0) v\n",
    "                    (not= v (nth coll (dec i))) v))))"
   ]
  },
  {
   "cell_type": "code",
   "execution_count": 114,
   "id": "established-sampling",
   "metadata": {},
   "outputs": [
    {
     "data": {
      "text/plain": [
       "#'user/__"
      ]
     },
     "execution_count": 114,
     "metadata": {},
     "output_type": "execute_result"
    }
   ],
   "source": [
    ";; rev3\n",
    "(defn __ [coll]\n",
    "    (let [grouped-coll (partition-by identity coll)]\n",
    "        (map (comp first fnext) (map-indexed vector grouped-coll))))"
   ]
  },
  {
   "cell_type": "code",
   "execution_count": 115,
   "id": "therapeutic-diana",
   "metadata": {},
   "outputs": [
    {
     "data": {
      "text/plain": [
       "(1 2 3 2 3)"
      ]
     },
     "execution_count": 115,
     "metadata": {},
     "output_type": "execute_result"
    }
   ],
   "source": [
    "(__ [1 1 2 3 3 2 2 3])"
   ]
  },
  {
   "cell_type": "code",
   "execution_count": 116,
   "id": "activated-brown",
   "metadata": {},
   "outputs": [
    {
     "data": {
      "text/plain": [
       "true"
      ]
     },
     "execution_count": 116,
     "metadata": {},
     "output_type": "execute_result"
    }
   ],
   "source": [
    "(= (apply str (__ \"Leeeeeerrroyyy\")) \"Leroy\")"
   ]
  },
  {
   "cell_type": "code",
   "execution_count": 117,
   "id": "usual-practice",
   "metadata": {},
   "outputs": [
    {
     "data": {
      "text/plain": [
       "true"
      ]
     },
     "execution_count": 117,
     "metadata": {},
     "output_type": "execute_result"
    }
   ],
   "source": [
    "(= (__ [1 1 2 3 3 2 2 3]) '(1 2 3 2 3))"
   ]
  },
  {
   "cell_type": "code",
   "execution_count": 118,
   "id": "respected-profession",
   "metadata": {},
   "outputs": [
    {
     "data": {
      "text/plain": [
       "true"
      ]
     },
     "execution_count": 118,
     "metadata": {},
     "output_type": "execute_result"
    }
   ],
   "source": [
    "(= (__ [[1 2] [1 2] [3 4] [1 2]]) '([1 2] [3 4] [1 2]))"
   ]
  },
  {
   "cell_type": "markdown",
   "id": "alleged-genome",
   "metadata": {},
   "source": [
    "## Problem 31, Pack a Sequence\n",
    "Difficulty: easy\n",
    "Write a function which packs consecutive duplicates into sub-lists."
   ]
  },
  {
   "cell_type": "code",
   "execution_count": 119,
   "id": "royal-luxembourg",
   "metadata": {},
   "outputs": [
    {
     "data": {
      "text/plain": [
       "#'user/__"
      ]
     },
     "execution_count": 119,
     "metadata": {},
     "output_type": "execute_result"
    }
   ],
   "source": [
    "(defn __ [coll]\n",
    "    (partition-by identity coll))"
   ]
  },
  {
   "cell_type": "code",
   "execution_count": 120,
   "id": "governmental-speaker",
   "metadata": {},
   "outputs": [
    {
     "data": {
      "text/plain": [
       "true"
      ]
     },
     "execution_count": 120,
     "metadata": {},
     "output_type": "execute_result"
    }
   ],
   "source": [
    "(= (__ [1 1 2 1 1 1 3 3]) '((1 1) (2) (1 1 1) (3 3)))"
   ]
  },
  {
   "cell_type": "code",
   "execution_count": 121,
   "id": "entitled-tactics",
   "metadata": {},
   "outputs": [
    {
     "data": {
      "text/plain": [
       "true"
      ]
     },
     "execution_count": 121,
     "metadata": {},
     "output_type": "execute_result"
    }
   ],
   "source": [
    "(= (__ [:a :a :b :b :c]) '((:a :a) (:b :b) (:c)))"
   ]
  },
  {
   "cell_type": "code",
   "execution_count": 122,
   "id": "polyphonic-folder",
   "metadata": {},
   "outputs": [
    {
     "data": {
      "text/plain": [
       "true"
      ]
     },
     "execution_count": 122,
     "metadata": {},
     "output_type": "execute_result"
    }
   ],
   "source": [
    "(= (__ [[1 2] [1 2] [3 4]]) '(([1 2] [1 2]) ([3 4])))"
   ]
  },
  {
   "cell_type": "code",
   "execution_count": 123,
   "id": "delayed-management",
   "metadata": {},
   "outputs": [
    {
     "data": {
      "text/plain": [
       "(true false true false true false true false)"
      ]
     },
     "execution_count": 123,
     "metadata": {},
     "output_type": "execute_result"
    }
   ],
   "source": [
    "(take (count [1 1 2 1 1 1 3 3]) (cycle [true false]))"
   ]
  },
  {
   "cell_type": "markdown",
   "id": "lesser-mainstream",
   "metadata": {},
   "source": [
    "## Problem 32, Duplicate a Sequence\n",
    "Difficulty: easy\n",
    "Write a function which duplicates each element of a sequence."
   ]
  },
  {
   "cell_type": "code",
   "execution_count": 124,
   "id": "robust-helena",
   "metadata": {},
   "outputs": [
    {
     "data": {
      "text/plain": [
       "#'user/__"
      ]
     },
     "execution_count": 124,
     "metadata": {},
     "output_type": "execute_result"
    }
   ],
   "source": [
    "(defn __ [coll]\n",
    "    (seq (reduce into \n",
    "                 (map #(conj [] % %) coll))))"
   ]
  },
  {
   "cell_type": "code",
   "execution_count": 125,
   "id": "micro-leonard",
   "metadata": {},
   "outputs": [
    {
     "data": {
      "text/plain": [
       "true"
      ]
     },
     "execution_count": 125,
     "metadata": {},
     "output_type": "execute_result"
    }
   ],
   "source": [
    "(= (__ [1 2 3]) '(1 1 2 2 3 3))"
   ]
  },
  {
   "cell_type": "code",
   "execution_count": 126,
   "id": "typical-edgar",
   "metadata": {},
   "outputs": [
    {
     "data": {
      "text/plain": [
       "true"
      ]
     },
     "execution_count": 126,
     "metadata": {},
     "output_type": "execute_result"
    }
   ],
   "source": [
    "(= (__ [:a :a :b :b]) '(:a :a :a :a :b :b :b :b))"
   ]
  },
  {
   "cell_type": "code",
   "execution_count": 127,
   "id": "celtic-paragraph",
   "metadata": {},
   "outputs": [
    {
     "data": {
      "text/plain": [
       "true"
      ]
     },
     "execution_count": 127,
     "metadata": {},
     "output_type": "execute_result"
    }
   ],
   "source": [
    "(= (__ [[1 2] [3 4]]) '([1 2] [1 2] [3 4] [3 4]))"
   ]
  },
  {
   "cell_type": "code",
   "execution_count": 128,
   "id": "boolean-lending",
   "metadata": {},
   "outputs": [
    {
     "data": {
      "text/plain": [
       "true"
      ]
     },
     "execution_count": 128,
     "metadata": {},
     "output_type": "execute_result"
    }
   ],
   "source": [
    "(= (__ [44 33]) [44 44 33 33])"
   ]
  },
  {
   "cell_type": "markdown",
   "id": "royal-citation",
   "metadata": {},
   "source": [
    "## Problem 33, Replicate a Sequence\n",
    "Difficulty: easy\n",
    "Write a function which replicates each element of a sequence a variable number of times."
   ]
  },
  {
   "cell_type": "code",
   "execution_count": 129,
   "id": "integrated-pound",
   "metadata": {},
   "outputs": [
    {
     "data": {
      "text/plain": [
       "#'user/__"
      ]
     },
     "execution_count": 129,
     "metadata": {},
     "output_type": "execute_result"
    }
   ],
   "source": [
    "(defn __ [coll times]\n",
    "    (mapcat #(repeat times %) coll))"
   ]
  },
  {
   "cell_type": "code",
   "execution_count": 130,
   "id": "perfect-china",
   "metadata": {},
   "outputs": [
    {
     "data": {
      "text/plain": [
       "true"
      ]
     },
     "execution_count": 130,
     "metadata": {},
     "output_type": "execute_result"
    }
   ],
   "source": [
    "(= (__ [1 2 3] 2) '(1 1 2 2 3 3))"
   ]
  },
  {
   "cell_type": "code",
   "execution_count": 131,
   "id": "cleared-refrigerator",
   "metadata": {},
   "outputs": [
    {
     "data": {
      "text/plain": [
       "true"
      ]
     },
     "execution_count": 131,
     "metadata": {},
     "output_type": "execute_result"
    }
   ],
   "source": [
    "(= (__ [:a :b] 4) '(:a :a :a :a :b :b :b :b))"
   ]
  },
  {
   "cell_type": "code",
   "execution_count": 132,
   "id": "handy-mystery",
   "metadata": {},
   "outputs": [
    {
     "data": {
      "text/plain": [
       "true"
      ]
     },
     "execution_count": 132,
     "metadata": {},
     "output_type": "execute_result"
    }
   ],
   "source": [
    "(= (__ [4 5 6] 1) '(4 5 6))"
   ]
  },
  {
   "cell_type": "code",
   "execution_count": 133,
   "id": "danish-wisdom",
   "metadata": {},
   "outputs": [
    {
     "data": {
      "text/plain": [
       "true"
      ]
     },
     "execution_count": 133,
     "metadata": {},
     "output_type": "execute_result"
    }
   ],
   "source": [
    "(= (__ [[1 2] [3 4]] 2) '([1 2] [1 2] [3 4] [3 4]))"
   ]
  },
  {
   "cell_type": "code",
   "execution_count": 134,
   "id": "large-blank",
   "metadata": {},
   "outputs": [
    {
     "data": {
      "text/plain": [
       "true"
      ]
     },
     "execution_count": 134,
     "metadata": {},
     "output_type": "execute_result"
    }
   ],
   "source": [
    "(= (__ [44 33] 2) [44 44 33 33])"
   ]
  },
  {
   "cell_type": "markdown",
   "id": "seasonal-terrace",
   "metadata": {},
   "source": [
    "## Problem 34, Implement range\n",
    "Difficulty: easy\n",
    "Write a function which creates a list of all integers in a given range."
   ]
  },
  {
   "cell_type": "code",
   "execution_count": 135,
   "id": "imposed-stick",
   "metadata": {},
   "outputs": [
    {
     "data": {
      "text/plain": [
       "#'user/__"
      ]
     },
     "execution_count": 135,
     "metadata": {},
     "output_type": "execute_result"
    }
   ],
   "source": [
    "(defn __ [stt end]\n",
    "    (loop [i stt acc []]\n",
    "        (if (= i end)\n",
    "            (seq acc)\n",
    "            (recur (inc i) (conj acc i)))))"
   ]
  },
  {
   "cell_type": "code",
   "execution_count": 136,
   "id": "included-belly",
   "metadata": {},
   "outputs": [
    {
     "data": {
      "text/plain": [
       "(1 2 3)"
      ]
     },
     "execution_count": 136,
     "metadata": {},
     "output_type": "execute_result"
    }
   ],
   "source": [
    "(__ 1 4)"
   ]
  },
  {
   "cell_type": "code",
   "execution_count": 137,
   "id": "contrary-questionnaire",
   "metadata": {},
   "outputs": [
    {
     "data": {
      "text/plain": [
       "true"
      ]
     },
     "execution_count": 137,
     "metadata": {},
     "output_type": "execute_result"
    }
   ],
   "source": [
    "(= (__ 1 4) '(1 2 3))"
   ]
  },
  {
   "cell_type": "code",
   "execution_count": 138,
   "id": "marine-quebec",
   "metadata": {},
   "outputs": [
    {
     "data": {
      "text/plain": [
       "true"
      ]
     },
     "execution_count": 138,
     "metadata": {},
     "output_type": "execute_result"
    }
   ],
   "source": [
    "(= (__ -2 2) '(-2 -1 0 1))"
   ]
  },
  {
   "cell_type": "code",
   "execution_count": 139,
   "id": "informative-basket",
   "metadata": {},
   "outputs": [
    {
     "data": {
      "text/plain": [
       "true"
      ]
     },
     "execution_count": 139,
     "metadata": {},
     "output_type": "execute_result"
    }
   ],
   "source": [
    "(= (__ 5 8) '(5 6 7))"
   ]
  },
  {
   "cell_type": "markdown",
   "id": "native-interpretation",
   "metadata": {},
   "source": [
    "## Problem 35, Local bindings\n",
    "Difficulty: elementary\n",
    "Clojure lets you give local names to values using the special let-form."
   ]
  },
  {
   "cell_type": "code",
   "execution_count": 140,
   "id": "biblical-subcommittee",
   "metadata": {},
   "outputs": [
    {
     "data": {
      "text/plain": [
       "#'user/__"
      ]
     },
     "execution_count": 140,
     "metadata": {},
     "output_type": "execute_result"
    }
   ],
   "source": [
    "(def __ 7)"
   ]
  },
  {
   "cell_type": "code",
   "execution_count": 141,
   "id": "broke-basement",
   "metadata": {},
   "outputs": [
    {
     "data": {
      "text/plain": [
       "true"
      ]
     },
     "execution_count": 141,
     "metadata": {},
     "output_type": "execute_result"
    }
   ],
   "source": [
    "(= __ (let [x 5] (+ 2 x)))"
   ]
  },
  {
   "cell_type": "code",
   "execution_count": 142,
   "id": "biological-casino",
   "metadata": {},
   "outputs": [
    {
     "data": {
      "text/plain": [
       "true"
      ]
     },
     "execution_count": 142,
     "metadata": {},
     "output_type": "execute_result"
    }
   ],
   "source": [
    "(= __ (let [x 3, y 10] (- y x)))"
   ]
  },
  {
   "cell_type": "code",
   "execution_count": 143,
   "id": "fewer-allah",
   "metadata": {},
   "outputs": [
    {
     "data": {
      "text/plain": [
       "true"
      ]
     },
     "execution_count": 143,
     "metadata": {},
     "output_type": "execute_result"
    }
   ],
   "source": [
    "(= __ (let [x 21] (let [y 3] (/ x y))))"
   ]
  },
  {
   "cell_type": "markdown",
   "id": "naval-graphics",
   "metadata": {},
   "source": [
    "## Problem 36, Let it Be\n",
    "Difficulty: elementary\n",
    "Can you bind x, y, and z so that these are all true?"
   ]
  },
  {
   "cell_type": "code",
   "execution_count": 144,
   "id": "oriental-elder",
   "metadata": {},
   "outputs": [
    {
     "data": {
      "text/plain": [
       "#'user/__"
      ]
     },
     "execution_count": 144,
     "metadata": {},
     "output_type": "execute_result"
    }
   ],
   "source": [
    "(def __ [`x 7 `y 3 `z 1])"
   ]
  },
  {
   "cell_type": "code",
   "execution_count": 145,
   "id": "major-south",
   "metadata": {
    "scrolled": true
   },
   "outputs": [],
   "source": [
    ";; (= 10 (let (eval __) (+ x y)))"
   ]
  },
  {
   "cell_type": "code",
   "execution_count": 146,
   "id": "graduate-kennedy",
   "metadata": {},
   "outputs": [],
   "source": [
    ";; (= 4 (let __ (+ y z)))"
   ]
  },
  {
   "cell_type": "code",
   "execution_count": 147,
   "id": "worthy-academy",
   "metadata": {},
   "outputs": [],
   "source": [
    ";; (= 1 (let __ z))"
   ]
  },
  {
   "cell_type": "markdown",
   "id": "incorporate-neutral",
   "metadata": {},
   "source": [
    "## Problem 37, Regular Expressions\n",
    "Difficulty: elementary\n",
    "Regex patterns are supported with a special reader macro."
   ]
  },
  {
   "cell_type": "code",
   "execution_count": 148,
   "id": "offensive-thread",
   "metadata": {},
   "outputs": [
    {
     "data": {
      "text/plain": [
       "#'user/__"
      ]
     },
     "execution_count": 148,
     "metadata": {},
     "output_type": "execute_result"
    }
   ],
   "source": [
    "(def __ \"ABC\")"
   ]
  },
  {
   "cell_type": "code",
   "execution_count": 149,
   "id": "addressed-pavilion",
   "metadata": {},
   "outputs": [
    {
     "data": {
      "text/plain": [
       "true"
      ]
     },
     "execution_count": 149,
     "metadata": {},
     "output_type": "execute_result"
    }
   ],
   "source": [
    "(= __ (apply str (re-seq #\"[A-Z]+\" \"bA1B3Ce \")))"
   ]
  },
  {
   "cell_type": "markdown",
   "id": "measured-empire",
   "metadata": {},
   "source": [
    "## Problem 38, Maximum value\n",
    "Difficulty: easy\n",
    "Write a function which takes a variable number of parameters and returns the maximum value."
   ]
  },
  {
   "cell_type": "code",
   "execution_count": 150,
   "id": "basic-battle",
   "metadata": {},
   "outputs": [
    {
     "data": {
      "text/plain": [
       "#'user/aa"
      ]
     },
     "execution_count": 150,
     "metadata": {},
     "output_type": "execute_result"
    }
   ],
   "source": [
    "(defn aa [& args]\n",
    "    (seq args))"
   ]
  },
  {
   "cell_type": "code",
   "execution_count": 151,
   "id": "incorporate-madagascar",
   "metadata": {},
   "outputs": [
    {
     "data": {
      "text/plain": [
       "#'user/__"
      ]
     },
     "execution_count": 151,
     "metadata": {},
     "output_type": "execute_result"
    }
   ],
   "source": [
    "(defn __ [& args]\n",
    "    (defn size [a b]\n",
    "        (if (> a b) a b))\n",
    "    (reduce size (seq args)))"
   ]
  },
  {
   "cell_type": "code",
   "execution_count": 152,
   "id": "based-workshop",
   "metadata": {},
   "outputs": [
    {
     "data": {
      "text/plain": [
       "#'user/__"
      ]
     },
     "execution_count": 152,
     "metadata": {},
     "output_type": "execute_result"
    }
   ],
   "source": [
    "(defn __ [& args]\n",
    "    (letfn [(size [a b]\n",
    "                  (if (> a b) a b))]\n",
    "        (reduce size (seq args))))"
   ]
  },
  {
   "cell_type": "code",
   "execution_count": 153,
   "id": "thick-flexibility",
   "metadata": {},
   "outputs": [
    {
     "data": {
      "text/plain": [
       "true"
      ]
     },
     "execution_count": 153,
     "metadata": {},
     "output_type": "execute_result"
    }
   ],
   "source": [
    "(= (__ 1 8 3 4) 8)"
   ]
  },
  {
   "cell_type": "code",
   "execution_count": 154,
   "id": "accessory-translator",
   "metadata": {},
   "outputs": [
    {
     "data": {
      "text/plain": [
       "true"
      ]
     },
     "execution_count": 154,
     "metadata": {},
     "output_type": "execute_result"
    }
   ],
   "source": [
    "(= (__ 30 20) 30)"
   ]
  },
  {
   "cell_type": "code",
   "execution_count": 155,
   "id": "mediterranean-fence",
   "metadata": {},
   "outputs": [
    {
     "data": {
      "text/plain": [
       "true"
      ]
     },
     "execution_count": 155,
     "metadata": {},
     "output_type": "execute_result"
    }
   ],
   "source": [
    "(= (__ 45 67 11) 67)"
   ]
  },
  {
   "cell_type": "markdown",
   "id": "novel-timothy",
   "metadata": {},
   "source": [
    "## Problem 39, Interleave Two Seqs\n",
    "Difficulty: easy\n",
    "Write a function which takes two sequences and returns the first item from each, then the second item from each, then the third, etc."
   ]
  },
  {
   "cell_type": "code",
   "execution_count": 156,
   "id": "technical-venice",
   "metadata": {},
   "outputs": [
    {
     "data": {
      "text/plain": [
       "#'user/__"
      ]
     },
     "execution_count": 156,
     "metadata": {},
     "output_type": "execute_result"
    }
   ],
   "source": [
    "(defn __ [vec-1 vec-2]\n",
    "    (mapcat seq (zipmap vec-1 vec-2)))"
   ]
  },
  {
   "cell_type": "code",
   "execution_count": 157,
   "id": "renewable-negotiation",
   "metadata": {},
   "outputs": [
    {
     "data": {
      "text/plain": [
       "true"
      ]
     },
     "execution_count": 157,
     "metadata": {},
     "output_type": "execute_result"
    }
   ],
   "source": [
    "(= (__ [1 2 3] [:a :b :c]) '(1 :a 2 :b 3 :c))"
   ]
  },
  {
   "cell_type": "code",
   "execution_count": 158,
   "id": "arabic-reverse",
   "metadata": {},
   "outputs": [
    {
     "data": {
      "text/plain": [
       "true"
      ]
     },
     "execution_count": 158,
     "metadata": {},
     "output_type": "execute_result"
    }
   ],
   "source": [
    "(= (__ [1 2] [3 4 5 6]) '(1 3 2 4))"
   ]
  },
  {
   "cell_type": "code",
   "execution_count": 159,
   "id": "emerging-gibson",
   "metadata": {},
   "outputs": [
    {
     "data": {
      "text/plain": [
       "true"
      ]
     },
     "execution_count": 159,
     "metadata": {},
     "output_type": "execute_result"
    }
   ],
   "source": [
    "(= (__ [1 2 3 4] [5]) [1 5])"
   ]
  },
  {
   "cell_type": "code",
   "execution_count": 160,
   "id": "frequent-apparel",
   "metadata": {},
   "outputs": [
    {
     "data": {
      "text/plain": [
       "true"
      ]
     },
     "execution_count": 160,
     "metadata": {},
     "output_type": "execute_result"
    }
   ],
   "source": [
    "(= (__ [30 20] [25 15]) [30 25 20 15])"
   ]
  },
  {
   "cell_type": "markdown",
   "id": "excellent-leisure",
   "metadata": {},
   "source": [
    "## Problem 40, Interpose a Seq\n",
    "Difficulty: easy\n",
    "Write a function which separates the items of a sequence by an arbitrary value."
   ]
  },
  {
   "cell_type": "code",
   "execution_count": 161,
   "id": "interpreted-textbook",
   "metadata": {},
   "outputs": [
    {
     "data": {
      "text/plain": [
       "#'user/__"
      ]
     },
     "execution_count": 161,
     "metadata": {},
     "output_type": "execute_result"
    }
   ],
   "source": [
    "(defn __ [sep coll]\n",
    "    (->> coll\n",
    "        (mapcat #(conj [] % sep))\n",
    "        vec pop))"
   ]
  },
  {
   "cell_type": "code",
   "execution_count": 162,
   "id": "dominant-christopher",
   "metadata": {},
   "outputs": [
    {
     "data": {
      "text/plain": [
       "[1 0 2 0 3]"
      ]
     },
     "execution_count": 162,
     "metadata": {},
     "output_type": "execute_result"
    }
   ],
   "source": [
    "(__ 0 [1 2 3])"
   ]
  },
  {
   "cell_type": "code",
   "execution_count": 163,
   "id": "measured-smoke",
   "metadata": {
    "scrolled": true
   },
   "outputs": [
    {
     "data": {
      "text/plain": [
       "true"
      ]
     },
     "execution_count": 163,
     "metadata": {},
     "output_type": "execute_result"
    }
   ],
   "source": [
    "(= (__ 0 [1 2 3]) [1 0 2 0 3])"
   ]
  },
  {
   "cell_type": "code",
   "execution_count": 164,
   "id": "indirect-sussex",
   "metadata": {},
   "outputs": [
    {
     "data": {
      "text/plain": [
       "true"
      ]
     },
     "execution_count": 164,
     "metadata": {},
     "output_type": "execute_result"
    }
   ],
   "source": [
    "(= (apply str (__ \", \" [\"one\" \"two\" \"three\"])) \"one, two, three\")"
   ]
  },
  {
   "cell_type": "code",
   "execution_count": 165,
   "id": "revised-anime",
   "metadata": {},
   "outputs": [
    {
     "data": {
      "text/plain": [
       "true"
      ]
     },
     "execution_count": 165,
     "metadata": {},
     "output_type": "execute_result"
    }
   ],
   "source": [
    "(= (__ :z [:a :b :c :d]) [:a :z :b :z :c :z :d])"
   ]
  },
  {
   "cell_type": "code",
   "execution_count": 166,
   "id": "sacred-cincinnati",
   "metadata": {},
   "outputs": [
    {
     "data": {
      "text/plain": [
       "(1 0 2 0 3)"
      ]
     },
     "execution_count": 166,
     "metadata": {},
     "output_type": "execute_result"
    }
   ],
   "source": [
    "(interpose 0 [1 2 3])"
   ]
  },
  {
   "cell_type": "markdown",
   "id": "floral-gates",
   "metadata": {},
   "source": [
    "## Problem 41, Drop Every Nth Item\n",
    "Difficulty: easy\n",
    "Write a function which drops every Nth item from a sequence."
   ]
  },
  {
   "cell_type": "code",
   "execution_count": 167,
   "id": "capable-cabinet",
   "metadata": {},
   "outputs": [
    {
     "data": {
      "text/plain": [
       "#'user/__"
      ]
     },
     "execution_count": 167,
     "metadata": {},
     "output_type": "execute_result"
    }
   ],
   "source": [
    "(defn __ [coll n]\n",
    "    (for [i (range (count coll)) :when (not= 0 (rem (inc i) n))]\n",
    "        (nth coll i)))"
   ]
  },
  {
   "cell_type": "code",
   "execution_count": 168,
   "id": "rocky-pipeline",
   "metadata": {},
   "outputs": [
    {
     "data": {
      "text/plain": [
       "(1 2 4 5 7 8)"
      ]
     },
     "execution_count": 168,
     "metadata": {},
     "output_type": "execute_result"
    }
   ],
   "source": [
    "(__ [1 2 3 4 5 6 7 8] 3)"
   ]
  },
  {
   "cell_type": "code",
   "execution_count": 169,
   "id": "modular-ontario",
   "metadata": {},
   "outputs": [
    {
     "data": {
      "text/plain": [
       "true"
      ]
     },
     "execution_count": 169,
     "metadata": {},
     "output_type": "execute_result"
    }
   ],
   "source": [
    "(= (__ [1 2 3 4 5 6 7 8] 3) [1 2 4 5 7 8])"
   ]
  },
  {
   "cell_type": "code",
   "execution_count": 170,
   "id": "centered-overall",
   "metadata": {},
   "outputs": [
    {
     "data": {
      "text/plain": [
       "true"
      ]
     },
     "execution_count": 170,
     "metadata": {},
     "output_type": "execute_result"
    }
   ],
   "source": [
    "(= (__ [:a :b :c :d :e :f] 2) [:a :c :e])"
   ]
  },
  {
   "cell_type": "code",
   "execution_count": 171,
   "id": "mobile-magnitude",
   "metadata": {},
   "outputs": [
    {
     "data": {
      "text/plain": [
       "true"
      ]
     },
     "execution_count": 171,
     "metadata": {},
     "output_type": "execute_result"
    }
   ],
   "source": [
    "(= (__ [1 2 3 4 5 6] 4) [1 2 3 5 6])"
   ]
  },
  {
   "cell_type": "markdown",
   "id": "defensive-clinton",
   "metadata": {},
   "source": [
    "## Problem 42, Factorial Fun\n",
    "Difficulty: easy\n",
    "Write a function which calculates factorials."
   ]
  },
  {
   "cell_type": "code",
   "execution_count": 172,
   "id": "experienced-pursuit",
   "metadata": {},
   "outputs": [
    {
     "data": {
      "text/plain": [
       "#'user/__"
      ]
     },
     "execution_count": 172,
     "metadata": {},
     "output_type": "execute_result"
    }
   ],
   "source": [
    "(defn __ [n]\n",
    "    (->>\n",
    "        (range 1 (inc n))\n",
    "        (reduce *)))"
   ]
  },
  {
   "cell_type": "code",
   "execution_count": 173,
   "id": "unexpected-utility",
   "metadata": {},
   "outputs": [
    {
     "data": {
      "text/plain": [
       "true"
      ]
     },
     "execution_count": 173,
     "metadata": {},
     "output_type": "execute_result"
    }
   ],
   "source": [
    "(= (__ 1) 1)"
   ]
  },
  {
   "cell_type": "code",
   "execution_count": 174,
   "id": "welsh-seeker",
   "metadata": {},
   "outputs": [
    {
     "data": {
      "text/plain": [
       "true"
      ]
     },
     "execution_count": 174,
     "metadata": {},
     "output_type": "execute_result"
    }
   ],
   "source": [
    "(= (__ 3) 6)"
   ]
  },
  {
   "cell_type": "code",
   "execution_count": 175,
   "id": "nasty-cradle",
   "metadata": {},
   "outputs": [
    {
     "data": {
      "text/plain": [
       "true"
      ]
     },
     "execution_count": 175,
     "metadata": {},
     "output_type": "execute_result"
    }
   ],
   "source": [
    "(= (__ 5) 120)"
   ]
  },
  {
   "cell_type": "code",
   "execution_count": 176,
   "id": "assumed-secretary",
   "metadata": {},
   "outputs": [
    {
     "data": {
      "text/plain": [
       "true"
      ]
     },
     "execution_count": 176,
     "metadata": {},
     "output_type": "execute_result"
    }
   ],
   "source": [
    "(= (__ 8) 40320)"
   ]
  },
  {
   "cell_type": "markdown",
   "id": "pregnant-certificate",
   "metadata": {},
   "source": [
    "## Problem 43, Reverse Interleave\n",
    "Difficulty: medium\n",
    "Write a function which reverses the interleave process into x number of subsequences."
   ]
  },
  {
   "cell_type": "code",
   "execution_count": 177,
   "id": "mechanical-steps",
   "metadata": {},
   "outputs": [
    {
     "data": {
      "text/plain": [
       "#'user/__"
      ]
     },
     "execution_count": 177,
     "metadata": {},
     "output_type": "execute_result"
    }
   ],
   "source": [
    "(defn __ [coll n]\n",
    "    (for [i (range n)]\n",
    "      (->> (map-indexed vector coll)\n",
    "           (filter #(= i (rem (first %) n)))\n",
    "           (mapcat next))))"
   ]
  },
  {
   "cell_type": "code",
   "execution_count": 178,
   "id": "heavy-colors",
   "metadata": {},
   "outputs": [
    {
     "data": {
      "text/plain": [
       "#'user/__"
      ]
     },
     "execution_count": 178,
     "metadata": {},
     "output_type": "execute_result"
    }
   ],
   "source": [
    "(defn __ [coll n]\n",
    "   (->> \n",
    "       (partition n coll)\n",
    "       (apply map list)))"
   ]
  },
  {
   "cell_type": "code",
   "execution_count": 179,
   "id": "theoretical-nightlife",
   "metadata": {},
   "outputs": [
    {
     "data": {
      "text/plain": [
       "((1 3 5) (2 4 6))"
      ]
     },
     "execution_count": 179,
     "metadata": {},
     "output_type": "execute_result"
    }
   ],
   "source": [
    "(__ [1 2 3 4 5 6] 2)"
   ]
  },
  {
   "cell_type": "code",
   "execution_count": 180,
   "id": "searching-defensive",
   "metadata": {},
   "outputs": [
    {
     "data": {
      "text/plain": [
       "true"
      ]
     },
     "execution_count": 180,
     "metadata": {},
     "output_type": "execute_result"
    }
   ],
   "source": [
    "(= (__ [1 2 3 4 5 6] 2) '((1 3 5) (2 4 6)))"
   ]
  },
  {
   "cell_type": "code",
   "execution_count": 181,
   "id": "informative-assault",
   "metadata": {},
   "outputs": [
    {
     "data": {
      "text/plain": [
       "true"
      ]
     },
     "execution_count": 181,
     "metadata": {},
     "output_type": "execute_result"
    }
   ],
   "source": [
    "(= (__ (range 9) 3) '((0 3 6) (1 4 7) (2 5 8)))"
   ]
  },
  {
   "cell_type": "code",
   "execution_count": 182,
   "id": "environmental-insured",
   "metadata": {},
   "outputs": [
    {
     "data": {
      "text/plain": [
       "true"
      ]
     },
     "execution_count": 182,
     "metadata": {},
     "output_type": "execute_result"
    }
   ],
   "source": [
    "(= (__ (range 10) 5) '((0 5) (1 6) (2 7) (3 8) (4 9)))"
   ]
  },
  {
   "cell_type": "markdown",
   "id": "thousand-therapist",
   "metadata": {},
   "source": [
    "## Problem 44, Rotate Sequence\n",
    "Difficulty: medium\n",
    "Write a function which can rotate a sequence in either direction."
   ]
  },
  {
   "cell_type": "code",
   "execution_count": 183,
   "id": "bright-hands",
   "metadata": {},
   "outputs": [
    {
     "data": {
      "text/plain": [
       "#'user/__"
      ]
     },
     "execution_count": 183,
     "metadata": {},
     "output_type": "execute_result"
    }
   ],
   "source": [
    "(defn __ [n coll]\n",
    "  (let [n (mod n (count coll))\n",
    "        c (count coll)]\n",
    "    (concat (take-last (- c n) coll) (take n coll))))"
   ]
  },
  {
   "cell_type": "code",
   "execution_count": 232,
   "id": "adequate-glory",
   "metadata": {},
   "outputs": [
    {
     "data": {
      "text/plain": [
       "#'user/__"
      ]
     },
     "execution_count": 232,
     "metadata": {},
     "output_type": "execute_result"
    }
   ],
   "source": [
    "(defn __ [n coll]\n",
    "    (let [pos (mod n (count coll))]\n",
    "        (apply concat (reverse (split-at pos coll)))))"
   ]
  },
  {
   "cell_type": "code",
   "execution_count": 233,
   "id": "optimum-sheet",
   "metadata": {},
   "outputs": [
    {
     "data": {
      "text/plain": [
       "true"
      ]
     },
     "execution_count": 233,
     "metadata": {},
     "output_type": "execute_result"
    }
   ],
   "source": [
    "(= (__ 2 [1 2 3 4 5]) '(3 4 5 1 2))"
   ]
  },
  {
   "cell_type": "code",
   "execution_count": 234,
   "id": "owned-complexity",
   "metadata": {},
   "outputs": [
    {
     "data": {
      "text/plain": [
       "true"
      ]
     },
     "execution_count": 234,
     "metadata": {},
     "output_type": "execute_result"
    }
   ],
   "source": [
    "(= (__ -2 [1 2 3 4 5]) '(4 5 1 2 3))"
   ]
  },
  {
   "cell_type": "code",
   "execution_count": 235,
   "id": "divided-stadium",
   "metadata": {},
   "outputs": [
    {
     "data": {
      "text/plain": [
       "true"
      ]
     },
     "execution_count": 235,
     "metadata": {},
     "output_type": "execute_result"
    }
   ],
   "source": [
    "(= (__ 6 [1 2 3 4 5]) '(2 3 4 5 1))"
   ]
  },
  {
   "cell_type": "code",
   "execution_count": 236,
   "id": "standard-owner",
   "metadata": {},
   "outputs": [
    {
     "data": {
      "text/plain": [
       "true"
      ]
     },
     "execution_count": 236,
     "metadata": {},
     "output_type": "execute_result"
    }
   ],
   "source": [
    "(= (__ 1 '(:a :b :c)) '(:b :c :a))"
   ]
  },
  {
   "cell_type": "code",
   "execution_count": 237,
   "id": "proof-newspaper",
   "metadata": {},
   "outputs": [
    {
     "data": {
      "text/plain": [
       "true"
      ]
     },
     "execution_count": 237,
     "metadata": {},
     "output_type": "execute_result"
    }
   ],
   "source": [
    "(= (__ -4 '(:a :b :c)) '(:c :a :b))"
   ]
  },
  {
   "cell_type": "markdown",
   "id": "subjective-maryland",
   "metadata": {},
   "source": [
    "## Problem 45, Intro to Iterate\n",
    "Difficulty: easy\n",
    "The iterate function can be used to produce an infinite lazy sequence."
   ]
  },
  {
   "cell_type": "code",
   "execution_count": 240,
   "id": "accessible-fiber",
   "metadata": {},
   "outputs": [
    {
     "data": {
      "text/plain": [
       "#'user/__"
      ]
     },
     "execution_count": 240,
     "metadata": {},
     "output_type": "execute_result"
    }
   ],
   "source": [
    "(def __ '(1 4 7 10 13))"
   ]
  },
  {
   "cell_type": "code",
   "execution_count": 241,
   "id": "found-repair",
   "metadata": {},
   "outputs": [
    {
     "data": {
      "text/plain": [
       "true"
      ]
     },
     "execution_count": 241,
     "metadata": {},
     "output_type": "execute_result"
    }
   ],
   "source": [
    "(= __ (take 5 (iterate #(+ 3 %) 1)))"
   ]
  },
  {
   "cell_type": "markdown",
   "id": "internal-painting",
   "metadata": {},
   "source": [
    "## Problem 46, Flipping out\n",
    "Difficulty: medium\n",
    "Write a higher-order function which flips the order of the arguments of an input function."
   ]
  },
  {
   "cell_type": "code",
   "execution_count": 244,
   "id": "demonstrated-profit",
   "metadata": {},
   "outputs": [
    {
     "data": {
      "text/plain": [
       "#'user/__"
      ]
     },
     "execution_count": 244,
     "metadata": {},
     "output_type": "execute_result"
    }
   ],
   "source": [
    "(defn __ [f]\n",
    "    (fn [& args] (apply f (reverse args))))"
   ]
  },
  {
   "cell_type": "code",
   "execution_count": 245,
   "id": "unavailable-tulsa",
   "metadata": {},
   "outputs": [
    {
     "data": {
      "text/plain": [
       "true"
      ]
     },
     "execution_count": 245,
     "metadata": {},
     "output_type": "execute_result"
    }
   ],
   "source": [
    "(= 3 ((__ nth) 2 [1 2 3 4 5]))"
   ]
  },
  {
   "cell_type": "code",
   "execution_count": 246,
   "id": "animal-welsh",
   "metadata": {},
   "outputs": [
    {
     "data": {
      "text/plain": [
       "true"
      ]
     },
     "execution_count": 246,
     "metadata": {},
     "output_type": "execute_result"
    }
   ],
   "source": [
    "(= true ((__ >) 7 8))"
   ]
  },
  {
   "cell_type": "code",
   "execution_count": 247,
   "id": "supreme-request",
   "metadata": {},
   "outputs": [
    {
     "data": {
      "text/plain": [
       "true"
      ]
     },
     "execution_count": 247,
     "metadata": {},
     "output_type": "execute_result"
    }
   ],
   "source": [
    "(= 4 ((__ quot) 2 8))"
   ]
  },
  {
   "cell_type": "code",
   "execution_count": 248,
   "id": "endangered-creator",
   "metadata": {},
   "outputs": [
    {
     "data": {
      "text/plain": [
       "true"
      ]
     },
     "execution_count": 248,
     "metadata": {},
     "output_type": "execute_result"
    }
   ],
   "source": [
    "(= [1 2 3] ((__ take) [1 2 3 4 5] 3))"
   ]
  },
  {
   "cell_type": "code",
   "execution_count": null,
   "id": "christian-spray",
   "metadata": {},
   "outputs": [],
   "source": []
  },
  {
   "cell_type": "code",
   "execution_count": null,
   "id": "ordered-therapy",
   "metadata": {},
   "outputs": [],
   "source": []
  },
  {
   "cell_type": "code",
   "execution_count": null,
   "id": "driving-bangkok",
   "metadata": {},
   "outputs": [],
   "source": []
  },
  {
   "cell_type": "code",
   "execution_count": null,
   "id": "genuine-collapse",
   "metadata": {},
   "outputs": [],
   "source": []
  },
  {
   "cell_type": "code",
   "execution_count": null,
   "id": "adolescent-album",
   "metadata": {},
   "outputs": [],
   "source": []
  },
  {
   "cell_type": "code",
   "execution_count": null,
   "id": "baking-convertible",
   "metadata": {},
   "outputs": [],
   "source": []
  },
  {
   "cell_type": "code",
   "execution_count": null,
   "id": "indie-billion",
   "metadata": {},
   "outputs": [],
   "source": []
  },
  {
   "cell_type": "code",
   "execution_count": null,
   "id": "buried-ideal",
   "metadata": {},
   "outputs": [],
   "source": []
  },
  {
   "cell_type": "code",
   "execution_count": null,
   "id": "variable-publicity",
   "metadata": {},
   "outputs": [],
   "source": []
  },
  {
   "cell_type": "code",
   "execution_count": null,
   "id": "motivated-russell",
   "metadata": {},
   "outputs": [],
   "source": []
  },
  {
   "cell_type": "code",
   "execution_count": null,
   "id": "expressed-momentum",
   "metadata": {},
   "outputs": [],
   "source": []
  },
  {
   "cell_type": "code",
   "execution_count": null,
   "id": "waiting-scanner",
   "metadata": {},
   "outputs": [],
   "source": []
  },
  {
   "cell_type": "code",
   "execution_count": null,
   "id": "second-necessity",
   "metadata": {},
   "outputs": [],
   "source": []
  },
  {
   "cell_type": "code",
   "execution_count": null,
   "id": "suspended-austria",
   "metadata": {},
   "outputs": [],
   "source": []
  },
  {
   "cell_type": "code",
   "execution_count": null,
   "id": "advisory-intervention",
   "metadata": {},
   "outputs": [],
   "source": []
  },
  {
   "cell_type": "code",
   "execution_count": null,
   "id": "scenic-danish",
   "metadata": {},
   "outputs": [],
   "source": []
  }
 ],
 "metadata": {
  "kernelspec": {
   "display_name": "Clojure (clojupyter-0.3.2)",
   "language": "clojure",
   "name": "clojupyter-0.3.2"
  },
  "language_info": {
   "file_extension": ".clj",
   "mimetype": "text/x-clojure",
   "name": "clojure",
   "version": "1.10.1"
  },
  "toc": {
   "base_numbering": 1,
   "nav_menu": {},
   "number_sections": false,
   "sideBar": true,
   "skip_h1_title": false,
   "title_cell": "Table of Contents",
   "title_sidebar": "Contents",
   "toc_cell": false,
   "toc_position": {
    "height": "calc(100% - 180px)",
    "left": "10px",
    "top": "150px",
    "width": "242.101px"
   },
   "toc_section_display": true,
   "toc_window_display": false
  },
  "varInspector": {
   "cols": {
    "lenName": 16,
    "lenType": 16,
    "lenVar": 40
   },
   "kernels_config": {
    "python": {
     "delete_cmd_postfix": "",
     "delete_cmd_prefix": "del ",
     "library": "var_list.py",
     "varRefreshCmd": "print(var_dic_list())"
    },
    "r": {
     "delete_cmd_postfix": ") ",
     "delete_cmd_prefix": "rm(",
     "library": "var_list.r",
     "varRefreshCmd": "cat(var_dic_list()) "
    }
   },
   "types_to_exclude": [
    "module",
    "function",
    "builtin_function_or_method",
    "instance",
    "_Feature"
   ],
   "window_display": false
  }
 },
 "nbformat": 4,
 "nbformat_minor": 5
}
