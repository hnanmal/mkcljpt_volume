{
 "cells": [
  {
   "cell_type": "markdown",
   "id": "respiratory-server",
   "metadata": {},
   "source": [
    "## Problem 1, Nothing but the Truth\n",
    "Difficulty: elementary\n",
    "Complete the expression so it will evaluate to true."
   ]
  },
  {
   "cell_type": "code",
   "execution_count": 1,
   "id": "jewish-effort",
   "metadata": {},
   "outputs": [
    {
     "data": {
      "text/plain": [
       "#'user/__"
      ]
     },
     "execution_count": 1,
     "metadata": {},
     "output_type": "execute_result"
    }
   ],
   "source": [
    "(def __ true)"
   ]
  },
  {
   "cell_type": "code",
   "execution_count": 2,
   "id": "quantitative-brunei",
   "metadata": {},
   "outputs": [
    {
     "data": {
      "text/plain": [
       "true"
      ]
     },
     "execution_count": 2,
     "metadata": {},
     "output_type": "execute_result"
    }
   ],
   "source": [
    "(= __ true)"
   ]
  },
  {
   "cell_type": "markdown",
   "id": "experienced-sydney",
   "metadata": {},
   "source": [
    "## Problem 2, Simple Math\n",
    "Difficulty: elementary\n",
    "Innermost forms are evaluated first."
   ]
  },
  {
   "cell_type": "code",
   "execution_count": 3,
   "id": "weighted-armor",
   "metadata": {},
   "outputs": [
    {
     "data": {
      "text/plain": [
       "#'user/__"
      ]
     },
     "execution_count": 3,
     "metadata": {},
     "output_type": "execute_result"
    }
   ],
   "source": [
    "(def __ 4)"
   ]
  },
  {
   "cell_type": "code",
   "execution_count": 4,
   "id": "ordinary-garage",
   "metadata": {},
   "outputs": [
    {
     "data": {
      "text/plain": [
       "true"
      ]
     },
     "execution_count": 4,
     "metadata": {},
     "output_type": "execute_result"
    }
   ],
   "source": [
    "(= (- 10 (* 2 3)) __)"
   ]
  },
  {
   "cell_type": "markdown",
   "id": "warming-photography",
   "metadata": {},
   "source": [
    "## Problem 3, Strings\n",
    "Difficulty: elementary\n",
    "Clojure strings are Java strings, so you can use Java string methods on them."
   ]
  },
  {
   "cell_type": "code",
   "execution_count": 5,
   "id": "charitable-adapter",
   "metadata": {},
   "outputs": [
    {
     "data": {
      "text/plain": [
       "#'user/__"
      ]
     },
     "execution_count": 5,
     "metadata": {},
     "output_type": "execute_result"
    }
   ],
   "source": [
    "(def __ \"HELLO WORLD\")"
   ]
  },
  {
   "cell_type": "code",
   "execution_count": 6,
   "id": "purple-north",
   "metadata": {},
   "outputs": [
    {
     "data": {
      "text/plain": [
       "true"
      ]
     },
     "execution_count": 6,
     "metadata": {},
     "output_type": "execute_result"
    }
   ],
   "source": [
    "(= __ (.toUpperCase \"hello world\"))"
   ]
  },
  {
   "cell_type": "markdown",
   "id": "aggressive-answer",
   "metadata": {},
   "source": [
    "## Problem 4, Lists\n",
    "Difficulty: elementary\n",
    "Lists can be constructed with either a function or a quoted form."
   ]
  },
  {
   "cell_type": "code",
   "execution_count": 7,
   "id": "actual-australian",
   "metadata": {},
   "outputs": [
    {
     "data": {
      "text/plain": [
       "true"
      ]
     },
     "execution_count": 7,
     "metadata": {},
     "output_type": "execute_result"
    }
   ],
   "source": [
    "(= (list :a :b :c) '(:a :b :c))"
   ]
  },
  {
   "cell_type": "markdown",
   "id": "forbidden-disposal",
   "metadata": {},
   "source": [
    "## Problem 5, conj on lists\n",
    "Difficulty: elementary\n",
    "When operating on a list, the conj function will return a new list with one or more items \"added\" to the front."
   ]
  },
  {
   "cell_type": "code",
   "execution_count": 8,
   "id": "palestinian-dependence",
   "metadata": {},
   "outputs": [
    {
     "data": {
      "text/plain": [
       "#'user/__"
      ]
     },
     "execution_count": 8,
     "metadata": {},
     "output_type": "execute_result"
    }
   ],
   "source": [
    "(def __ '(1 2 3 4))"
   ]
  },
  {
   "cell_type": "code",
   "execution_count": 9,
   "id": "infrared-healthcare",
   "metadata": {},
   "outputs": [
    {
     "data": {
      "text/plain": [
       "true"
      ]
     },
     "execution_count": 9,
     "metadata": {},
     "output_type": "execute_result"
    }
   ],
   "source": [
    "(= __ (conj '(2 3 4) 1))"
   ]
  },
  {
   "cell_type": "code",
   "execution_count": 10,
   "id": "ceramic-darwin",
   "metadata": {},
   "outputs": [
    {
     "data": {
      "text/plain": [
       "true"
      ]
     },
     "execution_count": 10,
     "metadata": {},
     "output_type": "execute_result"
    }
   ],
   "source": [
    "(= __ (conj '(3 4) 2 1))"
   ]
  },
  {
   "cell_type": "markdown",
   "id": "damaged-disorder",
   "metadata": {},
   "source": [
    "## Problem 6, Vectors\n",
    "Difficulty: elementary\n",
    "Vectors can be constructed several ways. You can compare them with lists."
   ]
  },
  {
   "cell_type": "code",
   "execution_count": 11,
   "id": "comprehensive-preliminary",
   "metadata": {},
   "outputs": [
    {
     "data": {
      "text/plain": [
       "true"
      ]
     },
     "execution_count": 11,
     "metadata": {},
     "output_type": "execute_result"
    }
   ],
   "source": [
    "(= [:a :b :c] (list :a :b :c) (vec '(:a :b :c)) (vector :a :b :c))"
   ]
  },
  {
   "cell_type": "markdown",
   "id": "unlimited-wagner",
   "metadata": {},
   "source": [
    "## Problem 7, conj on vectors\n",
    "Difficulty: elementary\n",
    "When operating on a Vector, the conj function will return a new vector with one or more items \"added\" to the end."
   ]
  },
  {
   "cell_type": "code",
   "execution_count": 12,
   "id": "beginning-trace",
   "metadata": {},
   "outputs": [
    {
     "data": {
      "text/plain": [
       "#'user/__"
      ]
     },
     "execution_count": 12,
     "metadata": {},
     "output_type": "execute_result"
    }
   ],
   "source": [
    "(def __ [1 2 3 4])"
   ]
  },
  {
   "cell_type": "code",
   "execution_count": 13,
   "id": "likely-sunday",
   "metadata": {
    "scrolled": true
   },
   "outputs": [
    {
     "data": {
      "text/plain": [
       "true"
      ]
     },
     "execution_count": 13,
     "metadata": {},
     "output_type": "execute_result"
    }
   ],
   "source": [
    "(= __ (conj [1 2 3] 4))"
   ]
  },
  {
   "cell_type": "code",
   "execution_count": 14,
   "id": "tracked-photography",
   "metadata": {},
   "outputs": [
    {
     "data": {
      "text/plain": [
       "true"
      ]
     },
     "execution_count": 14,
     "metadata": {},
     "output_type": "execute_result"
    }
   ],
   "source": [
    "(= __ (conj [1 2] 3 4))"
   ]
  },
  {
   "cell_type": "markdown",
   "id": "arbitrary-century",
   "metadata": {},
   "source": [
    "## Problem 8, Sets\n",
    "Difficulty: elementary\n",
    "Sets are collections of unique values."
   ]
  },
  {
   "cell_type": "code",
   "execution_count": 15,
   "id": "determined-network",
   "metadata": {},
   "outputs": [
    {
     "data": {
      "text/plain": [
       "#'user/__"
      ]
     },
     "execution_count": 15,
     "metadata": {},
     "output_type": "execute_result"
    }
   ],
   "source": [
    "(def __ #{:a :b :c :d})"
   ]
  },
  {
   "cell_type": "code",
   "execution_count": 16,
   "id": "sunset-controversy",
   "metadata": {},
   "outputs": [
    {
     "data": {
      "text/plain": [
       "true"
      ]
     },
     "execution_count": 16,
     "metadata": {},
     "output_type": "execute_result"
    }
   ],
   "source": [
    "(= __ (set '(:a :a :b :c :c :c :c :d :d)))"
   ]
  },
  {
   "cell_type": "code",
   "execution_count": 17,
   "id": "alien-rating",
   "metadata": {},
   "outputs": [
    {
     "data": {
      "text/plain": [
       "true"
      ]
     },
     "execution_count": 17,
     "metadata": {},
     "output_type": "execute_result"
    }
   ],
   "source": [
    "(= __ (clojure.set/union #{:a :b :c} #{:b :c :d}))"
   ]
  },
  {
   "cell_type": "markdown",
   "id": "close-technique",
   "metadata": {},
   "source": [
    "## Problem 9, conj on sets\n",
    "Difficulty: elementary\n",
    "When operating on a set, the conj function returns a new set with one or more keys \"added\"."
   ]
  },
  {
   "cell_type": "code",
   "execution_count": 18,
   "id": "monthly-spectacular",
   "metadata": {},
   "outputs": [
    {
     "data": {
      "text/plain": [
       "#'user/__"
      ]
     },
     "execution_count": 18,
     "metadata": {},
     "output_type": "execute_result"
    }
   ],
   "source": [
    "(def __ 2)"
   ]
  },
  {
   "cell_type": "code",
   "execution_count": 19,
   "id": "violent-accountability",
   "metadata": {},
   "outputs": [
    {
     "data": {
      "text/plain": [
       "true"
      ]
     },
     "execution_count": 19,
     "metadata": {},
     "output_type": "execute_result"
    }
   ],
   "source": [
    "(= #{1 2 3 4} (conj #{1 4 3} __))"
   ]
  },
  {
   "cell_type": "markdown",
   "id": "extraordinary-competition",
   "metadata": {},
   "source": [
    "## Problem 10, Maps\n",
    "Difficulty: elementary\n",
    "Maps store key-value pairs. Both maps and keywords can be used as lookup functions. Commas are whitespace."
   ]
  },
  {
   "cell_type": "code",
   "execution_count": 20,
   "id": "bored-sender",
   "metadata": {},
   "outputs": [
    {
     "data": {
      "text/plain": [
       "#'user/__"
      ]
     },
     "execution_count": 20,
     "metadata": {},
     "output_type": "execute_result"
    }
   ],
   "source": [
    "(def __ 20)"
   ]
  },
  {
   "cell_type": "code",
   "execution_count": 21,
   "id": "removed-quilt",
   "metadata": {},
   "outputs": [
    {
     "data": {
      "text/plain": [
       "true"
      ]
     },
     "execution_count": 21,
     "metadata": {},
     "output_type": "execute_result"
    }
   ],
   "source": [
    "(= __ ((hash-map :a 10, :b 20, :c 30) :b))"
   ]
  },
  {
   "cell_type": "code",
   "execution_count": 22,
   "id": "confirmed-conservative",
   "metadata": {
    "scrolled": true
   },
   "outputs": [
    {
     "data": {
      "text/plain": [
       "true"
      ]
     },
     "execution_count": 22,
     "metadata": {},
     "output_type": "execute_result"
    }
   ],
   "source": [
    "(= __ (:b {:a 10, :b 20, :c 30}))"
   ]
  },
  {
   "cell_type": "markdown",
   "id": "wrong-applicant",
   "metadata": {},
   "source": [
    "---"
   ]
  },
  {
   "cell_type": "markdown",
   "id": "stunning-vietnam",
   "metadata": {},
   "source": [
    "## Problem 11, conj on maps\n",
    "Difficulty: elementary\n",
    "When operating on a map, the conj function returns a new map with one or more key-value pairs \"added\"."
   ]
  },
  {
   "cell_type": "code",
   "execution_count": 23,
   "id": "necessary-milwaukee",
   "metadata": {},
   "outputs": [
    {
     "data": {
      "text/plain": [
       "#'user/__"
      ]
     },
     "execution_count": 23,
     "metadata": {},
     "output_type": "execute_result"
    }
   ],
   "source": [
    "(def __ [:b 2])"
   ]
  },
  {
   "cell_type": "code",
   "execution_count": 24,
   "id": "interstate-destruction",
   "metadata": {},
   "outputs": [
    {
     "data": {
      "text/plain": [
       "true"
      ]
     },
     "execution_count": 24,
     "metadata": {},
     "output_type": "execute_result"
    }
   ],
   "source": [
    "(= {:a 1, :b 2, :c 3} (conj {:a 1} __ [:c 3]))"
   ]
  },
  {
   "cell_type": "markdown",
   "id": "experimental-working",
   "metadata": {},
   "source": [
    "## Problem 12, Sequences\n",
    "Difficulty: elementary\n",
    "All Clojure collections support sequencing. You can operate on sequences with functions like first, second, and last."
   ]
  },
  {
   "cell_type": "code",
   "execution_count": 25,
   "id": "surface-commission",
   "metadata": {},
   "outputs": [
    {
     "data": {
      "text/plain": [
       "#'user/__"
      ]
     },
     "execution_count": 25,
     "metadata": {},
     "output_type": "execute_result"
    }
   ],
   "source": [
    "(def __ 3)"
   ]
  },
  {
   "cell_type": "code",
   "execution_count": 26,
   "id": "assisted-record",
   "metadata": {},
   "outputs": [
    {
     "data": {
      "text/plain": [
       "true"
      ]
     },
     "execution_count": 26,
     "metadata": {},
     "output_type": "execute_result"
    }
   ],
   "source": [
    "(= __ (first '(3 2 1)))"
   ]
  },
  {
   "cell_type": "code",
   "execution_count": 27,
   "id": "southern-nicaragua",
   "metadata": {},
   "outputs": [
    {
     "data": {
      "text/plain": [
       "true"
      ]
     },
     "execution_count": 27,
     "metadata": {},
     "output_type": "execute_result"
    }
   ],
   "source": [
    "(= __ (second [2 3 4]))"
   ]
  },
  {
   "cell_type": "code",
   "execution_count": 28,
   "id": "norman-forty",
   "metadata": {},
   "outputs": [
    {
     "data": {
      "text/plain": [
       "true"
      ]
     },
     "execution_count": 28,
     "metadata": {},
     "output_type": "execute_result"
    }
   ],
   "source": [
    "(= __ (last (list 1 2 3)))"
   ]
  },
  {
   "cell_type": "markdown",
   "id": "weird-instrumentation",
   "metadata": {},
   "source": [
    "## Problem 13, rest\n",
    "Difficulty: elementary\n",
    "The rest function will return all the items of a sequence except the first."
   ]
  },
  {
   "cell_type": "code",
   "execution_count": 29,
   "id": "convertible-booking",
   "metadata": {},
   "outputs": [
    {
     "data": {
      "text/plain": [
       "#'user/__"
      ]
     },
     "execution_count": 29,
     "metadata": {},
     "output_type": "execute_result"
    }
   ],
   "source": [
    "(def __ [20 30 40])"
   ]
  },
  {
   "cell_type": "code",
   "execution_count": 30,
   "id": "arbitrary-thesis",
   "metadata": {},
   "outputs": [
    {
     "data": {
      "text/plain": [
       "true"
      ]
     },
     "execution_count": 30,
     "metadata": {},
     "output_type": "execute_result"
    }
   ],
   "source": [
    "(= __ (rest [10 20 30 40]))"
   ]
  },
  {
   "cell_type": "markdown",
   "id": "stock-bidding",
   "metadata": {},
   "source": [
    "## Problem 14, Functions\n",
    "Difficulty: elementary\n",
    "Clojure has many different ways to create functions."
   ]
  },
  {
   "cell_type": "code",
   "execution_count": 31,
   "id": "corresponding-dealer",
   "metadata": {},
   "outputs": [
    {
     "data": {
      "text/plain": [
       "#'user/__"
      ]
     },
     "execution_count": 31,
     "metadata": {},
     "output_type": "execute_result"
    }
   ],
   "source": [
    "(def __ 8)"
   ]
  },
  {
   "cell_type": "code",
   "execution_count": 32,
   "id": "final-anxiety",
   "metadata": {},
   "outputs": [
    {
     "data": {
      "text/plain": [
       "true"
      ]
     },
     "execution_count": 32,
     "metadata": {},
     "output_type": "execute_result"
    }
   ],
   "source": [
    "(= __ ((fn add-five [x] (+ x 5)) 3))"
   ]
  },
  {
   "cell_type": "code",
   "execution_count": 33,
   "id": "sacred-chancellor",
   "metadata": {},
   "outputs": [
    {
     "data": {
      "text/plain": [
       "true"
      ]
     },
     "execution_count": 33,
     "metadata": {},
     "output_type": "execute_result"
    }
   ],
   "source": [
    "(= __ ((fn [x] (+ x 5)) 3))"
   ]
  },
  {
   "cell_type": "code",
   "execution_count": 34,
   "id": "tough-retail",
   "metadata": {},
   "outputs": [
    {
     "data": {
      "text/plain": [
       "true"
      ]
     },
     "execution_count": 34,
     "metadata": {},
     "output_type": "execute_result"
    }
   ],
   "source": [
    "(= __ (#(+ % 5) 3))"
   ]
  },
  {
   "cell_type": "code",
   "execution_count": 35,
   "id": "measured-breast",
   "metadata": {},
   "outputs": [
    {
     "data": {
      "text/plain": [
       "true"
      ]
     },
     "execution_count": 35,
     "metadata": {},
     "output_type": "execute_result"
    }
   ],
   "source": [
    "(= __ ((partial + 5) 3))"
   ]
  },
  {
   "cell_type": "markdown",
   "id": "numeric-future",
   "metadata": {},
   "source": [
    "## Problem 15, Double Down\n",
    "Difficulty: elementary\n",
    "Write a function which doubles a number."
   ]
  },
  {
   "cell_type": "code",
   "execution_count": 36,
   "id": "public-swaziland",
   "metadata": {},
   "outputs": [
    {
     "data": {
      "text/plain": [
       "#'user/__"
      ]
     },
     "execution_count": 36,
     "metadata": {},
     "output_type": "execute_result"
    }
   ],
   "source": [
    "(def __ #(* 2 %))"
   ]
  },
  {
   "cell_type": "code",
   "execution_count": 37,
   "id": "intelligent-amber",
   "metadata": {},
   "outputs": [
    {
     "data": {
      "text/plain": [
       "true"
      ]
     },
     "execution_count": 37,
     "metadata": {},
     "output_type": "execute_result"
    }
   ],
   "source": [
    "(= (__ 2) 4)"
   ]
  },
  {
   "cell_type": "code",
   "execution_count": 38,
   "id": "happy-traveler",
   "metadata": {},
   "outputs": [
    {
     "data": {
      "text/plain": [
       "true"
      ]
     },
     "execution_count": 38,
     "metadata": {},
     "output_type": "execute_result"
    }
   ],
   "source": [
    "(= (__ 3) 6)"
   ]
  },
  {
   "cell_type": "code",
   "execution_count": 39,
   "id": "searching-architecture",
   "metadata": {},
   "outputs": [
    {
     "data": {
      "text/plain": [
       "true"
      ]
     },
     "execution_count": 39,
     "metadata": {},
     "output_type": "execute_result"
    }
   ],
   "source": [
    "(= (__ 11) 22)"
   ]
  },
  {
   "cell_type": "code",
   "execution_count": 40,
   "id": "latter-internet",
   "metadata": {},
   "outputs": [
    {
     "data": {
      "text/plain": [
       "true"
      ]
     },
     "execution_count": 40,
     "metadata": {},
     "output_type": "execute_result"
    }
   ],
   "source": [
    "(= (__ 7) 14)"
   ]
  },
  {
   "cell_type": "markdown",
   "id": "statutory-performer",
   "metadata": {},
   "source": [
    "## Problem 16, Hello World\n",
    "Difficulty: elementary\n",
    "Write a function which returns a personalized greeting."
   ]
  },
  {
   "cell_type": "code",
   "execution_count": 41,
   "id": "comic-miami",
   "metadata": {},
   "outputs": [
    {
     "data": {
      "text/plain": [
       "#'user/__"
      ]
     },
     "execution_count": 41,
     "metadata": {},
     "output_type": "execute_result"
    }
   ],
   "source": [
    "(defn __ [str-]\n",
    "    (str \"Hello, \" str- \"!\"))"
   ]
  },
  {
   "cell_type": "code",
   "execution_count": 42,
   "id": "reliable-kruger",
   "metadata": {},
   "outputs": [
    {
     "data": {
      "text/plain": [
       "true"
      ]
     },
     "execution_count": 42,
     "metadata": {},
     "output_type": "execute_result"
    }
   ],
   "source": [
    "(= (__ \"Dave\") \"Hello, Dave!\")"
   ]
  },
  {
   "cell_type": "code",
   "execution_count": 43,
   "id": "funny-criterion",
   "metadata": {},
   "outputs": [
    {
     "data": {
      "text/plain": [
       "true"
      ]
     },
     "execution_count": 43,
     "metadata": {},
     "output_type": "execute_result"
    }
   ],
   "source": [
    "(= (__ \"Jenn\") \"Hello, Jenn!\")"
   ]
  },
  {
   "cell_type": "code",
   "execution_count": 44,
   "id": "light-engineering",
   "metadata": {},
   "outputs": [
    {
     "data": {
      "text/plain": [
       "true"
      ]
     },
     "execution_count": 44,
     "metadata": {},
     "output_type": "execute_result"
    }
   ],
   "source": [
    "(= (__ \"Rhea\") \"Hello, Rhea!\")"
   ]
  },
  {
   "cell_type": "markdown",
   "id": "distributed-playing",
   "metadata": {},
   "source": [
    "## Problem 17, map\n",
    "Difficulty: elementary\n",
    "The map function takes two arguments: a function (f) and a sequence (s). Map returns a new sequence consisting of the result of applying f to each item of s. Do not confuse the map function with the map data structure."
   ]
  },
  {
   "cell_type": "code",
   "execution_count": 45,
   "id": "committed-irrigation",
   "metadata": {},
   "outputs": [
    {
     "data": {
      "text/plain": [
       "#'user/__"
      ]
     },
     "execution_count": 45,
     "metadata": {},
     "output_type": "execute_result"
    }
   ],
   "source": [
    "(def __ '(6 7 8))"
   ]
  },
  {
   "cell_type": "code",
   "execution_count": 46,
   "id": "collaborative-enterprise",
   "metadata": {},
   "outputs": [
    {
     "data": {
      "text/plain": [
       "true"
      ]
     },
     "execution_count": 46,
     "metadata": {},
     "output_type": "execute_result"
    }
   ],
   "source": [
    "(= __ (map #(+ % 5) '(1 2 3)))"
   ]
  },
  {
   "cell_type": "markdown",
   "id": "checked-shannon",
   "metadata": {},
   "source": [
    "## Problem 18, filter\n",
    "Difficulty: elementary\n",
    "The filter function takes two arguments: a predicate function (f) and a sequence (s). Filter returns a new sequence consisting of all the items of s for which (f item) returns true."
   ]
  },
  {
   "cell_type": "code",
   "execution_count": 47,
   "id": "actual-innocent",
   "metadata": {},
   "outputs": [
    {
     "data": {
      "text/plain": [
       "#'user/__"
      ]
     },
     "execution_count": 47,
     "metadata": {},
     "output_type": "execute_result"
    }
   ],
   "source": [
    "(def __ '(6 7))"
   ]
  },
  {
   "cell_type": "code",
   "execution_count": 48,
   "id": "sound-backup",
   "metadata": {},
   "outputs": [
    {
     "data": {
      "text/plain": [
       "true"
      ]
     },
     "execution_count": 48,
     "metadata": {},
     "output_type": "execute_result"
    }
   ],
   "source": [
    "(= __ (filter #(> % 5) '(3 4 5 6 7)))"
   ]
  },
  {
   "cell_type": "markdown",
   "id": "medical-earthquake",
   "metadata": {},
   "source": [
    "## Problem 19, Last Element\n",
    "Difficulty: easy\n",
    "Write a function which returns the last element in a sequence."
   ]
  },
  {
   "cell_type": "code",
   "execution_count": 49,
   "id": "atomic-intermediate",
   "metadata": {},
   "outputs": [
    {
     "data": {
      "text/plain": [
       "#'user/__"
      ]
     },
     "execution_count": 49,
     "metadata": {},
     "output_type": "execute_result"
    }
   ],
   "source": [
    "(defn __ [coll]\n",
    "    (nth coll (dec (count coll))))"
   ]
  },
  {
   "cell_type": "code",
   "execution_count": 50,
   "id": "occupied-collector",
   "metadata": {},
   "outputs": [
    {
     "data": {
      "text/plain": [
       "true"
      ]
     },
     "execution_count": 50,
     "metadata": {},
     "output_type": "execute_result"
    }
   ],
   "source": [
    "(= (__ [1 2 3 4 5]) 5)"
   ]
  },
  {
   "cell_type": "code",
   "execution_count": 51,
   "id": "waiting-cylinder",
   "metadata": {},
   "outputs": [
    {
     "data": {
      "text/plain": [
       "true"
      ]
     },
     "execution_count": 51,
     "metadata": {},
     "output_type": "execute_result"
    }
   ],
   "source": [
    "(= (__ '(5 4 3)) 3)"
   ]
  },
  {
   "cell_type": "code",
   "execution_count": 52,
   "id": "desirable-injection",
   "metadata": {},
   "outputs": [
    {
     "data": {
      "text/plain": [
       "true"
      ]
     },
     "execution_count": 52,
     "metadata": {},
     "output_type": "execute_result"
    }
   ],
   "source": [
    "(= (__ [\"b\" \"c\" \"d\"]) \"d\")"
   ]
  },
  {
   "cell_type": "markdown",
   "id": "multiple-chuck",
   "metadata": {},
   "source": [
    "## Problem 20, Penultimate Element\n",
    "Difficulty: easy\n",
    "Write a function which returns the second to last element from a sequence."
   ]
  },
  {
   "cell_type": "code",
   "execution_count": 53,
   "id": "confirmed-sharing",
   "metadata": {},
   "outputs": [
    {
     "data": {
      "text/plain": [
       "#'user/__"
      ]
     },
     "execution_count": 53,
     "metadata": {},
     "output_type": "execute_result"
    }
   ],
   "source": [
    "(defn __ [coll]\n",
    "    (nth coll (- (count coll) 2)))\n",
    "\n",
    ";;#(second (reverse %))"
   ]
  },
  {
   "cell_type": "code",
   "execution_count": 54,
   "id": "hidden-broadway",
   "metadata": {},
   "outputs": [
    {
     "data": {
      "text/plain": [
       "true"
      ]
     },
     "execution_count": 54,
     "metadata": {},
     "output_type": "execute_result"
    }
   ],
   "source": [
    "(= (__ (list 1 2 3 4 5)) 4)"
   ]
  },
  {
   "cell_type": "code",
   "execution_count": 55,
   "id": "attractive-contents",
   "metadata": {},
   "outputs": [
    {
     "data": {
      "text/plain": [
       "true"
      ]
     },
     "execution_count": 55,
     "metadata": {},
     "output_type": "execute_result"
    }
   ],
   "source": [
    "(= (__ [\"a\" \"b\" \"c\"]) \"b\")"
   ]
  },
  {
   "cell_type": "code",
   "execution_count": 56,
   "id": "auburn-brown",
   "metadata": {},
   "outputs": [
    {
     "data": {
      "text/plain": [
       "true"
      ]
     },
     "execution_count": 56,
     "metadata": {},
     "output_type": "execute_result"
    }
   ],
   "source": [
    "(= (__ [[1 2] [3 4]]) [1 2])"
   ]
  },
  {
   "cell_type": "markdown",
   "id": "bulgarian-percentage",
   "metadata": {},
   "source": [
    "## Problem 21, Nth Element\n",
    "Difficulty: easy\n",
    "Write a function which returns the Nth element from a sequence."
   ]
  },
  {
   "cell_type": "code",
   "execution_count": 57,
   "id": "handed-builder",
   "metadata": {},
   "outputs": [
    {
     "data": {
      "text/plain": [
       "#'user/__"
      ]
     },
     "execution_count": 57,
     "metadata": {},
     "output_type": "execute_result"
    }
   ],
   "source": [
    "(defn __ [coll n]\n",
    "    ((vec coll) n))"
   ]
  },
  {
   "cell_type": "code",
   "execution_count": 58,
   "id": "seventh-england",
   "metadata": {},
   "outputs": [
    {
     "data": {
      "text/plain": [
       "#'user/__"
      ]
     },
     "execution_count": 58,
     "metadata": {},
     "output_type": "execute_result"
    }
   ],
   "source": [
    "(defn __ [coll n]\n",
    "    (loop [cnt 0 res (seq coll)]\n",
    "        (if (= cnt n)\n",
    "            (first res)\n",
    "            (recur (inc cnt) (next res)))))"
   ]
  },
  {
   "cell_type": "code",
   "execution_count": 59,
   "id": "ahead-black",
   "metadata": {
    "scrolled": true
   },
   "outputs": [
    {
     "data": {
      "text/plain": [
       "6"
      ]
     },
     "execution_count": 59,
     "metadata": {},
     "output_type": "execute_result"
    }
   ],
   "source": [
    "(__ '(4 5 6 7) 2)"
   ]
  },
  {
   "cell_type": "code",
   "execution_count": 60,
   "id": "coordinate-glossary",
   "metadata": {},
   "outputs": [
    {
     "data": {
      "text/plain": [
       "true"
      ]
     },
     "execution_count": 60,
     "metadata": {},
     "output_type": "execute_result"
    }
   ],
   "source": [
    "(= (__ '(4 5 6 7) 2) 6)"
   ]
  },
  {
   "cell_type": "code",
   "execution_count": 61,
   "id": "supported-clock",
   "metadata": {},
   "outputs": [
    {
     "data": {
      "text/plain": [
       "true"
      ]
     },
     "execution_count": 61,
     "metadata": {},
     "output_type": "execute_result"
    }
   ],
   "source": [
    "(= (__ [:a :b :c] 0) :a)"
   ]
  },
  {
   "cell_type": "code",
   "execution_count": 62,
   "id": "funded-reset",
   "metadata": {},
   "outputs": [
    {
     "data": {
      "text/plain": [
       "true"
      ]
     },
     "execution_count": 62,
     "metadata": {},
     "output_type": "execute_result"
    }
   ],
   "source": [
    "(= (__ [1 2 3 4] 1) 2)"
   ]
  },
  {
   "cell_type": "code",
   "execution_count": 63,
   "id": "banned-viewer",
   "metadata": {},
   "outputs": [
    {
     "data": {
      "text/plain": [
       "true"
      ]
     },
     "execution_count": 63,
     "metadata": {},
     "output_type": "execute_result"
    }
   ],
   "source": [
    "(= (__ '([1 2] [3 4] [5 6]) 2) [5 6])"
   ]
  },
  {
   "cell_type": "markdown",
   "id": "pressed-interpretation",
   "metadata": {},
   "source": [
    "## Problem 22, Count a Sequence\n",
    "Difficulty: easy\n",
    "Write a function which returns the total number of elements in a sequence."
   ]
  },
  {
   "cell_type": "code",
   "execution_count": 64,
   "id": "occupational-nothing",
   "metadata": {},
   "outputs": [
    {
     "data": {
      "text/plain": [
       "#'user/__"
      ]
     },
     "execution_count": 64,
     "metadata": {},
     "output_type": "execute_result"
    }
   ],
   "source": [
    "(defn __ [coll]\n",
    "    (loop [cnt 0 res (seq coll)]\n",
    "        (if (empty? res)\n",
    "            cnt\n",
    "            (recur (inc cnt) (next res)))))"
   ]
  },
  {
   "cell_type": "code",
   "execution_count": 65,
   "id": "hearing-double",
   "metadata": {},
   "outputs": [
    {
     "data": {
      "text/plain": [
       "true"
      ]
     },
     "execution_count": 65,
     "metadata": {},
     "output_type": "execute_result"
    }
   ],
   "source": [
    "(= (__ '(1 2 3 3 1)) 5)"
   ]
  },
  {
   "cell_type": "code",
   "execution_count": 66,
   "id": "young-junior",
   "metadata": {},
   "outputs": [
    {
     "data": {
      "text/plain": [
       "true"
      ]
     },
     "execution_count": 66,
     "metadata": {},
     "output_type": "execute_result"
    }
   ],
   "source": [
    "(= (__ \"Hello World\") 11)"
   ]
  },
  {
   "cell_type": "code",
   "execution_count": 67,
   "id": "electoral-aging",
   "metadata": {},
   "outputs": [
    {
     "data": {
      "text/plain": [
       "true"
      ]
     },
     "execution_count": 67,
     "metadata": {},
     "output_type": "execute_result"
    }
   ],
   "source": [
    "(= (__ [[1 2] [3 4] [5 6]]) 3)"
   ]
  },
  {
   "cell_type": "code",
   "execution_count": 68,
   "id": "convinced-sense",
   "metadata": {},
   "outputs": [
    {
     "data": {
      "text/plain": [
       "true"
      ]
     },
     "execution_count": 68,
     "metadata": {},
     "output_type": "execute_result"
    }
   ],
   "source": [
    "(= (__ '(13)) 1)"
   ]
  },
  {
   "cell_type": "code",
   "execution_count": 69,
   "id": "advisory-drilling",
   "metadata": {},
   "outputs": [
    {
     "data": {
      "text/plain": [
       "true"
      ]
     },
     "execution_count": 69,
     "metadata": {},
     "output_type": "execute_result"
    }
   ],
   "source": [
    "(= (__ '(:a :b :c)) 3)"
   ]
  },
  {
   "cell_type": "markdown",
   "id": "passive-quick",
   "metadata": {},
   "source": [
    "## Problem 23, Reverse a Sequence\n",
    "Difficulty: easy\n",
    "Write a function which reverses a sequence."
   ]
  },
  {
   "cell_type": "code",
   "execution_count": 70,
   "id": "behavioral-mexico",
   "metadata": {},
   "outputs": [
    {
     "data": {
      "text/plain": [
       "#'user/__"
      ]
     },
     "execution_count": 70,
     "metadata": {},
     "output_type": "execute_result"
    }
   ],
   "source": [
    "(defn __ [coll]\n",
    "    (loop [acc (vec nil) res (vec coll)]\n",
    "        (if (empty? res)\n",
    "            acc\n",
    "            (recur (conj acc (peek res)) (pop res)))))"
   ]
  },
  {
   "cell_type": "code",
   "execution_count": 71,
   "id": "french-stretch",
   "metadata": {
    "scrolled": true
   },
   "outputs": [
    {
     "data": {
      "text/plain": [
       "true"
      ]
     },
     "execution_count": 71,
     "metadata": {},
     "output_type": "execute_result"
    }
   ],
   "source": [
    "(= (__ [1 2 3 4 5]) [5 4 3 2 1])"
   ]
  },
  {
   "cell_type": "code",
   "execution_count": 72,
   "id": "young-hepatitis",
   "metadata": {},
   "outputs": [
    {
     "data": {
      "text/plain": [
       "true"
      ]
     },
     "execution_count": 72,
     "metadata": {},
     "output_type": "execute_result"
    }
   ],
   "source": [
    "(= (__ (sorted-set 5 7 2 7)) '(7 5 2))"
   ]
  },
  {
   "cell_type": "code",
   "execution_count": 73,
   "id": "lyric-pencil",
   "metadata": {},
   "outputs": [
    {
     "data": {
      "text/plain": [
       "true"
      ]
     },
     "execution_count": 73,
     "metadata": {},
     "output_type": "execute_result"
    }
   ],
   "source": [
    "(= (__ [[1 2][3 4][5 6]]) [[5 6][3 4][1 2]])"
   ]
  },
  {
   "cell_type": "markdown",
   "id": "corporate-organic",
   "metadata": {},
   "source": [
    "## Problem 24, Sum It All Up\n",
    "Difficulty: easy\n",
    "Write a function which returns the sum of a sequence of numbers."
   ]
  },
  {
   "cell_type": "code",
   "execution_count": 74,
   "id": "previous-musical",
   "metadata": {},
   "outputs": [
    {
     "data": {
      "text/plain": [
       "#'user/__"
      ]
     },
     "execution_count": 74,
     "metadata": {},
     "output_type": "execute_result"
    }
   ],
   "source": [
    "(defn __ [coll]\n",
    "    (reduce + coll))"
   ]
  },
  {
   "cell_type": "code",
   "execution_count": 75,
   "id": "clinical-librarian",
   "metadata": {},
   "outputs": [
    {
     "data": {
      "text/plain": [
       "true"
      ]
     },
     "execution_count": 75,
     "metadata": {},
     "output_type": "execute_result"
    }
   ],
   "source": [
    "(= (__ [1 2 3]) 6)"
   ]
  },
  {
   "cell_type": "code",
   "execution_count": 76,
   "id": "dominant-habitat",
   "metadata": {},
   "outputs": [
    {
     "data": {
      "text/plain": [
       "true"
      ]
     },
     "execution_count": 76,
     "metadata": {},
     "output_type": "execute_result"
    }
   ],
   "source": [
    "(= (__ (list 0 -2 5 5)) 8)"
   ]
  },
  {
   "cell_type": "code",
   "execution_count": 77,
   "id": "sticky-pledge",
   "metadata": {},
   "outputs": [
    {
     "data": {
      "text/plain": [
       "true"
      ]
     },
     "execution_count": 77,
     "metadata": {},
     "output_type": "execute_result"
    }
   ],
   "source": [
    "(= (__ #{4 2 1}) 7)"
   ]
  },
  {
   "cell_type": "code",
   "execution_count": 78,
   "id": "lucky-bulletin",
   "metadata": {},
   "outputs": [
    {
     "data": {
      "text/plain": [
       "true"
      ]
     },
     "execution_count": 78,
     "metadata": {},
     "output_type": "execute_result"
    }
   ],
   "source": [
    "(= (__ '(0 0 -1)) -1)"
   ]
  },
  {
   "cell_type": "code",
   "execution_count": 79,
   "id": "mental-satisfaction",
   "metadata": {},
   "outputs": [
    {
     "data": {
      "text/plain": [
       "true"
      ]
     },
     "execution_count": 79,
     "metadata": {},
     "output_type": "execute_result"
    }
   ],
   "source": [
    "(= (__ '(1 10 3)) 14)"
   ]
  },
  {
   "cell_type": "markdown",
   "id": "declared-manchester",
   "metadata": {},
   "source": [
    "## Problem 25, Find the odd numbers\n",
    "Difficulty: easy\n",
    "Write a function which returns only the odd numbers from a sequence."
   ]
  },
  {
   "cell_type": "code",
   "execution_count": 80,
   "id": "chubby-roads",
   "metadata": {},
   "outputs": [
    {
     "data": {
      "text/plain": [
       "#'user/__"
      ]
     },
     "execution_count": 80,
     "metadata": {},
     "output_type": "execute_result"
    }
   ],
   "source": [
    "(defn __ [coll]\n",
    "    (filter odd? coll))"
   ]
  },
  {
   "cell_type": "code",
   "execution_count": 81,
   "id": "surprised-devon",
   "metadata": {},
   "outputs": [
    {
     "data": {
      "text/plain": [
       "true"
      ]
     },
     "execution_count": 81,
     "metadata": {},
     "output_type": "execute_result"
    }
   ],
   "source": [
    "(= (__ #{1 2 3 4 5}) '(1 3 5))"
   ]
  },
  {
   "cell_type": "code",
   "execution_count": 82,
   "id": "approximate-month",
   "metadata": {},
   "outputs": [
    {
     "data": {
      "text/plain": [
       "true"
      ]
     },
     "execution_count": 82,
     "metadata": {},
     "output_type": "execute_result"
    }
   ],
   "source": [
    "(= (__ [4 2 1 6]) '(1))"
   ]
  },
  {
   "cell_type": "code",
   "execution_count": 83,
   "id": "governing-columbia",
   "metadata": {},
   "outputs": [
    {
     "data": {
      "text/plain": [
       "true"
      ]
     },
     "execution_count": 83,
     "metadata": {},
     "output_type": "execute_result"
    }
   ],
   "source": [
    "(= (__ [2 2 4 6]) '())"
   ]
  },
  {
   "cell_type": "code",
   "execution_count": 84,
   "id": "possible-waste",
   "metadata": {},
   "outputs": [
    {
     "data": {
      "text/plain": [
       "true"
      ]
     },
     "execution_count": 84,
     "metadata": {},
     "output_type": "execute_result"
    }
   ],
   "source": [
    "(= (__ [1 1 1 3]) '(1 1 1 3))"
   ]
  },
  {
   "cell_type": "markdown",
   "id": "overhead-detective",
   "metadata": {},
   "source": [
    "## Problem 26, Fibonacci Sequence\n",
    "Difficulty: easy\n",
    "Write a function which returns the first X fibonacci numbers."
   ]
  },
  {
   "cell_type": "code",
   "execution_count": 85,
   "id": "innocent-guyana",
   "metadata": {},
   "outputs": [
    {
     "data": {
      "text/plain": [
       "#'user/__"
      ]
     },
     "execution_count": 85,
     "metadata": {},
     "output_type": "execute_result"
    }
   ],
   "source": [
    "(defn __ [n]\n",
    "    (defn fibo [n]\n",
    "        (case n\n",
    "            0 1\n",
    "            1 1\n",
    "            (+ (fibo (- n 1)) (fibo (- n 2)))))\n",
    "    (map fibo (range n)))"
   ]
  },
  {
   "cell_type": "code",
   "execution_count": 86,
   "id": "yellow-biodiversity",
   "metadata": {},
   "outputs": [
    {
     "data": {
      "text/plain": [
       "#'user/__"
      ]
     },
     "execution_count": 86,
     "metadata": {},
     "output_type": "execute_result"
    }
   ],
   "source": [
    "(defn __ [n]\n",
    "    (loop [ x [0 1]] \n",
    "        (if (< (count x) n) \n",
    "            (recur \n",
    "             (conj x \n",
    "                   (+ (last x) (nth x (- (count x) 2)))))\n",
    "            x)))"
   ]
  },
  {
   "cell_type": "code",
   "execution_count": 87,
   "id": "crude-domain",
   "metadata": {},
   "outputs": [
    {
     "data": {
      "text/plain": [
       "#'user/__"
      ]
     },
     "execution_count": 87,
     "metadata": {},
     "output_type": "execute_result"
    }
   ],
   "source": [
    "(defn __ [n]\n",
    "    (def fib-seq (lazy-cat [0 1] (map + fib-seq (rest fib-seq))))\n",
    "    (next (vec (take (inc n) fib-seq))))"
   ]
  },
  {
   "cell_type": "code",
   "execution_count": 88,
   "id": "identified-strike",
   "metadata": {},
   "outputs": [
    {
     "data": {
      "text/plain": [
       "(1 1 2 3 5 8 13 21 34 55 89 144 233 377 610 987 1597 2584 4181 6765 10946 17711 28657 46368 75025 121393 196418 317811 514229 832040 1346269 2178309 3524578 5702887 9227465 14930352 24157817 39088169 63245986 102334155 165580141 267914296 433494437 701408733 1134903170 1836311903 2971215073 4807526976 7778742049 12586269025 20365011074 32951280099 53316291173 86267571272 139583862445 225851433717 365435296162 591286729879 956722026041 1548008755920 2504730781961 4052739537881 6557470319842 10610209857723 17167680177565 27777890035288 44945570212853 72723460248141 117669030460994 190392490709135 308061521170129 498454011879264 806515533049393 1304969544928657 2111485077978050 3416454622906707 5527939700884757 8944394323791464 14472334024676221 23416728348467685 37889062373143906 61305790721611591 99194853094755497 160500643816367088 259695496911122585 420196140727489673 679891637638612258 1100087778366101931 1779979416004714189 2880067194370816120 4660046610375530309 7540113804746346429)"
      ]
     },
     "execution_count": 88,
     "metadata": {},
     "output_type": "execute_result"
    }
   ],
   "source": [
    "(__ 92)"
   ]
  },
  {
   "cell_type": "code",
   "execution_count": 89,
   "id": "united-kelly",
   "metadata": {},
   "outputs": [
    {
     "data": {
      "text/plain": [
       "true"
      ]
     },
     "execution_count": 89,
     "metadata": {},
     "output_type": "execute_result"
    }
   ],
   "source": [
    "(= (__ 3) '(1 1 2))"
   ]
  },
  {
   "cell_type": "code",
   "execution_count": 90,
   "id": "satisfied-madagascar",
   "metadata": {},
   "outputs": [
    {
     "data": {
      "text/plain": [
       "true"
      ]
     },
     "execution_count": 90,
     "metadata": {},
     "output_type": "execute_result"
    }
   ],
   "source": [
    "(= (__ 6) '(1 1 2 3 5 8))"
   ]
  },
  {
   "cell_type": "code",
   "execution_count": 91,
   "id": "scientific-ocean",
   "metadata": {},
   "outputs": [
    {
     "data": {
      "text/plain": [
       "true"
      ]
     },
     "execution_count": 91,
     "metadata": {},
     "output_type": "execute_result"
    }
   ],
   "source": [
    "(= (__ 8) '(1 1 2 3 5 8 13 21))"
   ]
  },
  {
   "cell_type": "markdown",
   "id": "ordinary-capture",
   "metadata": {},
   "source": [
    "## Problem 27, Palindrome Detector\n",
    "Difficulty: easy\n",
    "Write a function which returns true if the given sequence is a palindrome. Hint: \"racecar\" does not equal '(\\r \\a \\c \\e \\c \\a \\r)"
   ]
  },
  {
   "cell_type": "code",
   "execution_count": 92,
   "id": "economic-consensus",
   "metadata": {},
   "outputs": [
    {
     "data": {
      "text/plain": [
       "#'user/__"
      ]
     },
     "execution_count": 92,
     "metadata": {},
     "output_type": "execute_result"
    }
   ],
   "source": [
    "(defn __ [s]\n",
    "    (= (seq s) (reverse s)))"
   ]
  },
  {
   "cell_type": "code",
   "execution_count": 93,
   "id": "whole-poverty",
   "metadata": {},
   "outputs": [
    {
     "data": {
      "text/plain": [
       "true"
      ]
     },
     "execution_count": 93,
     "metadata": {},
     "output_type": "execute_result"
    }
   ],
   "source": [
    "(false? (__ '(1 2 3 4 5)))"
   ]
  },
  {
   "cell_type": "code",
   "execution_count": 94,
   "id": "living-cabin",
   "metadata": {},
   "outputs": [
    {
     "data": {
      "text/plain": [
       "true"
      ]
     },
     "execution_count": 94,
     "metadata": {},
     "output_type": "execute_result"
    }
   ],
   "source": [
    "(true? (__ \"racecar\"))"
   ]
  },
  {
   "cell_type": "code",
   "execution_count": 95,
   "id": "divine-moisture",
   "metadata": {},
   "outputs": [
    {
     "data": {
      "text/plain": [
       "true"
      ]
     },
     "execution_count": 95,
     "metadata": {},
     "output_type": "execute_result"
    }
   ],
   "source": [
    "(true? (__ [:foo :bar :foo]))"
   ]
  },
  {
   "cell_type": "code",
   "execution_count": 96,
   "id": "joint-findings",
   "metadata": {},
   "outputs": [
    {
     "data": {
      "text/plain": [
       "true"
      ]
     },
     "execution_count": 96,
     "metadata": {},
     "output_type": "execute_result"
    }
   ],
   "source": [
    "(true? (__ '(1 1 3 3 1 1)))"
   ]
  },
  {
   "cell_type": "code",
   "execution_count": 97,
   "id": "moderate-laptop",
   "metadata": {},
   "outputs": [
    {
     "data": {
      "text/plain": [
       "true"
      ]
     },
     "execution_count": 97,
     "metadata": {},
     "output_type": "execute_result"
    }
   ],
   "source": [
    "(false? (__ '(:a :b :c)))"
   ]
  },
  {
   "cell_type": "markdown",
   "id": "indirect-claim",
   "metadata": {},
   "source": [
    "## Problem 28, Flatten a Sequence\n",
    "Difficulty: easy\n",
    "Write a function which flattens a sequence."
   ]
  },
  {
   "cell_type": "code",
   "execution_count": 98,
   "id": "handed-country",
   "metadata": {},
   "outputs": [
    {
     "data": {
      "text/plain": [
       "#'user/__"
      ]
     },
     "execution_count": 98,
     "metadata": {},
     "output_type": "execute_result"
    }
   ],
   "source": [
    ";; version 1\n",
    "\n",
    "(defn __ [coll]\n",
    "    (lazy-seq\n",
    "     (when-let [s (seq coll)]\n",
    "         (if (sequential? (first s))\n",
    "             (concat (__ (first s)) (__ (rest s)))\n",
    "             (cons (first s) (__ (rest s)))))))"
   ]
  },
  {
   "cell_type": "code",
   "execution_count": 99,
   "id": "intellectual-fancy",
   "metadata": {},
   "outputs": [
    {
     "data": {
      "text/plain": [
       "#'user/__"
      ]
     },
     "execution_count": 99,
     "metadata": {},
     "output_type": "execute_result"
    }
   ],
   "source": [
    ";; version 2\n",
    "\n",
    "(defn __ [coll]\n",
    "    (loop [x coll]\n",
    "        (if (some sequential? x)\n",
    "            (recur (reduce (fn [acc v]\n",
    "                              (if (sequential? v)\n",
    "                                  (concat acc v)\n",
    "                                  (concat acc [v]))) [] x))\n",
    "            x)))"
   ]
  },
  {
   "cell_type": "code",
   "execution_count": 100,
   "id": "angry-reset",
   "metadata": {},
   "outputs": [
    {
     "data": {
      "text/plain": [
       "true"
      ]
     },
     "execution_count": 100,
     "metadata": {},
     "output_type": "execute_result"
    }
   ],
   "source": [
    "(= (__ '((1 2) 3 [4 [5 6]])) '(1 2 3 4 5 6))"
   ]
  },
  {
   "cell_type": "code",
   "execution_count": 101,
   "id": "japanese-module",
   "metadata": {},
   "outputs": [
    {
     "data": {
      "text/plain": [
       "true"
      ]
     },
     "execution_count": 101,
     "metadata": {},
     "output_type": "execute_result"
    }
   ],
   "source": [
    "(= (__ [\"a\" [\"b\"] \"c\"]) '(\"a\" \"b\" \"c\"))"
   ]
  },
  {
   "cell_type": "code",
   "execution_count": 102,
   "id": "soviet-fifteen",
   "metadata": {},
   "outputs": [
    {
     "data": {
      "text/plain": [
       "true"
      ]
     },
     "execution_count": 102,
     "metadata": {},
     "output_type": "execute_result"
    }
   ],
   "source": [
    "(= (__ '((((:a))))) '(:a))"
   ]
  },
  {
   "cell_type": "markdown",
   "id": "clean-penguin",
   "metadata": {},
   "source": [
    "## Problem 29, Get the Caps\n",
    "Difficulty: easy\n",
    "Write a function which takes a string and returns a new string containing only the capital letters."
   ]
  },
  {
   "cell_type": "code",
   "execution_count": 103,
   "id": "ordinary-cooling",
   "metadata": {},
   "outputs": [
    {
     "data": {
      "text/plain": [
       "#'user/__"
      ]
     },
     "execution_count": 103,
     "metadata": {},
     "output_type": "execute_result"
    }
   ],
   "source": [
    "(defn __ [str]\n",
    "    (defn in? [coll elm]\n",
    "        (some #(= elm %) coll))\n",
    "    (let [l-str-seq (seq (clojure.string/lower-case str))\n",
    "          str-seq (seq str)]\n",
    "        (clojure.string/join (filter #((complement in?) l-str-seq %) str-seq))))"
   ]
  },
  {
   "cell_type": "code",
   "execution_count": 104,
   "id": "annual-balloon",
   "metadata": {},
   "outputs": [
    {
     "data": {
      "text/plain": [
       "\"HLOWRD\""
      ]
     },
     "execution_count": 104,
     "metadata": {},
     "output_type": "execute_result"
    }
   ],
   "source": [
    "(__ \"HeLlO, WoRlD!\")"
   ]
  },
  {
   "cell_type": "code",
   "execution_count": 105,
   "id": "stupid-execution",
   "metadata": {},
   "outputs": [
    {
     "data": {
      "text/plain": [
       "true"
      ]
     },
     "execution_count": 105,
     "metadata": {},
     "output_type": "execute_result"
    }
   ],
   "source": [
    "(= (__ \"HeLlO, WoRlD!\") \"HLOWRD\")"
   ]
  },
  {
   "cell_type": "code",
   "execution_count": 106,
   "id": "resident-blocking",
   "metadata": {},
   "outputs": [
    {
     "data": {
      "text/plain": [
       "true"
      ]
     },
     "execution_count": 106,
     "metadata": {},
     "output_type": "execute_result"
    }
   ],
   "source": [
    "(empty? (__ \"nothing\"))"
   ]
  },
  {
   "cell_type": "code",
   "execution_count": 107,
   "id": "copyrighted-dominant",
   "metadata": {
    "scrolled": true
   },
   "outputs": [
    {
     "data": {
      "text/plain": [
       "true"
      ]
     },
     "execution_count": 107,
     "metadata": {},
     "output_type": "execute_result"
    }
   ],
   "source": [
    "(= (__ \"$#A(*&987Zf\") \"AZ\")"
   ]
  },
  {
   "cell_type": "code",
   "execution_count": 108,
   "id": "departmental-nicaragua",
   "metadata": {},
   "outputs": [
    {
     "data": {
      "text/plain": [
       "(\\H \\e \\L \\l \\O \\, \\space \\W \\o \\R \\l \\D \\!)"
      ]
     },
     "execution_count": 108,
     "metadata": {},
     "output_type": "execute_result"
    }
   ],
   "source": [
    "(seq \"HeLlO, WoRlD!\")"
   ]
  },
  {
   "cell_type": "code",
   "execution_count": 109,
   "id": "second-jaguar",
   "metadata": {},
   "outputs": [
    {
     "data": {
      "text/plain": [
       "true"
      ]
     },
     "execution_count": 109,
     "metadata": {},
     "output_type": "execute_result"
    }
   ],
   "source": [
    "(in? (seq \"HeLlO, WoRlD!\") \\H)"
   ]
  },
  {
   "cell_type": "code",
   "execution_count": 110,
   "id": "clinical-october",
   "metadata": {},
   "outputs": [
    {
     "data": {
      "text/plain": [
       "#function[user/--/in?--4290]"
      ]
     },
     "execution_count": 110,
     "metadata": {},
     "output_type": "execute_result"
    }
   ],
   "source": [
    "in?"
   ]
  },
  {
   "cell_type": "markdown",
   "id": "lasting-component",
   "metadata": {},
   "source": [
    "## Problem 30, Compress a Sequence\n",
    "Difficulty: easy\n",
    "Write a function which removes consecutive duplicates from a sequence."
   ]
  },
  {
   "cell_type": "code",
   "execution_count": 111,
   "id": "multiple-pharmacology",
   "metadata": {},
   "outputs": [
    {
     "data": {
      "text/plain": [
       "#'user/indexes-of"
      ]
     },
     "execution_count": 111,
     "metadata": {},
     "output_type": "execute_result"
    }
   ],
   "source": [
    "(defn indexes-of [e coll]\n",
    "    (keep-indexed #(if (= e %2) %1) coll))"
   ]
  },
  {
   "cell_type": "code",
   "execution_count": 112,
   "id": "driving-corpus",
   "metadata": {
    "scrolled": true
   },
   "outputs": [
    {
     "data": {
      "text/plain": [
       "#'user/__"
      ]
     },
     "execution_count": 112,
     "metadata": {},
     "output_type": "execute_result"
    }
   ],
   "source": [
    ";; rev1\n",
    "(defn __ [coll]\n",
    "    (defn enumerate [coll]      ; rev2의 (map-indexed vector coll) 구문으로 대체 가능\n",
    "        (let [v (vec coll)]\n",
    "            (map #(find v %) (range (count v)))))\n",
    "    (filter (complement nil?)\n",
    "            (for [[i v] (enumerate coll)]\n",
    "                (cond\n",
    "                    (= i 0) v\n",
    "                    (not= v (nth coll (dec i))) v))))"
   ]
  },
  {
   "cell_type": "code",
   "execution_count": 113,
   "id": "eligible-miller",
   "metadata": {},
   "outputs": [
    {
     "data": {
      "text/plain": [
       "#'user/__"
      ]
     },
     "execution_count": 113,
     "metadata": {},
     "output_type": "execute_result"
    }
   ],
   "source": [
    ";; rev2\n",
    "(defn __ [coll]\n",
    "    (filter (complement nil?)\n",
    "            (for [[i v] (map-indexed vector coll)]\n",
    "                (cond\n",
    "                    (= i 0) v\n",
    "                    (not= v (nth coll (dec i))) v))))"
   ]
  },
  {
   "cell_type": "code",
   "execution_count": 114,
   "id": "established-sampling",
   "metadata": {},
   "outputs": [
    {
     "data": {
      "text/plain": [
       "#'user/__"
      ]
     },
     "execution_count": 114,
     "metadata": {},
     "output_type": "execute_result"
    }
   ],
   "source": [
    ";; rev3\n",
    "(defn __ [coll]\n",
    "    (let [grouped-coll (partition-by identity coll)]\n",
    "        (map (comp first fnext) (map-indexed vector grouped-coll))))"
   ]
  },
  {
   "cell_type": "code",
   "execution_count": 115,
   "id": "therapeutic-diana",
   "metadata": {},
   "outputs": [
    {
     "data": {
      "text/plain": [
       "(1 2 3 2 3)"
      ]
     },
     "execution_count": 115,
     "metadata": {},
     "output_type": "execute_result"
    }
   ],
   "source": [
    "(__ [1 1 2 3 3 2 2 3])"
   ]
  },
  {
   "cell_type": "code",
   "execution_count": 116,
   "id": "activated-brown",
   "metadata": {},
   "outputs": [
    {
     "data": {
      "text/plain": [
       "true"
      ]
     },
     "execution_count": 116,
     "metadata": {},
     "output_type": "execute_result"
    }
   ],
   "source": [
    "(= (apply str (__ \"Leeeeeerrroyyy\")) \"Leroy\")"
   ]
  },
  {
   "cell_type": "code",
   "execution_count": 117,
   "id": "usual-practice",
   "metadata": {},
   "outputs": [
    {
     "data": {
      "text/plain": [
       "true"
      ]
     },
     "execution_count": 117,
     "metadata": {},
     "output_type": "execute_result"
    }
   ],
   "source": [
    "(= (__ [1 1 2 3 3 2 2 3]) '(1 2 3 2 3))"
   ]
  },
  {
   "cell_type": "code",
   "execution_count": 118,
   "id": "respected-profession",
   "metadata": {},
   "outputs": [
    {
     "data": {
      "text/plain": [
       "true"
      ]
     },
     "execution_count": 118,
     "metadata": {},
     "output_type": "execute_result"
    }
   ],
   "source": [
    "(= (__ [[1 2] [1 2] [3 4] [1 2]]) '([1 2] [3 4] [1 2]))"
   ]
  },
  {
   "cell_type": "markdown",
   "id": "alleged-genome",
   "metadata": {},
   "source": [
    "## Problem 31, Pack a Sequence\n",
    "Difficulty: easy\n",
    "Write a function which packs consecutive duplicates into sub-lists."
   ]
  },
  {
   "cell_type": "code",
   "execution_count": 119,
   "id": "royal-luxembourg",
   "metadata": {},
   "outputs": [
    {
     "data": {
      "text/plain": [
       "#'user/__"
      ]
     },
     "execution_count": 119,
     "metadata": {},
     "output_type": "execute_result"
    }
   ],
   "source": [
    "(defn __ [coll]\n",
    "    (partition-by identity coll))"
   ]
  },
  {
   "cell_type": "code",
   "execution_count": 120,
   "id": "governmental-speaker",
   "metadata": {},
   "outputs": [
    {
     "data": {
      "text/plain": [
       "true"
      ]
     },
     "execution_count": 120,
     "metadata": {},
     "output_type": "execute_result"
    }
   ],
   "source": [
    "(= (__ [1 1 2 1 1 1 3 3]) '((1 1) (2) (1 1 1) (3 3)))"
   ]
  },
  {
   "cell_type": "code",
   "execution_count": 121,
   "id": "entitled-tactics",
   "metadata": {},
   "outputs": [
    {
     "data": {
      "text/plain": [
       "true"
      ]
     },
     "execution_count": 121,
     "metadata": {},
     "output_type": "execute_result"
    }
   ],
   "source": [
    "(= (__ [:a :a :b :b :c]) '((:a :a) (:b :b) (:c)))"
   ]
  },
  {
   "cell_type": "code",
   "execution_count": 122,
   "id": "polyphonic-folder",
   "metadata": {},
   "outputs": [
    {
     "data": {
      "text/plain": [
       "true"
      ]
     },
     "execution_count": 122,
     "metadata": {},
     "output_type": "execute_result"
    }
   ],
   "source": [
    "(= (__ [[1 2] [1 2] [3 4]]) '(([1 2] [1 2]) ([3 4])))"
   ]
  },
  {
   "cell_type": "code",
   "execution_count": 123,
   "id": "delayed-management",
   "metadata": {},
   "outputs": [
    {
     "data": {
      "text/plain": [
       "(true false true false true false true false)"
      ]
     },
     "execution_count": 123,
     "metadata": {},
     "output_type": "execute_result"
    }
   ],
   "source": [
    "(take (count [1 1 2 1 1 1 3 3]) (cycle [true false]))"
   ]
  },
  {
   "cell_type": "markdown",
   "id": "lesser-mainstream",
   "metadata": {},
   "source": [
    "## Problem 32, Duplicate a Sequence\n",
    "Difficulty: easy\n",
    "Write a function which duplicates each element of a sequence."
   ]
  },
  {
   "cell_type": "code",
   "execution_count": 124,
   "id": "robust-helena",
   "metadata": {},
   "outputs": [
    {
     "data": {
      "text/plain": [
       "#'user/__"
      ]
     },
     "execution_count": 124,
     "metadata": {},
     "output_type": "execute_result"
    }
   ],
   "source": [
    "(defn __ [coll]\n",
    "    (seq (reduce into \n",
    "                 (map #(conj [] % %) coll))))"
   ]
  },
  {
   "cell_type": "code",
   "execution_count": 125,
   "id": "micro-leonard",
   "metadata": {},
   "outputs": [
    {
     "data": {
      "text/plain": [
       "true"
      ]
     },
     "execution_count": 125,
     "metadata": {},
     "output_type": "execute_result"
    }
   ],
   "source": [
    "(= (__ [1 2 3]) '(1 1 2 2 3 3))"
   ]
  },
  {
   "cell_type": "code",
   "execution_count": 126,
   "id": "typical-edgar",
   "metadata": {},
   "outputs": [
    {
     "data": {
      "text/plain": [
       "true"
      ]
     },
     "execution_count": 126,
     "metadata": {},
     "output_type": "execute_result"
    }
   ],
   "source": [
    "(= (__ [:a :a :b :b]) '(:a :a :a :a :b :b :b :b))"
   ]
  },
  {
   "cell_type": "code",
   "execution_count": 127,
   "id": "celtic-paragraph",
   "metadata": {},
   "outputs": [
    {
     "data": {
      "text/plain": [
       "true"
      ]
     },
     "execution_count": 127,
     "metadata": {},
     "output_type": "execute_result"
    }
   ],
   "source": [
    "(= (__ [[1 2] [3 4]]) '([1 2] [1 2] [3 4] [3 4]))"
   ]
  },
  {
   "cell_type": "code",
   "execution_count": 128,
   "id": "boolean-lending",
   "metadata": {},
   "outputs": [
    {
     "data": {
      "text/plain": [
       "true"
      ]
     },
     "execution_count": 128,
     "metadata": {},
     "output_type": "execute_result"
    }
   ],
   "source": [
    "(= (__ [44 33]) [44 44 33 33])"
   ]
  },
  {
   "cell_type": "markdown",
   "id": "royal-citation",
   "metadata": {},
   "source": [
    "## Problem 33, Replicate a Sequence\n",
    "Difficulty: easy\n",
    "Write a function which replicates each element of a sequence a variable number of times."
   ]
  },
  {
   "cell_type": "code",
   "execution_count": 129,
   "id": "integrated-pound",
   "metadata": {},
   "outputs": [
    {
     "data": {
      "text/plain": [
       "#'user/__"
      ]
     },
     "execution_count": 129,
     "metadata": {},
     "output_type": "execute_result"
    }
   ],
   "source": [
    "(defn __ [coll times]\n",
    "    (mapcat #(repeat times %) coll))"
   ]
  },
  {
   "cell_type": "code",
   "execution_count": 130,
   "id": "perfect-china",
   "metadata": {},
   "outputs": [
    {
     "data": {
      "text/plain": [
       "true"
      ]
     },
     "execution_count": 130,
     "metadata": {},
     "output_type": "execute_result"
    }
   ],
   "source": [
    "(= (__ [1 2 3] 2) '(1 1 2 2 3 3))"
   ]
  },
  {
   "cell_type": "code",
   "execution_count": 131,
   "id": "cleared-refrigerator",
   "metadata": {},
   "outputs": [
    {
     "data": {
      "text/plain": [
       "true"
      ]
     },
     "execution_count": 131,
     "metadata": {},
     "output_type": "execute_result"
    }
   ],
   "source": [
    "(= (__ [:a :b] 4) '(:a :a :a :a :b :b :b :b))"
   ]
  },
  {
   "cell_type": "code",
   "execution_count": 132,
   "id": "handy-mystery",
   "metadata": {},
   "outputs": [
    {
     "data": {
      "text/plain": [
       "true"
      ]
     },
     "execution_count": 132,
     "metadata": {},
     "output_type": "execute_result"
    }
   ],
   "source": [
    "(= (__ [4 5 6] 1) '(4 5 6))"
   ]
  },
  {
   "cell_type": "code",
   "execution_count": 133,
   "id": "danish-wisdom",
   "metadata": {},
   "outputs": [
    {
     "data": {
      "text/plain": [
       "true"
      ]
     },
     "execution_count": 133,
     "metadata": {},
     "output_type": "execute_result"
    }
   ],
   "source": [
    "(= (__ [[1 2] [3 4]] 2) '([1 2] [1 2] [3 4] [3 4]))"
   ]
  },
  {
   "cell_type": "code",
   "execution_count": 134,
   "id": "large-blank",
   "metadata": {},
   "outputs": [
    {
     "data": {
      "text/plain": [
       "true"
      ]
     },
     "execution_count": 134,
     "metadata": {},
     "output_type": "execute_result"
    }
   ],
   "source": [
    "(= (__ [44 33] 2) [44 44 33 33])"
   ]
  },
  {
   "cell_type": "markdown",
   "id": "seasonal-terrace",
   "metadata": {},
   "source": [
    "## Problem 34, Implement range\n",
    "Difficulty: easy\n",
    "Write a function which creates a list of all integers in a given range."
   ]
  },
  {
   "cell_type": "code",
   "execution_count": 135,
   "id": "imposed-stick",
   "metadata": {},
   "outputs": [
    {
     "data": {
      "text/plain": [
       "#'user/__"
      ]
     },
     "execution_count": 135,
     "metadata": {},
     "output_type": "execute_result"
    }
   ],
   "source": [
    "(defn __ [stt end]\n",
    "    (loop [i stt acc []]\n",
    "        (if (= i end)\n",
    "            (seq acc)\n",
    "            (recur (inc i) (conj acc i)))))"
   ]
  },
  {
   "cell_type": "code",
   "execution_count": 136,
   "id": "included-belly",
   "metadata": {},
   "outputs": [
    {
     "data": {
      "text/plain": [
       "(1 2 3)"
      ]
     },
     "execution_count": 136,
     "metadata": {},
     "output_type": "execute_result"
    }
   ],
   "source": [
    "(__ 1 4)"
   ]
  },
  {
   "cell_type": "code",
   "execution_count": 137,
   "id": "contrary-questionnaire",
   "metadata": {},
   "outputs": [
    {
     "data": {
      "text/plain": [
       "true"
      ]
     },
     "execution_count": 137,
     "metadata": {},
     "output_type": "execute_result"
    }
   ],
   "source": [
    "(= (__ 1 4) '(1 2 3))"
   ]
  },
  {
   "cell_type": "code",
   "execution_count": 138,
   "id": "marine-quebec",
   "metadata": {},
   "outputs": [
    {
     "data": {
      "text/plain": [
       "true"
      ]
     },
     "execution_count": 138,
     "metadata": {},
     "output_type": "execute_result"
    }
   ],
   "source": [
    "(= (__ -2 2) '(-2 -1 0 1))"
   ]
  },
  {
   "cell_type": "code",
   "execution_count": 139,
   "id": "informative-basket",
   "metadata": {},
   "outputs": [
    {
     "data": {
      "text/plain": [
       "true"
      ]
     },
     "execution_count": 139,
     "metadata": {},
     "output_type": "execute_result"
    }
   ],
   "source": [
    "(= (__ 5 8) '(5 6 7))"
   ]
  },
  {
   "cell_type": "markdown",
   "id": "native-interpretation",
   "metadata": {},
   "source": [
    "## Problem 35, Local bindings\n",
    "Difficulty: elementary\n",
    "Clojure lets you give local names to values using the special let-form."
   ]
  },
  {
   "cell_type": "code",
   "execution_count": 140,
   "id": "biblical-subcommittee",
   "metadata": {},
   "outputs": [
    {
     "data": {
      "text/plain": [
       "#'user/__"
      ]
     },
     "execution_count": 140,
     "metadata": {},
     "output_type": "execute_result"
    }
   ],
   "source": [
    "(def __ 7)"
   ]
  },
  {
   "cell_type": "code",
   "execution_count": 141,
   "id": "broke-basement",
   "metadata": {},
   "outputs": [
    {
     "data": {
      "text/plain": [
       "true"
      ]
     },
     "execution_count": 141,
     "metadata": {},
     "output_type": "execute_result"
    }
   ],
   "source": [
    "(= __ (let [x 5] (+ 2 x)))"
   ]
  },
  {
   "cell_type": "code",
   "execution_count": 142,
   "id": "biological-casino",
   "metadata": {},
   "outputs": [
    {
     "data": {
      "text/plain": [
       "true"
      ]
     },
     "execution_count": 142,
     "metadata": {},
     "output_type": "execute_result"
    }
   ],
   "source": [
    "(= __ (let [x 3, y 10] (- y x)))"
   ]
  },
  {
   "cell_type": "code",
   "execution_count": 143,
   "id": "fewer-allah",
   "metadata": {},
   "outputs": [
    {
     "data": {
      "text/plain": [
       "true"
      ]
     },
     "execution_count": 143,
     "metadata": {},
     "output_type": "execute_result"
    }
   ],
   "source": [
    "(= __ (let [x 21] (let [y 3] (/ x y))))"
   ]
  },
  {
   "cell_type": "markdown",
   "id": "naval-graphics",
   "metadata": {},
   "source": [
    "## Problem 36, Let it Be\n",
    "Difficulty: elementary\n",
    "Can you bind x, y, and z so that these are all true?"
   ]
  },
  {
   "cell_type": "code",
   "execution_count": 144,
   "id": "oriental-elder",
   "metadata": {},
   "outputs": [
    {
     "data": {
      "text/plain": [
       "#'user/__"
      ]
     },
     "execution_count": 144,
     "metadata": {},
     "output_type": "execute_result"
    }
   ],
   "source": [
    "(def __ [`x 7 `y 3 `z 1])"
   ]
  },
  {
   "cell_type": "code",
   "execution_count": 145,
   "id": "major-south",
   "metadata": {
    "scrolled": true
   },
   "outputs": [],
   "source": [
    ";; (= 10 (let (eval __) (+ x y)))"
   ]
  },
  {
   "cell_type": "code",
   "execution_count": 146,
   "id": "graduate-kennedy",
   "metadata": {},
   "outputs": [],
   "source": [
    ";; (= 4 (let __ (+ y z)))"
   ]
  },
  {
   "cell_type": "code",
   "execution_count": 147,
   "id": "worthy-academy",
   "metadata": {},
   "outputs": [],
   "source": [
    ";; (= 1 (let __ z))"
   ]
  },
  {
   "cell_type": "markdown",
   "id": "incorporate-neutral",
   "metadata": {},
   "source": [
    "## Problem 37, Regular Expressions\n",
    "Difficulty: elementary\n",
    "Regex patterns are supported with a special reader macro."
   ]
  },
  {
   "cell_type": "code",
   "execution_count": 148,
   "id": "offensive-thread",
   "metadata": {},
   "outputs": [
    {
     "data": {
      "text/plain": [
       "#'user/__"
      ]
     },
     "execution_count": 148,
     "metadata": {},
     "output_type": "execute_result"
    }
   ],
   "source": [
    "(def __ \"ABC\")"
   ]
  },
  {
   "cell_type": "code",
   "execution_count": 149,
   "id": "addressed-pavilion",
   "metadata": {},
   "outputs": [
    {
     "data": {
      "text/plain": [
       "true"
      ]
     },
     "execution_count": 149,
     "metadata": {},
     "output_type": "execute_result"
    }
   ],
   "source": [
    "(= __ (apply str (re-seq #\"[A-Z]+\" \"bA1B3Ce \")))"
   ]
  },
  {
   "cell_type": "markdown",
   "id": "measured-empire",
   "metadata": {},
   "source": [
    "## Problem 38, Maximum value\n",
    "Difficulty: easy\n",
    "Write a function which takes a variable number of parameters and returns the maximum value."
   ]
  },
  {
   "cell_type": "code",
   "execution_count": 150,
   "id": "basic-battle",
   "metadata": {},
   "outputs": [
    {
     "data": {
      "text/plain": [
       "#'user/aa"
      ]
     },
     "execution_count": 150,
     "metadata": {},
     "output_type": "execute_result"
    }
   ],
   "source": [
    "(defn aa [& args]\n",
    "    (seq args))"
   ]
  },
  {
   "cell_type": "code",
   "execution_count": 151,
   "id": "incorporate-madagascar",
   "metadata": {},
   "outputs": [
    {
     "data": {
      "text/plain": [
       "#'user/__"
      ]
     },
     "execution_count": 151,
     "metadata": {},
     "output_type": "execute_result"
    }
   ],
   "source": [
    "(defn __ [& args]\n",
    "    (defn size [a b]\n",
    "        (if (> a b) a b))\n",
    "    (reduce size (seq args)))"
   ]
  },
  {
   "cell_type": "code",
   "execution_count": 152,
   "id": "based-workshop",
   "metadata": {},
   "outputs": [
    {
     "data": {
      "text/plain": [
       "#'user/__"
      ]
     },
     "execution_count": 152,
     "metadata": {},
     "output_type": "execute_result"
    }
   ],
   "source": [
    "(defn __ [& args]\n",
    "    (letfn [(size [a b]\n",
    "                  (if (> a b) a b))]\n",
    "        (reduce size (seq args))))"
   ]
  },
  {
   "cell_type": "code",
   "execution_count": 153,
   "id": "thick-flexibility",
   "metadata": {},
   "outputs": [
    {
     "data": {
      "text/plain": [
       "true"
      ]
     },
     "execution_count": 153,
     "metadata": {},
     "output_type": "execute_result"
    }
   ],
   "source": [
    "(= (__ 1 8 3 4) 8)"
   ]
  },
  {
   "cell_type": "code",
   "execution_count": 154,
   "id": "accessory-translator",
   "metadata": {},
   "outputs": [
    {
     "data": {
      "text/plain": [
       "true"
      ]
     },
     "execution_count": 154,
     "metadata": {},
     "output_type": "execute_result"
    }
   ],
   "source": [
    "(= (__ 30 20) 30)"
   ]
  },
  {
   "cell_type": "code",
   "execution_count": 155,
   "id": "mediterranean-fence",
   "metadata": {},
   "outputs": [
    {
     "data": {
      "text/plain": [
       "true"
      ]
     },
     "execution_count": 155,
     "metadata": {},
     "output_type": "execute_result"
    }
   ],
   "source": [
    "(= (__ 45 67 11) 67)"
   ]
  },
  {
   "cell_type": "markdown",
   "id": "novel-timothy",
   "metadata": {},
   "source": [
    "## Problem 39, Interleave Two Seqs\n",
    "Difficulty: easy\n",
    "Write a function which takes two sequences and returns the first item from each, then the second item from each, then the third, etc."
   ]
  },
  {
   "cell_type": "code",
   "execution_count": 156,
   "id": "technical-venice",
   "metadata": {},
   "outputs": [
    {
     "data": {
      "text/plain": [
       "#'user/__"
      ]
     },
     "execution_count": 156,
     "metadata": {},
     "output_type": "execute_result"
    }
   ],
   "source": [
    "(defn __ [vec-1 vec-2]\n",
    "    (mapcat seq (zipmap vec-1 vec-2)))"
   ]
  },
  {
   "cell_type": "code",
   "execution_count": 157,
   "id": "renewable-negotiation",
   "metadata": {},
   "outputs": [
    {
     "data": {
      "text/plain": [
       "true"
      ]
     },
     "execution_count": 157,
     "metadata": {},
     "output_type": "execute_result"
    }
   ],
   "source": [
    "(= (__ [1 2 3] [:a :b :c]) '(1 :a 2 :b 3 :c))"
   ]
  },
  {
   "cell_type": "code",
   "execution_count": 158,
   "id": "arabic-reverse",
   "metadata": {},
   "outputs": [
    {
     "data": {
      "text/plain": [
       "true"
      ]
     },
     "execution_count": 158,
     "metadata": {},
     "output_type": "execute_result"
    }
   ],
   "source": [
    "(= (__ [1 2] [3 4 5 6]) '(1 3 2 4))"
   ]
  },
  {
   "cell_type": "code",
   "execution_count": 159,
   "id": "emerging-gibson",
   "metadata": {},
   "outputs": [
    {
     "data": {
      "text/plain": [
       "true"
      ]
     },
     "execution_count": 159,
     "metadata": {},
     "output_type": "execute_result"
    }
   ],
   "source": [
    "(= (__ [1 2 3 4] [5]) [1 5])"
   ]
  },
  {
   "cell_type": "code",
   "execution_count": 160,
   "id": "frequent-apparel",
   "metadata": {},
   "outputs": [
    {
     "data": {
      "text/plain": [
       "true"
      ]
     },
     "execution_count": 160,
     "metadata": {},
     "output_type": "execute_result"
    }
   ],
   "source": [
    "(= (__ [30 20] [25 15]) [30 25 20 15])"
   ]
  },
  {
   "cell_type": "markdown",
   "id": "excellent-leisure",
   "metadata": {},
   "source": [
    "## Problem 40, Interpose a Seq\n",
    "Difficulty: easy\n",
    "Write a function which separates the items of a sequence by an arbitrary value."
   ]
  },
  {
   "cell_type": "code",
   "execution_count": 161,
   "id": "interpreted-textbook",
   "metadata": {},
   "outputs": [
    {
     "data": {
      "text/plain": [
       "#'user/__"
      ]
     },
     "execution_count": 161,
     "metadata": {},
     "output_type": "execute_result"
    }
   ],
   "source": [
    "(defn __ [sep coll]\n",
    "    (->> coll\n",
    "        (mapcat #(conj [] % sep))\n",
    "        vec pop))"
   ]
  },
  {
   "cell_type": "code",
   "execution_count": 162,
   "id": "dominant-christopher",
   "metadata": {},
   "outputs": [
    {
     "data": {
      "text/plain": [
       "[1 0 2 0 3]"
      ]
     },
     "execution_count": 162,
     "metadata": {},
     "output_type": "execute_result"
    }
   ],
   "source": [
    "(__ 0 [1 2 3])"
   ]
  },
  {
   "cell_type": "code",
   "execution_count": 163,
   "id": "measured-smoke",
   "metadata": {
    "scrolled": true
   },
   "outputs": [
    {
     "data": {
      "text/plain": [
       "true"
      ]
     },
     "execution_count": 163,
     "metadata": {},
     "output_type": "execute_result"
    }
   ],
   "source": [
    "(= (__ 0 [1 2 3]) [1 0 2 0 3])"
   ]
  },
  {
   "cell_type": "code",
   "execution_count": 164,
   "id": "indirect-sussex",
   "metadata": {},
   "outputs": [
    {
     "data": {
      "text/plain": [
       "true"
      ]
     },
     "execution_count": 164,
     "metadata": {},
     "output_type": "execute_result"
    }
   ],
   "source": [
    "(= (apply str (__ \", \" [\"one\" \"two\" \"three\"])) \"one, two, three\")"
   ]
  },
  {
   "cell_type": "code",
   "execution_count": 165,
   "id": "revised-anime",
   "metadata": {},
   "outputs": [
    {
     "data": {
      "text/plain": [
       "true"
      ]
     },
     "execution_count": 165,
     "metadata": {},
     "output_type": "execute_result"
    }
   ],
   "source": [
    "(= (__ :z [:a :b :c :d]) [:a :z :b :z :c :z :d])"
   ]
  },
  {
   "cell_type": "code",
   "execution_count": 166,
   "id": "sacred-cincinnati",
   "metadata": {},
   "outputs": [
    {
     "data": {
      "text/plain": [
       "(1 0 2 0 3)"
      ]
     },
     "execution_count": 166,
     "metadata": {},
     "output_type": "execute_result"
    }
   ],
   "source": [
    "(interpose 0 [1 2 3])"
   ]
  },
  {
   "cell_type": "markdown",
   "id": "floral-gates",
   "metadata": {},
   "source": [
    "## Problem 41, Drop Every Nth Item\n",
    "Difficulty: easy\n",
    "Write a function which drops every Nth item from a sequence."
   ]
  },
  {
   "cell_type": "code",
   "execution_count": 167,
   "id": "capable-cabinet",
   "metadata": {},
   "outputs": [
    {
     "data": {
      "text/plain": [
       "#'user/__"
      ]
     },
     "execution_count": 167,
     "metadata": {},
     "output_type": "execute_result"
    }
   ],
   "source": [
    "(defn __ [coll n]\n",
    "    (for [i (range (count coll)) :when (not= 0 (rem (inc i) n))]\n",
    "        (nth coll i)))"
   ]
  },
  {
   "cell_type": "code",
   "execution_count": 168,
   "id": "rocky-pipeline",
   "metadata": {},
   "outputs": [
    {
     "data": {
      "text/plain": [
       "(1 2 4 5 7 8)"
      ]
     },
     "execution_count": 168,
     "metadata": {},
     "output_type": "execute_result"
    }
   ],
   "source": [
    "(__ [1 2 3 4 5 6 7 8] 3)"
   ]
  },
  {
   "cell_type": "code",
   "execution_count": 169,
   "id": "modular-ontario",
   "metadata": {},
   "outputs": [
    {
     "data": {
      "text/plain": [
       "true"
      ]
     },
     "execution_count": 169,
     "metadata": {},
     "output_type": "execute_result"
    }
   ],
   "source": [
    "(= (__ [1 2 3 4 5 6 7 8] 3) [1 2 4 5 7 8])"
   ]
  },
  {
   "cell_type": "code",
   "execution_count": 170,
   "id": "centered-overall",
   "metadata": {},
   "outputs": [
    {
     "data": {
      "text/plain": [
       "true"
      ]
     },
     "execution_count": 170,
     "metadata": {},
     "output_type": "execute_result"
    }
   ],
   "source": [
    "(= (__ [:a :b :c :d :e :f] 2) [:a :c :e])"
   ]
  },
  {
   "cell_type": "code",
   "execution_count": 171,
   "id": "mobile-magnitude",
   "metadata": {},
   "outputs": [
    {
     "data": {
      "text/plain": [
       "true"
      ]
     },
     "execution_count": 171,
     "metadata": {},
     "output_type": "execute_result"
    }
   ],
   "source": [
    "(= (__ [1 2 3 4 5 6] 4) [1 2 3 5 6])"
   ]
  },
  {
   "cell_type": "markdown",
   "id": "defensive-clinton",
   "metadata": {},
   "source": [
    "## Problem 42, Factorial Fun\n",
    "Difficulty: easy\n",
    "Write a function which calculates factorials."
   ]
  },
  {
   "cell_type": "code",
   "execution_count": 172,
   "id": "experienced-pursuit",
   "metadata": {},
   "outputs": [
    {
     "data": {
      "text/plain": [
       "#'user/__"
      ]
     },
     "execution_count": 172,
     "metadata": {},
     "output_type": "execute_result"
    }
   ],
   "source": [
    "(defn __ [n]\n",
    "    (->>\n",
    "        (range 1 (inc n))\n",
    "        (reduce *)))"
   ]
  },
  {
   "cell_type": "code",
   "execution_count": 173,
   "id": "unexpected-utility",
   "metadata": {},
   "outputs": [
    {
     "data": {
      "text/plain": [
       "true"
      ]
     },
     "execution_count": 173,
     "metadata": {},
     "output_type": "execute_result"
    }
   ],
   "source": [
    "(= (__ 1) 1)"
   ]
  },
  {
   "cell_type": "code",
   "execution_count": 174,
   "id": "welsh-seeker",
   "metadata": {},
   "outputs": [
    {
     "data": {
      "text/plain": [
       "true"
      ]
     },
     "execution_count": 174,
     "metadata": {},
     "output_type": "execute_result"
    }
   ],
   "source": [
    "(= (__ 3) 6)"
   ]
  },
  {
   "cell_type": "code",
   "execution_count": 175,
   "id": "nasty-cradle",
   "metadata": {},
   "outputs": [
    {
     "data": {
      "text/plain": [
       "true"
      ]
     },
     "execution_count": 175,
     "metadata": {},
     "output_type": "execute_result"
    }
   ],
   "source": [
    "(= (__ 5) 120)"
   ]
  },
  {
   "cell_type": "code",
   "execution_count": 176,
   "id": "assumed-secretary",
   "metadata": {},
   "outputs": [
    {
     "data": {
      "text/plain": [
       "true"
      ]
     },
     "execution_count": 176,
     "metadata": {},
     "output_type": "execute_result"
    }
   ],
   "source": [
    "(= (__ 8) 40320)"
   ]
  },
  {
   "cell_type": "markdown",
   "id": "pregnant-certificate",
   "metadata": {},
   "source": [
    "## Problem 43, Reverse Interleave\n",
    "Difficulty: medium\n",
    "Write a function which reverses the interleave process into x number of subsequences."
   ]
  },
  {
   "cell_type": "code",
   "execution_count": 177,
   "id": "mechanical-steps",
   "metadata": {},
   "outputs": [
    {
     "data": {
      "text/plain": [
       "#'user/__"
      ]
     },
     "execution_count": 177,
     "metadata": {},
     "output_type": "execute_result"
    }
   ],
   "source": [
    "(defn __ [coll n]\n",
    "    (for [i (range n)]\n",
    "      (->> (map-indexed vector coll)\n",
    "           (filter #(= i (rem (first %) n)))\n",
    "           (mapcat next))))"
   ]
  },
  {
   "cell_type": "code",
   "execution_count": 178,
   "id": "heavy-colors",
   "metadata": {},
   "outputs": [
    {
     "data": {
      "text/plain": [
       "#'user/__"
      ]
     },
     "execution_count": 178,
     "metadata": {},
     "output_type": "execute_result"
    }
   ],
   "source": [
    "(defn __ [coll n]\n",
    "   (->> \n",
    "       (partition n coll)\n",
    "       (apply map list)))"
   ]
  },
  {
   "cell_type": "code",
   "execution_count": 179,
   "id": "theoretical-nightlife",
   "metadata": {},
   "outputs": [
    {
     "data": {
      "text/plain": [
       "((1 3 5) (2 4 6))"
      ]
     },
     "execution_count": 179,
     "metadata": {},
     "output_type": "execute_result"
    }
   ],
   "source": [
    "(__ [1 2 3 4 5 6] 2)"
   ]
  },
  {
   "cell_type": "code",
   "execution_count": 180,
   "id": "searching-defensive",
   "metadata": {},
   "outputs": [
    {
     "data": {
      "text/plain": [
       "true"
      ]
     },
     "execution_count": 180,
     "metadata": {},
     "output_type": "execute_result"
    }
   ],
   "source": [
    "(= (__ [1 2 3 4 5 6] 2) '((1 3 5) (2 4 6)))"
   ]
  },
  {
   "cell_type": "code",
   "execution_count": 181,
   "id": "informative-assault",
   "metadata": {},
   "outputs": [
    {
     "data": {
      "text/plain": [
       "true"
      ]
     },
     "execution_count": 181,
     "metadata": {},
     "output_type": "execute_result"
    }
   ],
   "source": [
    "(= (__ (range 9) 3) '((0 3 6) (1 4 7) (2 5 8)))"
   ]
  },
  {
   "cell_type": "code",
   "execution_count": 182,
   "id": "environmental-insured",
   "metadata": {},
   "outputs": [
    {
     "data": {
      "text/plain": [
       "true"
      ]
     },
     "execution_count": 182,
     "metadata": {},
     "output_type": "execute_result"
    }
   ],
   "source": [
    "(= (__ (range 10) 5) '((0 5) (1 6) (2 7) (3 8) (4 9)))"
   ]
  },
  {
   "cell_type": "markdown",
   "id": "thousand-therapist",
   "metadata": {},
   "source": [
    "## Problem 44, Rotate Sequence\n",
    "Difficulty: medium\n",
    "Write a function which can rotate a sequence in either direction."
   ]
  },
  {
   "cell_type": "code",
   "execution_count": 183,
   "id": "bright-hands",
   "metadata": {},
   "outputs": [
    {
     "data": {
      "text/plain": [
       "#'user/__"
      ]
     },
     "execution_count": 183,
     "metadata": {},
     "output_type": "execute_result"
    }
   ],
   "source": [
    "(defn __ [n coll]\n",
    "  (let [n (mod n (count coll))\n",
    "        c (count coll)]\n",
    "    (concat (take-last (- c n) coll) (take n coll))))"
   ]
  },
  {
   "cell_type": "code",
   "execution_count": 184,
   "id": "adequate-glory",
   "metadata": {},
   "outputs": [
    {
     "data": {
      "text/plain": [
       "#'user/__"
      ]
     },
     "execution_count": 184,
     "metadata": {},
     "output_type": "execute_result"
    }
   ],
   "source": [
    "(defn __ [n coll]\n",
    "    (let [pos (mod n (count coll))]\n",
    "        (apply concat (reverse (split-at pos coll)))))"
   ]
  },
  {
   "cell_type": "code",
   "execution_count": 185,
   "id": "optimum-sheet",
   "metadata": {},
   "outputs": [
    {
     "data": {
      "text/plain": [
       "true"
      ]
     },
     "execution_count": 185,
     "metadata": {},
     "output_type": "execute_result"
    }
   ],
   "source": [
    "(= (__ 2 [1 2 3 4 5]) '(3 4 5 1 2))"
   ]
  },
  {
   "cell_type": "code",
   "execution_count": 186,
   "id": "owned-complexity",
   "metadata": {},
   "outputs": [
    {
     "data": {
      "text/plain": [
       "true"
      ]
     },
     "execution_count": 186,
     "metadata": {},
     "output_type": "execute_result"
    }
   ],
   "source": [
    "(= (__ -2 [1 2 3 4 5]) '(4 5 1 2 3))"
   ]
  },
  {
   "cell_type": "code",
   "execution_count": 187,
   "id": "divided-stadium",
   "metadata": {},
   "outputs": [
    {
     "data": {
      "text/plain": [
       "true"
      ]
     },
     "execution_count": 187,
     "metadata": {},
     "output_type": "execute_result"
    }
   ],
   "source": [
    "(= (__ 6 [1 2 3 4 5]) '(2 3 4 5 1))"
   ]
  },
  {
   "cell_type": "code",
   "execution_count": 188,
   "id": "standard-owner",
   "metadata": {},
   "outputs": [
    {
     "data": {
      "text/plain": [
       "true"
      ]
     },
     "execution_count": 188,
     "metadata": {},
     "output_type": "execute_result"
    }
   ],
   "source": [
    "(= (__ 1 '(:a :b :c)) '(:b :c :a))"
   ]
  },
  {
   "cell_type": "code",
   "execution_count": 189,
   "id": "proof-newspaper",
   "metadata": {},
   "outputs": [
    {
     "data": {
      "text/plain": [
       "true"
      ]
     },
     "execution_count": 189,
     "metadata": {},
     "output_type": "execute_result"
    }
   ],
   "source": [
    "(= (__ -4 '(:a :b :c)) '(:c :a :b))"
   ]
  },
  {
   "cell_type": "markdown",
   "id": "subjective-maryland",
   "metadata": {},
   "source": [
    "## Problem 45, Intro to Iterate\n",
    "Difficulty: easy\n",
    "The iterate function can be used to produce an infinite lazy sequence."
   ]
  },
  {
   "cell_type": "code",
   "execution_count": 190,
   "id": "accessible-fiber",
   "metadata": {},
   "outputs": [
    {
     "data": {
      "text/plain": [
       "#'user/__"
      ]
     },
     "execution_count": 190,
     "metadata": {},
     "output_type": "execute_result"
    }
   ],
   "source": [
    "(def __ '(1 4 7 10 13))"
   ]
  },
  {
   "cell_type": "code",
   "execution_count": 191,
   "id": "found-repair",
   "metadata": {},
   "outputs": [
    {
     "data": {
      "text/plain": [
       "true"
      ]
     },
     "execution_count": 191,
     "metadata": {},
     "output_type": "execute_result"
    }
   ],
   "source": [
    "(= __ (take 5 (iterate #(+ 3 %) 1)))"
   ]
  },
  {
   "cell_type": "markdown",
   "id": "internal-painting",
   "metadata": {},
   "source": [
    "## Problem 46, Flipping out\n",
    "Difficulty: medium\n",
    "Write a higher-order function which flips the order of the arguments of an input function."
   ]
  },
  {
   "cell_type": "code",
   "execution_count": 192,
   "id": "demonstrated-profit",
   "metadata": {},
   "outputs": [
    {
     "data": {
      "text/plain": [
       "#'user/__"
      ]
     },
     "execution_count": 192,
     "metadata": {},
     "output_type": "execute_result"
    }
   ],
   "source": [
    "(defn __ [f]\n",
    "    (fn [& args] (apply f (reverse args))))"
   ]
  },
  {
   "cell_type": "code",
   "execution_count": 193,
   "id": "unavailable-tulsa",
   "metadata": {},
   "outputs": [
    {
     "data": {
      "text/plain": [
       "true"
      ]
     },
     "execution_count": 193,
     "metadata": {},
     "output_type": "execute_result"
    }
   ],
   "source": [
    "(= 3 ((__ nth) 2 [1 2 3 4 5]))"
   ]
  },
  {
   "cell_type": "code",
   "execution_count": 194,
   "id": "animal-welsh",
   "metadata": {},
   "outputs": [
    {
     "data": {
      "text/plain": [
       "true"
      ]
     },
     "execution_count": 194,
     "metadata": {},
     "output_type": "execute_result"
    }
   ],
   "source": [
    "(= true ((__ >) 7 8))"
   ]
  },
  {
   "cell_type": "code",
   "execution_count": 195,
   "id": "supreme-request",
   "metadata": {},
   "outputs": [
    {
     "data": {
      "text/plain": [
       "true"
      ]
     },
     "execution_count": 195,
     "metadata": {},
     "output_type": "execute_result"
    }
   ],
   "source": [
    "(= 4 ((__ quot) 2 8))"
   ]
  },
  {
   "cell_type": "code",
   "execution_count": 196,
   "id": "endangered-creator",
   "metadata": {},
   "outputs": [
    {
     "data": {
      "text/plain": [
       "true"
      ]
     },
     "execution_count": 196,
     "metadata": {},
     "output_type": "execute_result"
    }
   ],
   "source": [
    "(= [1 2 3] ((__ take) [1 2 3 4 5] 3))"
   ]
  },
  {
   "cell_type": "markdown",
   "id": "combined-wilderness",
   "metadata": {},
   "source": [
    "## Problem 47, Contain Yourself\n",
    "Difficulty: easy\n",
    "The contains? function checks if a KEY is present in a given collection. This often leads beginner clojurians to use it incorrectly with numerically indexed collections like vectors and lists."
   ]
  },
  {
   "cell_type": "code",
   "execution_count": 197,
   "id": "driving-bangkok",
   "metadata": {},
   "outputs": [
    {
     "data": {
      "text/plain": [
       "#'user/__"
      ]
     },
     "execution_count": 197,
     "metadata": {},
     "output_type": "execute_result"
    }
   ],
   "source": [
    "(def __ 4)"
   ]
  },
  {
   "cell_type": "code",
   "execution_count": 198,
   "id": "genuine-collapse",
   "metadata": {},
   "outputs": [
    {
     "data": {
      "text/plain": [
       "true"
      ]
     },
     "execution_count": 198,
     "metadata": {},
     "output_type": "execute_result"
    }
   ],
   "source": [
    "(contains? #{4 5 6} __)"
   ]
  },
  {
   "cell_type": "code",
   "execution_count": 199,
   "id": "adolescent-album",
   "metadata": {},
   "outputs": [
    {
     "data": {
      "text/plain": [
       "true"
      ]
     },
     "execution_count": 199,
     "metadata": {},
     "output_type": "execute_result"
    }
   ],
   "source": [
    "(contains? [1 1 1 1 1] __)"
   ]
  },
  {
   "cell_type": "code",
   "execution_count": 200,
   "id": "baking-convertible",
   "metadata": {},
   "outputs": [
    {
     "data": {
      "text/plain": [
       "true"
      ]
     },
     "execution_count": 200,
     "metadata": {},
     "output_type": "execute_result"
    }
   ],
   "source": [
    "(contains? {4 :a 2 :b} __)"
   ]
  },
  {
   "cell_type": "code",
   "execution_count": 201,
   "id": "indie-billion",
   "metadata": {},
   "outputs": [
    {
     "data": {
      "text/plain": [
       "true"
      ]
     },
     "execution_count": 201,
     "metadata": {},
     "output_type": "execute_result"
    }
   ],
   "source": [
    "(not (contains? [1 2 4] __))"
   ]
  },
  {
   "cell_type": "markdown",
   "id": "twelve-colors",
   "metadata": {},
   "source": [
    "## Problem 48, Intro to some\n",
    "Difficulty: easy\n",
    "The some function takes a predicate function and a collection. It returns the first logical true value of (predicate x) where x is an item in the collection."
   ]
  },
  {
   "cell_type": "code",
   "execution_count": 202,
   "id": "heavy-broad",
   "metadata": {},
   "outputs": [
    {
     "data": {
      "text/plain": [
       "#'user/__"
      ]
     },
     "execution_count": 202,
     "metadata": {},
     "output_type": "execute_result"
    }
   ],
   "source": [
    "(def __ 6)"
   ]
  },
  {
   "cell_type": "code",
   "execution_count": 203,
   "id": "variable-publicity",
   "metadata": {},
   "outputs": [
    {
     "data": {
      "text/plain": [
       "6"
      ]
     },
     "execution_count": 203,
     "metadata": {},
     "output_type": "execute_result"
    }
   ],
   "source": [
    "(some #{2 7 6} [5 6 7 8])"
   ]
  },
  {
   "cell_type": "code",
   "execution_count": 204,
   "id": "motivated-russell",
   "metadata": {
    "scrolled": true
   },
   "outputs": [
    {
     "data": {
      "text/plain": [
       "6"
      ]
     },
     "execution_count": 204,
     "metadata": {},
     "output_type": "execute_result"
    }
   ],
   "source": [
    "(some #(when (even? %) %) [5 6 7 8])"
   ]
  },
  {
   "cell_type": "code",
   "execution_count": 205,
   "id": "proprietary-reaction",
   "metadata": {},
   "outputs": [
    {
     "data": {
      "text/plain": [
       "true"
      ]
     },
     "execution_count": 205,
     "metadata": {},
     "output_type": "execute_result"
    }
   ],
   "source": [
    "(even? 8)"
   ]
  },
  {
   "cell_type": "code",
   "execution_count": 206,
   "id": "expressed-momentum",
   "metadata": {},
   "outputs": [
    {
     "data": {
      "text/plain": [
       "true"
      ]
     },
     "execution_count": 206,
     "metadata": {},
     "output_type": "execute_result"
    }
   ],
   "source": [
    "(= __ (some #{2 7 6} [5 6 7 8]))"
   ]
  },
  {
   "cell_type": "code",
   "execution_count": 207,
   "id": "waiting-scanner",
   "metadata": {},
   "outputs": [
    {
     "data": {
      "text/plain": [
       "true"
      ]
     },
     "execution_count": 207,
     "metadata": {},
     "output_type": "execute_result"
    }
   ],
   "source": [
    "(= __ (some #(when (even? %) %) [5 6 7 8]))"
   ]
  },
  {
   "cell_type": "markdown",
   "id": "tamil-necessity",
   "metadata": {},
   "source": [
    "## Problem 49, Split a sequence\n",
    "Difficulty: easy\n",
    "Write a function which will split a sequence into two parts."
   ]
  },
  {
   "cell_type": "code",
   "execution_count": 208,
   "id": "useful-alaska",
   "metadata": {},
   "outputs": [
    {
     "data": {
      "text/plain": [
       "#'user/__"
      ]
     },
     "execution_count": 208,
     "metadata": {},
     "output_type": "execute_result"
    }
   ],
   "source": [
    "(defn __ [n coll]\n",
    "    (conj []\n",
    "     (->> (map-indexed vector coll)\n",
    "        (filter #(> n (first %)))\n",
    "        (mapv #(nth % 1)))\n",
    "     (->> (map-indexed vector coll)\n",
    "         (filter #(<= n (first %)))\n",
    "         (mapv #(nth % 1)))))"
   ]
  },
  {
   "cell_type": "code",
   "execution_count": 209,
   "id": "finished-operations",
   "metadata": {},
   "outputs": [
    {
     "data": {
      "text/plain": [
       "[[1 2 3] [4 5 6]]"
      ]
     },
     "execution_count": 209,
     "metadata": {},
     "output_type": "execute_result"
    }
   ],
   "source": [
    "(__ 3 [1 2 3 4 5 6])"
   ]
  },
  {
   "cell_type": "code",
   "execution_count": 210,
   "id": "prescribed-insulation",
   "metadata": {},
   "outputs": [
    {
     "data": {
      "text/plain": [
       "true"
      ]
     },
     "execution_count": 210,
     "metadata": {},
     "output_type": "execute_result"
    }
   ],
   "source": [
    "(= (__ 3 [1 2 3 4 5 6]) [[1 2 3] [4 5 6]])"
   ]
  },
  {
   "cell_type": "code",
   "execution_count": 211,
   "id": "alternate-second",
   "metadata": {},
   "outputs": [
    {
     "data": {
      "text/plain": [
       "true"
      ]
     },
     "execution_count": 211,
     "metadata": {},
     "output_type": "execute_result"
    }
   ],
   "source": [
    "(= (__ 1 [:a :b :c :d]) [[:a] [:b :c :d]])"
   ]
  },
  {
   "cell_type": "code",
   "execution_count": 212,
   "id": "danish-tracker",
   "metadata": {},
   "outputs": [
    {
     "data": {
      "text/plain": [
       "true"
      ]
     },
     "execution_count": 212,
     "metadata": {},
     "output_type": "execute_result"
    }
   ],
   "source": [
    "(= (__ 2 [[1 2] [3 4] [5 6]]) [[[1 2] [3 4]] [[5 6]]])"
   ]
  },
  {
   "cell_type": "markdown",
   "id": "organized-probability",
   "metadata": {},
   "source": [
    "## Problem 50, Split by Type\n",
    "Difficulty: medium\n",
    "Write a function which takes a sequence consisting of items with different types and splits them up into a set of homogeneous sub-sequences. The internal order of each sub-sequence should be maintained, but the sub-sequences themselves can be returned in any order (this is why 'set' is used in the test cases)."
   ]
  },
  {
   "cell_type": "code",
   "execution_count": 213,
   "id": "loose-laptop",
   "metadata": {},
   "outputs": [
    {
     "data": {
      "text/plain": [
       "#'user/__"
      ]
     },
     "execution_count": 213,
     "metadata": {},
     "output_type": "execute_result"
    }
   ],
   "source": [
    "(defn __ [coll]\n",
    "    (vals (group-by type coll)))"
   ]
  },
  {
   "cell_type": "code",
   "execution_count": 214,
   "id": "advisory-intervention",
   "metadata": {},
   "outputs": [
    {
     "data": {
      "text/plain": [
       "true"
      ]
     },
     "execution_count": 214,
     "metadata": {},
     "output_type": "execute_result"
    }
   ],
   "source": [
    "(= (set (__ [1 :a 2 :b 3 :c])) #{[1 2 3] [:a :b :c]})"
   ]
  },
  {
   "cell_type": "code",
   "execution_count": 215,
   "id": "scenic-danish",
   "metadata": {},
   "outputs": [
    {
     "data": {
      "text/plain": [
       "true"
      ]
     },
     "execution_count": 215,
     "metadata": {},
     "output_type": "execute_result"
    }
   ],
   "source": [
    "(= (set (__ [:a \"foo\"  \"bar\" :b])) #{[:a :b] [\"foo\" \"bar\"]})"
   ]
  },
  {
   "cell_type": "code",
   "execution_count": 216,
   "id": "million-bridge",
   "metadata": {},
   "outputs": [
    {
     "data": {
      "text/plain": [
       "true"
      ]
     },
     "execution_count": 216,
     "metadata": {},
     "output_type": "execute_result"
    }
   ],
   "source": [
    "(= (set (__ [[1 2] :a [3 4] 5 6 :b])) #{[[1 2] [3 4]] [:a :b] [5 6]})"
   ]
  },
  {
   "cell_type": "markdown",
   "id": "dominican-surprise",
   "metadata": {},
   "source": [
    "## Problem 51, Advanced Destructuring\n",
    "Difficulty: easy\n",
    "Here is an example of some more sophisticated destructuring."
   ]
  },
  {
   "cell_type": "code",
   "execution_count": 217,
   "id": "rotary-scottish",
   "metadata": {},
   "outputs": [
    {
     "data": {
      "text/plain": [
       "#'user/__"
      ]
     },
     "execution_count": 217,
     "metadata": {},
     "output_type": "execute_result"
    }
   ],
   "source": [
    "(def __ [1 2 3 4 5])"
   ]
  },
  {
   "cell_type": "code",
   "execution_count": 218,
   "id": "incorrect-object",
   "metadata": {},
   "outputs": [
    {
     "data": {
      "text/plain": [
       "true"
      ]
     },
     "execution_count": 218,
     "metadata": {},
     "output_type": "execute_result"
    }
   ],
   "source": [
    "(= [1 2 [3 4 5] [1 2 3 4 5]] (let [[a b & c :as d] __] [a b c d]))"
   ]
  },
  {
   "cell_type": "markdown",
   "id": "owned-cannon",
   "metadata": {},
   "source": [
    "## Problem 52, Intro to Destructuring\n",
    "Difficulty: elementary\n",
    "Let bindings and function parameter lists support destructuring."
   ]
  },
  {
   "cell_type": "code",
   "execution_count": 219,
   "id": "opposite-remainder",
   "metadata": {},
   "outputs": [],
   "source": [
    "; (= [2 4] (let [[a b c d e f g] (range)] __))"
   ]
  },
  {
   "cell_type": "code",
   "execution_count": 220,
   "id": "terminal-forty",
   "metadata": {},
   "outputs": [
    {
     "data": {
      "text/plain": [
       "[2 4]"
      ]
     },
     "execution_count": 220,
     "metadata": {},
     "output_type": "execute_result"
    }
   ],
   "source": [
    "(let [[a b c d e f g] (range)] [c e])"
   ]
  },
  {
   "cell_type": "markdown",
   "id": "identified-upset",
   "metadata": {},
   "source": [
    "## Problem 53, Longest Increasing Sub-Seq\n",
    "Difficulty: hard\n",
    "Given a vector of integers, find the longest consecutive sub-sequence of increasing numbers. If two sub-sequences have the same length, use the one that occurs first. An increasing sub-sequence must have a length of 2 or greater to qualify."
   ]
  },
  {
   "cell_type": "code",
   "execution_count": 221,
   "id": "collectible-proof",
   "metadata": {
    "scrolled": true
   },
   "outputs": [
    {
     "data": {
      "text/plain": [
       "#'user/__"
      ]
     },
     "execution_count": 221,
     "metadata": {},
     "output_type": "execute_result"
    }
   ],
   "source": [
    "(defn __ [coll]\n",
    "    (let [idxs (map first (map-indexed vector coll))\n",
    "          discr (map - coll idxs)\n",
    "          filtered-discr (->> discr\n",
    "                             (group-by int)\n",
    "                             (filter #(> (count (val %)) 1)))]\n",
    "        (if-let [empty-test (nil? (->> filtered-discr\n",
    "                                    (into {}) (vals)))]\n",
    "            []\n",
    "            (let [max-discr (->> filtered-discr\n",
    "                                (into {}) (vals)\n",
    "                                (apply max-key count))\n",
    "                  max-idx (.indexOf discr (first max-discr))\n",
    "                  max-cnt (count max-discr)\n",
    "                  max-range (range max-idx (+ max-idx max-cnt))]\n",
    "                (mapv #(get coll %) max-range)))))"
   ]
  },
  {
   "cell_type": "code",
   "execution_count": 222,
   "id": "forced-lightning",
   "metadata": {},
   "outputs": [
    {
     "data": {
      "text/plain": [
       "#function[user/eval4633/blah--4634]"
      ]
     },
     "execution_count": 222,
     "metadata": {},
     "output_type": "execute_result"
    }
   ],
   "source": [
    ";; others \n",
    "(fn blah [v]\n",
    "  (apply (partial max-key count) []\n",
    "         (reverse (for [i (range 2 (inc (count v))) \n",
    "                        part (partition i 1 v)\n",
    "                        :when (apply < part)]\n",
    "                    part))))"
   ]
  },
  {
   "cell_type": "code",
   "execution_count": 223,
   "id": "lightweight-table",
   "metadata": {},
   "outputs": [
    {
     "data": {
      "text/plain": [
       "true"
      ]
     },
     "execution_count": 223,
     "metadata": {},
     "output_type": "execute_result"
    }
   ],
   "source": [
    "(= (__ [1 0 1 2 3 0 4 5]) [0 1 2 3])"
   ]
  },
  {
   "cell_type": "code",
   "execution_count": 224,
   "id": "acquired-questionnaire",
   "metadata": {},
   "outputs": [
    {
     "data": {
      "text/plain": [
       "true"
      ]
     },
     "execution_count": 224,
     "metadata": {},
     "output_type": "execute_result"
    }
   ],
   "source": [
    "(= (__ [5 6 1 3 2 7]) [5 6])"
   ]
  },
  {
   "cell_type": "code",
   "execution_count": 225,
   "id": "speaking-escape",
   "metadata": {
    "scrolled": true
   },
   "outputs": [
    {
     "data": {
      "text/plain": [
       "true"
      ]
     },
     "execution_count": 225,
     "metadata": {},
     "output_type": "execute_result"
    }
   ],
   "source": [
    "(= (__ [2 3 3 4 5]) [3 4 5])"
   ]
  },
  {
   "cell_type": "code",
   "execution_count": 226,
   "id": "rising-rwanda",
   "metadata": {},
   "outputs": [
    {
     "data": {
      "text/plain": [
       "true"
      ]
     },
     "execution_count": 226,
     "metadata": {},
     "output_type": "execute_result"
    }
   ],
   "source": [
    "(= (__ [7 6 5 4]) [])"
   ]
  },
  {
   "cell_type": "markdown",
   "id": "connected-cheese",
   "metadata": {},
   "source": [
    "## Problem 54, Partition a Sequence\n",
    "Difficulty: medium\n",
    "Write a function which returns a sequence of lists of x items each. Lists of less than x items should not be returned."
   ]
  },
  {
   "cell_type": "code",
   "execution_count": 227,
   "id": "incorrect-municipality",
   "metadata": {
    "scrolled": true
   },
   "outputs": [
    {
     "data": {
      "text/plain": [
       "#'user/__"
      ]
     },
     "execution_count": 227,
     "metadata": {},
     "output_type": "execute_result"
    }
   ],
   "source": [
    "(defn __ [n coll]\n",
    "    (let [ea-sub (quot (count coll) n)\n",
    "          t-coll (take (* n ea-sub) (map-indexed vector coll))\n",
    "          t-coll-idx (map first t-coll)\n",
    "          t-coll-val (map second t-coll)\n",
    "          firsts-sub (take-nth n t-coll-idx)\n",
    "          idxs-s (map #(range %1 %2) firsts-sub (map #(+ % n) firsts-sub))]\n",
    "        (map (fn [sub] (map #(nth t-coll-val %) sub)) idxs-s)))"
   ]
  },
  {
   "cell_type": "code",
   "execution_count": 228,
   "id": "municipal-canal",
   "metadata": {},
   "outputs": [
    {
     "data": {
      "text/plain": [
       "#'user/aa"
      ]
     },
     "execution_count": 228,
     "metadata": {},
     "output_type": "execute_result"
    }
   ],
   "source": [
    "(defn aa [n s & sa]\n",
    "  (if (< (count s) n) \n",
    "    (reverse sa)\n",
    "    (recur n (drop n s) (cons (take n s) (if (nil? sa) [] sa)))))"
   ]
  },
  {
   "cell_type": "code",
   "execution_count": 229,
   "id": "intimate-forth",
   "metadata": {},
   "outputs": [
    {
     "data": {
      "text/plain": [
       "#'user/part"
      ]
     },
     "execution_count": 229,
     "metadata": {},
     "output_type": "execute_result"
    }
   ],
   "source": [
    "(defn part [n coll]\n",
    "   (let [rst (drop n coll)]\n",
    "     (cons (take n coll) (if (>= (count rst) n) (part n rst) '()))))"
   ]
  },
  {
   "cell_type": "code",
   "execution_count": 230,
   "id": "northern-personality",
   "metadata": {},
   "outputs": [
    {
     "data": {
      "text/plain": [
       "#'user/my-partition"
      ]
     },
     "execution_count": 230,
     "metadata": {},
     "output_type": "execute_result"
    }
   ],
   "source": [
    "(defn my-partition [n coll]\n",
    "  (->> coll\n",
    "       (map vector (flatten (map #(repeat n %) (range))))\n",
    "       (partition-by first)\n",
    "       (map #(map second %))\n",
    "       (filter #(= n (count %)))))"
   ]
  },
  {
   "cell_type": "code",
   "execution_count": null,
   "id": "entire-encounter",
   "metadata": {},
   "outputs": [],
   "source": []
  },
  {
   "cell_type": "code",
   "execution_count": 236,
   "id": "excellent-clearing",
   "metadata": {},
   "outputs": [
    {
     "data": {
      "text/plain": [
       "((7 8 9) (10 11 12) (13 14 15) (16 17 18))"
      ]
     },
     "execution_count": 236,
     "metadata": {},
     "output_type": "execute_result"
    }
   ],
   "source": [
    "(aa 3 (range 7 19))"
   ]
  },
  {
   "cell_type": "code",
   "execution_count": 232,
   "id": "coated-captain",
   "metadata": {},
   "outputs": [
    {
     "data": {
      "text/plain": [
       "true"
      ]
     },
     "execution_count": 232,
     "metadata": {},
     "output_type": "execute_result"
    }
   ],
   "source": [
    "(= (__ 3 (range 9)) '((0 1 2) (3 4 5) (6 7 8)))"
   ]
  },
  {
   "cell_type": "code",
   "execution_count": 233,
   "id": "limiting-butter",
   "metadata": {},
   "outputs": [
    {
     "data": {
      "text/plain": [
       "true"
      ]
     },
     "execution_count": 233,
     "metadata": {},
     "output_type": "execute_result"
    }
   ],
   "source": [
    "(= (__ 2 (range 8)) '((0 1) (2 3) (4 5) (6 7)))"
   ]
  },
  {
   "cell_type": "code",
   "execution_count": 234,
   "id": "logical-rochester",
   "metadata": {},
   "outputs": [
    {
     "data": {
      "text/plain": [
       "true"
      ]
     },
     "execution_count": 234,
     "metadata": {},
     "output_type": "execute_result"
    }
   ],
   "source": [
    "(= (__ 3 (range 8)) '((0 1 2) (3 4 5)))"
   ]
  },
  {
   "cell_type": "code",
   "execution_count": 237,
   "id": "collect-equity",
   "metadata": {},
   "outputs": [
    {
     "data": {
      "text/plain": [
       "true"
      ]
     },
     "execution_count": 237,
     "metadata": {},
     "output_type": "execute_result"
    }
   ],
   "source": [
    "(= (__ 3 (range 8)) '((0 1 2) (3 4 5)))"
   ]
  },
  {
   "cell_type": "markdown",
   "id": "homeless-pleasure",
   "metadata": {},
   "source": [
    "## Problem 55, Count Occurences\n",
    "Difficulty: medium\n",
    "Write a function which returns a map containing the number of occurences of each distinct item in a sequence."
   ]
  },
  {
   "cell_type": "code",
   "execution_count": 299,
   "id": "built-intermediate",
   "metadata": {},
   "outputs": [
    {
     "data": {
      "text/plain": [
       "#'user/__"
      ]
     },
     "execution_count": 299,
     "metadata": {},
     "output_type": "execute_result"
    }
   ],
   "source": [
    "(defn __ [coll]\n",
    "    (let [grp (group-by identity coll)]\n",
    "        (zipmap (keys grp) \n",
    "                (map count (map val grp)))))"
   ]
  },
  {
   "cell_type": "code",
   "execution_count": 300,
   "id": "devoted-expert",
   "metadata": {},
   "outputs": [
    {
     "data": {
      "text/plain": [
       "{1 4, 2 2, 3 1}"
      ]
     },
     "execution_count": 300,
     "metadata": {},
     "output_type": "execute_result"
    }
   ],
   "source": [
    "(__ [1 1 2 3 2 1 1])"
   ]
  },
  {
   "cell_type": "code",
   "execution_count": 301,
   "id": "earned-proof",
   "metadata": {},
   "outputs": [
    {
     "data": {
      "text/plain": [
       "true"
      ]
     },
     "execution_count": 301,
     "metadata": {},
     "output_type": "execute_result"
    }
   ],
   "source": [
    "(= (__ [1 1 2 3 2 1 1]) {1 4, 2 2, 3 1})"
   ]
  },
  {
   "cell_type": "code",
   "execution_count": 302,
   "id": "incredible-embassy",
   "metadata": {},
   "outputs": [
    {
     "data": {
      "text/plain": [
       "true"
      ]
     },
     "execution_count": 302,
     "metadata": {},
     "output_type": "execute_result"
    }
   ],
   "source": [
    "(= (__ [:b :a :b :a :b]) {:a 2, :b 3})"
   ]
  },
  {
   "cell_type": "code",
   "execution_count": 303,
   "id": "scenic-scheduling",
   "metadata": {},
   "outputs": [
    {
     "data": {
      "text/plain": [
       "true"
      ]
     },
     "execution_count": 303,
     "metadata": {},
     "output_type": "execute_result"
    }
   ],
   "source": [
    "(= (__ '([1 2] [1 3] [1 3])) {[1 2] 1, [1 3] 2})"
   ]
  },
  {
   "cell_type": "markdown",
   "id": "northern-customer",
   "metadata": {},
   "source": [
    "## Problem 56, Find Distinct Items\n",
    "Difficulty: medium\n",
    "Write a function which removes the duplicates from a sequence. Order of the items must be maintained."
   ]
  },
  {
   "cell_type": "code",
   "execution_count": 471,
   "id": "persistent-chaos",
   "metadata": {},
   "outputs": [
    {
     "data": {
      "text/plain": [
       "#'user/__"
      ]
     },
     "execution_count": 471,
     "metadata": {},
     "output_type": "execute_result"
    }
   ],
   "source": [
    ";; (defn __ [coll]\n",
    ";;     (let [grp (group-by identity coll)\n",
    ";;           keep-idx (keep-indexed vector coll)]\n",
    ";; ;;         (reduce #(into %1 %2) grp)\n",
    ";; ;;         (map first (seq grp))\n",
    ";;         (->>\n",
    ";;             keep-idx \n",
    "            \n",
    ";; ;;             (into (sorted-map) grp)\n",
    ";; ;;             (map first)\n",
    ";; ;;             keep-idx\n",
    ";;             )\n",
    ";;         ))"
   ]
  },
  {
   "cell_type": "code",
   "execution_count": 506,
   "id": "pacific-reason",
   "metadata": {
    "scrolled": true
   },
   "outputs": [
    {
     "data": {
      "text/plain": [
       "#'user/__"
      ]
     },
     "execution_count": 506,
     "metadata": {},
     "output_type": "execute_result"
    }
   ],
   "source": [
    ";; (defn __ [coll]\n",
    ";;     (let [map-uni (zipmap (vec (set coll)) (vec (set coll)))]\n",
    ";;         (find map-uni 1)\n",
    ";;         map-uni))"
   ]
  },
  {
   "cell_type": "code",
   "execution_count": 511,
   "id": "impaired-greek",
   "metadata": {},
   "outputs": [
    {
     "data": {
      "text/plain": [
       "#'user/__"
      ]
     },
     "execution_count": 511,
     "metadata": {},
     "output_type": "execute_result"
    }
   ],
   "source": [
    "(defn __ [coll]\n",
    "  (keep-indexed\n",
    "    #(if (contains? (set (take % coll)) %2) nil %2) coll))"
   ]
  },
  {
   "cell_type": "code",
   "execution_count": 516,
   "id": "permanent-lloyd",
   "metadata": {},
   "outputs": [
    {
     "data": {
      "text/plain": [
       "true"
      ]
     },
     "execution_count": 516,
     "metadata": {},
     "output_type": "execute_result"
    }
   ],
   "source": [
    "(= (__ [1 2 1 3 1 2 4]) [1 2 3 4])"
   ]
  },
  {
   "cell_type": "code",
   "execution_count": 517,
   "id": "initial-environment",
   "metadata": {},
   "outputs": [
    {
     "data": {
      "text/plain": [
       "true"
      ]
     },
     "execution_count": 517,
     "metadata": {},
     "output_type": "execute_result"
    }
   ],
   "source": [
    "(= (__ [:a :a :b :b :c :c]) [:a :b :c])"
   ]
  },
  {
   "cell_type": "code",
   "execution_count": 518,
   "id": "earlier-reaction",
   "metadata": {},
   "outputs": [
    {
     "data": {
      "text/plain": [
       "true"
      ]
     },
     "execution_count": 518,
     "metadata": {},
     "output_type": "execute_result"
    }
   ],
   "source": [
    "(= (__ '([2 4] [1 2] [1 3] [1 3])) '([2 4] [1 2] [1 3]))"
   ]
  },
  {
   "cell_type": "code",
   "execution_count": 519,
   "id": "occasional-purpose",
   "metadata": {},
   "outputs": [
    {
     "data": {
      "text/plain": [
       "true"
      ]
     },
     "execution_count": 519,
     "metadata": {},
     "output_type": "execute_result"
    }
   ],
   "source": [
    "(= (__ (range 50)) (range 50))"
   ]
  },
  {
   "cell_type": "markdown",
   "id": "authorized-meeting",
   "metadata": {},
   "source": [
    "## Problem 57, Simple Recursion\n",
    "Difficulty: elementary\n",
    "A recursive function is a function which calls itself. This is one of the fundamental techniques used in functional programming."
   ]
  },
  {
   "cell_type": "code",
   "execution_count": 535,
   "id": "parliamentary-festival",
   "metadata": {},
   "outputs": [
    {
     "data": {
      "text/plain": [
       "#'user/__"
      ]
     },
     "execution_count": 535,
     "metadata": {},
     "output_type": "execute_result"
    }
   ],
   "source": [
    "(def __ '(5 4 3 2 1))"
   ]
  },
  {
   "cell_type": "code",
   "execution_count": 536,
   "id": "french-strength",
   "metadata": {},
   "outputs": [
    {
     "data": {
      "text/plain": [
       "#'user/my-recur"
      ]
     },
     "execution_count": 536,
     "metadata": {},
     "output_type": "execute_result"
    }
   ],
   "source": [
    "(defn my-recur [x]\n",
    "    (when (pos? x)\n",
    "        (conj (vec (my-recur (dec x))) x)))"
   ]
  },
  {
   "cell_type": "code",
   "execution_count": 537,
   "id": "emerging-symbol",
   "metadata": {},
   "outputs": [
    {
     "data": {
      "text/plain": [
       "[1 2 3 4 5]"
      ]
     },
     "execution_count": 537,
     "metadata": {},
     "output_type": "execute_result"
    }
   ],
   "source": [
    "(my-recur 5)"
   ]
  },
  {
   "cell_type": "code",
   "execution_count": 538,
   "id": "exclusive-survival",
   "metadata": {},
   "outputs": [
    {
     "data": {
      "text/plain": [
       "true"
      ]
     },
     "execution_count": 538,
     "metadata": {},
     "output_type": "execute_result"
    }
   ],
   "source": [
    "(= __ ((fn foo [x] (when (> x 0) (conj (foo (dec x)) x))) 5))"
   ]
  },
  {
   "cell_type": "markdown",
   "id": "white-pennsylvania",
   "metadata": {},
   "source": [
    "## Problem 58, Function Composition\n",
    "Difficulty: medium\n",
    "Write a function which allows you to create function compositions. The parameter list should take a variable number of functions, and create a function applies them from right-to-left."
   ]
  },
  {
   "cell_type": "code",
   "execution_count": 620,
   "id": "plastic-fraud",
   "metadata": {},
   "outputs": [
    {
     "data": {
      "text/plain": [
       "#'user/__"
      ]
     },
     "execution_count": 620,
     "metadata": {},
     "output_type": "execute_result"
    }
   ],
   "source": [
    "(defn __ [& fs]\n",
    "    (reduce (fn [f g]\n",
    "                #(f (apply g %&))) fs))"
   ]
  },
  {
   "cell_type": "code",
   "execution_count": 621,
   "id": "physical-chamber",
   "metadata": {
    "scrolled": false
   },
   "outputs": [
    {
     "data": {
      "text/plain": [
       "(3 2 1)"
      ]
     },
     "execution_count": 621,
     "metadata": {},
     "output_type": "execute_result"
    }
   ],
   "source": [
    "((__ rest reverse) [1 2 3 4])"
   ]
  },
  {
   "cell_type": "code",
   "execution_count": 622,
   "id": "transsexual-saturn",
   "metadata": {},
   "outputs": [
    {
     "data": {
      "text/plain": [
       "(1 2)"
      ]
     },
     "execution_count": 622,
     "metadata": {},
     "output_type": "execute_result"
    }
   ],
   "source": [
    "(#(identity %&) 1 2)"
   ]
  },
  {
   "cell_type": "code",
   "execution_count": 623,
   "id": "administrative-unemployment",
   "metadata": {},
   "outputs": [],
   "source": [
    ";; (+ '(1 2))"
   ]
  },
  {
   "cell_type": "code",
   "execution_count": 624,
   "id": "further-killing",
   "metadata": {},
   "outputs": [
    {
     "data": {
      "text/plain": [
       "3"
      ]
     },
     "execution_count": 624,
     "metadata": {},
     "output_type": "execute_result"
    }
   ],
   "source": [
    "(apply + (#(identity %&) 1 2))"
   ]
  },
  {
   "cell_type": "code",
   "execution_count": 625,
   "id": "cubic-yemen",
   "metadata": {},
   "outputs": [
    {
     "data": {
      "text/plain": [
       "true"
      ]
     },
     "execution_count": 625,
     "metadata": {},
     "output_type": "execute_result"
    }
   ],
   "source": [
    "(= [3 2 1] ((__ rest reverse) [1 2 3 4]))"
   ]
  },
  {
   "cell_type": "code",
   "execution_count": 626,
   "id": "armed-collector",
   "metadata": {},
   "outputs": [
    {
     "data": {
      "text/plain": [
       "true"
      ]
     },
     "execution_count": 626,
     "metadata": {},
     "output_type": "execute_result"
    }
   ],
   "source": [
    "(= 5 ((__ (partial + 3) second) [1 2 3 4]))"
   ]
  },
  {
   "cell_type": "code",
   "execution_count": 627,
   "id": "danish-booth",
   "metadata": {},
   "outputs": [
    {
     "data": {
      "text/plain": [
       "true"
      ]
     },
     "execution_count": 627,
     "metadata": {},
     "output_type": "execute_result"
    }
   ],
   "source": [
    "(= true ((__ zero? #(mod % 8) +) 3 5 7 9))"
   ]
  },
  {
   "cell_type": "code",
   "execution_count": 628,
   "id": "southeast-dollar",
   "metadata": {},
   "outputs": [
    {
     "data": {
      "text/plain": [
       "true"
      ]
     },
     "execution_count": 628,
     "metadata": {},
     "output_type": "execute_result"
    }
   ],
   "source": [
    "(= \"HELLO\" ((__ #(.toUpperCase %) #(apply str %) take) 5 \"hello world\"))"
   ]
  },
  {
   "cell_type": "markdown",
   "id": "activated-browser",
   "metadata": {},
   "source": [
    "## Problem 59, Juxtaposition\n",
    "Difficulty: medium\n",
    "Take a set of functions and return a new function that takes a variable number of arguments and returns a sequence containing the result of applying each function left-to-right to the argument list."
   ]
  },
  {
   "cell_type": "code",
   "execution_count": 651,
   "id": "looking-russia",
   "metadata": {},
   "outputs": [
    {
     "data": {
      "text/plain": [
       "#'user/__"
      ]
     },
     "execution_count": 651,
     "metadata": {},
     "output_type": "execute_result"
    }
   ],
   "source": [
    "(defn __ [& fs]\n",
    "    #(for [i fs]\n",
    "        (apply i %&)))"
   ]
  },
  {
   "cell_type": "code",
   "execution_count": 652,
   "id": "abroad-pledge",
   "metadata": {},
   "outputs": [
    {
     "data": {
      "text/plain": [
       "true"
      ]
     },
     "execution_count": 652,
     "metadata": {},
     "output_type": "execute_result"
    }
   ],
   "source": [
    "(= [21 6 1] ((__ + max min) 2 3 5 1 6 4))"
   ]
  },
  {
   "cell_type": "code",
   "execution_count": 653,
   "id": "figured-closure",
   "metadata": {},
   "outputs": [
    {
     "data": {
      "text/plain": [
       "true"
      ]
     },
     "execution_count": 653,
     "metadata": {},
     "output_type": "execute_result"
    }
   ],
   "source": [
    "(= [\"HELLO\" 5] ((__ #(.toUpperCase %) count) \"hello\"))"
   ]
  },
  {
   "cell_type": "code",
   "execution_count": 654,
   "id": "judicial-vector",
   "metadata": {},
   "outputs": [
    {
     "data": {
      "text/plain": [
       "true"
      ]
     },
     "execution_count": 654,
     "metadata": {},
     "output_type": "execute_result"
    }
   ],
   "source": [
    "(= [2 6 4] ((__ :a :c :b) {:a 2, :b 4, :c 6, :d 8 :e 10}))"
   ]
  },
  {
   "cell_type": "markdown",
   "id": "baking-cartridge",
   "metadata": {},
   "source": [
    "## Problem 60, Sequence Reductions\n",
    "Difficulty: medium\n",
    "Write a function which behaves like reduce, but returns each intermediate value of the reduction. Your function must accept either two or three arguments, and the return sequence must be lazy."
   ]
  },
  {
   "cell_type": "code",
   "execution_count": 2,
   "id": "reported-network",
   "metadata": {},
   "outputs": [
    {
     "data": {
      "text/plain": [
       "#'user/__"
      ]
     },
     "execution_count": 2,
     "metadata": {},
     "output_type": "execute_result"
    }
   ],
   "source": [
    "(defn __ ;; 입력이 무한수열인 상황 미 해결\n",
    "    ([f coll]\n",
    "     (loop [col coll acc (vector (first coll))]\n",
    "         (if (nil? (next col))\n",
    "             (lazy-seq acc)\n",
    "             (recur (next col) (conj acc (f (last acc) (fnext col)))))))\n",
    "    ([f init coll]\n",
    "     (loop [col coll acc (vector init)]\n",
    "         (if (nil? (next col))\n",
    "             (lazy-seq (conj acc (f (last acc) (first col))))\n",
    "             (recur (next col) (conj acc (f (last acc) (first col))))))))"
   ]
  },
  {
   "cell_type": "code",
   "execution_count": 14,
   "id": "electrical-theta",
   "metadata": {},
   "outputs": [
    {
     "data": {
      "text/plain": [
       "#'user/i1"
      ]
     },
     "execution_count": 14,
     "metadata": {},
     "output_type": "execute_result"
    }
   ],
   "source": [
    "(def i1 \"a\")"
   ]
  },
  {
   "cell_type": "code",
   "execution_count": 15,
   "id": "democratic-lafayette",
   "metadata": {},
   "outputs": [
    {
     "data": {
      "text/plain": [
       "#'user/my-reduction"
      ]
     },
     "execution_count": 15,
     "metadata": {},
     "output_type": "execute_result"
    }
   ],
   "source": [
    "(defn my-reduction\n",
    "    ([f coll]\n",
    "     (if-let [fs (first coll)] ; 원 풀이에서는 when-let을 사용함: 거짓인 경우 실행할 구문 정의가 없으니 when-let을 쓰면 된다.\n",
    "         (my-reduction f fs (next coll))))\n",
    "    ([f init coll]\n",
    "     (if-let [fs (first coll)]\n",
    "         (lazy-seq (cons init (my-reduction f (f init fs) (next coll))))\n",
    "         (list init))))"
   ]
  },
  {
   "cell_type": "code",
   "execution_count": 5,
   "id": "suited-deposit",
   "metadata": {},
   "outputs": [
    {
     "data": {
      "text/plain": [
       "clojure.lang.LazySeq"
      ]
     },
     "execution_count": 5,
     "metadata": {},
     "output_type": "execute_result"
    }
   ],
   "source": [
    "(type (__ + (range 2 7)))"
   ]
  },
  {
   "cell_type": "code",
   "execution_count": 215,
   "id": "professional-shame",
   "metadata": {},
   "outputs": [
    {
     "data": {
      "text/plain": [
       "(2 5 9 14 20)"
      ]
     },
     "execution_count": 215,
     "metadata": {},
     "output_type": "execute_result"
    }
   ],
   "source": [
    "(my-reduction + (range 2 7))"
   ]
  },
  {
   "cell_type": "code",
   "execution_count": 216,
   "id": "continental-stephen",
   "metadata": {},
   "outputs": [
    {
     "data": {
      "text/plain": [
       "(0 1 3 6 10)"
      ]
     },
     "execution_count": 216,
     "metadata": {},
     "output_type": "execute_result"
    }
   ],
   "source": [
    "(take 5 (my-reduction + (range)))"
   ]
  },
  {
   "cell_type": "code",
   "execution_count": 7,
   "id": "united-positive",
   "metadata": {},
   "outputs": [
    {
     "data": {
      "text/plain": [
       "true"
      ]
     },
     "execution_count": 7,
     "metadata": {},
     "output_type": "execute_result"
    }
   ],
   "source": [
    "(= (my-reduction conj [1] [2 3 4]) [[1] [1 2] [1 2 3] [1 2 3 4]])"
   ]
  },
  {
   "cell_type": "code",
   "execution_count": 8,
   "id": "latter-threshold",
   "metadata": {},
   "outputs": [
    {
     "data": {
      "text/plain": [
       "true"
      ]
     },
     "execution_count": 8,
     "metadata": {},
     "output_type": "execute_result"
    }
   ],
   "source": [
    "(= (last (my-reduction * 2 [3 4 5])) (reduce * 2 [3 4 5]) 120)"
   ]
  },
  {
   "cell_type": "code",
   "execution_count": 187,
   "id": "urban-retreat",
   "metadata": {},
   "outputs": [
    {
     "data": {
      "text/plain": [
       "[2 6 24 120]"
      ]
     },
     "execution_count": 187,
     "metadata": {},
     "output_type": "execute_result"
    }
   ],
   "source": [
    "(__ * 2 [3 4 5])"
   ]
  },
  {
   "cell_type": "code",
   "execution_count": 218,
   "id": "sustained-central",
   "metadata": {},
   "outputs": [
    {
     "data": {
      "text/plain": [
       "true"
      ]
     },
     "execution_count": 218,
     "metadata": {},
     "output_type": "execute_result"
    }
   ],
   "source": [
    "(= (__ conj [1] [2 3 4]) [[1] [1 2] [1 2 3] [1 2 3 4]])"
   ]
  },
  {
   "cell_type": "code",
   "execution_count": 219,
   "id": "thirty-cartridge",
   "metadata": {},
   "outputs": [
    {
     "data": {
      "text/plain": [
       "true"
      ]
     },
     "execution_count": 219,
     "metadata": {},
     "output_type": "execute_result"
    }
   ],
   "source": [
    "(= (last (__ * 2 [3 4 5])) (reduce * 2 [3 4 5]) 120)"
   ]
  },
  {
   "cell_type": "code",
   "execution_count": 9,
   "id": "convinced-resort",
   "metadata": {
    "scrolled": false
   },
   "outputs": [
    {
     "data": {
      "text/plain": [
       "true"
      ]
     },
     "execution_count": 9,
     "metadata": {},
     "output_type": "execute_result"
    }
   ],
   "source": [
    "(= (take 5 (my-reduction + (range))) [0 1 3 6 10])"
   ]
  },
  {
   "cell_type": "markdown",
   "id": "plain-alias",
   "metadata": {},
   "source": [
    "## Problem 61, Map Construction\n",
    "Difficulty: easy\n",
    "Write a function which takes a vector of keys and a vector of values and constructs a map from them."
   ]
  },
  {
   "cell_type": "code",
   "execution_count": 110,
   "id": "crucial-board",
   "metadata": {},
   "outputs": [
    {
     "data": {
      "text/plain": [
       "#'user/__"
      ]
     },
     "execution_count": 110,
     "metadata": {},
     "output_type": "execute_result"
    }
   ],
   "source": [
    "(defn __ [ks vs]\n",
    "    (loop [ks ks vs vs\n",
    "           acc {}]\n",
    "        (if (nil? (and (next ks) (next vs)))\n",
    "            (conj acc [(first ks) (first vs)])\n",
    "            (recur (next ks) (next vs) (conj acc [(first ks) (first vs)])))))"
   ]
  },
  {
   "cell_type": "code",
   "execution_count": 113,
   "id": "broke-academy",
   "metadata": {},
   "outputs": [
    {
     "data": {
      "text/plain": [
       "true"
      ]
     },
     "execution_count": 113,
     "metadata": {},
     "output_type": "execute_result"
    }
   ],
   "source": [
    "(= (__ [:a :b :c] [1 2 3]) {:a 1, :b 2, :c 3})"
   ]
  },
  {
   "cell_type": "code",
   "execution_count": 114,
   "id": "organizational-progressive",
   "metadata": {},
   "outputs": [
    {
     "data": {
      "text/plain": [
       "true"
      ]
     },
     "execution_count": 114,
     "metadata": {},
     "output_type": "execute_result"
    }
   ],
   "source": [
    "(= (__ [1 2 3 4] [\"one\" \"two\" \"three\"]) {1 \"one\", 2 \"two\", 3 \"three\"})"
   ]
  },
  {
   "cell_type": "code",
   "execution_count": 115,
   "id": "seventh-watts",
   "metadata": {},
   "outputs": [
    {
     "data": {
      "text/plain": [
       "true"
      ]
     },
     "execution_count": 115,
     "metadata": {},
     "output_type": "execute_result"
    }
   ],
   "source": [
    "(= (__ [:foo :bar] [\"foo\" \"bar\" \"baz\"]) {:foo \"foo\", :bar \"bar\"})"
   ]
  },
  {
   "cell_type": "markdown",
   "id": "daily-newcastle",
   "metadata": {},
   "source": [
    "## Problem 62, Re-implement Iteration\n",
    "Difficulty: easy\n",
    "Given a side-effect free function f and an initial value x write a function which returns an infinite lazy sequence of x, (f x), (f (f x)), (f (f (f x))), etc."
   ]
  },
  {
   "cell_type": "code",
   "execution_count": 133,
   "id": "united-pantyhose",
   "metadata": {},
   "outputs": [
    {
     "data": {
      "text/plain": [
       "#'user/__"
      ]
     },
     "execution_count": 133,
     "metadata": {},
     "output_type": "execute_result"
    }
   ],
   "source": [
    "(defn __ [f x]\n",
    "    (cons x (lazy-seq (__ f (f x)))))"
   ]
  },
  {
   "cell_type": "code",
   "execution_count": 135,
   "id": "antique-collapse",
   "metadata": {},
   "outputs": [
    {
     "data": {
      "text/plain": [
       "true"
      ]
     },
     "execution_count": 135,
     "metadata": {},
     "output_type": "execute_result"
    }
   ],
   "source": [
    "(= (take 5 (__ #(* 2 %) 1)) [1 2 4 8 16])"
   ]
  },
  {
   "cell_type": "code",
   "execution_count": 136,
   "id": "rational-landing",
   "metadata": {},
   "outputs": [
    {
     "data": {
      "text/plain": [
       "true"
      ]
     },
     "execution_count": 136,
     "metadata": {},
     "output_type": "execute_result"
    }
   ],
   "source": [
    "(= (take 100 (__ inc 0)) (take 100 (range)))"
   ]
  },
  {
   "cell_type": "code",
   "execution_count": 137,
   "id": "victorian-officer",
   "metadata": {},
   "outputs": [
    {
     "data": {
      "text/plain": [
       "true"
      ]
     },
     "execution_count": 137,
     "metadata": {},
     "output_type": "execute_result"
    }
   ],
   "source": [
    "(= (take 9 (__ #(inc (mod % 3)) 1)) (take 9 (cycle [1 2 3])))"
   ]
  },
  {
   "cell_type": "markdown",
   "id": "loved-november",
   "metadata": {},
   "source": [
    "## Problem 63, Group a Sequence\n",
    "Difficulty: easy\n",
    "Given a function f and a sequence s, write a function which returns a map. The keys should be the values of f applied to each item in s. The value at each key should be a vector of corresponding items in the order they appear in s."
   ]
  },
  {
   "cell_type": "code",
   "execution_count": 53,
   "id": "eastern-nomination",
   "metadata": {},
   "outputs": [
    {
     "data": {
      "text/plain": [
       "#'user/__"
      ]
     },
     "execution_count": 53,
     "metadata": {},
     "output_type": "execute_result"
    }
   ],
   "source": [
    "(defn __ [f s]\n",
    "    (let [res-type (seq (set (map f s)))]\n",
    "        (zipmap res-type \n",
    "                (map #(filter (fn [x] (= (f x) %)) s) res-type))))"
   ]
  },
  {
   "cell_type": "code",
   "execution_count": 47,
   "id": "designing-platform",
   "metadata": {},
   "outputs": [
    {
     "data": {
      "text/plain": [
       "{true (6 8), false (1 3)}"
      ]
     },
     "execution_count": 47,
     "metadata": {},
     "output_type": "execute_result"
    }
   ],
   "source": [
    "(__ #(> % 5) #{1 3 6 8})"
   ]
  },
  {
   "cell_type": "code",
   "execution_count": 48,
   "id": "reliable-environment",
   "metadata": {},
   "outputs": [
    {
     "data": {
      "text/plain": [
       "{2/3 ([4 6]), 1/2 ([1 2] [2 4] [3 6])}"
      ]
     },
     "execution_count": 48,
     "metadata": {},
     "output_type": "execute_result"
    }
   ],
   "source": [
    "(__ #(apply / %) [[1 2] [2 4] [4 6] [3 6]])"
   ]
  },
  {
   "cell_type": "code",
   "execution_count": 49,
   "id": "seven-cause",
   "metadata": {},
   "outputs": [
    {
     "data": {
      "text/plain": [
       "{1 ([1] [3]), 3 ([1 2 3]), 2 ([1 2] [2 3])}"
      ]
     },
     "execution_count": 49,
     "metadata": {},
     "output_type": "execute_result"
    }
   ],
   "source": [
    "(__ count [[1] [1 2] [3] [1 2 3] [2 3]])"
   ]
  },
  {
   "cell_type": "code",
   "execution_count": 50,
   "id": "presidential-driving",
   "metadata": {},
   "outputs": [
    {
     "data": {
      "text/plain": [
       "true"
      ]
     },
     "execution_count": 50,
     "metadata": {},
     "output_type": "execute_result"
    }
   ],
   "source": [
    "(= (__ #(> % 5) #{1 3 6 8}) {false [1 3], true [6 8]})"
   ]
  },
  {
   "cell_type": "code",
   "execution_count": 51,
   "id": "standard-coupon",
   "metadata": {},
   "outputs": [
    {
     "data": {
      "text/plain": [
       "true"
      ]
     },
     "execution_count": 51,
     "metadata": {},
     "output_type": "execute_result"
    }
   ],
   "source": [
    "(= (__ #(apply / %) [[1 2] [2 4] [4 6] [3 6]])\n",
    "   {1/2 [[1 2] [2 4] [3 6]], 2/3 [[4 6]]})"
   ]
  },
  {
   "cell_type": "code",
   "execution_count": 52,
   "id": "mighty-candidate",
   "metadata": {},
   "outputs": [
    {
     "data": {
      "text/plain": [
       "true"
      ]
     },
     "execution_count": 52,
     "metadata": {},
     "output_type": "execute_result"
    }
   ],
   "source": [
    "(= (__ count [[1] [1 2] [3] [1 2 3] [2 3]])\n",
    "   {1 [[1] [3]], 2 [[1 2] [2 3]], 3 [[1 2 3]]})"
   ]
  },
  {
   "cell_type": "markdown",
   "id": "offensive-presentation",
   "metadata": {},
   "source": [
    "## Problem 65, Black Box Testing\n",
    "Difficulty: medium\n",
    "Clojure has many collection types, which act in subtly different ways. The core functions typically convert them into a uniform \"sequence\" type and work with them that way, but it can be important to understand the behavioral and performance differences so that you know which kind is appropriate for your application. Write a function which takes a collection and returns one of: map, :set, :list, or :vector - describing the type of collection it was given. You won't be allowed to inspect their class or use the built-in predicates like list? - the point is to poke at them and understand their behavior."
   ]
  },
  {
   "cell_type": "code",
   "execution_count": 54,
   "id": "complimentary-observer",
   "metadata": {},
   "outputs": [
    {
     "data": {
      "text/plain": [
       "#'user/__"
      ]
     },
     "execution_count": 54,
     "metadata": {},
     "output_type": "execute_result"
    }
   ],
   "source": [
    "(defn __ [coll]\n",
    "  (cond\n",
    "      (= (:foo (conj coll [:foo :bar])) :bar) :map\n",
    "      (= (count (conj coll :bar :bar)) (count (conj coll :bar))) :set\n",
    "      (= (first (conj coll :foo :bar)) :bar) :list\n",
    "      (= (last (conj coll :foo :bar)) :bar) :vector))"
   ]
  },
  {
   "cell_type": "code",
   "execution_count": 55,
   "id": "instructional-favorite",
   "metadata": {},
   "outputs": [
    {
     "data": {
      "text/plain": [
       "true"
      ]
     },
     "execution_count": 55,
     "metadata": {},
     "output_type": "execute_result"
    }
   ],
   "source": [
    "(= :map (__ {:a 1, :b 2}))"
   ]
  },
  {
   "cell_type": "code",
   "execution_count": 56,
   "id": "diagnostic-national",
   "metadata": {},
   "outputs": [
    {
     "data": {
      "text/plain": [
       "true"
      ]
     },
     "execution_count": 56,
     "metadata": {},
     "output_type": "execute_result"
    }
   ],
   "source": [
    "(= :list (__ (range (rand-int 20))))"
   ]
  },
  {
   "cell_type": "code",
   "execution_count": 57,
   "id": "changing-oriental",
   "metadata": {},
   "outputs": [
    {
     "data": {
      "text/plain": [
       "true"
      ]
     },
     "execution_count": 57,
     "metadata": {},
     "output_type": "execute_result"
    }
   ],
   "source": [
    "(= :vector (__ [1 2 3 4 5 6]))"
   ]
  },
  {
   "cell_type": "code",
   "execution_count": 58,
   "id": "victorian-package",
   "metadata": {},
   "outputs": [
    {
     "data": {
      "text/plain": [
       "true"
      ]
     },
     "execution_count": 58,
     "metadata": {},
     "output_type": "execute_result"
    }
   ],
   "source": [
    "(= :set (__ #{10 (rand-int 5)}))"
   ]
  },
  {
   "cell_type": "markdown",
   "id": "national-motion",
   "metadata": {},
   "source": [
    "## Problem 66, Greatest Common Divisor\n",
    "Difficulty: easy\n",
    "Given two integers, write a function which returns the greatest common divisor."
   ]
  },
  {
   "cell_type": "code",
   "execution_count": 131,
   "id": "first-newman",
   "metadata": {},
   "outputs": [
    {
     "data": {
      "text/plain": [
       "#'user/__"
      ]
     },
     "execution_count": 131,
     "metadata": {},
     "output_type": "execute_result"
    }
   ],
   "source": [
    "(defn __ [& args]\n",
    "    (let [a (apply max args)\n",
    "          b (apply min args)\n",
    "          r (rem a b)]\n",
    "        (if (= r 0)\n",
    "            b\n",
    "            (__ b r))))\n",
    "    "
   ]
  },
  {
   "cell_type": "code",
   "execution_count": 136,
   "id": "earned-video",
   "metadata": {},
   "outputs": [
    {
     "data": {
      "text/plain": [
       "#'user/__"
      ]
     },
     "execution_count": 136,
     "metadata": {},
     "output_type": "execute_result"
    }
   ],
   "source": [
    "(defn __ [& args]\n",
    "    (loop [a (apply max args)          \n",
    "           b (apply min args)\n",
    "           r (rem a b)]\n",
    "        (if (= r 0)\n",
    "            b\n",
    "            (recur b r (rem a b)))))"
   ]
  },
  {
   "cell_type": "code",
   "execution_count": 141,
   "id": "about-sense",
   "metadata": {},
   "outputs": [
    {
     "data": {
      "text/plain": [
       "true"
      ]
     },
     "execution_count": 141,
     "metadata": {},
     "output_type": "execute_result"
    }
   ],
   "source": [
    "(= (__ 2 4) 2)"
   ]
  },
  {
   "cell_type": "code",
   "execution_count": 142,
   "id": "coated-yugoslavia",
   "metadata": {},
   "outputs": [
    {
     "data": {
      "text/plain": [
       "true"
      ]
     },
     "execution_count": 142,
     "metadata": {},
     "output_type": "execute_result"
    }
   ],
   "source": [
    "(= (__ 10 5) 5)"
   ]
  },
  {
   "cell_type": "code",
   "execution_count": 143,
   "id": "stupid-button",
   "metadata": {},
   "outputs": [
    {
     "data": {
      "text/plain": [
       "true"
      ]
     },
     "execution_count": 143,
     "metadata": {},
     "output_type": "execute_result"
    }
   ],
   "source": [
    "(= (__ 5 7) 1)"
   ]
  },
  {
   "cell_type": "code",
   "execution_count": 144,
   "id": "temporal-excerpt",
   "metadata": {},
   "outputs": [
    {
     "data": {
      "text/plain": [
       "true"
      ]
     },
     "execution_count": 144,
     "metadata": {},
     "output_type": "execute_result"
    }
   ],
   "source": [
    "(= (__ 1023 858) 33)"
   ]
  },
  {
   "cell_type": "markdown",
   "id": "enhanced-fundamentals",
   "metadata": {},
   "source": [
    "## Problem 67, Prime Numbers\n",
    "Difficulty: medium\n",
    "Write a function which returns the first x number of prime numbers."
   ]
  },
  {
   "cell_type": "code",
   "execution_count": 188,
   "id": "fitted-bradford",
   "metadata": {},
   "outputs": [
    {
     "data": {
      "text/plain": [
       "#'user/__"
      ]
     },
     "execution_count": 188,
     "metadata": {},
     "output_type": "execute_result"
    }
   ],
   "source": [
    "(defn __ [n]\n",
    "    (loop [coll (iterate inc 2)\n",
    "           s 2\n",
    "           res []]\n",
    "        (if (= n (count res))\n",
    "            res\n",
    "            (recur (remove #(= 0 (rem % s)) coll) (first (remove #(= 0 (rem % s)) coll)) (conj res s)))))"
   ]
  },
  {
   "cell_type": "code",
   "execution_count": 190,
   "id": "ethical-salon",
   "metadata": {},
   "outputs": [
    {
     "data": {
      "text/plain": [
       "[2 3]"
      ]
     },
     "execution_count": 190,
     "metadata": {},
     "output_type": "execute_result"
    }
   ],
   "source": [
    "(__ 2)"
   ]
  },
  {
   "cell_type": "code",
   "execution_count": 191,
   "id": "serious-canberra",
   "metadata": {},
   "outputs": [
    {
     "data": {
      "text/plain": [
       "true"
      ]
     },
     "execution_count": 191,
     "metadata": {},
     "output_type": "execute_result"
    }
   ],
   "source": [
    "(= (__ 2) [2 3])"
   ]
  },
  {
   "cell_type": "code",
   "execution_count": 192,
   "id": "golden-leave",
   "metadata": {},
   "outputs": [
    {
     "data": {
      "text/plain": [
       "true"
      ]
     },
     "execution_count": 192,
     "metadata": {},
     "output_type": "execute_result"
    }
   ],
   "source": [
    "(= (__ 5) [2 3 5 7 11])"
   ]
  },
  {
   "cell_type": "code",
   "execution_count": 193,
   "id": "processed-capitol",
   "metadata": {},
   "outputs": [
    {
     "data": {
      "text/plain": [
       "true"
      ]
     },
     "execution_count": 193,
     "metadata": {},
     "output_type": "execute_result"
    }
   ],
   "source": [
    "(= (last (__ 100)) 541)"
   ]
  },
  {
   "cell_type": "markdown",
   "id": "romance-health",
   "metadata": {},
   "source": [
    "## Problem 68, Recurring Theme\n",
    "Difficulty: elementary\n",
    "Clojure only has one non-stack-consuming looping construct: recur. Either a function or a loop can be used as the recursion point. Either way, recur rebinds the bindings of the recursion point to the values it is passed. Recur must be called from the tail-position, and calling it elsewhere will result in an error."
   ]
  },
  {
   "cell_type": "code",
   "execution_count": 196,
   "id": "formed-convertible",
   "metadata": {},
   "outputs": [
    {
     "data": {
      "text/plain": [
       "#'user/__"
      ]
     },
     "execution_count": 196,
     "metadata": {},
     "output_type": "execute_result"
    }
   ],
   "source": [
    "(def __ [7 6 5 4 3])"
   ]
  },
  {
   "cell_type": "code",
   "execution_count": 197,
   "id": "bright-roman",
   "metadata": {},
   "outputs": [
    {
     "data": {
      "text/plain": [
       "true"
      ]
     },
     "execution_count": 197,
     "metadata": {},
     "output_type": "execute_result"
    }
   ],
   "source": [
    "(= __\n",
    "  (loop [x 5\n",
    "         result []]\n",
    "    (if (> x 0)\n",
    "      (recur (dec x) (conj result (+ 2 x)))\n",
    "      result)))"
   ]
  },
  {
   "cell_type": "markdown",
   "id": "overall-philippines",
   "metadata": {},
   "source": [
    "## Problem 69, Merge with a Function\n",
    "Difficulty: medium\n",
    "Write a function which takes a function f and a variable number of maps. Your function should return a map that consists of the rest of the maps conj-ed onto the first. If a key occurs in more than one map, the mapping(s) from the latter (left-to-right) should be combined with the mapping in the result by calling (f val-in-result val-in-latter)"
   ]
  },
  {
   "cell_type": "code",
   "execution_count": 361,
   "id": "answering-health",
   "metadata": {},
   "outputs": [
    {
     "data": {
      "text/plain": [
       "#'user/__"
      ]
     },
     "execution_count": 361,
     "metadata": {},
     "output_type": "execute_result"
    }
   ],
   "source": [
    "(defn __ [f & ms]\n",
    "    (let [ks (vec (set (mapcat keys ms)))]\n",
    "        (zipmap ks (map #(reduce f %) (map #(remove nil? %) (apply map vector (map #(map % ks) ms)))))))"
   ]
  },
  {
   "cell_type": "code",
   "execution_count": 378,
   "id": "experienced-czech",
   "metadata": {},
   "outputs": [
    {
     "data": {
      "text/plain": [
       "#'user/__"
      ]
     },
     "execution_count": 378,
     "metadata": {},
     "output_type": "execute_result"
    }
   ],
   "source": [
    "(defn __ [f & ms]\n",
    "    (let [ks (vec (set (mapcat keys ms)))]\n",
    "        (->>\n",
    "            (apply map vector (map #(map % ks) ms))\n",
    "            (map #(remove nil? %))\n",
    "            (map #(reduce f %))\n",
    "            (zipmap ks))))"
   ]
  },
  {
   "cell_type": "code",
   "execution_count": 372,
   "id": "adjusted-variety",
   "metadata": {
    "scrolled": true
   },
   "outputs": [
    {
     "data": {
      "text/plain": [
       "{:c 20, :b 6, :a 4}"
      ]
     },
     "execution_count": 372,
     "metadata": {},
     "output_type": "execute_result"
    }
   ],
   "source": [
    "(__ * {:a 2, :b 3, :c 4} {:a 2} {:b 2} {:c 5})"
   ]
  },
  {
   "cell_type": "code",
   "execution_count": 373,
   "id": "korean-cooperative",
   "metadata": {},
   "outputs": [
    {
     "data": {
      "text/plain": [
       "{1 7, 3 15, 2 10}"
      ]
     },
     "execution_count": 373,
     "metadata": {},
     "output_type": "execute_result"
    }
   ],
   "source": [
    "(__ - {1 10, 2 20} {1 3, 2 10, 3 15})"
   ]
  },
  {
   "cell_type": "code",
   "execution_count": 374,
   "id": "graphic-sunrise",
   "metadata": {},
   "outputs": [
    {
     "data": {
      "text/plain": [
       "{:c [8 9], :b (6 7), :a (3 4 5)}"
      ]
     },
     "execution_count": 374,
     "metadata": {},
     "output_type": "execute_result"
    }
   ],
   "source": [
    "(__ concat {:a [3], :b [6]} {:a [4 5], :c [8 9]} {:b [7]})"
   ]
  },
  {
   "cell_type": "code",
   "execution_count": 375,
   "id": "romance-seating",
   "metadata": {},
   "outputs": [
    {
     "data": {
      "text/plain": [
       "true"
      ]
     },
     "execution_count": 375,
     "metadata": {},
     "output_type": "execute_result"
    }
   ],
   "source": [
    "(= (__ * {:a 2, :b 3, :c 4} {:a 2} {:b 2} {:c 5})\n",
    "   {:a 4, :b 6, :c 20})"
   ]
  },
  {
   "cell_type": "code",
   "execution_count": 376,
   "id": "prospective-height",
   "metadata": {},
   "outputs": [
    {
     "data": {
      "text/plain": [
       "true"
      ]
     },
     "execution_count": 376,
     "metadata": {},
     "output_type": "execute_result"
    }
   ],
   "source": [
    "(= (__ - {1 10, 2 20} {1 3, 2 10, 3 15})\n",
    "   {1 7, 2 10, 3 15})"
   ]
  },
  {
   "cell_type": "code",
   "execution_count": 377,
   "id": "encouraging-impression",
   "metadata": {},
   "outputs": [
    {
     "data": {
      "text/plain": [
       "true"
      ]
     },
     "execution_count": 377,
     "metadata": {},
     "output_type": "execute_result"
    }
   ],
   "source": [
    "(= (__ concat {:a [3], :b [6]} {:a [4 5], :c [8 9]} {:b [7]})\n",
    "   {:a [3 4 5], :b [6 7], :c [8 9]})"
   ]
  },
  {
   "cell_type": "markdown",
   "id": "temporal-library",
   "metadata": {},
   "source": [
    "## Problem 70, Word Sorting\n",
    "Difficulty: medium\n",
    "Write a function which splits a sentence up into a sorted list of words. Capitalization should not affect sort order and punctuation should be ignored."
   ]
  },
  {
   "cell_type": "code",
   "execution_count": 662,
   "id": "weighted-chicken",
   "metadata": {},
   "outputs": [
    {
     "data": {
      "text/plain": [
       "user.myform"
      ]
     },
     "execution_count": 662,
     "metadata": {},
     "output_type": "execute_result"
    }
   ],
   "source": [
    "(defrecord myform [a b c])"
   ]
  },
  {
   "cell_type": "code",
   "execution_count": 663,
   "id": "silent-picture",
   "metadata": {},
   "outputs": [
    {
     "data": {
      "text/plain": [
       "#'user/myForm"
      ]
     },
     "execution_count": 663,
     "metadata": {},
     "output_type": "execute_result"
    }
   ],
   "source": [
    "(def myForm (->myform 11 22 333))"
   ]
  },
  {
   "cell_type": "code",
   "execution_count": 664,
   "id": "worldwide-short",
   "metadata": {},
   "outputs": [
    {
     "data": {
      "text/plain": [
       "#user.myform{:a 11, :b 22, :c 333}"
      ]
     },
     "execution_count": 664,
     "metadata": {},
     "output_type": "execute_result"
    }
   ],
   "source": [
    "myForm"
   ]
  },
  {
   "cell_type": "code",
   "execution_count": 661,
   "id": "usual-knock",
   "metadata": {},
   "outputs": [
    {
     "name": "stderr",
     "output_type": "stream",
     "text": [
      "Execution error at nrepl.middleware.interruptible-eval/evaluate (interruptible_eval.clj:79).\n",
      "Expecting var, but aa is mapped to class user.aa\n"
     ]
    },
    {
     "ename": "class java.lang.RuntimeException",
     "evalue": "",
     "output_type": "error",
     "traceback": [
      "  Util.java:   221 clojure.lang.Util/runtimeException",
      "   core.clj:  3214 clojure.core$eval/invokeStatic",
      "   core.clj:  3210 clojure.core$eval/invoke",
      "   main.clj:   437 clojure.main$repl$read_eval_print__9086$fn__9089/invoke",
      "   main.clj:   458 clojure.main$repl$fn__9095/invoke",
      "   main.clj:   368 clojure.main$repl/doInvoke",
      "RestFn.java:  1523 clojure.lang.RestFn/invoke",
      "   AFn.java:    22 clojure.lang.AFn/run",
      "   AFn.java:    22 clojure.lang.AFn/run",
      "Thread.java:   748 java.lang.Thread/run"
     ]
    }
   ],
   "source": [
    "(aa [1 2 3])"
   ]
  },
  {
   "cell_type": "code",
   "execution_count": 672,
   "id": "temporal-population",
   "metadata": {},
   "outputs": [
    {
     "data": {
      "text/plain": [
       "#'user/__"
      ]
     },
     "execution_count": 672,
     "metadata": {},
     "output_type": "execute_result"
    }
   ],
   "source": [
    "(defn __ [s]\n",
    "    (let [imp-scol (clojure.string/split s #\" \")\n",
    "          scol (map #(clojure.string/replace % #\"[.?!]\" \"\") imp-scol)\n",
    "          ]\n",
    "        (defrecord Word [txt len fchar])\n",
    "        (->> scol\n",
    "            (map first)\n",
    "            (map clojure.string/lower-case)\n",
    "            (map (comp int first seq))\n",
    "            (zipmap scol)\n",
    ";;             (apply sorted-map)\n",
    ";;             (zipmap scol) vec (sort-by last)\n",
    "            \n",
    ";;             (group-by #(last %))\n",
    ";;             vals\n",
    ";;             (map first)\n",
    ";;             (#(zipmap (keys %) (vals %)))\n",
    ";;             first\n",
    ";;             (map first)\n",
    ";;             (map #(sort-by count (fnext %)))\n",
    ";;             vals ; 첫글자 같은 그룹 별로 모은 맵의 값만 모은것\n",
    ";;             (map first)\n",
    ";;             (#(map first (vals %)))\n",
    ";;             (map #(count (last %)))\n",
    ";;             (mapv first)\n",
    ";;             (sort-by count)\n",
    "\n",
    "\n",
    "          )))"
   ]
  },
  {
   "cell_type": "markdown",
   "id": "opening-monster",
   "metadata": {},
   "source": [
    "이해될때까지 계속 보자"
   ]
  },
  {
   "cell_type": "code",
   "execution_count": 675,
   "id": "antique-victoria",
   "metadata": {},
   "outputs": [
    {
     "data": {
      "text/plain": [
       "#'user/__"
      ]
     },
     "execution_count": 675,
     "metadata": {},
     "output_type": "execute_result"
    }
   ],
   "source": [
    "(defn __ [statement]\n",
    "  (sort-by \n",
    "    #(clojure.string/lower-case %)  \n",
    "    (re-seq #\"\\w+\" statement)))"
   ]
  },
  {
   "cell_type": "code",
   "execution_count": 676,
   "id": "split-boutique",
   "metadata": {},
   "outputs": [
    {
     "data": {
      "text/plain": [
       "(\"a\" \"day\" \"Have\" \"nice\")"
      ]
     },
     "execution_count": 676,
     "metadata": {},
     "output_type": "execute_result"
    }
   ],
   "source": [
    "(__  \"Have a nice day.\")"
   ]
  },
  {
   "cell_type": "code",
   "execution_count": 677,
   "id": "expanded-monster",
   "metadata": {},
   "outputs": [
    {
     "data": {
      "text/plain": [
       "(\"a\" \"Clojure\" \"fun\" \"is\" \"language\")"
      ]
     },
     "execution_count": 677,
     "metadata": {},
     "output_type": "execute_result"
    }
   ],
   "source": [
    "(__  \"Clojure is a fun language!\")"
   ]
  },
  {
   "cell_type": "code",
   "execution_count": 678,
   "id": "backed-indonesian",
   "metadata": {},
   "outputs": [
    {
     "data": {
      "text/plain": [
       "(\"fall\" \"follies\" \"foolish\" \"Fools\" \"for\")"
      ]
     },
     "execution_count": 678,
     "metadata": {},
     "output_type": "execute_result"
    }
   ],
   "source": [
    "(__  \"Fools fall for foolish follies.\")"
   ]
  },
  {
   "cell_type": "code",
   "execution_count": 679,
   "id": "signed-demographic",
   "metadata": {},
   "outputs": [
    {
     "data": {
      "text/plain": [
       "true"
      ]
     },
     "execution_count": 679,
     "metadata": {},
     "output_type": "execute_result"
    }
   ],
   "source": [
    "(= (__  \"Have a nice day.\")\n",
    "   [\"a\" \"day\" \"Have\" \"nice\"])"
   ]
  },
  {
   "cell_type": "code",
   "execution_count": 680,
   "id": "adjacent-prefix",
   "metadata": {},
   "outputs": [
    {
     "data": {
      "text/plain": [
       "true"
      ]
     },
     "execution_count": 680,
     "metadata": {},
     "output_type": "execute_result"
    }
   ],
   "source": [
    "(= (__  \"Clojure is a fun language!\")\n",
    "   [\"a\" \"Clojure\" \"fun\" \"is\" \"language\"])"
   ]
  },
  {
   "cell_type": "code",
   "execution_count": 681,
   "id": "vital-poison",
   "metadata": {},
   "outputs": [
    {
     "data": {
      "text/plain": [
       "true"
      ]
     },
     "execution_count": 681,
     "metadata": {},
     "output_type": "execute_result"
    }
   ],
   "source": [
    "(= (__  \"Fools fall for foolish follies.\")\n",
    "   [\"fall\" \"follies\" \"foolish\" \"Fools\" \"for\"])"
   ]
  },
  {
   "cell_type": "markdown",
   "id": "tamil-transsexual",
   "metadata": {},
   "source": [
    "## Problem 71, Rearranging Code: ->\n",
    "Difficulty: elementary\n",
    "The -> macro threads an expression x through a variable number of forms. First, x is inserted as the second item in the first form, making a list of it if it is not a list already. Then the first form is inserted as the second item in the second form, making a list of that form if necessary. This process continues for all the forms. Using -> can sometimes make your code more readable."
   ]
  },
  {
   "cell_type": "code",
   "execution_count": null,
   "id": "valuable-whale",
   "metadata": {},
   "outputs": [],
   "source": []
  },
  {
   "cell_type": "code",
   "execution_count": 683,
   "id": "adopted-samuel",
   "metadata": {},
   "outputs": [
    {
     "data": {
      "text/plain": [
       "5"
      ]
     },
     "execution_count": 683,
     "metadata": {},
     "output_type": "execute_result"
    }
   ],
   "source": [
    "(last (sort (rest (reverse [2 5 4 1 3 6]))))"
   ]
  },
  {
   "cell_type": "code",
   "execution_count": null,
   "id": "concerned-night",
   "metadata": {},
   "outputs": [],
   "source": [
    "(= (__ (sort (rest (reverse [2 5 4 1 3 6]))))\n",
    "   (-> [2 5 4 1 3 6] reverse rest sort __)\n",
    "   5)"
   ]
  },
  {
   "cell_type": "code",
   "execution_count": null,
   "id": "czech-donna",
   "metadata": {},
   "outputs": [],
   "source": []
  },
  {
   "cell_type": "markdown",
   "id": "polyphonic-catalog",
   "metadata": {},
   "source": [
    "## Problem 72, Rearranging Code: ->>\n",
    "Difficulty: elementary\n",
    "The ->> macro threads an expression x through a variable number of forms. First, x is inserted as the last item in the first form, making a list of it if it is not a list already. Then the first form is inserted as the last item in the second form, making a list of that form if necessary. This process continues for all the forms. Using ->> can sometimes make your code more readable."
   ]
  },
  {
   "cell_type": "code",
   "execution_count": 684,
   "id": "strange-bronze",
   "metadata": {},
   "outputs": [
    {
     "data": {
      "text/plain": [
       "(5 2 4)"
      ]
     },
     "execution_count": 684,
     "metadata": {},
     "output_type": "execute_result"
    }
   ],
   "source": [
    "(map inc (take 3 (drop 2 [2 5 4 1 3 6])))"
   ]
  },
  {
   "cell_type": "code",
   "execution_count": 686,
   "id": "flexible-strain",
   "metadata": {},
   "outputs": [
    {
     "data": {
      "text/plain": [
       "11"
      ]
     },
     "execution_count": 686,
     "metadata": {},
     "output_type": "execute_result"
    }
   ],
   "source": [
    "(reduce + (map inc (take 3 (drop 2 [2 5 4 1 3 6]))))"
   ]
  },
  {
   "cell_type": "code",
   "execution_count": null,
   "id": "lightweight-pressing",
   "metadata": {},
   "outputs": [],
   "source": [
    "(= (__ (map inc (take 3 (drop 2 [2 5 4 1 3 6]))))\n",
    "   (->> [2 5 4 1 3 6] (drop 2) (take 3) (map inc) (__))\n",
    "   11)"
   ]
  },
  {
   "cell_type": "markdown",
   "id": "dominant-wellington",
   "metadata": {},
   "source": [
    "## Problem 73, Analyze a Tic-Tac-Toe Board\n",
    "Difficulty: hard\n",
    "A tic-tac-toe board is represented by a two dimensional vector. X is represented by :x, O is represented by :o, and empty is represented by :e. A player wins by placing three Xs or three Os in a horizontal, vertical, or diagonal row. Write a function which analyzes a tic-tac-toe board and returns :x if X has won, :o if O has won, and nil if neither player has won."
   ]
  },
  {
   "cell_type": "code",
   "execution_count": 791,
   "id": "popular-pledge",
   "metadata": {},
   "outputs": [
    {
     "data": {
      "text/plain": [
       "#'user/__"
      ]
     },
     "execution_count": 791,
     "metadata": {},
     "output_type": "execute_result"
    }
   ],
   "source": [
    "(defn __ [v]\n",
    "    (let [f-v v\n",
    "          r-v (apply map vector v)\n",
    "          d-v [(map #(get-in v %) [[0 0] [1 1] [2 2]])\n",
    "               (map #(get-in v %) [[0 2] [1 1] [2 0]])]]\n",
    "        (cond\n",
    "            (some true? (map (fn [t] (some true? (map #(= [:o :o :o] %) t))) [f-v r-v d-v])) :o\n",
    "            (some true? (map (fn [t] (some true? (map #(= [:x :x :x] %) t))) [f-v r-v d-v])) :x\n",
    "            )))"
   ]
  },
  {
   "cell_type": "code",
   "execution_count": 799,
   "id": "internal-trust",
   "metadata": {},
   "outputs": [
    {
     "data": {
      "text/plain": [
       "#function[user/eval8570/fn--8572]"
      ]
     },
     "execution_count": 799,
     "metadata": {},
     "output_type": "execute_result"
    }
   ],
   "source": [
    "(fn [[a b c]]\n",
    "  (let [q (into [a b c \n",
    "                 [(first a)(second b)(last c)]\n",
    "                 [(first c)(second b)(last a)]] (map vector a b c))\n",
    "        won? (fn [[x & r]] (when (and (apply = x r) (not= :e x)) x))]\n",
    "       (first (remove nil? (map won? q)))))"
   ]
  },
  {
   "cell_type": "code",
   "execution_count": 792,
   "id": "advanced-resistance",
   "metadata": {},
   "outputs": [
    {
     "data": {
      "text/plain": [
       "true"
      ]
     },
     "execution_count": 792,
     "metadata": {},
     "output_type": "execute_result"
    }
   ],
   "source": [
    "(= nil (__ [[:e :e :e]\n",
    "            [:e :e :e]\n",
    "            [:e :e :e]]))"
   ]
  },
  {
   "cell_type": "code",
   "execution_count": 793,
   "id": "separate-calgary",
   "metadata": {},
   "outputs": [
    {
     "data": {
      "text/plain": [
       "true"
      ]
     },
     "execution_count": 793,
     "metadata": {},
     "output_type": "execute_result"
    }
   ],
   "source": [
    "(= :x (__ [[:x :e :o]\n",
    "           [:x :e :e]\n",
    "           [:x :e :o]]))"
   ]
  },
  {
   "cell_type": "code",
   "execution_count": 794,
   "id": "british-chrome",
   "metadata": {},
   "outputs": [
    {
     "data": {
      "text/plain": [
       "true"
      ]
     },
     "execution_count": 794,
     "metadata": {},
     "output_type": "execute_result"
    }
   ],
   "source": [
    "(= :o (__ [[:e :x :e]\n",
    "           [:o :o :o]\n",
    "           [:x :e :x]]))"
   ]
  },
  {
   "cell_type": "code",
   "execution_count": 795,
   "id": "stunning-title",
   "metadata": {},
   "outputs": [
    {
     "data": {
      "text/plain": [
       "true"
      ]
     },
     "execution_count": 795,
     "metadata": {},
     "output_type": "execute_result"
    }
   ],
   "source": [
    "(= nil (__ [[:x :e :o]\n",
    "            [:x :x :e]\n",
    "            [:o :x :o]]))"
   ]
  },
  {
   "cell_type": "code",
   "execution_count": 796,
   "id": "alternate-consolidation",
   "metadata": {},
   "outputs": [
    {
     "data": {
      "text/plain": [
       "true"
      ]
     },
     "execution_count": 796,
     "metadata": {},
     "output_type": "execute_result"
    }
   ],
   "source": [
    "(= :x (__ [[:x :e :e]\n",
    "           [:o :x :e]\n",
    "           [:o :e :x]]))"
   ]
  },
  {
   "cell_type": "code",
   "execution_count": 797,
   "id": "unknown-lighting",
   "metadata": {},
   "outputs": [
    {
     "data": {
      "text/plain": [
       "true"
      ]
     },
     "execution_count": 797,
     "metadata": {},
     "output_type": "execute_result"
    }
   ],
   "source": [
    "(= :o (__ [[:x :e :o]\n",
    "           [:x :o :e]\n",
    "           [:o :e :x]]))"
   ]
  },
  {
   "cell_type": "code",
   "execution_count": 798,
   "id": "single-immunology",
   "metadata": {},
   "outputs": [
    {
     "data": {
      "text/plain": [
       "true"
      ]
     },
     "execution_count": 798,
     "metadata": {},
     "output_type": "execute_result"
    }
   ],
   "source": [
    "(= nil (__ [[:x :o :x]\n",
    "            [:x :o :x]\n",
    "            [:o :x :o]]))"
   ]
  },
  {
   "cell_type": "markdown",
   "id": "heavy-intranet",
   "metadata": {},
   "source": [
    "## Problem 74, Filter Perfect Squares\n",
    "Difficulty: medium\n",
    "Given a string of comma separated integers, write a function which returns a new comma separated string that only contains the numbers which are perfect squares."
   ]
  },
  {
   "cell_type": "code",
   "execution_count": 46,
   "id": "initial-billy",
   "metadata": {},
   "outputs": [
    {
     "data": {
      "text/plain": [
       "#'user/__"
      ]
     },
     "execution_count": 46,
     "metadata": {},
     "output_type": "execute_result"
    }
   ],
   "source": [
    "(defn __ [s]\n",
    "    (let [sqns (map #(* % %) (iterate inc 1))\n",
    "          splts (->> (clojure.string/split s #\",\") (map read-string))\n",
    "          maxn (apply max splts)\n",
    "          t-sqns (vec (take maxn sqns))]\n",
    "        (->> (filter (fn [x] (some #(= x %) t-sqns)) splts)\n",
    "            (clojure.string/join \",\"))))"
   ]
  },
  {
   "cell_type": "code",
   "execution_count": 47,
   "id": "worthy-failure",
   "metadata": {},
   "outputs": [
    {
     "data": {
      "text/plain": [
       "\"4,9\""
      ]
     },
     "execution_count": 47,
     "metadata": {},
     "output_type": "execute_result"
    }
   ],
   "source": [
    "(__ \"4,5,6,7,8,9\")"
   ]
  },
  {
   "cell_type": "code",
   "execution_count": 48,
   "id": "short-squad",
   "metadata": {
    "scrolled": true
   },
   "outputs": [
    {
     "data": {
      "text/plain": [
       "\"16,25,36\""
      ]
     },
     "execution_count": 48,
     "metadata": {},
     "output_type": "execute_result"
    }
   ],
   "source": [
    "(__ \"15,16,25,36,37\")"
   ]
  },
  {
   "cell_type": "code",
   "execution_count": 49,
   "id": "knowing-disability",
   "metadata": {},
   "outputs": [
    {
     "data": {
      "text/plain": [
       "true"
      ]
     },
     "execution_count": 49,
     "metadata": {},
     "output_type": "execute_result"
    }
   ],
   "source": [
    "(= (__ \"4,5,6,7,8,9\") \"4,9\")"
   ]
  },
  {
   "cell_type": "code",
   "execution_count": 50,
   "id": "deluxe-brown",
   "metadata": {},
   "outputs": [
    {
     "data": {
      "text/plain": [
       "true"
      ]
     },
     "execution_count": 50,
     "metadata": {},
     "output_type": "execute_result"
    }
   ],
   "source": [
    "(= (__ \"15,16,25,36,37\") \"16,25,36\")"
   ]
  },
  {
   "cell_type": "markdown",
   "id": "broken-basement",
   "metadata": {},
   "source": [
    "## Problem 75, Euler's Totient Function\n",
    "Difficulty: medium\n",
    "Two numbers are coprime if their greatest common divisor equals 1. Euler's totient function f(x) is defined as the number of positive integers less than x which are coprime to x. The special case f(1) equals 1. Write a function which calculates Euler's totient function."
   ]
  },
  {
   "cell_type": "code",
   "execution_count": null,
   "id": "egyptian-appraisal",
   "metadata": {},
   "outputs": [],
   "source": []
  },
  {
   "cell_type": "code",
   "execution_count": null,
   "id": "wired-mortality",
   "metadata": {},
   "outputs": [],
   "source": []
  },
  {
   "cell_type": "code",
   "execution_count": null,
   "id": "strong-shirt",
   "metadata": {},
   "outputs": [],
   "source": []
  },
  {
   "cell_type": "code",
   "execution_count": null,
   "id": "universal-render",
   "metadata": {},
   "outputs": [],
   "source": []
  },
  {
   "cell_type": "code",
   "execution_count": null,
   "id": "positive-victory",
   "metadata": {},
   "outputs": [],
   "source": []
  },
  {
   "cell_type": "code",
   "execution_count": null,
   "id": "published-protection",
   "metadata": {},
   "outputs": [],
   "source": []
  },
  {
   "cell_type": "code",
   "execution_count": null,
   "id": "superior-wages",
   "metadata": {},
   "outputs": [],
   "source": []
  },
  {
   "cell_type": "code",
   "execution_count": null,
   "id": "consecutive-module",
   "metadata": {},
   "outputs": [],
   "source": []
  },
  {
   "cell_type": "code",
   "execution_count": null,
   "id": "living-protein",
   "metadata": {},
   "outputs": [],
   "source": []
  },
  {
   "cell_type": "code",
   "execution_count": null,
   "id": "functional-patrol",
   "metadata": {},
   "outputs": [],
   "source": []
  },
  {
   "cell_type": "code",
   "execution_count": null,
   "id": "recorded-zimbabwe",
   "metadata": {},
   "outputs": [],
   "source": []
  },
  {
   "cell_type": "code",
   "execution_count": null,
   "id": "virgin-quantum",
   "metadata": {},
   "outputs": [],
   "source": []
  },
  {
   "cell_type": "code",
   "execution_count": null,
   "id": "aging-treasury",
   "metadata": {},
   "outputs": [],
   "source": []
  },
  {
   "cell_type": "code",
   "execution_count": null,
   "id": "anticipated-greek",
   "metadata": {},
   "outputs": [],
   "source": []
  },
  {
   "cell_type": "code",
   "execution_count": null,
   "id": "automotive-fourth",
   "metadata": {},
   "outputs": [],
   "source": []
  },
  {
   "cell_type": "code",
   "execution_count": null,
   "id": "harmful-iceland",
   "metadata": {},
   "outputs": [],
   "source": []
  },
  {
   "cell_type": "code",
   "execution_count": null,
   "id": "southwest-locator",
   "metadata": {},
   "outputs": [],
   "source": []
  },
  {
   "cell_type": "code",
   "execution_count": null,
   "id": "southwest-andorra",
   "metadata": {},
   "outputs": [],
   "source": []
  },
  {
   "cell_type": "code",
   "execution_count": null,
   "id": "ethical-karma",
   "metadata": {},
   "outputs": [],
   "source": []
  },
  {
   "cell_type": "code",
   "execution_count": null,
   "id": "thermal-sheffield",
   "metadata": {},
   "outputs": [],
   "source": []
  },
  {
   "cell_type": "code",
   "execution_count": null,
   "id": "handmade-friday",
   "metadata": {},
   "outputs": [],
   "source": []
  },
  {
   "cell_type": "code",
   "execution_count": null,
   "id": "interstate-mechanics",
   "metadata": {},
   "outputs": [],
   "source": []
  },
  {
   "cell_type": "code",
   "execution_count": null,
   "id": "corporate-cooperation",
   "metadata": {},
   "outputs": [],
   "source": []
  }
 ],
 "metadata": {
  "kernelspec": {
   "display_name": "Clojure (clojupyter-0.3.2)",
   "language": "clojure",
   "name": "clojupyter-0.3.2"
  },
  "language_info": {
   "file_extension": ".clj",
   "mimetype": "text/x-clojure",
   "name": "clojure",
   "version": "1.10.1"
  },
  "toc": {
   "base_numbering": 1,
   "nav_menu": {},
   "number_sections": false,
   "sideBar": true,
   "skip_h1_title": false,
   "title_cell": "Table of Contents",
   "title_sidebar": "Contents",
   "toc_cell": false,
   "toc_position": {
    "height": "calc(100% - 180px)",
    "left": "10px",
    "top": "150px",
    "width": "242.101px"
   },
   "toc_section_display": true,
   "toc_window_display": false
  },
  "varInspector": {
   "cols": {
    "lenName": 16,
    "lenType": 16,
    "lenVar": 40
   },
   "kernels_config": {
    "python": {
     "delete_cmd_postfix": "",
     "delete_cmd_prefix": "del ",
     "library": "var_list.py",
     "varRefreshCmd": "print(var_dic_list())"
    },
    "r": {
     "delete_cmd_postfix": ") ",
     "delete_cmd_prefix": "rm(",
     "library": "var_list.r",
     "varRefreshCmd": "cat(var_dic_list()) "
    }
   },
   "types_to_exclude": [
    "module",
    "function",
    "builtin_function_or_method",
    "instance",
    "_Feature"
   ],
   "window_display": false
  }
 },
 "nbformat": 4,
 "nbformat_minor": 5
}
