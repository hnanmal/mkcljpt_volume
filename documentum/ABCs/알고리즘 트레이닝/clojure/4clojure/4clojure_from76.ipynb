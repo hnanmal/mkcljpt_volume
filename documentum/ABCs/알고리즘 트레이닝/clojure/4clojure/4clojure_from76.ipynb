{
 "cells": [
  {
   "cell_type": "markdown",
   "id": "western-traveler",
   "metadata": {},
   "source": [
    "## Problem 76, Intro to Trampoline\n",
    "Difficulty: medium\n",
    "The trampoline function takes a function f and a variable number of parameters. Trampoline calls f with any parameters that were supplied. If f returns a function, trampoline calls that function with no arguments. This is repeated, until the return value is not a function, and then trampoline returns that non-function value. This is useful for implementing mutually recursive algorithms in a way that won't consume the stack."
   ]
  },
  {
   "cell_type": "code",
   "execution_count": 1,
   "id": "completed-birthday",
   "metadata": {},
   "outputs": [
    {
     "data": {
      "text/plain": [
       "[1 3 5 7 9 11]"
      ]
     },
     "execution_count": 1,
     "metadata": {},
     "output_type": "execute_result"
    }
   ],
   "source": [
    "(letfn\n",
    "     [(foo [x y] #(bar (conj x y) y))\n",
    "      (bar [x y] (if (> (last x) 10)\n",
    "                   x\n",
    "                   #(foo x (+ 2 y))))]\n",
    "     (trampoline foo [] 1))"
   ]
  },
  {
   "cell_type": "code",
   "execution_count": 3,
   "id": "dramatic-profit",
   "metadata": {},
   "outputs": [
    {
     "data": {
      "text/plain": [
       "[1 3]"
      ]
     },
     "execution_count": 3,
     "metadata": {},
     "output_type": "execute_result"
    }
   ],
   "source": [
    "(conj [1] 3)"
   ]
  },
  {
   "cell_type": "markdown",
   "id": "consecutive-jason",
   "metadata": {},
   "source": [
    "## Problem 77, Anagram Finder\n",
    "Difficulty: medium\n",
    "Write a function which finds all the anagrams in a vector of words. A word x is an anagram of word y if all the letters in x can be rearranged in a different order to form y. Your function should return a set of sets, where each sub-set is a group of words which are anagrams of each other. Each sub-set should have at least two words. Words without any anagrams should not be included in the result."
   ]
  },
  {
   "cell_type": "code",
   "execution_count": 70,
   "id": "comparable-opposition",
   "metadata": {},
   "outputs": [
    {
     "data": {
      "text/plain": [
       "#'user/__"
      ]
     },
     "execution_count": 70,
     "metadata": {},
     "output_type": "execute_result"
    }
   ],
   "source": [
    "(defn __ [str-vec]\n",
    "  (letfn [(to-set [s] (into #{} s))\n",
    "          (sorted-str [s] (-> s seq sort to-set))]\n",
    "    (->> str-vec\n",
    "        (group-by sorted-str)\n",
    "        (vals)\n",
    "        (filter #(> (count %) 1))\n",
    "        (map set)\n",
    "        (set))))"
   ]
  },
  {
   "cell_type": "code",
   "execution_count": 71,
   "id": "consecutive-costs",
   "metadata": {
    "scrolled": false
   },
   "outputs": [
    {
     "data": {
      "text/plain": [
       "#{#{\"meat\" \"mate\" \"team\"}}"
      ]
     },
     "execution_count": 71,
     "metadata": {},
     "output_type": "execute_result"
    }
   ],
   "source": [
    "(__ [\"meat\" \"mat\" \"team\" \"mate\" \"eat\"])"
   ]
  },
  {
   "cell_type": "code",
   "execution_count": 72,
   "id": "powerful-jacksonville",
   "metadata": {},
   "outputs": [
    {
     "data": {
      "text/plain": [
       "true"
      ]
     },
     "execution_count": 72,
     "metadata": {},
     "output_type": "execute_result"
    }
   ],
   "source": [
    "(= (__ [\"meat\" \"mat\" \"team\" \"mate\" \"eat\"])\n",
    "   #{#{\"meat\" \"team\" \"mate\"}})"
   ]
  },
  {
   "cell_type": "code",
   "execution_count": 73,
   "id": "downtown-passage",
   "metadata": {},
   "outputs": [
    {
     "data": {
      "text/plain": [
       "true"
      ]
     },
     "execution_count": 73,
     "metadata": {},
     "output_type": "execute_result"
    }
   ],
   "source": [
    "(= (__ [\"veer\" \"lake\" \"item\" \"kale\" \"mite\" \"ever\"])\n",
    "   #{#{\"veer\" \"ever\"} #{\"lake\" \"kale\"} #{\"mite\" \"item\"}})"
   ]
  },
  {
   "cell_type": "markdown",
   "id": "normal-volunteer",
   "metadata": {},
   "source": [
    "## Problem 78, Reimplement Trampoline\n",
    "Difficulty: medium\n",
    "Reimplement the function described in <a href=\"76\"> \"Intro to Trampoline\"</a>."
   ]
  },
  {
   "cell_type": "code",
   "execution_count": null,
   "id": "accessible-accused",
   "metadata": {},
   "outputs": [],
   "source": [
    "(defn __ []\n",
    "    )"
   ]
  },
  {
   "cell_type": "code",
   "execution_count": null,
   "id": "varied-passenger",
   "metadata": {},
   "outputs": [],
   "source": []
  },
  {
   "cell_type": "code",
   "execution_count": null,
   "id": "understood-ceremony",
   "metadata": {},
   "outputs": [],
   "source": []
  },
  {
   "cell_type": "code",
   "execution_count": 1,
   "id": "potential-complaint",
   "metadata": {
    "scrolled": true
   },
   "outputs": [
    {
     "name": "stderr",
     "output_type": "stream",
     "text": [
      "Syntax error compiling at (REPL:4:5).\n",
      "Unable to resolve symbol: __ in this context\n"
     ]
    },
    {
     "ename": "class clojure.lang.Compiler$CompilerException",
     "evalue": "",
     "output_type": "error",
     "traceback": [
      "  Util.java:   221 clojure.lang.Util/runtimeException",
      "   core.clj:  3214 clojure.core$eval/invokeStatic",
      "   core.clj:  3210 clojure.core$eval/invoke",
      "   main.clj:   437 clojure.main$repl$read_eval_print__9086$fn__9089/invoke",
      "   main.clj:   458 clojure.main$repl$fn__9095/invoke",
      "   main.clj:   368 clojure.main$repl/doInvoke",
      "RestFn.java:  1523 clojure.lang.RestFn/invoke",
      "   AFn.java:    22 clojure.lang.AFn/run",
      "   AFn.java:    22 clojure.lang.AFn/run",
      "Thread.java:   748 java.lang.Thread/run"
     ]
    }
   ],
   "source": [
    "(= (letfn [(triple [x] #(sub-two (* 3 x)))\n",
    "          (sub-two [x] #(stop?(- x 2)))\n",
    "          (stop? [x] (if (> x 50) x #(triple x)))]\n",
    "    (__ triple 2))\n",
    "  82)"
   ]
  },
  {
   "cell_type": "code",
   "execution_count": null,
   "id": "fossil-casino",
   "metadata": {},
   "outputs": [],
   "source": [
    "(= (letfn [(my-even? [x] (if (zero? x) true #(my-odd? (dec x))))\n",
    "          (my-odd? [x] (if (zero? x) false #(my-even? (dec x))))]\n",
    "    (map (partial __ my-even?) (range 6)))\n",
    "  [true false true false true false])"
   ]
  },
  {
   "cell_type": "code",
   "execution_count": null,
   "id": "second-reception",
   "metadata": {},
   "outputs": [],
   "source": []
  },
  {
   "cell_type": "code",
   "execution_count": 11,
   "id": "limiting-colon",
   "metadata": {},
   "outputs": [
    {
     "data": {
      "text/plain": [
       "#'user/factorial"
      ]
     },
     "execution_count": 11,
     "metadata": {},
     "output_type": "execute_result"
    }
   ],
   "source": [
    "(defn factorial [n]\n",
    "  (loop [n n, acc 1]\n",
    "    (if (<= n 1)\n",
    "      acc\n",
    "      (recur (- n 1) (* n acc)))))"
   ]
  },
  {
   "cell_type": "code",
   "execution_count": 7,
   "id": "refined-novelty",
   "metadata": {},
   "outputs": [
    {
     "data": {
      "text/plain": [
       "#'user/trampoline"
      ]
     },
     "execution_count": 7,
     "metadata": {},
     "output_type": "execute_result"
    }
   ],
   "source": [
    "(defn trampoline [f]\n",
    "  (loop [result (f)]\n",
    "    (if (fn? result)\n",
    "      (recur (result))\n",
    "      result)))"
   ]
  },
  {
   "cell_type": "code",
   "execution_count": 8,
   "id": "marine-discount",
   "metadata": {},
   "outputs": [
    {
     "data": {
      "text/plain": [
       "#'user/factorial-trampoline"
      ]
     },
     "execution_count": 8,
     "metadata": {},
     "output_type": "execute_result"
    }
   ],
   "source": [
    "(defn factorial-trampoline [n]\n",
    "  (trampoline (factorial n)))"
   ]
  },
  {
   "cell_type": "code",
   "execution_count": 12,
   "id": "extra-reception",
   "metadata": {},
   "outputs": [
    {
     "data": {
      "text/plain": [
       "3628800"
      ]
     },
     "execution_count": 12,
     "metadata": {},
     "output_type": "execute_result"
    }
   ],
   "source": [
    "(factorial 10)"
   ]
  },
  {
   "cell_type": "code",
   "execution_count": 24,
   "id": "accomplished-conditioning",
   "metadata": {},
   "outputs": [
    {
     "data": {
      "text/plain": [
       "#'user/add"
      ]
     },
     "execution_count": 24,
     "metadata": {},
     "output_type": "execute_result"
    }
   ],
   "source": [
    "(defn add [n acc]\n",
    "  (if (= n 0)\n",
    "    acc\n",
    "    (add (dec n) (+ n acc))))"
   ]
  },
  {
   "cell_type": "code",
   "execution_count": 26,
   "id": "upper-belarus",
   "metadata": {},
   "outputs": [
    {
     "data": {
      "text/plain": [
       "#'user/trampoline-add"
      ]
     },
     "execution_count": 26,
     "metadata": {},
     "output_type": "execute_result"
    }
   ],
   "source": [
    "(defn trampoline-add [n]\n",
    "  (letfn [(inner [n acc]\n",
    "            (if (= n 0)\n",
    "              (fn [] acc)\n",
    "              #(inner (dec n) (+ n acc))))]\n",
    "\n",
    "    (trampoline (inner n 0))))"
   ]
  },
  {
   "cell_type": "code",
   "execution_count": 32,
   "id": "irish-heath",
   "metadata": {},
   "outputs": [
    {
     "data": {
      "text/plain": [
       "40504500"
      ]
     },
     "execution_count": 32,
     "metadata": {},
     "output_type": "execute_result"
    }
   ],
   "source": [
    "(trampoline-add 9000)"
   ]
  },
  {
   "cell_type": "code",
   "execution_count": 31,
   "id": "advised-eligibility",
   "metadata": {},
   "outputs": [
    {
     "name": "stderr",
     "output_type": "stream",
     "text": [
      "Execution error (StackOverflowError) at user/add (REPL:1).\n",
      "null\n"
     ]
    },
    {
     "ename": "class java.lang.StackOverflowError",
     "evalue": "",
     "output_type": "error",
     "traceback": []
    }
   ],
   "source": [
    "(add 9000 0)"
   ]
  },
  {
   "cell_type": "code",
   "execution_count": null,
   "id": "thirty-giving",
   "metadata": {},
   "outputs": [],
   "source": []
  },
  {
   "cell_type": "markdown",
   "id": "convertible-handy",
   "metadata": {},
   "source": [
    "## Problem 79, Triangle Minimal Path\n",
    "Difficulty: hard\n",
    "Write a function which calculates the sum of the minimal path through a triangle. The triangle is represented as a vector of vectors. The path should start at the top of the triangle and move to an adjacent number on the next row until the bottom of the triangle is reached."
   ]
  },
  {
   "cell_type": "code",
   "execution_count": null,
   "id": "fantastic-president",
   "metadata": {},
   "outputs": [],
   "source": []
  },
  {
   "cell_type": "code",
   "execution_count": null,
   "id": "opponent-angel",
   "metadata": {},
   "outputs": [],
   "source": []
  },
  {
   "cell_type": "code",
   "execution_count": null,
   "id": "thrown-breakdown",
   "metadata": {},
   "outputs": [],
   "source": []
  },
  {
   "cell_type": "code",
   "execution_count": null,
   "id": "unknown-basic",
   "metadata": {},
   "outputs": [],
   "source": []
  },
  {
   "cell_type": "code",
   "execution_count": null,
   "id": "structured-member",
   "metadata": {},
   "outputs": [],
   "source": []
  },
  {
   "cell_type": "code",
   "execution_count": null,
   "id": "automotive-oxide",
   "metadata": {},
   "outputs": [],
   "source": []
  },
  {
   "cell_type": "code",
   "execution_count": null,
   "id": "stone-lecture",
   "metadata": {},
   "outputs": [],
   "source": []
  },
  {
   "cell_type": "code",
   "execution_count": null,
   "id": "becoming-completion",
   "metadata": {},
   "outputs": [],
   "source": []
  }
 ],
 "metadata": {
  "kernelspec": {
   "display_name": "Clojure (clojupyter-0.3.2)",
   "language": "clojure",
   "name": "clojupyter-0.3.2"
  },
  "language_info": {
   "file_extension": ".clj",
   "mimetype": "text/x-clojure",
   "name": "clojure",
   "version": "1.10.1"
  },
  "toc": {
   "base_numbering": 1,
   "nav_menu": {},
   "number_sections": false,
   "sideBar": true,
   "skip_h1_title": false,
   "title_cell": "Table of Contents",
   "title_sidebar": "Contents",
   "toc_cell": false,
   "toc_position": {},
   "toc_section_display": true,
   "toc_window_display": false
  }
 },
 "nbformat": 4,
 "nbformat_minor": 5
}
