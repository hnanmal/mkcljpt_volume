{
 "cells": [
  {
   "cell_type": "markdown",
   "id": "western-traveler",
   "metadata": {},
   "source": [
    "## Problem 76, Intro to Trampoline\n",
    "Difficulty: medium\n",
    "The trampoline function takes a function f and a variable number of parameters. Trampoline calls f with any parameters that were supplied. If f returns a function, trampoline calls that function with no arguments. This is repeated, until the return value is not a function, and then trampoline returns that non-function value. This is useful for implementing mutually recursive algorithms in a way that won't consume the stack."
   ]
  },
  {
   "cell_type": "code",
   "execution_count": 1,
   "id": "completed-birthday",
   "metadata": {},
   "outputs": [
    {
     "data": {
      "text/plain": [
       "[1 3 5 7 9 11]"
      ]
     },
     "execution_count": 1,
     "metadata": {},
     "output_type": "execute_result"
    }
   ],
   "source": [
    "(letfn\n",
    "     [(foo [x y] #(bar (conj x y) y))\n",
    "      (bar [x y] (if (> (last x) 10)\n",
    "                   x\n",
    "                   #(foo x (+ 2 y))))]\n",
    "     (trampoline foo [] 1))"
   ]
  },
  {
   "cell_type": "code",
   "execution_count": 3,
   "id": "dramatic-profit",
   "metadata": {},
   "outputs": [
    {
     "data": {
      "text/plain": [
       "[1 3]"
      ]
     },
     "execution_count": 3,
     "metadata": {},
     "output_type": "execute_result"
    }
   ],
   "source": [
    "(conj [1] 3)"
   ]
  },
  {
   "cell_type": "markdown",
   "id": "consecutive-jason",
   "metadata": {},
   "source": [
    "## Problem 77, Anagram Finder\n",
    "Difficulty: medium\n",
    "Write a function which finds all the anagrams in a vector of words. A word x is an anagram of word y if all the letters in x can be rearranged in a different order to form y. Your function should return a set of sets, where each sub-set is a group of words which are anagrams of each other. Each sub-set should have at least two words. Words without any anagrams should not be included in the result."
   ]
  },
  {
   "cell_type": "code",
   "execution_count": 70,
   "id": "comparable-opposition",
   "metadata": {},
   "outputs": [
    {
     "data": {
      "text/plain": [
       "#'user/__"
      ]
     },
     "execution_count": 70,
     "metadata": {},
     "output_type": "execute_result"
    }
   ],
   "source": [
    "(defn __ [str-vec]\n",
    "  (letfn [(to-set [s] (into #{} s))\n",
    "          (sorted-str [s] (-> s seq sort to-set))]\n",
    "    (->> str-vec\n",
    "        (group-by sorted-str)\n",
    "        (vals)\n",
    "        (filter #(> (count %) 1))\n",
    "        (map set)\n",
    "        (set))))"
   ]
  },
  {
   "cell_type": "code",
   "execution_count": 71,
   "id": "consecutive-costs",
   "metadata": {
    "scrolled": false
   },
   "outputs": [
    {
     "data": {
      "text/plain": [
       "#{#{\"meat\" \"mate\" \"team\"}}"
      ]
     },
     "execution_count": 71,
     "metadata": {},
     "output_type": "execute_result"
    }
   ],
   "source": [
    "(__ [\"meat\" \"mat\" \"team\" \"mate\" \"eat\"])"
   ]
  },
  {
   "cell_type": "code",
   "execution_count": 72,
   "id": "powerful-jacksonville",
   "metadata": {},
   "outputs": [
    {
     "data": {
      "text/plain": [
       "true"
      ]
     },
     "execution_count": 72,
     "metadata": {},
     "output_type": "execute_result"
    }
   ],
   "source": [
    "(= (__ [\"meat\" \"mat\" \"team\" \"mate\" \"eat\"])\n",
    "   #{#{\"meat\" \"team\" \"mate\"}})"
   ]
  },
  {
   "cell_type": "code",
   "execution_count": 73,
   "id": "downtown-passage",
   "metadata": {},
   "outputs": [
    {
     "data": {
      "text/plain": [
       "true"
      ]
     },
     "execution_count": 73,
     "metadata": {},
     "output_type": "execute_result"
    }
   ],
   "source": [
    "(= (__ [\"veer\" \"lake\" \"item\" \"kale\" \"mite\" \"ever\"])\n",
    "   #{#{\"veer\" \"ever\"} #{\"lake\" \"kale\"} #{\"mite\" \"item\"}})"
   ]
  },
  {
   "cell_type": "markdown",
   "id": "normal-volunteer",
   "metadata": {},
   "source": [
    "## Problem 78, Reimplement Trampoline\n",
    "Difficulty: medium\n",
    "Reimplement the function described in <a href=\"76\"> \"Intro to Trampoline\"</a>."
   ]
  },
  {
   "cell_type": "code",
   "execution_count": null,
   "id": "accessible-accused",
   "metadata": {},
   "outputs": [],
   "source": []
  },
  {
   "cell_type": "code",
   "execution_count": null,
   "id": "varied-passenger",
   "metadata": {},
   "outputs": [],
   "source": []
  },
  {
   "cell_type": "code",
   "execution_count": null,
   "id": "understood-ceremony",
   "metadata": {},
   "outputs": [],
   "source": []
  },
  {
   "cell_type": "code",
   "execution_count": null,
   "id": "potential-complaint",
   "metadata": {},
   "outputs": [],
   "source": []
  },
  {
   "cell_type": "code",
   "execution_count": null,
   "id": "fossil-casino",
   "metadata": {},
   "outputs": [],
   "source": []
  },
  {
   "cell_type": "code",
   "execution_count": null,
   "id": "second-reception",
   "metadata": {},
   "outputs": [],
   "source": []
  },
  {
   "cell_type": "code",
   "execution_count": null,
   "id": "limiting-colon",
   "metadata": {},
   "outputs": [],
   "source": []
  },
  {
   "cell_type": "code",
   "execution_count": null,
   "id": "structured-member",
   "metadata": {},
   "outputs": [],
   "source": []
  },
  {
   "cell_type": "code",
   "execution_count": null,
   "id": "automotive-oxide",
   "metadata": {},
   "outputs": [],
   "source": []
  },
  {
   "cell_type": "code",
   "execution_count": null,
   "id": "stone-lecture",
   "metadata": {},
   "outputs": [],
   "source": []
  },
  {
   "cell_type": "code",
   "execution_count": null,
   "id": "becoming-completion",
   "metadata": {},
   "outputs": [],
   "source": []
  }
 ],
 "metadata": {
  "kernelspec": {
   "display_name": "Clojure (clojupyter-0.3.2)",
   "language": "clojure",
   "name": "clojupyter-0.3.2"
  },
  "language_info": {
   "file_extension": ".clj",
   "mimetype": "text/x-clojure",
   "name": "clojure",
   "version": "1.10.1"
  },
  "toc": {
   "base_numbering": 1,
   "nav_menu": {},
   "number_sections": false,
   "sideBar": true,
   "skip_h1_title": false,
   "title_cell": "Table of Contents",
   "title_sidebar": "Contents",
   "toc_cell": false,
   "toc_position": {},
   "toc_section_display": true,
   "toc_window_display": false
  }
 },
 "nbformat": 4,
 "nbformat_minor": 5
}
