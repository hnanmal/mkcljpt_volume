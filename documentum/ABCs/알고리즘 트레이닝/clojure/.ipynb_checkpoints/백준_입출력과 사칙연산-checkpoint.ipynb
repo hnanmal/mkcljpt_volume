{
 "cells": [
  {
   "cell_type": "markdown",
   "id": "parallel-minnesota",
   "metadata": {},
   "source": [
    "### 2557 Hello World"
   ]
  },
  {
   "cell_type": "code",
   "execution_count": 1,
   "id": "intellectual-crystal",
   "metadata": {},
   "outputs": [
    {
     "name": "stdout",
     "output_type": "stream",
     "text": [
      "Hello World!\n"
     ]
    },
    {
     "data": {
      "text/plain": [
       "nil"
      ]
     },
     "execution_count": 1,
     "metadata": {},
     "output_type": "execute_result"
    }
   ],
   "source": [
    "(println \"Hello World!\")"
   ]
  },
  {
   "cell_type": "markdown",
   "id": "governmental-champion",
   "metadata": {},
   "source": [
    "### 1000 A+B"
   ]
  },
  {
   "cell_type": "code",
   "execution_count": 2,
   "id": "urban-chance",
   "metadata": {},
   "outputs": [
    {
     "data": {
      "text/plain": [
       "nil"
      ]
     },
     "execution_count": 2,
     "metadata": {},
     "output_type": "execute_result"
    }
   ],
   "source": [
    "(ns bj_sol\n",
    "    (:require [clojure.string :as str]))"
   ]
  },
  {
   "cell_type": "code",
   "execution_count": 3,
   "id": "smoking-alcohol",
   "metadata": {},
   "outputs": [
    {
     "name": "stdout",
     "output_type": "stream",
     "text": [
      "Enter value: 1 2\n",
      "3\n"
     ]
    },
    {
     "data": {
      "text/plain": [
       "nil"
      ]
     },
     "execution_count": 3,
     "metadata": {},
     "output_type": "execute_result"
    }
   ],
   "source": [
    ";; (defn parse-int [s]\n",
    ";;   (Integer. (re-find #\"[0-9]*\" s)))\n",
    "\n",
    "(defn parse-int [s]\n",
    "  (Integer. s))\n",
    "\n",
    "(let [[a b]\n",
    "      (map parse-int (str/split (read-line) #\" \"))]\n",
    "    (println (+ a b)))\n"
   ]
  },
  {
   "cell_type": "code",
   "execution_count": 4,
   "id": "representative-bride",
   "metadata": {},
   "outputs": [
    {
     "name": "stdout",
     "output_type": "stream",
     "text": [
      "Enter value: 2 3\n",
      "5\n"
     ]
    },
    {
     "data": {
      "text/plain": [
       "nil"
      ]
     },
     "execution_count": 4,
     "metadata": {},
     "output_type": "execute_result"
    }
   ],
   "source": [
    "(defn sum-str [s]\n",
    "    (reduce + (map parse-int (str/split s #\" \"))))\n",
    "\n",
    "(println (sum-str (read-line)))"
   ]
  },
  {
   "cell_type": "code",
   "execution_count": 5,
   "id": "foreign-chancellor",
   "metadata": {},
   "outputs": [
    {
     "name": "stdout",
     "output_type": "stream",
     "text": [
      "Enter value: 2 3\n",
      "5\n"
     ]
    },
    {
     "data": {
      "text/plain": [
       "nil"
      ]
     },
     "execution_count": 5,
     "metadata": {},
     "output_type": "execute_result"
    }
   ],
   "source": [
    "(defn sum-str2 [s]\n",
    "    (-> s\n",
    "        (str/split #\" \")\n",
    "        ((partial map #(Integer. %)))\n",
    ";;         ((partial map parse-int))\n",
    "        ((partial reduce +))))\n",
    "\n",
    "(println (sum-str2 (read-line)))"
   ]
  },
  {
   "cell_type": "code",
   "execution_count": 6,
   "id": "loving-trash",
   "metadata": {
    "scrolled": true
   },
   "outputs": [
    {
     "name": "stdout",
     "output_type": "stream",
     "text": [
      "Enter value: 2 3\n",
      "5\n"
     ]
    },
    {
     "data": {
      "text/plain": [
       "nil"
      ]
     },
     "execution_count": 6,
     "metadata": {},
     "output_type": "execute_result"
    }
   ],
   "source": [
    "(defn sum-str3 [s]\n",
    "    (->> s\n",
    "        (#(str/split % #\" \"))\n",
    "        (map #(Integer. %)) ; (map parse-int)\n",
    "        (reduce +)))\n",
    "\n",
    "(println (sum-str3 (read-line)))"
   ]
  },
  {
   "cell_type": "code",
   "execution_count": 7,
   "id": "handy-constitutional",
   "metadata": {
    "scrolled": true
   },
   "outputs": [
    {
     "data": {
      "text/plain": [
       "3"
      ]
     },
     "execution_count": 7,
     "metadata": {},
     "output_type": "execute_result"
    }
   ],
   "source": [
    "(Integer. \"3\")"
   ]
  },
  {
   "cell_type": "markdown",
   "id": "looking-holiday",
   "metadata": {},
   "source": [
    "### 1001 A - B"
   ]
  },
  {
   "cell_type": "code",
   "execution_count": 8,
   "id": "limiting-practice",
   "metadata": {},
   "outputs": [
    {
     "name": "stdout",
     "output_type": "stream",
     "text": [
      "Enter value: 3 1\n",
      "2\n"
     ]
    },
    {
     "data": {
      "text/plain": [
       "nil"
      ]
     },
     "execution_count": 8,
     "metadata": {},
     "output_type": "execute_result"
    }
   ],
   "source": [
    "(defn parse-int [s]\n",
    "  (Integer. s))\n",
    "\n",
    "(let [[a b]\n",
    "      (map parse-int (str/split (read-line) #\" \"))]\n",
    "    (println (- a b)))"
   ]
  },
  {
   "cell_type": "markdown",
   "id": "streaming-scotland",
   "metadata": {},
   "source": [
    "### 10869 사칙연산"
   ]
  },
  {
   "cell_type": "code",
   "execution_count": 13,
   "id": "sublime-procedure",
   "metadata": {},
   "outputs": [
    {
     "name": "stdout",
     "output_type": "stream",
     "text": [
      "Enter value: 7 3\n",
      "10\n",
      "4\n",
      "21\n",
      "2\n",
      "1\n"
     ]
    },
    {
     "data": {
      "text/plain": [
       "nil"
      ]
     },
     "execution_count": 13,
     "metadata": {},
     "output_type": "execute_result"
    }
   ],
   "source": [
    "(let [[a b]\n",
    "      (map parse-int (str/split (read-line) #\" \"))]\n",
    "    (println (+ a b))\n",
    "    (println (- a b))\n",
    "    (println (* a b))\n",
    "    (println (quot a b))  ; (/ a b)는 유리수로 평가 됨\n",
    "    (println (rem a b)))"
   ]
  },
  {
   "cell_type": "markdown",
   "id": "affiliated-combine",
   "metadata": {},
   "source": [
    "### 3003 킹, 퀸, 룩, 비숍, 나이트, 폰"
   ]
  },
  {
   "cell_type": "code",
   "execution_count": 99,
   "id": "british-regard",
   "metadata": {},
   "outputs": [
    {
     "name": "stdout",
     "output_type": "stream",
     "text": [
      "Enter value: 0 1 2 2 2 7\n",
      "1 0 0 0 0 1\n"
     ]
    },
    {
     "data": {
      "text/plain": [
       "{:k 1, :q 1, :l 2, :b 2, :n 2, :p 8}"
      ]
     },
     "execution_count": 99,
     "metadata": {},
     "output_type": "execute_result"
    }
   ],
   "source": [
    ";;; def 사용 case\n",
    "(let [nums (map parse-int (str/split (read-line) #\" \"))\n",
    "      my-keys [:k :q :l :b :n :p]]\n",
    "    (def ref-Dict (zipmap my-keys [1 1 2 2 2 8]))\n",
    "    (def input-Dict (zipmap my-keys nums))\n",
    "    (println\n",
    "     (clojure.string/join \" \"\n",
    "      (map #(- (% ref-Dict)(% input-Dict)) (keys ref-Dict)))))\n",
    "    \n",
    "\n",
    "ref-Dict"
   ]
  },
  {
   "cell_type": "code",
   "execution_count": 97,
   "id": "listed-valentine",
   "metadata": {},
   "outputs": [
    {
     "name": "stdout",
     "output_type": "stream",
     "text": [
      "Enter value: 2 1 2 1 2 1\n",
      "-1 0 0 1 0 7\n"
     ]
    },
    {
     "name": "stderr",
     "output_type": "stream",
     "text": [
      "Syntax error compiling at (REPL:0:0).\n",
      "Unable to resolve symbol: ref-Dict2 in this context\n"
     ]
    },
    {
     "ename": "class clojure.lang.Compiler$CompilerException",
     "evalue": "",
     "output_type": "error",
     "traceback": [
      "  Util.java:   221 clojure.lang.Util/runtimeException",
      "   core.clj:  3214 clojure.core$eval/invokeStatic",
      "   core.clj:  3210 clojure.core$eval/invoke",
      "   main.clj:   437 clojure.main$repl$read_eval_print__9086$fn__9089/invoke",
      "   main.clj:   458 clojure.main$repl$fn__9095/invoke",
      "   main.clj:   368 clojure.main$repl/doInvoke",
      "RestFn.java:  1523 clojure.lang.RestFn/invoke",
      "   AFn.java:    22 clojure.lang.AFn/run",
      "   AFn.java:    22 clojure.lang.AFn/run",
      "Thread.java:   748 java.lang.Thread/run"
     ]
    }
   ],
   "source": [
    ";;; let 사용 case\n",
    "(let [nums (map parse-int (str/split (read-line) #\" \"))\n",
    "      my-keys [:k :q :l :b :n :p]]\n",
    "    (let [ref-Dict2 (zipmap my-keys [1 1 2 2 2 8])\n",
    "          input-Dict2 (zipmap my-keys nums)]\n",
    "          (println \n",
    "           (clojure.string/join\n",
    "            \" \" \n",
    "            (map #(- (% ref-Dict2)(% input-Dict2)) my-keys)))\n",
    "        )\n",
    "    )\n",
    "ref-Dict2"
   ]
  },
  {
   "cell_type": "code",
   "execution_count": 81,
   "id": "elegant-uncle",
   "metadata": {},
   "outputs": [
    {
     "name": "stdout",
     "output_type": "stream",
     "text": [
      "ERIC-NORMAND\n"
     ]
    },
    {
     "data": {
      "text/plain": [
       "nil"
      ]
     },
     "execution_count": 81,
     "metadata": {},
     "output_type": "execute_result"
    }
   ],
   "source": [
    "(let [s \"Eric Normand\"\n",
    "      s (str/upper-case s)\n",
    "      s (str/trim s)\n",
    "      s (str/replace s #\" +\" \"-\")]\n",
    "  (println s))"
   ]
  },
  {
   "cell_type": "code",
   "execution_count": null,
   "id": "fifty-dialogue",
   "metadata": {},
   "outputs": [],
   "source": []
  }
 ],
 "metadata": {
  "kernelspec": {
   "display_name": "Clojure (clojupyter-0.3.2)",
   "language": "clojure",
   "name": "clojupyter-0.3.2"
  },
  "language_info": {
   "file_extension": ".clj",
   "mimetype": "text/x-clojure",
   "name": "clojure",
   "version": "1.10.1"
  },
  "toc": {
   "base_numbering": 1,
   "nav_menu": {},
   "number_sections": false,
   "sideBar": true,
   "skip_h1_title": false,
   "title_cell": "Table of Contents",
   "title_sidebar": "Contents",
   "toc_cell": false,
   "toc_position": {},
   "toc_section_display": true,
   "toc_window_display": false
  }
 },
 "nbformat": 4,
 "nbformat_minor": 5
}
