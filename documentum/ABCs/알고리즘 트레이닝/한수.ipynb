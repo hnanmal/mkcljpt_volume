{
 "cells": [
  {
   "cell_type": "code",
   "execution_count": null,
   "id": "infectious-passion",
   "metadata": {},
   "outputs": [],
   "source": [
    "input = 1000"
   ]
  },
  {
   "cell_type": "code",
   "execution_count": 2,
   "id": "independent-animation",
   "metadata": {},
   "outputs": [],
   "source": [
    "nums = range(1,input)"
   ]
  },
  {
   "cell_type": "code",
   "execution_count": 3,
   "id": "young-disco",
   "metadata": {},
   "outputs": [],
   "source": [
    "def split_num(num):\n",
    "    return list(map(int, str(num)))"
   ]
  },
  {
   "cell_type": "code",
   "execution_count": 5,
   "id": "becoming-charm",
   "metadata": {},
   "outputs": [
    {
     "data": {
      "text/plain": [
       "[[1],\n",
       " [2],\n",
       " [3],\n",
       " [4],\n",
       " [5],\n",
       " [6],\n",
       " [7],\n",
       " [8],\n",
       " [9],\n",
       " [1, 0],\n",
       " [1, 1],\n",
       " [1, 2],\n",
       " [1, 3],\n",
       " [1, 4],\n",
       " [1, 5],\n",
       " [1, 6],\n",
       " [1, 7],\n",
       " [1, 8],\n",
       " [1, 9],\n",
       " [2, 0],\n",
       " [2, 1],\n",
       " [2, 2],\n",
       " [2, 3],\n",
       " [2, 4],\n",
       " [2, 5],\n",
       " [2, 6],\n",
       " [2, 7],\n",
       " [2, 8],\n",
       " [2, 9],\n",
       " [3, 0],\n",
       " [3, 1],\n",
       " [3, 2],\n",
       " [3, 3],\n",
       " [3, 4],\n",
       " [3, 5],\n",
       " [3, 6],\n",
       " [3, 7],\n",
       " [3, 8],\n",
       " [3, 9],\n",
       " [4, 0],\n",
       " [4, 1],\n",
       " [4, 2],\n",
       " [4, 3],\n",
       " [4, 4],\n",
       " [4, 5],\n",
       " [4, 6],\n",
       " [4, 7],\n",
       " [4, 8],\n",
       " [4, 9],\n",
       " [5, 0],\n",
       " [5, 1],\n",
       " [5, 2],\n",
       " [5, 3],\n",
       " [5, 4],\n",
       " [5, 5],\n",
       " [5, 6],\n",
       " [5, 7],\n",
       " [5, 8],\n",
       " [5, 9],\n",
       " [6, 0],\n",
       " [6, 1],\n",
       " [6, 2],\n",
       " [6, 3],\n",
       " [6, 4],\n",
       " [6, 5],\n",
       " [6, 6],\n",
       " [6, 7],\n",
       " [6, 8],\n",
       " [6, 9],\n",
       " [7, 0],\n",
       " [7, 1],\n",
       " [7, 2],\n",
       " [7, 3],\n",
       " [7, 4],\n",
       " [7, 5],\n",
       " [7, 6],\n",
       " [7, 7],\n",
       " [7, 8],\n",
       " [7, 9],\n",
       " [8, 0],\n",
       " [8, 1],\n",
       " [8, 2],\n",
       " [8, 3],\n",
       " [8, 4],\n",
       " [8, 5],\n",
       " [8, 6],\n",
       " [8, 7],\n",
       " [8, 8],\n",
       " [8, 9],\n",
       " [9, 0],\n",
       " [9, 1],\n",
       " [9, 2],\n",
       " [9, 3],\n",
       " [9, 4],\n",
       " [9, 5],\n",
       " [9, 6],\n",
       " [9, 7],\n",
       " [9, 8],\n",
       " [9, 9],\n",
       " [1, 0, 0],\n",
       " [1, 0, 1],\n",
       " [1, 0, 2],\n",
       " [1, 0, 3],\n",
       " [1, 0, 4],\n",
       " [1, 0, 5],\n",
       " [1, 0, 6],\n",
       " [1, 0, 7],\n",
       " [1, 0, 8],\n",
       " [1, 0, 9],\n",
       " [1, 1, 0],\n",
       " [1, 1, 1],\n",
       " [1, 1, 2],\n",
       " [1, 1, 3],\n",
       " [1, 1, 4],\n",
       " [1, 1, 5],\n",
       " [1, 1, 6],\n",
       " [1, 1, 7],\n",
       " [1, 1, 8],\n",
       " [1, 1, 9],\n",
       " [1, 2, 0],\n",
       " [1, 2, 1],\n",
       " [1, 2, 2]]"
      ]
     },
     "execution_count": 5,
     "metadata": {},
     "output_type": "execute_result"
    }
   ],
   "source": [
    "nums_splited = list(map(split_num, nums))\n",
    "nums_splited"
   ]
  },
  {
   "cell_type": "code",
   "execution_count": null,
   "id": "eight-halloween",
   "metadata": {},
   "outputs": [],
   "source": []
  }
 ],
 "metadata": {
  "kernelspec": {
   "display_name": "Python 3",
   "language": "python",
   "name": "python3"
  },
  "language_info": {
   "codemirror_mode": {
    "name": "ipython",
    "version": 3
   },
   "file_extension": ".py",
   "mimetype": "text/x-python",
   "name": "python",
   "nbconvert_exporter": "python",
   "pygments_lexer": "ipython3",
   "version": "3.8.8"
  },
  "toc": {
   "base_numbering": 1,
   "nav_menu": {},
   "number_sections": true,
   "sideBar": true,
   "skip_h1_title": false,
   "title_cell": "Table of Contents",
   "title_sidebar": "Contents",
   "toc_cell": false,
   "toc_position": {},
   "toc_section_display": true,
   "toc_window_display": false
  },
  "varInspector": {
   "cols": {
    "lenName": 16,
    "lenType": 16,
    "lenVar": 40
   },
   "kernels_config": {
    "python": {
     "delete_cmd_postfix": "",
     "delete_cmd_prefix": "del ",
     "library": "var_list.py",
     "varRefreshCmd": "print(var_dic_list())"
    },
    "r": {
     "delete_cmd_postfix": ") ",
     "delete_cmd_prefix": "rm(",
     "library": "var_list.r",
     "varRefreshCmd": "cat(var_dic_list()) "
    }
   },
   "types_to_exclude": [
    "module",
    "function",
    "builtin_function_or_method",
    "instance",
    "_Feature"
   ],
   "window_display": false
  }
 },
 "nbformat": 4,
 "nbformat_minor": 5
}
