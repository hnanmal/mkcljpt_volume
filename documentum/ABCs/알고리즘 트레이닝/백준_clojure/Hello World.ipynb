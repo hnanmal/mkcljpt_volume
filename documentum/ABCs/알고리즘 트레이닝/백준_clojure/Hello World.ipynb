{
 "cells": [
  {
   "cell_type": "markdown",
   "id": "typical-thousand",
   "metadata": {},
   "source": [
    "https://www.acmicpc.net/problem/2557"
   ]
  },
  {
   "cell_type": "code",
   "execution_count": 5,
   "id": "veterinary-committee",
   "metadata": {},
   "outputs": [
    {
     "name": "stdout",
     "output_type": "stream",
     "text": [
      "Hello World!\n"
     ]
    },
    {
     "data": {
      "text/plain": [
       "nil"
      ]
     },
     "execution_count": 5,
     "metadata": {},
     "output_type": "execute_result"
    }
   ],
   "source": [
    "(println \"Hello World!\")"
   ]
  },
  {
   "cell_type": "code",
   "execution_count": 7,
   "id": "sustainable-piano",
   "metadata": {},
   "outputs": [
    {
     "name": "stderr",
     "output_type": "stream",
     "text": [
      "Syntax error compiling at (REPL:0:0).\n",
      "Unable to resolve symbol: HEC in this context\n",
      "Syntax error reading source at (REPL:2:3).\n",
      "Invalid number: 2층\n"
     ]
    },
    {
     "ename": "class clojure.lang.ExceptionInfo",
     "evalue": "",
     "output_type": "error",
     "traceback": [
      "LispReader.java:   352 clojure.lang.LispReader/readNumber",
      "LispReader.java:   278 clojure.lang.LispReader/read",
      "       core.clj:  3768 clojure.core$read/invokeStatic",
      "       core.clj:  3741 clojure.core$read/invoke",
      "       main.clj:   433 clojure.main$repl$read_eval_print__9086$fn__9087/invoke",
      "       main.clj:   432 clojure.main$repl$read_eval_print__9086/invoke",
      "       main.clj:   458 clojure.main$repl$fn__9095/invoke",
      "       main.clj:   368 clojure.main$repl/doInvoke",
      "    RestFn.java:  1523 clojure.lang.RestFn/invoke",
      "       AFn.java:    22 clojure.lang.AFn/run",
      "       AFn.java:    22 clojure.lang.AFn/run",
      "    Thread.java:   748 java.lang.Thread/run"
     ]
    }
   ],
   "source": [
    "\"ITEM\t\"HEC\\n\n",
    "2층 (14mx24mx2 , 672m2)\"\\n\n",
    "건축물의 용도\t1종 근린생활시설(변전소)\\n\n",
    "지역지구\t보전관리지역\\n\n",
    "건폐율\t20%\\n\n",
    "용적율\t80%\\n\n",
    "대지안의 조경\t불필요\\n\n",
    "대지와 도로의 관계\t\"법적으로 기존도로 유지가능 하나\\n\n",
    "추후 모듈트레일러나 장비크레인등의 8m 진입로 확보필요(현재 4m 진입도로)  \"\\n\n",
    "구조안전 확인 서류\t필요\\n\n",
    "특수구조 건축물 심의 \t미적용\\n\n",
    "건축물의 내진능력 공개\t필요\\n\n",
    "\"직통계단의 설치\\n\n",
    "(거실 각 부분으로부터의 보행거리)\"\t필요\\n\n",
    "피난계단의 설치\t불필요\\n\n",
    "무창층\t불필요\\n\n",
    "방화구획 등의 설치\t불필요\\n\n",
    "건축물의 내화 구조\t 미적용\\n\n",
    "건축물의 내외부 마감재료 (내화, 불연재)\t 미적용\\n\n",
    "승용/비상용 승강기 설치\t불필요\\n\n",
    "장애인 편의시설 \t불필요\\n\n",
    "에너지 절약계획서\t적용 (500m2 이상)\\n\n",
    "교통영향평가\t불필요\\n\n",
    "환경영향평가,소규모환경영향평가\t필요 (토목 개발행위 업무)\\n\n",
    "부설 주차장\t필요\\n\n",
    "장애인 전용 주차구획\t불필요\\n\n",
    "자동방화셔터 및 방화문 기준\t필요\\n\n",
    "스프링쿨러 설치\t불필요\\n\n",
    "도지사 사전 승인\t불필요\\n\n",
    "상주감리 대상\t불필요\"\n"
   ]
  },
  {
   "cell_type": "code",
   "execution_count": null,
   "id": "absolute-midwest",
   "metadata": {},
   "outputs": [],
   "source": []
  }
 ],
 "metadata": {
  "kernelspec": {
   "display_name": "Clojure (clojupyter-0.3.2)",
   "language": "clojure",
   "name": "clojupyter-0.3.2"
  },
  "language_info": {
   "file_extension": ".clj",
   "mimetype": "text/x-clojure",
   "name": "clojure",
   "version": "1.10.1"
  },
  "toc": {
   "base_numbering": 1,
   "nav_menu": {},
   "number_sections": false,
   "sideBar": true,
   "skip_h1_title": false,
   "title_cell": "Table of Contents",
   "title_sidebar": "Contents",
   "toc_cell": false,
   "toc_position": {},
   "toc_section_display": true,
   "toc_window_display": false
  }
 },
 "nbformat": 4,
 "nbformat_minor": 5
}
