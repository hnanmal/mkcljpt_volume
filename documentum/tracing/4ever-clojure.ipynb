{
 "cells": [
  {
   "cell_type": "code",
   "execution_count": 36,
   "id": "enclosed-venture",
   "metadata": {},
   "outputs": [
    {
     "data": {
      "text/plain": [
       "6"
      ]
     },
     "execution_count": 36,
     "metadata": {},
     "output_type": "execute_result"
    }
   ],
   "source": [
    "(reduce + [1 2 3])"
   ]
  },
  {
   "cell_type": "code",
   "execution_count": 37,
   "id": "failing-sample",
   "metadata": {
    "scrolled": true
   },
   "outputs": [
    {
     "data": {
      "text/plain": [
       "8"
      ]
     },
     "execution_count": 37,
     "metadata": {},
     "output_type": "execute_result"
    }
   ],
   "source": [
    "(reduce + (list 0 -2 5 5))"
   ]
  },
  {
   "cell_type": "code",
   "execution_count": 29,
   "id": "everyday-removal",
   "metadata": {},
   "outputs": [
    {
     "data": {
      "text/plain": [
       "#'user/second-to-last"
      ]
     },
     "execution_count": 29,
     "metadata": {},
     "output_type": "execute_result"
    }
   ],
   "source": [
    "(defn second-to-last\n",
    "    [li]\n",
    "    (second (reverse list)))"
   ]
  },
  {
   "cell_type": "code",
   "execution_count": 24,
   "id": "detailed-seminar",
   "metadata": {},
   "outputs": [
    {
     "data": {
      "text/plain": [
       "4"
      ]
     },
     "execution_count": 24,
     "metadata": {},
     "output_type": "execute_result"
    }
   ],
   "source": [
    "(nth (list 1 2 3 4 5) 3)"
   ]
  },
  {
   "cell_type": "code",
   "execution_count": 45,
   "id": "fitted-active",
   "metadata": {},
   "outputs": [
    {
     "data": {
      "text/plain": [
       "(1 3 5)"
      ]
     },
     "execution_count": 45,
     "metadata": {},
     "output_type": "execute_result"
    }
   ],
   "source": [
    "(filter odd? #{1 2 3 4 5})"
   ]
  },
  {
   "cell_type": "code",
   "execution_count": 5,
   "id": "featured-plasma",
   "metadata": {},
   "outputs": [
    {
     "data": {
      "text/plain": [
       "2"
      ]
     },
     "execution_count": 5,
     "metadata": {},
     "output_type": "execute_result"
    }
   ],
   "source": [
    "(fnext (list 1 2 3 4 5))"
   ]
  },
  {
   "cell_type": "code",
   "execution_count": 13,
   "id": "digital-address",
   "metadata": {},
   "outputs": [
    {
     "data": {
      "text/plain": [
       "(2 3 4 5)"
      ]
     },
     "execution_count": 13,
     "metadata": {},
     "output_type": "execute_result"
    }
   ],
   "source": [
    "(next (list 1 2 3 4 5))"
   ]
  },
  {
   "cell_type": "code",
   "execution_count": 6,
   "id": "standard-thesaurus",
   "metadata": {},
   "outputs": [
    {
     "data": {
      "text/plain": [
       "\"b\""
      ]
     },
     "execution_count": 6,
     "metadata": {},
     "output_type": "execute_result"
    }
   ],
   "source": [
    "(fnext [\"a\" \"b\" \"c\"])"
   ]
  },
  {
   "cell_type": "code",
   "execution_count": 11,
   "id": "loving-kentucky",
   "metadata": {},
   "outputs": [
    {
     "data": {
      "text/plain": [
       "nil"
      ]
     },
     "execution_count": 11,
     "metadata": {},
     "output_type": "execute_result"
    }
   ],
   "source": [
    "(nfirst [\"a\" \"b\" \"c\"])"
   ]
  },
  {
   "cell_type": "code",
   "execution_count": 10,
   "id": "banned-adult",
   "metadata": {},
   "outputs": [
    {
     "data": {
      "text/plain": [
       "(2)"
      ]
     },
     "execution_count": 10,
     "metadata": {},
     "output_type": "execute_result"
    }
   ],
   "source": [
    "(nfirst [[1 2] [3 4]])"
   ]
  },
  {
   "cell_type": "code",
   "execution_count": 105,
   "id": "offshore-bunny",
   "metadata": {
    "scrolled": true
   },
   "outputs": [
    {
     "data": {
      "text/plain": [
       "#'user/fibo"
      ]
     },
     "execution_count": 105,
     "metadata": {},
     "output_type": "execute_result"
    }
   ],
   "source": [
    "(defn fibo [n]\n",
    "    (case n\n",
    "        0 1\n",
    "        1 1\n",
    "        (+ (fibo (- n 1)) (fibo (- n 2)))))"
   ]
  },
  {
   "cell_type": "code",
   "execution_count": 124,
   "id": "driving-tension",
   "metadata": {},
   "outputs": [
    {
     "data": {
      "text/plain": [
       "#'user/fibo"
      ]
     },
     "execution_count": 124,
     "metadata": {},
     "output_type": "execute_result"
    }
   ],
   "source": [
    "(defn fibo [n]\n",
    "    (cond\n",
    "        (= n 0) 1\n",
    "        (= n 1) 1\n",
    "        :else (+ (fibo (- n 1)) (fibo (- n 2)))))"
   ]
  },
  {
   "cell_type": "code",
   "execution_count": 125,
   "id": "initial-window",
   "metadata": {},
   "outputs": [
    {
     "data": {
      "text/plain": [
       "(1 1)"
      ]
     },
     "execution_count": 125,
     "metadata": {},
     "output_type": "execute_result"
    }
   ],
   "source": [
    "(repeat 2 1)"
   ]
  },
  {
   "cell_type": "code",
   "execution_count": 126,
   "id": "sudden-bowling",
   "metadata": {},
   "outputs": [
    {
     "data": {
      "text/plain": [
       "8"
      ]
     },
     "execution_count": 126,
     "metadata": {},
     "output_type": "execute_result"
    }
   ],
   "source": [
    "(fibo 5)"
   ]
  },
  {
   "cell_type": "code",
   "execution_count": 127,
   "id": "connected-plaza",
   "metadata": {
    "scrolled": true
   },
   "outputs": [
    {
     "data": {
      "text/plain": [
       "#'user/fibos"
      ]
     },
     "execution_count": 127,
     "metadata": {},
     "output_type": "execute_result"
    }
   ],
   "source": [
    "(defn fibos [n]\n",
    "    (defn fibo [n]\n",
    "        (case n\n",
    "            0 1\n",
    "            1 1\n",
    "            (+ (fibo (- n 1)) (fibo (- n 2)))))\n",
    "    (map fibo (range n)))"
   ]
  },
  {
   "cell_type": "code",
   "execution_count": 129,
   "id": "varying-holder",
   "metadata": {},
   "outputs": [
    {
     "data": {
      "text/plain": [
       "#'user/fibos"
      ]
     },
     "execution_count": 129,
     "metadata": {},
     "output_type": "execute_result"
    }
   ],
   "source": [
    "(defn fibos [n]\n",
    "    (defn fibo [n]\n",
    "        (cond\n",
    "            (= n 0) 1\n",
    "            (= n 1) 1\n",
    "            :else (+ (fibo (- n 1)) (fibo (- n 2)))))\n",
    "    (map fibo (range n)))"
   ]
  },
  {
   "cell_type": "code",
   "execution_count": 130,
   "id": "appointed-arizona",
   "metadata": {},
   "outputs": [
    {
     "data": {
      "text/plain": [
       "(1 1 2 3 5)"
      ]
     },
     "execution_count": 130,
     "metadata": {},
     "output_type": "execute_result"
    }
   ],
   "source": [
    "(fibos 5)"
   ]
  },
  {
   "cell_type": "code",
   "execution_count": 113,
   "id": "royal-husband",
   "metadata": {},
   "outputs": [
    {
     "data": {
      "text/plain": [
       "#'user/fibo"
      ]
     },
     "execution_count": 113,
     "metadata": {},
     "output_type": "execute_result"
    }
   ],
   "source": [
    "(def fibo\n",
    "  (memoize\n",
    "    #(case  %1\n",
    "            0 1\n",
    "            1 1\n",
    "            (+ (fibo (dec %1)) (fibo (- %1 2))))))"
   ]
  },
  {
   "cell_type": "code",
   "execution_count": 114,
   "id": "municipal-gibraltar",
   "metadata": {},
   "outputs": [
    {
     "data": {
      "text/plain": [
       "5"
      ]
     },
     "execution_count": 114,
     "metadata": {},
     "output_type": "execute_result"
    }
   ],
   "source": [
    "(fibo 4)"
   ]
  },
  {
   "cell_type": "code",
   "execution_count": 118,
   "id": "prostate-citizen",
   "metadata": {},
   "outputs": [
    {
     "data": {
      "text/plain": [
       "\"(\\\\r \\\\a \\\\c \\\\e \\\\c \\\\a \\\\r)\""
      ]
     },
     "execution_count": 118,
     "metadata": {},
     "output_type": "execute_result"
    }
   ],
   "source": [
    "(str\n",
    " (reverse \"racecar\"))"
   ]
  },
  {
   "cell_type": "code",
   "execution_count": 120,
   "id": "optimum-director",
   "metadata": {},
   "outputs": [
    {
     "data": {
      "text/plain": [
       "(1 1 3 3 1 1)"
      ]
     },
     "execution_count": 120,
     "metadata": {},
     "output_type": "execute_result"
    }
   ],
   "source": [
    "(reverse '(1 1 3 3 1 1))"
   ]
  },
  {
   "cell_type": "code",
   "execution_count": 131,
   "id": "junior-impression",
   "metadata": {},
   "outputs": [
    {
     "data": {
      "text/plain": [
       "#function[user/eval5861/fn--5862]"
      ]
     },
     "execution_count": 131,
     "metadata": {},
     "output_type": "execute_result"
    }
   ],
   "source": [
    "#(= (seq %)\n",
    "   (reverse %))"
   ]
  },
  {
   "cell_type": "code",
   "execution_count": 132,
   "id": "therapeutic-rehabilitation",
   "metadata": {},
   "outputs": [
    {
     "data": {
      "text/plain": [
       "#'user/palin?"
      ]
     },
     "execution_count": 132,
     "metadata": {},
     "output_type": "execute_result"
    }
   ],
   "source": [
    "(defn palin? [x]\n",
    "    (= (seq x)\n",
    "       (reverse x)))"
   ]
  },
  {
   "cell_type": "code",
   "execution_count": 133,
   "id": "improving-translation",
   "metadata": {},
   "outputs": [
    {
     "data": {
      "text/plain": [
       "true"
      ]
     },
     "execution_count": 133,
     "metadata": {},
     "output_type": "execute_result"
    }
   ],
   "source": [
    "(false? (palin? '(1 2 3 4 5)))"
   ]
  },
  {
   "cell_type": "code",
   "execution_count": 136,
   "id": "renewable-notion",
   "metadata": {},
   "outputs": [
    {
     "data": {
      "text/plain": [
       "true"
      ]
     },
     "execution_count": 136,
     "metadata": {},
     "output_type": "execute_result"
    }
   ],
   "source": [
    "(palin? \"racecar\")"
   ]
  },
  {
   "cell_type": "code",
   "execution_count": 137,
   "id": "capital-tracy",
   "metadata": {},
   "outputs": [
    {
     "data": {
      "text/plain": [
       "(\\r \\a \\c \\e \\c \\a \\r)"
      ]
     },
     "execution_count": 137,
     "metadata": {},
     "output_type": "execute_result"
    }
   ],
   "source": [
    "(reverse \"racecar\")"
   ]
  },
  {
   "cell_type": "code",
   "execution_count": 138,
   "id": "trying-laugh",
   "metadata": {},
   "outputs": [
    {
     "data": {
      "text/plain": [
       "(\\r \\a \\c \\e \\c \\a \\r)"
      ]
     },
     "execution_count": 138,
     "metadata": {},
     "output_type": "execute_result"
    }
   ],
   "source": [
    "(seq \"racecar\")"
   ]
  },
  {
   "cell_type": "code",
   "execution_count": 140,
   "id": "impaired-scene",
   "metadata": {},
   "outputs": [
    {
     "data": {
      "text/plain": [
       "((1 2) 3 [4 [5 6]])"
      ]
     },
     "execution_count": 140,
     "metadata": {},
     "output_type": "execute_result"
    }
   ],
   "source": [
    "(seq '((1 2) 3 [4 [5 6]]))"
   ]
  },
  {
   "cell_type": "code",
   "execution_count": 159,
   "id": "breathing-monkey",
   "metadata": {},
   "outputs": [
    {
     "name": "stderr",
     "output_type": "stream",
     "text": [
      "Syntax error (UnsupportedOperationException) compiling recur at (REPL:5:21).\n",
      "Can only recur from tail position\n"
     ]
    },
    {
     "ename": "class clojure.lang.Compiler$CompilerException",
     "evalue": "",
     "output_type": "error",
     "traceback": [
      "   core.clj:  3214 clojure.core$eval/invokeStatic",
      "   core.clj:  3210 clojure.core$eval/invoke",
      "   main.clj:   437 clojure.main$repl$read_eval_print__9086$fn__9089/invoke",
      "   main.clj:   458 clojure.main$repl$fn__9095/invoke",
      "   main.clj:   368 clojure.main$repl/doInvoke",
      "RestFn.java:  1523 clojure.lang.RestFn/invoke",
      "   AFn.java:    22 clojure.lang.AFn/run",
      "   AFn.java:    22 clojure.lang.AFn/run",
      "Thread.java:   748 java.lang.Thread/run"
     ]
    }
   ],
   "source": [
    "(defn flatten_ [x]\n",
    "    (defn recFlat [s]\n",
    "        (def result '())\n",
    "        (case s\n",
    "            s coll? (recur s))\n",
    "            (conj result s)))"
   ]
  },
  {
   "cell_type": "code",
   "execution_count": 157,
   "id": "adjustable-backup",
   "metadata": {},
   "outputs": [
    {
     "data": {
      "text/plain": [
       "#'user/recFlat"
      ]
     },
     "execution_count": 157,
     "metadata": {},
     "output_type": "execute_result"
    }
   ],
   "source": [
    "(flatten_ '((1 2) 3 [4 [5 6]]))"
   ]
  },
  {
   "cell_type": "code",
   "execution_count": 162,
   "id": "cleared-disaster",
   "metadata": {},
   "outputs": [
    {
     "data": {
      "text/plain": [
       "false"
      ]
     },
     "execution_count": 162,
     "metadata": {},
     "output_type": "execute_result"
    }
   ],
   "source": [
    "(and (number? 10)\n",
    "     (< 10 20)\n",
    "     (= \"Clojure\" \"Clojure\")\n",
    "     (not true))"
   ]
  },
  {
   "cell_type": "code",
   "execution_count": 164,
   "id": "successful-second",
   "metadata": {},
   "outputs": [
    {
     "data": {
      "text/plain": [
       "false"
      ]
     },
     "execution_count": 164,
     "metadata": {},
     "output_type": "execute_result"
    }
   ],
   "source": [
    "(< 1 2 3 4 3)"
   ]
  },
  {
   "attachments": {
    "image.png": {
     "image/png": "[encoded data removed]"
    }
   },
   "cell_type": "markdown",
   "id": "inappropriate-effect",
   "metadata": {},
   "source": [
    "![image.png](attachment:image.png)"
   ]
  },
  {
   "cell_type": "code",
   "execution_count": null,
   "id": "wired-stuart",
   "metadata": {},
   "outputs": [],
   "source": []
  }
 ],
 "metadata": {
  "kernelspec": {
   "display_name": "Clojure (clojupyter-0.3.2)",
   "language": "clojure",
   "name": "clojupyter-0.3.2"
  },
  "language_info": {
   "file_extension": ".clj",
   "mimetype": "text/x-clojure",
   "name": "clojure",
   "version": "1.10.1"
  },
  "toc": {
   "base_numbering": 1,
   "nav_menu": {},
   "number_sections": false,
   "sideBar": true,
   "skip_h1_title": false,
   "title_cell": "Table of Contents",
   "title_sidebar": "Contents",
   "toc_cell": false,
   "toc_position": {},
   "toc_section_display": true,
   "toc_window_display": false
  }
 },
 "nbformat": 4,
 "nbformat_minor": 5
}
