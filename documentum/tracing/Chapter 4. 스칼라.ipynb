{
 "cells": [
  {
   "cell_type": "code",
   "execution_count": 1,
   "id": "colonial-brain",
   "metadata": {},
   "outputs": [
    {
     "name": "stdout",
     "output_type": "stream",
     "text": [
      "java.math.BigDecimal\n"
     ]
    },
    {
     "data": {
      "text/plain": [
       "3.14159265358979323846264338327950288419716939937M"
      ]
     },
     "execution_count": 1,
     "metadata": {},
     "output_type": "execute_result"
    }
   ],
   "source": [
    "(let [imadeuapi 3.14159265358979323846264338327950288419716939937M]\n",
    "    (println (class imadeuapi))\n",
    "    imadeuapi)"
   ]
  },
  {
   "cell_type": "code",
   "execution_count": 2,
   "id": "honey-cleveland",
   "metadata": {},
   "outputs": [
    {
     "name": "stdout",
     "output_type": "stream",
     "text": [
      "java.lang.Double\n"
     ]
    },
    {
     "data": {
      "text/plain": [
       "3.141592653589793"
      ]
     },
     "execution_count": 2,
     "metadata": {},
     "output_type": "execute_result"
    }
   ],
   "source": [
    "(let [butieatedit 3.14159265358979323846264338327950288419716939937]\n",
    "    (println (class butieatedit))\n",
    "    butieatedit)"
   ]
  },
  {
   "cell_type": "code",
   "execution_count": 4,
   "id": "sweet-painting",
   "metadata": {},
   "outputs": [
    {
     "data": {
      "text/plain": [
       "java.lang.Long"
      ]
     },
     "execution_count": 4,
     "metadata": {},
     "output_type": "execute_result"
    }
   ],
   "source": [
    "(def clueless 9)\n",
    "\n",
    "(class clueless)"
   ]
  },
  {
   "cell_type": "code",
   "execution_count": 11,
   "id": "superior-rates",
   "metadata": {},
   "outputs": [
    {
     "data": {
      "text/plain": [
       "java.lang.Long"
      ]
     },
     "execution_count": 11,
     "metadata": {},
     "output_type": "execute_result"
    }
   ],
   "source": [
    "(class (+ clueless 9000000000000000))"
   ]
  },
  {
   "cell_type": "code",
   "execution_count": 12,
   "id": "operational-variation",
   "metadata": {},
   "outputs": [
    {
     "data": {
      "text/plain": [
       "clojure.lang.BigInt"
      ]
     },
     "execution_count": 12,
     "metadata": {},
     "output_type": "execute_result"
    }
   ],
   "source": [
    "(class (+ clueless 90000000000000000000))"
   ]
  },
  {
   "cell_type": "code",
   "execution_count": 13,
   "id": "biological-pointer",
   "metadata": {},
   "outputs": [
    {
     "data": {
      "text/plain": [
       "java.lang.Double"
      ]
     },
     "execution_count": 13,
     "metadata": {},
     "output_type": "execute_result"
    }
   ],
   "source": [
    "(class (+ clueless 9.0))"
   ]
  },
  {
   "cell_type": "code",
   "execution_count": 14,
   "id": "brilliant-coach",
   "metadata": {},
   "outputs": [
    {
     "name": "stderr",
     "output_type": "stream",
     "text": [
      "Execution error (ArithmeticException) at user/eval4120 (REPL:1).\n",
      "integer overflow\n"
     ]
    },
    {
     "ename": "class java.lang.ArithmeticException",
     "evalue": "",
     "output_type": "error",
     "traceback": [
      "Numbers.java:  1576 clojure.lang.Numbers/throwIntOverflow",
      "Numbers.java:  1893 clojure.lang.Numbers/add",
      "    core.clj:  3214 clojure.core$eval/invokeStatic",
      "    core.clj:  3210 clojure.core$eval/invoke",
      "    main.clj:   437 clojure.main$repl$read_eval_print__9086$fn__9089/invoke",
      "    main.clj:   458 clojure.main$repl$fn__9095/invoke",
      "    main.clj:   368 clojure.main$repl/doInvoke",
      " RestFn.java:  1523 clojure.lang.RestFn/invoke",
      "    AFn.java:    22 clojure.lang.AFn/run",
      "    AFn.java:    22 clojure.lang.AFn/run",
      " Thread.java:   748 java.lang.Thread/run"
     ]
    }
   ],
   "source": [
    "(+ Long/MAX_VALUE Long/MAX_VALUE)"
   ]
  },
  {
   "cell_type": "code",
   "execution_count": 15,
   "id": "worldwide-average",
   "metadata": {},
   "outputs": [
    {
     "data": {
      "text/plain": [
       "-2"
      ]
     },
     "execution_count": 15,
     "metadata": {},
     "output_type": "execute_result"
    }
   ],
   "source": [
    "(unchecked-add (Long/MAX_VALUE) (Long/MAX_VALUE))"
   ]
  },
  {
   "cell_type": "code",
   "execution_count": 17,
   "id": "heated-nerve",
   "metadata": {},
   "outputs": [
    {
     "data": {
      "text/plain": [
       "0.0"
      ]
     },
     "execution_count": 17,
     "metadata": {},
     "output_type": "execute_result"
    }
   ],
   "source": [
    "(float 0.000000000000000000000000000000000000000000000000000000001)"
   ]
  },
  {
   "cell_type": "code",
   "execution_count": 18,
   "id": "second-version",
   "metadata": {},
   "outputs": [
    {
     "data": {
      "text/plain": [
       "0.0"
      ]
     },
     "execution_count": 18,
     "metadata": {},
     "output_type": "execute_result"
    }
   ],
   "source": [
    "1.0E-430"
   ]
  },
  {
   "cell_type": "code",
   "execution_count": 19,
   "id": "weighted-middle",
   "metadata": {},
   "outputs": [
    {
     "data": {
      "text/plain": [
       "0.34332275390625"
      ]
     },
     "execution_count": 19,
     "metadata": {},
     "output_type": "execute_result"
    }
   ],
   "source": [
    "(let [approx-interval (/ 209715 2097152) ; 패트리어트의 0.1에 대한 근사치\n",
    "      actual-interval (/ 1 10)     ; 클로저는 정확하게 0.1을 표현할 수 있다\n",
    "      hours           (* 3600 100 10)\n",
    "      actual-total    (double (* hours actual-interval))\n",
    "      approx-total    (double (* hours approx-interval))]\n",
    "    (- actual-total approx-total))"
   ]
  },
  {
   "cell_type": "code",
   "execution_count": 20,
   "id": "atomic-closure",
   "metadata": {},
   "outputs": [
    {
     "data": {
      "text/plain": [
       "0.9999999999999999"
      ]
     },
     "execution_count": 20,
     "metadata": {},
     "output_type": "execute_result"
    }
   ],
   "source": [
    "(+ 0.1M 0.1M 0.1M 0.1 0.1M 0.1M 0.1M 0.1M 0.1M 0.1M)"
   ]
  },
  {
   "cell_type": "code",
   "execution_count": 2,
   "id": "whole-bolivia",
   "metadata": {},
   "outputs": [
    {
     "data": {
      "text/plain": [
       "1.0E-430000000M"
      ]
     },
     "execution_count": 2,
     "metadata": {},
     "output_type": "execute_result"
    }
   ],
   "source": [
    "1.0E-430000000M"
   ]
  },
  {
   "cell_type": "code",
   "execution_count": 5,
   "id": "cosmetic-present",
   "metadata": {},
   "outputs": [
    {
     "name": "stderr",
     "output_type": "stream",
     "text": [
      "Syntax error reading source at (REPL:1:1).\n",
      "null\n"
     ]
    },
    {
     "ename": "class clojure.lang.ExceptionInfo",
     "evalue": "",
     "output_type": "error",
     "traceback": [
      "BigDecimal.java:   494 java.math.BigDecimal/<init>",
      "LispReader.java:   503 clojure.lang.LispReader/matchNumber",
      "LispReader.java:   350 clojure.lang.LispReader/readNumber",
      "LispReader.java:   278 clojure.lang.LispReader/read",
      "       core.clj:  3768 clojure.core$read/invokeStatic",
      "       core.clj:  3741 clojure.core$read/invoke",
      "       main.clj:   433 clojure.main$repl$read_eval_print__9086$fn__9087/invoke",
      "       main.clj:   432 clojure.main$repl$read_eval_print__9086/invoke",
      "       main.clj:   458 clojure.main$repl$fn__9095/invoke",
      "       main.clj:   368 clojure.main$repl/doInvoke",
      "    RestFn.java:  1523 clojure.lang.RestFn/invoke",
      "       AFn.java:    22 clojure.lang.AFn/run",
      "       AFn.java:    22 clojure.lang.AFn/run",
      "    Thread.java:   748 java.lang.Thread/run"
     ]
    }
   ],
   "source": [
    "1.0E-4300000000M"
   ]
  },
  {
   "cell_type": "code",
   "execution_count": 6,
   "id": "eleven-focus",
   "metadata": {},
   "outputs": [
    {
     "data": {
      "text/plain": [
       "17.0"
      ]
     },
     "execution_count": 6,
     "metadata": {},
     "output_type": "execute_result"
    }
   ],
   "source": [
    "(def a  1.0e50)\n",
    "(def b -1.0e50)\n",
    "(def c 17.0e00)\n",
    "\n",
    "(+ (+ a b) c)"
   ]
  },
  {
   "cell_type": "code",
   "execution_count": 7,
   "id": "radio-lebanon",
   "metadata": {},
   "outputs": [
    {
     "data": {
      "text/plain": [
       "0.0"
      ]
     },
     "execution_count": 7,
     "metadata": {},
     "output_type": "execute_result"
    }
   ],
   "source": [
    "(+ a (+ b c))"
   ]
  },
  {
   "cell_type": "code",
   "execution_count": 8,
   "id": "suitable-leave",
   "metadata": {},
   "outputs": [
    {
     "data": {
      "text/plain": [
       "17N"
      ]
     },
     "execution_count": 8,
     "metadata": {},
     "output_type": "execute_result"
    }
   ],
   "source": [
    "(def a (rationalize 1.0e50))\n",
    "(def b (rationalize -1.0e50))\n",
    "(def c (rationalize 17.0e00))\n",
    "\n",
    "(+ (+ a b) c)"
   ]
  },
  {
   "cell_type": "code",
   "execution_count": 9,
   "id": "cosmetic-soviet",
   "metadata": {},
   "outputs": [
    {
     "data": {
      "text/plain": [
       "17N"
      ]
     },
     "execution_count": 9,
     "metadata": {},
     "output_type": "execute_result"
    }
   ],
   "source": [
    "(+ a (+ b c))"
   ]
  },
  {
   "cell_type": "code",
   "execution_count": 10,
   "id": "personal-customer",
   "metadata": {},
   "outputs": [
    {
     "data": {
      "text/plain": [
       "123"
      ]
     },
     "execution_count": 10,
     "metadata": {},
     "output_type": "execute_result"
    }
   ],
   "source": [
    "(numerator (/ 123 10))"
   ]
  },
  {
   "cell_type": "code",
   "execution_count": 11,
   "id": "valued-variable",
   "metadata": {},
   "outputs": [
    {
     "data": {
      "text/plain": [
       "10"
      ]
     },
     "execution_count": 11,
     "metadata": {},
     "output_type": "execute_result"
    }
   ],
   "source": [
    "(denominator (/ 123 10))"
   ]
  },
  {
   "cell_type": "code",
   "execution_count": 12,
   "id": "passive-cambodia",
   "metadata": {},
   "outputs": [
    {
     "data": {
      "text/plain": [
       ":a-keyword"
      ]
     },
     "execution_count": 12,
     "metadata": {},
     "output_type": "execute_result"
    }
   ],
   "source": [
    ":a-keyword"
   ]
  },
  {
   "cell_type": "code",
   "execution_count": 14,
   "id": "relevant-review",
   "metadata": {},
   "outputs": [
    {
     "data": {
      "text/plain": [
       ":user/also-a-keyword"
      ]
     },
     "execution_count": 14,
     "metadata": {},
     "output_type": "execute_result"
    }
   ],
   "source": [
    "::also-a-keyword"
   ]
  },
  {
   "cell_type": "code",
   "execution_count": 15,
   "id": "unknown-bradford",
   "metadata": {},
   "outputs": [
    {
     "data": {
      "text/plain": [
       "2700"
      ]
     },
     "execution_count": 15,
     "metadata": {},
     "output_type": "execute_result"
    }
   ],
   "source": [
    "(def population {:zombies 2700, :humans 9})\n",
    "\n",
    "(get population :zombies)"
   ]
  },
  {
   "cell_type": "code",
   "execution_count": 16,
   "id": "social-compromise",
   "metadata": {},
   "outputs": [
    {
     "name": "stdout",
     "output_type": "stream",
     "text": [
      "300 zombies per capita\n"
     ]
    },
    {
     "data": {
      "text/plain": [
       "nil"
      ]
     },
     "execution_count": 16,
     "metadata": {},
     "output_type": "execute_result"
    }
   ],
   "source": [
    "(println (/ (get population :zombies)\n",
    "            (get population :humans))\n",
    "         \"zombies per capita\")"
   ]
  },
  {
   "cell_type": "code",
   "execution_count": 17,
   "id": "fresh-corner",
   "metadata": {},
   "outputs": [
    {
     "name": "stdout",
     "output_type": "stream",
     "text": [
      "300 zombies per capita\n"
     ]
    },
    {
     "data": {
      "text/plain": [
       "nil"
      ]
     },
     "execution_count": 17,
     "metadata": {},
     "output_type": "execute_result"
    }
   ],
   "source": [
    "(println (/ (population :zombies)\n",
    "            (population :humans))\n",
    "         \"zombies per capita\")"
   ]
  },
  {
   "cell_type": "code",
   "execution_count": 19,
   "id": "simple-survivor",
   "metadata": {},
   "outputs": [
    {
     "data": {
      "text/plain": [
       "2700"
      ]
     },
     "execution_count": 19,
     "metadata": {},
     "output_type": "execute_result"
    }
   ],
   "source": [
    "(:zombies population)"
   ]
  },
  {
   "cell_type": "code",
   "execution_count": 21,
   "id": "atomic-international",
   "metadata": {},
   "outputs": [
    {
     "name": "stdout",
     "output_type": "stream",
     "text": [
      "300 zombies per capita\n"
     ]
    },
    {
     "data": {
      "text/plain": [
       "nil"
      ]
     },
     "execution_count": 21,
     "metadata": {},
     "output_type": "execute_result"
    }
   ],
   "source": [
    "(println (/ (:zombies population)\n",
    "            (:humans population))\n",
    "         \"zombies per capita\")"
   ]
  },
  {
   "cell_type": "code",
   "execution_count": 22,
   "id": "graduate-aircraft",
   "metadata": {},
   "outputs": [
    {
     "data": {
      "text/plain": [
       "(1 2 3 4 5 6 7 8 9)"
      ]
     },
     "execution_count": 22,
     "metadata": {},
     "output_type": "execute_result"
    }
   ],
   "source": [
    "(defn pour [lb ub]\n",
    "    (cond\n",
    "        (= ub :toujours) (iterate inc lb)\n",
    "        :else (range lb ub)))\n",
    "\n",
    "(pour 1 10)"
   ]
  },
  {
   "cell_type": "code",
   "execution_count": 23,
   "id": "complex-recovery",
   "metadata": {},
   "outputs": [
    {
     "name": "stderr",
     "output_type": "stream",
     "text": [
      "*Interrupted*\n"
     ]
    },
    {
     "ename": "interrupted",
     "evalue": "",
     "output_type": "error",
     "traceback": [
      "(no stacktrace)"
     ]
    }
   ],
   "source": [
    ";; (pour 1 :toujours)"
   ]
  },
  {
   "cell_type": "code",
   "execution_count": 24,
   "id": "fresh-separate",
   "metadata": {},
   "outputs": [
    {
     "data": {
      "text/plain": [
       ":user/not-in-ns"
      ]
     },
     "execution_count": 24,
     "metadata": {},
     "output_type": "execute_result"
    }
   ],
   "source": [
    "::not-in-ns"
   ]
  },
  {
   "cell_type": "code",
   "execution_count": 25,
   "id": "alpha-detective",
   "metadata": {},
   "outputs": [
    {
     "data": {
      "text/plain": [
       "nil"
      ]
     },
     "execution_count": 25,
     "metadata": {},
     "output_type": "execute_result"
    }
   ],
   "source": [
    "(ns another)"
   ]
  },
  {
   "cell_type": "code",
   "execution_count": 36,
   "id": "worthy-transportation",
   "metadata": {},
   "outputs": [
    {
     "data": {
      "text/plain": [
       "nil"
      ]
     },
     "execution_count": 36,
     "metadata": {},
     "output_type": "execute_result"
    }
   ],
   "source": [
    "(defn do-blowfish [directive]\n",
    "  (case directive\n",
    "    :aquarium/blowfish (println \"feed the fish\")\n",
    "    :crypto/blowfish   (println \"encode the message\")\n",
    "    :blowfish          (println \"not sure what to do\")))\n",
    "(ns crypto)"
   ]
  },
  {
   "cell_type": "code",
   "execution_count": 37,
   "id": "wanted-headline",
   "metadata": {},
   "outputs": [
    {
     "name": "stdout",
     "output_type": "stream",
     "text": [
      "not sure what to do\n"
     ]
    },
    {
     "data": {
      "text/plain": [
       "nil"
      ]
     },
     "execution_count": 37,
     "metadata": {},
     "output_type": "execute_result"
    }
   ],
   "source": [
    "(do-blowfish :blowfish)"
   ]
  },
  {
   "cell_type": "code",
   "execution_count": 38,
   "id": "american-politics",
   "metadata": {},
   "outputs": [
    {
     "name": "stdout",
     "output_type": "stream",
     "text": [
      "encode the message\n"
     ]
    },
    {
     "data": {
      "text/plain": [
       "nil"
      ]
     },
     "execution_count": 38,
     "metadata": {},
     "output_type": "execute_result"
    }
   ],
   "source": [
    "(do-blowfish ::blowfish)"
   ]
  },
  {
   "cell_type": "code",
   "execution_count": 39,
   "id": "focused-amount",
   "metadata": {},
   "outputs": [
    {
     "data": {
      "text/plain": [
       "nil"
      ]
     },
     "execution_count": 39,
     "metadata": {},
     "output_type": "execute_result"
    }
   ],
   "source": [
    "(ns aquarium)"
   ]
  },
  {
   "cell_type": "code",
   "execution_count": 40,
   "id": "compact-consultation",
   "metadata": {},
   "outputs": [
    {
     "name": "stdout",
     "output_type": "stream",
     "text": [
      "not sure what to do\n"
     ]
    },
    {
     "data": {
      "text/plain": [
       "nil"
      ]
     },
     "execution_count": 40,
     "metadata": {},
     "output_type": "execute_result"
    }
   ],
   "source": [
    "(do-blowfish :blowfish)"
   ]
  },
  {
   "cell_type": "code",
   "execution_count": 41,
   "id": "south-yeast",
   "metadata": {
    "scrolled": true
   },
   "outputs": [
    {
     "name": "stdout",
     "output_type": "stream",
     "text": [
      "feed the fish\n"
     ]
    },
    {
     "data": {
      "text/plain": [
       "nil"
      ]
     },
     "execution_count": 41,
     "metadata": {},
     "output_type": "execute_result"
    }
   ],
   "source": [
    "(do-blowfish ::blowfish)"
   ]
  },
  {
   "cell_type": "code",
   "execution_count": 42,
   "id": "sunrise-athens",
   "metadata": {},
   "outputs": [
    {
     "data": {
      "text/plain": [
       "false"
      ]
     },
     "execution_count": 42,
     "metadata": {},
     "output_type": "execute_result"
    }
   ],
   "source": [
    "(identical? 'goat 'goat)"
   ]
  },
  {
   "cell_type": "code",
   "execution_count": 43,
   "id": "insured-agency",
   "metadata": {},
   "outputs": [
    {
     "data": {
      "text/plain": [
       "true"
      ]
     },
     "execution_count": 43,
     "metadata": {},
     "output_type": "execute_result"
    }
   ],
   "source": [
    "(= 'goat 'goat)"
   ]
  },
  {
   "cell_type": "code",
   "execution_count": 44,
   "id": "square-postage",
   "metadata": {},
   "outputs": [
    {
     "data": {
      "text/plain": [
       "\"goat\""
      ]
     },
     "execution_count": 44,
     "metadata": {},
     "output_type": "execute_result"
    }
   ],
   "source": [
    "(name 'goat)"
   ]
  },
  {
   "cell_type": "code",
   "execution_count": 45,
   "id": "moved-spelling",
   "metadata": {},
   "outputs": [
    {
     "data": {
      "text/plain": [
       "true"
      ]
     },
     "execution_count": 45,
     "metadata": {},
     "output_type": "execute_result"
    }
   ],
   "source": [
    "(let [x 'goat, y x]\n",
    "    (identical? x y))"
   ]
  },
  {
   "cell_type": "code",
   "execution_count": 46,
   "id": "tight-europe",
   "metadata": {},
   "outputs": [
    {
     "data": {
      "text/plain": [
       "[true false {:ornery true} {:ornery false}]"
      ]
     },
     "execution_count": 46,
     "metadata": {},
     "output_type": "execute_result"
    }
   ],
   "source": [
    "(let [x (with-meta 'goat {:ornery true})\n",
    "      y (with-meta 'goat {:ornery false})]\n",
    "    [(= x y)\n",
    "     (identical? x y)\n",
    "     (meta x)\n",
    "     (meta y)])"
   ]
  },
  {
   "cell_type": "code",
   "execution_count": 47,
   "id": "exact-handy",
   "metadata": {},
   "outputs": [
    {
     "data": {
      "text/plain": [
       "nil"
      ]
     },
     "execution_count": 47,
     "metadata": {},
     "output_type": "execute_result"
    }
   ],
   "source": [
    "(ns where-is)"
   ]
  },
  {
   "cell_type": "code",
   "execution_count": 48,
   "id": "important-undergraduate",
   "metadata": {},
   "outputs": [
    {
     "data": {
      "text/plain": [
       "#'where-is/a-symbol"
      ]
     },
     "execution_count": 48,
     "metadata": {},
     "output_type": "execute_result"
    }
   ],
   "source": [
    "(def a-symbol 'where-am-i)"
   ]
  },
  {
   "cell_type": "code",
   "execution_count": 49,
   "id": "controlling-eating",
   "metadata": {},
   "outputs": [
    {
     "data": {
      "text/plain": [
       "where-am-i"
      ]
     },
     "execution_count": 49,
     "metadata": {},
     "output_type": "execute_result"
    }
   ],
   "source": [
    "a-symbol"
   ]
  },
  {
   "cell_type": "code",
   "execution_count": 50,
   "id": "accomplished-bicycle",
   "metadata": {},
   "outputs": [
    {
     "data": {
      "text/plain": [
       "#'where-is/a-symbol"
      ]
     },
     "execution_count": 50,
     "metadata": {},
     "output_type": "execute_result"
    }
   ],
   "source": [
    "(resolve 'a-symbol)"
   ]
  },
  {
   "cell_type": "code",
   "execution_count": 51,
   "id": "mineral-machinery",
   "metadata": {},
   "outputs": [
    {
     "data": {
      "text/plain": [
       "where-is/a-symbol"
      ]
     },
     "execution_count": 51,
     "metadata": {},
     "output_type": "execute_result"
    }
   ],
   "source": [
    "`a-symbol"
   ]
  },
  {
   "cell_type": "code",
   "execution_count": 56,
   "id": "chubby-grace",
   "metadata": {},
   "outputs": [
    {
     "data": {
      "text/plain": [
       "#'where-is/best"
      ]
     },
     "execution_count": 56,
     "metadata": {},
     "output_type": "execute_result"
    }
   ],
   "source": [
    "(defn best [f xs]\n",
    "    (reduce #(if (f % %2) % %2) xs))"
   ]
  },
  {
   "cell_type": "code",
   "execution_count": 57,
   "id": "photographic-excuse",
   "metadata": {},
   "outputs": [
    {
     "data": {
      "text/plain": [
       "7"
      ]
     },
     "execution_count": 57,
     "metadata": {},
     "output_type": "execute_result"
    }
   ],
   "source": [
    "(best > [1 3 4 2 7 5 3])"
   ]
  },
  {
   "cell_type": "code",
   "execution_count": 59,
   "id": "graphic-functionality",
   "metadata": {},
   "outputs": [],
   "source": [
    ";; ;; 클로저 코드가 아닌, 커먼 리습 코드임\n",
    ";; (defun best (f xs)\n",
    ";;        (reduce #'(lambda (l r)\n",
    ";;                          (if (funcall f l r) l r))\n",
    ";;                xs))\n",
    "\n",
    ";; (best #'> '(1 3 4 2 7 5 3))"
   ]
  },
  {
   "cell_type": "code",
   "execution_count": 60,
   "id": "jewish-queen",
   "metadata": {},
   "outputs": [
    {
     "data": {
      "text/plain": [
       "#\"an example pattern\""
      ]
     },
     "execution_count": 60,
     "metadata": {},
     "output_type": "execute_result"
    }
   ],
   "source": [
    "#\"an example pattern\""
   ]
  },
  {
   "cell_type": "code",
   "execution_count": 61,
   "id": "registered-constitution",
   "metadata": {},
   "outputs": [
    {
     "data": {
      "text/plain": [
       "java.util.regex.Pattern"
      ]
     },
     "execution_count": 61,
     "metadata": {},
     "output_type": "execute_result"
    }
   ],
   "source": [
    "(class #\"example\")"
   ]
  },
  {
   "cell_type": "code",
   "execution_count": 62,
   "id": "focused-receiver",
   "metadata": {},
   "outputs": [
    {
     "data": {
      "text/plain": [
       "#\"\\d\""
      ]
     },
     "execution_count": 62,
     "metadata": {},
     "output_type": "execute_result"
    }
   ],
   "source": [
    "(java.util.regex.Pattern/compile \"\\\\d\")"
   ]
  },
  {
   "cell_type": "code",
   "execution_count": 65,
   "id": "passive-frequency",
   "metadata": {},
   "outputs": [
    {
     "data": {
      "text/plain": [
       "#\"\\\\d\""
      ]
     },
     "execution_count": 65,
     "metadata": {},
     "output_type": "execute_result"
    }
   ],
   "source": [
    "(java.util.regex.Pattern/compile \"\\\\\\\\d\")"
   ]
  },
  {
   "cell_type": "code",
   "execution_count": 68,
   "id": "focused-percentage",
   "metadata": {},
   "outputs": [
    {
     "data": {
      "text/plain": [
       "(\"one\" \"two\" \"three\")"
      ]
     },
     "execution_count": 68,
     "metadata": {},
     "output_type": "execute_result"
    }
   ],
   "source": [
    "(re-seq #\"\\w+\" \"one-two/three\")"
   ]
  },
  {
   "cell_type": "code",
   "execution_count": 69,
   "id": "micro-seller",
   "metadata": {},
   "outputs": [
    {
     "data": {
      "text/plain": [
       "([\"one\" \"e\"] [\"two\" \"o\"] [\"three\" \"e\"])"
      ]
     },
     "execution_count": 69,
     "metadata": {},
     "output_type": "execute_result"
    }
   ],
   "source": [
    "(re-seq #\"\\w+(\\w)\" \"one-two/three\")"
   ]
  },
  {
   "cell_type": "code",
   "execution_count": null,
   "id": "automated-screw",
   "metadata": {},
   "outputs": [],
   "source": []
  },
  {
   "cell_type": "code",
   "execution_count": null,
   "id": "minus-beijing",
   "metadata": {},
   "outputs": [],
   "source": []
  }
 ],
 "metadata": {
  "kernelspec": {
   "display_name": "Clojure (clojupyter-0.3.2)",
   "language": "clojure",
   "name": "clojupyter-0.3.2"
  },
  "language_info": {
   "file_extension": ".clj",
   "mimetype": "text/x-clojure",
   "name": "clojure",
   "version": "1.10.1"
  },
  "toc": {
   "base_numbering": 1,
   "nav_menu": {},
   "number_sections": true,
   "sideBar": true,
   "skip_h1_title": false,
   "title_cell": "Table of Contents",
   "title_sidebar": "Contents",
   "toc_cell": false,
   "toc_position": {},
   "toc_section_display": true,
   "toc_window_display": false
  },
  "varInspector": {
   "cols": {
    "lenName": 16,
    "lenType": 16,
    "lenVar": 40
   },
   "kernels_config": {
    "python": {
     "delete_cmd_postfix": "",
     "delete_cmd_prefix": "del ",
     "library": "var_list.py",
     "varRefreshCmd": "print(var_dic_list())"
    },
    "r": {
     "delete_cmd_postfix": ") ",
     "delete_cmd_prefix": "rm(",
     "library": "var_list.r",
     "varRefreshCmd": "cat(var_dic_list()) "
    }
   },
   "types_to_exclude": [
    "module",
    "function",
    "builtin_function_or_method",
    "instance",
    "_Feature"
   ],
   "window_display": false
  }
 },
 "nbformat": 4,
 "nbformat_minor": 5
}
