{
 "cells": [
  {
   "cell_type": "code",
   "execution_count": 1,
   "id": "female-gregory",
   "metadata": {},
   "outputs": [
    {
     "data": {
      "text/plain": [
       "{:e 5, :c 3, :b 2, :d 4, :a 1}"
      ]
     },
     "execution_count": 1,
     "metadata": {},
     "output_type": "execute_result"
    }
   ],
   "source": [
    "(hash-map :a 1, :b 2, :c 3, :d 4, :e 5)"
   ]
  },
  {
   "cell_type": "code",
   "execution_count": 3,
   "id": "blessed-theorem",
   "metadata": {},
   "outputs": [
    {
     "data": {
      "text/plain": [
       "[1 \"4 5 6\"]"
      ]
     },
     "execution_count": 3,
     "metadata": {},
     "output_type": "execute_result"
    }
   ],
   "source": [
    "(let [m {:a 1, 1 :b, [1 2 3] \"4 5 6\"}]\n",
    "  [(get m :a) (get m [1 2 3])])"
   ]
  },
  {
   "cell_type": "code",
   "execution_count": 4,
   "id": "psychological-tactics",
   "metadata": {},
   "outputs": [
    {
     "data": {
      "text/plain": [
       "nil"
      ]
     },
     "execution_count": 4,
     "metadata": {},
     "output_type": "execute_result"
    }
   ],
   "source": [
    "(let [m {:a 1, 1 :b, [1 2 3] \"4 5 6\"}])"
   ]
  },
  {
   "cell_type": "code",
   "execution_count": 6,
   "id": "embedded-convention",
   "metadata": {},
   "outputs": [
    {
     "data": {
      "text/plain": [
       "[m {:a 1, 1 :b, [1 2 3] \"4 5 6\"}]"
      ]
     },
     "execution_count": 6,
     "metadata": {},
     "output_type": "execute_result"
    }
   ],
   "source": [
    "'[m {:a 1, 1 :b, [1 2 3] \"4 5 6\"}]"
   ]
  },
  {
   "cell_type": "code",
   "execution_count": 8,
   "id": "plastic-ottawa",
   "metadata": {},
   "outputs": [
    {
     "data": {
      "text/plain": [
       "3"
      ]
     },
     "execution_count": 8,
     "metadata": {},
     "output_type": "execute_result"
    }
   ],
   "source": [
    "(let [a 1 b 2]\n",
    "    (+ a b))"
   ]
  },
  {
   "cell_type": "code",
   "execution_count": 9,
   "id": "regulation-whale",
   "metadata": {},
   "outputs": [
    {
     "data": {
      "text/plain": [
       "#'user/xform"
      ]
     },
     "execution_count": 9,
     "metadata": {},
     "output_type": "execute_result"
    }
   ],
   "source": [
    "(def xform (comp (map #(+ 2 %))\n",
    "                 (filter odd?)))"
   ]
  },
  {
   "cell_type": "code",
   "execution_count": 16,
   "id": "beautiful-subdivision",
   "metadata": {},
   "outputs": [
    {
     "data": {
      "text/plain": [
       "[-1 -2 3 5 7 9 11]"
      ]
     },
     "execution_count": 16,
     "metadata": {},
     "output_type": "execute_result"
    }
   ],
   "source": [
    "(into [-1 -2] xform (range 10))"
   ]
  },
  {
   "cell_type": "code",
   "execution_count": 17,
   "id": "renewable-soldier",
   "metadata": {},
   "outputs": [
    {
     "data": {
      "text/plain": [
       "#function[clojure.core/map/fn--5862/fn--5863]"
      ]
     },
     "execution_count": 17,
     "metadata": {},
     "output_type": "execute_result"
    }
   ],
   "source": [
    "(xform (range 10))"
   ]
  },
  {
   "cell_type": "code",
   "execution_count": 18,
   "id": "pleased-renewal",
   "metadata": {},
   "outputs": [
    {
     "data": {
      "text/plain": [
       "#'user/xs"
      ]
     },
     "execution_count": 18,
     "metadata": {},
     "output_type": "execute_result"
    }
   ],
   "source": [
    "(def xs [[1 2 3] [11 22 33] [111 222 333]])"
   ]
  },
  {
   "cell_type": "code",
   "execution_count": 19,
   "id": "quick-childhood",
   "metadata": {},
   "outputs": [
    {
     "data": {
      "text/plain": [
       "[11 22 33]"
      ]
     },
     "execution_count": 19,
     "metadata": {},
     "output_type": "execute_result"
    }
   ],
   "source": [
    "(first (next xs))"
   ]
  },
  {
   "cell_type": "code",
   "execution_count": 20,
   "id": "numerous-charlotte",
   "metadata": {},
   "outputs": [
    {
     "data": {
      "text/plain": [
       "([11 22 33] [111 222 333])"
      ]
     },
     "execution_count": 20,
     "metadata": {},
     "output_type": "execute_result"
    }
   ],
   "source": [
    "(next xs)"
   ]
  },
  {
   "cell_type": "code",
   "execution_count": 21,
   "id": "critical-dragon",
   "metadata": {},
   "outputs": [
    {
     "data": {
      "text/plain": [
       "[11 22 33]"
      ]
     },
     "execution_count": 21,
     "metadata": {},
     "output_type": "execute_result"
    }
   ],
   "source": [
    "(fnext xs)"
   ]
  },
  {
   "cell_type": "code",
   "execution_count": 22,
   "id": "living-content",
   "metadata": {},
   "outputs": [
    {
     "data": {
      "text/plain": [
       "[11 22 33]"
      ]
     },
     "execution_count": 22,
     "metadata": {},
     "output_type": "execute_result"
    }
   ],
   "source": [
    "(second xs)"
   ]
  },
  {
   "cell_type": "code",
   "execution_count": 23,
   "id": "protective-enzyme",
   "metadata": {},
   "outputs": [
    {
     "data": {
      "text/plain": [
       "[1 2 3]"
      ]
     },
     "execution_count": 23,
     "metadata": {},
     "output_type": "execute_result"
    }
   ],
   "source": [
    "(first xs)"
   ]
  },
  {
   "cell_type": "code",
   "execution_count": 24,
   "id": "legitimate-nowhere",
   "metadata": {},
   "outputs": [
    {
     "data": {
      "text/plain": [
       "(2 3)"
      ]
     },
     "execution_count": 24,
     "metadata": {},
     "output_type": "execute_result"
    }
   ],
   "source": [
    "(next (first xs))"
   ]
  },
  {
   "cell_type": "code",
   "execution_count": 25,
   "id": "constant-guidance",
   "metadata": {},
   "outputs": [
    {
     "data": {
      "text/plain": [
       "[1 2]"
      ]
     },
     "execution_count": 25,
     "metadata": {},
     "output_type": "execute_result"
    }
   ],
   "source": [
    "(let [x 1]\n",
    "  (let [y 2]\n",
    "    [x y]))"
   ]
  },
  {
   "cell_type": "code",
   "execution_count": 26,
   "id": "promotional-power",
   "metadata": {},
   "outputs": [
    {
     "data": {
      "text/plain": [
       "[1 2]"
      ]
     },
     "execution_count": 26,
     "metadata": {},
     "output_type": "execute_result"
    }
   ],
   "source": [
    "(let [x 1 y 2]\n",
    "  [x y])"
   ]
  },
  {
   "cell_type": "code",
   "execution_count": null,
   "id": "former-module",
   "metadata": {},
   "outputs": [],
   "source": []
  },
  {
   "cell_type": "code",
   "execution_count": null,
   "id": "possible-institute",
   "metadata": {},
   "outputs": [],
   "source": []
  },
  {
   "cell_type": "code",
   "execution_count": null,
   "id": "utility-ordinary",
   "metadata": {},
   "outputs": [],
   "source": []
  },
  {
   "cell_type": "code",
   "execution_count": null,
   "id": "geological-pattern",
   "metadata": {},
   "outputs": [],
   "source": []
  },
  {
   "cell_type": "code",
   "execution_count": null,
   "id": "legislative-boulder",
   "metadata": {},
   "outputs": [],
   "source": []
  },
  {
   "cell_type": "code",
   "execution_count": null,
   "id": "frequent-enemy",
   "metadata": {},
   "outputs": [],
   "source": []
  },
  {
   "cell_type": "code",
   "execution_count": null,
   "id": "acting-membership",
   "metadata": {},
   "outputs": [],
   "source": []
  },
  {
   "cell_type": "code",
   "execution_count": null,
   "id": "driving-factor",
   "metadata": {},
   "outputs": [],
   "source": []
  },
  {
   "cell_type": "code",
   "execution_count": null,
   "id": "minute-mount",
   "metadata": {},
   "outputs": [],
   "source": []
  },
  {
   "cell_type": "code",
   "execution_count": null,
   "id": "polyphonic-circumstances",
   "metadata": {},
   "outputs": [],
   "source": []
  },
  {
   "cell_type": "code",
   "execution_count": null,
   "id": "funny-truck",
   "metadata": {},
   "outputs": [],
   "source": []
  }
 ],
 "metadata": {
  "kernelspec": {
   "display_name": "Clojure (clojupyter-0.3.2)",
   "language": "clojure",
   "name": "clojupyter-0.3.2"
  },
  "language_info": {
   "file_extension": ".clj",
   "mimetype": "text/x-clojure",
   "name": "clojure",
   "version": "1.10.1"
  },
  "toc": {
   "base_numbering": 1,
   "nav_menu": {},
   "number_sections": false,
   "sideBar": true,
   "skip_h1_title": false,
   "title_cell": "Table of Contents",
   "title_sidebar": "Contents",
   "toc_cell": false,
   "toc_position": {},
   "toc_section_display": true,
   "toc_window_display": false
  }
 },
 "nbformat": 4,
 "nbformat_minor": 5
}
