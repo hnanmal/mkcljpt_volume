{
 "cells": [
  {
   "cell_type": "code",
   "execution_count": 1,
   "id": "lined-waters",
   "metadata": {},
   "outputs": [
    {
     "data": {
      "text/plain": [
       "nil"
      ]
     },
     "execution_count": 1,
     "metadata": {},
     "output_type": "execute_result"
    }
   ],
   "source": [
    "(ns joy.udp\n",
    "  (:refer-clojure :exclude [get]))  ; clojure.core/get을 참조에서 제외"
   ]
  },
  {
   "cell_type": "code",
   "execution_count": 3,
   "id": "physical-complex",
   "metadata": {},
   "outputs": [
    {
     "data": {
      "text/plain": [
       "#'joy.udp/beget"
      ]
     },
     "execution_count": 3,
     "metadata": {},
     "output_type": "execute_result"
    }
   ],
   "source": [
    "(defn beget [this proto]\n",
    "    (assoc this :prototype proto))"
   ]
  },
  {
   "cell_type": "code",
   "execution_count": 4,
   "id": "weighted-accent",
   "metadata": {},
   "outputs": [
    {
     "data": {
      "text/plain": [
       "{:sub 0, :prototype {:super 1}}"
      ]
     },
     "execution_count": 4,
     "metadata": {},
     "output_type": "execute_result"
    }
   ],
   "source": [
    "(beget {:sub 0} {:super 1})"
   ]
  },
  {
   "cell_type": "code",
   "execution_count": 5,
   "id": "emotional-bearing",
   "metadata": {},
   "outputs": [
    {
     "data": {
      "text/plain": [
       "#'joy.udp/beget"
      ]
     },
     "execution_count": 5,
     "metadata": {},
     "output_type": "execute_result"
    }
   ],
   "source": [
    "(defn beget [this proto]\n",
    "    (assoc this ::prototype proto))"
   ]
  },
  {
   "cell_type": "code",
   "execution_count": 6,
   "id": "stunning-damage",
   "metadata": {},
   "outputs": [
    {
     "data": {
      "text/plain": [
       "{:sub 0, :joy.udp/prototype {:super 1}}"
      ]
     },
     "execution_count": 6,
     "metadata": {},
     "output_type": "execute_result"
    }
   ],
   "source": [
    "(beget {:sub 0} {:super 1})"
   ]
  },
  {
   "cell_type": "code",
   "execution_count": 8,
   "id": "rubber-pipeline",
   "metadata": {},
   "outputs": [
    {
     "data": {
      "text/plain": [
       "1"
      ]
     },
     "execution_count": 8,
     "metadata": {},
     "output_type": "execute_result"
    }
   ],
   "source": [
    "(defn get [m k]\n",
    "    (when m  ;; 인자로 받은 맵이 유효할 때\n",
    "        (if-let [[_ v] (find m k)]  ;k 키값으로 m을 조회해서 나온 엔트리 중 값만 취해서 v에 할당해보고\n",
    "            v  ; v값이 할당되면 v값을 반환\n",
    "            (recur (::prototype m) k)))) ; 할당되지 않으면 인자로 받은 맵 중 ::prototype 키에 할당된 값(프로토타입맵) 에서 k 값으로 조회\n",
    "\n",
    "(get (beget {:sub 0} {:super 1})\n",
    "     :super)"
   ]
  },
  {
   "cell_type": "code",
   "execution_count": 23,
   "id": "nervous-progressive",
   "metadata": {},
   "outputs": [
    {
     "data": {
      "text/plain": [
       "3628800"
      ]
     },
     "execution_count": 23,
     "metadata": {},
     "output_type": "execute_result"
    }
   ],
   "source": [
    "; A loop that sums the numbers 10 + 9 + 8 + ...\n",
    "\n",
    "; Set initial values count (cnt) from 10 and down\n",
    "(loop [sum 1\n",
    "       cnt 10]\n",
    "    ; If count reaches 0 then exit the loop and return sum\n",
    "    (if (= cnt 0)\n",
    "      sum\n",
    "    ; Otherwise add count to sum, decrease count and \n",
    "    ; use recur to feed the new values back into the loop\n",
    "    (recur (* cnt sum) (dec cnt))))"
   ]
  },
  {
   "cell_type": "code",
   "execution_count": 25,
   "id": "ongoing-battlefield",
   "metadata": {},
   "outputs": [
    {
     "name": "stdout",
     "output_type": "stream",
     "text": [
      "0\n",
      "1\n",
      "2\n",
      "3\n",
      "4\n"
     ]
    },
    {
     "data": {
      "text/plain": [
       "nil"
      ]
     },
     "execution_count": 25,
     "metadata": {},
     "output_type": "execute_result"
    }
   ],
   "source": [
    "(loop [i 0]  \n",
    "  (when (< i 5)    \n",
    "    (println i)    \n",
    "    (recur (inc i)); loop i will take this value\n",
    "))"
   ]
  },
  {
   "cell_type": "code",
   "execution_count": 27,
   "id": "growing-quest",
   "metadata": {},
   "outputs": [
    {
     "data": {
      "text/plain": [
       "#'joy.udp/greatest-of"
      ]
     },
     "execution_count": 27,
     "metadata": {},
     "output_type": "execute_result"
    }
   ],
   "source": [
    "(defn compute-across [func elements value]\n",
    "  (if (empty? elements)\n",
    "    value\n",
    "    (recur func (rest elements) (func value (first elements)))))\n",
    "\n",
    "(defn total-of [numbers]\n",
    "  (compute-across + numbers 0))\n",
    "\n",
    "(defn larger-of [x y]\n",
    "  (if (> x y) x y))\n",
    "\n",
    "(defn greatest-of [numbers]\n",
    "  (compute-across larger-of numbers (first numbers)))"
   ]
  },
  {
   "cell_type": "code",
   "execution_count": 28,
   "id": "serious-boards",
   "metadata": {},
   "outputs": [
    {
     "data": {
      "text/plain": [
       "5"
      ]
     },
     "execution_count": 28,
     "metadata": {},
     "output_type": "execute_result"
    }
   ],
   "source": [
    "(greatest-of [1 2 3 4 5])"
   ]
  },
  {
   "cell_type": "code",
   "execution_count": null,
   "id": "under-basement",
   "metadata": {},
   "outputs": [],
   "source": []
  }
 ],
 "metadata": {
  "kernelspec": {
   "display_name": "Clojure (clojupyter-0.3.2)",
   "language": "clojure",
   "name": "clojupyter-0.3.2"
  },
  "language_info": {
   "file_extension": ".clj",
   "mimetype": "text/x-clojure",
   "name": "clojure",
   "version": "1.10.1"
  }
 },
 "nbformat": 4,
 "nbformat_minor": 5
}
