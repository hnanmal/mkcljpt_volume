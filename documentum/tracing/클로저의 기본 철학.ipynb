{
 "cells": [
  {
   "cell_type": "code",
   "execution_count": 1,
   "id": "respective-valve",
   "metadata": {},
   "outputs": [
    {
     "data": {
      "text/plain": [
       "([:a 1] [:a 3] [:b 1] [:b 3])"
      ]
     },
     "execution_count": 1,
     "metadata": {},
     "output_type": "execute_result"
    }
   ],
   "source": [
    "(for [x [:a :b], y (range 5) :when (odd? y)]\n",
    "    [x y])"
   ]
  },
  {
   "cell_type": "code",
   "execution_count": 3,
   "id": "metallic-indonesia",
   "metadata": {},
   "outputs": [
    {
     "name": "stdout",
     "output_type": "stream",
     "text": [
      ":a 1\n",
      ":a 3\n",
      ":b 1\n",
      ":b 3\n"
     ]
    },
    {
     "data": {
      "text/plain": [
       "nil"
      ]
     },
     "execution_count": 3,
     "metadata": {},
     "output_type": "execute_result"
    }
   ],
   "source": [
    "(doseq [x [:a :b], y (range 5) :when (odd? y)]\n",
    "    (prn x y))"
   ]
  },
  {
   "cell_type": "code",
   "execution_count": 5,
   "id": "above-tampa",
   "metadata": {},
   "outputs": [
    {
     "data": {
      "text/plain": [
       "([7 1] [7 3] [9 1] [9 3] [11 1] [11 3])"
      ]
     },
     "execution_count": 5,
     "metadata": {},
     "output_type": "execute_result"
    }
   ],
   "source": [
    "(for [x [7 8 9 10 11 12], y (range 5) :when (and (odd? x) (odd? y))]\n",
    "    [x y])"
   ]
  },
  {
   "cell_type": "code",
   "execution_count": 6,
   "id": "bridal-junior",
   "metadata": {},
   "outputs": [
    {
     "data": {
      "text/plain": [
       "#'user/r->lfix"
      ]
     },
     "execution_count": 6,
     "metadata": {},
     "output_type": "execute_result"
    }
   ],
   "source": [
    "(defn r->lfix\n",
    "    ([a op b]              (op a b))\n",
    "    ([a op1 b op2 c]       (op1 a (op2 b c)))\n",
    "    ([a op1 b op2 c op3 d] (op1 a (op2 b (op3 c d)))))"
   ]
  },
  {
   "cell_type": "code",
   "execution_count": 8,
   "id": "affecting-julian",
   "metadata": {},
   "outputs": [
    {
     "data": {
      "text/plain": [
       "3"
      ]
     },
     "execution_count": 8,
     "metadata": {},
     "output_type": "execute_result"
    }
   ],
   "source": [
    "(r->lfix 1 + 2)"
   ]
  },
  {
   "cell_type": "code",
   "execution_count": 9,
   "id": "sticky-nancy",
   "metadata": {},
   "outputs": [
    {
     "data": {
      "text/plain": [
       "6"
      ]
     },
     "execution_count": 9,
     "metadata": {},
     "output_type": "execute_result"
    }
   ],
   "source": [
    "(r->lfix 1 + 2 + 3)"
   ]
  },
  {
   "cell_type": "code",
   "execution_count": 10,
   "id": "adjustable-senegal",
   "metadata": {},
   "outputs": [
    {
     "data": {
      "text/plain": [
       "7"
      ]
     },
     "execution_count": 10,
     "metadata": {},
     "output_type": "execute_result"
    }
   ],
   "source": [
    "(r->lfix 1 + 2 * 3)"
   ]
  },
  {
   "cell_type": "code",
   "execution_count": 11,
   "id": "military-macro",
   "metadata": {},
   "outputs": [
    {
     "data": {
      "text/plain": [
       "50"
      ]
     },
     "execution_count": 11,
     "metadata": {},
     "output_type": "execute_result"
    }
   ],
   "source": [
    "(r->lfix 10 * 2 + 3)"
   ]
  },
  {
   "cell_type": "code",
   "execution_count": 18,
   "id": "earlier-pursuit",
   "metadata": {},
   "outputs": [
    {
     "data": {
      "text/plain": [
       "#'user/l->rfix"
      ]
     },
     "execution_count": 18,
     "metadata": {},
     "output_type": "execute_result"
    }
   ],
   "source": [
    "(defn l->rfix\n",
    "    ([a op b]              (op a b))\n",
    "    ([a op1 b op2 c]       (op2 c (op1 a b)))\n",
    "    ([a op1 b op2 c op3 d] (op3 d (op2 c (op1 a b)))))"
   ]
  },
  {
   "cell_type": "code",
   "execution_count": 19,
   "id": "rubber-spread",
   "metadata": {},
   "outputs": [
    {
     "data": {
      "text/plain": [
       "23"
      ]
     },
     "execution_count": 19,
     "metadata": {},
     "output_type": "execute_result"
    }
   ],
   "source": [
    "(l->rfix 10 * 2 + 3)"
   ]
  },
  {
   "cell_type": "code",
   "execution_count": 20,
   "id": "amazing-gasoline",
   "metadata": {},
   "outputs": [
    {
     "data": {
      "text/plain": [
       "6"
      ]
     },
     "execution_count": 20,
     "metadata": {},
     "output_type": "execute_result"
    }
   ],
   "source": [
    "(l->rfix 1 + 2 + 3)"
   ]
  },
  {
   "cell_type": "code",
   "execution_count": 21,
   "id": "traditional-perfume",
   "metadata": {},
   "outputs": [
    {
     "data": {
      "text/plain": [
       "9"
      ]
     },
     "execution_count": 21,
     "metadata": {},
     "output_type": "execute_result"
    }
   ],
   "source": [
    "(l->rfix 1 + 2 * 3)"
   ]
  },
  {
   "cell_type": "code",
   "execution_count": 22,
   "id": "understood-senior",
   "metadata": {},
   "outputs": [
    {
     "data": {
      "text/plain": [
       "#'user/order"
      ]
     },
     "execution_count": 22,
     "metadata": {},
     "output_type": "execute_result"
    }
   ],
   "source": [
    "(def order {+ 0 - 0\n",
    "            * 1 / 1})"
   ]
  },
  {
   "cell_type": "code",
   "execution_count": 23,
   "id": "stunning-location",
   "metadata": {},
   "outputs": [
    {
     "data": {
      "text/plain": [
       "#'user/infix3"
      ]
     },
     "execution_count": 23,
     "metadata": {},
     "output_type": "execute_result"
    }
   ],
   "source": [
    "(defn infix3 [a op1 b op2 c]\n",
    "    (if (< (get order op1) (get order op2))\n",
    "        (r->lfix a op1 b op2 c)\n",
    "        (l->rfix a op1 b op2 c)))"
   ]
  },
  {
   "cell_type": "code",
   "execution_count": 24,
   "id": "antique-print",
   "metadata": {},
   "outputs": [
    {
     "data": {
      "text/plain": [
       "7"
      ]
     },
     "execution_count": 24,
     "metadata": {},
     "output_type": "execute_result"
    }
   ],
   "source": [
    "(infix3 1 + 2 * 3)"
   ]
  },
  {
   "cell_type": "code",
   "execution_count": 25,
   "id": "joined-dispatch",
   "metadata": {},
   "outputs": [
    {
     "data": {
      "text/plain": [
       "23"
      ]
     },
     "execution_count": 25,
     "metadata": {},
     "output_type": "execute_result"
    }
   ],
   "source": [
    "(infix3 10 * 2 + 3)"
   ]
  },
  {
   "cell_type": "code",
   "execution_count": 26,
   "id": "exempt-prisoner",
   "metadata": {},
   "outputs": [
    {
     "data": {
      "text/plain": [
       "true"
      ]
     },
     "execution_count": 26,
     "metadata": {},
     "output_type": "execute_result"
    }
   ],
   "source": [
    "(< (+ 1 (* 2 3))\n",
    "   (* 2 (+ 1 3)))"
   ]
  },
  {
   "cell_type": "code",
   "execution_count": 27,
   "id": "determined-schema",
   "metadata": {},
   "outputs": [
    {
     "data": {
      "text/plain": [
       "55"
      ]
     },
     "execution_count": 27,
     "metadata": {},
     "output_type": "execute_result"
    }
   ],
   "source": [
    "(+ 1 2 3 4 5 6 7 8 9 10)"
   ]
  },
  {
   "cell_type": "code",
   "execution_count": 28,
   "id": "broad-calendar",
   "metadata": {},
   "outputs": [
    {
     "data": {
      "text/plain": [
       "55"
      ]
     },
     "execution_count": 28,
     "metadata": {},
     "output_type": "execute_result"
    }
   ],
   "source": [
    "(def numbers [1 2 3 4 5 6 7 8 9 10])\n",
    "\n",
    "(apply + numbers)"
   ]
  },
  {
   "cell_type": "code",
   "execution_count": 32,
   "id": "designing-optimum",
   "metadata": {},
   "outputs": [
    {
     "data": {
      "text/plain": [
       "true"
      ]
     },
     "execution_count": 32,
     "metadata": {},
     "output_type": "execute_result"
    }
   ],
   "source": [
    "(< 0 42)"
   ]
  },
  {
   "cell_type": "code",
   "execution_count": 33,
   "id": "defined-february",
   "metadata": {},
   "outputs": [
    {
     "data": {
      "text/plain": [
       "true"
      ]
     },
     "execution_count": 33,
     "metadata": {},
     "output_type": "execute_result"
    }
   ],
   "source": [
    "(< 0 1 3 9 36 42 108)"
   ]
  },
  {
   "cell_type": "code",
   "execution_count": 34,
   "id": "pleased-hearing",
   "metadata": {},
   "outputs": [
    {
     "data": {
      "text/plain": [
       "false"
      ]
     },
     "execution_count": 34,
     "metadata": {},
     "output_type": "execute_result"
    }
   ],
   "source": [
    "(< 0 1 3 9 36 -1000 42 108)"
   ]
  },
  {
   "cell_type": "code",
   "execution_count": 35,
   "id": "gorgeous-vertical",
   "metadata": {
    "scrolled": true
   },
   "outputs": [
    {
     "name": "stderr",
     "output_type": "stream",
     "text": [
      "Warning: protocol #'user/Concatenatable is overwriting function cat\n",
      "WARNING: cat already refers to: #'clojure.core/cat in namespace: user, being replaced by: #'user/cat\n"
     ]
    },
    {
     "data": {
      "text/plain": [
       "Concatenatable"
      ]
     },
     "execution_count": 35,
     "metadata": {},
     "output_type": "execute_result"
    }
   ],
   "source": [
    "(defprotocol Concatenatable\n",
    "    (cat [this other]))"
   ]
  },
  {
   "cell_type": "code",
   "execution_count": 36,
   "id": "fifth-monitor",
   "metadata": {},
   "outputs": [
    {
     "data": {
      "text/plain": [
       "nil"
      ]
     },
     "execution_count": 36,
     "metadata": {},
     "output_type": "execute_result"
    }
   ],
   "source": [
    "(extend-type String\n",
    "    Concatenatable\n",
    "    (cat [this other]\n",
    "         (.concat this other)))"
   ]
  },
  {
   "cell_type": "code",
   "execution_count": 38,
   "id": "unable-uncle",
   "metadata": {},
   "outputs": [
    {
     "data": {
      "text/plain": [
       "\"House of Leaves\""
      ]
     },
     "execution_count": 38,
     "metadata": {},
     "output_type": "execute_result"
    }
   ],
   "source": [
    "(cat \"House\" \" of Leaves\")"
   ]
  },
  {
   "cell_type": "code",
   "execution_count": 39,
   "id": "laden-introduction",
   "metadata": {},
   "outputs": [
    {
     "data": {
      "text/plain": [
       "nil"
      ]
     },
     "execution_count": 39,
     "metadata": {},
     "output_type": "execute_result"
    }
   ],
   "source": [
    "(extend-type java.util.List\n",
    "    Concatenatable\n",
    "    (cat [this other]\n",
    "         (concat this other)))"
   ]
  },
  {
   "cell_type": "code",
   "execution_count": 40,
   "id": "continued-cowboy",
   "metadata": {},
   "outputs": [
    {
     "data": {
      "text/plain": [
       "(1 2 3 4 5 6)"
      ]
     },
     "execution_count": 40,
     "metadata": {},
     "output_type": "execute_result"
    }
   ],
   "source": [
    "(cat [1 2 3] [4 5 6])"
   ]
  },
  {
   "cell_type": "code",
   "execution_count": 2,
   "id": "alpha-seeking",
   "metadata": {},
   "outputs": [
    {
     "data": {
      "text/plain": [
       "#'joy.chess/initial-board"
      ]
     },
     "execution_count": 2,
     "metadata": {},
     "output_type": "execute_result"
    }
   ],
   "source": [
    "(ns joy.chess)\n",
    "\n",
    "(defn initial-board\n",
    "  []\n",
    "  [\\r \\n \\b \\q \\k \\b \\n \\r  ; 소문자는 검정색\n",
    "   \\p \\p \\p \\p \\p \\p \\p \\p\n",
    "   \\- \\- \\- \\- \\- \\- \\- \\-\n",
    "   \\- \\- \\- \\- \\- \\- \\- \\-\n",
    "   \\- \\- \\- \\- \\- \\- \\- \\-\n",
    "   \\- \\- \\- \\- \\- \\- \\- \\-\n",
    "   \\P \\P \\P \\P \\P \\P \\P \\P  ; 대문자는 흰색\n",
    "   \\R \\N \\B \\Q \\K \\B \\N \\R])"
   ]
  },
  {
   "cell_type": "code",
   "execution_count": 18,
   "id": "native-calvin",
   "metadata": {},
   "outputs": [
    {
     "data": {
      "text/plain": [
       "[\\r \\n \\b \\q \\k \\b \\n \\r \\p \\p \\p \\p \\p \\p \\p \\p \\- \\- \\- \\- \\- \\- \\- \\- \\- \\- \\- \\- \\- \\- \\- \\- \\- \\- \\- \\- \\- \\- \\- \\- \\- \\- \\- \\- \\- \\- \\- \\- \\P \\P \\P \\P \\P \\P \\P \\P \\R \\N \\B \\Q \\K \\B \\N \\R]"
      ]
     },
     "execution_count": 18,
     "metadata": {},
     "output_type": "execute_result"
    }
   ],
   "source": [
    "(initial-board)"
   ]
  },
  {
   "cell_type": "code",
   "execution_count": 31,
   "id": "personalized-conclusion",
   "metadata": {},
   "outputs": [
    {
     "data": {
      "text/plain": [
       "\\R"
      ]
     },
     "execution_count": 31,
     "metadata": {},
     "output_type": "execute_result"
    }
   ],
   "source": [
    "(def ^:dynamic *file-key* \\a)\n",
    "(def ^:dynamic *rank-key* \\0)\n",
    "\n",
    "(defn- file-component [file]\n",
    "       (- (int file) (int *file-key*)))  ; 수평 방향(file) 계산\n",
    "\n",
    "(defn- rank-component [rank]\n",
    "       (->> (int *rank-key*)  ; 수직 방향(rank) 계산\n",
    "             (- (int rank))\n",
    "             (- 8)\n",
    "             (* 8)))\n",
    "\n",
    "(defn- index [file rank]\n",
    "       (+ (file-component file) (rank-component rank)))\n",
    "\n",
    "(defn lookup [board pos]\n",
    "    (let [[file rank] pos]\n",
    "        (board (index file rank))))\n",
    "\n",
    "(lookup (initial-board) \"a1\")"
   ]
  },
  {
   "cell_type": "code",
   "execution_count": 41,
   "id": "exciting-parker",
   "metadata": {},
   "outputs": [
    {
     "data": {
      "text/plain": [
       "#'joy.chess/lookup"
      ]
     },
     "execution_count": 41,
     "metadata": {},
     "output_type": "execute_result"
    }
   ],
   "source": [
    "(defn lookup [board pos]\n",
    "    (let [[file rank] pos]\n",
    "        [file rank]))"
   ]
  },
  {
   "cell_type": "code",
   "execution_count": 42,
   "id": "shaped-exclusive",
   "metadata": {},
   "outputs": [
    {
     "data": {
      "text/plain": [
       "[\\a \\1]"
      ]
     },
     "execution_count": 42,
     "metadata": {},
     "output_type": "execute_result"
    }
   ],
   "source": [
    "(lookup (initial-board) \"a1\")"
   ]
  },
  {
   "cell_type": "code",
   "execution_count": 47,
   "id": "powered-progress",
   "metadata": {},
   "outputs": [
    {
     "data": {
      "text/plain": [
       "#'joy.chess/rank-component"
      ]
     },
     "execution_count": 47,
     "metadata": {},
     "output_type": "execute_result"
    }
   ],
   "source": [
    "(defn- rank-component [rank]\n",
    "       (->> (int *rank-key*)  ; 수직 방향(rank) 계산\n",
    "             (- (int rank))\n",
    "             (- 8)\n",
    "             (* 8)))"
   ]
  },
  {
   "cell_type": "code",
   "execution_count": 71,
   "id": "ordinary-adrian",
   "metadata": {},
   "outputs": [
    {
     "data": {
      "text/plain": [
       "3"
      ]
     },
     "execution_count": 71,
     "metadata": {},
     "output_type": "execute_result"
    }
   ],
   "source": [
    "(- (int \\3) (int *rank-key*))"
   ]
  },
  {
   "cell_type": "code",
   "execution_count": 73,
   "id": "twelve-stress",
   "metadata": {},
   "outputs": [
    {
     "data": {
      "text/plain": [
       "48"
      ]
     },
     "execution_count": 73,
     "metadata": {},
     "output_type": "execute_result"
    }
   ],
   "source": [
    "(rank-component \\2)"
   ]
  },
  {
   "cell_type": "code",
   "execution_count": 49,
   "id": "changed-calculation",
   "metadata": {},
   "outputs": [
    {
     "data": {
      "text/plain": [
       "#'joy.chess/file-component"
      ]
     },
     "execution_count": 49,
     "metadata": {},
     "output_type": "execute_result"
    }
   ],
   "source": [
    "(defn- file-component [file]\n",
    "       (- (int file) (int *file-key*)))"
   ]
  },
  {
   "cell_type": "code",
   "execution_count": 51,
   "id": "norman-atlantic",
   "metadata": {},
   "outputs": [
    {
     "data": {
      "text/plain": [
       "1"
      ]
     },
     "execution_count": 51,
     "metadata": {},
     "output_type": "execute_result"
    }
   ],
   "source": [
    "(file-component \\b)"
   ]
  },
  {
   "cell_type": "code",
   "execution_count": 69,
   "id": "activated-mathematics",
   "metadata": {},
   "outputs": [
    {
     "data": {
      "text/plain": [
       "\\R"
      ]
     },
     "execution_count": 69,
     "metadata": {},
     "output_type": "execute_result"
    }
   ],
   "source": [
    "(letfn [(index [file rank]\n",
    "               (let [f (- (int file) (int \\a))\n",
    "                     r (* 8 (- 8 (- (int rank) (int \\0))))]\n",
    "                   (+ f r)))]\n",
    "    (defn lookup2 [board pos]\n",
    "        (let [[file rank] pos]\n",
    "            (board (index file rank)))))\n",
    "\n",
    "(lookup2 (initial-board) \"a1\")"
   ]
  },
  {
   "cell_type": "code",
   "execution_count": 74,
   "id": "closed-douglas",
   "metadata": {},
   "outputs": [
    {
     "data": {
      "text/plain": [
       "\\R"
      ]
     },
     "execution_count": 74,
     "metadata": {},
     "output_type": "execute_result"
    }
   ],
   "source": [
    "(defn lookup3 [board pos]\n",
    "    (let [[file rank] (map int pos)\n",
    "          [fc rc] (map int [\\a \\0])\n",
    "          f (- file fc)\n",
    "          r (* 8 (- 8 (- rank rc)))\n",
    "          index (+ f r)]\n",
    "        (board index)))\n",
    "\n",
    "(lookup3 (initial-board) \"a1\")"
   ]
  },
  {
   "cell_type": "code",
   "execution_count": 76,
   "id": "finnish-awareness",
   "metadata": {},
   "outputs": [
    {
     "data": {
      "text/plain": [
       "\\P"
      ]
     },
     "execution_count": 76,
     "metadata": {},
     "output_type": "execute_result"
    }
   ],
   "source": [
    "((initial-board) 48)"
   ]
  },
  {
   "cell_type": "code",
   "execution_count": null,
   "id": "wrong-lyric",
   "metadata": {},
   "outputs": [],
   "source": []
  }
 ],
 "metadata": {
  "kernelspec": {
   "display_name": "Clojure (clojupyter-0.3.2)",
   "language": "clojure",
   "name": "clojupyter-0.3.2"
  },
  "language_info": {
   "file_extension": ".clj",
   "mimetype": "text/x-clojure",
   "name": "clojure",
   "version": "1.10.1"
  },
  "toc": {
   "base_numbering": 1,
   "nav_menu": {},
   "number_sections": true,
   "sideBar": true,
   "skip_h1_title": false,
   "title_cell": "Table of Contents",
   "title_sidebar": "Contents",
   "toc_cell": false,
   "toc_position": {},
   "toc_section_display": true,
   "toc_window_display": false
  },
  "varInspector": {
   "cols": {
    "lenName": 16,
    "lenType": 16,
    "lenVar": 40
   },
   "kernels_config": {
    "python": {
     "delete_cmd_postfix": "",
     "delete_cmd_prefix": "del ",
     "library": "var_list.py",
     "varRefreshCmd": "print(var_dic_list())"
    },
    "r": {
     "delete_cmd_postfix": ") ",
     "delete_cmd_prefix": "rm(",
     "library": "var_list.r",
     "varRefreshCmd": "cat(var_dic_list()) "
    }
   },
   "types_to_exclude": [
    "module",
    "function",
    "builtin_function_or_method",
    "instance",
    "_Feature"
   ],
   "window_display": false
  }
 },
 "nbformat": 4,
 "nbformat_minor": 5
}
