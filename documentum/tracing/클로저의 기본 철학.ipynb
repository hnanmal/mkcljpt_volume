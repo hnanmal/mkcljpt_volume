{
 "cells": [
  {
   "cell_type": "code",
   "execution_count": 1,
   "id": "respective-valve",
   "metadata": {},
   "outputs": [
    {
     "data": {
      "text/plain": [
       "([:a 1] [:a 3] [:b 1] [:b 3])"
      ]
     },
     "execution_count": 1,
     "metadata": {},
     "output_type": "execute_result"
    }
   ],
   "source": [
    "(for [x [:a :b], y (range 5) :when (odd? y)]\n",
    "    [x y])"
   ]
  },
  {
   "cell_type": "code",
   "execution_count": 3,
   "id": "metallic-indonesia",
   "metadata": {},
   "outputs": [
    {
     "name": "stdout",
     "output_type": "stream",
     "text": [
      ":a 1\n",
      ":a 3\n",
      ":b 1\n",
      ":b 3\n"
     ]
    },
    {
     "data": {
      "text/plain": [
       "nil"
      ]
     },
     "execution_count": 3,
     "metadata": {},
     "output_type": "execute_result"
    }
   ],
   "source": [
    "(doseq [x [:a :b], y (range 5) :when (odd? y)]\n",
    "    (prn x y))"
   ]
  },
  {
   "cell_type": "code",
   "execution_count": 5,
   "id": "above-tampa",
   "metadata": {},
   "outputs": [
    {
     "data": {
      "text/plain": [
       "([7 1] [7 3] [9 1] [9 3] [11 1] [11 3])"
      ]
     },
     "execution_count": 5,
     "metadata": {},
     "output_type": "execute_result"
    }
   ],
   "source": [
    "(for [x [7 8 9 10 11 12], y (range 5) :when (and (odd? x) (odd? y))]\n",
    "    [x y])"
   ]
  },
  {
   "cell_type": "code",
   "execution_count": 6,
   "id": "bridal-junior",
   "metadata": {},
   "outputs": [
    {
     "data": {
      "text/plain": [
       "#'user/r->lfix"
      ]
     },
     "execution_count": 6,
     "metadata": {},
     "output_type": "execute_result"
    }
   ],
   "source": [
    "(defn r->lfix\n",
    "    ([a op b]              (op a b))\n",
    "    ([a op1 b op2 c]       (op1 a (op2 b c)))\n",
    "    ([a op1 b op2 c op3 d] (op1 a (op2 b (op3 c d)))))"
   ]
  },
  {
   "cell_type": "code",
   "execution_count": 8,
   "id": "affecting-julian",
   "metadata": {},
   "outputs": [
    {
     "data": {
      "text/plain": [
       "3"
      ]
     },
     "execution_count": 8,
     "metadata": {},
     "output_type": "execute_result"
    }
   ],
   "source": [
    "(r->lfix 1 + 2)"
   ]
  },
  {
   "cell_type": "code",
   "execution_count": 9,
   "id": "sticky-nancy",
   "metadata": {},
   "outputs": [
    {
     "data": {
      "text/plain": [
       "6"
      ]
     },
     "execution_count": 9,
     "metadata": {},
     "output_type": "execute_result"
    }
   ],
   "source": [
    "(r->lfix 1 + 2 + 3)"
   ]
  },
  {
   "cell_type": "code",
   "execution_count": 10,
   "id": "adjustable-senegal",
   "metadata": {},
   "outputs": [
    {
     "data": {
      "text/plain": [
       "7"
      ]
     },
     "execution_count": 10,
     "metadata": {},
     "output_type": "execute_result"
    }
   ],
   "source": [
    "(r->lfix 1 + 2 * 3)"
   ]
  },
  {
   "cell_type": "code",
   "execution_count": 11,
   "id": "military-macro",
   "metadata": {},
   "outputs": [
    {
     "data": {
      "text/plain": [
       "50"
      ]
     },
     "execution_count": 11,
     "metadata": {},
     "output_type": "execute_result"
    }
   ],
   "source": [
    "(r->lfix 10 * 2 + 3)"
   ]
  },
  {
   "cell_type": "code",
   "execution_count": 18,
   "id": "earlier-pursuit",
   "metadata": {},
   "outputs": [
    {
     "data": {
      "text/plain": [
       "#'user/l->rfix"
      ]
     },
     "execution_count": 18,
     "metadata": {},
     "output_type": "execute_result"
    }
   ],
   "source": [
    "(defn l->rfix\n",
    "    ([a op b]              (op a b))\n",
    "    ([a op1 b op2 c]       (op2 c (op1 a b)))\n",
    "    ([a op1 b op2 c op3 d] (op3 d (op2 c (op1 a b)))))"
   ]
  },
  {
   "cell_type": "code",
   "execution_count": 19,
   "id": "rubber-spread",
   "metadata": {},
   "outputs": [
    {
     "data": {
      "text/plain": [
       "23"
      ]
     },
     "execution_count": 19,
     "metadata": {},
     "output_type": "execute_result"
    }
   ],
   "source": [
    "(l->rfix 10 * 2 + 3)"
   ]
  },
  {
   "cell_type": "code",
   "execution_count": 20,
   "id": "amazing-gasoline",
   "metadata": {},
   "outputs": [
    {
     "data": {
      "text/plain": [
       "6"
      ]
     },
     "execution_count": 20,
     "metadata": {},
     "output_type": "execute_result"
    }
   ],
   "source": [
    "(l->rfix 1 + 2 + 3)"
   ]
  },
  {
   "cell_type": "code",
   "execution_count": 21,
   "id": "traditional-perfume",
   "metadata": {},
   "outputs": [
    {
     "data": {
      "text/plain": [
       "9"
      ]
     },
     "execution_count": 21,
     "metadata": {},
     "output_type": "execute_result"
    }
   ],
   "source": [
    "(l->rfix 1 + 2 * 3)"
   ]
  },
  {
   "cell_type": "code",
   "execution_count": 22,
   "id": "understood-senior",
   "metadata": {},
   "outputs": [
    {
     "data": {
      "text/plain": [
       "#'user/order"
      ]
     },
     "execution_count": 22,
     "metadata": {},
     "output_type": "execute_result"
    }
   ],
   "source": [
    "(def order {+ 0 - 0\n",
    "            * 1 / 1})"
   ]
  },
  {
   "cell_type": "code",
   "execution_count": 23,
   "id": "stunning-location",
   "metadata": {},
   "outputs": [
    {
     "data": {
      "text/plain": [
       "#'user/infix3"
      ]
     },
     "execution_count": 23,
     "metadata": {},
     "output_type": "execute_result"
    }
   ],
   "source": [
    "(defn infix3 [a op1 b op2 c]\n",
    "    (if (< (get order op1) (get order op2))\n",
    "        (r->lfix a op1 b op2 c)\n",
    "        (l->rfix a op1 b op2 c)))"
   ]
  },
  {
   "cell_type": "code",
   "execution_count": 24,
   "id": "antique-print",
   "metadata": {},
   "outputs": [
    {
     "data": {
      "text/plain": [
       "7"
      ]
     },
     "execution_count": 24,
     "metadata": {},
     "output_type": "execute_result"
    }
   ],
   "source": [
    "(infix3 1 + 2 * 3)"
   ]
  },
  {
   "cell_type": "code",
   "execution_count": 25,
   "id": "joined-dispatch",
   "metadata": {},
   "outputs": [
    {
     "data": {
      "text/plain": [
       "23"
      ]
     },
     "execution_count": 25,
     "metadata": {},
     "output_type": "execute_result"
    }
   ],
   "source": [
    "(infix3 10 * 2 + 3)"
   ]
  },
  {
   "cell_type": "code",
   "execution_count": 26,
   "id": "exempt-prisoner",
   "metadata": {},
   "outputs": [
    {
     "data": {
      "text/plain": [
       "true"
      ]
     },
     "execution_count": 26,
     "metadata": {},
     "output_type": "execute_result"
    }
   ],
   "source": [
    "(< (+ 1 (* 2 3))\n",
    "   (* 2 (+ 1 3)))"
   ]
  },
  {
   "cell_type": "code",
   "execution_count": 27,
   "id": "determined-schema",
   "metadata": {},
   "outputs": [
    {
     "data": {
      "text/plain": [
       "55"
      ]
     },
     "execution_count": 27,
     "metadata": {},
     "output_type": "execute_result"
    }
   ],
   "source": [
    "(+ 1 2 3 4 5 6 7 8 9 10)"
   ]
  },
  {
   "cell_type": "code",
   "execution_count": 28,
   "id": "broad-calendar",
   "metadata": {},
   "outputs": [
    {
     "data": {
      "text/plain": [
       "55"
      ]
     },
     "execution_count": 28,
     "metadata": {},
     "output_type": "execute_result"
    }
   ],
   "source": [
    "(def numbers [1 2 3 4 5 6 7 8 9 10])\n",
    "\n",
    "(apply + numbers)"
   ]
  },
  {
   "cell_type": "code",
   "execution_count": 32,
   "id": "designing-optimum",
   "metadata": {},
   "outputs": [
    {
     "data": {
      "text/plain": [
       "true"
      ]
     },
     "execution_count": 32,
     "metadata": {},
     "output_type": "execute_result"
    }
   ],
   "source": [
    "(< 0 42)"
   ]
  },
  {
   "cell_type": "code",
   "execution_count": 33,
   "id": "defined-february",
   "metadata": {},
   "outputs": [
    {
     "data": {
      "text/plain": [
       "true"
      ]
     },
     "execution_count": 33,
     "metadata": {},
     "output_type": "execute_result"
    }
   ],
   "source": [
    "(< 0 1 3 9 36 42 108)"
   ]
  },
  {
   "cell_type": "code",
   "execution_count": 34,
   "id": "pleased-hearing",
   "metadata": {},
   "outputs": [
    {
     "data": {
      "text/plain": [
       "false"
      ]
     },
     "execution_count": 34,
     "metadata": {},
     "output_type": "execute_result"
    }
   ],
   "source": [
    "(< 0 1 3 9 36 -1000 42 108)"
   ]
  },
  {
   "cell_type": "code",
   "execution_count": 35,
   "id": "gorgeous-vertical",
   "metadata": {
    "scrolled": true
   },
   "outputs": [
    {
     "name": "stderr",
     "output_type": "stream",
     "text": [
      "Warning: protocol #'user/Concatenatable is overwriting function cat\n",
      "WARNING: cat already refers to: #'clojure.core/cat in namespace: user, being replaced by: #'user/cat\n"
     ]
    },
    {
     "data": {
      "text/plain": [
       "Concatenatable"
      ]
     },
     "execution_count": 35,
     "metadata": {},
     "output_type": "execute_result"
    }
   ],
   "source": [
    "(defprotocol Concatenatable\n",
    "    (cat [this other]))"
   ]
  },
  {
   "cell_type": "code",
   "execution_count": 36,
   "id": "fifth-monitor",
   "metadata": {},
   "outputs": [
    {
     "data": {
      "text/plain": [
       "nil"
      ]
     },
     "execution_count": 36,
     "metadata": {},
     "output_type": "execute_result"
    }
   ],
   "source": [
    "(extend-type String\n",
    "    Concatenatable\n",
    "    (cat [this other]\n",
    "         (.concat this other)))"
   ]
  },
  {
   "cell_type": "code",
   "execution_count": 38,
   "id": "unable-uncle",
   "metadata": {},
   "outputs": [
    {
     "data": {
      "text/plain": [
       "\"House of Leaves\""
      ]
     },
     "execution_count": 38,
     "metadata": {},
     "output_type": "execute_result"
    }
   ],
   "source": [
    "(cat \"House\" \" of Leaves\")"
   ]
  },
  {
   "cell_type": "code",
   "execution_count": 39,
   "id": "laden-introduction",
   "metadata": {},
   "outputs": [
    {
     "data": {
      "text/plain": [
       "nil"
      ]
     },
     "execution_count": 39,
     "metadata": {},
     "output_type": "execute_result"
    }
   ],
   "source": [
    "(extend-type java.util.List\n",
    "    Concatenatable\n",
    "    (cat [this other]\n",
    "         (concat this other)))"
   ]
  },
  {
   "cell_type": "code",
   "execution_count": 40,
   "id": "continued-cowboy",
   "metadata": {},
   "outputs": [
    {
     "data": {
      "text/plain": [
       "(1 2 3 4 5 6)"
      ]
     },
     "execution_count": 40,
     "metadata": {},
     "output_type": "execute_result"
    }
   ],
   "source": [
    "(cat [1 2 3] [4 5 6])"
   ]
  },
  {
   "cell_type": "code",
   "execution_count": null,
   "id": "alpha-seeking",
   "metadata": {},
   "outputs": [],
   "source": []
  }
 ],
 "metadata": {
  "kernelspec": {
   "display_name": "Clojure (clojupyter-0.3.2)",
   "language": "clojure",
   "name": "clojupyter-0.3.2"
  },
  "language_info": {
   "file_extension": ".clj",
   "mimetype": "text/x-clojure",
   "name": "clojure",
   "version": "1.10.1"
  }
 },
 "nbformat": 4,
 "nbformat_minor": 5
}
