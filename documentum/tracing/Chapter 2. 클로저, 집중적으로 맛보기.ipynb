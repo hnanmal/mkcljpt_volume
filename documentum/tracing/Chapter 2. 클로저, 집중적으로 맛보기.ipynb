{
 "cells": [
  {
   "cell_type": "code",
   "execution_count": 1,
   "id": "artificial-doctor",
   "metadata": {},
   "outputs": [
    {
     "data": {
      "text/plain": [
       "#'user/make-list0"
      ]
     },
     "execution_count": 1,
     "metadata": {},
     "output_type": "execute_result"
    }
   ],
   "source": [
    "(def make-list0 #(list))    ; 인자를 취하지 않음"
   ]
  },
  {
   "cell_type": "code",
   "execution_count": 2,
   "id": "pleasant-closing",
   "metadata": {},
   "outputs": [
    {
     "data": {
      "text/plain": [
       "()"
      ]
     },
     "execution_count": 2,
     "metadata": {},
     "output_type": "execute_result"
    }
   ],
   "source": [
    "(make-list0)"
   ]
  },
  {
   "cell_type": "code",
   "execution_count": 4,
   "id": "moving-journey",
   "metadata": {},
   "outputs": [
    {
     "data": {
      "text/plain": [
       "#'user/make-list2"
      ]
     },
     "execution_count": 4,
     "metadata": {},
     "output_type": "execute_result"
    }
   ],
   "source": [
    "(def make-list2 #(list %1 %2))  ; 정확히 두 개의 인자만을 취함"
   ]
  },
  {
   "cell_type": "code",
   "execution_count": 5,
   "id": "lyric-least",
   "metadata": {},
   "outputs": [
    {
     "data": {
      "text/plain": [
       "(1 2)"
      ]
     },
     "execution_count": 5,
     "metadata": {},
     "output_type": "execute_result"
    }
   ],
   "source": [
    "(make-list2 1 2)"
   ]
  },
  {
   "cell_type": "code",
   "execution_count": 6,
   "id": "electoral-comparison",
   "metadata": {},
   "outputs": [
    {
     "data": {
      "text/plain": [
       "#'user/make-list2+"
      ]
     },
     "execution_count": 6,
     "metadata": {},
     "output_type": "execute_result"
    }
   ],
   "source": [
    "(def make-list2+ #(list %1 %2 %&)) ; 두 개 이상의 인자를 취함"
   ]
  },
  {
   "cell_type": "code",
   "execution_count": 7,
   "id": "consecutive-professor",
   "metadata": {},
   "outputs": [
    {
     "data": {
      "text/plain": [
       "(1 2 (3 4 5))"
      ]
     },
     "execution_count": 7,
     "metadata": {},
     "output_type": "execute_result"
    }
   ],
   "source": [
    "(make-list2+ 1 2 3 4 5)"
   ]
  },
  {
   "cell_type": "code",
   "execution_count": 15,
   "id": "coupled-dynamics",
   "metadata": {},
   "outputs": [
    {
     "data": {
      "text/plain": [
       "#'user/make-list"
      ]
     },
     "execution_count": 15,
     "metadata": {},
     "output_type": "execute_result"
    }
   ],
   "source": [
    "(def make-list #(apply list %&))"
   ]
  },
  {
   "cell_type": "code",
   "execution_count": 16,
   "id": "prescription-recording",
   "metadata": {},
   "outputs": [
    {
     "data": {
      "text/plain": [
       "(1 2 3 4 5 6)"
      ]
     },
     "execution_count": 16,
     "metadata": {},
     "output_type": "execute_result"
    }
   ],
   "source": [
    "(make-list 1 2 3 4 5 6)"
   ]
  },
  {
   "cell_type": "code",
   "execution_count": 17,
   "id": "artificial-native",
   "metadata": {},
   "outputs": [
    {
     "data": {
      "text/plain": [
       "(1)"
      ]
     },
     "execution_count": 17,
     "metadata": {},
     "output_type": "execute_result"
    }
   ],
   "source": [
    "(make-list 1)"
   ]
  },
  {
   "cell_type": "code",
   "execution_count": 18,
   "id": "maritime-diesel",
   "metadata": {},
   "outputs": [
    {
     "data": {
      "text/plain": [
       "[5 4]"
      ]
     },
     "execution_count": 18,
     "metadata": {},
     "output_type": "execute_result"
    }
   ],
   "source": [
    "(do\n",
    "    (def x 5)\n",
    "    (def y 4)\n",
    "    (+ x y)\n",
    "    [x y])"
   ]
  },
  {
   "cell_type": "code",
   "execution_count": 19,
   "id": "registered-interest",
   "metadata": {},
   "outputs": [
    {
     "name": "stdout",
     "output_type": "stream",
     "text": [
      "radius is 5\n"
     ]
    },
    {
     "data": {
      "text/plain": [
       "78.53750000000001"
      ]
     },
     "execution_count": 19,
     "metadata": {},
     "output_type": "execute_result"
    }
   ],
   "source": [
    "(let [r         5\n",
    "      pi         3.1415\n",
    "      r-squared (* r r)]\n",
    "    (println \"radius is\" r)\n",
    "    (* pi r-squared))"
   ]
  },
  {
   "cell_type": "code",
   "execution_count": 28,
   "id": "three-fellowship",
   "metadata": {},
   "outputs": [
    {
     "data": {
      "text/plain": [
       "[1 5]"
      ]
     },
     "execution_count": 28,
     "metadata": {},
     "output_type": "execute_result"
    }
   ],
   "source": [
    "(let [coll [1 2 3 4 5]\n",
    "      a (first coll)\n",
    "      b (last coll)]\n",
    "    [a b])"
   ]
  },
  {
   "cell_type": "code",
   "execution_count": 40,
   "id": "human-occasions",
   "metadata": {},
   "outputs": [
    {
     "data": {
      "text/plain": [
       "[1 (2 3 4 5)]"
      ]
     },
     "execution_count": 40,
     "metadata": {},
     "output_type": "execute_result"
    }
   ],
   "source": [
    "(let [[a & b] [1 2 3 4 5]]\n",
    "    [a b])"
   ]
  },
  {
   "cell_type": "code",
   "execution_count": 46,
   "id": "statistical-royal",
   "metadata": {},
   "outputs": [
    {
     "data": {
      "text/plain": [
       "#'user/print-down-from"
      ]
     },
     "execution_count": 46,
     "metadata": {},
     "output_type": "execute_result"
    }
   ],
   "source": [
    "(defn print-down-from [x]\n",
    "    (when (pos? x)\n",
    "        (println x)\n",
    "        (recur (dec x))))"
   ]
  },
  {
   "cell_type": "code",
   "execution_count": 47,
   "id": "missing-monitoring",
   "metadata": {},
   "outputs": [
    {
     "name": "stdout",
     "output_type": "stream",
     "text": [
      "5\n",
      "4\n",
      "3\n",
      "2\n",
      "1\n"
     ]
    },
    {
     "data": {
      "text/plain": [
       "nil"
      ]
     },
     "execution_count": 47,
     "metadata": {},
     "output_type": "execute_result"
    }
   ],
   "source": [
    "(print-down-from 5)"
   ]
  },
  {
   "cell_type": "code",
   "execution_count": 1,
   "id": "invisible-decimal",
   "metadata": {
    "scrolled": true
   },
   "outputs": [
    {
     "name": "stdout",
     "output_type": "stream",
     "text": [
      "6\n",
      "5\n",
      "4\n",
      "3\n",
      "2\n",
      "1\n"
     ]
    },
    {
     "data": {
      "text/plain": [
       "nil"
      ]
     },
     "execution_count": 1,
     "metadata": {},
     "output_type": "execute_result"
    }
   ],
   "source": [
    "(let [y 6]\n",
    "    (loop [y y]\n",
    "        (when (pos? y)\n",
    "            (println y)\n",
    "            (recur (dec y)))))"
   ]
  },
  {
   "cell_type": "code",
   "execution_count": 2,
   "id": "concerned-adoption",
   "metadata": {},
   "outputs": [
    {
     "data": {
      "text/plain": [
       "#'user/sum-down-from"
      ]
     },
     "execution_count": 2,
     "metadata": {},
     "output_type": "execute_result"
    }
   ],
   "source": [
    "(defn sum-down-from [sum x]  ; 계산할 값 지정\n",
    "    (if (pos? x)                    ; if 양수면...\n",
    "        (recur (+ sum x) (dec x))   ; ... then 반복(재귀)\n",
    "        sum))                       ; ... else 합을 리턴"
   ]
  },
  {
   "cell_type": "code",
   "execution_count": 3,
   "id": "diagnostic-female",
   "metadata": {},
   "outputs": [
    {
     "data": {
      "text/plain": [
       "55"
      ]
     },
     "execution_count": 3,
     "metadata": {},
     "output_type": "execute_result"
    }
   ],
   "source": [
    "(sum-down-from 0 10)"
   ]
  },
  {
   "cell_type": "code",
   "execution_count": 4,
   "id": "copyrighted-payroll",
   "metadata": {},
   "outputs": [
    {
     "data": {
      "text/plain": [
       "#'user/sum-down-from"
      ]
     },
     "execution_count": 4,
     "metadata": {},
     "output_type": "execute_result"
    }
   ],
   "source": [
    "(defn sum-down-from [initial-x]\n",
    "    (loop [sum 0, x initial-x]              ; 재귀 대상을 지정\n",
    "        (if (pos? x)\n",
    "            (recur (+ sum x) (dec x))       ; 재귀 대상으로 이동\n",
    "            sum)))"
   ]
  },
  {
   "cell_type": "code",
   "execution_count": 5,
   "id": "eligible-offer",
   "metadata": {},
   "outputs": [
    {
     "data": {
      "text/plain": [
       "55"
      ]
     },
     "execution_count": 5,
     "metadata": {},
     "output_type": "execute_result"
    }
   ],
   "source": [
    "(sum-down-from 10)"
   ]
  },
  {
   "cell_type": "code",
   "execution_count": 1,
   "id": "alleged-python",
   "metadata": {},
   "outputs": [
    {
     "data": {
      "text/plain": [
       "#'user/absolute-value"
      ]
     },
     "execution_count": 1,
     "metadata": {},
     "output_type": "execute_result"
    }
   ],
   "source": [
    "(defn absolute-value [x]\n",
    "    (if (pos? x)\n",
    "        x              ; \"then\" 절\n",
    "        (- x)))        ; \"else\" 절"
   ]
  },
  {
   "cell_type": "code",
   "execution_count": null,
   "id": "split-beverage",
   "metadata": {},
   "outputs": [],
   "source": []
  }
 ],
 "metadata": {
  "kernelspec": {
   "display_name": "Clojure (clojupyter-0.3.2)",
   "language": "clojure",
   "name": "clojupyter-0.3.2"
  },
  "language_info": {
   "file_extension": ".clj",
   "mimetype": "text/x-clojure",
   "name": "clojure",
   "version": "1.10.1"
  },
  "toc": {
   "base_numbering": 1,
   "nav_menu": {},
   "number_sections": true,
   "sideBar": true,
   "skip_h1_title": false,
   "title_cell": "Table of Contents",
   "title_sidebar": "Contents",
   "toc_cell": false,
   "toc_position": {},
   "toc_section_display": true,
   "toc_window_display": false
  },
  "varInspector": {
   "cols": {
    "lenName": 16,
    "lenType": 16,
    "lenVar": 40
   },
   "kernels_config": {
    "python": {
     "delete_cmd_postfix": "",
     "delete_cmd_prefix": "del ",
     "library": "var_list.py",
     "varRefreshCmd": "print(var_dic_list())"
    },
    "r": {
     "delete_cmd_postfix": ") ",
     "delete_cmd_prefix": "rm(",
     "library": "var_list.r",
     "varRefreshCmd": "cat(var_dic_list()) "
    }
   },
   "types_to_exclude": [
    "module",
    "function",
    "builtin_function_or_method",
    "instance",
    "_Feature"
   ],
   "window_display": false
  }
 },
 "nbformat": 4,
 "nbformat_minor": 5
}
