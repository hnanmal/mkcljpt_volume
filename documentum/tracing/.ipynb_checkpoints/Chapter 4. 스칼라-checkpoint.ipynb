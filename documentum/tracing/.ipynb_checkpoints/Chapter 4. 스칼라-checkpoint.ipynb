{
 "cells": [
  {
   "cell_type": "code",
   "execution_count": 1,
   "id": "colonial-brain",
   "metadata": {},
   "outputs": [
    {
     "name": "stdout",
     "output_type": "stream",
     "text": [
      "java.math.BigDecimal\n"
     ]
    },
    {
     "data": {
      "text/plain": [
       "3.14159265358979323846264338327950288419716939937M"
      ]
     },
     "execution_count": 1,
     "metadata": {},
     "output_type": "execute_result"
    }
   ],
   "source": [
    "(let [imadeuapi 3.14159265358979323846264338327950288419716939937M]\n",
    "    (println (class imadeuapi))\n",
    "    imadeuapi)"
   ]
  },
  {
   "cell_type": "code",
   "execution_count": 2,
   "id": "honey-cleveland",
   "metadata": {},
   "outputs": [
    {
     "name": "stdout",
     "output_type": "stream",
     "text": [
      "java.lang.Double\n"
     ]
    },
    {
     "data": {
      "text/plain": [
       "3.141592653589793"
      ]
     },
     "execution_count": 2,
     "metadata": {},
     "output_type": "execute_result"
    }
   ],
   "source": [
    "(let [butieatedit 3.14159265358979323846264338327950288419716939937]\n",
    "    (println (class butieatedit))\n",
    "    butieatedit)"
   ]
  },
  {
   "cell_type": "code",
   "execution_count": 4,
   "id": "sweet-painting",
   "metadata": {},
   "outputs": [
    {
     "data": {
      "text/plain": [
       "java.lang.Long"
      ]
     },
     "execution_count": 4,
     "metadata": {},
     "output_type": "execute_result"
    }
   ],
   "source": [
    "(def clueless 9)\n",
    "\n",
    "(class clueless)"
   ]
  },
  {
   "cell_type": "code",
   "execution_count": 11,
   "id": "superior-rates",
   "metadata": {},
   "outputs": [
    {
     "data": {
      "text/plain": [
       "java.lang.Long"
      ]
     },
     "execution_count": 11,
     "metadata": {},
     "output_type": "execute_result"
    }
   ],
   "source": [
    "(class (+ clueless 9000000000000000))"
   ]
  },
  {
   "cell_type": "code",
   "execution_count": 12,
   "id": "operational-variation",
   "metadata": {},
   "outputs": [
    {
     "data": {
      "text/plain": [
       "clojure.lang.BigInt"
      ]
     },
     "execution_count": 12,
     "metadata": {},
     "output_type": "execute_result"
    }
   ],
   "source": [
    "(class (+ clueless 90000000000000000000))"
   ]
  },
  {
   "cell_type": "code",
   "execution_count": 13,
   "id": "biological-pointer",
   "metadata": {},
   "outputs": [
    {
     "data": {
      "text/plain": [
       "java.lang.Double"
      ]
     },
     "execution_count": 13,
     "metadata": {},
     "output_type": "execute_result"
    }
   ],
   "source": [
    "(class (+ clueless 9.0))"
   ]
  },
  {
   "cell_type": "code",
   "execution_count": 14,
   "id": "brilliant-coach",
   "metadata": {},
   "outputs": [
    {
     "name": "stderr",
     "output_type": "stream",
     "text": [
      "Execution error (ArithmeticException) at user/eval4120 (REPL:1).\n",
      "integer overflow\n"
     ]
    },
    {
     "ename": "class java.lang.ArithmeticException",
     "evalue": "",
     "output_type": "error",
     "traceback": [
      "Numbers.java:  1576 clojure.lang.Numbers/throwIntOverflow",
      "Numbers.java:  1893 clojure.lang.Numbers/add",
      "    core.clj:  3214 clojure.core$eval/invokeStatic",
      "    core.clj:  3210 clojure.core$eval/invoke",
      "    main.clj:   437 clojure.main$repl$read_eval_print__9086$fn__9089/invoke",
      "    main.clj:   458 clojure.main$repl$fn__9095/invoke",
      "    main.clj:   368 clojure.main$repl/doInvoke",
      " RestFn.java:  1523 clojure.lang.RestFn/invoke",
      "    AFn.java:    22 clojure.lang.AFn/run",
      "    AFn.java:    22 clojure.lang.AFn/run",
      " Thread.java:   748 java.lang.Thread/run"
     ]
    }
   ],
   "source": [
    "(+ Long/MAX_VALUE Long/MAX_VALUE)"
   ]
  },
  {
   "cell_type": "code",
   "execution_count": 15,
   "id": "worldwide-average",
   "metadata": {},
   "outputs": [
    {
     "data": {
      "text/plain": [
       "-2"
      ]
     },
     "execution_count": 15,
     "metadata": {},
     "output_type": "execute_result"
    }
   ],
   "source": [
    "(unchecked-add (Long/MAX_VALUE) (Long/MAX_VALUE))"
   ]
  },
  {
   "cell_type": "code",
   "execution_count": 17,
   "id": "heated-nerve",
   "metadata": {},
   "outputs": [
    {
     "data": {
      "text/plain": [
       "0.0"
      ]
     },
     "execution_count": 17,
     "metadata": {},
     "output_type": "execute_result"
    }
   ],
   "source": [
    "(float 0.000000000000000000000000000000000000000000000000000000001)"
   ]
  },
  {
   "cell_type": "code",
   "execution_count": 18,
   "id": "second-version",
   "metadata": {},
   "outputs": [
    {
     "data": {
      "text/plain": [
       "0.0"
      ]
     },
     "execution_count": 18,
     "metadata": {},
     "output_type": "execute_result"
    }
   ],
   "source": [
    "1.0E-430"
   ]
  },
  {
   "cell_type": "code",
   "execution_count": 19,
   "id": "weighted-middle",
   "metadata": {},
   "outputs": [
    {
     "data": {
      "text/plain": [
       "0.34332275390625"
      ]
     },
     "execution_count": 19,
     "metadata": {},
     "output_type": "execute_result"
    }
   ],
   "source": [
    "(let [approx-interval (/ 209715 2097152) ; 패트리어트의 0.1에 대한 근사치\n",
    "      actual-interval (/ 1 10)     ; 클로저는 정확하게 0.1을 표현할 수 있다\n",
    "      hours           (* 3600 100 10)\n",
    "      actual-total    (double (* hours actual-interval))\n",
    "      approx-total    (double (* hours approx-interval))]\n",
    "    (- actual-total approx-total))"
   ]
  },
  {
   "cell_type": "code",
   "execution_count": 20,
   "id": "atomic-closure",
   "metadata": {},
   "outputs": [
    {
     "data": {
      "text/plain": [
       "0.9999999999999999"
      ]
     },
     "execution_count": 20,
     "metadata": {},
     "output_type": "execute_result"
    }
   ],
   "source": [
    "(+ 0.1M 0.1M 0.1M 0.1 0.1M 0.1M 0.1M 0.1M 0.1M 0.1M)"
   ]
  },
  {
   "cell_type": "code",
   "execution_count": null,
   "id": "whole-bolivia",
   "metadata": {},
   "outputs": [],
   "source": []
  }
 ],
 "metadata": {
  "kernelspec": {
   "display_name": "Clojure (clojupyter-0.3.2)",
   "language": "clojure",
   "name": "clojupyter-0.3.2"
  },
  "language_info": {
   "file_extension": ".clj",
   "mimetype": "text/x-clojure",
   "name": "clojure",
   "version": "1.10.1"
  },
  "toc": {
   "base_numbering": 1,
   "nav_menu": {},
   "number_sections": true,
   "sideBar": true,
   "skip_h1_title": false,
   "title_cell": "Table of Contents",
   "title_sidebar": "Contents",
   "toc_cell": false,
   "toc_position": {},
   "toc_section_display": true,
   "toc_window_display": false
  },
  "varInspector": {
   "cols": {
    "lenName": 16,
    "lenType": 16,
    "lenVar": 40
   },
   "kernels_config": {
    "python": {
     "delete_cmd_postfix": "",
     "delete_cmd_prefix": "del ",
     "library": "var_list.py",
     "varRefreshCmd": "print(var_dic_list())"
    },
    "r": {
     "delete_cmd_postfix": ") ",
     "delete_cmd_prefix": "rm(",
     "library": "var_list.r",
     "varRefreshCmd": "cat(var_dic_list()) "
    }
   },
   "types_to_exclude": [
    "module",
    "function",
    "builtin_function_or_method",
    "instance",
    "_Feature"
   ],
   "window_display": false
  }
 },
 "nbformat": 4,
 "nbformat_minor": 5
}
