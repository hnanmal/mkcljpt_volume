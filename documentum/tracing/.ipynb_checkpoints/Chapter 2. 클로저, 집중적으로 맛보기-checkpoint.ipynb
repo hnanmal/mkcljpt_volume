{
 "cells": [
  {
   "cell_type": "code",
   "execution_count": 1,
   "id": "artificial-doctor",
   "metadata": {},
   "outputs": [
    {
     "data": {
      "text/plain": [
       "#'user/make-list0"
      ]
     },
     "execution_count": 1,
     "metadata": {},
     "output_type": "execute_result"
    }
   ],
   "source": [
    "(def make-list0 #(list))    ; 인자를 취하지 않음"
   ]
  },
  {
   "cell_type": "code",
   "execution_count": 2,
   "id": "pleasant-closing",
   "metadata": {},
   "outputs": [
    {
     "data": {
      "text/plain": [
       "()"
      ]
     },
     "execution_count": 2,
     "metadata": {},
     "output_type": "execute_result"
    }
   ],
   "source": [
    "(make-list0)"
   ]
  },
  {
   "cell_type": "code",
   "execution_count": 4,
   "id": "moving-journey",
   "metadata": {},
   "outputs": [
    {
     "data": {
      "text/plain": [
       "#'user/make-list2"
      ]
     },
     "execution_count": 4,
     "metadata": {},
     "output_type": "execute_result"
    }
   ],
   "source": [
    "(def make-list2 #(list %1 %2))  ; 정확히 두 개의 인자만을 취함"
   ]
  },
  {
   "cell_type": "code",
   "execution_count": 5,
   "id": "lyric-least",
   "metadata": {},
   "outputs": [
    {
     "data": {
      "text/plain": [
       "(1 2)"
      ]
     },
     "execution_count": 5,
     "metadata": {},
     "output_type": "execute_result"
    }
   ],
   "source": [
    "(make-list2 1 2)"
   ]
  },
  {
   "cell_type": "code",
   "execution_count": 6,
   "id": "electoral-comparison",
   "metadata": {},
   "outputs": [
    {
     "data": {
      "text/plain": [
       "#'user/make-list2+"
      ]
     },
     "execution_count": 6,
     "metadata": {},
     "output_type": "execute_result"
    }
   ],
   "source": [
    "(def make-list2+ #(list %1 %2 %&)) ; 두 개 이상의 인자를 취함"
   ]
  },
  {
   "cell_type": "code",
   "execution_count": 7,
   "id": "consecutive-professor",
   "metadata": {},
   "outputs": [
    {
     "data": {
      "text/plain": [
       "(1 2 (3 4 5))"
      ]
     },
     "execution_count": 7,
     "metadata": {},
     "output_type": "execute_result"
    }
   ],
   "source": [
    "(make-list2+ 1 2 3 4 5)"
   ]
  },
  {
   "cell_type": "code",
   "execution_count": 15,
   "id": "coupled-dynamics",
   "metadata": {},
   "outputs": [
    {
     "data": {
      "text/plain": [
       "#'user/make-list"
      ]
     },
     "execution_count": 15,
     "metadata": {},
     "output_type": "execute_result"
    }
   ],
   "source": [
    "(def make-list #(apply list %&))"
   ]
  },
  {
   "cell_type": "code",
   "execution_count": 16,
   "id": "prescription-recording",
   "metadata": {},
   "outputs": [
    {
     "data": {
      "text/plain": [
       "(1 2 3 4 5 6)"
      ]
     },
     "execution_count": 16,
     "metadata": {},
     "output_type": "execute_result"
    }
   ],
   "source": [
    "(make-list 1 2 3 4 5 6)"
   ]
  },
  {
   "cell_type": "code",
   "execution_count": 17,
   "id": "artificial-native",
   "metadata": {},
   "outputs": [
    {
     "data": {
      "text/plain": [
       "(1)"
      ]
     },
     "execution_count": 17,
     "metadata": {},
     "output_type": "execute_result"
    }
   ],
   "source": [
    "(make-list 1)"
   ]
  },
  {
   "cell_type": "code",
   "execution_count": 18,
   "id": "maritime-diesel",
   "metadata": {},
   "outputs": [
    {
     "data": {
      "text/plain": [
       "[5 4]"
      ]
     },
     "execution_count": 18,
     "metadata": {},
     "output_type": "execute_result"
    }
   ],
   "source": [
    "(do\n",
    "    (def x 5)\n",
    "    (def y 4)\n",
    "    (+ x y)\n",
    "    [x y])"
   ]
  },
  {
   "cell_type": "code",
   "execution_count": 19,
   "id": "registered-interest",
   "metadata": {},
   "outputs": [
    {
     "name": "stdout",
     "output_type": "stream",
     "text": [
      "radius is 5\n"
     ]
    },
    {
     "data": {
      "text/plain": [
       "78.53750000000001"
      ]
     },
     "execution_count": 19,
     "metadata": {},
     "output_type": "execute_result"
    }
   ],
   "source": [
    "(let [r         5\n",
    "      pi         3.1415\n",
    "      r-squared (* r r)]\n",
    "    (println \"radius is\" r)\n",
    "    (* pi r-squared))"
   ]
  },
  {
   "cell_type": "code",
   "execution_count": 28,
   "id": "three-fellowship",
   "metadata": {},
   "outputs": [
    {
     "data": {
      "text/plain": [
       "[1 5]"
      ]
     },
     "execution_count": 28,
     "metadata": {},
     "output_type": "execute_result"
    }
   ],
   "source": [
    "(let [coll [1 2 3 4 5]\n",
    "      a (first coll)\n",
    "      b (last coll)]\n",
    "    [a b])"
   ]
  },
  {
   "cell_type": "code",
   "execution_count": 40,
   "id": "human-occasions",
   "metadata": {},
   "outputs": [
    {
     "data": {
      "text/plain": [
       "[1 (2 3 4 5)]"
      ]
     },
     "execution_count": 40,
     "metadata": {},
     "output_type": "execute_result"
    }
   ],
   "source": [
    "(let [[a & b] [1 2 3 4 5]]\n",
    "    [a b])"
   ]
  },
  {
   "cell_type": "code",
   "execution_count": 46,
   "id": "statistical-royal",
   "metadata": {},
   "outputs": [
    {
     "data": {
      "text/plain": [
       "#'user/print-down-from"
      ]
     },
     "execution_count": 46,
     "metadata": {},
     "output_type": "execute_result"
    }
   ],
   "source": [
    "(defn print-down-from [x]\n",
    "    (when (pos? x)\n",
    "        (println x)\n",
    "        (recur (dec x))))"
   ]
  },
  {
   "cell_type": "code",
   "execution_count": 47,
   "id": "missing-monitoring",
   "metadata": {},
   "outputs": [
    {
     "name": "stdout",
     "output_type": "stream",
     "text": [
      "5\n",
      "4\n",
      "3\n",
      "2\n",
      "1\n"
     ]
    },
    {
     "data": {
      "text/plain": [
       "nil"
      ]
     },
     "execution_count": 47,
     "metadata": {},
     "output_type": "execute_result"
    }
   ],
   "source": [
    "(print-down-from 5)"
   ]
  },
  {
   "cell_type": "code",
   "execution_count": 1,
   "id": "invisible-decimal",
   "metadata": {
    "scrolled": true
   },
   "outputs": [
    {
     "name": "stdout",
     "output_type": "stream",
     "text": [
      "6\n",
      "5\n",
      "4\n",
      "3\n",
      "2\n",
      "1\n"
     ]
    },
    {
     "data": {
      "text/plain": [
       "nil"
      ]
     },
     "execution_count": 1,
     "metadata": {},
     "output_type": "execute_result"
    }
   ],
   "source": [
    "(let [y 6]\n",
    "    (loop [y y]\n",
    "        (when (pos? y)\n",
    "            (println y)\n",
    "            (recur (dec y)))))"
   ]
  },
  {
   "cell_type": "code",
   "execution_count": 2,
   "id": "concerned-adoption",
   "metadata": {},
   "outputs": [
    {
     "data": {
      "text/plain": [
       "#'user/sum-down-from"
      ]
     },
     "execution_count": 2,
     "metadata": {},
     "output_type": "execute_result"
    }
   ],
   "source": [
    "(defn sum-down-from [sum x]  ; 계산할 값 지정\n",
    "    (if (pos? x)                    ; if 양수면...\n",
    "        (recur (+ sum x) (dec x))   ; ... then 반복(재귀)\n",
    "        sum))                       ; ... else 합을 리턴"
   ]
  },
  {
   "cell_type": "code",
   "execution_count": 3,
   "id": "diagnostic-female",
   "metadata": {},
   "outputs": [
    {
     "data": {
      "text/plain": [
       "55"
      ]
     },
     "execution_count": 3,
     "metadata": {},
     "output_type": "execute_result"
    }
   ],
   "source": [
    "(sum-down-from 0 10)"
   ]
  },
  {
   "cell_type": "code",
   "execution_count": 4,
   "id": "copyrighted-payroll",
   "metadata": {},
   "outputs": [
    {
     "data": {
      "text/plain": [
       "#'user/sum-down-from"
      ]
     },
     "execution_count": 4,
     "metadata": {},
     "output_type": "execute_result"
    }
   ],
   "source": [
    "(defn sum-down-from [initial-x]\n",
    "    (loop [sum 0, x initial-x]              ; 재귀 대상을 지정\n",
    "        (if (pos? x)\n",
    "            (recur (+ sum x) (dec x))       ; 재귀 대상으로 이동\n",
    "            sum)))"
   ]
  },
  {
   "cell_type": "code",
   "execution_count": 5,
   "id": "eligible-offer",
   "metadata": {},
   "outputs": [
    {
     "data": {
      "text/plain": [
       "55"
      ]
     },
     "execution_count": 5,
     "metadata": {},
     "output_type": "execute_result"
    }
   ],
   "source": [
    "(sum-down-from 10)"
   ]
  },
  {
   "cell_type": "code",
   "execution_count": 1,
   "id": "alleged-python",
   "metadata": {},
   "outputs": [
    {
     "data": {
      "text/plain": [
       "#'user/absolute-value"
      ]
     },
     "execution_count": 1,
     "metadata": {},
     "output_type": "execute_result"
    }
   ],
   "source": [
    "(defn absolute-value [x]\n",
    "    (if (pos? x)\n",
    "        x              ; \"then\" 절\n",
    "        (- x)))        ; \"else\" 절"
   ]
  },
  {
   "cell_type": "code",
   "execution_count": 2,
   "id": "split-beverage",
   "metadata": {},
   "outputs": [
    {
     "data": {
      "text/plain": [
       "5"
      ]
     },
     "execution_count": 2,
     "metadata": {},
     "output_type": "execute_result"
    }
   ],
   "source": [
    "(absolute-value -5)"
   ]
  },
  {
   "cell_type": "code",
   "execution_count": 3,
   "id": "certain-momentum",
   "metadata": {},
   "outputs": [
    {
     "name": "stderr",
     "output_type": "stream",
     "text": [
      "Syntax error (UnsupportedOperationException) compiling recur at (REPL:1:9).\n",
      "Can only recur from tail position\n"
     ]
    },
    {
     "ename": "class clojure.lang.Compiler$CompilerException",
     "evalue": "",
     "output_type": "error",
     "traceback": [
      "   core.clj:  3214 clojure.core$eval/invokeStatic",
      "   core.clj:  3210 clojure.core$eval/invoke",
      "   main.clj:   437 clojure.main$repl$read_eval_print__9086$fn__9089/invoke",
      "   main.clj:   458 clojure.main$repl$fn__9095/invoke",
      "   main.clj:   368 clojure.main$repl/doInvoke",
      "RestFn.java:  1523 clojure.lang.RestFn/invoke",
      "   AFn.java:    22 clojure.lang.AFn/run",
      "   AFn.java:    22 clojure.lang.AFn/run",
      "Thread.java:   748 java.lang.Thread/run"
     ]
    }
   ],
   "source": [
    "(fn [x] (recur x) (println x))"
   ]
  },
  {
   "cell_type": "code",
   "execution_count": 4,
   "id": "lined-category",
   "metadata": {},
   "outputs": [
    {
     "data": {
      "text/plain": [
       "(1 2 3)"
      ]
     },
     "execution_count": 4,
     "metadata": {},
     "output_type": "execute_result"
    }
   ],
   "source": [
    "(cons 1 [2 3])"
   ]
  },
  {
   "cell_type": "code",
   "execution_count": 5,
   "id": "natural-thanks",
   "metadata": {},
   "outputs": [
    {
     "data": {
      "text/plain": [
       "#function[clojure.core/cons--5376]"
      ]
     },
     "execution_count": 5,
     "metadata": {},
     "output_type": "execute_result"
    }
   ],
   "source": [
    "cons"
   ]
  },
  {
   "cell_type": "code",
   "execution_count": 6,
   "id": "looking-monthly",
   "metadata": {},
   "outputs": [
    {
     "data": {
      "text/plain": [
       "1"
      ]
     },
     "execution_count": 6,
     "metadata": {},
     "output_type": "execute_result"
    }
   ],
   "source": [
    "1"
   ]
  },
  {
   "cell_type": "code",
   "execution_count": 7,
   "id": "japanese-morning",
   "metadata": {},
   "outputs": [
    {
     "data": {
      "text/plain": [
       "[2 3]"
      ]
     },
     "execution_count": 7,
     "metadata": {},
     "output_type": "execute_result"
    }
   ],
   "source": [
    "[2 3]"
   ]
  },
  {
   "cell_type": "code",
   "execution_count": 8,
   "id": "racial-rubber",
   "metadata": {},
   "outputs": [
    {
     "name": "stderr",
     "output_type": "stream",
     "text": [
      "Execution error (ClassCastException) at user/eval4105 (REPL:1).\n",
      "java.lang.Long cannot be cast to clojure.lang.IFn\n"
     ]
    },
    {
     "ename": "class java.lang.ClassCastException",
     "evalue": "",
     "output_type": "error",
     "traceback": [
      "   core.clj:  3214 clojure.core$eval/invokeStatic",
      "   core.clj:  3210 clojure.core$eval/invoke",
      "   main.clj:   437 clojure.main$repl$read_eval_print__9086$fn__9089/invoke",
      "   main.clj:   458 clojure.main$repl$fn__9095/invoke",
      "   main.clj:   368 clojure.main$repl/doInvoke",
      "RestFn.java:  1523 clojure.lang.RestFn/invoke",
      "   AFn.java:    22 clojure.lang.AFn/run",
      "   AFn.java:    22 clojure.lang.AFn/run",
      "Thread.java:   748 java.lang.Thread/run"
     ]
    }
   ],
   "source": [
    "(1 2 3)"
   ]
  },
  {
   "cell_type": "code",
   "execution_count": 9,
   "id": "diverse-warning",
   "metadata": {},
   "outputs": [
    {
     "data": {
      "text/plain": [
       "age"
      ]
     },
     "execution_count": 9,
     "metadata": {},
     "output_type": "execute_result"
    }
   ],
   "source": [
    "(quote age)"
   ]
  },
  {
   "cell_type": "code",
   "execution_count": 10,
   "id": "funky-embassy",
   "metadata": {},
   "outputs": [
    {
     "data": {
      "text/plain": [
       "#'user/age"
      ]
     },
     "execution_count": 10,
     "metadata": {},
     "output_type": "execute_result"
    }
   ],
   "source": [
    "(def age 9)"
   ]
  },
  {
   "cell_type": "code",
   "execution_count": 11,
   "id": "exterior-sister",
   "metadata": {},
   "outputs": [
    {
     "data": {
      "text/plain": [
       "age"
      ]
     },
     "execution_count": 11,
     "metadata": {},
     "output_type": "execute_result"
    }
   ],
   "source": [
    "(quote age)"
   ]
  },
  {
   "cell_type": "code",
   "execution_count": 12,
   "id": "impossible-rocket",
   "metadata": {},
   "outputs": [
    {
     "data": {
      "text/plain": [
       "(cons 1 [2 3])"
      ]
     },
     "execution_count": 12,
     "metadata": {},
     "output_type": "execute_result"
    }
   ],
   "source": [
    "(quote (cons 1 [2 3]))"
   ]
  },
  {
   "cell_type": "code",
   "execution_count": 13,
   "id": "pointed-ghost",
   "metadata": {},
   "outputs": [
    {
     "name": "stderr",
     "output_type": "stream",
     "text": [
      "Execution error (ClassCastException) at user/eval4113 (REPL:1).\n",
      "java.lang.Long cannot be cast to clojure.lang.IFn\n"
     ]
    },
    {
     "ename": "class java.lang.ClassCastException",
     "evalue": "",
     "output_type": "error",
     "traceback": [
      "   core.clj:  3214 clojure.core$eval/invokeStatic",
      "   core.clj:  3210 clojure.core$eval/invoke",
      "   main.clj:   437 clojure.main$repl$read_eval_print__9086$fn__9089/invoke",
      "   main.clj:   458 clojure.main$repl$fn__9095/invoke",
      "   main.clj:   368 clojure.main$repl/doInvoke",
      "RestFn.java:  1523 clojure.lang.RestFn/invoke",
      "   AFn.java:    22 clojure.lang.AFn/run",
      "   AFn.java:    22 clojure.lang.AFn/run",
      "Thread.java:   748 java.lang.Thread/run"
     ]
    }
   ],
   "source": [
    "(cons 1 (2 3))"
   ]
  },
  {
   "cell_type": "code",
   "execution_count": 14,
   "id": "cooked-productivity",
   "metadata": {},
   "outputs": [
    {
     "data": {
      "text/plain": [
       "(1 2 3)"
      ]
     },
     "execution_count": 14,
     "metadata": {},
     "output_type": "execute_result"
    }
   ],
   "source": [
    "(cons 1 (quote (2 3)))"
   ]
  },
  {
   "cell_type": "code",
   "execution_count": 15,
   "id": "fitted-amazon",
   "metadata": {},
   "outputs": [
    {
     "data": {
      "text/plain": [
       "(1 2 3)"
      ]
     },
     "execution_count": 15,
     "metadata": {},
     "output_type": "execute_result"
    }
   ],
   "source": [
    "(cons 1 '(2 3))"
   ]
  },
  {
   "cell_type": "code",
   "execution_count": 16,
   "id": "historic-frame",
   "metadata": {},
   "outputs": [
    {
     "data": {
      "text/plain": [
       "[1 5]"
      ]
     },
     "execution_count": 16,
     "metadata": {},
     "output_type": "execute_result"
    }
   ],
   "source": [
    "[1 (+ 2 3)]"
   ]
  },
  {
   "cell_type": "code",
   "execution_count": 17,
   "id": "heard-sender",
   "metadata": {},
   "outputs": [
    {
     "data": {
      "text/plain": [
       "(1 (+ 2 3))"
      ]
     },
     "execution_count": 17,
     "metadata": {},
     "output_type": "execute_result"
    }
   ],
   "source": [
    "'(1 (+ 2 3))"
   ]
  },
  {
   "cell_type": "code",
   "execution_count": 18,
   "id": "reverse-haiti",
   "metadata": {},
   "outputs": [
    {
     "data": {
      "text/plain": [
       "[1 (+ 2 3)]"
      ]
     },
     "execution_count": 18,
     "metadata": {},
     "output_type": "execute_result"
    }
   ],
   "source": [
    "[1 '(+ 2 3)]"
   ]
  },
  {
   "cell_type": "code",
   "execution_count": 19,
   "id": "absent-appraisal",
   "metadata": {},
   "outputs": [
    {
     "data": {
      "text/plain": [
       "(1 2 3)"
      ]
     },
     "execution_count": 19,
     "metadata": {},
     "output_type": "execute_result"
    }
   ],
   "source": [
    "`(1 2 3)"
   ]
  },
  {
   "cell_type": "code",
   "execution_count": 21,
   "id": "military-affect",
   "metadata": {},
   "outputs": [
    {
     "name": "stderr",
     "output_type": "stream",
     "text": [
      "Syntax error (ClassNotFoundException) compiling at (REPL:0:0).\n",
      "i.just.made.this.up\n"
     ]
    },
    {
     "ename": "class clojure.lang.Compiler$CompilerException",
     "evalue": "",
     "output_type": "error",
     "traceback": [
      "    URLClassLoader.java:   382 java.net.URLClassLoader/findClass",
      "DynamicClassLoader.java:    69 clojure.lang.DynamicClassLoader/findClass",
      "       ClassLoader.java:   418 java.lang.ClassLoader/loadClass",
      "DynamicClassLoader.java:    77 clojure.lang.DynamicClassLoader/loadClass",
      "       ClassLoader.java:   351 java.lang.ClassLoader/loadClass",
      "             Class.java:    -2 java.lang.Class/forName0",
      "             Class.java:   348 java.lang.Class/forName",
      "                RT.java:  2211 clojure.lang.RT/classForName",
      "                RT.java:  2224 clojure.lang.RT/classForNameNonLoading",
      "               core.clj:  3214 clojure.core$eval/invokeStatic",
      "               core.clj:  3210 clojure.core$eval/invoke",
      "               main.clj:   437 clojure.main$repl$read_eval_print__9086$fn__9089/invoke",
      "               main.clj:   458 clojure.main$repl$fn__9095/invoke",
      "               main.clj:   368 clojure.main$repl/doInvoke",
      "            RestFn.java:  1523 clojure.lang.RestFn/invoke",
      "               AFn.java:    22 clojure.lang.AFn/run   ",
      "               AFn.java:    22 clojure.lang.AFn/run   ",
      "            Thread.java:   748 java.lang.Thread/run   "
     ]
    }
   ],
   "source": [
    "clojure.core/map\n",
    "clojure.set/union\n",
    "i.just.made.this.up/quux"
   ]
  },
  {
   "cell_type": "code",
   "execution_count": 22,
   "id": "caring-ethiopia",
   "metadata": {},
   "outputs": [
    {
     "data": {
      "text/plain": [
       "clojure.core/map"
      ]
     },
     "execution_count": 22,
     "metadata": {},
     "output_type": "execute_result"
    }
   ],
   "source": [
    "`map"
   ]
  },
  {
   "cell_type": "code",
   "execution_count": 23,
   "id": "intense-theater",
   "metadata": {},
   "outputs": [
    {
     "data": {
      "text/plain": [
       "java.lang.Integer"
      ]
     },
     "execution_count": 23,
     "metadata": {},
     "output_type": "execute_result"
    }
   ],
   "source": [
    "`Integer"
   ]
  },
  {
   "cell_type": "code",
   "execution_count": 24,
   "id": "typical-begin",
   "metadata": {},
   "outputs": [
    {
     "data": {
      "text/plain": [
       "(clojure.core/map clojure.core/even? [1 2 3])"
      ]
     },
     "execution_count": 24,
     "metadata": {},
     "output_type": "execute_result"
    }
   ],
   "source": [
    "`(map even? [1 2 3])"
   ]
  },
  {
   "cell_type": "code",
   "execution_count": 39,
   "id": "hollywood-plant",
   "metadata": {},
   "outputs": [
    {
     "data": {
      "text/plain": [
       "(#function[clojure.core/map] clojure.core/even? [1 2 3])"
      ]
     },
     "execution_count": 39,
     "metadata": {},
     "output_type": "execute_result"
    }
   ],
   "source": [
    "`(~map even? [1 2 3])"
   ]
  },
  {
   "cell_type": "code",
   "execution_count": 34,
   "id": "genetic-philippines",
   "metadata": {},
   "outputs": [
    {
     "data": {
      "text/plain": [
       "user/is-always-right"
      ]
     },
     "execution_count": 34,
     "metadata": {},
     "output_type": "execute_result"
    }
   ],
   "source": [
    "`is-always-right"
   ]
  },
  {
   "cell_type": "code",
   "execution_count": 40,
   "id": "medical-forge",
   "metadata": {},
   "outputs": [
    {
     "data": {
      "text/plain": [
       "(clojure.core/+ 10 (clojure.core/* 3 2))"
      ]
     },
     "execution_count": 40,
     "metadata": {},
     "output_type": "execute_result"
    }
   ],
   "source": [
    "`(+ 10 (* 3 2))"
   ]
  },
  {
   "cell_type": "code",
   "execution_count": 41,
   "id": "competent-arbor",
   "metadata": {},
   "outputs": [
    {
     "data": {
      "text/plain": [
       "(clojure.core/+ 10 6)"
      ]
     },
     "execution_count": 41,
     "metadata": {},
     "output_type": "execute_result"
    }
   ],
   "source": [
    "`(+ 10 ~(* 3 2))"
   ]
  },
  {
   "cell_type": "code",
   "execution_count": 42,
   "id": "direct-pixel",
   "metadata": {},
   "outputs": [
    {
     "data": {
      "text/plain": [
       "(1 2 3)"
      ]
     },
     "execution_count": 42,
     "metadata": {},
     "output_type": "execute_result"
    }
   ],
   "source": [
    "(let [x 2]\n",
    "    `(1 ~x 3))"
   ]
  },
  {
   "cell_type": "code",
   "execution_count": 43,
   "id": "constitutional-nylon",
   "metadata": {},
   "outputs": [
    {
     "name": "stderr",
     "output_type": "stream",
     "text": [
      "Execution error (ClassCastException) at user/eval4169 (REPL:1).\n",
      "java.lang.Long cannot be cast to clojure.lang.IFn\n"
     ]
    },
    {
     "ename": "class java.lang.ClassCastException",
     "evalue": "",
     "output_type": "error",
     "traceback": [
      "   core.clj:  3214 clojure.core$eval/invokeStatic",
      "   core.clj:  3210 clojure.core$eval/invoke",
      "   main.clj:   437 clojure.main$repl$read_eval_print__9086$fn__9089/invoke",
      "   main.clj:   458 clojure.main$repl$fn__9095/invoke",
      "   main.clj:   368 clojure.main$repl/doInvoke",
      "RestFn.java:  1523 clojure.lang.RestFn/invoke",
      "   AFn.java:    22 clojure.lang.AFn/run",
      "   AFn.java:    22 clojure.lang.AFn/run",
      "Thread.java:   748 java.lang.Thread/run"
     ]
    }
   ],
   "source": [
    "`(1 ~(2 3))"
   ]
  },
  {
   "cell_type": "code",
   "execution_count": 44,
   "id": "basic-wrong",
   "metadata": {},
   "outputs": [
    {
     "data": {
      "text/plain": [
       "(1 (2 3))"
      ]
     },
     "execution_count": 44,
     "metadata": {},
     "output_type": "execute_result"
    }
   ],
   "source": [
    "(let [x '(2 3)] `(1 ~x))"
   ]
  },
  {
   "cell_type": "code",
   "execution_count": 48,
   "id": "olive-roman",
   "metadata": {},
   "outputs": [
    {
     "data": {
      "text/plain": [
       "(1 2 3)"
      ]
     },
     "execution_count": 48,
     "metadata": {},
     "output_type": "execute_result"
    }
   ],
   "source": [
    "(let [x '(2 3)] `(1 ~@x))"
   ]
  },
  {
   "cell_type": "code",
   "execution_count": 49,
   "id": "proof-palace",
   "metadata": {},
   "outputs": [
    {
     "data": {
      "text/plain": [
       "portion__4182__auto__"
      ]
     },
     "execution_count": 49,
     "metadata": {},
     "output_type": "execute_result"
    }
   ],
   "source": [
    "`portion#"
   ]
  },
  {
   "cell_type": "code",
   "execution_count": 50,
   "id": "loaded-occasion",
   "metadata": {},
   "outputs": [
    {
     "data": {
      "text/plain": [
       "user/aec'lojure"
      ]
     },
     "execution_count": 50,
     "metadata": {},
     "output_type": "execute_result"
    }
   ],
   "source": [
    "`aec'lojure"
   ]
  },
  {
   "cell_type": "code",
   "execution_count": 51,
   "id": "aggregate-glasgow",
   "metadata": {},
   "outputs": [
    {
     "data": {
      "text/plain": [
       "#object[java.util.Locale 0x3c54c5a1 \"ko_KR\"]"
      ]
     },
     "execution_count": 51,
     "metadata": {},
     "output_type": "execute_result"
    }
   ],
   "source": [
    "java.util.Locale/KOREA"
   ]
  },
  {
   "cell_type": "code",
   "execution_count": 52,
   "id": "international-aurora",
   "metadata": {},
   "outputs": [
    {
     "data": {
      "text/plain": [
       "3.0"
      ]
     },
     "execution_count": 52,
     "metadata": {},
     "output_type": "execute_result"
    }
   ],
   "source": [
    "(Math/sqrt 9)"
   ]
  },
  {
   "cell_type": "code",
   "execution_count": 53,
   "id": "amber-bible",
   "metadata": {},
   "outputs": [
    {
     "data": {
      "text/plain": [
       "3.0"
      ]
     },
     "execution_count": 53,
     "metadata": {},
     "output_type": "execute_result"
    }
   ],
   "source": [
    "(java.lang.Math/sqrt 9)"
   ]
  },
  {
   "cell_type": "code",
   "execution_count": 54,
   "id": "reasonable-unknown",
   "metadata": {},
   "outputs": [
    {
     "data": {
      "text/plain": [
       "#object[java.awt.Point 0x69fec644 \"java.awt.Point[x=0,y=1]\"]"
      ]
     },
     "execution_count": 54,
     "metadata": {},
     "output_type": "execute_result"
    }
   ],
   "source": [
    "(new java.awt.Point 0 1)"
   ]
  },
  {
   "cell_type": "code",
   "execution_count": 55,
   "id": "underlying-straight",
   "metadata": {},
   "outputs": [
    {
     "data": {
      "text/plain": [
       "{\"bar\" 9, \"bas\" \"quux\", \"foo\" 42}"
      ]
     },
     "execution_count": 55,
     "metadata": {},
     "output_type": "execute_result"
    }
   ],
   "source": [
    "(new java.util.HashMap {\"foo\" 42 \"bar\" 9 \"bas\" \"quux\"})"
   ]
  },
  {
   "cell_type": "code",
   "execution_count": 57,
   "id": "seven-royalty",
   "metadata": {},
   "outputs": [
    {
     "data": {
      "text/plain": [
       "clojure.lang.PersistentArrayMap"
      ]
     },
     "execution_count": 57,
     "metadata": {},
     "output_type": "execute_result"
    }
   ],
   "source": [
    "(type {\"foo\" 42 \"bar\" 9 \"bas\" \"quux\"})"
   ]
  },
  {
   "cell_type": "code",
   "execution_count": 58,
   "id": "employed-there",
   "metadata": {},
   "outputs": [
    {
     "data": {
      "text/plain": [
       "java.util.HashMap"
      ]
     },
     "execution_count": 58,
     "metadata": {},
     "output_type": "execute_result"
    }
   ],
   "source": [
    "(type (new java.util.HashMap {\"foo\" 42 \"bar\" 9 \"bas\" \"quux\"}))"
   ]
  },
  {
   "cell_type": "code",
   "execution_count": 59,
   "id": "sublime-timber",
   "metadata": {},
   "outputs": [
    {
     "data": {
      "text/plain": [
       "{\"bar\" 9, \"bas\" \"quux\", \"foo\" 42}"
      ]
     },
     "execution_count": 59,
     "metadata": {},
     "output_type": "execute_result"
    }
   ],
   "source": [
    "(java.util.HashMap. {\"foo\" 42 \"bar\" 9 \"bas\" \"quux\"})"
   ]
  },
  {
   "cell_type": "code",
   "execution_count": 60,
   "id": "english-traffic",
   "metadata": {},
   "outputs": [
    {
     "name": "stderr",
     "output_type": "stream",
     "text": [
      "Syntax error compiling at (REPL:1:1).\n",
      "No such namespace: js\n"
     ]
    },
    {
     "ename": "class clojure.lang.Compiler$CompilerException",
     "evalue": "",
     "output_type": "error",
     "traceback": [
      "  Util.java:   221 clojure.lang.Util/runtimeException",
      "   core.clj:  3214 clojure.core$eval/invokeStatic",
      "   core.clj:  3210 clojure.core$eval/invoke",
      "   main.clj:   437 clojure.main$repl$read_eval_print__9086$fn__9089/invoke",
      "   main.clj:   458 clojure.main$repl$fn__9095/invoke",
      "   main.clj:   368 clojure.main$repl/doInvoke",
      "RestFn.java:  1523 clojure.lang.RestFn/invoke",
      "   AFn.java:    22 clojure.lang.AFn/run",
      "   AFn.java:    22 clojure.lang.AFn/run",
      "Thread.java:   748 java.lang.Thread/run"
     ]
    }
   ],
   "source": [
    "(js/Date.)"
   ]
  },
  {
   "cell_type": "code",
   "execution_count": null,
   "id": "suspended-leave",
   "metadata": {},
   "outputs": [],
   "source": []
  }
 ],
 "metadata": {
  "kernelspec": {
   "display_name": "Clojure (clojupyter-0.3.2)",
   "language": "clojure",
   "name": "clojupyter-0.3.2"
  },
  "language_info": {
   "file_extension": ".clj",
   "mimetype": "text/x-clojure",
   "name": "clojure",
   "version": "1.10.1"
  },
  "toc": {
   "base_numbering": 1,
   "nav_menu": {},
   "number_sections": true,
   "sideBar": true,
   "skip_h1_title": false,
   "title_cell": "Table of Contents",
   "title_sidebar": "Contents",
   "toc_cell": false,
   "toc_position": {},
   "toc_section_display": true,
   "toc_window_display": false
  },
  "varInspector": {
   "cols": {
    "lenName": 16,
    "lenType": 16,
    "lenVar": 40
   },
   "kernels_config": {
    "python": {
     "delete_cmd_postfix": "",
     "delete_cmd_prefix": "del ",
     "library": "var_list.py",
     "varRefreshCmd": "print(var_dic_list())"
    },
    "r": {
     "delete_cmd_postfix": ") ",
     "delete_cmd_prefix": "rm(",
     "library": "var_list.r",
     "varRefreshCmd": "cat(var_dic_list()) "
    }
   },
   "types_to_exclude": [
    "module",
    "function",
    "builtin_function_or_method",
    "instance",
    "_Feature"
   ],
   "window_display": false
  }
 },
 "nbformat": 4,
 "nbformat_minor": 5
}
