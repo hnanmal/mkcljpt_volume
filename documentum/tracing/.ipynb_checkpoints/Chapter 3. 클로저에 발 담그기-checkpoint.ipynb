{
 "cells": [
  {
   "cell_type": "code",
   "execution_count": 1,
   "id": "german-admission",
   "metadata": {},
   "outputs": [
    {
     "data": {
      "text/plain": [
       "#namespace[user]"
      ]
     },
     "execution_count": 1,
     "metadata": {},
     "output_type": "execute_result"
    }
   ],
   "source": [
    "*ns*"
   ]
  },
  {
   "cell_type": "code",
   "execution_count": 2,
   "id": "previous-cherry",
   "metadata": {},
   "outputs": [
    {
     "data": {
      "text/plain": [
       "\"Steele, Guy Lewis\""
      ]
     },
     "execution_count": 2,
     "metadata": {},
     "output_type": "execute_result"
    }
   ],
   "source": [
    "(def guys-whole-name [\"Guy\" \"Lewis\" \"Steele\"])\n",
    "\n",
    "(str (nth guys-whole-name 2) \", \"\n",
    "     (nth guys-whole-name 0) \" \"\n",
    "     (nth guys-whole-name 1))"
   ]
  },
  {
   "cell_type": "code",
   "execution_count": 5,
   "id": "touched-louisiana",
   "metadata": {},
   "outputs": [
    {
     "data": {
      "text/plain": [
       "\"Steele, Guy Lewis\""
      ]
     },
     "execution_count": 5,
     "metadata": {},
     "output_type": "execute_result"
    }
   ],
   "source": [
    "(let [[f-name m-name l-name] guys-whole-name]\n",
    "    (str l-name \", \" f-name \" \" m-name))"
   ]
  },
  {
   "cell_type": "code",
   "execution_count": 11,
   "id": "korean-baltimore",
   "metadata": {},
   "outputs": [
    {
     "data": {
      "text/plain": [
       "{:month \"12\", :day \"02\"}"
      ]
     },
     "execution_count": 11,
     "metadata": {},
     "output_type": "execute_result"
    }
   ],
   "source": [
    "(def date-regex #\"(\\d{1,2})\\/(\\d{1,2})\\/(\\d{4})\")\n",
    "\n",
    "(let [rem (re-matcher date-regex \"12/02/1975\")]\n",
    "    (when (.find rem)\n",
    "        (let [[_ m d] rem]\n",
    "            {:month m :day d})))"
   ]
  },
  {
   "cell_type": "code",
   "execution_count": 17,
   "id": "alternative-angle",
   "metadata": {},
   "outputs": [
    {
     "name": "stdout",
     "output_type": "stream",
     "text": [
      "a b c are: 0 1 2\n",
      "more is: (3 4 5 6 7 8 9)\n"
     ]
    },
    {
     "data": {
      "text/plain": [
       "nil"
      ]
     },
     "execution_count": 17,
     "metadata": {},
     "output_type": "execute_result"
    }
   ],
   "source": [
    "(let [[a b c & more] (range 10)]\n",
    "    (println \"a b c are:\" a b c)\n",
    "    (println \"more is:\" more))"
   ]
  },
  {
   "cell_type": "code",
   "execution_count": 18,
   "id": "refined-calculator",
   "metadata": {},
   "outputs": [
    {
     "name": "stdout",
     "output_type": "stream",
     "text": [
      "a b c are: 0 1 2\n",
      "more is: (3 4 5 6 7 8 9)\n",
      "all is: [0 1 2 3 4 5 6 7 8 9]\n"
     ]
    },
    {
     "data": {
      "text/plain": [
       "nil"
      ]
     },
     "execution_count": 18,
     "metadata": {},
     "output_type": "execute_result"
    }
   ],
   "source": [
    "(let [range-vec (vec (range 10))\n",
    "      [a b c & more :as all] range-vec]\n",
    "    (println \"a b c are:\" a b c)\n",
    "    (println \"more is:\" more)\n",
    "    (println \"all is:\" all))"
   ]
  },
  {
   "cell_type": "code",
   "execution_count": 19,
   "id": "breathing-brighton",
   "metadata": {},
   "outputs": [
    {
     "name": "stdout",
     "output_type": "stream",
     "text": [
      "a b c are: 0 1 2\n",
      "all is: [0 1 2 3 4 5 6 7 8 9]\n"
     ]
    },
    {
     "data": {
      "text/plain": [
       "nil"
      ]
     },
     "execution_count": 19,
     "metadata": {},
     "output_type": "execute_result"
    }
   ],
   "source": [
    "(let [range-vec (vec (range 10))\n",
    "      [a b c :as all] range-vec]\n",
    "    (println \"a b c are:\" a b c)\n",
    ";;     (println \"more is:\" more)\n",
    "    (println \"all is:\" all))"
   ]
  },
  {
   "cell_type": "code",
   "execution_count": 20,
   "id": "addressed-lemon",
   "metadata": {},
   "outputs": [
    {
     "data": {
      "text/plain": [
       "#'user/guys-name-map"
      ]
     },
     "execution_count": 20,
     "metadata": {},
     "output_type": "execute_result"
    }
   ],
   "source": [
    "(def guys-name-map\n",
    "    {:f-name \"Guy\" :m-name \"Lewis\" :l-name \"Steele\"})"
   ]
  },
  {
   "cell_type": "code",
   "execution_count": 21,
   "id": "adult-injury",
   "metadata": {},
   "outputs": [
    {
     "data": {
      "text/plain": [
       "\"Steele, Guy Lewis\""
      ]
     },
     "execution_count": 21,
     "metadata": {},
     "output_type": "execute_result"
    }
   ],
   "source": [
    "(let [{f-name :f-name, m-name :m-name, l-name :l-name} guys-name-map]\n",
    "    (str l-name \", \" f-name \" \" m-name))"
   ]
  },
  {
   "cell_type": "code",
   "execution_count": 23,
   "id": "medium-information",
   "metadata": {},
   "outputs": [
    {
     "data": {
      "text/plain": [
       "\"Steele, Guy Lewis\""
      ]
     },
     "execution_count": 23,
     "metadata": {},
     "output_type": "execute_result"
    }
   ],
   "source": [
    "(let [{:keys [f-name l-name m-name]} guys-name-map]\n",
    "    (str l-name \", \" f-name \" \" m-name))"
   ]
  },
  {
   "cell_type": "code",
   "execution_count": 25,
   "id": "foreign-phone",
   "metadata": {},
   "outputs": [
    {
     "name": "stdout",
     "output_type": "stream",
     "text": [
      "First name is Guy\n",
      "Whole name is below:\n"
     ]
    },
    {
     "data": {
      "text/plain": [
       "{:f-name \"Guy\", :m-name \"Lewis\", :l-name \"Steele\"}"
      ]
     },
     "execution_count": 25,
     "metadata": {},
     "output_type": "execute_result"
    }
   ],
   "source": [
    "(let [{f-name :f-name, :as whole-name} guys-name-map]\n",
    "    (println \"First name is\" f-name)\n",
    "    (println \"Whole name is below:\") whole-name)"
   ]
  },
  {
   "cell_type": "code",
   "execution_count": 26,
   "id": "persistent-payday",
   "metadata": {},
   "outputs": [
    {
     "name": "stdout",
     "output_type": "stream",
     "text": [
      "Mr. Guy Lewis Steele\n"
     ]
    },
    {
     "data": {
      "text/plain": [
       "nil"
      ]
     },
     "execution_count": 26,
     "metadata": {},
     "output_type": "execute_result"
    }
   ],
   "source": [
    "(let [{:keys [title f-name m-name l-name],\n",
    "       :or {title \"Mr.\"}} guys-name-map]\n",
    "    (println title f-name m-name l-name))"
   ]
  },
  {
   "cell_type": "code",
   "execution_count": 28,
   "id": "closed-trading",
   "metadata": {},
   "outputs": [
    {
     "data": {
      "text/plain": [
       "\"Steele, Guy Lewis\""
      ]
     },
     "execution_count": 28,
     "metadata": {},
     "output_type": "execute_result"
    }
   ],
   "source": [
    "(defn whole-name [& args]\n",
    "    (let [{:keys [f-name m-name l-name]} args]\n",
    "        (str l-name \", \" f-name \" \" m-name)))\n",
    "\n",
    "(whole-name :f-name \"Guy\" :m-name \"Lewis\" :l-name \"Steele\")"
   ]
  },
  {
   "cell_type": "code",
   "execution_count": 32,
   "id": "artificial-roads",
   "metadata": {},
   "outputs": [
    {
     "data": {
      "text/plain": [
       "[1 4]"
      ]
     },
     "execution_count": 32,
     "metadata": {},
     "output_type": "execute_result"
    }
   ],
   "source": [
    "(let [{first-thing 0, last-thing 3} [1 2 3 4]]\n",
    "    [first-thing last-thing])"
   ]
  },
  {
   "cell_type": "code",
   "execution_count": 34,
   "id": "familiar-railway",
   "metadata": {},
   "outputs": [
    {
     "name": "stdout",
     "output_type": "stream",
     "text": [
      "Steele\n"
     ]
    },
    {
     "data": {
      "text/plain": [
       "nil"
      ]
     },
     "execution_count": 34,
     "metadata": {},
     "output_type": "execute_result"
    }
   ],
   "source": [
    "(defn print-last-name [{:keys [l-name]}]\n",
    "    (println l-name))\n",
    "\n",
    "(print-last-name guys-name-map)"
   ]
  },
  {
   "cell_type": "code",
   "execution_count": null,
   "id": "executed-shore",
   "metadata": {},
   "outputs": [],
   "source": []
  }
 ],
 "metadata": {
  "kernelspec": {
   "display_name": "Clojure (clojupyter-0.3.2)",
   "language": "clojure",
   "name": "clojupyter-0.3.2"
  },
  "language_info": {
   "file_extension": ".clj",
   "mimetype": "text/x-clojure",
   "name": "clojure",
   "version": "1.10.1"
  },
  "toc": {
   "base_numbering": 1,
   "nav_menu": {},
   "number_sections": true,
   "sideBar": true,
   "skip_h1_title": false,
   "title_cell": "Table of Contents",
   "title_sidebar": "Contents",
   "toc_cell": false,
   "toc_position": {},
   "toc_section_display": true,
   "toc_window_display": false
  },
  "varInspector": {
   "cols": {
    "lenName": 16,
    "lenType": 16,
    "lenVar": 40
   },
   "kernels_config": {
    "python": {
     "delete_cmd_postfix": "",
     "delete_cmd_prefix": "del ",
     "library": "var_list.py",
     "varRefreshCmd": "print(var_dic_list())"
    },
    "r": {
     "delete_cmd_postfix": ") ",
     "delete_cmd_prefix": "rm(",
     "library": "var_list.r",
     "varRefreshCmd": "cat(var_dic_list()) "
    }
   },
   "types_to_exclude": [
    "module",
    "function",
    "builtin_function_or_method",
    "instance",
    "_Feature"
   ],
   "window_display": false
  }
 },
 "nbformat": 4,
 "nbformat_minor": 5
}
