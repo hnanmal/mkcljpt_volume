{
 "cells": [
  {
   "cell_type": "markdown",
   "id": "adapted-viking",
   "metadata": {},
   "source": [
    "# 5.5 영속적 셋"
   ]
  },
  {
   "cell_type": "code",
   "execution_count": 1,
   "id": "ideal-mirror",
   "metadata": {},
   "outputs": [
    {
     "data": {
      "text/plain": [
       ":c"
      ]
     },
     "execution_count": 1,
     "metadata": {},
     "output_type": "execute_result"
    }
   ],
   "source": [
    "(#{:a :b :c :d} :c)"
   ]
  },
  {
   "cell_type": "code",
   "execution_count": 2,
   "id": "comparable-editing",
   "metadata": {},
   "outputs": [
    {
     "data": {
      "text/plain": [
       ":b"
      ]
     },
     "execution_count": 2,
     "metadata": {},
     "output_type": "execute_result"
    }
   ],
   "source": [
    "(get #{:a 1 :b 2} :b)"
   ]
  },
  {
   "cell_type": "code",
   "execution_count": 3,
   "id": "juvenile-citizen",
   "metadata": {},
   "outputs": [
    {
     "data": {
      "text/plain": [
       ":nothing-doing"
      ]
     },
     "execution_count": 3,
     "metadata": {},
     "output_type": "execute_result"
    }
   ],
   "source": [
    "(get #{:a 1 :b 2} :z :nothing-doing)"
   ]
  },
  {
   "cell_type": "code",
   "execution_count": 7,
   "id": "naughty-peninsula",
   "metadata": {},
   "outputs": [
    {
     "data": {
      "text/plain": [
       "#{[]}"
      ]
     },
     "execution_count": 7,
     "metadata": {},
     "output_type": "execute_result"
    }
   ],
   "source": [
    "(into #{[]} [()])"
   ]
  },
  {
   "cell_type": "code",
   "execution_count": 5,
   "id": "quantitative-operations",
   "metadata": {},
   "outputs": [
    {
     "data": {
      "text/plain": [
       "#{[1 2]}"
      ]
     },
     "execution_count": 5,
     "metadata": {},
     "output_type": "execute_result"
    }
   ],
   "source": [
    "(into #{[1 2]} '([1 2]))"
   ]
  },
  {
   "cell_type": "code",
   "execution_count": 6,
   "id": "musical-vessel",
   "metadata": {},
   "outputs": [
    {
     "data": {
      "text/plain": [
       "#{[] #{} {}}"
      ]
     },
     "execution_count": 6,
     "metadata": {},
     "output_type": "execute_result"
    }
   ],
   "source": [
    "(into #{[] #{} {}} [()])"
   ]
  },
  {
   "cell_type": "code",
   "execution_count": 8,
   "id": "heavy-somewhere",
   "metadata": {},
   "outputs": [
    {
     "data": {
      "text/plain": [
       "true"
      ]
     },
     "execution_count": 8,
     "metadata": {},
     "output_type": "execute_result"
    }
   ],
   "source": [
    "(contains? #{1 2 4 3} 4)"
   ]
  },
  {
   "cell_type": "code",
   "execution_count": 10,
   "id": "reverse-marsh",
   "metadata": {},
   "outputs": [
    {
     "data": {
      "text/plain": [
       "true"
      ]
     },
     "execution_count": 10,
     "metadata": {},
     "output_type": "execute_result"
    }
   ],
   "source": [
    "(contains? [1 2 4 3] 3)"
   ]
  },
  {
   "cell_type": "code",
   "execution_count": 11,
   "id": "choice-aside",
   "metadata": {},
   "outputs": [
    {
     "data": {
      "text/plain": [
       "nil"
      ]
     },
     "execution_count": 11,
     "metadata": {},
     "output_type": "execute_result"
    }
   ],
   "source": [
    "(:require 'clojure.set)"
   ]
  },
  {
   "cell_type": "code",
   "execution_count": 12,
   "id": "coordinated-criticism",
   "metadata": {},
   "outputs": [
    {
     "data": {
      "text/plain": [
       "nil"
      ]
     },
     "execution_count": 12,
     "metadata": {},
     "output_type": "execute_result"
    }
   ],
   "source": [
    "(ns joy.ch5_5\n",
    "  (:require clojure.set))"
   ]
  },
  {
   "cell_type": "code",
   "execution_count": 13,
   "id": "specified-black",
   "metadata": {},
   "outputs": [
    {
     "data": {
      "text/plain": [
       "#{:zombies :humans}"
      ]
     },
     "execution_count": 13,
     "metadata": {},
     "output_type": "execute_result"
    }
   ],
   "source": [
    "(clojure.set/intersection #{:humans :fruit-bats :zombies}\n",
    "                    #{:chupacabra :zombies :humans})"
   ]
  },
  {
   "cell_type": "code",
   "execution_count": 14,
   "id": "removable-sunrise",
   "metadata": {},
   "outputs": [
    {
     "data": {
      "text/plain": [
       "#{:skor}"
      ]
     },
     "execution_count": 14,
     "metadata": {},
     "output_type": "execute_result"
    }
   ],
   "source": [
    "(clojure.set/intersection #{:pez :gum :dots :skor}\n",
    "                          #{:pez :skor :pocky}\n",
    "                          #{:pocky :gum :skor})"
   ]
  },
  {
   "cell_type": "code",
   "execution_count": 15,
   "id": "three-quick",
   "metadata": {},
   "outputs": [
    {
     "data": {
      "text/plain": [
       "#{:a :b :c}"
      ]
     },
     "execution_count": 15,
     "metadata": {},
     "output_type": "execute_result"
    }
   ],
   "source": [
    "(sorted-set :b :c :a)"
   ]
  },
  {
   "cell_type": "code",
   "execution_count": 16,
   "id": "beneficial-survey",
   "metadata": {},
   "outputs": [
    {
     "data": {
      "text/plain": [
       "#{[1 2] [3 4]}"
      ]
     },
     "execution_count": 16,
     "metadata": {},
     "output_type": "execute_result"
    }
   ],
   "source": [
    "(sorted-set [3 4] [1 2])"
   ]
  },
  {
   "cell_type": "code",
   "execution_count": 17,
   "id": "changing-bloom",
   "metadata": {},
   "outputs": [
    {
     "name": "stderr",
     "output_type": "stream",
     "text": [
      "Execution error (ClassCastException) at joy.ch5-5/eval5548 (REPL:1).\n",
      "clojure.lang.Keyword cannot be cast to java.lang.Number\n"
     ]
    },
    {
     "ename": "class java.lang.ClassCastException",
     "evalue": "",
     "output_type": "error",
     "traceback": [
      "             Util.java:   152 clojure.lang.Util/compare",
      "               RT.java:   283 clojure.lang.RT$DefaultComparator/compare",
      "PersistentTreeMap.java:   330 clojure.lang.PersistentTreeMap/doCompare",
      "PersistentTreeMap.java:   317 clojure.lang.PersistentTreeMap/entryAt",
      "PersistentTreeMap.java:    97 clojure.lang.PersistentTreeMap/containsKey",
      "   APersistentSet.java:    34 clojure.lang.APersistentSet/contains",
      "PersistentTreeSet.java:    68 clojure.lang.PersistentTreeSet/cons",
      "PersistentTreeSet.java:    26 clojure.lang.PersistentTreeSet/create",
      "              core.clj:   423 clojure.core$sorted_set/invokeStatic",
      "              core.clj:   417 clojure.core$sorted_set/doInvoke",
      "           RestFn.java:   512 clojure.lang.RestFn/invoke",
      "              core.clj:  3214 clojure.core$eval/invokeStatic",
      "              core.clj:  3210 clojure.core$eval/invoke",
      "              main.clj:   437 clojure.main$repl$read_eval_print__9086$fn__9089/invoke",
      "              main.clj:   458 clojure.main$repl$fn__9095/invoke",
      "              main.clj:   368 clojure.main$repl/doInvoke",
      "           RestFn.java:  1523 clojure.lang.RestFn/invoke",
      "              AFn.java:    22 clojure.lang.AFn/run  ",
      "              AFn.java:    22 clojure.lang.AFn/run  ",
      "           Thread.java:   748 java.lang.Thread/run  "
     ]
    }
   ],
   "source": [
    "(sorted-set :b 2 :c :a 3 1)"
   ]
  },
  {
   "cell_type": "code",
   "execution_count": 18,
   "id": "metric-execution",
   "metadata": {},
   "outputs": [
    {
     "data": {
      "text/plain": [
       "#'joy.ch5_5/my-set"
      ]
     },
     "execution_count": 18,
     "metadata": {},
     "output_type": "execute_result"
    }
   ],
   "source": [
    "(def my-set (sorted-set :a :b))"
   ]
  },
  {
   "cell_type": "code",
   "execution_count": 19,
   "id": "confirmed-timing",
   "metadata": {},
   "outputs": [
    {
     "name": "stderr",
     "output_type": "stream",
     "text": [
      "Execution error (ClassCastException) at java.lang.String/compareTo (String.java:111).\n",
      "clojure.lang.Keyword cannot be cast to java.lang.String\n"
     ]
    },
    {
     "ename": "class java.lang.ClassCastException",
     "evalue": "",
     "output_type": "error",
     "traceback": [
      "           String.java:   111 java.lang.String/compareTo",
      "             Util.java:   153 clojure.lang.Util/compare",
      "               RT.java:   283 clojure.lang.RT$DefaultComparator/compare",
      "PersistentTreeMap.java:   330 clojure.lang.PersistentTreeMap/doCompare",
      "PersistentTreeMap.java:   317 clojure.lang.PersistentTreeMap/entryAt",
      "PersistentTreeMap.java:    97 clojure.lang.PersistentTreeMap/containsKey",
      "   APersistentSet.java:    34 clojure.lang.APersistentSet/contains",
      "PersistentTreeSet.java:    68 clojure.lang.PersistentTreeSet/cons",
      "               RT.java:   677 clojure.lang.RT/conj  ",
      "              core.clj:    85 clojure.core$conj__5390/invokeStatic",
      "              core.clj:    82 clojure.core$conj__5390/invoke",
      "              core.clj:  3214 clojure.core$eval/invokeStatic",
      "              core.clj:  3210 clojure.core$eval/invoke",
      "              main.clj:   437 clojure.main$repl$read_eval_print__9086$fn__9089/invoke",
      "              main.clj:   458 clojure.main$repl$fn__9095/invoke",
      "              main.clj:   368 clojure.main$repl/doInvoke",
      "           RestFn.java:  1523 clojure.lang.RestFn/invoke",
      "              AFn.java:    22 clojure.lang.AFn/run  ",
      "              AFn.java:    22 clojure.lang.AFn/run  ",
      "           Thread.java:   748 java.lang.Thread/run  "
     ]
    }
   ],
   "source": [
    "(conj my-set \"a\")"
   ]
  },
  {
   "cell_type": "code",
   "execution_count": 20,
   "id": "marine-threshold",
   "metadata": {},
   "outputs": [
    {
     "data": {
      "text/plain": [
       "#{:a :b :c}"
      ]
     },
     "execution_count": 20,
     "metadata": {},
     "output_type": "execute_result"
    }
   ],
   "source": [
    "(conj my-set :c)"
   ]
  },
  {
   "cell_type": "code",
   "execution_count": 21,
   "id": "instructional-location",
   "metadata": {},
   "outputs": [
    {
     "data": {
      "text/plain": [
       "#{1 2 3}"
      ]
     },
     "execution_count": 21,
     "metadata": {},
     "output_type": "execute_result"
    }
   ],
   "source": [
    "(into (sorted-set) [3 1 2])"
   ]
  },
  {
   "cell_type": "code",
   "execution_count": 22,
   "id": "fresh-tobago",
   "metadata": {},
   "outputs": [
    {
     "data": {
      "text/plain": [
       "#{1 2 3}"
      ]
     },
     "execution_count": 22,
     "metadata": {},
     "output_type": "execute_result"
    }
   ],
   "source": [
    "(apply sorted-set [3 1 2])"
   ]
  },
  {
   "cell_type": "code",
   "execution_count": 24,
   "id": "underlying-basket",
   "metadata": {},
   "outputs": [
    {
     "data": {
      "text/plain": [
       "[(:a) (:b)]"
      ]
     },
     "execution_count": 24,
     "metadata": {},
     "output_type": "execute_result"
    }
   ],
   "source": [
    "(split-at 1 my-set)"
   ]
  },
  {
   "cell_type": "code",
   "execution_count": null,
   "id": "lined-kingston",
   "metadata": {},
   "outputs": [],
   "source": []
  },
  {
   "cell_type": "code",
   "execution_count": null,
   "id": "dimensional-reservation",
   "metadata": {},
   "outputs": [],
   "source": []
  }
 ],
 "metadata": {
  "kernelspec": {
   "display_name": "Clojure (clojupyter-0.3.2)",
   "language": "clojure",
   "name": "clojupyter-0.3.2"
  },
  "language_info": {
   "file_extension": ".clj",
   "mimetype": "text/x-clojure",
   "name": "clojure",
   "version": "1.10.1"
  },
  "toc": {
   "base_numbering": 1,
   "nav_menu": {},
   "number_sections": false,
   "sideBar": true,
   "skip_h1_title": false,
   "title_cell": "Table of Contents",
   "title_sidebar": "Contents",
   "toc_cell": false,
   "toc_position": {},
   "toc_section_display": true,
   "toc_window_display": false
  }
 },
 "nbformat": 4,
 "nbformat_minor": 5
}
