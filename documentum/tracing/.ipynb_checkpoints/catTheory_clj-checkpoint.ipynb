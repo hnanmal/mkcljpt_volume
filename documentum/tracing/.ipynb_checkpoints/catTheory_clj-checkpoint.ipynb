{
 "cells": [
  {
   "cell_type": "code",
   "execution_count": 1,
   "id": "dressed-hunter",
   "metadata": {},
   "outputs": [
    {
     "data": {
      "text/plain": [
       "#'user/idF"
      ]
     },
     "execution_count": 1,
     "metadata": {},
     "output_type": "execute_result"
    }
   ],
   "source": [
    "(defn idF [x]\n",
    "    x)"
   ]
  },
  {
   "cell_type": "code",
   "execution_count": 2,
   "id": "absolute-certification",
   "metadata": {},
   "outputs": [
    {
     "data": {
      "text/plain": [
       "#'user/idf1"
      ]
     },
     "execution_count": 2,
     "metadata": {},
     "output_type": "execute_result"
    }
   ],
   "source": [
    "(def idf1 (idF idF))"
   ]
  },
  {
   "cell_type": "code",
   "execution_count": 9,
   "id": "balanced-sample",
   "metadata": {},
   "outputs": [
    {
     "data": {
      "text/plain": [
       "#'user/idf2"
      ]
     },
     "execution_count": 9,
     "metadata": {},
     "output_type": "execute_result"
    }
   ],
   "source": [
    "(defn idf2 [x]\n",
    "    ((idf1 idF) x))"
   ]
  },
  {
   "cell_type": "code",
   "execution_count": 10,
   "id": "material-comment",
   "metadata": {},
   "outputs": [
    {
     "data": {
      "text/plain": [
       "7"
      ]
     },
     "execution_count": 10,
     "metadata": {},
     "output_type": "execute_result"
    }
   ],
   "source": [
    "(idF 7)"
   ]
  },
  {
   "cell_type": "code",
   "execution_count": 11,
   "id": "studied-southwest",
   "metadata": {},
   "outputs": [
    {
     "data": {
      "text/plain": [
       "7"
      ]
     },
     "execution_count": 11,
     "metadata": {},
     "output_type": "execute_result"
    }
   ],
   "source": [
    "(idf2 7)"
   ]
  },
  {
   "cell_type": "code",
   "execution_count": 25,
   "id": "directed-converter",
   "metadata": {},
   "outputs": [
    {
     "data": {
      "text/plain": [
       "#'user/join"
      ]
     },
     "execution_count": 25,
     "metadata": {},
     "output_type": "execute_result"
    }
   ],
   "source": [
    "(defn join\n",
    "  {:test (fn []\n",
    "           (assert\n",
    "            (= (join \",\" [1 2 3]) \"1,3,3\")))}\n",
    "  [sep s]\n",
    "  (apply str (interpose sep s)))"
   ]
  },
  {
   "cell_type": "code",
   "execution_count": 26,
   "id": "endless-contrary",
   "metadata": {},
   "outputs": [
    {
     "data": {
      "text/plain": [
       "\"s t r\""
      ]
     },
     "execution_count": 26,
     "metadata": {},
     "output_type": "execute_result"
    }
   ],
   "source": [
    "(join \" \" \"str\")"
   ]
  },
  {
   "cell_type": "code",
   "execution_count": 27,
   "id": "immune-tracy",
   "metadata": {},
   "outputs": [
    {
     "data": {
      "text/plain": [
       "#'user/sum"
      ]
     },
     "execution_count": 27,
     "metadata": {},
     "output_type": "execute_result"
    }
   ],
   "source": [
    "(defn ^:private ^:dynamic sum [nums]\n",
    "  (map + nums))"
   ]
  },
  {
   "cell_type": "code",
   "execution_count": 28,
   "id": "interested-peninsula",
   "metadata": {},
   "outputs": [
    {
     "data": {
      "text/plain": [
       "#'user/sum"
      ]
     },
     "execution_count": 28,
     "metadata": {},
     "output_type": "execute_result"
    }
   ],
   "source": [
    "(defn ^{:private true, :dynamic true} sum [nums]\n",
    "  (map + nums))"
   ]
  },
  {
   "cell_type": "code",
   "execution_count": 29,
   "id": "continental-hacker",
   "metadata": {},
   "outputs": [
    {
     "name": "stdout",
     "output_type": "stream",
     "text": [
      "\n",
      "Testing user\n",
      "\n",
      "ERROR in (join) (NO_SOURCE_FILE:3)\n",
      "Uncaught exception, not in assertion.\n",
      "expected: nil\n",
      "  actual: java.lang.AssertionError: Assert failed: (= (join \",\" [1 2 3]) \"1,3,3\")\n",
      " at user$fn__5564.invokeStatic (NO_SOURCE_FILE:3)\n",
      "    user/fn (NO_SOURCE_FILE:2)\n",
      "    clojure.test$test_var$fn__9737.invoke (test.clj:717)\n",
      "    clojure.test$test_var.invokeStatic (test.clj:717)\n",
      "    clojure.test$test_var.invoke (test.clj:708)\n",
      "    clojure.test$test_vars$fn__9763$fn__9768.invoke (test.clj:735)\n",
      "    clojure.test$default_fixture.invokeStatic (test.clj:687)\n",
      "    clojure.test$default_fixture.invoke (test.clj:683)\n",
      "    clojure.test$test_vars$fn__9763.invoke (test.clj:735)\n",
      "    clojure.test$default_fixture.invokeStatic (test.clj:687)\n",
      "    clojure.test$default_fixture.invoke (test.clj:683)\n",
      "    clojure.test$test_vars.invokeStatic (test.clj:731)\n",
      "    clojure.test$test_all_vars.invokeStatic (test.clj:737)\n",
      "    clojure.test$test_ns.invokeStatic (test.clj:758)\n",
      "    clojure.test$test_ns.invoke (test.clj:743)\n",
      "    clojure.core$map$fn__5866.invoke (core.clj:2755)\n",
      "    clojure.lang.LazySeq.sval (LazySeq.java:42)\n",
      "    clojure.lang.LazySeq.seq (LazySeq.java:51)\n",
      "    clojure.lang.Cons.next (Cons.java:39)\n",
      "    clojure.lang.RT.boundedLength (RT.java:1792)\n",
      "    clojure.lang.RestFn.applyTo (RestFn.java:130)\n",
      "    clojure.core$apply.invokeStatic (core.clj:667)\n",
      "    clojure.test$run_tests.invokeStatic (test.clj:768)\n",
      "    clojure.test$run_tests.doInvoke (test.clj:768)\n",
      "    clojure.lang.RestFn.invoke (RestFn.java:408)\n",
      "    clojure.test$run_tests.invokeStatic (test.clj:773)\n",
      "    clojure.test$run_tests.invoke (test.clj:768)\n",
      "    user$eval5573.invokeStatic (NO_SOURCE_FILE:2)\n",
      "    user$eval5573.invoke (NO_SOURCE_FILE:2)\n",
      "    clojure.lang.Compiler.eval (Compiler.java:7177)\n",
      "    clojure.lang.Compiler.eval (Compiler.java:7132)\n",
      "    clojure.core$eval.invokeStatic (core.clj:3214)\n",
      "    clojure.core$eval.invoke (core.clj:3210)\n",
      "    clojure.main$repl$read_eval_print__9086$fn__9089.invoke (main.clj:437)\n",
      "    clojure.main$repl$read_eval_print__9086.invoke (main.clj:437)\n",
      "    clojure.main$repl$fn__9095.invoke (main.clj:458)\n",
      "    clojure.main$repl.invokeStatic (main.clj:458)\n",
      "    clojure.main$repl.doInvoke (main.clj:368)\n",
      "    clojure.lang.RestFn.invoke (RestFn.java:1523)\n",
      "    nrepl.middleware.interruptible_eval$evaluate.invokeStatic (interruptible_eval.clj:79)\n",
      "    nrepl.middleware.interruptible_eval$evaluate.invoke (interruptible_eval.clj:55)\n",
      "    nrepl.middleware.interruptible_eval$interruptible_eval$fn__25331$fn__25335.invoke (interruptible_eval.clj:142)\n",
      "    clojure.lang.AFn.run (AFn.java:22)\n",
      "    nrepl.middleware.session$session_exec$main_loop__25412$fn__25416.invoke (session.clj:171)\n",
      "    nrepl.middleware.session$session_exec$main_loop__25412.invoke (session.clj:170)\n",
      "    clojure.lang.AFn.run (AFn.java:22)\n",
      "    java.lang.Thread.run (Thread.java:748)\n",
      "\n",
      "Ran 1 tests containing 1 assertions.\n",
      "0 failures, 1 errors.\n"
     ]
    },
    {
     "data": {
      "text/plain": [
       "{:test 1, :pass 0, :fail 0, :error 1, :type :summary}"
      ]
     },
     "execution_count": 29,
     "metadata": {},
     "output_type": "execute_result"
    }
   ],
   "source": [
    "(use '[clojure.test :as t])\n",
    "(t/run-tests)"
   ]
  },
  {
   "cell_type": "code",
   "execution_count": 32,
   "id": "determined-basis",
   "metadata": {},
   "outputs": [
    {
     "data": {
      "text/plain": [
       "[false false true true]"
      ]
     },
     "execution_count": 32,
     "metadata": {},
     "output_type": "execute_result"
    }
   ],
   "source": [
    "(let [truthiness (fn [v] v)]\n",
    "  [((complement truthiness) true)\n",
    "   ((complement truthiness) 42)\n",
    "   ((complement truthiness) false)\n",
    "   ((complement truthiness) nil)]) ;;이 함수는 참 또는 거짓을 리턴하는 함수를 받아서 반대 값을 리턴한다."
   ]
  },
  {
   "cell_type": "code",
   "execution_count": null,
   "id": "elegant-telephone",
   "metadata": {},
   "outputs": [],
   "source": []
  }
 ],
 "metadata": {
  "kernelspec": {
   "display_name": "Clojure (clojupyter-0.3.2)",
   "language": "clojure",
   "name": "clojupyter-0.3.2"
  },
  "language_info": {
   "file_extension": ".clj",
   "mimetype": "text/x-clojure",
   "name": "clojure",
   "version": "1.10.1"
  },
  "toc": {
   "base_numbering": 1,
   "nav_menu": {},
   "number_sections": false,
   "sideBar": true,
   "skip_h1_title": false,
   "title_cell": "Table of Contents",
   "title_sidebar": "Contents",
   "toc_cell": false,
   "toc_position": {},
   "toc_section_display": true,
   "toc_window_display": false
  }
 },
 "nbformat": 4,
 "nbformat_minor": 5
}
