{
 "cells": [
  {
   "cell_type": "code",
   "execution_count": 2,
   "id": "equipped-luxury",
   "metadata": {
    "scrolled": true
   },
   "outputs": [
    {
     "data": {
      "text/plain": [
       "#'user/data"
      ]
     },
     "execution_count": 2,
     "metadata": {},
     "output_type": "execute_result"
    }
   ],
   "source": [
    "(def data [{\"page\" 2,\"per_page\" 6,\"total\" 12,\"total_pages\" 2,\"data\" [{\"id\" 7,\"email\" \"michael.lawson@reqres.in\",\"first_name\" \"Michael\",\"last_name\" \"Lawson\",\"avatar\" \"https://reqres.in/img/faces/7-image.jpg\"},{\"id\" 8,\"email\" \"lindsay.ferguson@reqres.in\",\"first_name\" \"Lindsay\",\"last_name\" \"Ferguson\",\"avatar\" \"https://reqres.in/img/faces/8-image.jpg\"},{\"id\" 9,\"email\" \"tobias.funke@reqres.in\",\"first_name\" \"Tobias\",\"last_name\" \"Funke\",\"avatar\" \"https://reqres.in/img/faces/9-image.jpg\"},{\"id\" 10,\"email\" \"byron.fields@reqres.in\",\"first_name\" \"Byron\",\"last_name\" \"Fields\",\"avatar\" \"https://reqres.in/img/faces/10-image.jpg\"},{\"id\" 11,\"email\" \"george.edwards@reqres.in\",\"first_name\" \"George\",\"last_name\" \"Edwards\",\"avatar\" \"https://reqres.in/img/faces/11-image.jpg\"},{\"id\" 12,\"email\" \"rachel.howell@reqres.in\",\"first_name\" \"Rachel\",\"last_name\" \"Howell\",\"avatar\" \"https://reqres.in/img/faces/12-image.jpg\"}],\"support\" {\"url\" \"https://reqres.in/#support-heading\",\"text\" \"To keep ReqRes free, contributions towards server costs are appreciated!\"}}])"
   ]
  },
  {
   "cell_type": "code",
   "execution_count": 3,
   "id": "average-repair",
   "metadata": {},
   "outputs": [
    {
     "data": {
      "text/plain": [
       "{:keys [[{\"page\" 2, \"per_page\" 6, \"total\" 12, \"total_pages\" 2, \"data\" [{\"id\" 7, \"email\" \"michael.lawson@reqres.in\", \"first_name\" \"Michael\", \"last_name\" \"Lawson\", \"avatar\" \"https://reqres.in/img/faces/7-image.jpg\"} {\"id\" 8, \"email\" \"lindsay.ferguson@reqres.in\", \"first_name\" \"Lindsay\", \"last_name\" \"Ferguson\", \"avatar\" \"https://reqres.in/img/faces/8-image.jpg\"} {\"id\" 9, \"email\" \"tobias.funke@reqres.in\", \"first_name\" \"Tobias\", \"last_name\" \"Funke\", \"avatar\" \"https://reqres.in/img/faces/9-image.jpg\"} {\"id\" 10, \"email\" \"byron.fields@reqres.in\", \"first_name\" \"Byron\", \"last_name\" \"Fields\", \"avatar\" \"https://reqres.in/img/faces/10-image.jpg\"} {\"id\" 11, \"email\" \"george.edwards@reqres.in\", \"first_name\" \"George\", \"last_name\" \"Edwards\", \"avatar\" \"https://reqres.in/img/faces/11-image.jpg\"} {\"id\" 12, \"email\" \"rachel.howell@reqres.in\", \"first_name\" \"Rachel\", \"last_name\" \"Howell\", \"avatar\" \"https://reqres.in/img/faces/12-image.jpg\"}], \"support\" {\"url\" \"https://reqres.in/#support-heading\", \"text\" \"To keep ReqRes free, contributions towards server costs are appreciated!\"}}]]}"
      ]
     },
     "execution_count": 3,
     "metadata": {},
     "output_type": "execute_result"
    }
   ],
   "source": [
    "{:keys [data]}"
   ]
  },
  {
   "cell_type": "code",
   "execution_count": 4,
   "id": "breathing-belle",
   "metadata": {},
   "outputs": [
    {
     "data": {
      "text/plain": [
       "#'user/aa"
      ]
     },
     "execution_count": 4,
     "metadata": {},
     "output_type": "execute_result"
    }
   ],
   "source": [
    "(defn aa [db [_ {:keys [data]}]]\n",
    "   (println data)\n",
    "   db)"
   ]
  },
  {
   "cell_type": "code",
   "execution_count": 5,
   "id": "legitimate-gibson",
   "metadata": {},
   "outputs": [
    {
     "name": "stdout",
     "output_type": "stream",
     "text": [
      "nil\n"
     ]
    },
    {
     "data": {
      "text/plain": [
       "0"
      ]
     },
     "execution_count": 5,
     "metadata": {},
     "output_type": "execute_result"
    }
   ],
   "source": [
    "(aa 0 data)"
   ]
  },
  {
   "cell_type": "code",
   "execution_count": null,
   "id": "sacred-alliance",
   "metadata": {},
   "outputs": [],
   "source": []
  }
 ],
 "metadata": {
  "kernelspec": {
   "display_name": "Clojure (clojupyter-0.3.2)",
   "language": "clojure",
   "name": "clojupyter-0.3.2"
  },
  "language_info": {
   "file_extension": ".clj",
   "mimetype": "text/x-clojure",
   "name": "clojure",
   "version": "1.10.1"
  },
  "toc": {
   "base_numbering": 1,
   "nav_menu": {},
   "number_sections": true,
   "sideBar": true,
   "skip_h1_title": false,
   "title_cell": "Table of Contents",
   "title_sidebar": "Contents",
   "toc_cell": false,
   "toc_position": {},
   "toc_section_display": true,
   "toc_window_display": false
  },
  "varInspector": {
   "cols": {
    "lenName": 16,
    "lenType": 16,
    "lenVar": 40
   },
   "kernels_config": {
    "python": {
     "delete_cmd_postfix": "",
     "delete_cmd_prefix": "del ",
     "library": "var_list.py",
     "varRefreshCmd": "print(var_dic_list())"
    },
    "r": {
     "delete_cmd_postfix": ") ",
     "delete_cmd_prefix": "rm(",
     "library": "var_list.r",
     "varRefreshCmd": "cat(var_dic_list()) "
    }
   },
   "types_to_exclude": [
    "module",
    "function",
    "builtin_function_or_method",
    "instance",
    "_Feature"
   ],
   "window_display": false
  }
 },
 "nbformat": 4,
 "nbformat_minor": 5
}
