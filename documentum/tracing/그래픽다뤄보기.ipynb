{
 "cells": [
  {
   "cell_type": "code",
   "execution_count": 1,
   "id": "quantitative-aviation",
   "metadata": {},
   "outputs": [
    {
     "data": {
      "text/plain": [
       "#'user/xors"
      ]
     },
     "execution_count": 1,
     "metadata": {},
     "output_type": "execute_result"
    }
   ],
   "source": [
    "(for [x (range 2) y (range 2)] \n",
    "  [x y (bit-xor x y)])\n",
    "\n",
    "(defn xors [max-x max-y]\n",
    "  (for [x (range max-x) y (range max-y)]\n",
    "    [x y (bit-xor x y)]))"
   ]
  },
  {
   "cell_type": "code",
   "execution_count": 3,
   "id": "precise-touch",
   "metadata": {},
   "outputs": [
    {
     "data": {
      "text/plain": [
       "([0 0 0] [0 1 1] [1 0 1] [1 1 0])"
      ]
     },
     "execution_count": 3,
     "metadata": {},
     "output_type": "execute_result"
    }
   ],
   "source": [
    "(xors 2 2)"
   ]
  },
  {
   "cell_type": "code",
   "execution_count": 4,
   "id": "attended-small",
   "metadata": {},
   "outputs": [
    {
     "name": "stderr",
     "output_type": "stream",
     "text": [
      "Execution error (HeadlessException) at java.awt.GraphicsEnvironment/checkHeadless (GraphicsEnvironment.java:204).\n",
      "\n",
      "No X11 DISPLAY variable was set, but this program performed an operation which requires it.\n",
      "Execution error (IllegalArgumentException) at user/eval4151 (REPL:2).\n",
      "No matching field found: isVisible for class clojure.lang.Var$Unbound\n",
      "Execution error (IllegalArgumentException) at user/eval4153 (REPL:4).\n",
      "No matching method setVisible found taking 1 args for class clojure.lang.Var$Unbound\n",
      "Execution error (IllegalArgumentException) at user/eval4155 (REPL:5).\n",
      "No matching method setSize found taking 1 args for class clojure.lang.Var$Unbound\n"
     ]
    },
    {
     "ename": "class java.lang.IllegalArgumentException",
     "evalue": "",
     "output_type": "error",
     "traceback": [
      "Reflector.java:   127 clojure.lang.Reflector/invokeMatchingMethod",
      "Reflector.java:   102 clojure.lang.Reflector/invokeInstanceMethod",
      "      core.clj:  3214 clojure.core$eval/invokeStatic",
      "      core.clj:  3210 clojure.core$eval/invoke",
      "      main.clj:   437 clojure.main$repl$read_eval_print__9086$fn__9089/invoke",
      "      main.clj:   458 clojure.main$repl$fn__9095/invoke",
      "      main.clj:   368 clojure.main$repl/doInvoke",
      "   RestFn.java:  1523 clojure.lang.RestFn/invoke",
      "      AFn.java:    22 clojure.lang.AFn/run",
      "      AFn.java:    22 clojure.lang.AFn/run",
      "   Thread.java:   748 java.lang.Thread/run"
     ]
    }
   ],
   "source": [
    "(def frame (java.awt.Frame.))\n",
    "(.isVisible frame)\n",
    "\n",
    "(.setVisible frame true)\n",
    "(.setSize frame (java.awt.Dimension. 200 200))"
   ]
  },
  {
   "cell_type": "code",
   "execution_count": null,
   "id": "heavy-daughter",
   "metadata": {},
   "outputs": [],
   "source": []
  }
 ],
 "metadata": {
  "kernelspec": {
   "display_name": "Clojure (clojupyter-0.3.2)",
   "language": "clojure",
   "name": "clojupyter-0.3.2"
  },
  "language_info": {
   "file_extension": ".clj",
   "mimetype": "text/x-clojure",
   "name": "clojure",
   "version": "1.10.1"
  },
  "toc": {
   "base_numbering": 1,
   "nav_menu": {},
   "number_sections": true,
   "sideBar": true,
   "skip_h1_title": false,
   "title_cell": "Table of Contents",
   "title_sidebar": "Contents",
   "toc_cell": false,
   "toc_position": {},
   "toc_section_display": true,
   "toc_window_display": false
  },
  "varInspector": {
   "cols": {
    "lenName": 16,
    "lenType": 16,
    "lenVar": 40
   },
   "kernels_config": {
    "python": {
     "delete_cmd_postfix": "",
     "delete_cmd_prefix": "del ",
     "library": "var_list.py",
     "varRefreshCmd": "print(var_dic_list())"
    },
    "r": {
     "delete_cmd_postfix": ") ",
     "delete_cmd_prefix": "rm(",
     "library": "var_list.r",
     "varRefreshCmd": "cat(var_dic_list()) "
    }
   },
   "types_to_exclude": [
    "module",
    "function",
    "builtin_function_or_method",
    "instance",
    "_Feature"
   ],
   "window_display": false
  }
 },
 "nbformat": 4,
 "nbformat_minor": 5
}
