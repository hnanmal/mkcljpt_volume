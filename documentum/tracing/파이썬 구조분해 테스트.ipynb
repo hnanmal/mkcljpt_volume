{
 "cells": [
  {
   "cell_type": "code",
   "execution_count": 2,
   "id": "prepared-coating",
   "metadata": {},
   "outputs": [],
   "source": [
    "[a, [_, b]]= [1, [2, 3]]"
   ]
  },
  {
   "cell_type": "code",
   "execution_count": 3,
   "id": "amateur-lying",
   "metadata": {},
   "outputs": [
    {
     "data": {
      "text/plain": [
       "1"
      ]
     },
     "execution_count": 3,
     "metadata": {},
     "output_type": "execute_result"
    }
   ],
   "source": [
    "a"
   ]
  },
  {
   "cell_type": "code",
   "execution_count": 4,
   "id": "lonely-michael",
   "metadata": {},
   "outputs": [
    {
     "data": {
      "text/plain": [
       "3"
      ]
     },
     "execution_count": 4,
     "metadata": {},
     "output_type": "execute_result"
    }
   ],
   "source": [
    "b"
   ]
  },
  {
   "cell_type": "code",
   "execution_count": 19,
   "id": "endless-wrestling",
   "metadata": {},
   "outputs": [],
   "source": [
    "guys_whole_name = [\"Guy\", [\"Lewis\", \"Steele\"]]"
   ]
  },
  {
   "cell_type": "code",
   "execution_count": 37,
   "id": "applied-newton",
   "metadata": {},
   "outputs": [],
   "source": [
    "def sort_Name(names):\n",
    "    (f_name, (m_name, l_name)) = names\n",
    "    return l_name + \", \" + f_name + \" \" + m_name"
   ]
  },
  {
   "cell_type": "code",
   "execution_count": 38,
   "id": "lonely-witness",
   "metadata": {
    "scrolled": true
   },
   "outputs": [
    {
     "data": {
      "text/plain": [
       "'Steele, Guy Lewis'"
      ]
     },
     "execution_count": 38,
     "metadata": {},
     "output_type": "execute_result"
    }
   ],
   "source": [
    "sort_Name(guys_whole_name)"
   ]
  },
  {
   "cell_type": "code",
   "execution_count": 39,
   "id": "agricultural-literature",
   "metadata": {},
   "outputs": [
    {
     "data": {
      "text/plain": [
       "'Steele, Guy Lewis'"
      ]
     },
     "execution_count": 39,
     "metadata": {},
     "output_type": "execute_result"
    }
   ],
   "source": [
    "sort_Name([\"Guy\", [\"Lewis\", \"Steele\"]])"
   ]
  },
  {
   "cell_type": "code",
   "execution_count": 28,
   "id": "accepting-transition",
   "metadata": {},
   "outputs": [],
   "source": [
    "aa = [[1,[2,3]], [2,[3,4]], [3,[4,5]], [4,[5,6]], [5,[6,7]]]"
   ]
  },
  {
   "cell_type": "code",
   "execution_count": 32,
   "id": "oriented-hostel",
   "metadata": {},
   "outputs": [
    {
     "data": {
      "text/plain": [
       "[(1, 3), (2, 4), (3, 5), (4, 6), (5, 7)]"
      ]
     },
     "execution_count": 32,
     "metadata": {},
     "output_type": "execute_result"
    }
   ],
   "source": [
    "[(x,k) for [x,[_, k]] in aa]"
   ]
  },
  {
   "cell_type": "code",
   "execution_count": 41,
   "id": "atomic-peninsula",
   "metadata": {},
   "outputs": [
    {
     "data": {
      "text/plain": [
       "(1, 3)"
      ]
     },
     "execution_count": 41,
     "metadata": {},
     "output_type": "execute_result"
    }
   ],
   "source": [
    "next((x,k) for [x,[_, k]] in aa)"
   ]
  },
  {
   "cell_type": "code",
   "execution_count": null,
   "id": "civil-major",
   "metadata": {},
   "outputs": [],
   "source": []
  }
 ],
 "metadata": {
  "kernelspec": {
   "display_name": "Python 3",
   "language": "python",
   "name": "python3"
  },
  "language_info": {
   "codemirror_mode": {
    "name": "ipython",
    "version": 3
   },
   "file_extension": ".py",
   "mimetype": "text/x-python",
   "name": "python",
   "nbconvert_exporter": "python",
   "pygments_lexer": "ipython3",
   "version": "3.8.8"
  },
  "toc": {
   "base_numbering": 1,
   "nav_menu": {},
   "number_sections": true,
   "sideBar": true,
   "skip_h1_title": false,
   "title_cell": "Table of Contents",
   "title_sidebar": "Contents",
   "toc_cell": false,
   "toc_position": {},
   "toc_section_display": true,
   "toc_window_display": false
  },
  "varInspector": {
   "cols": {
    "lenName": 16,
    "lenType": 16,
    "lenVar": 40
   },
   "kernels_config": {
    "python": {
     "delete_cmd_postfix": "",
     "delete_cmd_prefix": "del ",
     "library": "var_list.py",
     "varRefreshCmd": "print(var_dic_list())"
    },
    "r": {
     "delete_cmd_postfix": ") ",
     "delete_cmd_prefix": "rm(",
     "library": "var_list.r",
     "varRefreshCmd": "cat(var_dic_list()) "
    }
   },
   "types_to_exclude": [
    "module",
    "function",
    "builtin_function_or_method",
    "instance",
    "_Feature"
   ],
   "window_display": false
  }
 },
 "nbformat": 4,
 "nbformat_minor": 5
}
