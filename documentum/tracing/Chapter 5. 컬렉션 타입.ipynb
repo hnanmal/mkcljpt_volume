{
 "cells": [
  {
   "cell_type": "code",
   "execution_count": 1,
   "id": "scenic-blowing",
   "metadata": {},
   "outputs": [
    {
     "data": {
      "text/plain": [
       "(:whillie :barnabas :adam)"
      ]
     },
     "execution_count": 1,
     "metadata": {},
     "output_type": "execute_result"
    }
   ],
   "source": [
    "(def ds (into-array [:whillie :barnabas :adam])) ; into-array는 자바/자바스크립트 배열을 벡터로 만들어준다.\n",
    "(seq ds)"
   ]
  },
  {
   "cell_type": "code",
   "execution_count": 4,
   "id": "acknowledged-transsexual",
   "metadata": {},
   "outputs": [
    {
     "data": {
      "text/plain": [
       ":quentin"
      ]
     },
     "execution_count": 4,
     "metadata": {},
     "output_type": "execute_result"
    }
   ],
   "source": [
    "(aset ds 1 :quentin) ; aset은 배열의 특정 위치에 값을 입력한다."
   ]
  },
  {
   "cell_type": "code",
   "execution_count": 5,
   "id": "concrete-gentleman",
   "metadata": {},
   "outputs": [
    {
     "data": {
      "text/plain": [
       "(:whillie :quentin :adam)"
      ]
     },
     "execution_count": 5,
     "metadata": {},
     "output_type": "execute_result"
    }
   ],
   "source": [
    "(seq ds)"
   ]
  },
  {
   "cell_type": "code",
   "execution_count": 7,
   "id": "quiet-august",
   "metadata": {},
   "outputs": [
    {
     "data": {
      "text/plain": [
       "[:whillie :barnabas :adam]"
      ]
     },
     "execution_count": 7,
     "metadata": {},
     "output_type": "execute_result"
    }
   ],
   "source": [
    "(def ds [:whillie :barnabas :adam])\n",
    "ds"
   ]
  },
  {
   "cell_type": "code",
   "execution_count": 8,
   "id": "perfect-apparel",
   "metadata": {},
   "outputs": [
    {
     "data": {
      "text/plain": [
       "[:whillie :barnabas :adam]"
      ]
     },
     "execution_count": 8,
     "metadata": {},
     "output_type": "execute_result"
    }
   ],
   "source": [
    "(def ds1 (replace {:barnabas :quentin} ds))\n",
    "ds"
   ]
  },
  {
   "cell_type": "code",
   "execution_count": 9,
   "id": "focal-outline",
   "metadata": {},
   "outputs": [
    {
     "data": {
      "text/plain": [
       "[:whillie :quentin :adam]"
      ]
     },
     "execution_count": 9,
     "metadata": {},
     "output_type": "execute_result"
    }
   ],
   "source": [
    "ds1"
   ]
  },
  {
   "cell_type": "code",
   "execution_count": 1,
   "id": "short-prophet",
   "metadata": {},
   "outputs": [
    {
     "data": {
      "text/plain": [
       "true"
      ]
     },
     "execution_count": 1,
     "metadata": {},
     "output_type": "execute_result"
    }
   ],
   "source": [
    "(= [1 2 3] '(1 2 3))"
   ]
  },
  {
   "cell_type": "code",
   "execution_count": 2,
   "id": "european-louisiana",
   "metadata": {},
   "outputs": [
    {
     "data": {
      "text/plain": [
       "false"
      ]
     },
     "execution_count": 2,
     "metadata": {},
     "output_type": "execute_result"
    }
   ],
   "source": [
    "(= [1 2 3] #{1 2 3})"
   ]
  },
  {
   "cell_type": "code",
   "execution_count": 1,
   "id": "greater-toyota",
   "metadata": {
    "scrolled": true
   },
   "outputs": [
    {
     "data": {
      "text/plain": [
       "clojure.lang.PersistentHashMap"
      ]
     },
     "execution_count": 1,
     "metadata": {},
     "output_type": "execute_result"
    }
   ],
   "source": [
    "(class (hash-map :a 1))"
   ]
  },
  {
   "cell_type": "code",
   "execution_count": 2,
   "id": "communist-metabolism",
   "metadata": {},
   "outputs": [
    {
     "data": {
      "text/plain": [
       "([:a 1])"
      ]
     },
     "execution_count": 2,
     "metadata": {},
     "output_type": "execute_result"
    }
   ],
   "source": [
    "(seq (hash-map :a 1))"
   ]
  },
  {
   "cell_type": "code",
   "execution_count": 3,
   "id": "decimal-presentation",
   "metadata": {},
   "outputs": [
    {
     "data": {
      "text/plain": [
       "clojure.lang.PersistentHashMap$NodeSeq"
      ]
     },
     "execution_count": 3,
     "metadata": {},
     "output_type": "execute_result"
    }
   ],
   "source": [
    "(class (seq (hash-map :a 1)))"
   ]
  },
  {
   "cell_type": "code",
   "execution_count": 4,
   "id": "dressed-liberty",
   "metadata": {},
   "outputs": [
    {
     "data": {
      "text/plain": [
       "(:a)"
      ]
     },
     "execution_count": 4,
     "metadata": {},
     "output_type": "execute_result"
    }
   ],
   "source": [
    "(seq (keys (hash-map :a 1)))"
   ]
  },
  {
   "cell_type": "code",
   "execution_count": 5,
   "id": "eastern-cocktail",
   "metadata": {},
   "outputs": [
    {
     "data": {
      "text/plain": [
       "clojure.lang.APersistentMap$KeySeq"
      ]
     },
     "execution_count": 5,
     "metadata": {},
     "output_type": "execute_result"
    }
   ],
   "source": [
    "(class (seq (keys (hash-map :a 1))))"
   ]
  },
  {
   "cell_type": "code",
   "execution_count": 7,
   "id": "operational-vitamin",
   "metadata": {},
   "outputs": [
    {
     "data": {
      "text/plain": [
       "([:b 3] [:a 1])"
      ]
     },
     "execution_count": 7,
     "metadata": {},
     "output_type": "execute_result"
    }
   ],
   "source": [
    "(seq (hash-map :a 1 :b 3))"
   ]
  },
  {
   "cell_type": "code",
   "execution_count": 21,
   "id": "together-vertical",
   "metadata": {},
   "outputs": [
    {
     "name": "stderr",
     "output_type": "stream",
     "text": [
      "Syntax error macroexpanding clojure.core/defn at (REPL:1:1).\n",
      "quote - failed: vector? at: [:fn-tail :arity-n :bodies :params] spec: :clojure.core.specs.alpha/param-list\n",
      "(quote (nums)) - failed: vector? at: [:fn-tail :arity-1 :params] spec: :clojure.core.specs.alpha/param-list\n"
     ]
    },
    {
     "ename": "class clojure.lang.Compiler$CompilerException",
     "evalue": "",
     "output_type": "error",
     "traceback": [
      "  alpha.clj:   705 clojure.spec.alpha$macroexpand_check/invokeStatic",
      "  alpha.clj:   697 clojure.spec.alpha$macroexpand_check/invoke",
      "   AFn.java:   156 clojure.lang.AFn/applyToHelper",
      "   AFn.java:   144 clojure.lang.AFn/applyTo",
      "   Var.java:   705 clojure.lang.Var/applyTo",
      "   core.clj:  3214 clojure.core$eval/invokeStatic",
      "   core.clj:  3210 clojure.core$eval/invoke",
      "   main.clj:   437 clojure.main$repl$read_eval_print__9086$fn__9089/invoke",
      "   main.clj:   458 clojure.main$repl$fn__9095/invoke",
      "   main.clj:   368 clojure.main$repl/doInvoke",
      "RestFn.java:  1523 clojure.lang.RestFn/invoke",
      "   AFn.java:    22 clojure.lang.AFn/run",
      "   AFn.java:    22 clojure.lang.AFn/run",
      "Thread.java:   748 java.lang.Thread/run"
     ]
    }
   ],
   "source": [
    "(defn do-nums '(nums)\n",
    "    (println nums))"
   ]
  },
  {
   "cell_type": "code",
   "execution_count": 16,
   "id": "parallel-tuesday",
   "metadata": {},
   "outputs": [
    {
     "data": {
      "text/plain": [
       "[1 2]"
      ]
     },
     "execution_count": 16,
     "metadata": {},
     "output_type": "execute_result"
    }
   ],
   "source": [
    "(vec '(1 2))"
   ]
  },
  {
   "cell_type": "code",
   "execution_count": 20,
   "id": "ignored-communications",
   "metadata": {},
   "outputs": [
    {
     "data": {
      "text/plain": [
       "#'user/do-nums"
      ]
     },
     "execution_count": 20,
     "metadata": {},
     "output_type": "execute_result"
    }
   ],
   "source": [
    "(defn do-nums [nums]\n",
    "    (println nums))"
   ]
  },
  {
   "cell_type": "code",
   "execution_count": 22,
   "id": "specific-immune",
   "metadata": {},
   "outputs": [
    {
     "data": {
      "text/plain": [
       "#'user/a-to-j"
      ]
     },
     "execution_count": 22,
     "metadata": {},
     "output_type": "execute_result"
    }
   ],
   "source": [
    "(def a-to-j (vec (map char (range 65 75))))"
   ]
  },
  {
   "cell_type": "code",
   "execution_count": 23,
   "id": "worldwide-south",
   "metadata": {},
   "outputs": [
    {
     "data": {
      "text/plain": [
       "[\\A \\B \\C \\D \\E \\F \\G \\H \\I \\J]"
      ]
     },
     "execution_count": 23,
     "metadata": {},
     "output_type": "execute_result"
    }
   ],
   "source": [
    "a-to-j"
   ]
  },
  {
   "cell_type": "code",
   "execution_count": 24,
   "id": "compressed-proportion",
   "metadata": {},
   "outputs": [
    {
     "data": {
      "text/plain": [
       "#'user/a-to-j2"
      ]
     },
     "execution_count": 24,
     "metadata": {},
     "output_type": "execute_result"
    }
   ],
   "source": [
    "(def a-to-j2 (into (vector-of :char) (range 65 75)))"
   ]
  },
  {
   "cell_type": "code",
   "execution_count": 25,
   "id": "dirty-collapse",
   "metadata": {},
   "outputs": [
    {
     "data": {
      "text/plain": [
       "[\\A \\B \\C \\D \\E \\F \\G \\H \\I \\J]"
      ]
     },
     "execution_count": 25,
     "metadata": {},
     "output_type": "execute_result"
    }
   ],
   "source": [
    "a-to-j2"
   ]
  },
  {
   "cell_type": "code",
   "execution_count": 26,
   "id": "proprietary-reflection",
   "metadata": {},
   "outputs": [
    {
     "data": {
      "text/plain": [
       "[\\A \\B \\C \\D \"no longer E\" \\F \\G \\H \\I \\J]"
      ]
     },
     "execution_count": 26,
     "metadata": {},
     "output_type": "execute_result"
    }
   ],
   "source": [
    "(assoc a-to-j 4 \"no longer E\")"
   ]
  },
  {
   "cell_type": "code",
   "execution_count": 28,
   "id": "oriental-capital",
   "metadata": {},
   "outputs": [
    {
     "data": {
      "text/plain": [
       "[\\A \\B \\C \\D \\E \\F \\G \\H \\I \\J \"no longer E\"]"
      ]
     },
     "execution_count": 28,
     "metadata": {},
     "output_type": "execute_result"
    }
   ],
   "source": [
    "(assoc a-to-j (count a-to-j) \"no longer E\")"
   ]
  },
  {
   "cell_type": "code",
   "execution_count": 29,
   "id": "moving-lottery",
   "metadata": {},
   "outputs": [
    {
     "data": {
      "text/plain": [
       "[\\A \\B \\C \\D \\E \\F \\G \\H \\I \\J \"no longer E\"]"
      ]
     },
     "execution_count": 29,
     "metadata": {},
     "output_type": "execute_result"
    }
   ],
   "source": [
    "(conj a-to-j\"no longer E\")"
   ]
  },
  {
   "cell_type": "code",
   "execution_count": 30,
   "id": "secret-heart",
   "metadata": {},
   "outputs": [
    {
     "data": {
      "text/plain": [
       "#'user/matrix"
      ]
     },
     "execution_count": 30,
     "metadata": {},
     "output_type": "execute_result"
    }
   ],
   "source": [
    "(def matrix\n",
    "  [[1 2 3]\n",
    "   [4 5 6]\n",
    "   [7 8 9]])"
   ]
  },
  {
   "cell_type": "code",
   "execution_count": 31,
   "id": "amazing-joyce",
   "metadata": {},
   "outputs": [
    {
     "data": {
      "text/plain": [
       "6"
      ]
     },
     "execution_count": 31,
     "metadata": {},
     "output_type": "execute_result"
    }
   ],
   "source": [
    "(get-in matrix [1 2])"
   ]
  },
  {
   "cell_type": "code",
   "execution_count": 32,
   "id": "annoying-seller",
   "metadata": {},
   "outputs": [
    {
     "data": {
      "text/plain": [
       "[[1 2 3] [4 5 :x] [7 8 9]]"
      ]
     },
     "execution_count": 32,
     "metadata": {},
     "output_type": "execute_result"
    }
   ],
   "source": [
    "(assoc-in matrix [1 2] :x)"
   ]
  },
  {
   "cell_type": "code",
   "execution_count": 33,
   "id": "enormous-mercury",
   "metadata": {},
   "outputs": [
    {
     "data": {
      "text/plain": [
       "[[1 2 3] [4 5 600] [7 8 9]]"
      ]
     },
     "execution_count": 33,
     "metadata": {},
     "output_type": "execute_result"
    }
   ],
   "source": [
    "(update-in matrix [1 2] * 100)"
   ]
  },
  {
   "cell_type": "code",
   "execution_count": 46,
   "id": "confused-italic",
   "metadata": {},
   "outputs": [
    {
     "data": {
      "text/plain": [
       "[1 2 [2 2 3]]"
      ]
     },
     "execution_count": 46,
     "metadata": {},
     "output_type": "execute_result"
    }
   ],
   "source": [
    "(update-in [1 2 [1 2 3]] [2 0] inc)"
   ]
  },
  {
   "cell_type": "code",
   "execution_count": 47,
   "id": "artificial-bullet",
   "metadata": {},
   "outputs": [
    {
     "data": {
      "text/plain": [
       "({:id 1.0, :name \"not 2\"} {:id 2.0, :name \"name2\"} {:id 3.0, :name \"not 2\"})"
      ]
     },
     "execution_count": 47,
     "metadata": {},
     "output_type": "execute_result"
    }
   ],
   "source": [
    "(def ds [{:id 1.0 :name \"name1\"}\n",
    "         {:id 2.0 :name \"name2\"}\n",
    "         {:id 3.0 :name \"name3\"}])\n",
    "\n",
    "(map (fn [x] (update-in x [:name] #(if (= \"name2\" %) % \"not 2\"))) ds)"
   ]
  },
  {
   "cell_type": "code",
   "execution_count": 48,
   "id": "coordinated-label",
   "metadata": {},
   "outputs": [
    {
     "data": {
      "text/plain": [
       "#'user/neighbors"
      ]
     },
     "execution_count": 48,
     "metadata": {},
     "output_type": "execute_result"
    }
   ],
   "source": [
    "(defn neighbors\n",
    "  ([size yx] (neighbors [[-1 0] [1 0] [0 -1] [0 1]]  ;; 이웃하는 좌표를 정의\n",
    "                        size\n",
    "                        yx))\n",
    "  ([deltas size yx]\n",
    "   (filter (fn [new-yx]\n",
    "             (every? #(< -1 % size) new-yx))  ;; 적절하지 않은 좌표 제거\n",
    "           (map #(vec (map + yx %))  ;; 후보 좌표 계산\n",
    "                deltas))))"
   ]
  },
  {
   "cell_type": "code",
   "execution_count": 56,
   "id": "incident-crash",
   "metadata": {},
   "outputs": [
    {
     "data": {
      "text/plain": [
       "([1 0] [0 1])"
      ]
     },
     "execution_count": 56,
     "metadata": {},
     "output_type": "execute_result"
    }
   ],
   "source": [
    "(neighbors 3 [0 0])"
   ]
  },
  {
   "cell_type": "code",
   "execution_count": 55,
   "id": "lonely-joining",
   "metadata": {},
   "outputs": [
    {
     "data": {
      "text/plain": [
       "[2 5]"
      ]
     },
     "execution_count": 55,
     "metadata": {},
     "output_type": "execute_result"
    }
   ],
   "source": [
    "(vec (map + [1 2] [1 3]))"
   ]
  },
  {
   "cell_type": "code",
   "execution_count": 75,
   "id": "mental-shock",
   "metadata": {},
   "outputs": [
    {
     "data": {
      "text/plain": [
       "([0 0] [2 0] [1 -1] [1 1])"
      ]
     },
     "execution_count": 75,
     "metadata": {},
     "output_type": "execute_result"
    }
   ],
   "source": [
    "(map #(vec (map + [1 0] %)) [[-1 0] [1 0] [0 -1] [0 1]])"
   ]
  },
  {
   "cell_type": "code",
   "execution_count": 69,
   "id": "declared-charles",
   "metadata": {},
   "outputs": [
    {
     "data": {
      "text/plain": [
       "#function[clojure.core/every?]"
      ]
     },
     "execution_count": 69,
     "metadata": {},
     "output_type": "execute_result"
    }
   ],
   "source": [
    "every?"
   ]
  },
  {
   "cell_type": "code",
   "execution_count": 77,
   "id": "according-circus",
   "metadata": {},
   "outputs": [
    {
     "data": {
      "text/plain": [
       "([0 0] [2 0] [1 1])"
      ]
     },
     "execution_count": 77,
     "metadata": {},
     "output_type": "execute_result"
    }
   ],
   "source": [
    "(filter (fn [new-yx]\n",
    "             (every? #(<= 0 % 3) new-yx)) '([0 0] [2 0] [1 -1] [1 1]))"
   ]
  },
  {
   "cell_type": "code",
   "execution_count": 78,
   "id": "appointed-cooper",
   "metadata": {},
   "outputs": [
    {
     "data": {
      "text/plain": [
       "#'user/my-stack"
      ]
     },
     "execution_count": 78,
     "metadata": {},
     "output_type": "execute_result"
    }
   ],
   "source": [
    "(def my-stack [1 2 3])"
   ]
  },
  {
   "cell_type": "code",
   "execution_count": 79,
   "id": "identical-department",
   "metadata": {},
   "outputs": [
    {
     "data": {
      "text/plain": [
       "3"
      ]
     },
     "execution_count": 79,
     "metadata": {},
     "output_type": "execute_result"
    }
   ],
   "source": [
    "(peek my-stack)"
   ]
  },
  {
   "cell_type": "code",
   "execution_count": 80,
   "id": "tight-preliminary",
   "metadata": {},
   "outputs": [
    {
     "data": {
      "text/plain": [
       "[1 2]"
      ]
     },
     "execution_count": 80,
     "metadata": {},
     "output_type": "execute_result"
    }
   ],
   "source": [
    "(pop my-stack)"
   ]
  },
  {
   "cell_type": "code",
   "execution_count": 81,
   "id": "handmade-flood",
   "metadata": {},
   "outputs": [
    {
     "data": {
      "text/plain": [
       "[1 2 3 4]"
      ]
     },
     "execution_count": 81,
     "metadata": {},
     "output_type": "execute_result"
    }
   ],
   "source": [
    "(conj my-stack 4)"
   ]
  },
  {
   "cell_type": "code",
   "execution_count": 85,
   "id": "dental-settle",
   "metadata": {},
   "outputs": [
    {
     "data": {
      "text/plain": [
       "\"3 / 2\""
      ]
     },
     "execution_count": 85,
     "metadata": {},
     "output_type": "execute_result"
    }
   ],
   "source": [
    "(str (peek my-stack) \" / \" (peek (pop my-stack)))"
   ]
  },
  {
   "cell_type": "code",
   "execution_count": 86,
   "id": "indian-backing",
   "metadata": {},
   "outputs": [
    {
     "data": {
      "text/plain": [
       "\"1 / 2\""
      ]
     },
     "execution_count": 86,
     "metadata": {},
     "output_type": "execute_result"
    }
   ],
   "source": [
    "(str (first my-stack) \" / \" (first (next my-stack)))"
   ]
  },
  {
   "cell_type": "code",
   "execution_count": 91,
   "id": "found-chemical",
   "metadata": {},
   "outputs": [
    {
     "data": {
      "text/plain": [
       "(0 -1 -2 -3 -4)"
      ]
     },
     "execution_count": 91,
     "metadata": {},
     "output_type": "execute_result"
    }
   ],
   "source": [
    "(defn strict-map1 [f coll]\n",
    "  (loop [coll coll, acc nil]\n",
    "    (if (empty? coll)\n",
    "      (reverse acc)\n",
    "      (recur (next coll)\n",
    "             (cons (f (first coll)) acc)))))\n",
    "\n",
    "(strict-map1 - (range 5))"
   ]
  },
  {
   "cell_type": "code",
   "execution_count": 93,
   "id": "imported-attitude",
   "metadata": {},
   "outputs": [
    {
     "data": {
      "text/plain": [
       "[0 -1 -2 -3 -4]"
      ]
     },
     "execution_count": 93,
     "metadata": {},
     "output_type": "execute_result"
    }
   ],
   "source": [
    "(defn strict-map2 [f coll]\n",
    "  (loop [coll coll acc []]\n",
    "    (if (empty? coll)\n",
    "      acc\n",
    "      (recur (next coll)\n",
    "             (conj acc (f (first coll)))))))\n",
    "\n",
    "(strict-map2 - (range 5))"
   ]
  },
  {
   "cell_type": "code",
   "execution_count": 94,
   "id": "quality-machine",
   "metadata": {},
   "outputs": [
    {
     "data": {
      "text/plain": [
       "[\\D \\E \\F]"
      ]
     },
     "execution_count": 94,
     "metadata": {},
     "output_type": "execute_result"
    }
   ],
   "source": [
    "(subvec a-to-j 3 6)"
   ]
  },
  {
   "cell_type": "code",
   "execution_count": 97,
   "id": "still-elimination",
   "metadata": {},
   "outputs": [
    {
     "name": "stderr",
     "output_type": "stream",
     "text": [
      "Execution error (ClassCastException) at user/eval4327 (REPL:1).\n",
      "clojure.lang.PersistentArrayMap cannot be cast to java.lang.Number\n"
     ]
    },
    {
     "ename": "class java.lang.ClassCastException",
     "evalue": "",
     "output_type": "error",
     "traceback": [
      "   core.clj:  3214 clojure.core$eval/invokeStatic",
      "   core.clj:  3210 clojure.core$eval/invoke",
      "   main.clj:   437 clojure.main$repl$read_eval_print__9086$fn__9089/invoke",
      "   main.clj:   458 clojure.main$repl$fn__9095/invoke",
      "   main.clj:   368 clojure.main$repl/doInvoke",
      "RestFn.java:  1523 clojure.lang.RestFn/invoke",
      "   AFn.java:    22 clojure.lang.AFn/run",
      "   AFn.java:    22 clojure.lang.AFn/run",
      "Thread.java:   748 java.lang.Thread/run"
     ]
    }
   ],
   "source": [
    "(nth 0 {:width 10 :height 20 :depth 15})"
   ]
  },
  {
   "cell_type": "code",
   "execution_count": 98,
   "id": "right-pipeline",
   "metadata": {},
   "outputs": [
    {
     "name": "stdout",
     "output_type": "stream",
     "text": [
      "width: 10 inches\n",
      "height: 20 inches\n",
      "depth: 15 inches\n"
     ]
    },
    {
     "data": {
      "text/plain": [
       "nil"
      ]
     },
     "execution_count": 98,
     "metadata": {},
     "output_type": "execute_result"
    }
   ],
   "source": [
    "(doseq [[dimension amount] {:width 10 :height 20 :depth 15}]\n",
    "  (println (str (name dimension) \":\") amount \"inches\"))"
   ]
  },
  {
   "cell_type": "code",
   "execution_count": 99,
   "id": "familiar-vessel",
   "metadata": {},
   "outputs": [
    {
     "name": "stderr",
     "output_type": "stream",
     "text": [
      "Syntax error compiling at (REPL:1:1).\n",
      "Unable to resolve symbol: dimension in this context\n"
     ]
    },
    {
     "ename": "class clojure.lang.Compiler$CompilerException",
     "evalue": "",
     "output_type": "error",
     "traceback": [
      "  Util.java:   221 clojure.lang.Util/runtimeException",
      "   core.clj:  3214 clojure.core$eval/invokeStatic",
      "   core.clj:  3210 clojure.core$eval/invoke",
      "   main.clj:   437 clojure.main$repl$read_eval_print__9086$fn__9089/invoke",
      "   main.clj:   458 clojure.main$repl$fn__9095/invoke",
      "   main.clj:   368 clojure.main$repl/doInvoke",
      "RestFn.java:  1523 clojure.lang.RestFn/invoke",
      "   AFn.java:    22 clojure.lang.AFn/run",
      "   AFn.java:    22 clojure.lang.AFn/run",
      "Thread.java:   748 java.lang.Thread/run"
     ]
    }
   ],
   "source": [
    "(do [[dimension amount] {:width 10 :height 20 :depth 15}]\n",
    "  (println (str (name dimension) \":\") amount \"inches\"))"
   ]
  },
  {
   "cell_type": "code",
   "execution_count": 105,
   "id": "endless-channels",
   "metadata": {},
   "outputs": [
    {
     "data": {
      "text/plain": [
       "([1 1] [2 2] [3 3])"
      ]
     },
     "execution_count": 105,
     "metadata": {},
     "output_type": "execute_result"
    }
   ],
   "source": [
    "(map vector [1 2 3] [1 2 3])"
   ]
  },
  {
   "cell_type": "code",
   "execution_count": 102,
   "id": "designing-brunei",
   "metadata": {},
   "outputs": [
    {
     "data": {
      "text/plain": [
       "([1] [2])"
      ]
     },
     "execution_count": 102,
     "metadata": {},
     "output_type": "execute_result"
    }
   ],
   "source": [
    "(list [1] [2])"
   ]
  },
  {
   "cell_type": "code",
   "execution_count": 103,
   "id": "handmade-valuable",
   "metadata": {},
   "outputs": [
    {
     "data": {
      "text/plain": [
       "([1 2 3] [1 2 3])"
      ]
     },
     "execution_count": 103,
     "metadata": {},
     "output_type": "execute_result"
    }
   ],
   "source": [
    "(list [1 2 3] [1 2 3])"
   ]
  },
  {
   "cell_type": "code",
   "execution_count": 112,
   "id": "initial-xerox",
   "metadata": {},
   "outputs": [
    {
     "data": {
      "text/plain": [
       "#'user/enumerate"
      ]
     },
     "execution_count": 112,
     "metadata": {},
     "output_type": "execute_result"
    }
   ],
   "source": [
    "(defn enumerate [coll]\n",
    "    (map vector (range (count coll)) coll))"
   ]
  },
  {
   "cell_type": "code",
   "execution_count": 113,
   "id": "indie-dispatch",
   "metadata": {},
   "outputs": [
    {
     "data": {
      "text/plain": [
       "([0 4] [1 5] [2 6])"
      ]
     },
     "execution_count": 113,
     "metadata": {},
     "output_type": "execute_result"
    }
   ],
   "source": [
    "(enumerate [4 5 6])"
   ]
  },
  {
   "cell_type": "code",
   "execution_count": 116,
   "id": "natural-december",
   "metadata": {},
   "outputs": [
    {
     "data": {
      "text/plain": [
       "true"
      ]
     },
     "execution_count": 116,
     "metadata": {},
     "output_type": "execute_result"
    }
   ],
   "source": [
    "(counted? (range 10))"
   ]
  },
  {
   "cell_type": "code",
   "execution_count": null,
   "id": "freelance-constant",
   "metadata": {},
   "outputs": [],
   "source": []
  }
 ],
 "metadata": {
  "kernelspec": {
   "display_name": "Clojure (clojupyter-0.3.2)",
   "language": "clojure",
   "name": "clojupyter-0.3.2"
  },
  "language_info": {
   "file_extension": ".clj",
   "mimetype": "text/x-clojure",
   "name": "clojure",
   "version": "1.10.1"
  },
  "toc": {
   "base_numbering": 1,
   "nav_menu": {},
   "number_sections": true,
   "sideBar": true,
   "skip_h1_title": false,
   "title_cell": "Table of Contents",
   "title_sidebar": "Contents",
   "toc_cell": false,
   "toc_position": {},
   "toc_section_display": true,
   "toc_window_display": false
  },
  "varInspector": {
   "cols": {
    "lenName": 16,
    "lenType": 16,
    "lenVar": 40
   },
   "kernels_config": {
    "python": {
     "delete_cmd_postfix": "",
     "delete_cmd_prefix": "del ",
     "library": "var_list.py",
     "varRefreshCmd": "print(var_dic_list())"
    },
    "r": {
     "delete_cmd_postfix": ") ",
     "delete_cmd_prefix": "rm(",
     "library": "var_list.r",
     "varRefreshCmd": "cat(var_dic_list()) "
    }
   },
   "types_to_exclude": [
    "module",
    "function",
    "builtin_function_or_method",
    "instance",
    "_Feature"
   ],
   "window_display": false
  }
 },
 "nbformat": 4,
 "nbformat_minor": 5
}
