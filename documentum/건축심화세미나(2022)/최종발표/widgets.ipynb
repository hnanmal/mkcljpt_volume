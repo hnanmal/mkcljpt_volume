{
 "cells": [
  {
   "cell_type": "code",
   "execution_count": 1,
   "id": "worth-fight",
   "metadata": {
    "scrolled": true
   },
   "outputs": [],
   "source": [
    "# pip install ipywidgets"
   ]
  },
  {
   "cell_type": "code",
   "execution_count": 2,
   "id": "indirect-tampa",
   "metadata": {},
   "outputs": [],
   "source": [
    "import ipywidgets as widgets"
   ]
  },
  {
   "cell_type": "code",
   "execution_count": 3,
   "id": "proud-active",
   "metadata": {},
   "outputs": [],
   "source": [
    "input_fy = 344.738 ## 50 ksi\n",
    "input_fu = 448.159 ## 65 ksi\n",
    "input_E = 199900 ## 29000\n",
    "\n",
    "# input_DL = 6.567  ## 휨 검토때\n",
    "# input_LL = 10.945\n",
    "# input_length = 10670\n",
    "\n",
    "input_DL = 622.751 ##140 kips ## 압축 검토때\n",
    "input_LL = 1868.253 ## 420 kips\n",
    "\n",
    "input_Pu = 1779 ## kN (400 kip)\n",
    "input_Mux = 3380.954 ## kN*m\n",
    "input_Muy = 1080.465 ## kN*m\n",
    "input_length = 4267 ## 14 ft\n",
    "\n",
    "    ####### 휨 입력부 #######\n",
    "input_cb_mode = \"Cb고려\"\n",
    "input_table_mode = \"continuous\"\n",
    "input_brace_idx = 2\n",
    "\n",
    "    ####### 압축 입력부 #######\n",
    "input_Comp_mode = \"recommended\" ### 압축 유효길이 팩터 테이블 산정 모드\n",
    "input_cond = \"d\"  ### 압축 유효길이 팩터 테이블 상 지점 조건\n",
    "input_effLength = [4267] ### 압축 유효길이\n",
    "\n",
    "    ####### 인장 입력부 #######\n",
    "input_dia_bolt=20\n",
    "input_length_bolt=228\n",
    "input_n_bolt=4\n",
    "input_gap_bolt=2"
   ]
  },
  {
   "cell_type": "code",
   "execution_count": 26,
   "id": "antique-lawyer",
   "metadata": {
    "scrolled": true
   },
   "outputs": [
    {
     "data": {
      "application/vnd.jupyter.widget-view+json": {
       "model_id": "a2e5f921bf4c464fbf694b2baa0e2b76",
       "version_major": 2,
       "version_minor": 0
      },
      "text/plain": [
       "Tab(children=(VBox(children=(HBox(children=(Label(value='Input_fy:', layout=Layout(width='18%')), FloatText(va…"
      ]
     },
     "metadata": {},
     "output_type": "display_data"
    }
   ],
   "source": [
    "    ###### Material Input ######\n",
    "widRatio = '18%'\n",
    "    \n",
    "label_input_fy = widgets.Label('Input_fy:',\n",
    "layout =  widgets.Layout(width = widRatio))\n",
    "value_input_fy = widgets.FloatText(value=344.738, continuous_update=False)\n",
    "container_fy = widgets.HBox(children=[label_input_fy ,value_input_fy])\n",
    "\n",
    "label_input_fu = widgets.Label('Input_fu:',\n",
    "layout =  widgets.Layout(width = widRatio))\n",
    "value_input_fu = widgets.FloatText(value=448.159, continuous_update=False)\n",
    "container_fu = widgets.HBox(children=[label_input_fu ,value_input_fu])\n",
    "\n",
    "label_input_E = widgets.Label('Input_E:',\n",
    "layout =  widgets.Layout(width = widRatio))\n",
    "value_input_E = widgets.FloatText(value=19990, continuous_update=False)\n",
    "container_E = widgets.HBox(children=[label_input_E ,value_input_E])\n",
    "\n",
    "iniMaterial_box = widgets.VBox(children=[container_fy,container_fu,container_E])\n",
    "\n",
    "\n",
    "    ###### LoadLength input ######\n",
    "\n",
    "label_Unit_mm = widgets.Label(' mm',layout =  widgets.Layout(width = widRatio))\n",
    "label_Unit_KN = widgets.Label(' KN',layout =  widgets.Layout(width = widRatio))\n",
    "label_Unit_KNm = widgets.Label(' KN*m',layout =  widgets.Layout(width = widRatio))\n",
    "\n",
    "label_input_Length = widgets.Label('Input_Length:',layout =  widgets.Layout(width = widRatio))\n",
    "value_input_Length = widgets.FloatText(value=4267, continuous_update=False)\n",
    "container_Length = widgets.HBox(children=[label_input_Length ,value_input_Length, label_Unit_mm])\n",
    "\n",
    "space_box = widgets.Box(layout=widgets.Layout(height ='25px', width='80%'))\n",
    "\n",
    "label_input_DL = widgets.Label('Input_DL:',layout =  widgets.Layout(width = widRatio))\n",
    "value_input_DL = widgets.FloatText(value=622.751, continuous_update=False)\n",
    "container_DL = widgets.HBox(children=[label_input_DL ,value_input_DL, label_Unit_KN])\n",
    "\n",
    "label_input_LL = widgets.Label('Input_LL:',layout =  widgets.Layout(width = widRatio))\n",
    "value_input_LL = widgets.FloatText(value=1868.253, continuous_update=False)\n",
    "container_LL = widgets.HBox(children=[label_input_LL ,value_input_LL, label_Unit_KN])\n",
    "\n",
    "label_input_Pu = widgets.Label('Input_Pu:',layout =  widgets.Layout(width = widRatio))\n",
    "value_input_Pu = widgets.FloatText(value=1779, continuous_update=False)\n",
    "container_Pu = widgets.HBox(children=[label_input_Pu ,value_input_Pu, label_Unit_KN])\n",
    "\n",
    "label_input_Mux = widgets.Label('Input_Mux:',layout =  widgets.Layout(width = widRatio))\n",
    "value_input_Mux = widgets.FloatText(value=338.954, continuous_update=False)\n",
    "container_Mux = widgets.HBox(children=[label_input_Mux ,value_input_Mux, label_Unit_KNm])\n",
    "\n",
    "label_input_Muy = widgets.Label('Input_Muy:',layout =  widgets.Layout(width = widRatio))\n",
    "value_input_Muy = widgets.FloatText(value=108.465, continuous_update=False)\n",
    "container_Muy = widgets.HBox(children=[label_input_Muy ,value_input_Muy, label_Unit_KNm])\n",
    "\n",
    "iniLoadLength_box = widgets.VBox(children=[container_Length,space_box,container_DL,container_LL,container_Pu,container_Mux,container_Muy])\n",
    "\n",
    "    ####### 휨 입력부 #######\n",
    "\n",
    "inputvalue_cb_mode = widgets.Dropdown(options=[\"Cb미고려\", \"Cb고려\"], value=\"Cb고려\", description='input_cb_mode', disabled=False)\n",
    "\n",
    "def inputvalue_table_mode_brace_idx():\n",
    "        inputvalue_table_mode = widgets.Dropdown(options=[\"1p\", \"2p\", \"3p\", \"continuous\"], value=\"continuous\", description='input_table_mode', continuous_update=True)\n",
    "        inputvalue_brace_idx = widgets.Dropdown(options=[\"-\"], value=\"-\", description='input_brace_idx', continuous_update=True)\n",
    "\n",
    "        def change_table_mode(inputvalue_table_mode_value: str, inputvalue_brace_idx_value: str) -> None:\n",
    "\n",
    "                if inputvalue_table_mode.value == \"1p\":\n",
    "                    inputvalue_brace_idx.options = [0,1]\n",
    "                elif inputvalue_table_mode.value == \"2p\":\n",
    "                    inputvalue_brace_idx.options = [0,1,2]\n",
    "                elif inputvalue_table_mode.value == \"3p\":\n",
    "                    inputvalue_brace_idx.options = [0,1,2,3]\n",
    "                elif inputvalue_table_mode.value == \"continuous\":\n",
    "                    inputvalue_brace_idx.options = [0,1,2,3,4,5]\n",
    "\n",
    "        widgets.interactive(change_table_mode, inputvalue_table_mode_value=inputvalue_table_mode, inputvalue_brace_idx_value=inputvalue_brace_idx)\n",
    "        return [inputvalue_table_mode, inputvalue_brace_idx]\n",
    "\n",
    "inputvalue_table_mode_brace_idx()\n",
    "inputvalue_table_mode = inputvalue_table_mode_brace_idx()[0]\n",
    "inputvalue_brace_idx = inputvalue_table_mode_brace_idx()[1]\n",
    "\n",
    "iniFlexure_box = widgets.VBox(children=[inputvalue_cb_mode, inputvalue_table_mode, inputvalue_brace_idx])\n",
    "\n",
    "#########################################################################아래로 작성중#############################################\n",
    "\n",
    "    ####### 압축 입력부 #######\n",
    "    \n",
    "\n",
    "def inputvalue_setCompressureBase():\n",
    "        inputvalue_SubBase_Comp_mode = widgets.Dropdown(options=[\"theoretical\", \"recommanded\"], value=\"recommanded\", description='input_SubBase_Comp', disabled=False)\n",
    "        inputvalue_factorK = widgets.Dropdown(options=['a', 'b', 'c', 'd', 'e', 'f'], value=\"a\", description='factorK', continuous_update=True)\n",
    "        ouputvalue_factorK = label    \n",
    "        \n",
    "        def change_factorK_mode(inputvalue_SubBase_Comp_mode: str, inputvalue_factorK: str) -> None:\n",
    "                _factorTable = {\n",
    "                    \"a\": (0.5, 0.65),\n",
    "                    \"b\": (0.7, 0.80),\n",
    "                    \"c\": (1.0, 1.2),\n",
    "                    \"d\": (1.0, 1.0),\n",
    "                    \"e\": (2.0, 2.1),\n",
    "                    \"f\": (2.0, 2.0),\n",
    "                }\n",
    "                if inputvalue_SubBase_Comp_mode.value == \"theoretical\":\n",
    "                    inputvalue_brace_idx.options = ['a', 'b', 'c', 'd', 'e', 'f']\n",
    "                elif inputvalue_table_mode.value == \"2p\":\n",
    "                    inputvalue_brace_idx.options = [0,1,2]\n",
    "                elif inputvalue_table_mode.value == \"3p\":\n",
    "                    inputvalue_brace_idx.options = [0,1,2,3]\n",
    "                elif inputvalue_table_mode.value == \"continuous\":\n",
    "                    inputvalue_brace_idx.options = [0,1,2,3,4,5]\n",
    "\n",
    "        widgets.interactive(change_table_mode, inputvalue_table_mode_value=inputvalue_table_mode, inputvalue_brace_idx_value=inputvalue_brace_idx)\n",
    "        return [inputvalue_table_mode, inputvalue_brace_idx]\n",
    "\n",
    "inputvalue_table_mode_brace_idx()\n",
    "inputvalue_table_mode = inputvalue_table_mode_brace_idx()[0]\n",
    "inputvalue_brace_idx = inputvalue_table_mode_brace_idx()[1]\n",
    "\n",
    "\n",
    "iniFlexure_box = widgets.VBox(children=[inputvalue_cb_mode, inputvalue_table_mode, inputvalue_brace_idx])\n",
    "\n",
    "\n",
    "\n",
    "input_Comp_mode = \"recommended\" ### 압축 유효길이 팩터 테이블 산정 모드\n",
    "input_cond = \"d\"  ### 압축 유효길이 팩터 테이블 상 지점 조건\n",
    "input_effLength = [4267] ### 압축 유효길이\n",
    "\n",
    "#########################################################################위로 작성중#############################################\n",
    "\n",
    "#     ####### 인장 입력부 #######\n",
    "# input_dia_bolt=20\n",
    "# input_length_bolt=228\n",
    "# input_n_bolt=4\n",
    "# input_gap_bolt=2\n",
    "\n",
    "\n",
    "\n",
    "\n",
    "tab_InputBox = widgets.Tab()\n",
    "tab_InputBox.children = [iniMaterial_box, iniLoadLength_box, iniFlexure_box]\n",
    "tab_InputBox.titles = [\"Material Input\", \"Load & Length_Input\", \"Flexure_Input\"]\n",
    "# tab_InputBox.titles = [\"a\", \"b\", \"c\"]\n",
    "tab_InputBox\n"
   ]
  },
  {
   "cell_type": "code",
   "execution_count": 5,
   "id": "optical-kingdom",
   "metadata": {},
   "outputs": [
    {
     "data": {
      "application/vnd.jupyter.widget-view+json": {
       "model_id": "1ff2a648090943ae933e2d2b94428412",
       "version_major": 2,
       "version_minor": 0
      },
      "text/plain": [
       "VBox(children=(Checkbox(value=False, description='Considering unbraced Length X and Y', layout=Layout(width='1…"
      ]
     },
     "metadata": {},
     "output_type": "display_data"
    }
   ],
   "source": [
    "\n",
    "def initial_unbracedLength_condition_X(): \n",
    "\n",
    "    label_input_unbracedLength_x = widgets.Label('unbracedLength_x',layout =  widgets.Layout(width = '18%'))\n",
    "    value_input_unbracedLength_x = widgets.FloatText(value=4267, continuous_update=False)\n",
    "    container_unbracedLength_x = widgets.HBox(children=[label_input_unbracedLength_x,value_input_unbracedLength_x])\n",
    "\n",
    "    iniunbracedLength_box = widgets.HBox(children=[label_input_unbracedLength_x,value_input_unbracedLength_x])\n",
    "    return iniunbracedLength_box\n",
    "\n",
    "def initial_unbracedLength_condition_Y(): \n",
    "   \n",
    "    label_input_unbracedLength_y = widgets.Label('unbracedLength_y',layout =  widgets.Layout(width = '18%'))\n",
    "    value_input_unbracedLength_y = widgets.FloatText(value=4267, continuous_update=False)\n",
    "    container_unbracedLength_y = widgets.HBox(children=[label_input_unbracedLength_y,value_input_unbracedLength_y])\n",
    "\n",
    "    iniunbracedLength_box = widgets.HBox(children=[label_input_unbracedLength_y,value_input_unbracedLength_y])\n",
    "    return iniunbracedLength_box\n",
    "\n",
    "init =  widgets.VBox(children = [initial_unbracedLength_condition_X(), initial_unbracedLength_condition_Y()])\n",
    "\n",
    "show_initial = widgets.Checkbox(description='Considering unbraced Length X and Y',layout =  widgets.Layout(width = '100%'))\n",
    "\n",
    "def toggle_initial(change):\n",
    "    \n",
    "    if change['new']:\n",
    "        init.children = [initial_unbracedLength_condition_X(), initial_unbracedLength_condition_Y()]\n",
    "    else:\n",
    "        init.children = [initial_unbracedLength_condition_X()]\n",
    "        \n",
    "show_initial.observe(toggle_initial, 'value')\n",
    "toggle_initial({'new': show_initial.value})\n",
    "init_box = widgets.VBox([show_initial, init])\n",
    "\n",
    "init_box"
   ]
  },
  {
   "cell_type": "code",
   "execution_count": 6,
   "id": "joint-arrow",
   "metadata": {},
   "outputs": [
    {
     "name": "stdout",
     "output_type": "stream",
     "text": [
      "continuous\n"
     ]
    }
   ],
   "source": [
    "print(inputvalue_table_mode.value)"
   ]
  },
  {
   "cell_type": "code",
   "execution_count": 7,
   "id": "tough-casting",
   "metadata": {},
   "outputs": [
    {
     "data": {
      "application/vnd.jupyter.widget-view+json": {
       "model_id": "2ccd7a27983e41d8b415488f2ecb5461",
       "version_major": 2,
       "version_minor": 0
      },
      "text/plain": [
       "Button(description='Get Brace idx', icon='check', style=ButtonStyle(), tooltip='Get Brace idx')"
      ]
     },
     "metadata": {},
     "output_type": "display_data"
    }
   ],
   "source": [
    "button_brace_idx = widgets.Button(description='Get Brace idx',disabled=False,button_style='',tooltip='Get Brace idx',icon='check')\n",
    "\n",
    "def button_out_brace_idx(clicked_button: widgets.Button) -> None:\n",
    "        print(\"AA\")\n",
    "button_brace_idx.on_click(button_out_brace_idx)\n",
    "button_brace_idx"
   ]
  },
  {
   "cell_type": "code",
   "execution_count": 8,
   "id": "vietnamese-punishment",
   "metadata": {
    "scrolled": false
   },
   "outputs": [
    {
     "data": {
      "application/vnd.jupyter.widget-view+json": {
       "model_id": "f7f4d0643799442aa1047cd86927ba19",
       "version_major": 2,
       "version_minor": 0
      },
      "text/plain": [
       "Dropdown(description='input_table_mode', index=3, options=('1p', '2p', '3p', 'continuous'), value='continuous'…"
      ]
     },
     "metadata": {},
     "output_type": "display_data"
    }
   ],
   "source": [
    "\n",
    "inputvalue_cb_mode = widgets.Dropdown(options=[\"Cb미고려\", \"Cb고려\"], value=\"Cb고려\", description='input_cb_mode', disabled=False)\n",
    "inputvalue_cb_mode\n",
    "inputvalue_table_mode = widgets.Dropdown(options=[\"1p\", \"2p\", \"3p\", \"continuous\"], value=\"continuous\", description='input_table_mode', continuous_update=True)\n",
    "inputvalue_cb_mode\n",
    "inputvalue_table_mode"
   ]
  },
  {
   "cell_type": "code",
   "execution_count": 9,
   "id": "statewide-handy",
   "metadata": {},
   "outputs": [
    {
     "data": {
      "text/plain": [
       "'continuous'"
      ]
     },
     "execution_count": 9,
     "metadata": {},
     "output_type": "execute_result"
    }
   ],
   "source": [
    "inputvalue_table_mode.value"
   ]
  },
  {
   "cell_type": "code",
   "execution_count": 29,
   "id": "convenient-situation",
   "metadata": {},
   "outputs": [],
   "source": [
    "\n",
    "inputvalue_cb_mode = widgets.Dropdown(options=[\"Cb미고려\", \"Cb고려\"], value=\"Cb고려\", description='input_cb_mode', disabled=False)\n",
    "inputvalue_cb_mode\n",
    "inputvalue_table_mode = widgets.Dropdown(options=[\"1p\", \"2p\", \"3p\", \"continuous\"], value=\"continuous\", description='input_table_mode', continuous_update=True)\n",
    "inputvalue_cb_mode\n",
    "inputvalue_table_mode\n",
    "\n",
    "if inputvalue_table_mode == \"1p\":\n",
    "        inputvalue_brace_idx = widgets.SelectMultiple(options=[0, 1], value=0, description='input_brace_idx', continuous_update=False)\n",
    "elif inputvalue_table_mode == \"2p\":\n",
    "        inputvalue_brace_idx = widgets.SelectMultiple(options=[0, 1, 2], value=0, description='input_brace_idx', continuous_update=False)\n",
    "elif inputvalue_table_mode == \"3p\":\n",
    "        inputvalue_brace_idx = widgets.SelectMultiple(options=[0, 1, 2, 3], value=0, description='input_brace_idx', continuous_update=False)\n",
    "elif inputvalue_table_mode == \"continuous\":\n",
    "        inputvalue_brace_idx = widgets.SelectMultiple(options=[0, 1, 2, 3, 4, 5], value=0, description='input_brace_idx', continuous_update=False)\n",
    "\n",
    "    \n",
    "inputvalue_Comp_mode = widgets.SelectMultiple(options=[\"theoretical\", \"recommended\"], value=[\"recommended\"], description='input_Comp_mode', continuous_update=False)\n",
    "inputvalue_cond = widgets.SelectMultiple(options=[\"a\", \"b\", \"c\", \"d\", \"e\", \"f\"], value=[\"d\"], description='input_cond', continuous_update=False)\n",
    "inputvalue_effLength = widgets.FloatText(value=4267, description='input_effLength', continuous_update=False)\n",
    "inputvalue_dia_bolt = widgets.FloatText(value=20, description='input_dia_bolt', continuous_update=False)\n",
    "inputvalue_length_bolt = widgets.FloatText(value=20, description='input_length_bolt', continuous_update=False)\n",
    "inputvalue_n_bolt = widgets.FloatText(value=4, description='input_n_bolt', continuous_update=False)\n",
    "inputvalue_gap_bolt = widgets.FloatText(value=20, description='input_gap_bolt', continuous_update=False)\n",
    "\n",
    "\n",
    "\n",
    "\n",
    "# input_fy = inputvalue_fy.value\n",
    "# input_fu = inputvalue_fu.value\n",
    "# input_E = inputvalue_E.value\n",
    "# input_DL = inputvalue_DL.value\n",
    "# input_LL = inputvalue_LL.value\n",
    "# input_Pu = inputvalue_Pu.value\n",
    "# input_Mux = inputvalue_Mux.value\n",
    "# input_Muy = inputvalue_Muy.value\n",
    "# input_length = inputvalue_length.value\n",
    "# input_cb_modeinputvalue_cb_mode.value\n",
    "# input_table_mode = inputvalue_table_mode.value\n",
    "# input_brace_idx = inputvalue_brace_idx.value\n",
    "# input_Comp_mode = inputvalue_Comp_mode.value\n",
    "# input_cond = inputvalue_cond.value\n",
    "# input_effLength = inputvalue_effLength.value\n",
    "# input_dia_bolt = inputvalue_dia_bolt.value\n",
    "# input_length_bolt = inputvalue_length_bolt.value\n",
    "# input_n_bolt = inputvalue_n_bolt.value\n",
    "# input_gap_bolt = inputvalue_gap_bolt.value"
   ]
  },
  {
   "cell_type": "code",
   "execution_count": 30,
   "id": "exterior-singapore",
   "metadata": {},
   "outputs": [
    {
     "data": {
      "text/plain": [
       "344.738"
      ]
     },
     "execution_count": 30,
     "metadata": {},
     "output_type": "execute_result"
    }
   ],
   "source": [
    "input_fy"
   ]
  },
  {
   "cell_type": "code",
   "execution_count": 31,
   "id": "proud-carter",
   "metadata": {},
   "outputs": [
    {
     "data": {
      "application/vnd.jupyter.widget-view+json": {
       "model_id": "3258493e62b74493bf8a0372168e3e49",
       "version_major": 2,
       "version_minor": 0
      },
      "text/plain": [
       "Tab(children=(VBox(children=(Checkbox(value=False, description='Show initial conditions'), VBox(children=(HTML…"
      ]
     },
     "metadata": {},
     "output_type": "display_data"
    }
   ],
   "source": [
    "import ipywidgets as widgets\n",
    "\n",
    "def initial_condition(): \n",
    "    label_iniCond = widgets.HTML(\"\"\"The Initial elevation file dictates the \n",
    "         dry/wet zones of the bathymetry. The initial U and V velocity files specifies \n",
    "        the velocities in the x and y directions. They must be uploaded in \n",
    "        the Jupyter Notebook Home folder before running the simulation.\"\"\",\n",
    "        layout = widgets.Layout(height = '45px', width = '90%',\n",
    "                    size = '20'))\n",
    "\n",
    "    space_box = widgets.Box(layout=widgets.Layout(height ='25px', width='90%')) \n",
    "    # this ^ box is created to have space among widgets \n",
    "\n",
    "    # initial elevation widget container (label and textbox)\n",
    "    label_iniElev = widgets.Label('Initial Elevation Text File:',\n",
    "    layout =  widgets.Layout(width = '18%'))\n",
    "    iniElev_text = widgets.Text(layout=widgets.Layout(width = \"50%\",height = '85px'))\n",
    "    container_iniElev = widgets.HBox(children=[label_iniElev,iniElev_text])\n",
    "\n",
    "    # initial u vel widget container (label and textbox)\n",
    "    label_Uvel = widgets.Label('Initial U Velocity Text File:', \n",
    "    layout = widgets.Layout(width = '18%'))\n",
    "    Uvel_text = widgets.Text(layout = iniElev_text.layout)\n",
    "    container_Uvel = widgets.HBox(children=[label_Uvel,Uvel_text])\n",
    "\n",
    "    # initial v vel widget container (label and textbox)\n",
    "    label_Vvel = widgets.Label('Initial V Velocity Text File:', \n",
    "    layout = widgets.Layout(width = '18%'))\n",
    "    Vvel_text = widgets.Text(layout = iniElev_text.layout)\n",
    "    container_Vvel = widgets.HBox(children=[label_Vvel,Vvel_text])\n",
    "\n",
    "    iniCond_box = widgets.VBox(children=[label_iniCond,space_box,container_iniElev,\n",
    "                                container_Uvel,container_Vvel])\n",
    "    return iniCond_box\n",
    "\n",
    "\n",
    "init = initial_condition()\n",
    "show_initial = widgets.Checkbox(description='Show initial conditions')\n",
    "\n",
    "def toggle_initial(change):\n",
    "    if change['new']:\n",
    "        #show\n",
    "        init.layout.display=''\n",
    "    else:\n",
    "        # hide\n",
    "        init.layout.display='none'\n",
    "\n",
    "show_initial.observe(toggle_initial, 'value')\n",
    "toggle_initial({'new': show_initial.value})\n",
    "init_box = widgets.VBox([show_initial, init])\n",
    "widgets.Tab([init_box])"
   ]
  },
  {
   "cell_type": "code",
   "execution_count": 32,
   "id": "raised-visibility",
   "metadata": {},
   "outputs": [
    {
     "data": {
      "application/vnd.jupyter.widget-view+json": {
       "model_id": "d2c60bb6f124409eb44787ae53939d22",
       "version_major": 2,
       "version_minor": 0
      },
      "text/plain": [
       "Checkbox(value=False, description='Remove 3')"
      ]
     },
     "metadata": {},
     "output_type": "display_data"
    },
    {
     "data": {
      "application/vnd.jupyter.widget-view+json": {
       "model_id": "aa7cda916b1e4d4c9b37fb4fbd06462d",
       "version_major": 2,
       "version_minor": 0
      },
      "text/plain": [
       "VBox(children=(Checkbox(value=False, description='1'), Checkbox(value=False, description='2'), Checkbox(value=…"
      ]
     },
     "metadata": {},
     "output_type": "display_data"
    }
   ],
   "source": [
    "from ipywidgets import Checkbox, VBox\n",
    "\n",
    "cb1 = Checkbox(description='1')\n",
    "cb2 = Checkbox(description='2')\n",
    "cb3 = Checkbox(description='3')\n",
    "\n",
    "vb = VBox(children = [cb1, cb2, cb3])\n",
    "top_toggle = Checkbox(description='Remove 3')\n",
    "\n",
    "def remove_3(button):\n",
    "    if button['new']:\n",
    "        vb.children = [cb1, cb2]\n",
    "    else:\n",
    "        vb.children = [cb1, cb2, cb3]\n",
    "\n",
    "top_toggle.observe(remove_3, names='value')\n",
    "display(top_toggle)\n",
    "display(vb)"
   ]
  },
  {
   "cell_type": "code",
   "execution_count": 33,
   "id": "afraid-masters",
   "metadata": {},
   "outputs": [
    {
     "data": {
      "application/vnd.jupyter.widget-view+json": {
       "model_id": "f94985b3bc664331b99cf59f7234405e",
       "version_major": 2,
       "version_minor": 0
      },
      "text/plain": [
       "Button(description='Button', style=ButtonStyle())"
      ]
     },
     "metadata": {},
     "output_type": "display_data"
    },
    {
     "data": {
      "application/vnd.jupyter.widget-view+json": {
       "model_id": "8e25bcc8fc7341fabd32fb77c4c969b8",
       "version_major": 2,
       "version_minor": 0
      },
      "text/plain": [
       "Output()"
      ]
     },
     "metadata": {},
     "output_type": "display_data"
    }
   ],
   "source": [
    "import functools\n",
    "import ipywidgets as widgets\n",
    "from IPython.display import display\n",
    "import random\n",
    "\n",
    "out = widgets.Output()\n",
    "\n",
    "\n",
    "def foo(b):\n",
    "    with out:\n",
    "        label = display('Initial text', display_id = True)\n",
    "\n",
    "        def on_button_click(b, label):\n",
    "            label.update('New number {}'.format(random.random()))\n",
    "\n",
    "        button = widgets.Button(description=\"New number\")\n",
    "        display(button)           \n",
    "        button.on_click(functools.partial(on_button_click, label=label))\n",
    "\n",
    "\n",
    "button = widgets.Button(description=\"Button\")\n",
    "button.on_click(foo)\n",
    "display(button)\n",
    "display(out)"
   ]
  },
  {
   "cell_type": "code",
   "execution_count": null,
   "id": "legal-patrol",
   "metadata": {},
   "outputs": [],
   "source": []
  }
 ],
 "metadata": {
  "kernelspec": {
   "display_name": "Python 3",
   "language": "python",
   "name": "python3"
  },
  "language_info": {
   "codemirror_mode": {
    "name": "ipython",
    "version": 3
   },
   "file_extension": ".py",
   "mimetype": "text/x-python",
   "name": "python",
   "nbconvert_exporter": "python",
   "pygments_lexer": "ipython3",
   "version": "3.8.8"
  },
  "toc": {
   "base_numbering": 1,
   "nav_menu": {},
   "number_sections": false,
   "sideBar": true,
   "skip_h1_title": false,
   "title_cell": "Table of Contents",
   "title_sidebar": "Contents",
   "toc_cell": false,
   "toc_position": {},
   "toc_section_display": true,
   "toc_window_display": false
  }
 },
 "nbformat": 4,
 "nbformat_minor": 5
}
