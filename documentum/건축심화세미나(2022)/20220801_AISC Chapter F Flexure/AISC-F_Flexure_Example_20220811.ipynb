{
 "cells": [
  {
   "cell_type": "code",
   "execution_count": 2,
   "id": "offensive-annual",
   "metadata": {},
   "outputs": [],
   "source": [
    "# !pip install matplotlib"
   ]
  },
  {
   "cell_type": "code",
   "execution_count": 1,
   "id": "arbitrary-wiring",
   "metadata": {},
   "outputs": [],
   "source": [
    "import csv\n",
    "from dataclasses import dataclass, field, asdict, astuple\n",
    "from typing import List\n",
    "import math\n",
    "import matplotlib.pyplot as plt"
   ]
  },
  {
   "cell_type": "code",
   "execution_count": 4,
   "id": "equivalent-better",
   "metadata": {},
   "outputs": [],
   "source": [
    "def importCSV(_path):\n",
    "    with open(_path,'r') as f:\n",
    "        reader  = csv.reader(f) # csv의 행별로 읽어옴\n",
    "\n",
    "        res = [x for x in reader]\n",
    "    return res"
   ]
  },
  {
   "cell_type": "code",
   "execution_count": 5,
   "id": "arctic-treatment",
   "metadata": {},
   "outputs": [],
   "source": [
    "def exportCSV(_filename, _datas):\n",
    "    f = open(_filename, 'w', newline='') # 자동줄바꿈 방지 header 이후 첫행 빈행 생성 방지\n",
    "    csv_writer = csv.writer(f)\n",
    "    \n",
    "    for x in _datas:\n",
    "        csv_writer.writerow(x)\n",
    "    f.close()"
   ]
  },
  {
   "attachments": {},
   "cell_type": "markdown",
   "id": "approximate-excuse",
   "metadata": {},
   "source": [
    "# AISC 360-16 Chapter F\n",
    "# Design of Members for Flexure"
   ]
  },
  {
   "cell_type": "code",
   "execution_count": null,
   "id": "cooperative-floor",
   "metadata": {},
   "outputs": [],
   "source": []
  }
 ],
 "metadata": {
  "kernelspec": {
   "display_name": "Python 3",
   "language": "python",
   "name": "python3"
  },
  "language_info": {
   "codemirror_mode": {
    "name": "ipython",
    "version": 3
   },
   "file_extension": ".py",
   "mimetype": "text/x-python",
   "name": "python",
   "nbconvert_exporter": "python",
   "pygments_lexer": "ipython3",
   "version": "3.8.8"
  },
  "toc": {
   "base_numbering": 1,
   "nav_menu": {},
   "number_sections": false,
   "sideBar": true,
   "skip_h1_title": false,
   "title_cell": "Table of Contents",
   "title_sidebar": "Contents",
   "toc_cell": false,
   "toc_position": {},
   "toc_section_display": true,
   "toc_window_display": false
  }
 },
 "nbformat": 4,
 "nbformat_minor": 5
}
