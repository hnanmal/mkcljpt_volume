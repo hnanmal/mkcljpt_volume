{
 "cells": [
  {
   "cell_type": "code",
   "execution_count": 4,
   "id": "fuzzy-combining",
   "metadata": {},
   "outputs": [],
   "source": [
    ";; (ns core\n",
    ";;     (:require [clojoure.edn :as edn]\n",
    ";;               [clojoure.java.io :as io]))"
   ]
  },
  {
   "cell_type": "code",
   "execution_count": 44,
   "id": "boring-balance",
   "metadata": {},
   "outputs": [
    {
     "data": {
      "text/plain": [
       "Copyright (c) 2014 Rory Kirchner\n",
       "\n",
       "Permission is hereby granted, free of charge, to any person obtaining\n",
       "a copy of this software and associated documentation files (the\n",
       "\"Software\"), to deal in the Software without restriction, including\n",
       "without limitation the rights to use, copy, modify, merge, publish,\n",
       "distribute, sublicense, and/or sell copies of the Software, and to\n",
       "permit persons to whom the Software is furnished to do so, subject to\n",
       "the following conditions:\n",
       "\n",
       "The above copyright notice and this permission notice shall be\n",
       "included in all copies or substantial portions of the Software.\n",
       "\n",
       "THE SOFTWARE IS PROVIDED \"AS IS\", WITHOUT WARRANTY OF ANY KIND,\n",
       "EXPRESS OR IMPLIED, INCLUDING BUT NOT LIMITED TO THE WARRANTIES OF\n",
       "MERCHANTABILITY, FITNESS FOR A PARTICULAR PURPOSE AND\n",
       "NONINFRINGEMENT. IN NO EVENT SHALL THE AUTHORS OR COPYRIGHT HOLDERS BE\n",
       "LIABLE FOR ANY CLAIM, DAMAGES OR OTHER LIABILITY, WHETHER IN AN ACTION\n",
       "OF CONTRACT, TORT OR OTHERWISE, ARISING FROM, OUT OF OR IN CONNECTION\n",
       "WITH THE SOFTWARE OR THE USE OR OTHER DEALINGS IN THE SOFTWARE.\n"
      ]
     },
     "execution_count": 44,
     "metadata": {},
     "output_type": "execute_result"
    }
   ],
   "source": [
    "clojupyter/*license*"
   ]
  },
  {
   "cell_type": "code",
   "execution_count": 5,
   "id": "traditional-publication",
   "metadata": {},
   "outputs": [
    {
     "data": {
      "text/plain": [
       "#'user/natural-numbers"
      ]
     },
     "execution_count": 5,
     "metadata": {},
     "output_type": "execute_result"
    }
   ],
   "source": [
    "(defn natural-numbers [n]\n",
    "    (lazy-seq(cons n (natural-numbers (inc n)))))"
   ]
  },
  {
   "cell_type": "code",
   "execution_count": 6,
   "id": "intellectual-death",
   "metadata": {},
   "outputs": [
    {
     "name": "stderr",
     "output_type": "stream",
     "text": [
      "*Interrupted*\n"
     ]
    },
    {
     "ename": "interrupted",
     "evalue": "",
     "output_type": "error",
     "traceback": [
      "(no stacktrace)"
     ]
    }
   ],
   "source": [
    "(natural-numbers 0)"
   ]
  },
  {
   "cell_type": "code",
   "execution_count": 8,
   "id": "considerable-enforcement",
   "metadata": {},
   "outputs": [
    {
     "data": {
      "text/plain": [
       "(0 1 2 3 4 5 6 7 8 9)"
      ]
     },
     "execution_count": 8,
     "metadata": {},
     "output_type": "execute_result"
    }
   ],
   "source": [
    "(->> (natural-numbers 0)\n",
    "    (take 10))"
   ]
  },
  {
   "cell_type": "code",
   "execution_count": 9,
   "id": "solid-naples",
   "metadata": {},
   "outputs": [
    {
     "name": "stderr",
     "output_type": "stream",
     "text": [
      "*Interrupted*\n"
     ]
    },
    {
     "ename": "interrupted",
     "evalue": "",
     "output_type": "error",
     "traceback": [
      "(no stacktrace)"
     ]
    }
   ],
   "source": [
    "(iterate inc 0)"
   ]
  },
  {
   "cell_type": "code",
   "execution_count": 11,
   "id": "tamil-absolute",
   "metadata": {},
   "outputs": [
    {
     "name": "stderr",
     "output_type": "stream",
     "text": [
      "Error printing return value (ClassCastException) at clojure.lang.Numbers/isPos (Numbers.java:121).\n",
      "clojure.lang.Iterate cannot be cast to java.lang.Number\n"
     ]
    },
    {
     "ename": "class clojure.lang.ExceptionInfo",
     "evalue": "",
     "output_type": "error",
     "traceback": [
      "        Numbers.java:   121 clojure.lang.Numbers/isPos",
      "            core.clj:  2884 clojure.core$take$fn__5909/invoke",
      "        LazySeq.java:    42 clojure.lang.LazySeq/sval",
      "        LazySeq.java:    51 clojure.lang.LazySeq/seq",
      "             RT.java:   535 clojure.lang.RT/seq ",
      "            core.clj:   137 clojure.core$seq__5402/invokeStatic",
      "      core_print.clj:    53 clojure.core$print_sequential/invokeStatic",
      "      core_print.clj:   174 clojure.core$fn__7310/invokeStatic",
      "        MultiFn.java:   234 clojure.lang.MultiFn/invoke",
      "            core.clj:  3674 clojure.core$pr_on/invokeStatic",
      "            core.clj:  3677 clojure.core$pr/invokeStatic",
      "            AFn.java:   154 clojure.lang.AFn/applyToHelper",
      "         RestFn.java:   132 clojure.lang.RestFn/applyTo",
      "            core.clj:   665 clojure.core$apply/invokeStatic",
      "            core.clj:  4736 clojure.core$pr_str/invokeStatic",
      "         RestFn.java:   408 clojure.lang.RestFn/invoke",
      "mime_convertible.clj:    12 clojupyter.misc.mime_convertible$fn__25587/invokeStatic",
      "mime_convertible.clj:     9 clojupyter.misc.mime_convertible$fn__25587/invoke",
      "mime_convertible.clj:     5 clojupyter.protocol.mime_convertible$fn__21275$G__21270__21280/invoke",
      "nrepl_middleware.clj:    20 clojupyter.kernel.nrepl_middleware$mime_values$fn$reify__25598/send",
      "            main.clj:   442 clojure.main$repl$read_eval_print__9086/invoke",
      "            main.clj:   458 clojure.main$repl$fn__9095/invoke",
      "            main.clj:   368 clojure.main$repl/doInvoke",
      "         RestFn.java:  1523 clojure.lang.RestFn/invoke",
      "            AFn.java:    22 clojure.lang.AFn/run",
      "            AFn.java:    22 clojure.lang.AFn/run",
      "         Thread.java:   748 java.lang.Thread/run"
     ]
    }
   ],
   "source": [
    "(-> (iterate inc 0)\n",
    "    (take 10))"
   ]
  },
  {
   "cell_type": "code",
   "execution_count": 14,
   "id": "compound-survival",
   "metadata": {},
   "outputs": [
    {
     "data": {
      "text/plain": [
       "nil"
      ]
     },
     "execution_count": 14,
     "metadata": {},
     "output_type": "execute_result"
    }
   ],
   "source": [
    "(require '[clojupyter.misc.display :as display])"
   ]
  },
  {
   "cell_type": "code",
   "execution_count": 15,
   "id": "initial-standard",
   "metadata": {},
   "outputs": [
    {
     "name": "stdout",
     "output_type": "stream",
     "text": [
      ">> should print some text\n"
     ]
    },
    {
     "data": {
      "text/html": [
       "<ul><li>a <i>emphatic</i> idea</li><li>a <b>bold</b> idea</li><li>an <span style=\"text-decoration: underline;\">important</span> idea</li></ul>"
      ]
     },
     "execution_count": 15,
     "metadata": {},
     "output_type": "execute_result"
    }
   ],
   "source": [
    "(println \">> should print some text\") ;; displaying html\n",
    "\n",
    "(display/hiccup-html\n",
    "     [:ul\n",
    "      [:li \"a \" [:i \"emphatic\"] \" idea\"]\n",
    "      [:li \"a \" [:b \"bold\"] \" idea\"]\n",
    "      [:li \"an \" [:span {:style \"text-decoration: underline;\"} \"important\"] \" idea\"]\n",
    "      ])"
   ]
  },
  {
   "cell_type": "code",
   "execution_count": 16,
   "id": "creative-execution",
   "metadata": {},
   "outputs": [
    {
     "name": "stderr",
     "output_type": "stream",
     "text": [
      "Syntax error compiling at (REPL:1:6).\n",
      "Unable to resolve symbol: scatter-plot in this context\n"
     ]
    },
    {
     "ename": "class clojure.lang.Compiler$CompilerException",
     "evalue": "",
     "output_type": "error",
     "traceback": [
      "  Util.java:   221 clojure.lang.Util/runtimeException",
      "   core.clj:  3214 clojure.core$eval/invokeStatic",
      "   core.clj:  3210 clojure.core$eval/invoke",
      "   main.clj:   437 clojure.main$repl$read_eval_print__9086$fn__9089/invoke",
      "   main.clj:   458 clojure.main$repl$fn__9095/invoke",
      "   main.clj:   368 clojure.main$repl/doInvoke",
      "RestFn.java:  1523 clojure.lang.RestFn/invoke",
      "   AFn.java:    22 clojure.lang.AFn/run",
      "   AFn.java:    22 clojure.lang.AFn/run",
      "Thread.java:   748 java.lang.Thread/run"
     ]
    }
   ],
   "source": [
    "(->> (scatter-plot (sample-normal 1000)\n",
    "                  (sample-normal 1000)\n",
    "                  :x-label \"x\" :y-label \"y\")\n",
    "    (.createBufferedImage 600 400))"
   ]
  },
  {
   "cell_type": "code",
   "execution_count": 34,
   "id": "desirable-convert",
   "metadata": {},
   "outputs": [
    {
     "data": {
      "text/plain": [
       "#'user/foo"
      ]
     },
     "execution_count": 34,
     "metadata": {},
     "output_type": "execute_result"
    }
   ],
   "source": [
    "(def foo (take 10 (iterate inc 0)))"
   ]
  },
  {
   "cell_type": "code",
   "execution_count": 31,
   "id": "convertible-correction",
   "metadata": {},
   "outputs": [
    {
     "data": {
      "text/plain": [
       "(6 6)"
      ]
     },
     "execution_count": 31,
     "metadata": {},
     "output_type": "execute_result"
    }
   ],
   "source": [
    "(letfn [(r [l a]\n",
    "          (if (empty? l)\n",
    "            a\n",
    "            (if (map? l)\n",
    "              (let [[key val] (first l)]\n",
    "                (r (dissoc l key) (+ a val)))\n",
    "              (r (rest l) (+ a (first l))))))]\n",
    "  (list (r {:a 1 :b 2 :c 3} 0)\n",
    "        (r [1 2 3] 0)))"
   ]
  },
  {
   "cell_type": "code",
   "execution_count": 35,
   "id": "transparent-nevada",
   "metadata": {},
   "outputs": [
    {
     "data": {
      "text/plain": [
       "(0 2 4 6 8)"
      ]
     },
     "execution_count": 35,
     "metadata": {},
     "output_type": "execute_result"
    }
   ],
   "source": [
    "(filter even? foo)"
   ]
  },
  {
   "cell_type": "code",
   "execution_count": 36,
   "id": "internal-trust",
   "metadata": {},
   "outputs": [
    {
     "data": {
      "text/plain": [
       "nil"
      ]
     },
     "execution_count": 36,
     "metadata": {},
     "output_type": "execute_result"
    }
   ],
   "source": [
    "(ns fmap-sample\n",
    "    (:require [clojure.algo.generic.functor :as functor]))"
   ]
  },
  {
   "cell_type": "code",
   "execution_count": 37,
   "id": "ordinary-saudi",
   "metadata": {},
   "outputs": [
    {
     "data": {
      "text/plain": [
       "{:a 2, :b 3, :c 4}"
      ]
     },
     "execution_count": 37,
     "metadata": {},
     "output_type": "execute_result"
    }
   ],
   "source": [
    "(functor/fmap inc {:a 1 :b 2 :c 3})"
   ]
  },
  {
   "cell_type": "code",
   "execution_count": 40,
   "id": "precise-depression",
   "metadata": {},
   "outputs": [
    {
     "name": "stderr",
     "output_type": "stream",
     "text": [
      "Syntax error compiling at (REPL:2:1).\n",
      "Unable to resolve symbol: update-vals in this context\n"
     ]
    },
    {
     "ename": "class clojure.lang.Compiler$CompilerException",
     "evalue": "",
     "output_type": "error",
     "traceback": [
      "  Util.java:   221 clojure.lang.Util/runtimeException",
      "   core.clj:  3214 clojure.core$eval/invokeStatic",
      "   core.clj:  3210 clojure.core$eval/invoke",
      "   main.clj:   437 clojure.main$repl$read_eval_print__9086$fn__9089/invoke",
      "   main.clj:   458 clojure.main$repl$fn__9095/invoke",
      "   main.clj:   368 clojure.main$repl/doInvoke",
      "RestFn.java:  1523 clojure.lang.RestFn/invoke",
      "   AFn.java:    22 clojure.lang.AFn/run",
      "   AFn.java:    22 clojure.lang.AFn/run",
      "Thread.java:   748 java.lang.Thread/run"
     ]
    }
   ],
   "source": [
    ";; (map inc {:a 1 :b 2 :c 3})\n",
    "(update-vals {:a 1 :b 2 :c 3} inc)"
   ]
  },
  {
   "cell_type": "code",
   "execution_count": null,
   "id": "dirty-puzzle",
   "metadata": {},
   "outputs": [],
   "source": []
  }
 ],
 "metadata": {
  "kernelspec": {
   "display_name": "Clojure (clojupyter-0.3.2)",
   "language": "clojure",
   "name": "clojupyter-0.3.2"
  },
  "language_info": {
   "file_extension": ".clj",
   "mimetype": "text/x-clojure",
   "name": "clojure",
   "version": "1.10.1"
  },
  "toc": {
   "base_numbering": 1,
   "nav_menu": {},
   "number_sections": false,
   "sideBar": true,
   "skip_h1_title": false,
   "title_cell": "Table of Contents",
   "title_sidebar": "Contents",
   "toc_cell": false,
   "toc_position": {},
   "toc_section_display": true,
   "toc_window_display": false
  }
 },
 "nbformat": 4,
 "nbformat_minor": 5
}
