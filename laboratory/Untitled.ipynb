{
 "cells": [
  {
   "cell_type": "code",
   "execution_count": 4,
   "id": "included-administration",
   "metadata": {},
   "outputs": [
    {
     "name": "stdout",
     "output_type": "stream",
     "text": [
      "\u001b[33mWARNING: The directory '/home/jovyan/.cache/pip' or its parent directory is not owned or is not writable by the current user. The cache has been disabled. Check the permissions and owner of that directory. If executing pip with sudo, you should use sudo's -H flag.\u001b[0m\u001b[33m\n",
      "\u001b[0mCollecting quick-clojure\n",
      "  Downloading quick-clojure-0.13.tar.gz (5.0 kB)\n",
      "  Preparing metadata (setup.py) ... \u001b[?25ldone\n",
      "\u001b[?25hCollecting nrepl-python-client\n",
      "  Downloading nrepl-python-client-0.0.3.tar.gz (6.5 kB)\n",
      "  Preparing metadata (setup.py) ... \u001b[?25ldone\n",
      "\u001b[?25hCollecting future\n",
      "  Downloading future-0.18.2.tar.gz (829 kB)\n",
      "\u001b[2K     \u001b[90m━━━━━━━━━━━━━━━━━━━━━━━━━━━━━━━━━━━━━━\u001b[0m \u001b[32m829.2/829.2 KB\u001b[0m \u001b[31m10.9 MB/s\u001b[0m eta \u001b[36m0:00:00\u001b[0ma \u001b[36m0:00:01\u001b[0m\n",
      "\u001b[?25h  Preparing metadata (setup.py) ... \u001b[?25ldone\n",
      "\u001b[?25hBuilding wheels for collected packages: quick-clojure, future, nrepl-python-client\n",
      "  Building wheel for quick-clojure (setup.py) ... \u001b[?25ldone\n",
      "\u001b[?25h  Created wheel for quick-clojure: filename=quick_clojure-0.13-py3-none-any.whl size=5986 sha256=871ddbc9e6a427acdff3fb57ab84a0efa7d5079f8e094764fcc701be26bd0dfd\n",
      "  Stored in directory: /tmp/pip-ephem-wheel-cache-0oxd5_os/wheels/2c/7d/85/af7302a8f6c0e2e9e73a7316f92ba58867934050391b854d41\n",
      "  Building wheel for future (setup.py) ... \u001b[?25ldone\n",
      "\u001b[?25h  Created wheel for future: filename=future-0.18.2-py3-none-any.whl size=491059 sha256=ee076079eec9105a899a5723c2bb4c67f6a8c09ebbef20305609b0e2aeef5311\n",
      "  Stored in directory: /tmp/pip-ephem-wheel-cache-0oxd5_os/wheels/8e/70/28/3d6ccd6e315f65f245da085482a2e1c7d14b90b30f239e2cf4\n",
      "  Building wheel for nrepl-python-client (setup.py) ... \u001b[?25ldone\n",
      "\u001b[?25h  Created wheel for nrepl-python-client: filename=nrepl_python_client-0.0.3-py3-none-any.whl size=5558 sha256=207b9755428f8888387726ecb41851938310d970105df6d6d2a6c61154ef1393\n",
      "  Stored in directory: /tmp/pip-ephem-wheel-cache-0oxd5_os/wheels/86/da/e2/7da778d424f2c177f7431f227e69fe0463ffccd88102faf4d1\n",
      "Successfully built quick-clojure future nrepl-python-client\n",
      "Installing collected packages: nrepl-python-client, future, quick-clojure\n",
      "Successfully installed future-0.18.2 nrepl-python-client-0.0.3 quick-clojure-0.13\n",
      "\u001b[33mWARNING: Running pip as the 'root' user can result in broken permissions and conflicting behaviour with the system package manager. It is recommended to use a virtual environment instead: https://pip.pypa.io/warnings/venv\u001b[0m\u001b[33m\n",
      "\u001b[0m\u001b[33mWARNING: You are using pip version 22.0.4; however, version 22.1.2 is available.\n",
      "You should consider upgrading via the '/opt/conda/bin/python -m pip install --upgrade pip' command.\u001b[0m\u001b[33m\n",
      "\u001b[0m"
     ]
    }
   ],
   "source": [
    "!pip install quick-clojure"
   ]
  },
  {
   "cell_type": "code",
   "execution_count": 8,
   "id": "strong-leather",
   "metadata": {},
   "outputs": [
    {
     "ename": "SyntaxError",
     "evalue": "invalid syntax (<ipython-input-8-95401093d223>, line 1)",
     "output_type": "error",
     "traceback": [
      "\u001b[0;36m  File \u001b[0;32m\"<ipython-input-8-95401093d223>\"\u001b[0;36m, line \u001b[0;32m1\u001b[0m\n\u001b[0;31m    (println \"Hello World!\")\u001b[0m\n\u001b[0m             ^\u001b[0m\n\u001b[0;31mSyntaxError\u001b[0m\u001b[0;31m:\u001b[0m invalid syntax\n"
     ]
    }
   ],
   "source": [
    "(println \"Hello World!\")"
   ]
  },
  {
   "cell_type": "code",
   "execution_count": 10,
   "id": "flexible-evaluation",
   "metadata": {},
   "outputs": [
    {
     "ename": "SyntaxError",
     "evalue": "invalid syntax (<ipython-input-10-17dff73043d4>, line 1)",
     "output_type": "error",
     "traceback": [
      "\u001b[0;36m  File \u001b[0;32m\"<ipython-input-10-17dff73043d4>\"\u001b[0;36m, line \u001b[0;32m1\u001b[0m\n\u001b[0;31m    import quick-clojure\u001b[0m\n\u001b[0m                ^\u001b[0m\n\u001b[0;31mSyntaxError\u001b[0m\u001b[0;31m:\u001b[0m invalid syntax\n"
     ]
    }
   ],
   "source": [
    "import quick-clojure"
   ]
  },
  {
   "cell_type": "code",
   "execution_count": null,
   "id": "second-judges",
   "metadata": {},
   "outputs": [],
   "source": []
  }
 ],
 "metadata": {
  "kernelspec": {
   "display_name": "Python 3",
   "language": "python",
   "name": "python3"
  },
  "language_info": {
   "codemirror_mode": {
    "name": "ipython",
    "version": 3
   },
   "file_extension": ".py",
   "mimetype": "text/x-python",
   "name": "python",
   "nbconvert_exporter": "python",
   "pygments_lexer": "ipython3",
   "version": "3.8.8"
  },
  "toc": {
   "base_numbering": 1,
   "nav_menu": {},
   "number_sections": false,
   "sideBar": true,
   "skip_h1_title": false,
   "title_cell": "Table of Contents",
   "title_sidebar": "Contents",
   "toc_cell": false,
   "toc_position": {},
   "toc_section_display": true,
   "toc_window_display": false
  }
 },
 "nbformat": 4,
 "nbformat_minor": 5
}
