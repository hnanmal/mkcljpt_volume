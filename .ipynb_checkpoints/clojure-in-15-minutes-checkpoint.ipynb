{
 "cells": [
  {
   "cell_type": "code",
   "execution_count": 1,
   "id": "instant-sleep",
   "metadata": {},
   "outputs": [
    {
     "data": {
      "text/plain": [
       "nil"
      ]
     },
     "execution_count": 1,
     "metadata": {},
     "output_type": "execute_result"
    }
   ],
   "source": [
    "; Comments start with semicolons.\n",
    "\n",
    "; Clojure is written in \"forms\", which are just\n",
    "; lists of things inside parentheses, separated by whitespace.\n",
    ";\n",
    "; The clojure reader  assumes that the first thing is a\n",
    "; function or macro to call, and the rest are arguments.\n",
    ";\n",
    "; Here's a function that sets the current namespace:\n",
    "(ns test)"
   ]
  },
  {
   "cell_type": "code",
   "execution_count": 2,
   "id": "capable-waterproof",
   "metadata": {},
   "outputs": [
    {
     "data": {
      "text/plain": [
       "\"Hello World\""
      ]
     },
     "execution_count": 2,
     "metadata": {},
     "output_type": "execute_result"
    }
   ],
   "source": [
    "; More basic examples:\n",
    "\n",
    "; str will create a string out of all its arguments\n",
    "(str \"Hello\" \" \" \"World\")"
   ]
  },
  {
   "cell_type": "code",
   "execution_count": 3,
   "id": "established-collection",
   "metadata": {},
   "outputs": [
    {
     "data": {
      "text/plain": [
       "2"
      ]
     },
     "execution_count": 3,
     "metadata": {},
     "output_type": "execute_result"
    }
   ],
   "source": [
    "; Math is straightforward\n",
    "(+ 1 1) ; => 2\n",
    "(- 2 1) ; => 1\n",
    "(* 1 2) ; => 2\n",
    "(/ 2 1) ; => 2"
   ]
  },
  {
   "cell_type": "code",
   "execution_count": 4,
   "id": "continental-speaker",
   "metadata": {},
   "outputs": [
    {
     "data": {
      "text/plain": [
       "true"
      ]
     },
     "execution_count": 4,
     "metadata": {},
     "output_type": "execute_result"
    }
   ],
   "source": [
    "; Equality is =\n",
    "(= 1 1) ; => true"
   ]
  },
  {
   "cell_type": "code",
   "execution_count": 5,
   "id": "blank-venice",
   "metadata": {},
   "outputs": [
    {
     "data": {
      "text/plain": [
       "false"
      ]
     },
     "execution_count": 5,
     "metadata": {},
     "output_type": "execute_result"
    }
   ],
   "source": [
    "(= 2 1) ; => false"
   ]
  },
  {
   "cell_type": "code",
   "execution_count": 6,
   "id": "friendly-delight",
   "metadata": {},
   "outputs": [
    {
     "data": {
      "text/plain": [
       "false"
      ]
     },
     "execution_count": 6,
     "metadata": {},
     "output_type": "execute_result"
    }
   ],
   "source": [
    "; You need not for logic, too\n",
    "(not true) ; => false"
   ]
  },
  {
   "cell_type": "code",
   "execution_count": 7,
   "id": "korean-stability",
   "metadata": {},
   "outputs": [
    {
     "data": {
      "text/plain": [
       "2"
      ]
     },
     "execution_count": 7,
     "metadata": {},
     "output_type": "execute_result"
    }
   ],
   "source": [
    "; Nesting forms works as you expect\n",
    "(+ 1 (- 3 2)) ; = 1 + (3 - 2) => 2"
   ]
  },
  {
   "cell_type": "code",
   "execution_count": 8,
   "id": "unique-equipment",
   "metadata": {},
   "outputs": [],
   "source": [
    "; Clojure uses Java's object types for booleans, strings and numbers.\n",
    "; Use `class` to inspect them."
   ]
  },
  {
   "cell_type": "code",
   "execution_count": 9,
   "id": "artificial-creator",
   "metadata": {},
   "outputs": [
    {
     "data": {
      "text/plain": [
       "java.lang.Long"
      ]
     },
     "execution_count": 9,
     "metadata": {},
     "output_type": "execute_result"
    }
   ],
   "source": [
    "(class 1)"
   ]
  },
  {
   "cell_type": "code",
   "execution_count": 10,
   "id": "conscious-reset",
   "metadata": {},
   "outputs": [
    {
     "data": {
      "text/plain": [
       "java.lang.Double"
      ]
     },
     "execution_count": 10,
     "metadata": {},
     "output_type": "execute_result"
    }
   ],
   "source": [
    "(class 1.)"
   ]
  },
  {
   "cell_type": "code",
   "execution_count": 11,
   "id": "connected-conjunction",
   "metadata": {},
   "outputs": [
    {
     "data": {
      "text/plain": [
       "java.lang.String"
      ]
     },
     "execution_count": 11,
     "metadata": {},
     "output_type": "execute_result"
    }
   ],
   "source": [
    "(class \"\"); Strings always double-quoted, and are java.lang.String"
   ]
  },
  {
   "cell_type": "code",
   "execution_count": 12,
   "id": "peaceful-simon",
   "metadata": {},
   "outputs": [
    {
     "data": {
      "text/plain": [
       "java.lang.Boolean"
      ]
     },
     "execution_count": 12,
     "metadata": {},
     "output_type": "execute_result"
    }
   ],
   "source": [
    "(class false) ; Booleans are java.lang.Boolean"
   ]
  },
  {
   "cell_type": "code",
   "execution_count": 13,
   "id": "vietnamese-oliver",
   "metadata": {},
   "outputs": [
    {
     "data": {
      "text/plain": [
       "nil"
      ]
     },
     "execution_count": 13,
     "metadata": {},
     "output_type": "execute_result"
    }
   ],
   "source": [
    "(class nil); The \"null\" value is called nil"
   ]
  },
  {
   "cell_type": "code",
   "execution_count": 14,
   "id": "aerial-lambda",
   "metadata": {},
   "outputs": [
    {
     "data": {
      "text/plain": [
       "(+ 1 2)"
      ]
     },
     "execution_count": 14,
     "metadata": {},
     "output_type": "execute_result"
    }
   ],
   "source": [
    "; If you want to create a literal list of data, use ' to make a \"symbol\"\n",
    "'(+ 1 2) ; => (+ 1 2)"
   ]
  },
  {
   "cell_type": "code",
   "execution_count": 15,
   "id": "optical-tracy",
   "metadata": {},
   "outputs": [
    {
     "data": {
      "text/plain": [
       "3"
      ]
     },
     "execution_count": 15,
     "metadata": {},
     "output_type": "execute_result"
    }
   ],
   "source": [
    "; You can eval symbols.\n",
    "(eval '(+ 1 2)) ; => 3"
   ]
  },
  {
   "cell_type": "code",
   "execution_count": 16,
   "id": "graduate-tolerance",
   "metadata": {},
   "outputs": [
    {
     "data": {
      "text/plain": [
       "clojure.lang.PersistentVector"
      ]
     },
     "execution_count": 16,
     "metadata": {},
     "output_type": "execute_result"
    }
   ],
   "source": [
    "; Vectors and Lists are java classes too!\n",
    "(class [1 2 3]); => clojure.lang.PersistentVector"
   ]
  },
  {
   "cell_type": "code",
   "execution_count": 17,
   "id": "necessary-chamber",
   "metadata": {},
   "outputs": [
    {
     "data": {
      "text/plain": [
       "clojure.lang.PersistentList"
      ]
     },
     "execution_count": 17,
     "metadata": {},
     "output_type": "execute_result"
    }
   ],
   "source": [
    "(class '(1 2 3)); => clojure.lang.PersistentList\n",
    "\n",
    "; A list would be written as just (1 2 3), but we have to quote\n",
    "; it to stop the reader thinking it's a function.\n",
    "; Also, (list 1 2 3) is the same as '(1 2 3)"
   ]
  },
  {
   "cell_type": "code",
   "execution_count": 18,
   "id": "disabled-patio",
   "metadata": {},
   "outputs": [
    {
     "data": {
      "text/plain": [
       "true"
      ]
     },
     "execution_count": 18,
     "metadata": {},
     "output_type": "execute_result"
    }
   ],
   "source": [
    "; Both lists and vectors are collections:\n",
    "(coll? '(1 2 3)) ; => true"
   ]
  },
  {
   "cell_type": "code",
   "execution_count": 19,
   "id": "instant-factory",
   "metadata": {},
   "outputs": [
    {
     "data": {
      "text/plain": [
       "true"
      ]
     },
     "execution_count": 19,
     "metadata": {},
     "output_type": "execute_result"
    }
   ],
   "source": [
    "(coll? [1 2 3]) ; => true"
   ]
  },
  {
   "cell_type": "code",
   "execution_count": 20,
   "id": "wrapped-advocate",
   "metadata": {},
   "outputs": [
    {
     "data": {
      "text/plain": [
       "true"
      ]
     },
     "execution_count": 20,
     "metadata": {},
     "output_type": "execute_result"
    }
   ],
   "source": [
    "; Only lists are seqs.\n",
    "(seq? '(1 2 3)) ; => true"
   ]
  },
  {
   "cell_type": "code",
   "execution_count": 21,
   "id": "unauthorized-practice",
   "metadata": {},
   "outputs": [
    {
     "data": {
      "text/plain": [
       "false"
      ]
     },
     "execution_count": 21,
     "metadata": {},
     "output_type": "execute_result"
    }
   ],
   "source": [
    "(seq? [1 2 3]) ; => false"
   ]
  },
  {
   "cell_type": "code",
   "execution_count": 22,
   "id": "opening-atmosphere",
   "metadata": {},
   "outputs": [
    {
     "data": {
      "text/plain": [
       "(0 1 2 3)"
      ]
     },
     "execution_count": 22,
     "metadata": {},
     "output_type": "execute_result"
    }
   ],
   "source": [
    "; Seqs are an interface for logical lists, which can be lazy.\n",
    "; \"Lazy\" means that a seq can define an infinite series, like so:\n",
    "(range 4) ; => (0 1 2 3)"
   ]
  },
  {
   "cell_type": "code",
   "execution_count": 23,
   "id": "higher-pottery",
   "metadata": {},
   "outputs": [],
   "source": [
    ";; (range)\n",
    ";; (take 4 (range)) ;  (0 1 2 3)"
   ]
  },
  {
   "cell_type": "code",
   "execution_count": 24,
   "id": "technical-fetish",
   "metadata": {},
   "outputs": [
    {
     "data": {
      "text/plain": [
       "(4 1 2 3)"
      ]
     },
     "execution_count": 24,
     "metadata": {},
     "output_type": "execute_result"
    }
   ],
   "source": [
    "; Use cons to add an item to the beginning of a list or vector\n",
    "(cons 4 [1 2 3]) ; => (4 1 2 3)"
   ]
  },
  {
   "cell_type": "code",
   "execution_count": 25,
   "id": "functioning-aurora",
   "metadata": {},
   "outputs": [
    {
     "data": {
      "text/plain": [
       "(4 1 2 3)"
      ]
     },
     "execution_count": 25,
     "metadata": {},
     "output_type": "execute_result"
    }
   ],
   "source": [
    "(cons 4 '(1 2 3)) ; => (4 1 2 3)"
   ]
  },
  {
   "cell_type": "code",
   "execution_count": 26,
   "id": "divine-bruce",
   "metadata": {},
   "outputs": [
    {
     "data": {
      "text/plain": [
       "[1 2 3 4]"
      ]
     },
     "execution_count": 26,
     "metadata": {},
     "output_type": "execute_result"
    }
   ],
   "source": [
    "; Use conj to add an item to the beginning of a list,\n",
    "; or the end of a vector\n",
    "(conj [1 2 3] 4) ; => [1 2 3 4]"
   ]
  },
  {
   "cell_type": "code",
   "execution_count": 28,
   "id": "closing-rhythm",
   "metadata": {},
   "outputs": [
    {
     "data": {
      "text/plain": [
       "(4 1 2 3)"
      ]
     },
     "execution_count": 28,
     "metadata": {},
     "output_type": "execute_result"
    }
   ],
   "source": [
    "(conj '(1 2 3) 4) ; => (4 1 2 3)"
   ]
  },
  {
   "cell_type": "code",
   "execution_count": 29,
   "id": "coupled-serum",
   "metadata": {},
   "outputs": [
    {
     "data": {
      "text/plain": [
       "(1 2 3 4)"
      ]
     },
     "execution_count": 29,
     "metadata": {},
     "output_type": "execute_result"
    }
   ],
   "source": [
    "; Use concat to add lists or vectors together\n",
    "(concat [1 2] '(3 4)) ; => (1 2 3 4)"
   ]
  },
  {
   "cell_type": "code",
   "execution_count": 32,
   "id": "intensive-partition",
   "metadata": {},
   "outputs": [
    {
     "data": {
      "text/plain": [
       "3"
      ]
     },
     "execution_count": 32,
     "metadata": {},
     "output_type": "execute_result"
    }
   ],
   "source": [
    "(inc 2)"
   ]
  },
  {
   "cell_type": "code",
   "execution_count": 33,
   "id": "seven-blanket",
   "metadata": {},
   "outputs": [
    {
     "data": {
      "text/plain": [
       "(2 3 4)"
      ]
     },
     "execution_count": 33,
     "metadata": {},
     "output_type": "execute_result"
    }
   ],
   "source": [
    "; Use filter, map to interact with collections\n",
    "(map inc [1 2 3]) ; => (2 3 4)"
   ]
  },
  {
   "cell_type": "code",
   "execution_count": 34,
   "id": "deadly-appraisal",
   "metadata": {},
   "outputs": [
    {
     "data": {
      "text/plain": [
       "(2)"
      ]
     },
     "execution_count": 34,
     "metadata": {},
     "output_type": "execute_result"
    }
   ],
   "source": [
    "(filter even? [1 2 3]) ; => (2)"
   ]
  },
  {
   "cell_type": "code",
   "execution_count": 38,
   "id": "novel-longer",
   "metadata": {},
   "outputs": [
    {
     "data": {
      "text/plain": [
       "10"
      ]
     },
     "execution_count": 38,
     "metadata": {},
     "output_type": "execute_result"
    }
   ],
   "source": [
    "; Use reduce to reduce them\n",
    "(reduce + [1 2 3 4])\n",
    "; = (+ (+ (+ 1 2) 3) 4)\n",
    "; => 10"
   ]
  },
  {
   "cell_type": "code",
   "execution_count": 40,
   "id": "usual-liver",
   "metadata": {},
   "outputs": [
    {
     "data": {
      "text/plain": [
       "10"
      ]
     },
     "execution_count": 40,
     "metadata": {},
     "output_type": "execute_result"
    }
   ],
   "source": [
    "; Use reduce to reduce them\n",
    "(reduce + '(1 2 3 4))\n",
    "; = (+ (+ (+ 1 2) 3) 4)\n",
    "; => 10"
   ]
  },
  {
   "cell_type": "code",
   "execution_count": 37,
   "id": "fundamental-excuse",
   "metadata": {},
   "outputs": [
    {
     "data": {
      "text/plain": [
       "[3 2 1]"
      ]
     },
     "execution_count": 37,
     "metadata": {},
     "output_type": "execute_result"
    }
   ],
   "source": [
    "; Reduce can take an initial-value argument too\n",
    "(reduce conj [] '(3 2 1))\n",
    "; = (conj (conj (conj [] 3) 2) 1)\n",
    "; => [3 2 1]"
   ]
  },
  {
   "cell_type": "code",
   "execution_count": 41,
   "id": "defensive-producer",
   "metadata": {},
   "outputs": [
    {
     "data": {
      "text/plain": [
       "#function[test/eval4185/fn--4186]"
      ]
     },
     "execution_count": 41,
     "metadata": {},
     "output_type": "execute_result"
    }
   ],
   "source": [
    "; Use fn to create new functions. A function always returns\n",
    "; its last statement.\n",
    "(fn [] \"Hello World\") ; => fn"
   ]
  },
  {
   "cell_type": "code",
   "execution_count": 42,
   "id": "diverse-compression",
   "metadata": {},
   "outputs": [
    {
     "data": {
      "text/plain": [
       "\"Hello World\""
      ]
     },
     "execution_count": 42,
     "metadata": {},
     "output_type": "execute_result"
    }
   ],
   "source": [
    "; (You need extra parens to call it)\n",
    "((fn [] \"Hello World\")) ; => \"Hello World\""
   ]
  },
  {
   "cell_type": "code",
   "execution_count": 43,
   "id": "married-logic",
   "metadata": {},
   "outputs": [
    {
     "data": {
      "text/plain": [
       "1"
      ]
     },
     "execution_count": 43,
     "metadata": {},
     "output_type": "execute_result"
    }
   ],
   "source": [
    "; You can create a var using def\n",
    "(def x 1)\n",
    "x ; => 1"
   ]
  },
  {
   "cell_type": "code",
   "execution_count": null,
   "id": "english-newport",
   "metadata": {},
   "outputs": [],
   "source": []
  }
 ],
 "metadata": {
  "kernelspec": {
   "display_name": "Clojure (clojupyter-0.3.2)",
   "language": "clojure",
   "name": "clojupyter-0.3.2"
  },
  "language_info": {
   "file_extension": ".clj",
   "mimetype": "text/x-clojure",
   "name": "clojure",
   "version": "1.10.1"
  }
 },
 "nbformat": 4,
 "nbformat_minor": 5
}
