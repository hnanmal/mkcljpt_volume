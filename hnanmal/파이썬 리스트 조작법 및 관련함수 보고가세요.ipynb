{
 "cells": [
  {
   "cell_type": "markdown",
   "id": "parliamentary-italic",
   "metadata": {},
   "source": [
    "## 형식은 이렇습니다"
   ]
  },
  {
   "cell_type": "code",
   "execution_count": 4,
   "id": "whole-cowboy",
   "metadata": {},
   "outputs": [],
   "source": [
    "숫자리스트 = [1, 2, 3, 4, 5]\n",
    "문자리스트 = [\"사과\", \"기린\", \"호수\"]\n",
    "객체리스트 = [\n",
    "        {\"name\": \"코코\", \"나이\": 3, \"성격\": \"온순\"},\n",
    "        {\"name\": \"코코\", \"나이\": 3, \"성격\": \"온순\"},\n",
    "        {\"name\": \"코코\", \"나이\": 3, \"성격\": \"온순\"}\n",
    "    ]"
   ]
  },
  {
   "cell_type": "markdown",
   "id": "representative-morrison",
   "metadata": {},
   "source": [
    "## 각각의 원소 접근해서 값을 가져오고 싶어요"
   ]
  },
  {
   "cell_type": "code",
   "execution_count": 5,
   "id": "adverse-wings",
   "metadata": {},
   "outputs": [
    {
     "name": "stdout",
     "output_type": "stream",
     "text": [
      "1 2 5 4\n",
      "reakwon com\n",
      "['reakwon', 'tistory', 'COM']\n"
     ]
    }
   ],
   "source": [
    "intList = [1, 2, 3, 4, 5]\n",
    "strList = [\"reakwon\", \"tistory\", \"com\"]\n",
    "print (intList[0], intList[1], intList[-1], intList[-2])\n",
    "print (strList[0], strList[-1])\n",
    "\n",
    "#strList 마지막의 원소 값 변경\n",
    "strList[2] = 'COM'\n",
    "print (strList)"
   ]
  },
  {
   "cell_type": "markdown",
   "id": "medieval-repair",
   "metadata": {},
   "source": [
    "## 슬라이싱으로 리스트의 일부를 잘라내서 간직하고 싶어요"
   ]
  },
  {
   "cell_type": "code",
   "execution_count": 7,
   "id": "faced-alert",
   "metadata": {},
   "outputs": [
    {
     "name": "stdout",
     "output_type": "stream",
     "text": [
      "[2]\n",
      "['tistory', 'com']\n",
      "[1, 12, 13, 4, 5]\n"
     ]
    }
   ],
   "source": [
    "intList = [1, 2, 3, 4, 5]\n",
    "strList = [\"reakwon\", \"tistory\", \"com\"]\n",
    "\n",
    "print (intList[1:2])    #1번 원소부터 2번 원소 전까지\n",
    "print (strList[1:])     #1번 원소부터 끝까지\n",
    "\n",
    "# [1, 2, 3, 4, 5] 의 1번 인덱스부터 3-1=2번 index까지 값을 변경\n",
    "intList[1:3] = [12, 13]\n",
    "print(intList)"
   ]
  },
  {
   "cell_type": "markdown",
   "id": "southwest-magnitude",
   "metadata": {},
   "source": [
    "## 원소를 삭제해 버릴거에요"
   ]
  },
  {
   "cell_type": "code",
   "execution_count": 8,
   "id": "usual-story",
   "metadata": {},
   "outputs": [
    {
     "name": "stdout",
     "output_type": "stream",
     "text": [
      "[4, 5]\n",
      "['reakwon', 'tistory']\n"
     ]
    }
   ],
   "source": [
    "intList = [1, 2, 3, 4, 5]\n",
    "strList = [\"reakwon\", \"tistory\", \"com\"]\n",
    "\n",
    "del intList[:3]\t# 3번 인덱스 이전까지 원소 모두 삭제\n",
    "del strList[2]\t# 2번 인덱스 원소 삭제\n",
    "\n",
    "print(intList)\n",
    "print(strList)"
   ]
  },
  {
   "cell_type": "markdown",
   "id": "adaptive-reduction",
   "metadata": {},
   "source": [
    "## 리스트 안쪽의 리스트, 다중 리스트를 구현"
   ]
  },
  {
   "cell_type": "code",
   "execution_count": 9,
   "id": "downtown-palmer",
   "metadata": {},
   "outputs": [
    {
     "name": "stdout",
     "output_type": "stream",
     "text": [
      "reakwon tistory com 1 2 5\n"
     ]
    }
   ],
   "source": [
    "intList = [1, 2, 3, 4, 5]\n",
    "        # [0][1][2][3][4]\n",
    "mergedList = [\"reakwon\", \"tistory\", \"com\",intList]\n",
    "            #   [0]         [1]      [2]    [3]\n",
    "\n",
    "print(mergedList[0], mergedList[1], mergedList[2], mergedList[3][0], mergedList[3][1], mergedList[-1][-1])"
   ]
  },
  {
   "cell_type": "markdown",
   "id": "convinced-lottery",
   "metadata": {},
   "source": [
    "## 리스트를 몇번이고 반복해서 수를 부풀릴 거에요"
   ]
  },
  {
   "cell_type": "code",
   "execution_count": 10,
   "id": "colored-philadelphia",
   "metadata": {},
   "outputs": [
    {
     "name": "stdout",
     "output_type": "stream",
     "text": [
      "['-', '=', '-', '=', '-', '=', '-', '=', '-', '=']\n"
     ]
    }
   ],
   "source": [
    "ls = ['-','=']\n",
    "repeat = ls * 5\n",
    "print (repeat)"
   ]
  },
  {
   "cell_type": "markdown",
   "id": "frozen-consistency",
   "metadata": {},
   "source": [
    "## 리스트 자료형이 갖고 있는 내장 함수 탐구하기"
   ]
  },
  {
   "cell_type": "markdown",
   "id": "agreed-moderator",
   "metadata": {},
   "source": [
    "리스트는 인덱스 접근, 변경, 삭제가 가능할뿐만 아니라 때에 따라 맞게 사용할 수 있는 함수를 내장하고 있습니다. 여기서 어떤 함수들이 있나 살펴보도록 하겠습니다."
   ]
  },
  {
   "cell_type": "markdown",
   "id": "collected-journalism",
   "metadata": {},
   "source": [
    "### 길이: len( X )"
   ]
  },
  {
   "cell_type": "code",
   "execution_count": 12,
   "id": "widespread-tennessee",
   "metadata": {},
   "outputs": [
    {
     "name": "stdout",
     "output_type": "stream",
     "text": [
      "numbers 길이 :  9\n"
     ]
    }
   ],
   "source": [
    "numbers = [5, 2, 3, 5, 6, 7, 1, 1, 1]   #9개 원소\n",
    "\n",
    "print (\"numbers 길이 : \", len(numbers))"
   ]
  },
  {
   "cell_type": "markdown",
   "id": "needed-turkish",
   "metadata": {},
   "source": [
    "### 정렬: X.sort( )"
   ]
  },
  {
   "cell_type": "code",
   "execution_count": 13,
   "id": "basic-fabric",
   "metadata": {},
   "outputs": [
    {
     "name": "stdout",
     "output_type": "stream",
     "text": [
      "[1, 1, 1, 2, 3, 5, 5, 6, 7]\n",
      "['C++', 'Java', 'apple', 'banana', 'computer', 'list', 'python']\n"
     ]
    }
   ],
   "source": [
    "numbers = [5, 2, 3, 5, 6, 7, 1, 1, 1]\n",
    "strs = ['apple', 'computer', 'python', 'list', 'C++','Java', 'banana']\n",
    "\n",
    "numbers.sort()  #정수 정렬\n",
    "strs.sort()     #문자열 정렬\n",
    "\n",
    "print(numbers)\n",
    "print(strs)"
   ]
  },
  {
   "cell_type": "markdown",
   "id": "appointed-discount",
   "metadata": {},
   "source": [
    "### 순서를 거꾸로: X.reverse( )"
   ]
  },
  {
   "cell_type": "code",
   "execution_count": 14,
   "id": "presidential-bahrain",
   "metadata": {},
   "outputs": [
    {
     "name": "stdout",
     "output_type": "stream",
     "text": [
      "[7, 6, 5, 5, 3, 2, 1, 1, 1]\n"
     ]
    }
   ],
   "source": [
    "numbers = [5, 2, 3, 5, 6, 7, 1, 1, 1]\n",
    "\n",
    "numbers.sort()  #정수 정렬\n",
    "numbers.reverse()   #거꾸로 뒤집은 리스트\n",
    "\n",
    "print(numbers)"
   ]
  },
  {
   "cell_type": "markdown",
   "id": "guilty-clearing",
   "metadata": {},
   "source": [
    "### 포함된 원소의 갯수: X.count( )"
   ]
  },
  {
   "cell_type": "code",
   "execution_count": 15,
   "id": "understood-louis",
   "metadata": {},
   "outputs": [
    {
     "name": "stdout",
     "output_type": "stream",
     "text": [
      "0은 몇개? : 2\n",
      "null은 몇개? : 2\n"
     ]
    }
   ],
   "source": [
    "numbers = [30, 19, 100, 34, 123, 51, 0, 0, -1]\n",
    "strings = ['java', 'python', 'programming', 'algorithm', 'null', 'null']\n",
    "\n",
    "print ('0은 몇개? :', numbers.count(0))\n",
    "print ('null은 몇개? :', strings.count('null'))"
   ]
  },
  {
   "cell_type": "markdown",
   "id": "younger-knife",
   "metadata": {},
   "source": [
    "### 요소 추가: X.append( )"
   ]
  },
  {
   "cell_type": "markdown",
   "id": "level-strip",
   "metadata": {},
   "source": [
    "append는 덧붙이기라는 뜻이 있어 보통 파일에 덧붙이기로 열때 옵션으로 'a'를 사용하는 것도 파일에 추가 기록하기 위함입니다. 기존의 원소를 삭제하지 않고 마지막에 추가합니다"
   ]
  },
  {
   "cell_type": "code",
   "execution_count": 16,
   "id": "clear-syndrome",
   "metadata": {},
   "outputs": [
    {
     "name": "stdout",
     "output_type": "stream",
     "text": [
      "['hello', 'world', '!!', 'This', 'is', 'python']\n"
     ]
    }
   ],
   "source": [
    "ls = ['hello','world']\n",
    "\n",
    "ls.append('!!')\n",
    "ls.append('This')\n",
    "ls.append('is')\n",
    "ls.append('python')\n",
    "print (ls)"
   ]
  },
  {
   "cell_type": "markdown",
   "id": "sporting-distance",
   "metadata": {},
   "source": [
    "### 확장: X.extend( )"
   ]
  },
  {
   "cell_type": "markdown",
   "id": "driven-synthesis",
   "metadata": {},
   "source": [
    "append에서 끝에 리스트를 추가할 수 있었는데 이를 접근하려면 중첩 인덱싱을 사용해야합니다. 이렇게 말고 아예 원소들 자체를 리스트에 포함시키고 싶을때는 extend를 활용하여 달성할 수가 있습니다. extend는 반드시 리스트 자료형을 전달받습니다."
   ]
  },
  {
   "cell_type": "code",
   "execution_count": 17,
   "id": "junior-classics",
   "metadata": {},
   "outputs": [
    {
     "name": "stdout",
     "output_type": "stream",
     "text": [
      "['dog', 'cat', 'orca', ['monkey', 'elephant']]\n"
     ]
    }
   ],
   "source": [
    "animals = ['dog', 'cat', 'orca']\n",
    "\n",
    "animals.append(['monkey','elephant'])\n",
    "\n",
    "print(animals)"
   ]
  },
  {
   "cell_type": "markdown",
   "id": "mental-syndication",
   "metadata": {},
   "source": [
    "### 중간에 요소 삽입: X.insert( )"
   ]
  },
  {
   "cell_type": "code",
   "execution_count": 19,
   "id": "driven-companion",
   "metadata": {},
   "outputs": [
    {
     "name": "stdout",
     "output_type": "stream",
     "text": [
      "['world', 'wide', 'web']\n"
     ]
    }
   ],
   "source": [
    "www = ['world','web']\n",
    "\n",
    "www.insert(1,'wide')    # 1번째에 'wide' 원소 추가\n",
    "print(www)"
   ]
  },
  {
   "cell_type": "code",
   "execution_count": 20,
   "id": "handed-february",
   "metadata": {},
   "outputs": [
    {
     "name": "stdout",
     "output_type": "stream",
     "text": [
      "['WWZ', 'Tekken', ['The Last Of Us Part 1', 'The Last Of Us Part Golf'], 'GTA', 'Red Dead Redemption', 'FIFA']\n"
     ]
    }
   ],
   "source": [
    "PS4Titles = ['WWZ', 'Tekken','GTA','Red Dead Redemption', 'FIFA']\n",
    "PS4Titles.insert(2,['The Last Of Us Part 1', 'The Last Of Us Part Golf'])\n",
    "\n",
    "print(PS4Titles)"
   ]
  },
  {
   "cell_type": "markdown",
   "id": "fundamental-kernel",
   "metadata": {},
   "source": [
    "### 원소 삭제: X.remove( )"
   ]
  },
  {
   "cell_type": "code",
   "execution_count": 21,
   "id": "stretch-bracelet",
   "metadata": {},
   "outputs": [
    {
     "name": "stdout",
     "output_type": "stream",
     "text": [
      "['korea', 'US', 'UK', 'france', 'vietnam']\n"
     ]
    }
   ],
   "source": [
    "countries = ['korea','japan','china','US','UK','france','vietnam']\n",
    "\n",
    "countries.remove('japan')\n",
    "countries.remove('china')\n",
    "\n",
    "print(countries)"
   ]
  },
  {
   "cell_type": "code",
   "execution_count": 22,
   "id": "quality-suffering",
   "metadata": {},
   "outputs": [
    {
     "name": "stdout",
     "output_type": "stream",
     "text": [
      "['korea', 'US', 'UK', 'france', 'vietnam']\n"
     ]
    }
   ],
   "source": [
    "countries = ['korea',['japan','china'],'US','UK','france','vietnam']\n",
    "\n",
    "countries.remove(['japan','china'])\n",
    "\n",
    "print(countries)"
   ]
  },
  {
   "cell_type": "markdown",
   "id": "delayed-relaxation",
   "metadata": {},
   "source": [
    "### 원소 전부 삭제: X.clear( )"
   ]
  },
  {
   "cell_type": "code",
   "execution_count": 23,
   "id": "vocational-saturday",
   "metadata": {},
   "outputs": [
    {
     "name": "stdout",
     "output_type": "stream",
     "text": [
      "[]\n"
     ]
    }
   ],
   "source": [
    "www = ['world','web']\n",
    "\n",
    "www.clear() #del www[:]와도 같은 동작\n",
    "\n",
    "print (www)"
   ]
  },
  {
   "cell_type": "markdown",
   "id": "surrounded-preview",
   "metadata": {},
   "source": [
    "### 원소를 밖으로 꺼내고, 리스트에서는 삭제: X.pop( )"
   ]
  },
  {
   "cell_type": "code",
   "execution_count": 24,
   "id": "sensitive-chapel",
   "metadata": {},
   "outputs": [
    {
     "name": "stdout",
     "output_type": "stream",
     "text": [
      "['korea', 'US', 'UK', 'france', 'vietnam']\n"
     ]
    }
   ],
   "source": [
    "countries = ['korea','japan','US','UK','france','vietnam', 'china']\n",
    "\n",
    "countries.pop()     #마지막 원소 삭제\n",
    "countries.pop(1)    #1번 원소 삭제\n",
    "\n",
    "print(countries)"
   ]
  },
  {
   "cell_type": "markdown",
   "id": "familiar-round",
   "metadata": {},
   "source": [
    "### 원소의 인덱스 찾기: X.index( )"
   ]
  },
  {
   "cell_type": "code",
   "execution_count": 25,
   "id": "coated-mailman",
   "metadata": {},
   "outputs": [
    {
     "name": "stdout",
     "output_type": "stream",
     "text": [
      "0\n"
     ]
    },
    {
     "ename": "ValueError",
     "evalue": "'Kotlin' is not in list",
     "output_type": "error",
     "traceback": [
      "\u001b[0;31m\u001b[0m",
      "\u001b[0;31mValueError\u001b[0mTraceback (most recent call last)",
      "\u001b[0;32m<ipython-input-25-2c15042a8fc1>\u001b[0m in \u001b[0;36m<module>\u001b[0;34m\u001b[0m\n\u001b[1;32m      2\u001b[0m \u001b[0;34m\u001b[0m\u001b[0m\n\u001b[1;32m      3\u001b[0m \u001b[0mprint\u001b[0m \u001b[0;34m(\u001b[0m\u001b[0mlanguages\u001b[0m\u001b[0;34m.\u001b[0m\u001b[0mindex\u001b[0m\u001b[0;34m(\u001b[0m\u001b[0;34m'C++'\u001b[0m\u001b[0;34m)\u001b[0m\u001b[0;34m)\u001b[0m\u001b[0;34m\u001b[0m\u001b[0;34m\u001b[0m\u001b[0m\n\u001b[0;32m----> 4\u001b[0;31m \u001b[0mprint\u001b[0m \u001b[0;34m(\u001b[0m\u001b[0mlanguages\u001b[0m\u001b[0;34m.\u001b[0m\u001b[0mindex\u001b[0m\u001b[0;34m(\u001b[0m\u001b[0;34m'Kotlin'\u001b[0m\u001b[0;34m,\u001b[0m\u001b[0;36m0\u001b[0m\u001b[0;34m,\u001b[0m\u001b[0;36m4\u001b[0m\u001b[0;34m)\u001b[0m\u001b[0;34m)\u001b[0m\u001b[0;34m\u001b[0m\u001b[0;34m\u001b[0m\u001b[0m\n\u001b[0m",
      "\u001b[0;31mValueError\u001b[0m: 'Kotlin' is not in list"
     ]
    }
   ],
   "source": [
    "languages = ['C++', 'Java', 'Python', 'C', 'C#', 'Kotlin']\n",
    "\n",
    "print (languages.index('C++'))\n",
    "print (languages.index('Kotlin',0,4))"
   ]
  },
  {
   "cell_type": "markdown",
   "id": "completed-marking",
   "metadata": {},
   "source": []
  }
 ],
 "metadata": {
  "kernelspec": {
   "display_name": "Python 3",
   "language": "python",
   "name": "python3"
  },
  "language_info": {
   "codemirror_mode": {
    "name": "ipython",
    "version": 3
   },
   "file_extension": ".py",
   "mimetype": "text/x-python",
   "name": "python",
   "nbconvert_exporter": "python",
   "pygments_lexer": "ipython3",
   "version": "3.8.8"
  },
  "toc": {
   "base_numbering": 1,
   "nav_menu": {},
   "number_sections": false,
   "sideBar": true,
   "skip_h1_title": false,
   "title_cell": "Table of Contents",
   "title_sidebar": "Contents",
   "toc_cell": false,
   "toc_position": {},
   "toc_section_display": true,
   "toc_window_display": false
  }
 },
 "nbformat": 4,
 "nbformat_minor": 5
}
