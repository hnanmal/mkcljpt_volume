{
 "cells": [
  {
   "cell_type": "code",
   "execution_count": 5,
   "metadata": {},
   "outputs": [],
   "source": [
    "from functools import reduce"
   ]
  },
  {
   "cell_type": "code",
   "execution_count": 6,
   "metadata": {},
   "outputs": [
    {
     "data": {
      "text/plain": [
       "15"
      ]
     },
     "execution_count": 6,
     "metadata": {},
     "output_type": "execute_result"
    }
   ],
   "source": [
    "a = [1,2,3,4,5]\n",
    "def add(a, b):\n",
    "    return a + b\n",
    "\n",
    "결과 = reduce(add, a, 0)\n",
    "결과"
   ]
  },
  {
   "cell_type": "code",
   "execution_count": 14,
   "metadata": {},
   "outputs": [],
   "source": [
    "과테말라_커피가루 = [\n",
    "    {'이름': '카페인', '용해성': '수용성', '로스팅후변화': False, '함량': 10.00},\n",
    "    {'이름': '광물질', '용해성': '불용성', '로스팅후변화': False, '함량': 0.10},\n",
    "    {'이름': '지방', '용해성': '지용성', '로스팅후변화': False, '함량': 1.00},\n",
    "    {'이름': '탄닌산', '용해성': '수용성', '로스팅후변화': True, '함량': 7.00},\n",
    "    {'이름': '클로로겐산', '용해성': '수용성', '로스팅후변화': True, '함량': 3.00},\n",
    "    {'이름': '트리고넬린', '용해성': '수용성', '로스팅후변화': False, '함량': 2.50},\n",
    "    {'이름': '탄산가스', '용해성': '불용성', '로스팅후변화': True, '함량': 0.01},\n",
    "    {'이름': '당분', '용해성': '수용성', '로스팅후변화': True, '함량': 1.50},\n",
    "    {'이름': '섬유소', '용해성': '불용성', '로스팅후변화': True, '함량': 0.70},\n",
    "        ]\n",
    "\n",
    "케냐AA_커피가루 = [\n",
    "    {'이름': '카페인', '용해성': '수용성', '로스팅후변화': False, '함량': 10.00},\n",
    "    {'이름': '광물질', '용해성': '불용성', '로스팅후변화': False, '함량': 0.10},\n",
    "    {'이름': '지방', '용해성': '지용성', '로스팅후변화': False, '함량': 1.00},\n",
    "    {'이름': '탄닌산', '용해성': '수용성', '로스팅후변화': True, '함량': 7.00},\n",
    "    {'이름': '클로로겐산', '용해성': '수용성', '로스팅후변화': True, '함량': 3.00},\n",
    "    {'이름': '트리고넬린', '용해성': '수용성', '로스팅후변화': False, '함량': 2.50},\n",
    "    {'이름': '탄산가스', '용해성': '불용성', '로스팅후변화': True, '함량': 0.01},\n",
    "    {'이름': '당분', '용해성': '수용성', '로스팅후변화': True, '함량': 1.50},\n",
    "    {'이름': '섬유소', '용해성': '불용성', '로스팅후변화': True, '함량': 0.70},\n",
    "        ]\n",
    "\n",
    "예가체프_커피가루 = [\n",
    "    {'이름': '카페인', '용해성': '수용성', '로스팅후변화': False, '함량': 10.00},\n",
    "    {'이름': '광물질', '용해성': '불용성', '로스팅후변화': False, '함량': 0.10},\n",
    "    {'이름': '지방', '용해성': '지용성', '로스팅후변화': False, '함량': 1.00},\n",
    "    {'이름': '탄닌산', '용해성': '수용성', '로스팅후변화': True, '함량': 7.00},\n",
    "    {'이름': '클로로겐산', '용해성': '수용성', '로스팅후변화': True, '함량': 3.00},\n",
    "    {'이름': '트리고넬린', '용해성': '수용성', '로스팅후변화': False, '함량': 2.50},\n",
    "    {'이름': '탄산가스', '용해성': '불용성', '로스팅후변화': True, '함량': 0.01},\n",
    "    {'이름': '당분', '용해성': '수용성', '로스팅후변화': True, '함량': 1.50},\n",
    "    {'이름': '섬유소', '용해성': '불용성', '로스팅후변화': True, '함량': 0.70},\n",
    "        ]\n",
    "\n",
    "원두진열대 = {\n",
    "    \"과테말라_커피가루\": 과테말라_커피가루,\n",
    "    \"케냐AA_커피가루\": 케냐AA_커피가루,\n",
    "    \"예가체프_커피가루\": 예가체프_커피가루\n",
    "}"
   ]
  },
  {
   "cell_type": "code",
   "execution_count": 25,
   "metadata": {},
   "outputs": [
    {
     "data": {
      "text/plain": [
       "'카페인'"
      ]
     },
     "execution_count": 25,
     "metadata": {},
     "output_type": "execute_result"
    }
   ],
   "source": [
    "원두진열대[\"과테말라_커피가루\"][0]['이름']"
   ]
  },
  {
   "cell_type": "code",
   "execution_count": 22,
   "metadata": {},
   "outputs": [],
   "source": [
    "def 카페인함량합산(누적결과, 신규항목):\n",
    "    신규항목_카페인성분 = list(filter(lambda x: x['이름']=='카페인', 신규항목))[0]\n",
    "    누적결과 = 누적결과 + 신규항목_카페인성분['함량']\n",
    "    return 누적결과"
   ]
  },
  {
   "cell_type": "code",
   "execution_count": 23,
   "metadata": {},
   "outputs": [
    {
     "ename": "TypeError",
     "evalue": "string indices must be integers",
     "output_type": "error",
     "traceback": [
      "\u001b[0;31m\u001b[0m",
      "\u001b[0;31mTypeError\u001b[0mTraceback (most recent call last)",
      "\u001b[0;32m<ipython-input-23-5b7d383df44e>\u001b[0m in \u001b[0;36m<module>\u001b[0;34m\u001b[0m\n\u001b[0;32m----> 1\u001b[0;31m \u001b[0m결과\u001b[0m \u001b[0;34m=\u001b[0m \u001b[0mreduce\u001b[0m\u001b[0;34m(\u001b[0m\u001b[0m카페인함량합산\u001b[0m\u001b[0;34m,\u001b[0m \u001b[0m원두진열대\u001b[0m\u001b[0;34m,\u001b[0m \u001b[0;36m0\u001b[0m\u001b[0;34m)\u001b[0m\u001b[0;34m\u001b[0m\u001b[0;34m\u001b[0m\u001b[0m\n\u001b[0m\u001b[1;32m      2\u001b[0m \u001b[0m결과\u001b[0m\u001b[0;34m\u001b[0m\u001b[0;34m\u001b[0m\u001b[0m\n",
      "\u001b[0;32m<ipython-input-22-358cf023f734>\u001b[0m in \u001b[0;36m카페인함량합산\u001b[0;34m(누적결과, 신규항목)\u001b[0m\n\u001b[1;32m      1\u001b[0m \u001b[0;32mdef\u001b[0m \u001b[0m카페인함량합산\u001b[0m\u001b[0;34m(\u001b[0m\u001b[0m누적결과\u001b[0m\u001b[0;34m,\u001b[0m \u001b[0m신규항목\u001b[0m\u001b[0;34m)\u001b[0m\u001b[0;34m:\u001b[0m\u001b[0;34m\u001b[0m\u001b[0;34m\u001b[0m\u001b[0m\n\u001b[0;32m----> 2\u001b[0;31m     \u001b[0m신규항목_카페인성분\u001b[0m \u001b[0;34m=\u001b[0m \u001b[0mlist\u001b[0m\u001b[0;34m(\u001b[0m\u001b[0mfilter\u001b[0m\u001b[0;34m(\u001b[0m\u001b[0;32mlambda\u001b[0m \u001b[0mx\u001b[0m\u001b[0;34m:\u001b[0m \u001b[0mx\u001b[0m\u001b[0;34m[\u001b[0m\u001b[0;34m'이름'\u001b[0m\u001b[0;34m]\u001b[0m\u001b[0;34m==\u001b[0m\u001b[0;34m'카페인'\u001b[0m\u001b[0;34m,\u001b[0m \u001b[0m신규항목\u001b[0m\u001b[0;34m)\u001b[0m\u001b[0;34m)\u001b[0m\u001b[0;34m[\u001b[0m\u001b[0;36m0\u001b[0m\u001b[0;34m]\u001b[0m\u001b[0;34m\u001b[0m\u001b[0;34m\u001b[0m\u001b[0m\n\u001b[0m\u001b[1;32m      3\u001b[0m     \u001b[0m누적결과\u001b[0m \u001b[0;34m=\u001b[0m \u001b[0m누적결과\u001b[0m \u001b[0;34m+\u001b[0m \u001b[0m신규항목_카페인성분\u001b[0m\u001b[0;34m[\u001b[0m\u001b[0;34m'함량'\u001b[0m\u001b[0;34m]\u001b[0m\u001b[0;34m\u001b[0m\u001b[0;34m\u001b[0m\u001b[0m\n\u001b[1;32m      4\u001b[0m     \u001b[0;32mreturn\u001b[0m \u001b[0m누적결과\u001b[0m\u001b[0;34m\u001b[0m\u001b[0;34m\u001b[0m\u001b[0m\n",
      "\u001b[0;32m<ipython-input-22-358cf023f734>\u001b[0m in \u001b[0;36m<lambda>\u001b[0;34m(x)\u001b[0m\n\u001b[1;32m      1\u001b[0m \u001b[0;32mdef\u001b[0m \u001b[0m카페인함량합산\u001b[0m\u001b[0;34m(\u001b[0m\u001b[0m누적결과\u001b[0m\u001b[0;34m,\u001b[0m \u001b[0m신규항목\u001b[0m\u001b[0;34m)\u001b[0m\u001b[0;34m:\u001b[0m\u001b[0;34m\u001b[0m\u001b[0;34m\u001b[0m\u001b[0m\n\u001b[0;32m----> 2\u001b[0;31m     \u001b[0m신규항목_카페인성분\u001b[0m \u001b[0;34m=\u001b[0m \u001b[0mlist\u001b[0m\u001b[0;34m(\u001b[0m\u001b[0mfilter\u001b[0m\u001b[0;34m(\u001b[0m\u001b[0;32mlambda\u001b[0m \u001b[0mx\u001b[0m\u001b[0;34m:\u001b[0m \u001b[0mx\u001b[0m\u001b[0;34m[\u001b[0m\u001b[0;34m'이름'\u001b[0m\u001b[0;34m]\u001b[0m\u001b[0;34m==\u001b[0m\u001b[0;34m'카페인'\u001b[0m\u001b[0;34m,\u001b[0m \u001b[0m신규항목\u001b[0m\u001b[0;34m)\u001b[0m\u001b[0;34m)\u001b[0m\u001b[0;34m[\u001b[0m\u001b[0;36m0\u001b[0m\u001b[0;34m]\u001b[0m\u001b[0;34m\u001b[0m\u001b[0;34m\u001b[0m\u001b[0m\n\u001b[0m\u001b[1;32m      3\u001b[0m     \u001b[0m누적결과\u001b[0m \u001b[0;34m=\u001b[0m \u001b[0m누적결과\u001b[0m \u001b[0;34m+\u001b[0m \u001b[0m신규항목_카페인성분\u001b[0m\u001b[0;34m[\u001b[0m\u001b[0;34m'함량'\u001b[0m\u001b[0;34m]\u001b[0m\u001b[0;34m\u001b[0m\u001b[0;34m\u001b[0m\u001b[0m\n\u001b[1;32m      4\u001b[0m     \u001b[0;32mreturn\u001b[0m \u001b[0m누적결과\u001b[0m\u001b[0;34m\u001b[0m\u001b[0;34m\u001b[0m\u001b[0m\n",
      "\u001b[0;31mTypeError\u001b[0m: string indices must be integers"
     ]
    }
   ],
   "source": [
    "결과 = reduce(카페인함량합산, 원두진열대, 0)\n",
    "결과"
   ]
  },
  {
   "cell_type": "code",
   "execution_count": null,
   "metadata": {},
   "outputs": [],
   "source": []
  }
 ],
 "metadata": {
  "kernelspec": {
   "display_name": "Python 3",
   "language": "python",
   "name": "python3"
  },
  "language_info": {
   "codemirror_mode": {
    "name": "ipython",
    "version": 3
   },
   "file_extension": ".py",
   "mimetype": "text/x-python",
   "name": "python",
   "nbconvert_exporter": "python",
   "pygments_lexer": "ipython3",
   "version": "3.8.8"
  }
 },
 "nbformat": 4,
 "nbformat_minor": 4
}
