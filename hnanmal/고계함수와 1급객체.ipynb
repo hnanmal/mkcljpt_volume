{
 "cells": [
  {
   "cell_type": "markdown",
   "id": "linear-thickness",
   "metadata": {},
   "source": [
    "# 고계함수와 1급객체"
   ]
  },
  {
   "cell_type": "code",
   "execution_count": 1,
   "id": "compressed-abraham",
   "metadata": {},
   "outputs": [],
   "source": [
    "a = {\n",
    "    \"aa\": \"dfdfdf\"\n",
    "}"
   ]
  },
  {
   "cell_type": "code",
   "execution_count": 2,
   "id": "saved-principal",
   "metadata": {},
   "outputs": [
    {
     "ename": "SyntaxError",
     "evalue": "invalid syntax (<ipython-input-2-33aed00e7cf9>, line 1)",
     "output_type": "error",
     "traceback": [
      "\u001b[0;36m  File \u001b[0;32m\"<ipython-input-2-33aed00e7cf9>\"\u001b[0;36m, line \u001b[0;32m1\u001b[0m\n\u001b[0;31m    a.\"aa\"\u001b[0m\n\u001b[0m      ^\u001b[0m\n\u001b[0;31mSyntaxError\u001b[0m\u001b[0;31m:\u001b[0m invalid syntax\n"
     ]
    }
   ],
   "source": [
    "a.\"aa\""
   ]
  },
  {
   "cell_type": "code",
   "execution_count": 3,
   "id": "crazy-increase",
   "metadata": {},
   "outputs": [
    {
     "data": {
      "text/plain": [
       "{'aa': 'dfdfdf'}"
      ]
     },
     "execution_count": 3,
     "metadata": {},
     "output_type": "execute_result"
    }
   ],
   "source": [
    "a"
   ]
  },
  {
   "cell_type": "code",
   "execution_count": 4,
   "id": "welsh-enemy",
   "metadata": {},
   "outputs": [
    {
     "data": {
      "text/plain": [
       "'dfdfdf'"
      ]
     },
     "execution_count": 4,
     "metadata": {},
     "output_type": "execute_result"
    }
   ],
   "source": [
    "a['aa']"
   ]
  },
  {
   "cell_type": "code",
   "execution_count": null,
   "id": "incorporate-harbor",
   "metadata": {},
   "outputs": [],
   "source": [
    "Body = {\n",
    "    setColor: def ()\n",
    "}"
   ]
  }
 ],
 "metadata": {
  "kernelspec": {
   "display_name": "Python 3",
   "language": "python",
   "name": "python3"
  },
  "language_info": {
   "codemirror_mode": {
    "name": "ipython",
    "version": 3
   },
   "file_extension": ".py",
   "mimetype": "text/x-python",
   "name": "python",
   "nbconvert_exporter": "python",
   "pygments_lexer": "ipython3",
   "version": "3.8.8"
  }
 },
 "nbformat": 4,
 "nbformat_minor": 5
}
