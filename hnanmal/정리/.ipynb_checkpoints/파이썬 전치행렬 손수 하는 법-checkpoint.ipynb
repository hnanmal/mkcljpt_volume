{
 "cells": [
  {
   "cell_type": "markdown",
   "id": "parallel-employer",
   "metadata": {},
   "source": [
    "# 파이썬 전치행렬 손수 하는 법! 전치행렬하나 만들자고 numpy 설치하시나요?"
   ]
  },
  {
   "cell_type": "markdown",
   "id": "designed-korea",
   "metadata": {},
   "source": [
    "numpy는 데이터 처리에 엄청난 능력을 보여주는 라이브러리이지만,  \n",
    "작은 규모의 프로그램에서, 그리고 매번 실행환경이 달라져야 하는 코드라면  \n",
    "파이썬 기본 문법으로 해결하고 싶을 때도 생깁니다.  \n",
    "그래서 아주 유용하고 빈번하게 사용되는 전치행렬에 대한 내용을 기본문법으로 구현해 보겠습니다."
   ]
  },
  {
   "cell_type": "markdown",
   "id": "happy-discussion",
   "metadata": {},
   "source": [
    "## 전치행렬이 뭔데?"
   ]
  },
  {
   "attachments": {
    "b40006d7-591f-48d3-acaf-1af3cd951fa7.png": {
     "image/png": "[encoded data removed]"
    }
   },
   "cell_type": "markdown",
   "id": "young-corpus",
   "metadata": {},
   "source": [
    "일단 행렬이 뭔지 아시는 것을 가정하고 설명하겠습니다.  \n",
    "\n",
    "\n",
    "행과 열을 뒤바꾸는 것이 전치 행렬인데요.  \n",
    "\n",
    "![image.png](attachment:b40006d7-591f-48d3-acaf-1af3cd951fa7.png)"
   ]
  },
  {
   "cell_type": "markdown",
   "id": "insured-commission",
   "metadata": {},
   "source": [
    "엑셀로 예를 들어보면 이런 식이 되는거죠.  \n",
    "\n",
    "초록색 데이터는 [1, 2, 3, 4, 5] 로 데이터가 묶였지만  \n",
    "붉은색 데이터는 [1, 6]으로 데이터가 묶여 있죠?"
   ]
  },
  {
   "cell_type": "markdown",
   "id": "competent-communications",
   "metadata": {},
   "source": [
    "## 파이썬내장 zip 함수로 전치행렬 만들어보기"
   ]
  },
  {
   "cell_type": "code",
   "execution_count": 56,
   "id": "pointed-marshall",
   "metadata": {},
   "outputs": [
    {
     "name": "stdout",
     "output_type": "stream",
     "text": [
      "[[1, 2], [3, 4], [5, 6]]\n"
     ]
    }
   ],
   "source": [
    "이차원행렬 = [\n",
    "    [1,2],\n",
    "    [3,4],\n",
    "    [5,6]\n",
    "]\n",
    "print(이차원행렬)"
   ]
  },
  {
   "cell_type": "markdown",
   "id": "identical-negative",
   "metadata": {},
   "source": [
    "위와 같이 이차원 행렬을 하나 준비해봅니다.  \n",
    "(3x2) 크기를 갖는 이차원 행렬이군요."
   ]
  },
  {
   "cell_type": "code",
   "execution_count": 58,
   "id": "orange-plenty",
   "metadata": {},
   "outputs": [
    {
     "name": "stdout",
     "output_type": "stream",
     "text": [
      "[(1, 3, 5), (2, 4, 6)]\n"
     ]
    }
   ],
   "source": [
    "전치행렬1 = list(zip(*이차원행렬))\n",
    "print(전치행렬1)"
   ]
  },
  {
   "cell_type": "markdown",
   "id": "controversial-tragedy",
   "metadata": {},
   "source": [
    "그 다음은 엄청 쉽습니다. zip함수를 통해서 위와 같이 코드를 작성하면 끝인데요.  \n",
    "zip함수가 뭐길래 저렇게 전치행렬이 튀어나오는 걸까요?  \n",
    "\n",
    "zip함수를 좀더 자세히 다루는 포스팅을 하겠지만,  \n",
    "일단 zip 함수가 여러개의 리스트를 순서대로 짝을 맞추어 주는 역할을 한다고 이해하시면 됩니다.  \n",
    "전치행렬이 나오는게 중요하지 zip함수의 원리를 파고드는게 지금 중요하진 않아요.(코드에 있는 별표시도 지금은 신경쓰지 마세요.)  \n",
    "\n",
    "필요한 곳에 계속 사용하다 보면 자연스럽게 zip 함수의 원리를 공부하게 되실 거고,  \n",
    "오늘은 맛보기라 생각하세요."
   ]
  },
  {
   "cell_type": "markdown",
   "id": "headed-gazette",
   "metadata": {},
   "source": [
    "## zip함수 없이 전치행렬 만들기?\n",
    "\n",
    "전치행렬을 성공적으로 만들었는데, 만약 zip함수를 안쓰고 만들고 싶다면 어떻게 할까요?"
   ]
  },
  {
   "cell_type": "code",
   "execution_count": 60,
   "id": "arbitrary-convert",
   "metadata": {},
   "outputs": [
    {
     "data": {
      "text/plain": [
       "[[1, 3, 5], [2, 4, 6]]"
      ]
     },
     "execution_count": 60,
     "metadata": {},
     "output_type": "execute_result"
    }
   ],
   "source": [
    "## for문 최대원소기준##\n",
    "전치행렬2 = []\n",
    "row_num = len(이차원행렬)\n",
    "col_num = max([len(a) for a in 이차원행렬])\n",
    "\n",
    "for x in range(col_num):\n",
    "    tmp = []\n",
    "    for y in range(row_num):\n",
    "        try:\n",
    "            tmp.append(이차원행렬[y][x])\n",
    "        except:\n",
    "            tmp.append(0)\n",
    "    전치행렬2.append(tmp)\n",
    "        \n",
    "전치행렬2"
   ]
  },
  {
   "cell_type": "markdown",
   "id": "trying-dallas",
   "metadata": {},
   "source": [
    "짠, 이렇게 코드를 짜면 됩니다!  \n",
    "\n",
    "그런데 이 코드는 zip 함수를 써서 만드는 전치행렬과는 조금 다르게 구현했는데요.  \n",
    "가끔 필요할 때가 있어서 이렇게 만들었습니다.  \n",
    "\n",
    "어떻게 다르냐고요?"
   ]
  },
  {
   "cell_type": "code",
   "execution_count": 61,
   "id": "distributed-coral",
   "metadata": {},
   "outputs": [
    {
     "name": "stdout",
     "output_type": "stream",
     "text": [
      "[[1, 2], [3, 4], [5, 6, 7]]\n"
     ]
    }
   ],
   "source": [
    "이차원행렬 = [\n",
    "    [1,2],\n",
    "    [3,4],\n",
    "    [5,6,7]\n",
    "]\n",
    "print(이차원행렬)"
   ]
  },
  {
   "cell_type": "markdown",
   "id": "viral-sydney",
   "metadata": {},
   "source": [
    "이차원행렬의 구성을 이렇게 바꿔볼게요. 각 행의 원소들 갯수가 다르죠?"
   ]
  },
  {
   "cell_type": "code",
   "execution_count": 62,
   "id": "presidential-champion",
   "metadata": {},
   "outputs": [
    {
     "name": "stdout",
     "output_type": "stream",
     "text": [
      "[(1, 3, 5), (2, 4, 6)]\n"
     ]
    }
   ],
   "source": [
    "전치행렬3 = list(zip(*이차원행렬))\n",
    "print(전치행렬3)"
   ]
  },
  {
   "cell_type": "markdown",
   "id": "arabic-franchise",
   "metadata": {},
   "source": [
    "그런데 zip 함수로 전치행렬을 구해보면 다음과 같이 7이 무시된 채로 행렬이 반환됩니다.  \n",
    "왜냐하면 zip함수는 매칭하는 함수이기 때문에, 작은 원소를 가진 행을 기준으로 전치행렬을 만들기 때문이죠.  \n",
    "\n",
    "그런데 사실 이렇게 되면 가지고 있던 데이터의 일부가 손실되는 꼴이니  \n",
    "사용자의 의도와는 조금 다른 코드가 될 수 있습니다."
   ]
  },
  {
   "cell_type": "code",
   "execution_count": 63,
   "id": "actual-johnson",
   "metadata": {},
   "outputs": [
    {
     "data": {
      "text/plain": [
       "[[1, 3, 5], [2, 4, 6], [0, 0, 7]]"
      ]
     },
     "execution_count": 63,
     "metadata": {},
     "output_type": "execute_result"
    }
   ],
   "source": [
    "## for문 최대원소기준##\n",
    "전치행렬4 = []\n",
    "row_num = len(이차원행렬)\n",
    "col_num = max([len(a) for a in 이차원행렬])\n",
    "\n",
    "for x in range(col_num):\n",
    "    tmp = []\n",
    "    for y in range(row_num):\n",
    "        try:\n",
    "            tmp.append(이차원행렬[y][x])\n",
    "        except:\n",
    "            tmp.append(0)\n",
    "    전치행렬4.append(tmp)\n",
    "        \n",
    "전치행렬4"
   ]
  },
  {
   "cell_type": "markdown",
   "id": "saving-stationery",
   "metadata": {},
   "source": [
    "그런데 제가 아까 for문을 사용해서 만든 코드를 실행하면,  \n",
    "짝 지을 원소가 없어서 누락되었던 7도 결과값으로 들어가고, 공석이 될 수 밖에 없는 자리는 0으로 채워져 있죠?  \n",
    "\n",
    "이렇게 최대원소 기준으로 전치행렬을 만들어야 할 상황이 있어서, 코드를 이렇게 짜 봤습니다.\n",
    "\n",
    "코드를 함수로 만들어 재사용성을 높혀볼까요?"
   ]
  },
  {
   "cell_type": "code",
   "execution_count": 64,
   "id": "front-church",
   "metadata": {},
   "outputs": [],
   "source": [
    "def 최대전치(이차원행렬):\n",
    "    전치행렬 = []\n",
    "    row_num = len(이차원행렬)\n",
    "    col_num = max([len(a) for a in 이차원행렬])\n",
    "\n",
    "    for x in range(col_num):\n",
    "        tmp = []\n",
    "        for y in range(row_num):\n",
    "            try:\n",
    "                tmp.append(이차원행렬[y][x])\n",
    "            except:\n",
    "                tmp.append(0)\n",
    "        전치행렬.append(tmp)\n",
    "\n",
    "    return 전치행렬"
   ]
  },
  {
   "cell_type": "markdown",
   "id": "statutory-summary",
   "metadata": {},
   "source": [
    "함수로 만들었으니 테스트 해보겠습니다."
   ]
  },
  {
   "cell_type": "code",
   "execution_count": 65,
   "id": "extraordinary-smoke",
   "metadata": {},
   "outputs": [
    {
     "name": "stdout",
     "output_type": "stream",
     "text": [
      "[[1, 3, 5], [2, 4, 6], [0, 0, 7]]\n"
     ]
    }
   ],
   "source": [
    "전치행렬5 = 최대전치(이차원행렬)\n",
    "print(전치행렬5)"
   ]
  },
  {
   "cell_type": "markdown",
   "id": "royal-asbestos",
   "metadata": {},
   "source": [
    "잘 되는 군요!!! 꼭 한번 따라서 코드를 작성해 보세요!!"
   ]
  },
  {
   "cell_type": "code",
   "execution_count": null,
   "id": "preceding-bonus",
   "metadata": {},
   "outputs": [],
   "source": []
  }
 ],
 "metadata": {
  "kernelspec": {
   "display_name": "Python 3",
   "language": "python",
   "name": "python3"
  },
  "language_info": {
   "codemirror_mode": {
    "name": "ipython",
    "version": 3
   },
   "file_extension": ".py",
   "mimetype": "text/x-python",
   "name": "python",
   "nbconvert_exporter": "python",
   "pygments_lexer": "ipython3",
   "version": "3.8.8"
  }
 },
 "nbformat": 4,
 "nbformat_minor": 5
}
