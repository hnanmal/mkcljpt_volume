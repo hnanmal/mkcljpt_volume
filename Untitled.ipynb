{
 "cells": [
  {
   "cell_type": "code",
   "execution_count": 1,
   "id": "fifty-shirt",
   "metadata": {},
   "outputs": [],
   "source": [
    "mk = lambda a: lambda b: a + b"
   ]
  },
  {
   "cell_type": "code",
   "execution_count": 2,
   "id": "speaking-greece",
   "metadata": {},
   "outputs": [
    {
     "data": {
      "text/plain": [
       "3"
      ]
     },
     "execution_count": 2,
     "metadata": {},
     "output_type": "execute_result"
    }
   ],
   "source": [
    "mk(1)(2)"
   ]
  },
  {
   "cell_type": "code",
   "execution_count": 3,
   "id": "sunrise-resident",
   "metadata": {},
   "outputs": [
    {
     "data": {
      "text/plain": [
       "{'__name__': '__main__',\n",
       " '__doc__': 'Automatically created module for IPython interactive environment',\n",
       " '__package__': None,\n",
       " '__loader__': None,\n",
       " '__spec__': None,\n",
       " '__builtin__': <module 'builtins' (built-in)>,\n",
       " '__builtins__': <module 'builtins' (built-in)>,\n",
       " '_ih': ['', 'mk = lambda a: lambda b: a + b', 'mk(1)(2)', 'globals()'],\n",
       " '_oh': {2: 3},\n",
       " '_dh': ['/home/jovyan/notebooks'],\n",
       " 'In': ['', 'mk = lambda a: lambda b: a + b', 'mk(1)(2)', 'globals()'],\n",
       " 'Out': {2: 3},\n",
       " 'get_ipython': <bound method InteractiveShell.get_ipython of <ipykernel.zmqshell.ZMQInteractiveShell object at 0x7f9f57a15370>>,\n",
       " 'exit': <IPython.core.autocall.ZMQExitAutocall at 0x7f9f541885b0>,\n",
       " 'quit': <IPython.core.autocall.ZMQExitAutocall at 0x7f9f541885b0>,\n",
       " '_': 3,\n",
       " '__': '',\n",
       " '___': '',\n",
       " '_i': 'mk(1)(2)',\n",
       " '_ii': 'mk = lambda a: lambda b: a + b',\n",
       " '_iii': '',\n",
       " '_i1': 'mk = lambda a: lambda b: a + b',\n",
       " 'mk': <function __main__.<lambda>(a)>,\n",
       " '_i2': 'mk(1)(2)',\n",
       " '_2': 3,\n",
       " '_i3': 'globals()'}"
      ]
     },
     "execution_count": 3,
     "metadata": {},
     "output_type": "execute_result"
    }
   ],
   "source": [
    "globals()"
   ]
  },
  {
   "cell_type": "code",
   "execution_count": 4,
   "id": "novel-comedy",
   "metadata": {},
   "outputs": [
    {
     "data": {
      "text/plain": [
       "{'__name__': '__main__',\n",
       " '__doc__': 'Automatically created module for IPython interactive environment',\n",
       " '__package__': None,\n",
       " '__loader__': None,\n",
       " '__spec__': None,\n",
       " '__builtin__': <module 'builtins' (built-in)>,\n",
       " '__builtins__': <module 'builtins' (built-in)>,\n",
       " '_ih': ['',\n",
       "  'mk = lambda a: lambda b: a + b',\n",
       "  'mk(1)(2)',\n",
       "  'globals()',\n",
       "  'locals()'],\n",
       " '_oh': {2: 3, 3: {...}},\n",
       " '_dh': ['/home/jovyan/notebooks'],\n",
       " 'In': ['',\n",
       "  'mk = lambda a: lambda b: a + b',\n",
       "  'mk(1)(2)',\n",
       "  'globals()',\n",
       "  'locals()'],\n",
       " 'Out': {2: 3, 3: {...}},\n",
       " 'get_ipython': <bound method InteractiveShell.get_ipython of <ipykernel.zmqshell.ZMQInteractiveShell object at 0x7f9f57a15370>>,\n",
       " 'exit': <IPython.core.autocall.ZMQExitAutocall at 0x7f9f541885b0>,\n",
       " 'quit': <IPython.core.autocall.ZMQExitAutocall at 0x7f9f541885b0>,\n",
       " '_': {...},\n",
       " '__': 3,\n",
       " '___': '',\n",
       " '_i': 'globals()',\n",
       " '_ii': 'mk(1)(2)',\n",
       " '_iii': 'mk = lambda a: lambda b: a + b',\n",
       " '_i1': 'mk = lambda a: lambda b: a + b',\n",
       " 'mk': <function __main__.<lambda>(a)>,\n",
       " '_i2': 'mk(1)(2)',\n",
       " '_2': 3,\n",
       " '_i3': 'globals()',\n",
       " '_3': {...},\n",
       " '_i4': 'locals()'}"
      ]
     },
     "execution_count": 4,
     "metadata": {},
     "output_type": "execute_result"
    }
   ],
   "source": [
    "locals()"
   ]
  },
  {
   "cell_type": "code",
   "execution_count": null,
   "id": "careful-booking",
   "metadata": {},
   "outputs": [],
   "source": []
  }
 ],
 "metadata": {
  "kernelspec": {
   "display_name": "Python 3",
   "language": "python",
   "name": "python3"
  },
  "language_info": {
   "codemirror_mode": {
    "name": "ipython",
    "version": 3
   },
   "file_extension": ".py",
   "mimetype": "text/x-python",
   "name": "python",
   "nbconvert_exporter": "python",
   "pygments_lexer": "ipython3",
   "version": "3.8.8"
  }
 },
 "nbformat": 4,
 "nbformat_minor": 5
}
