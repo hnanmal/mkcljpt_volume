{
 "cells": [
  {
   "cell_type": "code",
   "execution_count": 110,
   "id": "instant-sleep",
   "metadata": {},
   "outputs": [
    {
     "data": {
      "text/plain": [
       "nil"
      ]
     },
     "execution_count": 110,
     "metadata": {},
     "output_type": "execute_result"
    }
   ],
   "source": [
    "; Comments start with semicolons.\n",
    "\n",
    "; Clojure is written in \"forms\", which are just\n",
    "; lists of things inside parentheses, separated by whitespace.\n",
    ";\n",
    "; The clojure reader  assumes that the first thing is a\n",
    "; function or macro to call, and the rest are arguments.\n",
    ";\n",
    "; Here's a function that sets the current namespace:\n",
    "(ns test)"
   ]
  },
  {
   "cell_type": "code",
   "execution_count": 111,
   "id": "capable-waterproof",
   "metadata": {},
   "outputs": [
    {
     "data": {
      "text/plain": [
       "\"Hello World\""
      ]
     },
     "execution_count": 111,
     "metadata": {},
     "output_type": "execute_result"
    }
   ],
   "source": [
    "; More basic examples:\n",
    "\n",
    "; str will create a string out of all its arguments\n",
    "(str \"Hello\" \" \" \"World\")"
   ]
  },
  {
   "cell_type": "code",
   "execution_count": 112,
   "id": "established-collection",
   "metadata": {},
   "outputs": [
    {
     "data": {
      "text/plain": [
       "2"
      ]
     },
     "execution_count": 112,
     "metadata": {},
     "output_type": "execute_result"
    }
   ],
   "source": [
    "; Math is straightforward\n",
    "(+ 1 1) ; => 2\n",
    "(- 2 1) ; => 1\n",
    "(* 1 2) ; => 2\n",
    "(/ 2 1) ; => 2"
   ]
  },
  {
   "cell_type": "code",
   "execution_count": 113,
   "id": "continental-speaker",
   "metadata": {},
   "outputs": [
    {
     "data": {
      "text/plain": [
       "true"
      ]
     },
     "execution_count": 113,
     "metadata": {},
     "output_type": "execute_result"
    }
   ],
   "source": [
    "; Equality is =\n",
    "(= 1 1) ; => true"
   ]
  },
  {
   "cell_type": "code",
   "execution_count": 114,
   "id": "blank-venice",
   "metadata": {},
   "outputs": [
    {
     "data": {
      "text/plain": [
       "false"
      ]
     },
     "execution_count": 114,
     "metadata": {},
     "output_type": "execute_result"
    }
   ],
   "source": [
    "(= 2 1) ; => false"
   ]
  },
  {
   "cell_type": "code",
   "execution_count": 115,
   "id": "friendly-delight",
   "metadata": {},
   "outputs": [
    {
     "data": {
      "text/plain": [
       "false"
      ]
     },
     "execution_count": 115,
     "metadata": {},
     "output_type": "execute_result"
    }
   ],
   "source": [
    "; You need not for logic, too\n",
    "(not true) ; => false"
   ]
  },
  {
   "cell_type": "code",
   "execution_count": 116,
   "id": "korean-stability",
   "metadata": {},
   "outputs": [
    {
     "data": {
      "text/plain": [
       "2"
      ]
     },
     "execution_count": 116,
     "metadata": {},
     "output_type": "execute_result"
    }
   ],
   "source": [
    "; Nesting forms works as you expect\n",
    "(+ 1 (- 3 2)) ; = 1 + (3 - 2) => 2"
   ]
  },
  {
   "cell_type": "code",
   "execution_count": 117,
   "id": "unique-equipment",
   "metadata": {},
   "outputs": [],
   "source": [
    "; Clojure uses Java's object types for booleans, strings and numbers.\n",
    "; Use `class` to inspect them."
   ]
  },
  {
   "cell_type": "code",
   "execution_count": 118,
   "id": "artificial-creator",
   "metadata": {},
   "outputs": [
    {
     "data": {
      "text/plain": [
       "java.lang.Long"
      ]
     },
     "execution_count": 118,
     "metadata": {},
     "output_type": "execute_result"
    }
   ],
   "source": [
    "(class 1)"
   ]
  },
  {
   "cell_type": "code",
   "execution_count": 119,
   "id": "conscious-reset",
   "metadata": {},
   "outputs": [
    {
     "data": {
      "text/plain": [
       "java.lang.Double"
      ]
     },
     "execution_count": 119,
     "metadata": {},
     "output_type": "execute_result"
    }
   ],
   "source": [
    "(class 1.)"
   ]
  },
  {
   "cell_type": "code",
   "execution_count": 120,
   "id": "connected-conjunction",
   "metadata": {},
   "outputs": [
    {
     "data": {
      "text/plain": [
       "java.lang.String"
      ]
     },
     "execution_count": 120,
     "metadata": {},
     "output_type": "execute_result"
    }
   ],
   "source": [
    "(class \"\"); Strings always double-quoted, and are java.lang.String"
   ]
  },
  {
   "cell_type": "code",
   "execution_count": 121,
   "id": "peaceful-simon",
   "metadata": {},
   "outputs": [
    {
     "data": {
      "text/plain": [
       "java.lang.Boolean"
      ]
     },
     "execution_count": 121,
     "metadata": {},
     "output_type": "execute_result"
    }
   ],
   "source": [
    "(class false) ; Booleans are java.lang.Boolean"
   ]
  },
  {
   "cell_type": "code",
   "execution_count": 122,
   "id": "vietnamese-oliver",
   "metadata": {},
   "outputs": [
    {
     "data": {
      "text/plain": [
       "nil"
      ]
     },
     "execution_count": 122,
     "metadata": {},
     "output_type": "execute_result"
    }
   ],
   "source": [
    "(class nil); The \"null\" value is called nil"
   ]
  },
  {
   "cell_type": "code",
   "execution_count": 123,
   "id": "aerial-lambda",
   "metadata": {},
   "outputs": [
    {
     "data": {
      "text/plain": [
       "(+ 1 2)"
      ]
     },
     "execution_count": 123,
     "metadata": {},
     "output_type": "execute_result"
    }
   ],
   "source": [
    "; If you want to create a literal list of data, use ' to make a \"symbol\"\n",
    "'(+ 1 2) ; => (+ 1 2)"
   ]
  },
  {
   "cell_type": "code",
   "execution_count": 124,
   "id": "optical-tracy",
   "metadata": {},
   "outputs": [
    {
     "data": {
      "text/plain": [
       "3"
      ]
     },
     "execution_count": 124,
     "metadata": {},
     "output_type": "execute_result"
    }
   ],
   "source": [
    "; You can eval symbols.\n",
    "(eval '(+ 1 2)) ; => 3"
   ]
  },
  {
   "cell_type": "code",
   "execution_count": 125,
   "id": "graduate-tolerance",
   "metadata": {},
   "outputs": [
    {
     "data": {
      "text/plain": [
       "clojure.lang.PersistentVector"
      ]
     },
     "execution_count": 125,
     "metadata": {},
     "output_type": "execute_result"
    }
   ],
   "source": [
    "; Vectors and Lists are java classes too!\n",
    "(class [1 2 3]); => clojure.lang.PersistentVector"
   ]
  },
  {
   "cell_type": "code",
   "execution_count": 126,
   "id": "necessary-chamber",
   "metadata": {},
   "outputs": [
    {
     "data": {
      "text/plain": [
       "clojure.lang.PersistentList"
      ]
     },
     "execution_count": 126,
     "metadata": {},
     "output_type": "execute_result"
    }
   ],
   "source": [
    "(class '(1 2 3)); => clojure.lang.PersistentList\n",
    "\n",
    "; A list would be written as just (1 2 3), but we have to quote\n",
    "; it to stop the reader thinking it's a function.\n",
    "; Also, (list 1 2 3) is the same as '(1 2 3)"
   ]
  },
  {
   "cell_type": "code",
   "execution_count": 127,
   "id": "disabled-patio",
   "metadata": {},
   "outputs": [
    {
     "data": {
      "text/plain": [
       "true"
      ]
     },
     "execution_count": 127,
     "metadata": {},
     "output_type": "execute_result"
    }
   ],
   "source": [
    "; Both lists and vectors are collections:\n",
    "(coll? '(1 2 3)) ; => true"
   ]
  },
  {
   "cell_type": "code",
   "execution_count": 128,
   "id": "instant-factory",
   "metadata": {},
   "outputs": [
    {
     "data": {
      "text/plain": [
       "true"
      ]
     },
     "execution_count": 128,
     "metadata": {},
     "output_type": "execute_result"
    }
   ],
   "source": [
    "(coll? [1 2 3]) ; => true"
   ]
  },
  {
   "cell_type": "code",
   "execution_count": 129,
   "id": "wrapped-advocate",
   "metadata": {},
   "outputs": [
    {
     "data": {
      "text/plain": [
       "true"
      ]
     },
     "execution_count": 129,
     "metadata": {},
     "output_type": "execute_result"
    }
   ],
   "source": [
    "; Only lists are seqs.\n",
    "(seq? '(1 2 3)) ; => true"
   ]
  },
  {
   "cell_type": "code",
   "execution_count": 130,
   "id": "unauthorized-practice",
   "metadata": {},
   "outputs": [
    {
     "data": {
      "text/plain": [
       "false"
      ]
     },
     "execution_count": 130,
     "metadata": {},
     "output_type": "execute_result"
    }
   ],
   "source": [
    "(seq? [1 2 3]) ; => false"
   ]
  },
  {
   "cell_type": "code",
   "execution_count": 131,
   "id": "opening-atmosphere",
   "metadata": {},
   "outputs": [
    {
     "data": {
      "text/plain": [
       "(0 1 2 3)"
      ]
     },
     "execution_count": 131,
     "metadata": {},
     "output_type": "execute_result"
    }
   ],
   "source": [
    "; Seqs are an interface for logical lists, which can be lazy.\n",
    "; \"Lazy\" means that a seq can define an infinite series, like so:\n",
    "(range 4) ; => (0 1 2 3)"
   ]
  },
  {
   "cell_type": "code",
   "execution_count": 132,
   "id": "higher-pottery",
   "metadata": {},
   "outputs": [],
   "source": [
    ";; (range)\n",
    ";; (take 4 (range)) ;  (0 1 2 3)"
   ]
  },
  {
   "cell_type": "code",
   "execution_count": 133,
   "id": "technical-fetish",
   "metadata": {},
   "outputs": [
    {
     "data": {
      "text/plain": [
       "(4 1 2 3)"
      ]
     },
     "execution_count": 133,
     "metadata": {},
     "output_type": "execute_result"
    }
   ],
   "source": [
    "; Use cons to add an item to the beginning of a list or vector\n",
    "(cons 4 [1 2 3]) ; => (4 1 2 3)"
   ]
  },
  {
   "cell_type": "code",
   "execution_count": 134,
   "id": "functioning-aurora",
   "metadata": {},
   "outputs": [
    {
     "data": {
      "text/plain": [
       "(4 1 2 3)"
      ]
     },
     "execution_count": 134,
     "metadata": {},
     "output_type": "execute_result"
    }
   ],
   "source": [
    "(cons 4 '(1 2 3)) ; => (4 1 2 3)"
   ]
  },
  {
   "cell_type": "code",
   "execution_count": 135,
   "id": "divine-bruce",
   "metadata": {},
   "outputs": [
    {
     "data": {
      "text/plain": [
       "[1 2 3 4]"
      ]
     },
     "execution_count": 135,
     "metadata": {},
     "output_type": "execute_result"
    }
   ],
   "source": [
    "; Use conj to add an item to the beginning of a list,\n",
    "; or the end of a vector\n",
    "(conj [1 2 3] 4) ; => [1 2 3 4]"
   ]
  },
  {
   "cell_type": "code",
   "execution_count": 136,
   "id": "closing-rhythm",
   "metadata": {},
   "outputs": [
    {
     "data": {
      "text/plain": [
       "(4 1 2 3)"
      ]
     },
     "execution_count": 136,
     "metadata": {},
     "output_type": "execute_result"
    }
   ],
   "source": [
    "(conj '(1 2 3) 4) ; => (4 1 2 3)"
   ]
  },
  {
   "cell_type": "code",
   "execution_count": 137,
   "id": "coupled-serum",
   "metadata": {},
   "outputs": [
    {
     "data": {
      "text/plain": [
       "(1 2 3 4)"
      ]
     },
     "execution_count": 137,
     "metadata": {},
     "output_type": "execute_result"
    }
   ],
   "source": [
    "; Use concat to add lists or vectors together\n",
    "(concat [1 2] '(3 4)) ; => (1 2 3 4)"
   ]
  },
  {
   "cell_type": "code",
   "execution_count": 138,
   "id": "intensive-partition",
   "metadata": {},
   "outputs": [
    {
     "data": {
      "text/plain": [
       "3"
      ]
     },
     "execution_count": 138,
     "metadata": {},
     "output_type": "execute_result"
    }
   ],
   "source": [
    "(inc 2)"
   ]
  },
  {
   "cell_type": "code",
   "execution_count": 139,
   "id": "seven-blanket",
   "metadata": {},
   "outputs": [
    {
     "data": {
      "text/plain": [
       "(2 3 4)"
      ]
     },
     "execution_count": 139,
     "metadata": {},
     "output_type": "execute_result"
    }
   ],
   "source": [
    "; Use filter, map to interact with collections\n",
    "(map inc [1 2 3]) ; => (2 3 4)"
   ]
  },
  {
   "cell_type": "code",
   "execution_count": 140,
   "id": "deadly-appraisal",
   "metadata": {},
   "outputs": [
    {
     "data": {
      "text/plain": [
       "(2)"
      ]
     },
     "execution_count": 140,
     "metadata": {},
     "output_type": "execute_result"
    }
   ],
   "source": [
    "(filter even? [1 2 3]) ; => (2)"
   ]
  },
  {
   "cell_type": "code",
   "execution_count": 141,
   "id": "novel-longer",
   "metadata": {},
   "outputs": [
    {
     "data": {
      "text/plain": [
       "10"
      ]
     },
     "execution_count": 141,
     "metadata": {},
     "output_type": "execute_result"
    }
   ],
   "source": [
    "; Use reduce to reduce them\n",
    "(reduce + [1 2 3 4])\n",
    "; = (+ (+ (+ 1 2) 3) 4)\n",
    "; => 10"
   ]
  },
  {
   "cell_type": "code",
   "execution_count": 142,
   "id": "usual-liver",
   "metadata": {},
   "outputs": [
    {
     "data": {
      "text/plain": [
       "10"
      ]
     },
     "execution_count": 142,
     "metadata": {},
     "output_type": "execute_result"
    }
   ],
   "source": [
    "; Use reduce to reduce them\n",
    "(reduce + '(1 2 3 4))\n",
    "; = (+ (+ (+ 1 2) 3) 4)\n",
    "; => 10"
   ]
  },
  {
   "cell_type": "code",
   "execution_count": 143,
   "id": "fundamental-excuse",
   "metadata": {},
   "outputs": [
    {
     "data": {
      "text/plain": [
       "[3 2 1]"
      ]
     },
     "execution_count": 143,
     "metadata": {},
     "output_type": "execute_result"
    }
   ],
   "source": [
    "; Reduce can take an initial-value argument too\n",
    "(reduce conj [] '(3 2 1))\n",
    "; = (conj (conj (conj [] 3) 2) 1)\n",
    "; => [3 2 1]"
   ]
  },
  {
   "cell_type": "code",
   "execution_count": 144,
   "id": "defensive-producer",
   "metadata": {},
   "outputs": [
    {
     "data": {
      "text/plain": [
       "#function[test/eval4457/fn--4458]"
      ]
     },
     "execution_count": 144,
     "metadata": {},
     "output_type": "execute_result"
    }
   ],
   "source": [
    "; Use fn to create new functions. A function always returns\n",
    "; its last statement.\n",
    "(fn [] \"Hello World\") ; => fn"
   ]
  },
  {
   "cell_type": "code",
   "execution_count": 145,
   "id": "diverse-compression",
   "metadata": {},
   "outputs": [
    {
     "data": {
      "text/plain": [
       "\"Hello World\""
      ]
     },
     "execution_count": 145,
     "metadata": {},
     "output_type": "execute_result"
    }
   ],
   "source": [
    "; (You need extra parens to call it)\n",
    "((fn [] \"Hello World\")) ; => \"Hello World\""
   ]
  },
  {
   "cell_type": "code",
   "execution_count": 146,
   "id": "married-logic",
   "metadata": {},
   "outputs": [
    {
     "data": {
      "text/plain": [
       "1"
      ]
     },
     "execution_count": 146,
     "metadata": {},
     "output_type": "execute_result"
    }
   ],
   "source": [
    "; You can create a var using def\n",
    "(def x 1)\n",
    "x ; => 1"
   ]
  },
  {
   "cell_type": "code",
   "execution_count": 147,
   "id": "english-newport",
   "metadata": {},
   "outputs": [
    {
     "data": {
      "text/plain": [
       "\"Hello World\""
      ]
     },
     "execution_count": 147,
     "metadata": {},
     "output_type": "execute_result"
    }
   ],
   "source": [
    "; Assign a function to a var\n",
    "(def hello-world (fn [] \"Hello World\"))\n",
    "(hello-world) ; => \"Hello World\""
   ]
  },
  {
   "cell_type": "code",
   "execution_count": 148,
   "id": "spectacular-artwork",
   "metadata": {},
   "outputs": [
    {
     "data": {
      "text/plain": [
       "#'test/hello-world"
      ]
     },
     "execution_count": 148,
     "metadata": {},
     "output_type": "execute_result"
    }
   ],
   "source": [
    "; You can shorten this process by using defn\n",
    "(defn hello-world [] \"Hello World\")"
   ]
  },
  {
   "cell_type": "code",
   "execution_count": 149,
   "id": "boolean-opinion",
   "metadata": {},
   "outputs": [
    {
     "data": {
      "text/plain": [
       "\"Hello World\""
      ]
     },
     "execution_count": 149,
     "metadata": {},
     "output_type": "execute_result"
    }
   ],
   "source": [
    "((defn hello-world [] \"Hello World\"))"
   ]
  },
  {
   "cell_type": "code",
   "execution_count": 150,
   "id": "higher-trial",
   "metadata": {},
   "outputs": [
    {
     "data": {
      "text/plain": [
       "\"Hello Steve\""
      ]
     },
     "execution_count": 150,
     "metadata": {},
     "output_type": "execute_result"
    }
   ],
   "source": [
    "; The [] is the list of arguments for the function.\n",
    "(defn hello [name]\n",
    "  (str \"Hello \" name))\n",
    "(hello \"Steve\") ; => \"Hello Steve\""
   ]
  },
  {
   "cell_type": "code",
   "execution_count": 151,
   "id": "unlimited-anxiety",
   "metadata": {},
   "outputs": [
    {
     "data": {
      "text/plain": [
       "\"Hello Fanny\""
      ]
     },
     "execution_count": 151,
     "metadata": {},
     "output_type": "execute_result"
    }
   ],
   "source": [
    "; You can also use this shorthand to create functions:\n",
    "(def hello2 #(str \"Hello \" %1))\n",
    "(hello2 \"Fanny\") ; => \"Hello Fanny\""
   ]
  },
  {
   "cell_type": "code",
   "execution_count": 152,
   "id": "optional-solomon",
   "metadata": {},
   "outputs": [
    {
     "data": {
      "text/plain": [
       "\"Hello, Fanny Raul\""
      ]
     },
     "execution_count": 152,
     "metadata": {},
     "output_type": "execute_result"
    }
   ],
   "source": [
    "; You can also use this shorthand to create functions:\n",
    "(def hello2 #(str \"Hello, \" %1 \" \" %2))\n",
    "(hello2 \"Fanny\" \"Raul\") ; => \"Hello Fanny\""
   ]
  },
  {
   "cell_type": "code",
   "execution_count": 153,
   "id": "copyrighted-westminster",
   "metadata": {},
   "outputs": [
    {
     "data": {
      "text/plain": [
       "\"Hello World\""
      ]
     },
     "execution_count": 153,
     "metadata": {},
     "output_type": "execute_result"
    }
   ],
   "source": [
    "; You can have multi-variadic functions, too\n",
    "(defn hello3\n",
    "  ([] \"Hello World\")\n",
    "  ([name] (str \"Hello \" name)))\n",
    "(hello3 \"Jake\") ; => \"Hello Jake\"\n",
    "(hello3) ; => \"Hello World\""
   ]
  },
  {
   "cell_type": "code",
   "execution_count": 154,
   "id": "downtown-amount",
   "metadata": {},
   "outputs": [
    {
     "data": {
      "text/plain": [
       "\"You passed 3 args: (1 2 3)\""
      ]
     },
     "execution_count": 154,
     "metadata": {},
     "output_type": "execute_result"
    }
   ],
   "source": [
    "; Functions can pack extra arguments up in a seq for you\n",
    "(defn count-args [& args]\n",
    "  (str \"You passed \" (count args) \" args: \" args))\n",
    "(count-args 1 2 3) ; => \"You passed 3 args: (1 2 3)\""
   ]
  },
  {
   "cell_type": "code",
   "execution_count": 155,
   "id": "selective-jumping",
   "metadata": {},
   "outputs": [
    {
     "data": {
      "text/plain": [
       "\"You passed 5 args: (1 2 3 5 7)\""
      ]
     },
     "execution_count": 155,
     "metadata": {},
     "output_type": "execute_result"
    }
   ],
   "source": [
    "(count-args 1 2 3 5 7)"
   ]
  },
  {
   "cell_type": "code",
   "execution_count": 156,
   "id": "technical-column",
   "metadata": {},
   "outputs": [
    {
     "data": {
      "text/plain": [
       "\"Hello Finn, you passed 3 extra args\""
      ]
     },
     "execution_count": 156,
     "metadata": {},
     "output_type": "execute_result"
    }
   ],
   "source": [
    "; You can mix regular and packed arguments\n",
    "(defn hello-count [name & args]\n",
    "  (str \"Hello \" name \", you passed \" (count args) \" extra args\"))\n",
    "(hello-count \"Finn\" 1 2 3)\n",
    "; => \"Hello Finn, you passed 3 extra args\""
   ]
  },
  {
   "cell_type": "code",
   "execution_count": 157,
   "id": "twenty-watson",
   "metadata": {},
   "outputs": [
    {
     "data": {
      "text/plain": [
       "clojure.lang.PersistentArrayMap"
      ]
     },
     "execution_count": 157,
     "metadata": {},
     "output_type": "execute_result"
    }
   ],
   "source": [
    "; Hashmaps\n",
    ";;;;;;;;;;\n",
    "\n",
    "(class {:a 1 :b 2 :c 3}) ; => clojure.lang.PersistentArrayMap"
   ]
  },
  {
   "cell_type": "code",
   "execution_count": 158,
   "id": "blind-weight",
   "metadata": {},
   "outputs": [
    {
     "data": {
      "text/plain": [
       "clojure.lang.Keyword"
      ]
     },
     "execution_count": 158,
     "metadata": {},
     "output_type": "execute_result"
    }
   ],
   "source": [
    "; Keywords are like strings with some efficiency bonuses\n",
    "(class :a) ; => clojure.lang.Keyword"
   ]
  },
  {
   "cell_type": "code",
   "execution_count": 159,
   "id": "signed-atmosphere",
   "metadata": {},
   "outputs": [
    {
     "data": {
      "text/plain": [
       "{\"a\" 1, \"b\" 2, \"c\" 3}"
      ]
     },
     "execution_count": 159,
     "metadata": {},
     "output_type": "execute_result"
    }
   ],
   "source": [
    "; Maps can use any type as a key, but usually keywords are best\n",
    "(def stringmap (hash-map \"a\" 1, \"b\" 2, \"c\" 3))\n",
    "stringmap  ; => {\"a\" 1, \"b\" 2, \"c\" 3}"
   ]
  },
  {
   "cell_type": "code",
   "execution_count": 160,
   "id": "sapphire-literacy",
   "metadata": {},
   "outputs": [
    {
     "data": {
      "text/plain": [
       "{\"a\" 1, \"b\" 2, \"c\" 3}"
      ]
     },
     "execution_count": 160,
     "metadata": {},
     "output_type": "execute_result"
    }
   ],
   "source": [
    "stringmap"
   ]
  },
  {
   "cell_type": "code",
   "execution_count": 161,
   "id": "regulated-medicare",
   "metadata": {},
   "outputs": [
    {
     "data": {
      "text/plain": [
       "{:c 3, :b 2, :a 1}"
      ]
     },
     "execution_count": 161,
     "metadata": {},
     "output_type": "execute_result"
    }
   ],
   "source": [
    "(def keymap (hash-map :a 1 :b 2 :c 3))\n",
    "keymap ; => {:a 1, :c 3, :b 2} (order is not guaranteed)"
   ]
  },
  {
   "cell_type": "code",
   "execution_count": 162,
   "id": "breeding-mailman",
   "metadata": {},
   "outputs": [
    {
     "data": {
      "text/plain": [
       "1"
      ]
     },
     "execution_count": 162,
     "metadata": {},
     "output_type": "execute_result"
    }
   ],
   "source": [
    "; By the way, commas are always treated as whitespace and do nothing.\n",
    "\n",
    "; Retrieve a value from a map by calling it as a function\n",
    "(stringmap \"a\") ; => 1"
   ]
  },
  {
   "cell_type": "code",
   "execution_count": 163,
   "id": "lesser-snowboard",
   "metadata": {},
   "outputs": [
    {
     "data": {
      "text/plain": [
       "1"
      ]
     },
     "execution_count": 163,
     "metadata": {},
     "output_type": "execute_result"
    }
   ],
   "source": [
    "(keymap :a) ; => 1"
   ]
  },
  {
   "cell_type": "code",
   "execution_count": 164,
   "id": "every-scott",
   "metadata": {},
   "outputs": [
    {
     "data": {
      "text/plain": [
       "2"
      ]
     },
     "execution_count": 164,
     "metadata": {},
     "output_type": "execute_result"
    }
   ],
   "source": [
    "; Keywords can be used to retrieve their value from a map, too!\n",
    "(:b keymap) ; => 2\n",
    "\n",
    "; Don't try this with strings.\n",
    ";(\"a\" stringmap)\n",
    "; => Exception: java.lang.String cannot be cast to clojure.lang.IFn"
   ]
  },
  {
   "cell_type": "code",
   "execution_count": 165,
   "id": "leading-lawsuit",
   "metadata": {},
   "outputs": [
    {
     "data": {
      "text/plain": [
       "nil"
      ]
     },
     "execution_count": 165,
     "metadata": {},
     "output_type": "execute_result"
    }
   ],
   "source": [
    "; Retrieving a non-present value returns nil\n",
    "(stringmap \"d\") ; => nil"
   ]
  },
  {
   "cell_type": "code",
   "execution_count": 166,
   "id": "capable-graham",
   "metadata": {},
   "outputs": [
    {
     "data": {
      "text/plain": [
       "{:c 3, :b 2, :d 4, :a 1}"
      ]
     },
     "execution_count": 166,
     "metadata": {},
     "output_type": "execute_result"
    }
   ],
   "source": [
    "; Use assoc to add new keys to hash-maps\n",
    "(def keymap_new (assoc keymap :d 4)) ; => {:a 1, :b 2, :c 3, :d 4}\n",
    "keymap_new"
   ]
  },
  {
   "cell_type": "code",
   "execution_count": 167,
   "id": "coordinated-promise",
   "metadata": {},
   "outputs": [
    {
     "data": {
      "text/plain": [
       "{:c 3, :b 2, :a 1}"
      ]
     },
     "execution_count": 167,
     "metadata": {},
     "output_type": "execute_result"
    }
   ],
   "source": [
    "; But remember, clojure types are immutable!\n",
    "keymap ; => {:a 1, :b 2, :c 3}"
   ]
  },
  {
   "cell_type": "code",
   "execution_count": 168,
   "id": "proper-vintage",
   "metadata": {},
   "outputs": [
    {
     "data": {
      "text/plain": [
       "{:c 3}"
      ]
     },
     "execution_count": 168,
     "metadata": {},
     "output_type": "execute_result"
    }
   ],
   "source": [
    "(dissoc keymap :a :b) ; => {:c 3}"
   ]
  },
  {
   "cell_type": "code",
   "execution_count": 169,
   "id": "fourth-blair",
   "metadata": {},
   "outputs": [
    {
     "data": {
      "text/plain": [
       "{:c 3, :b 2, :a 1}"
      ]
     },
     "execution_count": 169,
     "metadata": {},
     "output_type": "execute_result"
    }
   ],
   "source": [
    "keymap"
   ]
  },
  {
   "cell_type": "code",
   "execution_count": 170,
   "id": "mexican-still",
   "metadata": {},
   "outputs": [
    {
     "data": {
      "text/plain": [
       "clojure.lang.PersistentHashSet"
      ]
     },
     "execution_count": 170,
     "metadata": {},
     "output_type": "execute_result"
    }
   ],
   "source": [
    "; Sets\n",
    ";;;;;;\n",
    "\n",
    "(class #{1 2 3}) ; => clojure.lang.PersistentHashSet"
   ]
  },
  {
   "cell_type": "code",
   "execution_count": 171,
   "id": "blessed-joyce",
   "metadata": {},
   "outputs": [
    {
     "data": {
      "text/plain": [
       "#{1 3 2}"
      ]
     },
     "execution_count": 171,
     "metadata": {},
     "output_type": "execute_result"
    }
   ],
   "source": [
    "(set [1 2 3 1 2 3 3 2 1 3 2 1]) ; => #{1 2 3}  *순서?"
   ]
  },
  {
   "cell_type": "code",
   "execution_count": 172,
   "id": "sealed-politics",
   "metadata": {},
   "outputs": [
    {
     "data": {
      "text/plain": [
       "#{1 4 3 2}"
      ]
     },
     "execution_count": 172,
     "metadata": {},
     "output_type": "execute_result"
    }
   ],
   "source": [
    "; Add a member with conj\n",
    "(conj #{1 2 3} 4) ; => #{1 2 3 4}  *순서?"
   ]
  },
  {
   "cell_type": "code",
   "execution_count": 173,
   "id": "independent-grant",
   "metadata": {},
   "outputs": [
    {
     "data": {
      "text/plain": [
       "#{3 2}"
      ]
     },
     "execution_count": 173,
     "metadata": {},
     "output_type": "execute_result"
    }
   ],
   "source": [
    "; Remove one with disj\n",
    "(disj #{1 2 3} 1) ; => #{2 3}"
   ]
  },
  {
   "cell_type": "code",
   "execution_count": 174,
   "id": "antique-andorra",
   "metadata": {},
   "outputs": [
    {
     "data": {
      "text/plain": [
       "1"
      ]
     },
     "execution_count": 174,
     "metadata": {},
     "output_type": "execute_result"
    }
   ],
   "source": [
    "; Test for existence by using the set as a function:\n",
    "(#{1 2 3} 1) ; => 1"
   ]
  },
  {
   "cell_type": "code",
   "execution_count": 175,
   "id": "pharmaceutical-tiger",
   "metadata": {},
   "outputs": [
    {
     "data": {
      "text/plain": [
       "nil"
      ]
     },
     "execution_count": 175,
     "metadata": {},
     "output_type": "execute_result"
    }
   ],
   "source": [
    "(#{1 2 3} 4) ; => nil"
   ]
  },
  {
   "cell_type": "code",
   "execution_count": 176,
   "id": "false-webcam",
   "metadata": {},
   "outputs": [
    {
     "data": {
      "text/plain": [
       "\"b\""
      ]
     },
     "execution_count": 176,
     "metadata": {},
     "output_type": "execute_result"
    }
   ],
   "source": [
    "; There are more functions in the clojure.sets namespace.\n",
    "\n",
    "; Useful forms\n",
    ";;;;;;;;;;;;;;;;;\n",
    "\n",
    "; Logic constructs in clojure are just macros, and look like\n",
    "; everything else\n",
    "(if false \"a\" \"b\") ; => \"b\""
   ]
  },
  {
   "cell_type": "code",
   "execution_count": 177,
   "id": "portable-claim",
   "metadata": {},
   "outputs": [
    {
     "data": {
      "text/plain": [
       "nil"
      ]
     },
     "execution_count": 177,
     "metadata": {},
     "output_type": "execute_result"
    }
   ],
   "source": [
    "(if false \"a\") ; => nil"
   ]
  },
  {
   "cell_type": "code",
   "execution_count": 178,
   "id": "otherwise-badge",
   "metadata": {},
   "outputs": [
    {
     "data": {
      "text/plain": [
       "false"
      ]
     },
     "execution_count": 178,
     "metadata": {},
     "output_type": "execute_result"
    }
   ],
   "source": [
    "; Use let to create temporary bindings\n",
    "(let [a 1 b 2]\n",
    "  (> a b)) ; => false"
   ]
  },
  {
   "cell_type": "code",
   "execution_count": 179,
   "id": "miniature-croatia",
   "metadata": {},
   "outputs": [
    {
     "name": "stdout",
     "output_type": "stream",
     "text": [
      "Hello"
     ]
    },
    {
     "data": {
      "text/plain": [
       "\"World\""
      ]
     },
     "execution_count": 179,
     "metadata": {},
     "output_type": "execute_result"
    }
   ],
   "source": [
    "; Group statements together with do\n",
    "(do\n",
    "  (print \"Hello\")\n",
    "  \"World\") ; => \"World\" (prints \"Hello\")"
   ]
  },
  {
   "cell_type": "code",
   "execution_count": 180,
   "id": "local-junction",
   "metadata": {},
   "outputs": [
    {
     "name": "stdout",
     "output_type": "stream",
     "text": [
      "Saying hello to Jeff"
     ]
    },
    {
     "data": {
      "text/plain": [
       "\"Hello Jeff\""
      ]
     },
     "execution_count": 180,
     "metadata": {},
     "output_type": "execute_result"
    }
   ],
   "source": [
    "; Functions have an implicit do\n",
    "(defn print-and-say-hello [name]\n",
    "  (print \"Saying hello to\" name)\n",
    "  (str \"Hello \" name))\n",
    "(print-and-say-hello \"Jeff\") ;=> \"Hello Jeff\" (prints \"Saying hello to Jeff\")"
   ]
  },
  {
   "cell_type": "code",
   "execution_count": 181,
   "id": "built-egypt",
   "metadata": {},
   "outputs": [
    {
     "name": "stdout",
     "output_type": "stream",
     "text": [
      "Saying hello to  Urkel"
     ]
    },
    {
     "data": {
      "text/plain": [
       "\"Hello Urkel\""
      ]
     },
     "execution_count": 181,
     "metadata": {},
     "output_type": "execute_result"
    }
   ],
   "source": [
    "; So does let\n",
    "(let [name \"Urkel\"]\n",
    "  (print \"Saying hello to \" name)\n",
    "  (str \"Hello \" name)) ; => \"Hello Urkel\" (prints \"Saying hello to Urkel\")"
   ]
  },
  {
   "cell_type": "code",
   "execution_count": 182,
   "id": "accomplished-residence",
   "metadata": {},
   "outputs": [
    {
     "data": {
      "text/plain": [
       "nil"
      ]
     },
     "execution_count": 182,
     "metadata": {},
     "output_type": "execute_result"
    }
   ],
   "source": [
    "; Modules\n",
    ";;;;;;;;;;;;;;;\n",
    "\n",
    "; Use \"use\" to get all functions from the module\n",
    "(use 'clojure.set)"
   ]
  },
  {
   "cell_type": "code",
   "execution_count": 183,
   "id": "major-consideration",
   "metadata": {},
   "outputs": [
    {
     "data": {
      "text/plain": [
       "#{3 2}"
      ]
     },
     "execution_count": 183,
     "metadata": {},
     "output_type": "execute_result"
    }
   ],
   "source": [
    "; Now we can use set operations\n",
    "(intersection #{1 2 3} #{2 3 4}) ; => #{2 3}"
   ]
  },
  {
   "cell_type": "code",
   "execution_count": 184,
   "id": "spread-drink",
   "metadata": {},
   "outputs": [
    {
     "data": {
      "text/plain": [
       "#{1}"
      ]
     },
     "execution_count": 184,
     "metadata": {},
     "output_type": "execute_result"
    }
   ],
   "source": [
    "(difference #{1 2 3} #{2 3 4}) ; => #{1}"
   ]
  },
  {
   "cell_type": "code",
   "execution_count": 185,
   "id": "isolated-maximum",
   "metadata": {},
   "outputs": [
    {
     "data": {
      "text/plain": [
       "nil"
      ]
     },
     "execution_count": 185,
     "metadata": {},
     "output_type": "execute_result"
    }
   ],
   "source": [
    "; You can choose a subset of functions to import, too\n",
    "(use '[clojure.set :only [intersection]])"
   ]
  },
  {
   "cell_type": "code",
   "execution_count": 186,
   "id": "existing-anchor",
   "metadata": {},
   "outputs": [
    {
     "data": {
      "text/plain": [
       "nil"
      ]
     },
     "execution_count": 186,
     "metadata": {},
     "output_type": "execute_result"
    }
   ],
   "source": [
    "; Use require to import a module\n",
    "(require 'clojure.string)"
   ]
  },
  {
   "cell_type": "code",
   "execution_count": 187,
   "id": "retained-client",
   "metadata": {},
   "outputs": [
    {
     "data": {
      "text/plain": [
       "true"
      ]
     },
     "execution_count": 187,
     "metadata": {},
     "output_type": "execute_result"
    }
   ],
   "source": [
    "; Use '/' to call functions from a module\n",
    "(clojure.string/blank? \"\") ; => true"
   ]
  },
  {
   "cell_type": "code",
   "execution_count": 188,
   "id": "color-essence",
   "metadata": {},
   "outputs": [
    {
     "data": {
      "text/plain": [
       "\"THIs Is A tEst.\""
      ]
     },
     "execution_count": 188,
     "metadata": {},
     "output_type": "execute_result"
    }
   ],
   "source": [
    "; You can give a module a shorter name on import\n",
    "(require '[clojure.string :as str])\n",
    "(str/replace \"This is a test.\" #\"[a-o]\" str/upper-case) ; => \"THIs Is A tEst.\"\n",
    "; (#\"\" denotes a regular expression literal)"
   ]
  },
  {
   "cell_type": "code",
   "execution_count": 189,
   "id": "incorporate-planner",
   "metadata": {},
   "outputs": [
    {
     "data": {
      "text/plain": [
       "nil"
      ]
     },
     "execution_count": 189,
     "metadata": {},
     "output_type": "execute_result"
    }
   ],
   "source": [
    "; You can use require (and use, but don't) from a namespace using :require.\n",
    "; You don't need to quote your modules if you do it this way.\n",
    "(ns test\n",
    "  (:require\n",
    "    [clojure.string :as str]\n",
    "    [clojure.set :as set]))"
   ]
  },
  {
   "cell_type": "code",
   "execution_count": 190,
   "id": "medium-consistency",
   "metadata": {},
   "outputs": [
    {
     "data": {
      "text/plain": [
       "java.util.Date"
      ]
     },
     "execution_count": 190,
     "metadata": {},
     "output_type": "execute_result"
    }
   ],
   "source": [
    "; Java\n",
    ";;;;;;;;;;;;;;;;;\n",
    "\n",
    "; Java has a huge and useful standard library, so\n",
    "; you'll want to learn how to get at it.\n",
    "\n",
    "; Use import to load a java module\n",
    "(import java.util.Date)"
   ]
  },
  {
   "cell_type": "code",
   "execution_count": 191,
   "id": "every-exhaust",
   "metadata": {},
   "outputs": [
    {
     "data": {
      "text/plain": [
       "nil"
      ]
     },
     "execution_count": 191,
     "metadata": {},
     "output_type": "execute_result"
    }
   ],
   "source": [
    "; You can import from an ns too.\n",
    "(ns test\n",
    "  (:import java.util.Date\n",
    "           java.util.Calendar))"
   ]
  },
  {
   "cell_type": "code",
   "execution_count": 192,
   "id": "streaming-appendix",
   "metadata": {},
   "outputs": [
    {
     "data": {
      "text/plain": [
       "#inst \"2022-02-23T10:57:22.012-00:00\""
      ]
     },
     "execution_count": 192,
     "metadata": {},
     "output_type": "execute_result"
    }
   ],
   "source": [
    "; Use the class name with a \".\" at the end to make a new instance\n",
    "(Date.) ; <a date object>"
   ]
  },
  {
   "cell_type": "code",
   "execution_count": 193,
   "id": "modern-march",
   "metadata": {},
   "outputs": [
    {
     "data": {
      "text/plain": [
       "1645613842067"
      ]
     },
     "execution_count": 193,
     "metadata": {},
     "output_type": "execute_result"
    }
   ],
   "source": [
    "; Use . to call methods. Or, use the \".method\" shortcut\n",
    "(. (Date.) getTime) ; <a timestamp>"
   ]
  },
  {
   "cell_type": "code",
   "execution_count": 194,
   "id": "modular-morris",
   "metadata": {},
   "outputs": [
    {
     "data": {
      "text/plain": [
       "1645613842108"
      ]
     },
     "execution_count": 194,
     "metadata": {},
     "output_type": "execute_result"
    }
   ],
   "source": [
    "(.getTime (Date.)) ; exactly the same thing."
   ]
  },
  {
   "cell_type": "code",
   "execution_count": 195,
   "id": "passing-refund",
   "metadata": {},
   "outputs": [
    {
     "data": {
      "text/plain": [
       "1645613842157"
      ]
     },
     "execution_count": 195,
     "metadata": {},
     "output_type": "execute_result"
    }
   ],
   "source": [
    "; Use / to call static methods\n",
    "(System/currentTimeMillis) ; <a timestamp> (system is always present)"
   ]
  },
  {
   "cell_type": "code",
   "execution_count": 196,
   "id": "talented-verification",
   "metadata": {},
   "outputs": [
    {
     "data": {
      "text/plain": [
       "#inst \"2000-02-01T00:00:00.223+00:00\""
      ]
     },
     "execution_count": 196,
     "metadata": {},
     "output_type": "execute_result"
    }
   ],
   "source": [
    "; Use doto to make dealing with (mutable) classes more tolerable\n",
    "(import java.util.Calendar)\n",
    "(doto (Calendar/getInstance)\n",
    "  (.set 2000 1 1 0 0 0)\n",
    "  .getTime) ; => A Date. set to 2000-01-01 00:00:00"
   ]
  },
  {
   "cell_type": "code",
   "execution_count": 199,
   "id": "sweet-imaging",
   "metadata": {},
   "outputs": [
    {
     "data": {
      "text/plain": [
       "#'test/fib"
      ]
     },
     "execution_count": 199,
     "metadata": {},
     "output_type": "execute_result"
    }
   ],
   "source": [
    "(defn fib []\n",
    "    (map first\n",
    "        (iterate\n",
    "            (fn [[a b]] [b (+ a b)])\n",
    "            [1 1])))"
   ]
  },
  {
   "cell_type": "code",
   "execution_count": 200,
   "id": "fourth-payday",
   "metadata": {},
   "outputs": [
    {
     "data": {
      "text/plain": [
       "(1 1 2 3 5 8 13 21 34 55)"
      ]
     },
     "execution_count": 200,
     "metadata": {},
     "output_type": "execute_result"
    }
   ],
   "source": [
    "(take 10 (fib))"
   ]
  },
  {
   "cell_type": "code",
   "execution_count": 202,
   "id": "molecular-certification",
   "metadata": {},
   "outputs": [
    {
     "data": {
      "text/plain": [
       "(1 1 2 3 5 8 13 21 34 55 89 144 233 377 610 987 1597 2584 4181 6765 10946 17711 28657 46368 75025 121393 196418 317811 514229 832040 1346269 2178309 3524578 5702887 9227465 14930352 24157817 39088169 63245986 102334155 165580141 267914296 433494437 701408733 1134903170 1836311903 2971215073 4807526976 7778742049 12586269025)"
      ]
     },
     "execution_count": 202,
     "metadata": {},
     "output_type": "execute_result"
    }
   ],
   "source": [
    "(take 50 (fib))"
   ]
  },
  {
   "cell_type": "code",
   "execution_count": 203,
   "id": "judicial-observation",
   "metadata": {},
   "outputs": [
    {
     "data": {
      "text/plain": [
       "#'test/_fib"
      ]
     },
     "execution_count": 203,
     "metadata": {},
     "output_type": "execute_result"
    }
   ],
   "source": [
    "(defn _fib []\n",
    "    (iterate\n",
    "        (fn [[a b]] [b (+ a b)])\n",
    "            [1 1]))"
   ]
  },
  {
   "cell_type": "code",
   "execution_count": 205,
   "id": "excellent-queens",
   "metadata": {},
   "outputs": [
    {
     "data": {
      "text/plain": [
       "([1 1] [1 2] [2 3] [3 5] [5 8] [8 13] [13 21] [21 34] [34 55] [55 89])"
      ]
     },
     "execution_count": 205,
     "metadata": {},
     "output_type": "execute_result"
    }
   ],
   "source": [
    "(take 10 (_fib))"
   ]
  },
  {
   "cell_type": "code",
   "execution_count": 206,
   "id": "empty-ground",
   "metadata": {},
   "outputs": [
    {
     "data": {
      "text/plain": [
       "#'test/add"
      ]
     },
     "execution_count": 206,
     "metadata": {},
     "output_type": "execute_result"
    }
   ],
   "source": [
    "(defn add [a b]\n",
    "    a + b)"
   ]
  },
  {
   "cell_type": "code",
   "execution_count": 209,
   "id": "circular-picnic",
   "metadata": {},
   "outputs": [
    {
     "data": {
      "text/plain": [
       "7"
      ]
     },
     "execution_count": 209,
     "metadata": {},
     "output_type": "execute_result"
    }
   ],
   "source": [
    "(add 3 7)"
   ]
  },
  {
   "cell_type": "code",
   "execution_count": 210,
   "id": "combined-analysis",
   "metadata": {},
   "outputs": [
    {
     "data": {
      "text/plain": [
       "#function[test/eval4626/fn--4627]"
      ]
     },
     "execution_count": 210,
     "metadata": {},
     "output_type": "execute_result"
    }
   ],
   "source": [
    "#(Character/isWhitespace %)"
   ]
  },
  {
   "cell_type": "code",
   "execution_count": 212,
   "id": "optimum-reservation",
   "metadata": {},
   "outputs": [
    {
     "name": "stdout",
     "output_type": "stream",
     "text": [
      "Hello world!\n"
     ]
    },
    {
     "data": {
      "text/plain": [
       "nil"
      ]
     },
     "execution_count": 212,
     "metadata": {},
     "output_type": "execute_result"
    }
   ],
   "source": [
    ";;     operation (function)             argument\n",
    ";; --------------------------------  --------------\n",
    "(  (fn [message] (println message))  \"Hello world!\" )"
   ]
  },
  {
   "cell_type": "markdown",
   "id": "conventional-scheduling",
   "metadata": {},
   "source": [
    "curry = lambda f: lambda a,*args: f(a, *args) if (len(args)) else lambda *args: f(a, *args)"
   ]
  },
  {
   "cell_type": "code",
   "execution_count": 213,
   "id": "fossil-better",
   "metadata": {},
   "outputs": [
    {
     "data": {
      "text/plain": [
       "\"Hello World\""
      ]
     },
     "execution_count": 213,
     "metadata": {},
     "output_type": "execute_result"
    }
   ],
   "source": [
    "; You can have multi-variadic functions, too\n",
    "(defn hello3\n",
    "  ([] \"Hello World\")\n",
    "  ([name] (str \"Hello \" name)))\n",
    "(hello3 \"Jake\") ; => \"Hello Jake\"\n",
    "(hello3) ; => \"Hello World\""
   ]
  },
  {
   "cell_type": "code",
   "execution_count": null,
   "id": "limited-plaintiff",
   "metadata": {},
   "outputs": [],
   "source": []
  },
  {
   "cell_type": "code",
   "execution_count": null,
   "id": "parallel-luxury",
   "metadata": {},
   "outputs": [],
   "source": []
  }
 ],
 "metadata": {
  "kernelspec": {
   "display_name": "Clojure (clojupyter-0.3.2)",
   "language": "clojure",
   "name": "clojupyter-0.3.2"
  },
  "language_info": {
   "file_extension": ".clj",
   "mimetype": "text/x-clojure",
   "name": "clojure",
   "version": "1.10.1"
  }
 },
 "nbformat": 4,
 "nbformat_minor": 5
}
