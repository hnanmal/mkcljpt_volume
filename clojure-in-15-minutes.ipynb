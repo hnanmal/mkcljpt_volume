{
 "cells": [
  {
   "cell_type": "code",
   "execution_count": 1,
   "id": "dense-diagram",
   "metadata": {},
   "outputs": [
    {
     "data": {
      "text/plain": [
       "nil"
      ]
     },
     "execution_count": 1,
     "metadata": {},
     "output_type": "execute_result"
    }
   ],
   "source": [
    "; Comments start with semicolons.\n",
    "\n",
    "; Clojure is written in \"forms\", which are just\n",
    "; lists of things inside parentheses, separated by whitespace.\n",
    ";\n",
    "; The clojure reader  assumes that the first thing is a\n",
    "; function or macro to call, and the rest are arguments.\n",
    ";\n",
    "; Here's a function that sets the current namespace:\n",
    "(ns test)"
   ]
  },
  {
   "cell_type": "code",
   "execution_count": 2,
   "id": "thermal-treatment",
   "metadata": {},
   "outputs": [
    {
     "data": {
      "text/plain": [
       "\"Hello World\""
      ]
     },
     "execution_count": 2,
     "metadata": {},
     "output_type": "execute_result"
    }
   ],
   "source": [
    "; More basic examples:\n",
    "\n",
    "; str will create a string out of all its arguments\n",
    "(str \"Hello\" \" \" \"World\")"
   ]
  },
  {
   "cell_type": "code",
   "execution_count": 3,
   "id": "native-margin",
   "metadata": {},
   "outputs": [
    {
     "data": {
      "text/plain": [
       "2"
      ]
     },
     "execution_count": 3,
     "metadata": {},
     "output_type": "execute_result"
    }
   ],
   "source": [
    "; Math is straightforward\n",
    "(+ 1 1) ; => 2\n",
    "(- 2 1) ; => 1\n",
    "(* 1 2) ; => 2\n",
    "(/ 2 1) ; => 2"
   ]
  },
  {
   "cell_type": "code",
   "execution_count": 4,
   "id": "peripheral-klein",
   "metadata": {},
   "outputs": [
    {
     "data": {
      "text/plain": [
       "true"
      ]
     },
     "execution_count": 4,
     "metadata": {},
     "output_type": "execute_result"
    }
   ],
   "source": [
    "; Equality is =\n",
    "(= 1 1) ; => true"
   ]
  },
  {
   "cell_type": "code",
   "execution_count": 5,
   "id": "equal-hindu",
   "metadata": {},
   "outputs": [
    {
     "data": {
      "text/plain": [
       "false"
      ]
     },
     "execution_count": 5,
     "metadata": {},
     "output_type": "execute_result"
    }
   ],
   "source": [
    "(= 2 1) ; => false"
   ]
  },
  {
   "cell_type": "code",
   "execution_count": 6,
   "id": "lucky-grenada",
   "metadata": {},
   "outputs": [
    {
     "data": {
      "text/plain": [
       "false"
      ]
     },
     "execution_count": 6,
     "metadata": {},
     "output_type": "execute_result"
    }
   ],
   "source": [
    "; You need not for logic, too\n",
    "(not true) ; => false"
   ]
  },
  {
   "cell_type": "code",
   "execution_count": 7,
   "id": "intimate-growth",
   "metadata": {},
   "outputs": [
    {
     "data": {
      "text/plain": [
       "2"
      ]
     },
     "execution_count": 7,
     "metadata": {},
     "output_type": "execute_result"
    }
   ],
   "source": [
    "; Nesting forms works as you expect\n",
    "(+ 1 (- 3 2)) ; = 1 + (3 - 2) => 2"
   ]
  },
  {
   "cell_type": "code",
   "execution_count": 8,
   "id": "grand-hughes",
   "metadata": {},
   "outputs": [],
   "source": [
    "; Clojure uses Java's object types for booleans, strings and numbers.\n",
    "; Use `class` to inspect them."
   ]
  },
  {
   "cell_type": "code",
   "execution_count": 9,
   "id": "identified-footage",
   "metadata": {},
   "outputs": [
    {
     "data": {
      "text/plain": [
       "java.lang.Long"
      ]
     },
     "execution_count": 9,
     "metadata": {},
     "output_type": "execute_result"
    }
   ],
   "source": [
    "(class 1)"
   ]
  },
  {
   "cell_type": "code",
   "execution_count": 10,
   "id": "qualified-bedroom",
   "metadata": {},
   "outputs": [
    {
     "data": {
      "text/plain": [
       "java.lang.Double"
      ]
     },
     "execution_count": 10,
     "metadata": {},
     "output_type": "execute_result"
    }
   ],
   "source": [
    "(class 1.)"
   ]
  },
  {
   "cell_type": "code",
   "execution_count": 11,
   "id": "understanding-train",
   "metadata": {},
   "outputs": [
    {
     "data": {
      "text/plain": [
       "java.lang.String"
      ]
     },
     "execution_count": 11,
     "metadata": {},
     "output_type": "execute_result"
    }
   ],
   "source": [
    "(class \"\"); Strings always double-quoted, and are java.lang.String"
   ]
  },
  {
   "cell_type": "code",
   "execution_count": 12,
   "id": "speaking-blair",
   "metadata": {},
   "outputs": [
    {
     "data": {
      "text/plain": [
       "java.lang.Boolean"
      ]
     },
     "execution_count": 12,
     "metadata": {},
     "output_type": "execute_result"
    }
   ],
   "source": [
    "(class false) ; Booleans are java.lang.Boolean"
   ]
  },
  {
   "cell_type": "code",
   "execution_count": 13,
   "id": "urban-longer",
   "metadata": {},
   "outputs": [
    {
     "data": {
      "text/plain": [
       "nil"
      ]
     },
     "execution_count": 13,
     "metadata": {},
     "output_type": "execute_result"
    }
   ],
   "source": [
    "(class nil); The \"null\" value is called nil"
   ]
  },
  {
   "cell_type": "code",
   "execution_count": 14,
   "id": "isolated-transcription",
   "metadata": {},
   "outputs": [
    {
     "data": {
      "text/plain": [
       "(+ 1 2)"
      ]
     },
     "execution_count": 14,
     "metadata": {},
     "output_type": "execute_result"
    }
   ],
   "source": [
    "; If you want to create a literal list of data, use ' to make a \"symbol\"\n",
    "'(+ 1 2) ; => (+ 1 2)"
   ]
  },
  {
   "cell_type": "code",
   "execution_count": 15,
   "id": "intensive-cornell",
   "metadata": {},
   "outputs": [
    {
     "data": {
      "text/plain": [
       "3"
      ]
     },
     "execution_count": 15,
     "metadata": {},
     "output_type": "execute_result"
    }
   ],
   "source": [
    "; You can eval symbols.\n",
    "(eval '(+ 1 2)) ; => 3"
   ]
  },
  {
   "cell_type": "code",
   "execution_count": 16,
   "id": "speaking-bulgarian",
   "metadata": {},
   "outputs": [
    {
     "data": {
      "text/plain": [
       "clojure.lang.PersistentVector"
      ]
     },
     "execution_count": 16,
     "metadata": {},
     "output_type": "execute_result"
    }
   ],
   "source": [
    "; Vectors and Lists are java classes too!\n",
    "(class [1 2 3]); => clojure.lang.PersistentVector"
   ]
  },
  {
   "cell_type": "code",
   "execution_count": 17,
   "id": "instrumental-great",
   "metadata": {},
   "outputs": [
    {
     "data": {
      "text/plain": [
       "clojure.lang.PersistentList"
      ]
     },
     "execution_count": 17,
     "metadata": {},
     "output_type": "execute_result"
    }
   ],
   "source": [
    "(class '(1 2 3)); => clojure.lang.PersistentList\n",
    "\n",
    "; A list would be written as just (1 2 3), but we have to quote\n",
    "; it to stop the reader thinking it's a function.\n",
    "; Also, (list 1 2 3) is the same as '(1 2 3)"
   ]
  },
  {
   "cell_type": "code",
   "execution_count": 18,
   "id": "illegal-coating",
   "metadata": {},
   "outputs": [
    {
     "data": {
      "text/plain": [
       "true"
      ]
     },
     "execution_count": 18,
     "metadata": {},
     "output_type": "execute_result"
    }
   ],
   "source": [
    "; Both lists and vectors are collections:\n",
    "(coll? '(1 2 3)) ; => true"
   ]
  },
  {
   "cell_type": "code",
   "execution_count": 19,
   "id": "temporal-disaster",
   "metadata": {},
   "outputs": [
    {
     "data": {
      "text/plain": [
       "true"
      ]
     },
     "execution_count": 19,
     "metadata": {},
     "output_type": "execute_result"
    }
   ],
   "source": [
    "(coll? [1 2 3]) ; => true"
   ]
  },
  {
   "cell_type": "code",
   "execution_count": 20,
   "id": "equipped-circle",
   "metadata": {},
   "outputs": [
    {
     "data": {
      "text/plain": [
       "true"
      ]
     },
     "execution_count": 20,
     "metadata": {},
     "output_type": "execute_result"
    }
   ],
   "source": [
    "; Only lists are seqs.\n",
    "(seq? '(1 2 3)) ; => true"
   ]
  },
  {
   "cell_type": "code",
   "execution_count": 21,
   "id": "arctic-giving",
   "metadata": {},
   "outputs": [
    {
     "data": {
      "text/plain": [
       "false"
      ]
     },
     "execution_count": 21,
     "metadata": {},
     "output_type": "execute_result"
    }
   ],
   "source": [
    "(seq? [1 2 3]) ; => false"
   ]
  },
  {
   "cell_type": "code",
   "execution_count": 22,
   "id": "opposed-deviation",
   "metadata": {},
   "outputs": [
    {
     "data": {
      "text/plain": [
       "(0 1 2 3)"
      ]
     },
     "execution_count": 22,
     "metadata": {},
     "output_type": "execute_result"
    }
   ],
   "source": [
    "; Seqs are an interface for logical lists, which can be lazy.\n",
    "; \"Lazy\" means that a seq can define an infinite series, like so:\n",
    "(range 4) ; => (0 1 2 3)"
   ]
  },
  {
   "cell_type": "code",
   "execution_count": 23,
   "id": "royal-morocco",
   "metadata": {},
   "outputs": [],
   "source": [
    ";; (range)\n",
    ";; (take 4 (range)) ;  (0 1 2 3)"
   ]
  },
  {
   "cell_type": "code",
   "execution_count": 24,
   "id": "optimum-treasure",
   "metadata": {},
   "outputs": [
    {
     "data": {
      "text/plain": [
       "(4 1 2 3)"
      ]
     },
     "execution_count": 24,
     "metadata": {},
     "output_type": "execute_result"
    }
   ],
   "source": [
    "; Use cons to add an item to the beginning of a list or vector\n",
    "(cons 4 [1 2 3]) ; => (4 1 2 3)"
   ]
  },
  {
   "cell_type": "code",
   "execution_count": 25,
   "id": "excited-fisher",
   "metadata": {},
   "outputs": [
    {
     "data": {
      "text/plain": [
       "(4 1 2 3)"
      ]
     },
     "execution_count": 25,
     "metadata": {},
     "output_type": "execute_result"
    }
   ],
   "source": [
    "(cons 4 '(1 2 3)) ; => (4 1 2 3)"
   ]
  },
  {
   "cell_type": "code",
   "execution_count": 26,
   "id": "royal-calvin",
   "metadata": {},
   "outputs": [
    {
     "data": {
      "text/plain": [
       "[1 2 3 4]"
      ]
     },
     "execution_count": 26,
     "metadata": {},
     "output_type": "execute_result"
    }
   ],
   "source": [
    "; Use conj to add an item to the beginning of a list,\n",
    "; or the end of a vector\n",
    "(conj [1 2 3] 4) ; => [1 2 3 4]"
   ]
  },
  {
   "cell_type": "code",
   "execution_count": 27,
   "id": "macro-sessions",
   "metadata": {},
   "outputs": [
    {
     "data": {
      "text/plain": [
       "(4 1 2 3)"
      ]
     },
     "execution_count": 27,
     "metadata": {},
     "output_type": "execute_result"
    }
   ],
   "source": [
    "(conj '(1 2 3) 4) ; => (4 1 2 3)"
   ]
  },
  {
   "cell_type": "code",
   "execution_count": 28,
   "id": "skilled-pilot",
   "metadata": {},
   "outputs": [
    {
     "data": {
      "text/plain": [
       "(1 2 3 4)"
      ]
     },
     "execution_count": 28,
     "metadata": {},
     "output_type": "execute_result"
    }
   ],
   "source": [
    "; Use concat to add lists or vectors together\n",
    "(concat [1 2] '(3 4)) ; => (1 2 3 4)"
   ]
  },
  {
   "cell_type": "code",
   "execution_count": 29,
   "id": "preliminary-mileage",
   "metadata": {},
   "outputs": [
    {
     "data": {
      "text/plain": [
       "3"
      ]
     },
     "execution_count": 29,
     "metadata": {},
     "output_type": "execute_result"
    }
   ],
   "source": [
    "(inc 2)"
   ]
  },
  {
   "cell_type": "code",
   "execution_count": 30,
   "id": "touched-elements",
   "metadata": {},
   "outputs": [
    {
     "data": {
      "text/plain": [
       "(2 3 4)"
      ]
     },
     "execution_count": 30,
     "metadata": {},
     "output_type": "execute_result"
    }
   ],
   "source": [
    "; Use filter, map to interact with collections\n",
    "(map inc [1 2 3]) ; => (2 3 4)"
   ]
  },
  {
   "cell_type": "code",
   "execution_count": 31,
   "id": "appropriate-compression",
   "metadata": {},
   "outputs": [
    {
     "data": {
      "text/plain": [
       "(2)"
      ]
     },
     "execution_count": 31,
     "metadata": {},
     "output_type": "execute_result"
    }
   ],
   "source": [
    "(filter even? [1 2 3]) ; => (2)"
   ]
  },
  {
   "cell_type": "code",
   "execution_count": 32,
   "id": "external-microwave",
   "metadata": {},
   "outputs": [
    {
     "data": {
      "text/plain": [
       "10"
      ]
     },
     "execution_count": 32,
     "metadata": {},
     "output_type": "execute_result"
    }
   ],
   "source": [
    "; Use reduce to reduce them\n",
    "(reduce + [1 2 3 4])\n",
    "; = (+ (+ (+ 1 2) 3) 4)\n",
    "; => 10"
   ]
  },
  {
   "cell_type": "code",
   "execution_count": 33,
   "id": "unexpected-albert",
   "metadata": {},
   "outputs": [
    {
     "data": {
      "text/plain": [
       "10"
      ]
     },
     "execution_count": 33,
     "metadata": {},
     "output_type": "execute_result"
    }
   ],
   "source": [
    "; Use reduce to reduce them\n",
    "(reduce + '(1 2 3 4))\n",
    "; = (+ (+ (+ 1 2) 3) 4)\n",
    "; => 10"
   ]
  },
  {
   "cell_type": "code",
   "execution_count": 34,
   "id": "alternative-oxygen",
   "metadata": {},
   "outputs": [
    {
     "data": {
      "text/plain": [
       "[3 2 1]"
      ]
     },
     "execution_count": 34,
     "metadata": {},
     "output_type": "execute_result"
    }
   ],
   "source": [
    "; Reduce can take an initial-value argument too\n",
    "(reduce conj [] '(3 2 1))\n",
    "; = (conj (conj (conj [] 3) 2) 1)\n",
    "; => [3 2 1]"
   ]
  },
  {
   "cell_type": "code",
   "execution_count": 35,
   "id": "automotive-bankruptcy",
   "metadata": {},
   "outputs": [
    {
     "data": {
      "text/plain": [
       "#function[test/eval4176/fn--4177]"
      ]
     },
     "execution_count": 35,
     "metadata": {},
     "output_type": "execute_result"
    }
   ],
   "source": [
    "; Use fn to create new functions. A function always returns\n",
    "; its last statement.\n",
    "(fn [] \"Hello World\") ; => fn"
   ]
  },
  {
   "cell_type": "code",
   "execution_count": 36,
   "id": "bearing-jurisdiction",
   "metadata": {},
   "outputs": [
    {
     "data": {
      "text/plain": [
       "\"Hello World\""
      ]
     },
     "execution_count": 36,
     "metadata": {},
     "output_type": "execute_result"
    }
   ],
   "source": [
    "; (You need extra parens to call it)\n",
    "((fn [] \"Hello World\")) ; => \"Hello World\""
   ]
  },
  {
   "cell_type": "code",
   "execution_count": 37,
   "id": "severe-platinum",
   "metadata": {},
   "outputs": [
    {
     "data": {
      "text/plain": [
       "1"
      ]
     },
     "execution_count": 37,
     "metadata": {},
     "output_type": "execute_result"
    }
   ],
   "source": [
    "; You can create a var using def\n",
    "(def x 1)\n",
    "x ; => 1"
   ]
  },
  {
   "cell_type": "code",
   "execution_count": 38,
   "id": "excess-cartridge",
   "metadata": {},
   "outputs": [
    {
     "data": {
      "text/plain": [
       "\"Hello World\""
      ]
     },
     "execution_count": 38,
     "metadata": {},
     "output_type": "execute_result"
    }
   ],
   "source": [
    "; Assign a function to a var\n",
    "(def hello-world (fn [] \"Hello World\"))\n",
    "(hello-world) ; => \"Hello World\""
   ]
  },
  {
   "cell_type": "code",
   "execution_count": 39,
   "id": "polished-capture",
   "metadata": {},
   "outputs": [
    {
     "data": {
      "text/plain": [
       "#'test/hello-world"
      ]
     },
     "execution_count": 39,
     "metadata": {},
     "output_type": "execute_result"
    }
   ],
   "source": [
    "; You can shorten this process by using defn\n",
    "(defn hello-world [] \"Hello World\")"
   ]
  },
  {
   "cell_type": "code",
   "execution_count": 40,
   "id": "promising-covering",
   "metadata": {},
   "outputs": [
    {
     "data": {
      "text/plain": [
       "\"Hello World\""
      ]
     },
     "execution_count": 40,
     "metadata": {},
     "output_type": "execute_result"
    }
   ],
   "source": [
    "((defn hello-world [] \"Hello World\"))"
   ]
  },
  {
   "cell_type": "code",
   "execution_count": 41,
   "id": "brave-sudan",
   "metadata": {},
   "outputs": [
    {
     "data": {
      "text/plain": [
       "\"Hello Steve\""
      ]
     },
     "execution_count": 41,
     "metadata": {},
     "output_type": "execute_result"
    }
   ],
   "source": [
    "; The [] is the list of arguments for the function.\n",
    "(defn hello [name]\n",
    "  (str \"Hello \" name))\n",
    "(hello \"Steve\") ; => \"Hello Steve\""
   ]
  },
  {
   "cell_type": "code",
   "execution_count": 42,
   "id": "regulated-compound",
   "metadata": {},
   "outputs": [
    {
     "data": {
      "text/plain": [
       "\"Hello Fanny\""
      ]
     },
     "execution_count": 42,
     "metadata": {},
     "output_type": "execute_result"
    }
   ],
   "source": [
    "; You can also use this shorthand to create functions:\n",
    "(def hello2 #(str \"Hello \" %1))\n",
    "(hello2 \"Fanny\") ; => \"Hello Fanny\""
   ]
  },
  {
   "cell_type": "code",
   "execution_count": 43,
   "id": "accomplished-military",
   "metadata": {},
   "outputs": [
    {
     "data": {
      "text/plain": [
       "\"Hello, Fanny Raul\""
      ]
     },
     "execution_count": 43,
     "metadata": {},
     "output_type": "execute_result"
    }
   ],
   "source": [
    "; You can also use this shorthand to create functions:\n",
    "(def hello2 #(str \"Hello, \" %1 \" \" %2))\n",
    "(hello2 \"Fanny\" \"Raul\") ; => \"Hello Fanny\""
   ]
  },
  {
   "cell_type": "code",
   "execution_count": 44,
   "id": "civil-senate",
   "metadata": {},
   "outputs": [
    {
     "data": {
      "text/plain": [
       "\"Hello World\""
      ]
     },
     "execution_count": 44,
     "metadata": {},
     "output_type": "execute_result"
    }
   ],
   "source": [
    "; You can have multi-variadic functions, too\n",
    "(defn hello3\n",
    "  ([] \"Hello World\")\n",
    "  ([name] (str \"Hello \" name)))\n",
    "(hello3 \"Jake\") ; => \"Hello Jake\"\n",
    "(hello3) ; => \"Hello World\""
   ]
  },
  {
   "cell_type": "code",
   "execution_count": 45,
   "id": "lasting-fifteen",
   "metadata": {},
   "outputs": [
    {
     "data": {
      "text/plain": [
       "\"You passed 3 args: (1 2 3)\""
      ]
     },
     "execution_count": 45,
     "metadata": {},
     "output_type": "execute_result"
    }
   ],
   "source": [
    "; Functions can pack extra arguments up in a seq for you\n",
    "(defn count-args [& args]\n",
    "  (str \"You passed \" (count args) \" args: \" args))\n",
    "(count-args 1 2 3) ; => \"You passed 3 args: (1 2 3)\""
   ]
  },
  {
   "cell_type": "code",
   "execution_count": 46,
   "id": "least-failing",
   "metadata": {},
   "outputs": [
    {
     "data": {
      "text/plain": [
       "\"You passed 5 args: (1 2 3 5 7)\""
      ]
     },
     "execution_count": 46,
     "metadata": {},
     "output_type": "execute_result"
    }
   ],
   "source": [
    "(count-args 1 2 3 5 7)"
   ]
  },
  {
   "cell_type": "code",
   "execution_count": 47,
   "id": "inside-timing",
   "metadata": {},
   "outputs": [
    {
     "data": {
      "text/plain": [
       "\"Hello Finn, you passed 3 extra args\""
      ]
     },
     "execution_count": 47,
     "metadata": {},
     "output_type": "execute_result"
    }
   ],
   "source": [
    "; You can mix regular and packed arguments\n",
    "(defn hello-count [name & args]\n",
    "  (str \"Hello \" name \", you passed \" (count args) \" extra args\"))\n",
    "(hello-count \"Finn\" 1 2 3)\n",
    "; => \"Hello Finn, you passed 3 extra args\""
   ]
  },
  {
   "cell_type": "code",
   "execution_count": 48,
   "id": "brave-convert",
   "metadata": {},
   "outputs": [
    {
     "data": {
      "text/plain": [
       "clojure.lang.PersistentArrayMap"
      ]
     },
     "execution_count": 48,
     "metadata": {},
     "output_type": "execute_result"
    }
   ],
   "source": [
    "; Hashmaps\n",
    ";;;;;;;;;;\n",
    "\n",
    "(class {:a 1 :b 2 :c 3}) ; => clojure.lang.PersistentArrayMap"
   ]
  },
  {
   "cell_type": "code",
   "execution_count": 49,
   "id": "initial-silicon",
   "metadata": {},
   "outputs": [
    {
     "data": {
      "text/plain": [
       "clojure.lang.Keyword"
      ]
     },
     "execution_count": 49,
     "metadata": {},
     "output_type": "execute_result"
    }
   ],
   "source": [
    "; Keywords are like strings with some efficiency bonuses\n",
    "(class :a) ; => clojure.lang.Keyword"
   ]
  },
  {
   "cell_type": "code",
   "execution_count": 50,
   "id": "clean-dayton",
   "metadata": {},
   "outputs": [
    {
     "data": {
      "text/plain": [
       "{\"a\" 1, \"b\" 2, \"c\" 3}"
      ]
     },
     "execution_count": 50,
     "metadata": {},
     "output_type": "execute_result"
    }
   ],
   "source": [
    "; Maps can use any type as a key, but usually keywords are best\n",
    "(def stringmap (hash-map \"a\" 1, \"b\" 2, \"c\" 3))\n",
    "stringmap  ; => {\"a\" 1, \"b\" 2, \"c\" 3}"
   ]
  },
  {
   "cell_type": "code",
   "execution_count": 51,
   "id": "informative-yield",
   "metadata": {},
   "outputs": [
    {
     "data": {
      "text/plain": [
       "{\"a\" 1, \"b\" 2, \"c\" 3}"
      ]
     },
     "execution_count": 51,
     "metadata": {},
     "output_type": "execute_result"
    }
   ],
   "source": [
    "stringmap"
   ]
  },
  {
   "cell_type": "code",
   "execution_count": 52,
   "id": "welcome-cache",
   "metadata": {},
   "outputs": [
    {
     "data": {
      "text/plain": [
       "{:c 3, :b 2, :a 1}"
      ]
     },
     "execution_count": 52,
     "metadata": {},
     "output_type": "execute_result"
    }
   ],
   "source": [
    "(def keymap (hash-map :a 1 :b 2 :c 3))\n",
    "keymap ; => {:a 1, :c 3, :b 2} (order is not guaranteed)"
   ]
  },
  {
   "cell_type": "code",
   "execution_count": 53,
   "id": "distinct-sterling",
   "metadata": {},
   "outputs": [
    {
     "data": {
      "text/plain": [
       "1"
      ]
     },
     "execution_count": 53,
     "metadata": {},
     "output_type": "execute_result"
    }
   ],
   "source": [
    "; By the way, commas are always treated as whitespace and do nothing.\n",
    "\n",
    "; Retrieve a value from a map by calling it as a function\n",
    "(stringmap \"a\") ; => 1"
   ]
  },
  {
   "cell_type": "code",
   "execution_count": 54,
   "id": "going-cattle",
   "metadata": {},
   "outputs": [
    {
     "data": {
      "text/plain": [
       "1"
      ]
     },
     "execution_count": 54,
     "metadata": {},
     "output_type": "execute_result"
    }
   ],
   "source": [
    "(keymap :a) ; => 1"
   ]
  },
  {
   "cell_type": "code",
   "execution_count": 55,
   "id": "occupational-template",
   "metadata": {},
   "outputs": [
    {
     "data": {
      "text/plain": [
       "2"
      ]
     },
     "execution_count": 55,
     "metadata": {},
     "output_type": "execute_result"
    }
   ],
   "source": [
    "; Keywords can be used to retrieve their value from a map, too!\n",
    "(:b keymap) ; => 2\n",
    "\n",
    "; Don't try this with strings.\n",
    ";(\"a\" stringmap)\n",
    "; => Exception: java.lang.String cannot be cast to clojure.lang.IFn"
   ]
  },
  {
   "cell_type": "code",
   "execution_count": 56,
   "id": "rubber-commission",
   "metadata": {},
   "outputs": [
    {
     "data": {
      "text/plain": [
       "nil"
      ]
     },
     "execution_count": 56,
     "metadata": {},
     "output_type": "execute_result"
    }
   ],
   "source": [
    "; Retrieving a non-present value returns nil\n",
    "(stringmap \"d\") ; => nil"
   ]
  },
  {
   "cell_type": "code",
   "execution_count": 57,
   "id": "moving-failure",
   "metadata": {},
   "outputs": [
    {
     "data": {
      "text/plain": [
       "{:c 3, :b 2, :d 4, :a 1}"
      ]
     },
     "execution_count": 57,
     "metadata": {},
     "output_type": "execute_result"
    }
   ],
   "source": [
    "; Use assoc to add new keys to hash-maps\n",
    "(def keymap_new (assoc keymap :d 4)) ; => {:a 1, :b 2, :c 3, :d 4}\n",
    "keymap_new"
   ]
  },
  {
   "cell_type": "code",
   "execution_count": 58,
   "id": "judicial-potato",
   "metadata": {},
   "outputs": [
    {
     "data": {
      "text/plain": [
       "{:c 3, :b 2, :a 1}"
      ]
     },
     "execution_count": 58,
     "metadata": {},
     "output_type": "execute_result"
    }
   ],
   "source": [
    "; But remember, clojure types are immutable!\n",
    "keymap ; => {:a 1, :b 2, :c 3}"
   ]
  },
  {
   "cell_type": "code",
   "execution_count": 59,
   "id": "flying-links",
   "metadata": {},
   "outputs": [
    {
     "data": {
      "text/plain": [
       "{:c 3}"
      ]
     },
     "execution_count": 59,
     "metadata": {},
     "output_type": "execute_result"
    }
   ],
   "source": [
    "(dissoc keymap :a :b) ; => {:c 3}"
   ]
  },
  {
   "cell_type": "code",
   "execution_count": 60,
   "id": "false-expert",
   "metadata": {},
   "outputs": [
    {
     "data": {
      "text/plain": [
       "{:c 3, :b 2, :a 1}"
      ]
     },
     "execution_count": 60,
     "metadata": {},
     "output_type": "execute_result"
    }
   ],
   "source": [
    "keymap"
   ]
  },
  {
   "cell_type": "code",
   "execution_count": 61,
   "id": "nonprofit-pottery",
   "metadata": {},
   "outputs": [
    {
     "data": {
      "text/plain": [
       "clojure.lang.PersistentHashSet"
      ]
     },
     "execution_count": 61,
     "metadata": {},
     "output_type": "execute_result"
    }
   ],
   "source": [
    "; Sets\n",
    ";;;;;;\n",
    "\n",
    "(class #{1 2 3}) ; => clojure.lang.PersistentHashSet"
   ]
  },
  {
   "cell_type": "code",
   "execution_count": 62,
   "id": "adverse-popularity",
   "metadata": {},
   "outputs": [
    {
     "data": {
      "text/plain": [
       "#{1 3 2}"
      ]
     },
     "execution_count": 62,
     "metadata": {},
     "output_type": "execute_result"
    }
   ],
   "source": [
    "(set [1 2 3 1 2 3 3 2 1 3 2 1]) ; => #{1 2 3}  *순서?"
   ]
  },
  {
   "cell_type": "code",
   "execution_count": 63,
   "id": "ignored-floating",
   "metadata": {},
   "outputs": [
    {
     "data": {
      "text/plain": [
       "#{1 4 3 2}"
      ]
     },
     "execution_count": 63,
     "metadata": {},
     "output_type": "execute_result"
    }
   ],
   "source": [
    "; Add a member with conj\n",
    "(conj #{1 2 3} 4) ; => #{1 2 3 4}  *순서?"
   ]
  },
  {
   "cell_type": "code",
   "execution_count": 64,
   "id": "alike-astronomy",
   "metadata": {},
   "outputs": [
    {
     "data": {
      "text/plain": [
       "#{3 2}"
      ]
     },
     "execution_count": 64,
     "metadata": {},
     "output_type": "execute_result"
    }
   ],
   "source": [
    "; Remove one with disj\n",
    "(disj #{1 2 3} 1) ; => #{2 3}"
   ]
  },
  {
   "cell_type": "code",
   "execution_count": 65,
   "id": "together-exhibition",
   "metadata": {},
   "outputs": [
    {
     "data": {
      "text/plain": [
       "1"
      ]
     },
     "execution_count": 65,
     "metadata": {},
     "output_type": "execute_result"
    }
   ],
   "source": [
    "; Test for existence by using the set as a function:\n",
    "(#{1 2 3} 1) ; => 1"
   ]
  },
  {
   "cell_type": "code",
   "execution_count": 66,
   "id": "hidden-lending",
   "metadata": {},
   "outputs": [
    {
     "data": {
      "text/plain": [
       "nil"
      ]
     },
     "execution_count": 66,
     "metadata": {},
     "output_type": "execute_result"
    }
   ],
   "source": [
    "(#{1 2 3} 4) ; => nil"
   ]
  },
  {
   "cell_type": "code",
   "execution_count": 67,
   "id": "rolled-compiler",
   "metadata": {},
   "outputs": [
    {
     "data": {
      "text/plain": [
       "\"b\""
      ]
     },
     "execution_count": 67,
     "metadata": {},
     "output_type": "execute_result"
    }
   ],
   "source": [
    "; There are more functions in the clojure.sets namespace.\n",
    "\n",
    "; Useful forms\n",
    ";;;;;;;;;;;;;;;;;\n",
    "\n",
    "; Logic constructs in clojure are just macros, and look like\n",
    "; everything else\n",
    "(if false \"a\" \"b\") ; => \"b\""
   ]
  },
  {
   "cell_type": "code",
   "execution_count": 68,
   "id": "cutting-peace",
   "metadata": {},
   "outputs": [
    {
     "data": {
      "text/plain": [
       "nil"
      ]
     },
     "execution_count": 68,
     "metadata": {},
     "output_type": "execute_result"
    }
   ],
   "source": [
    "(if false \"a\") ; => nil"
   ]
  },
  {
   "cell_type": "code",
   "execution_count": 69,
   "id": "boxed-metadata",
   "metadata": {},
   "outputs": [
    {
     "data": {
      "text/plain": [
       "false"
      ]
     },
     "execution_count": 69,
     "metadata": {},
     "output_type": "execute_result"
    }
   ],
   "source": [
    "; Use let to create temporary bindings\n",
    "(let [a 1 b 2]\n",
    "  (> a b)) ; => false"
   ]
  },
  {
   "cell_type": "code",
   "execution_count": 70,
   "id": "complex-interval",
   "metadata": {},
   "outputs": [
    {
     "name": "stdout",
     "output_type": "stream",
     "text": [
      "Hello"
     ]
    },
    {
     "data": {
      "text/plain": [
       "\"World\""
      ]
     },
     "execution_count": 70,
     "metadata": {},
     "output_type": "execute_result"
    }
   ],
   "source": [
    "; Group statements together with do\n",
    "(do\n",
    "  (print \"Hello\")\n",
    "  \"World\") ; => \"World\" (prints \"Hello\")"
   ]
  },
  {
   "cell_type": "code",
   "execution_count": 71,
   "id": "minimal-williams",
   "metadata": {},
   "outputs": [
    {
     "name": "stdout",
     "output_type": "stream",
     "text": [
      "Saying hello to Jeff"
     ]
    },
    {
     "data": {
      "text/plain": [
       "\"Hello Jeff\""
      ]
     },
     "execution_count": 71,
     "metadata": {},
     "output_type": "execute_result"
    }
   ],
   "source": [
    "; Functions have an implicit do\n",
    "(defn print-and-say-hello [name]\n",
    "  (print \"Saying hello to\" name)\n",
    "  (str \"Hello \" name))\n",
    "(print-and-say-hello \"Jeff\") ;=> \"Hello Jeff\" (prints \"Saying hello to Jeff\")"
   ]
  },
  {
   "cell_type": "code",
   "execution_count": 72,
   "id": "orange-tissue",
   "metadata": {},
   "outputs": [
    {
     "name": "stdout",
     "output_type": "stream",
     "text": [
      "Saying hello to  Urkel"
     ]
    },
    {
     "data": {
      "text/plain": [
       "\"Hello Urkel\""
      ]
     },
     "execution_count": 72,
     "metadata": {},
     "output_type": "execute_result"
    }
   ],
   "source": [
    "; So does let\n",
    "(let [name \"Urkel\"]\n",
    "  (print \"Saying hello to \" name)\n",
    "  (str \"Hello \" name)) ; => \"Hello Urkel\" (prints \"Saying hello to Urkel\")"
   ]
  },
  {
   "cell_type": "code",
   "execution_count": 73,
   "id": "rocky-surname",
   "metadata": {},
   "outputs": [
    {
     "data": {
      "text/plain": [
       "nil"
      ]
     },
     "execution_count": 73,
     "metadata": {},
     "output_type": "execute_result"
    }
   ],
   "source": [
    "; Modules\n",
    ";;;;;;;;;;;;;;;\n",
    "\n",
    "; Use \"use\" to get all functions from the module\n",
    "(use 'clojure.set)"
   ]
  },
  {
   "cell_type": "code",
   "execution_count": 74,
   "id": "champion-assist",
   "metadata": {},
   "outputs": [
    {
     "data": {
      "text/plain": [
       "#{3 2}"
      ]
     },
     "execution_count": 74,
     "metadata": {},
     "output_type": "execute_result"
    }
   ],
   "source": [
    "; Now we can use set operations\n",
    "(intersection #{1 2 3} #{2 3 4}) ; => #{2 3}"
   ]
  },
  {
   "cell_type": "code",
   "execution_count": 75,
   "id": "premier-trailer",
   "metadata": {},
   "outputs": [
    {
     "data": {
      "text/plain": [
       "#{1}"
      ]
     },
     "execution_count": 75,
     "metadata": {},
     "output_type": "execute_result"
    }
   ],
   "source": [
    "(difference #{1 2 3} #{2 3 4}) ; => #{1}"
   ]
  },
  {
   "cell_type": "code",
   "execution_count": 76,
   "id": "turned-disposal",
   "metadata": {},
   "outputs": [
    {
     "data": {
      "text/plain": [
       "nil"
      ]
     },
     "execution_count": 76,
     "metadata": {},
     "output_type": "execute_result"
    }
   ],
   "source": [
    "; You can choose a subset of functions to import, too\n",
    "(use '[clojure.set :only [intersection]])"
   ]
  },
  {
   "cell_type": "code",
   "execution_count": 77,
   "id": "colored-liverpool",
   "metadata": {},
   "outputs": [
    {
     "data": {
      "text/plain": [
       "nil"
      ]
     },
     "execution_count": 77,
     "metadata": {},
     "output_type": "execute_result"
    }
   ],
   "source": [
    "; Use require to import a module\n",
    "(require 'clojure.string)"
   ]
  },
  {
   "cell_type": "code",
   "execution_count": 78,
   "id": "killing-supplement",
   "metadata": {},
   "outputs": [
    {
     "data": {
      "text/plain": [
       "true"
      ]
     },
     "execution_count": 78,
     "metadata": {},
     "output_type": "execute_result"
    }
   ],
   "source": [
    "; Use '/' to call functions from a module\n",
    "(clojure.string/blank? \"\") ; => true"
   ]
  },
  {
   "cell_type": "code",
   "execution_count": 79,
   "id": "maritime-western",
   "metadata": {},
   "outputs": [
    {
     "data": {
      "text/plain": [
       "\"THIs Is A tEst.\""
      ]
     },
     "execution_count": 79,
     "metadata": {},
     "output_type": "execute_result"
    }
   ],
   "source": [
    "; You can give a module a shorter name on import\n",
    "(require '[clojure.string :as str])\n",
    "(str/replace \"This is a test.\" #\"[a-o]\" str/upper-case) ; => \"THIs Is A tEst.\"\n",
    "; (#\"\" denotes a regular expression literal)"
   ]
  },
  {
   "cell_type": "code",
   "execution_count": 80,
   "id": "considered-ambassador",
   "metadata": {},
   "outputs": [
    {
     "data": {
      "text/plain": [
       "nil"
      ]
     },
     "execution_count": 80,
     "metadata": {},
     "output_type": "execute_result"
    }
   ],
   "source": [
    "; You can use require (and use, but don't) from a namespace using :require.\n",
    "; You don't need to quote your modules if you do it this way.\n",
    "(ns test\n",
    "  (:require\n",
    "    [clojure.string :as str]\n",
    "    [clojure.set :as set]))"
   ]
  },
  {
   "cell_type": "code",
   "execution_count": 81,
   "id": "heavy-oracle",
   "metadata": {},
   "outputs": [
    {
     "data": {
      "text/plain": [
       "java.util.Date"
      ]
     },
     "execution_count": 81,
     "metadata": {},
     "output_type": "execute_result"
    }
   ],
   "source": [
    "; Java\n",
    ";;;;;;;;;;;;;;;;;\n",
    "\n",
    "; Java has a huge and useful standard library, so\n",
    "; you'll want to learn how to get at it.\n",
    "\n",
    "; Use import to load a java module\n",
    "(import java.util.Date)"
   ]
  },
  {
   "cell_type": "code",
   "execution_count": 82,
   "id": "sufficient-liechtenstein",
   "metadata": {},
   "outputs": [
    {
     "data": {
      "text/plain": [
       "nil"
      ]
     },
     "execution_count": 82,
     "metadata": {},
     "output_type": "execute_result"
    }
   ],
   "source": [
    "; You can import from an ns too.\n",
    "(ns test\n",
    "  (:import java.util.Date\n",
    "           java.util.Calendar))"
   ]
  },
  {
   "cell_type": "code",
   "execution_count": 83,
   "id": "champion-remove",
   "metadata": {},
   "outputs": [
    {
     "data": {
      "text/plain": [
       "#inst \"2022-04-08T02:16:38.189-00:00\""
      ]
     },
     "execution_count": 83,
     "metadata": {},
     "output_type": "execute_result"
    }
   ],
   "source": [
    "; Use the class name with a \".\" at the end to make a new instance\n",
    "(Date.) ; <a date object>"
   ]
  },
  {
   "cell_type": "code",
   "execution_count": 84,
   "id": "supreme-disposal",
   "metadata": {},
   "outputs": [
    {
     "data": {
      "text/plain": [
       "1649384198247"
      ]
     },
     "execution_count": 84,
     "metadata": {},
     "output_type": "execute_result"
    }
   ],
   "source": [
    "; Use . to call methods. Or, use the \".method\" shortcut\n",
    "(. (Date.) getTime) ; <a timestamp>"
   ]
  },
  {
   "cell_type": "code",
   "execution_count": 85,
   "id": "remarkable-azerbaijan",
   "metadata": {},
   "outputs": [
    {
     "data": {
      "text/plain": [
       "1649384198281"
      ]
     },
     "execution_count": 85,
     "metadata": {},
     "output_type": "execute_result"
    }
   ],
   "source": [
    "(.getTime (Date.)) ; exactly the same thing."
   ]
  },
  {
   "cell_type": "code",
   "execution_count": 86,
   "id": "sexual-worst",
   "metadata": {},
   "outputs": [
    {
     "data": {
      "text/plain": [
       "1649384198321"
      ]
     },
     "execution_count": 86,
     "metadata": {},
     "output_type": "execute_result"
    }
   ],
   "source": [
    "; Use / to call static methods\n",
    "(System/currentTimeMillis) ; <a timestamp> (system is always present)"
   ]
  },
  {
   "cell_type": "code",
   "execution_count": 87,
   "id": "proved-indicator",
   "metadata": {},
   "outputs": [
    {
     "data": {
      "text/plain": [
       "#inst \"2000-02-01T00:00:00.389+00:00\""
      ]
     },
     "execution_count": 87,
     "metadata": {},
     "output_type": "execute_result"
    }
   ],
   "source": [
    "; Use doto to make dealing with (mutable) classes more tolerable\n",
    "(import java.util.Calendar)\n",
    "(doto (Calendar/getInstance)\n",
    "  (.set 2000 1 1 0 0 0)\n",
    "  .getTime) ; => A Date. set to 2000-01-01 00:00:00"
   ]
  },
  {
   "cell_type": "code",
   "execution_count": 88,
   "id": "thirty-screen",
   "metadata": {},
   "outputs": [
    {
     "data": {
      "text/plain": [
       "#'test/fib"
      ]
     },
     "execution_count": 88,
     "metadata": {},
     "output_type": "execute_result"
    }
   ],
   "source": [
    "(defn fib []\n",
    "    (map first\n",
    "        (iterate\n",
    "            (fn [[a b]] [b (+ a b)])\n",
    "            [1 1])))"
   ]
  },
  {
   "cell_type": "code",
   "execution_count": 89,
   "id": "social-bachelor",
   "metadata": {},
   "outputs": [
    {
     "data": {
      "text/plain": [
       "(1 1 2 3 5 8 13 21 34 55)"
      ]
     },
     "execution_count": 89,
     "metadata": {},
     "output_type": "execute_result"
    }
   ],
   "source": [
    "(take 10 (fib))"
   ]
  },
  {
   "cell_type": "code",
   "execution_count": 90,
   "id": "daily-channel",
   "metadata": {},
   "outputs": [
    {
     "data": {
      "text/plain": [
       "(1 1 2 3 5 8 13 21 34 55 89 144 233 377 610 987 1597 2584 4181 6765 10946 17711 28657 46368 75025 121393 196418 317811 514229 832040 1346269 2178309 3524578 5702887 9227465 14930352 24157817 39088169 63245986 102334155 165580141 267914296 433494437 701408733 1134903170 1836311903 2971215073 4807526976 7778742049 12586269025)"
      ]
     },
     "execution_count": 90,
     "metadata": {},
     "output_type": "execute_result"
    }
   ],
   "source": [
    "(take 50 (fib))"
   ]
  },
  {
   "cell_type": "code",
   "execution_count": 91,
   "id": "ready-southwest",
   "metadata": {},
   "outputs": [
    {
     "data": {
      "text/plain": [
       "#'test/_fib"
      ]
     },
     "execution_count": 91,
     "metadata": {},
     "output_type": "execute_result"
    }
   ],
   "source": [
    "(defn _fib []\n",
    "    (iterate\n",
    "        (fn [[a b]] [b (+ a b)])\n",
    "            [1 1]))"
   ]
  },
  {
   "cell_type": "code",
   "execution_count": 92,
   "id": "derived-component",
   "metadata": {},
   "outputs": [
    {
     "data": {
      "text/plain": [
       "([1 1] [1 2] [2 3] [3 5] [5 8] [8 13] [13 21] [21 34] [34 55] [55 89])"
      ]
     },
     "execution_count": 92,
     "metadata": {},
     "output_type": "execute_result"
    }
   ],
   "source": [
    "(take 10 (_fib))"
   ]
  },
  {
   "cell_type": "code",
   "execution_count": 93,
   "id": "moderate-mexico",
   "metadata": {},
   "outputs": [
    {
     "data": {
      "text/plain": [
       "#'test/add"
      ]
     },
     "execution_count": 93,
     "metadata": {},
     "output_type": "execute_result"
    }
   ],
   "source": [
    "(defn add [a b]\n",
    "    a + b)"
   ]
  },
  {
   "cell_type": "code",
   "execution_count": 94,
   "id": "mediterranean-header",
   "metadata": {},
   "outputs": [
    {
     "data": {
      "text/plain": [
       "7"
      ]
     },
     "execution_count": 94,
     "metadata": {},
     "output_type": "execute_result"
    }
   ],
   "source": [
    "(add 3 7)"
   ]
  },
  {
   "cell_type": "code",
   "execution_count": 95,
   "id": "proper-divide",
   "metadata": {},
   "outputs": [
    {
     "data": {
      "text/plain": [
       "#function[test/eval4335/fn--4336]"
      ]
     },
     "execution_count": 95,
     "metadata": {},
     "output_type": "execute_result"
    }
   ],
   "source": [
    "#(Character/isWhitespace %)"
   ]
  },
  {
   "cell_type": "code",
   "execution_count": 96,
   "id": "plastic-mattress",
   "metadata": {},
   "outputs": [
    {
     "name": "stdout",
     "output_type": "stream",
     "text": [
      "Hello world!\n"
     ]
    },
    {
     "data": {
      "text/plain": [
       "nil"
      ]
     },
     "execution_count": 96,
     "metadata": {},
     "output_type": "execute_result"
    }
   ],
   "source": [
    ";;     operation (function)             argument\n",
    ";; --------------------------------  --------------\n",
    "(  (fn [message] (println message))  \"Hello world!\" )"
   ]
  },
  {
   "cell_type": "markdown",
   "id": "similar-essence",
   "metadata": {},
   "source": [
    "curry = lambda f: lambda a,*args: f(a, *args) if (len(args)) else lambda *args: f(a, *args)"
   ]
  },
  {
   "cell_type": "code",
   "execution_count": 97,
   "id": "strange-characteristic",
   "metadata": {},
   "outputs": [
    {
     "data": {
      "text/plain": [
       "\"Hello World\""
      ]
     },
     "execution_count": 97,
     "metadata": {},
     "output_type": "execute_result"
    }
   ],
   "source": [
    "; You can have multi-variadic functions, too\n",
    "(defn hello3\n",
    "  ([] \"Hello World\")\n",
    "  ([name] (str \"Hello \" name)))\n",
    "(hello3 \"Jake\") ; => \"Hello Jake\"\n",
    "(hello3) ; => \"Hello World\""
   ]
  },
  {
   "cell_type": "code",
   "execution_count": null,
   "id": "sound-source",
   "metadata": {},
   "outputs": [],
   "source": []
  },
  {
   "cell_type": "code",
   "execution_count": null,
   "id": "specialized-cleaner",
   "metadata": {},
   "outputs": [],
   "source": []
  }
 ],
 "metadata": {
  "kernelspec": {
   "display_name": "Clojure (clojupyter-0.3.2)",
   "language": "clojure",
   "name": "clojupyter-0.3.2"
  },
  "language_info": {
   "file_extension": ".clj",
   "mimetype": "text/x-clojure",
   "name": "clojure",
   "version": "1.10.1"
  },
  "toc": {
   "base_numbering": 1,
   "nav_menu": {},
   "number_sections": false,
   "sideBar": true,
   "skip_h1_title": false,
   "title_cell": "Table of Contents",
   "title_sidebar": "Contents",
   "toc_cell": false,
   "toc_position": {},
   "toc_section_display": true,
   "toc_window_display": false
  }
 },
 "nbformat": 4,
 "nbformat_minor": 5
}
