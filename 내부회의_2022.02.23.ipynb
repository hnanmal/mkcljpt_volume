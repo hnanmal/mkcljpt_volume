{
 "cells": [
  {
   "cell_type": "markdown",
   "id": "empirical-consequence",
   "metadata": {},
   "source": [
    "# 내부회의_2022.02.23"
   ]
  },
  {
   "cell_type": "markdown",
   "id": "structured-accountability",
   "metadata": {},
   "source": [
    "4d 5d  \n",
    "rebar shop  \n",
    "steel shop  \n",
    "모델 자동화  \n",
    "정보입력 자동화  \n",
    "조기실행 적용  \n",
    "팀 기준 자료 작성 및 교육  "
   ]
  },
  {
   "cell_type": "markdown",
   "id": "valuable-sight",
   "metadata": {},
   "source": []
  },
  {
   "cell_type": "code",
   "execution_count": null,
   "id": "hazardous-density",
   "metadata": {},
   "outputs": [],
   "source": []
  },
  {
   "cell_type": "code",
   "execution_count": null,
   "id": "confidential-revolution",
   "metadata": {},
   "outputs": [],
   "source": []
  }
 ],
 "metadata": {
  "kernelspec": {
   "display_name": "Python 3",
   "language": "python",
   "name": "python3"
  },
  "language_info": {
   "codemirror_mode": {
    "name": "ipython",
    "version": 3
   },
   "file_extension": ".py",
   "mimetype": "text/x-python",
   "name": "python",
   "nbconvert_exporter": "python",
   "pygments_lexer": "ipython3",
   "version": "3.8.8"
  }
 },
 "nbformat": 4,
 "nbformat_minor": 5
}
