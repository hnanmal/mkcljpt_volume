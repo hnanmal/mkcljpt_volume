{
 "cells": [
  {
   "cell_type": "code",
   "execution_count": 1,
   "id": "thermal-graphic",
   "metadata": {
    "scrolled": true,
    "slideshow": {
     "slide_type": "skip"
    }
   },
   "outputs": [],
   "source": [
    "# !pip install ipywidgets\n",
    "# !pip install sklearn\n",
    "# !pip install cufflinks\n",
    "# !jupyter nbextension enable --py widgetsnbextension\n",
    "# !jupyter labextension install @jupyter-widgets/jupyterlab-manager"
   ]
  },
  {
   "cell_type": "markdown",
   "id": "separate-injection",
   "metadata": {
    "slideshow": {
     "slide_type": "slide"
    }
   },
   "source": [
    "# 주피터노트북 마크다운 활용"
   ]
  },
  {
   "cell_type": "code",
   "execution_count": 3,
   "id": "embedded-validity",
   "metadata": {},
   "outputs": [],
   "source": [
    "import calendar\n",
    "import numpy as np\n",
    "import pandas as pd\n",
    "from sklearn import datasets\n",
    "import ipywidgets as widgets\n",
    "from ipywidgets import interact, interact_manual\n",
    "import cufflinks as cf"
   ]
  },
  {
   "cell_type": "code",
   "execution_count": 3,
   "id": "several-hollow",
   "metadata": {
    "slideshow": {
     "slide_type": "slide"
    }
   },
   "outputs": [
    {
     "name": "stdout",
     "output_type": "stream",
     "text": [
      "                                  2022\n",
      "\n",
      "      January                   February                   March\n",
      "Mo Tu We Th Fr Sa Su      Mo Tu We Th Fr Sa Su      Mo Tu We Th Fr Sa Su\n",
      "                1  2          1  2  3  4  5  6          1  2  3  4  5  6\n",
      " 3  4  5  6  7  8  9       7  8  9 10 11 12 13       7  8  9 10 11 12 13\n",
      "10 11 12 13 14 15 16      14 15 16 17 18 19 20      14 15 16 17 18 19 20\n",
      "17 18 19 20 21 22 23      21 22 23 24 25 26 27      21 22 23 24 25 26 27\n",
      "24 25 26 27 28 29 30      28                        28 29 30 31\n",
      "31\n",
      "\n",
      "       April                      May                       June\n",
      "Mo Tu We Th Fr Sa Su      Mo Tu We Th Fr Sa Su      Mo Tu We Th Fr Sa Su\n",
      "             1  2  3                         1             1  2  3  4  5\n",
      " 4  5  6  7  8  9 10       2  3  4  5  6  7  8       6  7  8  9 10 11 12\n",
      "11 12 13 14 15 16 17       9 10 11 12 13 14 15      13 14 15 16 17 18 19\n",
      "18 19 20 21 22 23 24      16 17 18 19 20 21 22      20 21 22 23 24 25 26\n",
      "25 26 27 28 29 30         23 24 25 26 27 28 29      27 28 29 30\n",
      "                          30 31\n",
      "\n",
      "        July                     August                  September\n",
      "Mo Tu We Th Fr Sa Su      Mo Tu We Th Fr Sa Su      Mo Tu We Th Fr Sa Su\n",
      "             1  2  3       1  2  3  4  5  6  7                1  2  3  4\n",
      " 4  5  6  7  8  9 10       8  9 10 11 12 13 14       5  6  7  8  9 10 11\n",
      "11 12 13 14 15 16 17      15 16 17 18 19 20 21      12 13 14 15 16 17 18\n",
      "18 19 20 21 22 23 24      22 23 24 25 26 27 28      19 20 21 22 23 24 25\n",
      "25 26 27 28 29 30 31      29 30 31                  26 27 28 29 30\n",
      "\n",
      "      October                   November                  December\n",
      "Mo Tu We Th Fr Sa Su      Mo Tu We Th Fr Sa Su      Mo Tu We Th Fr Sa Su\n",
      "                1  2          1  2  3  4  5  6                1  2  3  4\n",
      " 3  4  5  6  7  8  9       7  8  9 10 11 12 13       5  6  7  8  9 10 11\n",
      "10 11 12 13 14 15 16      14 15 16 17 18 19 20      12 13 14 15 16 17 18\n",
      "17 18 19 20 21 22 23      21 22 23 24 25 26 27      19 20 21 22 23 24 25\n",
      "24 25 26 27 28 29 30      28 29 30                  26 27 28 29 30 31\n",
      "31\n",
      "\n"
     ]
    }
   ],
   "source": [
    "print(calendar.calendar(2022))"
   ]
  },
  {
   "cell_type": "code",
   "execution_count": 4,
   "id": "respiratory-stroke",
   "metadata": {
    "slideshow": {
     "slide_type": "slide"
    }
   },
   "outputs": [
    {
     "name": "stdout",
     "output_type": "stream",
     "text": [
      "                                  2022\n",
      "\n",
      "      January                   February                   March\n",
      "Mo Tu We Th Fr Sa Su      Mo Tu We Th Fr Sa Su      Mo Tu We Th Fr Sa Su\n",
      "                1  2          1  2  3  4  5  6          1  2  3  4  5  6\n",
      " 3  4  5  6  7  8  9       7  8  9 10 11 12 13       7  8  9 10 11 12 13\n",
      "10 11 12 13 14 15 16      14 15 16 17 18 19 20      14 15 16 17 18 19 20\n",
      "17 18 19 20 21 22 23      21 22 23 24 25 26 27      21 22 23 24 25 26 27\n",
      "24 25 26 27 28 29 30      28                        28 29 30 31\n",
      "31\n",
      "\n",
      "       April                      May                       June\n",
      "Mo Tu We Th Fr Sa Su      Mo Tu We Th Fr Sa Su      Mo Tu We Th Fr Sa Su\n",
      "             1  2  3                         1             1  2  3  4  5\n",
      " 4  5  6  7  8  9 10       2  3  4  5  6  7  8       6  7  8  9 10 11 12\n",
      "11 12 13 14 15 16 17       9 10 11 12 13 14 15      13 14 15 16 17 18 19\n",
      "18 19 20 21 22 23 24      16 17 18 19 20 21 22      20 21 22 23 24 25 26\n",
      "25 26 27 28 29 30         23 24 25 26 27 28 29      27 28 29 30\n",
      "                          30 31\n",
      "\n",
      "        July                     August                  September\n",
      "Mo Tu We Th Fr Sa Su      Mo Tu We Th Fr Sa Su      Mo Tu We Th Fr Sa Su\n",
      "             1  2  3       1  2  3  4  5  6  7                1  2  3  4\n",
      " 4  5  6  7  8  9 10       8  9 10 11 12 13 14       5  6  7  8  9 10 11\n",
      "11 12 13 14 15 16 17      15 16 17 18 19 20 21      12 13 14 15 16 17 18\n",
      "18 19 20 21 22 23 24      22 23 24 25 26 27 28      19 20 21 22 23 24 25\n",
      "25 26 27 28 29 30 31      29 30 31                  26 27 28 29 30\n",
      "\n",
      "      October                   November                  December\n",
      "Mo Tu We Th Fr Sa Su      Mo Tu We Th Fr Sa Su      Mo Tu We Th Fr Sa Su\n",
      "                1  2          1  2  3  4  5  6                1  2  3  4\n",
      " 3  4  5  6  7  8  9       7  8  9 10 11 12 13       5  6  7  8  9 10 11\n",
      "10 11 12 13 14 15 16      14 15 16 17 18 19 20      12 13 14 15 16 17 18\n",
      "17 18 19 20 21 22 23      21 22 23 24 25 26 27      19 20 21 22 23 24 25\n",
      "24 25 26 27 28 29 30      28 29 30                  26 27 28 29 30 31\n",
      "31\n"
     ]
    }
   ],
   "source": [
    "calendar.prcal(2022)"
   ]
  },
  {
   "cell_type": "code",
   "execution_count": 15,
   "id": "tracked-virtue",
   "metadata": {},
   "outputs": [],
   "source": [
    "cal1 = calendar.HTMLCalendar().formatyear(2022)"
   ]
  },
  {
   "cell_type": "markdown",
   "id": "accurate-timber",
   "metadata": {
    "variables": {
     "cal1": "<table border=\"0\" cellpadding=\"0\" cellspacing=\"0\" class=\"year\">\\n<tr><th colspan=\"3\" class=\"year\">2022</th></tr><tr><td><table border=\"0\" cellpadding=\"0\" cellspacing=\"0\" class=\"month\">\\n<tr><th colspan=\"7\" class=\"month\">January</th></tr>\\n<tr><th class=\"mon\">Mon</th><th class=\"tue\">Tue</th><th class=\"wed\">Wed</th><th class=\"thu\">Thu</th><th class=\"fri\">Fri</th><th class=\"sat\">Sat</th><th class=\"sun\">Sun</th></tr>\\n<tr><td class=\"noday\">&nbsp;</td><td class=\"noday\">&nbsp;</td><td class=\"noday\">&nbsp;</td><td class=\"noday\">&nbsp;</td><td class=\"noday\">&nbsp;</td><td class=\"sat\">1</td><td class=\"sun\">2</td></tr>\\n<tr><td class=\"mon\">3</td><td class=\"tue\">4</td><td class=\"wed\">5</td><td class=\"thu\">6</td><td class=\"fri\">7</td><td class=\"sat\">8</td><td class=\"sun\">9</td></tr>\\n<tr><td class=\"mon\">10</td><td class=\"tue\">11</td><td class=\"wed\">12</td><td class=\"thu\">13</td><td class=\"fri\">14</td><td class=\"sat\">15</td><td class=\"sun\">16</td></tr>\\n<tr><td class=\"mon\">17</td><td class=\"tue\">18</td><td class=\"wed\">19</td><td class=\"thu\">20</td><td class=\"fri\">21</td><td class=\"sat\">22</td><td class=\"sun\">23</td></tr>\\n<tr><td class=\"mon\">24</td><td class=\"tue\">25</td><td class=\"wed\">26</td><td class=\"thu\">27</td><td class=\"fri\">28</td><td class=\"sat\">29</td><td class=\"sun\">30</td></tr>\\n<tr><td class=\"mon\">31</td><td class=\"noday\">&nbsp;</td><td class=\"noday\">&nbsp;</td><td class=\"noday\">&nbsp;</td><td class=\"noday\">&nbsp;</td><td class=\"noday\">&nbsp;</td><td class=\"noday\">&nbsp;</td></tr>\\n</table>\\n</td><td><table border=\"0\" cellpadding=\"0\" cellspacing=\"0\" class=\"month\">\\n<tr><th colspan=\"7\" class=\"month\">February</th></tr>\\n<tr><th class=\"mon\">Mon</th><th class=\"tue\">Tue</th><th class=\"wed\">Wed</th><th class=\"thu\">Thu</th><th class=\"fri\">Fri</th><th class=\"sat\">Sat</th><th class=\"sun\">Sun</th></tr>\\n<tr><td class=\"noday\">&nbsp;</td><td class=\"tue\">1</td><td class=\"wed\">2</td><td class=\"thu\">3</td><td class=\"fri\">4</td><td class=\"sat\">5</td><td class=\"sun\">6</td></tr>\\n<tr><td class=\"mon\">7</td><td class=\"tue\">8</td><td class=\"wed\">9</td><td class=\"thu\">10</td><td class=\"fri\">11</td><td class=\"sat\">12</td><td class=\"sun\">13</td></tr>\\n<tr><td class=\"mon\">14</td><td class=\"tue\">15</td><td class=\"wed\">16</td><td class=\"thu\">17</td><td class=\"fri\">18</td><td class=\"sat\">19</td><td class=\"sun\">20</td></tr>\\n<tr><td class=\"mon\">21</td><td class=\"tue\">22</td><td class=\"wed\">23</td><td class=\"thu\">24</td><td class=\"fri\">25</td><td class=\"sat\">26</td><td class=\"sun\">27</td></tr>\\n<tr><td class=\"mon\">28</td><td class=\"noday\">&nbsp;</td><td class=\"noday\">&nbsp;</td><td class=\"noday\">&nbsp;</td><td class=\"noday\">&nbsp;</td><td class=\"noday\">&nbsp;</td><td class=\"noday\">&nbsp;</td></tr>\\n</table>\\n</td><td><table border=\"0\" cellpadding=\"0\" cellspacing=\"0\" class=\"month\">\\n<tr><th colspan=\"7\" class=\"month\">March</th></tr>\\n<tr><th class=\"mon\">Mon</th><th class=\"tue\">Tue</th><th class=\"wed\">Wed</th><th class=\"thu\">Thu</th><th class=\"fri\">Fri</th><th class=\"sat\">Sat</th><th class=\"sun\">Sun</th></tr>\\n<tr><td class=\"noday\">&nbsp;</td><td class=\"tue\">1</td><td class=\"wed\">2</td><td class=\"thu\">3</td><td class=\"fri\">4</td><td class=\"sat\">5</td><td class=\"sun\">6</td></tr>\\n<tr><td class=\"mon\">7</td><td class=\"tue\">8</td><td class=\"wed\">9</td><td class=\"thu\">10</td><td class=\"fri\">11</td><td class=\"sat\">12</td><td class=\"sun\">13</td></tr>\\n<tr><td class=\"mon\">14</td><td class=\"tue\">15</td><td class=\"wed\">16</td><td class=\"thu\">17</td><td class=\"fri\">18</td><td class=\"sat\">19</td><td class=\"sun\">20</td></tr>\\n<tr><td class=\"mon\">21</td><td class=\"tue\">22</td><td class=\"wed\">23</td><td class=\"thu\">24</td><td class=\"fri\">25</td><td class=\"sat\">26</td><td class=\"sun\">27</td></tr>\\n<tr><td class=\"mon\">28</td><td class=\"tue\">29</td><td class=\"wed\">30</td><td class=\"thu\">31</td><td class=\"noday\">&nbsp;</td><td class=\"noday\">&nbsp;</td><td class=\"noday\">&nbsp;</td></tr>\\n</table>\\n</td></tr><tr><td><table border=\"0\" cellpadding=\"0\" cellspacing=\"0\" class=\"month\">\\n<tr><th colspan=\"7\" class=\"month\">April</th></tr>\\n<tr><th class=\"mon\">Mon</th><th class=\"tue\">Tue</th><th class=\"wed\">Wed</th><th class=\"thu\">Thu</th><th class=\"fri\">Fri</th><th class=\"sat\">Sat</th><th class=\"sun\">Sun</th></tr>\\n<tr><td class=\"noday\">&nbsp;</td><td class=\"noday\">&nbsp;</td><td class=\"noday\">&nbsp;</td><td class=\"noday\">&nbsp;</td><td class=\"fri\">1</td><td class=\"sat\">2</td><td class=\"sun\">3</td></tr>\\n<tr><td class=\"mon\">4</td><td class=\"tue\">5</td><td class=\"wed\">6</td><td class=\"thu\">7</td><td class=\"fri\">8</td><td class=\"sat\">9</td><td class=\"sun\">10</td></tr>\\n<tr><td class=\"mon\">11</td><td class=\"tue\">12</td><td class=\"wed\">13</td><td class=\"thu\">14</td><td class=\"fri\">15</td><td class=\"sat\">16</td><td class=\"sun\">17</td></tr>\\n<tr><td class=\"mon\">18</td><td class=\"tue\">19</td><td class=\"wed\">20</td><td class=\"thu\">21</td><td class=\"fri\">22</td><td class=\"sat\">23</td><td class=\"sun\">24</td></tr>\\n<tr><td class=\"mon\">25</td><td class=\"tue\">26</td><td class=\"wed\">27</td><td class=\"thu\">28</td><td class=\"fri\">29</td><td class=\"sat\">30</td><td class=\"noday\">&nbsp;</td></tr>\\n</table>\\n</td><td><table border=\"0\" cellpadding=\"0\" cellspacing=\"0\" class=\"month\">\\n<tr><th colspan=\"7\" class=\"month\">May</th></tr>\\n<tr><th class=\"mon\">Mon</th><th class=\"tue\">Tue</th><th class=\"wed\">Wed</th><th class=\"thu\">Thu</th><th class=\"fri\">Fri</th><th class=\"sat\">Sat</th><th class=\"sun\">Sun</th></tr>\\n<tr><td class=\"noday\">&nbsp;</td><td class=\"noday\">&nbsp;</td><td class=\"noday\">&nbsp;</td><td class=\"noday\">&nbsp;</td><td class=\"noday\">&nbsp;</td><td class=\"noday\">&nbsp;</td><td class=\"sun\">1</td></tr>\\n<tr><td class=\"mon\">2</td><td class=\"tue\">3</td><td class=\"wed\">4</td><td class=\"thu\">5</td><td class=\"fri\">6</td><td class=\"sat\">7</td><td class=\"sun\">8</td></tr>\\n<tr><td class=\"mon\">9</td><td class=\"tue\">10</td><td class=\"wed\">11</td><td class=\"thu\">12</td><td class=\"fri\">13</td><td class=\"sat\">14</td><td class=\"sun\">15</td></tr>\\n<tr><td class=\"mon\">16</td><td class=\"tue\">17</td><td class=\"wed\">18</td><td class=\"thu\">19</td><td class=\"fri\">20</td><td class=\"sat\">21</td><td class=\"sun\">22</td></tr>\\n<tr><td class=\"mon\">23</td><td class=\"tue\">24</td><td class=\"wed\">25</td><td class=\"thu\">26</td><td class=\"fri\">27</td><td class=\"sat\">28</td><td class=\"sun\">29</td></tr>\\n<tr><td class=\"mon\">30</td><td class=\"tue\">31</td><td class=\"noday\">&nbsp;</td><td class=\"noday\">&nbsp;</td><td class=\"noday\">&nbsp;</td><td class=\"noday\">&nbsp;</td><td class=\"noday\">&nbsp;</td></tr>\\n</table>\\n</td><td><table border=\"0\" cellpadding=\"0\" cellspacing=\"0\" class=\"month\">\\n<tr><th colspan=\"7\" class=\"month\">June</th></tr>\\n<tr><th class=\"mon\">Mon</th><th class=\"tue\">Tue</th><th class=\"wed\">Wed</th><th class=\"thu\">Thu</th><th class=\"fri\">Fri</th><th class=\"sat\">Sat</th><th class=\"sun\">Sun</th></tr>\\n<tr><td class=\"noday\">&nbsp;</td><td class=\"noday\">&nbsp;</td><td class=\"wed\">1</td><td class=\"thu\">2</td><td class=\"fri\">3</td><td class=\"sat\">4</td><td class=\"sun\">5</td></tr>\\n<tr><td class=\"mon\">6</td><td class=\"tue\">7</td><td class=\"wed\">8</td><td class=\"thu\">9</td><td class=\"fri\">10</td><td class=\"sat\">11</td><td class=\"sun\">12</td></tr>\\n<tr><td class=\"mon\">13</td><td class=\"tue\">14</td><td class=\"wed\">15</td><td class=\"thu\">16</td><td class=\"fri\">17</td><td class=\"sat\">18</td><td class=\"sun\">19</td></tr>\\n<tr><td class=\"mon\">20</td><td class=\"tue\">21</td><td class=\"wed\">22</td><td class=\"thu\">23</td><td class=\"fri\">24</td><td class=\"sat\">25</td><td class=\"sun\">26</td></tr>\\n<tr><td class=\"mon\">27</td><td class=\"tue\">28</td><td class=\"wed\">29</td><td class=\"thu\">30</td><td class=\"noday\">&nbsp;</td><td class=\"noday\">&nbsp;</td><td class=\"noday\">&nbsp;</td></tr>\\n</table>\\n</td></tr><tr><td><table border=\"0\" cellpadding=\"0\" cellspacing=\"0\" class=\"month\">\\n<tr><th colspan=\"7\" class=\"month\">July</th></tr>\\n<tr><th class=\"mon\">Mon</th><th class=\"tue\">Tue</th><th class=\"wed\">Wed</th><th class=\"thu\">Thu</th><th class=\"fri\">Fri</th><th class=\"sat\">Sat</th><th class=\"sun\">Sun</th></tr>\\n<tr><td class=\"noday\">&nbsp;</td><td class=\"noday\">&nbsp;</td><td class=\"noday\">&nbsp;</td><td class=\"noday\">&nbsp;</td><td class=\"fri\">1</td><td class=\"sat\">2</td><td class=\"sun\">3</td></tr>\\n<tr><td class=\"mon\">4</td><td class=\"tue\">5</td><td class=\"wed\">6</td><td class=\"thu\">7</td><td class=\"fri\">8</td><td class=\"sat\">9</td><td class=\"sun\">10</td></tr>\\n<tr><td class=\"mon\">11</td><td class=\"tue\">12</td><td class=\"wed\">13</td><td class=\"thu\">14</td><td class=\"fri\">15</td><td class=\"sat\">16</td><td class=\"sun\">17</td></tr>\\n<tr><td class=\"mon\">18</td><td class=\"tue\">19</td><td class=\"wed\">20</td><td class=\"thu\">21</td><td class=\"fri\">22</td><td class=\"sat\">23</td><td class=\"sun\">24</td></tr>\\n<tr><td class=\"mon\">25</td><td class=\"tue\">26</td><td class=\"wed\">27</td><td class=\"thu\">28</td><td class=\"fri\">29</td><td class=\"sat\">30</td><td class=\"sun\">31</td></tr>\\n</table>\\n</td><td><table border=\"0\" cellpadding=\"0\" cellspacing=\"0\" class=\"month\">\\n<tr><th colspan=\"7\" class=\"month\">August</th></tr>\\n<tr><th class=\"mon\">Mon</th><th class=\"tue\">Tue</th><th class=\"wed\">Wed</th><th class=\"thu\">Thu</th><th class=\"fri\">Fri</th><th class=\"sat\">Sat</th><th class=\"sun\">Sun</th></tr>\\n<tr><td class=\"mon\">1</td><td class=\"tue\">2</td><td class=\"wed\">3</td><td class=\"thu\">4</td><td class=\"fri\">5</td><td class=\"sat\">6</td><td class=\"sun\">7</td></tr>\\n<tr><td class=\"mon\">8</td><td class=\"tue\">9</td><td class=\"wed\">10</td><td class=\"thu\">11</td><td class=\"fri\">12</td><td class=\"sat\">13</td><td class=\"sun\">14</td></tr>\\n<tr><td class=\"mon\">15</td><td class=\"tue\">16</td><td class=\"wed\">17</td><td class=\"thu\">18</td><td class=\"fri\">19</td><td class=\"sat\">20</td><td class=\"sun\">21</td></tr>\\n<tr><td class=\"mon\">22</td><td class=\"tue\">23</td><td class=\"wed\">24</td><td class=\"thu\">25</td><td class=\"fri\">26</td><td class=\"sat\">27</td><td class=\"sun\">28</td></tr>\\n<tr><td class=\"mon\">29</td><td class=\"tue\">30</td><td class=\"wed\">31</td><td class=\"noday\">&nbsp;</td><td class=\"noday\">&nbsp;</td><td class=\"noday\">&nbsp;</td><td class=\"noday\">&nbsp;</td></tr>\\n</table>\\n</td><td><table border=\"0\" cellpadding=\"0\" cellspacing=\"0\" class=\"month\">\\n<tr><th colspan=\"7\" class=\"month\">September</th></tr>\\n<tr><th class=\"mon\">Mon</th><th class=\"tue\">Tue</th><th class=\"wed\">Wed</th><th class=\"thu\">Thu</th><th class=\"fri\">Fri</th><th class=\"sat\">Sat</th><th class=\"sun\">Sun</th></tr>\\n<tr><td class=\"noday\">&nbsp;</td><td class=\"noday\">&nbsp;</td><td class=\"noday\">&nbsp;</td><td class=\"thu\">1</td><td class=\"fri\">2</td><td class=\"sat\">3</td><td class=\"sun\">4</td></tr>\\n<tr><td class=\"mon\">5</td><td class=\"tue\">6</td><td class=\"wed\">7</td><td class=\"thu\">8</td><td class=\"fri\">9</td><td class=\"sat\">10</td><td class=\"sun\">11</td></tr>\\n<tr><td class=\"mon\">12</td><td class=\"tue\">13</td><td class=\"wed\">14</td><td class=\"thu\">15</td><td class=\"fri\">16</td><td class=\"sat\">17</td><td class=\"sun\">18</td></tr>\\n<tr><td class=\"mon\">19</td><td class=\"tue\">20</td><td class=\"wed\">21</td><td class=\"thu\">22</td><td class=\"fri\">23</td><td class=\"sat\">24</td><td class=\"sun\">25</td></tr>\\n<tr><td class=\"mon\">26</td><td class=\"tue\">27</td><td class=\"wed\">28</td><td class=\"thu\">29</td><td class=\"fri\">30</td><td class=\"noday\">&nbsp;</td><td class=\"noday\">&nbsp;</td></tr>\\n</table>\\n</td></tr><tr><td><table border=\"0\" cellpadding=\"0\" cellspacing=\"0\" class=\"month\">\\n<tr><th colspan=\"7\" class=\"month\">October</th></tr>\\n<tr><th class=\"mon\">Mon</th><th class=\"tue\">Tue</th><th class=\"wed\">Wed</th><th class=\"thu\">Thu</th><th class=\"fri\">Fri</th><th class=\"sat\">Sat</th><th class=\"sun\">Sun</th></tr>\\n<tr><td class=\"noday\">&nbsp;</td><td class=\"noday\">&nbsp;</td><td class=\"noday\">&nbsp;</td><td class=\"noday\">&nbsp;</td><td class=\"noday\">&nbsp;</td><td class=\"sat\">1</td><td class=\"sun\">2</td></tr>\\n<tr><td class=\"mon\">3</td><td class=\"tue\">4</td><td class=\"wed\">5</td><td class=\"thu\">6</td><td class=\"fri\">7</td><td class=\"sat\">8</td><td class=\"sun\">9</td></tr>\\n<tr><td class=\"mon\">10</td><td class=\"tue\">11</td><td class=\"wed\">12</td><td class=\"thu\">13</td><td class=\"fri\">14</td><td class=\"sat\">15</td><td class=\"sun\">16</td></tr>\\n<tr><td class=\"mon\">17</td><td class=\"tue\">18</td><td class=\"wed\">19</td><td class=\"thu\">20</td><td class=\"fri\">21</td><td class=\"sat\">22</td><td class=\"sun\">23</td></tr>\\n<tr><td class=\"mon\">24</td><td class=\"tue\">25</td><td class=\"wed\">26</td><td class=\"thu\">27</td><td class=\"fri\">28</td><td class=\"sat\">29</td><td class=\"sun\">30</td></tr>\\n<tr><td class=\"mon\">31</td><td class=\"noday\">&nbsp;</td><td class=\"noday\">&nbsp;</td><td class=\"noday\">&nbsp;</td><td class=\"noday\">&nbsp;</td><td class=\"noday\">&nbsp;</td><td class=\"noday\">&nbsp;</td></tr>\\n</table>\\n</td><td><table border=\"0\" cellpadding=\"0\" cellspacing=\"0\" class=\"month\">\\n<tr><th colspan=\"7\" class=\"month\">November</th></tr>\\n<tr><th class=\"mon\">Mon</th><th class=\"tue\">Tue</th><th class=\"wed\">Wed</th><th class=\"thu\">Thu</th><th class=\"fri\">Fri</th><th class=\"sat\">Sat</th><th class=\"sun\">Sun</th></tr>\\n<tr><td class=\"noday\">&nbsp;</td><td class=\"tue\">1</td><td class=\"wed\">2</td><td class=\"thu\">3</td><td class=\"fri\">4</td><td class=\"sat\">5</td><td class=\"sun\">6</td></tr>\\n<tr><td class=\"mon\">7</td><td class=\"tue\">8</td><td class=\"wed\">9</td><td class=\"thu\">10</td><td class=\"fri\">11</td><td class=\"sat\">12</td><td class=\"sun\">13</td></tr>\\n<tr><td class=\"mon\">14</td><td class=\"tue\">15</td><td class=\"wed\">16</td><td class=\"thu\">17</td><td class=\"fri\">18</td><td class=\"sat\">19</td><td class=\"sun\">20</td></tr>\\n<tr><td class=\"mon\">21</td><td class=\"tue\">22</td><td class=\"wed\">23</td><td class=\"thu\">24</td><td class=\"fri\">25</td><td class=\"sat\">26</td><td class=\"sun\">27</td></tr>\\n<tr><td class=\"mon\">28</td><td class=\"tue\">29</td><td class=\"wed\">30</td><td class=\"noday\">&nbsp;</td><td class=\"noday\">&nbsp;</td><td class=\"noday\">&nbsp;</td><td class=\"noday\">&nbsp;</td></tr>\\n</table>\\n</td><td><table border=\"0\" cellpadding=\"0\" cellspacing=\"0\" class=\"month\">\\n<tr><th colspan=\"7\" class=\"month\">December</th></tr>\\n<tr><th class=\"mon\">Mon</th><th class=\"tue\">Tue</th><th class=\"wed\">Wed</th><th class=\"thu\">Thu</th><th class=\"fri\">Fri</th><th class=\"sat\">Sat</th><th class=\"sun\">Sun</th></tr>\\n<tr><td class=\"noday\">&nbsp;</td><td class=\"noday\">&nbsp;</td><td class=\"noday\">&nbsp;</td><td class=\"thu\">1</td><td class=\"fri\">2</td><td class=\"sat\">3</td><td class=\"sun\">4</td></tr>\\n<tr><td class=\"mon\">5</td><td class=\"tue\">6</td><td class=\"wed\">7</td><td class=\"thu\">8</td><td class=\"fri\">9</td><td class=\"sat\">10</td><td class=\"sun\">11</td></tr>\\n<tr><td class=\"mon\">12</td><td class=\"tue\">13</td><td class=\"wed\">14</td><td class=\"thu\">15</td><td class=\"fri\">16</td><td class=\"sat\">17</td><td class=\"sun\">18</td></tr>\\n<tr><td class=\"mon\">19</td><td class=\"tue\">20</td><td class=\"wed\">21</td><td class=\"thu\">22</td><td class=\"fri\">23</td><td class=\"sat\">24</td><td class=\"sun\">25</td></tr>\\n<tr><td class=\"mon\">26</td><td class=\"tue\">27</td><td class=\"wed\">28</td><td class=\"thu\">29</td><td class=\"fri\">30</td><td class=\"sat\">31</td><td class=\"noday\">&nbsp;</td></tr>\\n</table>\\n</td></tr></table>"
    }
   },
   "source": [
    "{{cal1}}"
   ]
  },
  {
   "cell_type": "markdown",
   "id": "intelligent-underground",
   "metadata": {
    "slideshow": {
     "slide_type": "slide"
    }
   },
   "source": [
    "# 2022년\n",
    "\n",
    "## 2022년 01월\n",
    "|     월     |     화     |     수     |     목     |     금     |     토     |     일     |\n",
    "|:----------:|:----------:|:----------:|:----------:|:----------:|:----------:|:----------:|\n",
    "|            |            |            |            |            | 2022-01-01 | 2022-01-02 |\n",
    "|            |            |            |            |            |   장만규   |            |\n",
    "| 2022-01-03 | 2022-01-04 | 2022-01-05 | 2022-01-06 | 2022-01-07 | 2022-01-08 | 2022-01-09 |\n",
    "|            |            |            |            |            |            |            |\n",
    "| 2022-01-10 | 2022-01-11 | 2022-01-12 | 2022-01-13 | 2022-01-14 | 2022-01-15 | 2022-01-16 |\n",
    "|            |            |            |            |            |            |            |\n",
    "| 2022-01-17 | 2022-01-18 | 2022-01-19 | 2022-01-20 | 2022-01-21 | 2022-01-22 | 2022-01-23 |\n",
    "|            |            |            |            |            |            |            |\n",
    "| 2022-01-24 | 2022-01-25 | 2022-01-26 | 2022-01-27 | 2022-01-28 | 2022-01-29 | 2022-01-30 |\n",
    "|            |            |            |            |            |            |            |\n",
    "| 2022-01-31 |            |            |            |            |            |            |\n",
    "|            |            |            |            |            |            |            |\n",
    "\n",
    "\n",
    "## 2022년 02월\n",
    "|     월     |     화     |     수     |     목     |     금     |     토     |     일     |\n",
    "|:----------:|:----------:|:----------:|:----------:|:----------:|:----------:|:----------:|\n",
    "|            | 2022-02-01 | 2022-02-02 | 2022-02-03 | 2022-02-04 | 2022-02-05 | 2022-02-06 |\n",
    "|            |            |            |            |            |            |            |\n",
    "| 2022-02-07 | 2022-02-08 | 2022-02-09 | 2022-02-10 | 2022-02-11 | 2022-02-12 | 2022-02-13 |\n",
    "|            |            |            |            |            |            |            |\n",
    "| 2022-02-14 | 2022-02-15 | 2022-02-16 | 2022-02-17 | 2022-02-18 | 2022-02-19 | 2022-02-20 |\n",
    "|            |            |            |            |            |            |            |\n",
    "| 2022-02-21 | 2022-02-22 | 2022-02-23 | 2022-02-24 | 2022-02-25 | 2022-02-26 | 2022-02-27 | \n",
    "|            |            |            |            |            |            |            |\n",
    "| 2022-02-28 |            |            |            |            |            |            |\n",
    "|            |            |            |            |            |            |            |\n",
    "\n",
    "\n",
    "## 2022년 03월\n",
    "|     월     |     화     |     수     |     목     |     금     |     토     |     일     |\n",
    "|:----------:|:----------:|:----------:|:----------:|:----------:|:----------:|:----------:|\n",
    "|            | 2022-03-01 | 2022-03-02 | 2022-03-03 | 2022-03-04 | 2022-03-05 | 2022-03-06 |\n",
    "|            |            |            |            |            |            |            |\n",
    "| 2022-03-07 | 2022-03-08 | 2022-03-09 | 2022-03-10 | 2022-03-11 | 2022-03-12 | 2022-03-13 |\n",
    "|            |            |            |            |            |            |            |\n",
    "| 2022-03-14 | 2022-03-15 | 2022-03-16 | 2022-03-17 | 2022-03-18 | 2022-03-19 | 2022-03-20 |\n",
    "|            |            |            |            |            |            |            |\n",
    "| 2022-03-21 | 2022-03-22 | 2022-03-23 | 2022-03-24 | 2022-03-25 | 2022-03-26 | 2022-03-27 |\n",
    "|            |            |            |            |            |            |            |\n",
    "| 2022-03-28 | 2022-03-29 | 2022-03-30 | 2022-03-31 |            |            |            |\n",
    "|            |            |            |            |            |            |            |\n",
    "\n",
    "## 2022년 04월\n",
    "|     월     |     화     |     수     |     목     |     금     |     토     |     일     |\n",
    "|:----------:|:----------:|:----------:|:----------:|:----------:|:----------:|:----------:|\n",
    "|            |            |            |            | 2022-04-01 | 2022-04-02 | 2022-04-03 |\n",
    "|            |            |            |            |            |            |            |\n",
    "| 2022-04-04 | 2022-04-05 | 2022-04-06 | 2022-04-07 | 2022-04-08 | 2022-04-09 | 2022-04-10 |\n",
    "|            |            |            |            |            |            |            |\n",
    "| 2022-04-11 | 2022-04-12 | 2022-04-13 | 2022-04-14 | 2022-04-15 | 2022-04-16 | 2022-04-17 |\n",
    "|            |            |            |            |            |            |            |\n",
    "| 2022-04-18 | 2022-04-19 | 2022-04-20 | 2022-04-21 | 2022-04-22 | 2022-04-23 | 2022-04-24 |\n",
    "|            |            |            |            |            |            |            |\n",
    "| 2022-04-25 | 2022-04-26 | 2022-04-27 | 2022-04-28 | 2022-04-29 | 2022-04-30 |            |\n",
    "\n",
    "\n",
    "## 2022년 05월\n",
    "|     월     |     화     |     수     |     목     |     금     |     토     |     일     |\n",
    "|:----------:|:----------:|:----------:|:----------:|:----------:|:----------:|:----------:|\n",
    "|            |            |            |            |            |            | 2022-05-01 |\n",
    "|            |            |            |            |            |            |            |\n",
    "| 2022-05-02 | 2022-05-03 | 2022-05-04 | 2022-05-05 | 2022-05-06 | 2022-05-07 | 2022-05-08 |\n",
    "|            |            |            |            |            |            |            |\n",
    "| 2022-05-09 | 2022-05-10 | 2022-05-11 | 2022-05-12 | 2022-05-13 | 2022-05-14 | 2022-05-15 |\n",
    "|            |            |            |            |            |            |            |\n",
    "| 2022-05-16 | 2022-05-17 | 2022-05-18 | 2022-05-19 | 2022-05-20 | 2022-05-21 | 2022-05-22 |\n",
    "|            |            |            |            |            |            |            |\n",
    "| 2022-05-23 | 2022-05-24 | 2022-05-25 | 2022-05-26 | 2022-05-27 | 2022-05-28 | 2022-05-29 |\n",
    "|            |            |            |            |            |            |            |\n",
    "| 2022-05-30 | 2022-05-31 |            |            |            |            |            |\n",
    "|            |            |            |            |            |            |            |\n",
    "\n",
    "## 2022년 06월\n",
    "|     월     |     화     |     수     |     목     |     금     |     토     |     일     |\n",
    "|:----------:|:----------:|:----------:|:----------:|:----------:|:----------:|:----------:|\n",
    "|            |            | 2022-06-01 | 2022-06-02 | 2022-06-03 | 2022-06-04 | 2022-06-05 |\n",
    "|            |            |            |            |            |            |            |\n",
    "| 2022-06-06 | 2022-06-07 | 2022-06-08 | 2022-06-09 | 2022-06-10 | 2022-06-11 | 2022-06-12 |\n",
    "|            |            |            |            |            |            |            |\n",
    "| 2022-06-13 | 2022-06-14 | 2022-06-15 | 2022-06-16 | 2022-06-17 | 2022-06-18 | 2022-06-19 |\n",
    "|            |            |            |            |            |            |            |\n",
    "| 2022-06-20 | 2022-06-21 | 2022-06-22 | 2022-06-23 | 2022-06-24 | 2022-06-25 | 2022-06-26 |\n",
    "|            |            |            |            |            |            |            |\n",
    "| 2022-06-27 | 2022-06-28 | 2022-06-29 | 2022-06-30 |            |            |            |\n",
    "|            |            |            |            |            |            |            |\n",
    "\n",
    "\n",
    "## 2022년 07월\n",
    "|     월     |     화     |     수     |     목     |     금     |     토     |     일     |\n",
    "|:----------:|:----------:|:----------:|:----------:|:----------:|:----------:|:----------:|\n",
    "|            |            |            |            | 2022-07-01 | 2022-07-02 | 2022-07-03 |\n",
    "|            |            |            |            |            |            |            |\n",
    "| 2022-07-04 | 2022-07-05 | 2022-07-06 | 2022-07-07 | 2022-07-08 | 2022-07-09 | 2022-07-10 |\n",
    "|            |            |            |            |            |            |            |\n",
    "| 2022-07-11 | 2022-07-12 | 2022-07-13 | 2022-07-14 | 2022-07-15 | 2022-07-16 | 2022-07-17 |\n",
    "|            |            |            |            |            |            |            |\n",
    "| 2022-07-18 | 2022-07-19 | 2022-07-20 | 2022-07-21 | 2022-07-22 | 2022-07-23 | 2022-07-24 |\n",
    "|            |            |            |            |            |            |            |\n",
    "| 2022-07-25 | 2022-07-26 | 2022-07-27 | 2022-07-28 | 2022-07-29 | 2022-07-30 | 2022-07-31 | \n",
    "|            |            |            |            |            |            |            |\n",
    "\n",
    "## 2022년 08월\n",
    "|     월     |     화     |     수     |     목     |     금     |     토     |     일     |\n",
    "|:----------:|:----------:|:----------:|:----------:|:----------:|:----------:|:----------:|\n",
    "| 2022-08-01 | 2022-08-02 | 2022-08-03 | 2022-08-04 | 2022-08-05 | 2022-08-06 | 2022-08-07 |\n",
    "|            |            |            |            |            |            |            |\n",
    "| 2022-08-08 | 2022-08-09 | 2022-08-10 | 2022-08-11 | 2022-08-12 | 2022-08-13 | 2022-08-14 |\n",
    "|            |            |            |            |            |            |            |\n",
    "| 2022-08-15 | 2022-08-16 | 2022-08-17 | 2022-08-18 | 2022-08-19 | 2022-08-20 | 2022-08-21 |\n",
    "|            |            |            |            |            |            |            |\n",
    "| 2022-08-22 | 2022-08-23 | 2022-08-24 | 2022-08-25 | 2022-08-26 | 2022-08-27 | 2022-08-28 |\n",
    "|            |            |            |            |            |            |            |\n",
    "| 2022-08-29 | 2022-08-30 | 2022-08-31 |            |            |            |            |\n",
    "|            |            |            |            |            |            |            |\n",
    "\n",
    "## 2022년 09월\n",
    "|     월     |     화     |     수     |     목     |     금     |     토     |     일     |\n",
    "|:----------:|:----------:|:----------:|:----------:|:----------:|:----------:|:----------:|\n",
    "|            |            |            | 2022-09-01 | 2022-09-02 | 2022-09-03 | 2022-09-04 |\n",
    "|            |            |            |            |            |            |            |\n",
    "| 2022-09-05 | 2022-09-06 | 2022-09-07 | 2022-09-08 | 2022-09-09 | 2022-09-10 | 2022-09-11 |\n",
    "|            |            |            |            |            |            |            |\n",
    "| 2022-09-12 | 2022-09-13 | 2022-09-14 | 2022-09-15 | 2022-09-16 | 2022-09-17 | 2022-09-18 |\n",
    "|            |            |            |            |            |            |            |\n",
    "| 2022-09-19 | 2022-09-20 | 2022-09-21 | 2022-09-22 | 2022-09-23 | 2022-09-24 | 2022-09-25 |\n",
    "|            |            |            |            |            |            |            |\n",
    "| 2022-09-26 | 2022-09-27 | 2022-09-28 | 2022-09-29 | 2022-09-30 |            |            |\n",
    "|            |            |            |            |            |            |            |\n",
    "\n",
    "\n",
    "## 2022년 10월\n",
    "|     월     |     화     |     수     |     목     |     금     |     토     |     일     |\n",
    "|:----------:|:----------:|:----------:|:----------:|:----------:|:----------:|:----------:|\n",
    "|            |            |            |            |            | 2022-10-01 | 2022-10-02 |\n",
    "|            |            |            |            |            |            |            |\n",
    "| 2022-10-03 | 2022-10-04 | 2022-10-05 | 2022-10-06 | 2022-10-07 | 2022-10-08 | 2022-10-09 |\n",
    "|            |            |            |            |            |            |            |\n",
    "| 2022-10-10 | 2022-10-11 | 2022-10-12 | 2022-10-13 | 2022-10-14 | 2022-10-15 | 2022-10-16 |\n",
    "|            |            |            |            |            |            |            |\n",
    "| 2022-10-17 | 2022-10-18 | 2022-10-19 | 2022-10-20 | 2022-10-21 | 2022-10-22 | 2022-10-23 |\n",
    "|            |            |            |            |            |            |            |\n",
    "| 2022-10-24 | 2022-10-25 | 2022-10-26 | 2022-10-27 | 2022-10-28 | 2022-01-29 | 2022-10-30 |\n",
    "|            |            |            |            |            |            |            |\n",
    "| 2022-10-31 |            |            |            |            |            |            |\n",
    "|            |            |            |            |            |            |            |\n",
    "\n",
    "## 2022년 11월\n",
    "|     월     |     화     |     수     |     목     |     금     |     토     |     일     |\n",
    "|:----------:|:----------:|:----------:|:----------:|:----------:|:----------:|:----------:|\n",
    "|            | 2022-11-01 | 2022-11-02 | 2022-11-03 | 2022-11-04 | 2022-11-05 | 2022-11-06 |\n",
    "|            |            |            |            |            |            |            |\n",
    "| 2022-11-07 | 2022-11-08 | 2022-11-09 | 2022-11-10 | 2022-11-11 | 2022-11-12 | 2022-11-13 |\n",
    "|            |            |            |            |            |            |            |\n",
    "| 2022-11-14 | 2022-11-15 | 2022-11-16 | 2022-11-17 | 2022-11-18 | 2022-11-19 | 2022-11-20 |\n",
    "|            |            |            |            |            |            |            |\n",
    "| 2022-11-21 | 2022-11-22 | 2022-11-23 | 2022-11-24 | 2022-11-25 | 2022-11-26 | 2022-11-27 |\n",
    "|            |            |            |            |            |            |            |\n",
    "| 2022-11-28 | 2022-11-29 | 2022-11-30 | 2022-11-31 |            |            |            |\n",
    "|            |            |            |            |            |            |            |\n",
    "\n",
    "## 2022년 12월\n",
    "|     월     |     화     |     수     |     목     |     금     |     토     |     일     |\n",
    "|:----------:|:----------:|:----------:|:----------:|:----------:|:----------:|:----------:|\n",
    "|            |            |            | 2022-12-01 | 2022-12-02 | 2022-12-03 | 2022-12-04 |\n",
    "|            |            |            |            |            |            |            |\n",
    "| 2022-12-05 | 2022-12-06 | 2022-12-07 | 2022-12-08 | 2022-12-09 | 2022-12-10 | 2022-12-11 |\n",
    "|            |            |            |            |            |            |            |\n",
    "| 2022-12-12 | 2022-12-13 | 2022-12-14 | 2022-12-15 | 2022-12-16 | 2022-12-17 | 2022-12-18 |\n",
    "|            |            |            |            |            |            |            |\n",
    "| 2022-12-19 | 2022-12-20 | 2022-12-21 | 2022-12-22 | 2022-12-23 | 2022-12-24 | 2022-12-25 |\n",
    "|            |            |            |            |            |            |            |\n",
    "| 2022-12-26 | 2022-12-27 | 2022-12-28 | 2022-12-29 | 2022-12-30 |            |            |\n",
    "|            |            |            |            |            |            |            |"
   ]
  },
  {
   "cell_type": "code",
   "execution_count": 4,
   "id": "eligible-piece",
   "metadata": {},
   "outputs": [
    {
     "data": {
      "text/html": [
       "        <script type=\"text/javascript\">\n",
       "        window.PlotlyConfig = {MathJaxConfig: 'local'};\n",
       "        if (window.MathJax) {MathJax.Hub.Config({SVG: {font: \"STIX-Web\"}});}\n",
       "        if (typeof require !== 'undefined') {\n",
       "        require.undef(\"plotly\");\n",
       "        requirejs.config({\n",
       "            paths: {\n",
       "                'plotly': ['https://cdn.plot.ly/plotly-2.9.0.min']\n",
       "            }\n",
       "        });\n",
       "        require(['plotly'], function(Plotly) {\n",
       "            window._Plotly = Plotly;\n",
       "        });\n",
       "        }\n",
       "        </script>\n",
       "        "
      ]
     },
     "metadata": {},
     "output_type": "display_data"
    }
   ],
   "source": [
    "cf.go_offline(connected=True)"
   ]
  },
  {
   "cell_type": "code",
   "execution_count": 5,
   "id": "every-burning",
   "metadata": {
    "slideshow": {
     "slide_type": "slide"
    }
   },
   "outputs": [
    {
     "data": {
      "text/html": [
       "<div>\n",
       "<style scoped>\n",
       "    .dataframe tbody tr th:only-of-type {\n",
       "        vertical-align: middle;\n",
       "    }\n",
       "\n",
       "    .dataframe tbody tr th {\n",
       "        vertical-align: top;\n",
       "    }\n",
       "\n",
       "    .dataframe thead th {\n",
       "        text-align: right;\n",
       "    }\n",
       "</style>\n",
       "<table border=\"1\" class=\"dataframe\">\n",
       "  <thead>\n",
       "    <tr style=\"text-align: right;\">\n",
       "      <th></th>\n",
       "      <th>Feature1</th>\n",
       "      <th>Feature2</th>\n",
       "      <th>Feature3</th>\n",
       "    </tr>\n",
       "  </thead>\n",
       "  <tbody>\n",
       "    <tr>\n",
       "      <th>0</th>\n",
       "      <td>0.429641</td>\n",
       "      <td>4.769118</td>\n",
       "      <td>8.516046</td>\n",
       "    </tr>\n",
       "    <tr>\n",
       "      <th>1</th>\n",
       "      <td>8.269982</td>\n",
       "      <td>3.125423</td>\n",
       "      <td>9.575883</td>\n",
       "    </tr>\n",
       "    <tr>\n",
       "      <th>2</th>\n",
       "      <td>9.710322</td>\n",
       "      <td>2.677262</td>\n",
       "      <td>1.895918</td>\n",
       "    </tr>\n",
       "    <tr>\n",
       "      <th>3</th>\n",
       "      <td>9.578389</td>\n",
       "      <td>0.940460</td>\n",
       "      <td>7.905089</td>\n",
       "    </tr>\n",
       "    <tr>\n",
       "      <th>4</th>\n",
       "      <td>3.639514</td>\n",
       "      <td>9.950930</td>\n",
       "      <td>8.292870</td>\n",
       "    </tr>\n",
       "  </tbody>\n",
       "</table>\n",
       "</div>"
      ],
      "text/plain": [
       "   Feature1  Feature2  Feature3\n",
       "0  0.429641  4.769118  8.516046\n",
       "1  8.269982  3.125423  9.575883\n",
       "2  9.710322  2.677262  1.895918\n",
       "3  9.578389  0.940460  7.905089\n",
       "4  3.639514  9.950930  8.292870"
      ]
     },
     "execution_count": 5,
     "metadata": {},
     "output_type": "execute_result"
    }
   ],
   "source": [
    "df = pd.DataFrame(np.random.random([100,3]) * 10)\n",
    "df.columns = ['Feature1','Feature2','Feature3']\n",
    "df.head()"
   ]
  },
  {
   "cell_type": "code",
   "execution_count": 6,
   "id": "mathematical-moral",
   "metadata": {
    "slideshow": {
     "slide_type": "slide"
    }
   },
   "outputs": [
    {
     "data": {
      "application/vnd.jupyter.widget-view+json": {
       "model_id": "bf4633ec9e8344f8a6f477934caaedfd",
       "version_major": 2,
       "version_minor": 0
      },
      "text/plain": [
       "interactive(children=(Dropdown(description='column', options=('Feature1', 'Feature2', 'Feature3'), value='Feat…"
      ]
     },
     "metadata": {},
     "output_type": "display_data"
    }
   ],
   "source": [
    "@interact\n",
    "def show_data_more_than(column=['Feature1','Feature2','Feature3'], \n",
    "                        x=(0,10,1)):\n",
    "    return df.loc[df[column] > x]"
   ]
  },
  {
   "cell_type": "code",
   "execution_count": 7,
   "id": "electric-appointment",
   "metadata": {
    "slideshow": {
     "slide_type": "slide"
    }
   },
   "outputs": [
    {
     "data": {
      "application/vnd.jupyter.widget-view+json": {
       "model_id": "61e07738a59c4b5b9627931a6025fd4b",
       "version_major": 2,
       "version_minor": 0
      },
      "text/plain": [
       "interactive(children=(Dropdown(description='x', options=('Feature1', 'Feature2', 'Feature3'), value='Feature1'…"
      ]
     },
     "metadata": {},
     "output_type": "display_data"
    }
   ],
   "source": [
    "@interact\n",
    "def scatter_plot(x=list(df.select_dtypes('number').columns), \n",
    "                 y=list(df.select_dtypes('number').columns),\n",
    "                 theme=list(cf.themes.THEMES.keys()), \n",
    "                 colorscale=list(cf.colors._scales_names.keys())):\n",
    "    \n",
    "    \n",
    "    if x.title() == y.title():\n",
    "        print('Can Not Use Same Value')\n",
    "    else:\n",
    "        title=f'{y.title()} vs {x.title()}'\n",
    "        df.iplot(kind='scatter', x=x, y=y, mode='markers', \n",
    "                 xTitle=x.title(), yTitle=y.title(), \n",
    "                 #text='title',\n",
    "                 title=f'{y.title()} vs {x.title()}',\n",
    "                theme=theme, colorscale=colorscale)"
   ]
  },
  {
   "cell_type": "code",
   "execution_count": 8,
   "id": "handed-recipe",
   "metadata": {
    "slideshow": {
     "slide_type": "slide"
    }
   },
   "outputs": [],
   "source": [
    "import datetime\n",
    "def days_between(start_dt,end_dt):\n",
    "    # 시작일과 종료일 사이에 몇일이 있는지 계산합니다.\n",
    "    print((end_dt-start_dt))"
   ]
  },
  {
   "cell_type": "code",
   "execution_count": 9,
   "id": "approved-contemporary",
   "metadata": {},
   "outputs": [
    {
     "data": {
      "application/vnd.jupyter.widget-view+json": {
       "model_id": "7e5ef4cf2aa943369da064ef3ab8ac7b",
       "version_major": 2,
       "version_minor": 0
      },
      "text/plain": [
       "interactive(children=(DatePicker(value=datetime.date(2018, 1, 1), description='start_dt'), DatePicker(value=da…"
      ]
     },
     "metadata": {},
     "output_type": "display_data"
    }
   ],
   "source": [
    "interact(days_between,\n",
    "        start_dt=widgets.DatePicker(value=datetime.date(2018,1,1)),\n",
    "        end_dt=widgets.DatePicker(value=datetime.date(2019,1,1)));"
   ]
  },
  {
   "cell_type": "code",
   "execution_count": 12,
   "id": "norwegian-asian",
   "metadata": {
    "slideshow": {
     "slide_type": "slide"
    }
   },
   "outputs": [
    {
     "data": {
      "application/vnd.jupyter.widget-view+json": {
       "model_id": "c8e4ac43ba4246ad9d1692417b6257f7",
       "version_major": 2,
       "version_minor": 0
      },
      "text/plain": [
       "interactive(children=(IntSlider(value=50, description='x', step=5), IntSlider(value=50, description='y', step=…"
      ]
     },
     "metadata": {},
     "output_type": "display_data"
    }
   ],
   "source": [
    "x = widgets.IntSlider(min=0, max=100, step=5, value=50)\n",
    "y = widgets.IntSlider(min=0, max=100, step=5, value=50)\n",
    "\n",
    "def update_y_range(*args):\n",
    "    y.value = 100 - x.value\n",
    "def update_x_range(*args):\n",
    "    x.value = 100 - y.value\n",
    "    \n",
    "y.observe(update_x_range, 'value')\n",
    "x.observe(update_y_range, 'value')\n",
    "\n",
    "def printer(x,y):\n",
    "    print(x,y)\n",
    "\n",
    "interact(printer,\n",
    "         x=x,\n",
    "         y=y);"
   ]
  },
  {
   "cell_type": "code",
   "execution_count": 13,
   "id": "female-mixer",
   "metadata": {
    "slideshow": {
     "slide_type": "slide"
    }
   },
   "outputs": [
    {
     "data": {
      "application/vnd.jupyter.widget-view+json": {
       "model_id": "8c5b838fe0b548f6b22d35b7e305e614",
       "version_major": 2,
       "version_minor": 0
      },
      "text/plain": [
       "interactive(children=(IntSlider(value=24, description='k', max=49), Output()), _dom_classes=('widget-interact'…"
      ]
     },
     "metadata": {},
     "output_type": "display_data"
    }
   ],
   "source": [
    "%matplotlib inline\n",
    "import matplotlib.pyplot as plt\n",
    "from ipywidgets import interact\n",
    "import numpy as np\n",
    "\n",
    "x = np.linspace(0, 2*np.pi, num=5000)\n",
    "y, y1, y2, y3 = [], [], [], []\n",
    "\n",
    "param = 50\n",
    "\n",
    "\n",
    "for i in range(1,param+1):\n",
    "    y1.append([np.sin(i*j) for j in x])\n",
    "    y2.append([np.cos(i*j)+np.cos(j) for j in x])\n",
    "    y3.append([np.tan(i*j)+np.cos(j) for j in x])\n",
    "\n",
    "y = [y1, y2, y3]\n",
    "\n",
    "@interact(k=(0,param-1))\n",
    "def f(k):\n",
    "    fig = plt.figure(figsize=(10,10))\n",
    "    \n",
    "    # 타이틀을 배열에 저장한다. \n",
    "    title=['title1','title2','title3']\n",
    "    \n",
    "    # 그래프 간의 폭을 조정한다. \n",
    "    plt.subplots_adjust(wspace=0.2, hspace=0.6)\n",
    "\n",
    "    for i in range(3):\n",
    "        ax = fig.add_subplot(3, 1, i+1)\n",
    "        ax.plot(x, y[i][k])\n",
    "        ax.set_xlabel('x-axis label') # x축의 라벨 \n",
    "        ax.set_ylabel('y-axis label') # y축의 라벨 \n",
    "        ax.set_title(title[i]) # 타이틀 \n",
    "        \n",
    "    plt.show()\n",
    "    \n",
    "# https://engineer-mole.tistory.com/179"
   ]
  },
  {
   "cell_type": "code",
   "execution_count": null,
   "id": "automotive-preliminary",
   "metadata": {},
   "outputs": [],
   "source": []
  }
 ],
 "metadata": {
  "celltoolbar": "Slideshow",
  "kernelspec": {
   "display_name": "Python 3",
   "language": "python",
   "name": "python3"
  },
  "language_info": {
   "codemirror_mode": {
    "name": "ipython",
    "version": 3
   },
   "file_extension": ".py",
   "mimetype": "text/x-python",
   "name": "python",
   "nbconvert_exporter": "python",
   "pygments_lexer": "ipython3",
   "version": "3.8.8"
  },
  "toc": {
   "base_numbering": 1,
   "nav_menu": {},
   "number_sections": true,
   "sideBar": true,
   "skip_h1_title": false,
   "title_cell": "Table of Contents",
   "title_sidebar": "Contents",
   "toc_cell": false,
   "toc_position": {},
   "toc_section_display": true,
   "toc_window_display": false
  }
 },
 "nbformat": 4,
 "nbformat_minor": 5
}
