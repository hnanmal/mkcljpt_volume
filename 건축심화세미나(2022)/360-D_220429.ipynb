{
 "cells": [
  {
   "cell_type": "code",
   "execution_count": 1,
   "id": "destroyed-satisfaction",
   "metadata": {},
   "outputs": [
    {
     "data": {
      "text/plain": [
       "[350, 175, 7, 11]"
      ]
     },
     "execution_count": 1,
     "metadata": {},
     "output_type": "execute_result"
    }
   ],
   "source": [
    "inputSize1 = [350, 175, 7, 11]\n",
    "inputSize2 = [8.28, 5.27, 0.25, 0.4]\n",
    "\n",
    "class HSection:\n",
    "    def __init__(self, section):\n",
    "        self.size = section\n",
    "    \n",
    "section1 = HSection(inputSize1)\n",
    "section2 = HSection(inputSize2)\n",
    "section1.size"
   ]
  },
  {
   "cell_type": "code",
   "execution_count": 2,
   "id": "express-simulation",
   "metadata": {},
   "outputs": [],
   "source": [
    "class Section_property:\n",
    "    def __init__(self, section):\n",
    "        self.d = section.size[0]\n",
    "        self.bf = section.size[1]\n",
    "        self.tw = section.size[2]\n",
    "        self.tf = section.size[3]\n",
    "\n",
    "    def find_Ag(self):\n",
    "        d = self.d\n",
    "        bf = self.bf\n",
    "        tw = self.tw\n",
    "        tf = self.tf\n",
    "        return 2*tf*bf + (d-2*tf)*tw\n",
    "\n",
    "    def find_An(self, db, boltN, gap): ## 볼트 직경을 인수로 전달\n",
    "        An = self.find_Ag() - boltN*(db + gap)*self.tf\n",
    "        return An\n",
    "    \n",
    "    def find_U(self, l, boltN):\n",
    "        d = self.d\n",
    "        bf = self.bf\n",
    "        tw = self.tw\n",
    "        tf = self.tf\n",
    "        Ag = self.find_Ag()\n",
    "        \n",
    "        x = (bf*tf*tf/2 + (d/2 - tf)*tw*((d/2-tf)/2 + tf)) / (bf*tf + (d/2 - tf)*tw)\n",
    "        u1 = (2*bf*tf) / Ag\n",
    "        u2 = 1 - (x/l)\n",
    "        \n",
    "        if boltN >= 3:\n",
    "            if bf < 2/3*d:\n",
    "                u3 = 0.85\n",
    "            else:\n",
    "                u3 = 0.9\n",
    "        else:\n",
    "            u3 = 0\n",
    "        \n",
    "        return max(u1, u2, u3)\n",
    "    \n",
    "    def calc_Ae(self, db, l, boltN, gap):\n",
    "        U =  self.find_U(l, boltN)\n",
    "        return self.find_An(db, boltN, gap) * U\n",
    "        "
   ]
  },
  {
   "cell_type": "code",
   "execution_count": 3,
   "id": "comparable-sunday",
   "metadata": {},
   "outputs": [
    {
     "data": {
      "text/plain": [
       "<__main__.Section_property at 0x7f474025d4c0>"
      ]
     },
     "execution_count": 3,
     "metadata": {},
     "output_type": "execute_result"
    }
   ],
   "source": [
    "section_property1 = Section_property(section1)\n",
    "section_property2 = Section_property(section2)\n",
    "section_property1"
   ]
  },
  {
   "cell_type": "code",
   "execution_count": 4,
   "id": "excellent-order",
   "metadata": {
    "scrolled": true
   },
   "outputs": [
    {
     "data": {
      "text/plain": [
       "6.086"
      ]
     },
     "execution_count": 4,
     "metadata": {},
     "output_type": "execute_result"
    }
   ],
   "source": [
    "section_property2.find_Ag()"
   ]
  },
  {
   "cell_type": "code",
   "execution_count": 5,
   "id": "different-slave",
   "metadata": {},
   "outputs": [
    {
     "data": {
      "text/plain": [
       "5178"
      ]
     },
     "execution_count": 5,
     "metadata": {},
     "output_type": "execute_result"
    }
   ],
   "source": [
    "section_property1.find_An(20, 4, 2)"
   ]
  },
  {
   "cell_type": "code",
   "execution_count": 6,
   "id": "visible-installation",
   "metadata": {},
   "outputs": [
    {
     "data": {
      "text/plain": [
       "0.9071073867163253"
      ]
     },
     "execution_count": 6,
     "metadata": {},
     "output_type": "execute_result"
    }
   ],
   "source": [
    "section_property2.find_U(9, 4)"
   ]
  },
  {
   "cell_type": "code",
   "execution_count": 7,
   "id": "outside-teens",
   "metadata": {},
   "outputs": [
    {
     "data": {
      "text/plain": [
       "4401.3"
      ]
     },
     "execution_count": 7,
     "metadata": {},
     "output_type": "execute_result"
    }
   ],
   "source": [
    "section_property1.calc_Ae(20, 228, 4, 2)"
   ]
  },
  {
   "cell_type": "code",
   "execution_count": 8,
   "id": "bizarre-tuesday",
   "metadata": {
    "scrolled": true
   },
   "outputs": [
    {
     "data": {
      "text/plain": [
       "4.2507052141527"
      ]
     },
     "execution_count": 8,
     "metadata": {},
     "output_type": "execute_result"
    }
   ],
   "source": [
    "section_property2.calc_Ae(13/16, 9, 4, 1/16)"
   ]
  },
  {
   "cell_type": "code",
   "execution_count": 9,
   "id": "desirable-rover",
   "metadata": {
    "scrolled": false
   },
   "outputs": [
    {
     "data": {
      "text/plain": [
       "5178"
      ]
     },
     "execution_count": 9,
     "metadata": {},
     "output_type": "execute_result"
    }
   ],
   "source": [
    "section_property1.find_An(20, 4, 2)"
   ]
  },
  {
   "cell_type": "code",
   "execution_count": 43,
   "id": "hydraulic-review",
   "metadata": {},
   "outputs": [],
   "source": [
    "class DesignBase:\n",
    "    def __init__(self):\n",
    "        self.Φ_LRFD = 0.9\n",
    "        self.Ω_LRFD = 1.67\n",
    "        self.Φ_ASD = 0.75\n",
    "        self.Ω_LRFD = 2.00\n",
    "        self.Fy = 65\n",
    "        self.Fu = 50\n",
    "        \n",
    "    def tensilecheck_ASD(self):\n",
    "        Φ = self.Φ_ASD\n",
    "        Fy = self.Fy\n",
    "        Ag = section_property1.find_Ag()\n",
    "        tensile_strength =Φ * Fy * Ag\n",
    "        result = print('ΦPn : ' + str(tensile_strength) + ' kips')\n",
    "        return result\n",
    "    \n",
    "    def tensilecheck_LRFD(self):\n",
    "        Φ = self.Φ_LRFD\n",
    "        Fu = self.Fu\n",
    "        Ae = 0.75 * section_property1.find_Ag()\n",
    "        tensile_strength =Φ * Fu * Ae\n",
    "        result = print('ΦPn : ' + str(tensile_strength) +' kips')\n",
    "        return result"
   ]
  },
  {
   "cell_type": "code",
   "execution_count": 44,
   "id": "above-notification",
   "metadata": {},
   "outputs": [],
   "source": [
    "designbase = DesignBase()"
   ]
  },
  {
   "cell_type": "code",
   "execution_count": 45,
   "id": "promotional-wagner",
   "metadata": {},
   "outputs": [
    {
     "name": "stdout",
     "output_type": "stream",
     "text": [
      "ΦPn : 299617.5 kips\n"
     ]
    }
   ],
   "source": [
    "designbase.tensilecheck_ASD()"
   ]
  },
  {
   "cell_type": "code",
   "execution_count": 46,
   "id": "current-exclusive",
   "metadata": {},
   "outputs": [
    {
     "name": "stdout",
     "output_type": "stream",
     "text": [
      "ΦPn : 207427.5 kips\n"
     ]
    }
   ],
   "source": [
    "designbase.tensilecheck_LRFD()"
   ]
  },
  {
   "cell_type": "code",
   "execution_count": null,
   "id": "saving-syndrome",
   "metadata": {},
   "outputs": [],
   "source": []
  }
 ],
 "metadata": {
  "kernelspec": {
   "display_name": "Python 3",
   "language": "python",
   "name": "python3"
  },
  "language_info": {
   "codemirror_mode": {
    "name": "ipython",
    "version": 3
   },
   "file_extension": ".py",
   "mimetype": "text/x-python",
   "name": "python",
   "nbconvert_exporter": "python",
   "pygments_lexer": "ipython3",
   "version": "3.8.8"
  },
  "toc": {
   "base_numbering": 1,
   "nav_menu": {},
   "number_sections": false,
   "sideBar": true,
   "skip_h1_title": false,
   "title_cell": "Table of Contents",
   "title_sidebar": "Contents",
   "toc_cell": false,
   "toc_position": {},
   "toc_section_display": true,
   "toc_window_display": false
  }
 },
 "nbformat": 4,
 "nbformat_minor": 5
}
