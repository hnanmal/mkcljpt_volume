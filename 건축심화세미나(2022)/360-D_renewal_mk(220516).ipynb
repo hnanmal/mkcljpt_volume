{
 "cells": [
  {
   "cell_type": "code",
   "execution_count": 1,
   "id": "material-rover",
   "metadata": {},
   "outputs": [],
   "source": [
    "inputSize1 = [350, 175, 7, 11]\n",
    "inputSize2 = [8.28, 5.27, 0.25, 0.4]"
   ]
  },
  {
   "cell_type": "code",
   "execution_count": 2,
   "id": "olympic-ebony",
   "metadata": {},
   "outputs": [
    {
     "data": {
      "text/plain": [
       "[350, 175, 7, 11]"
      ]
     },
     "execution_count": 2,
     "metadata": {},
     "output_type": "execute_result"
    }
   ],
   "source": [
    "class HSection: ## 나중에 단면정보와 결합될 추가적 데이터 입력 용도로 미리 만들어둔 클래스입니다. 형상 정보 이외의 것들이 다른 셀에서 입력될 수 있으므로 2가지 이상 경로의 데이터를 합치는 용도로 사용됩니다\n",
    "    def __init__(self, section):\n",
    "        self.size = section\n",
    "    \n",
    "hsection1 = HSection(inputSize1)\n",
    "hsection2 = HSection(inputSize2)\n",
    "hsection1.size"
   ]
  },
  {
   "cell_type": "code",
   "execution_count": 3,
   "id": "european-madagascar",
   "metadata": {},
   "outputs": [],
   "source": [
    "class Section_prop: ## HSection클래스의 인스턴스를 입력받아 작동하는 Section_prop(단면특성) 클래스 입니다.\n",
    "    def __init__(self, hsection):\n",
    "        self.d = hsection.size[0]\n",
    "        self.bf = hsection.size[1]\n",
    "        self.tw = hsection.size[2]\n",
    "        self.tf = hsection.size[3]"
   ]
  },
  {
   "cell_type": "code",
   "execution_count": 4,
   "id": "vanilla-toner",
   "metadata": {},
   "outputs": [],
   "source": [
    "class DesignBase:\n",
    "    def __init__(self, secProp):\n",
    "        self.secProp = secProp\n",
    "        \n",
    "    def find_Ag(self):\n",
    "        d = self.secProp.d\n",
    "        bf = self.secProp.bf\n",
    "        tw = self.secProp.tw\n",
    "        tf = self.secProp.tf\n",
    "        \n",
    "        return 2*tf*bf + (d-2*tf)*tw\n",
    "    \n",
    "    def find_An(self, db, boltN, gap): ## 볼트 직경을 인수로 전달\n",
    "        self.db = db\n",
    "        self.boltN= boltN \n",
    "        self.gap = gap\n",
    "        An = self.find_Ag() - boltN*(db + gap)*self.secProp.tf\n",
    "        return An\n",
    "    \n",
    "    def find_U(self, l, boltN):\n",
    "        d = self.secProp.d\n",
    "        bf = self.secProp.bf\n",
    "        tw = self.secProp.tw\n",
    "        tf = self.secProp.tf\n",
    "        Ag = self.find_Ag()\n",
    "        \n",
    "        x = (bf*tf*tf/2 + (d/2 - tf)*tw*((d/2-tf)/2 + tf)) / (bf*tf + (d/2 - tf)*tw)\n",
    "        u1 = (2*bf*tf) / Ag\n",
    "        u2 = 1 - (x/l)\n",
    "        \n",
    "        if boltN >= 3:\n",
    "            if bf < 2/3*d:\n",
    "                u3 = 0.85\n",
    "            else:\n",
    "                u3 = 0.9\n",
    "        else:\n",
    "            u3 = 0\n",
    "        \n",
    "        return max(u1, u2, u3)\n",
    "    \n",
    "    def calc_Ae(self, db, l, boltN, gap):\n",
    "        U =  self.find_U(l, boltN)\n",
    "        return self.find_An(db, boltN, gap) * U\n",
    "\n",
    "        \n",
    "    def tensile_check(self, *args):  ## (Fy, Fu, [db, l, boltN, gap])\n",
    "        if len(args) > 2:\n",
    "            Fy = args[0]\n",
    "            Fu = args[1]\n",
    "            param_Ae = args[2]\n",
    "            \n",
    "            db = param_Ae[0]\n",
    "            length = param_Ae[1]\n",
    "            boltN = param_Ae[2]\n",
    "            gap = param_Ae[3]\n",
    "            \n",
    "            Φ1 = 0.9\n",
    "            Φ2 = 0.75\n",
    "            \n",
    "            Ag = self.find_Ag()\n",
    "            Ae = self.calc_Ae(db, length, boltN, gap)\n",
    "            \n",
    "            result = round(min(Φ1*Fy*Ag, Φ2*Fu*Ae),2)\n",
    "            \n",
    "            return result\n",
    "            \n",
    "        elif len(args) == 2:\n",
    "            Fy = args[0]\n",
    "            Fu = args[1]\n",
    "            Φ1 = 0.9\n",
    "            Φ2 = 0.75\n",
    "            Ag = self.find_Ag()\n",
    "            Ae = 0.75 * self.find_Ag()\n",
    "            result = round(min(Φ1*Fy*Ag, Φ2*Fu*Ae),2)\n",
    "            \n",
    "            return result\n",
    "        \n",
    "        else:\n",
    "            return \"오류! 계산에 필요한 인수가 적절하지 않습니다.\""
   ]
  },
  {
   "cell_type": "code",
   "execution_count": 5,
   "id": "spoken-pregnancy",
   "metadata": {},
   "outputs": [],
   "source": [
    "section_prop1 = Section_prop(hsection1)"
   ]
  },
  {
   "cell_type": "code",
   "execution_count": 6,
   "id": "adequate-wonder",
   "metadata": {},
   "outputs": [],
   "source": [
    "designBase1 = DesignBase(section_prop1)"
   ]
  },
  {
   "cell_type": "code",
   "execution_count": 7,
   "id": "likely-riding",
   "metadata": {},
   "outputs": [
    {
     "data": {
      "text/plain": [
       "350"
      ]
     },
     "execution_count": 7,
     "metadata": {},
     "output_type": "execute_result"
    }
   ],
   "source": [
    "designBase1.secProp.d"
   ]
  },
  {
   "cell_type": "code",
   "execution_count": 8,
   "id": "devoted-competition",
   "metadata": {},
   "outputs": [
    {
     "data": {
      "text/plain": [
       "6146"
      ]
     },
     "execution_count": 8,
     "metadata": {},
     "output_type": "execute_result"
    }
   ],
   "source": [
    "designBase1.find_Ag()"
   ]
  },
  {
   "cell_type": "code",
   "execution_count": 9,
   "id": "monthly-calculation",
   "metadata": {},
   "outputs": [
    {
     "data": {
      "text/plain": [
       "1382.85"
      ]
     },
     "execution_count": 9,
     "metadata": {},
     "output_type": "execute_result"
    }
   ],
   "source": [
    "designBase1.tensile_check(275/1000, 400/1000)"
   ]
  },
  {
   "cell_type": "code",
   "execution_count": 10,
   "id": "empty-raise",
   "metadata": {
    "scrolled": true
   },
   "outputs": [
    {
     "data": {
      "text/plain": [
       "1320.39"
      ]
     },
     "execution_count": 10,
     "metadata": {},
     "output_type": "execute_result"
    }
   ],
   "source": [
    "designBase1.tensile_check(275/1000, 400/1000, [20, 228, 4, 2])"
   ]
  },
  {
   "cell_type": "code",
   "execution_count": 11,
   "id": "pleasant-conviction",
   "metadata": {},
   "outputs": [
    {
     "ename": "IndexError",
     "evalue": "list index out of range",
     "output_type": "error",
     "traceback": [
      "\u001b[0;31m\u001b[0m",
      "\u001b[0;31mIndexError\u001b[0mTraceback (most recent call last)",
      "\u001b[0;32m<ipython-input-11-f2b14150de12>\u001b[0m in \u001b[0;36m<module>\u001b[0;34m\u001b[0m\n\u001b[0;32m----> 1\u001b[0;31m \u001b[0mdesignBase1\u001b[0m\u001b[0;34m.\u001b[0m\u001b[0mtensile_check\u001b[0m\u001b[0;34m(\u001b[0m\u001b[0;36m275\u001b[0m\u001b[0;34m/\u001b[0m\u001b[0;36m1000\u001b[0m\u001b[0;34m,\u001b[0m \u001b[0;36m400\u001b[0m\u001b[0;34m/\u001b[0m\u001b[0;36m1000\u001b[0m\u001b[0;34m,\u001b[0m \u001b[0;34m[\u001b[0m\u001b[0;36m20\u001b[0m\u001b[0;34m,\u001b[0m \u001b[0;36m4\u001b[0m\u001b[0;34m,\u001b[0m \u001b[0;36m2\u001b[0m\u001b[0;34m]\u001b[0m\u001b[0;34m)\u001b[0m\u001b[0;34m\u001b[0m\u001b[0;34m\u001b[0m\u001b[0m\n\u001b[0m",
      "\u001b[0;32m<ipython-input-4-e44851479796>\u001b[0m in \u001b[0;36mtensile_check\u001b[0;34m(self, *args)\u001b[0m\n\u001b[1;32m     53\u001b[0m             \u001b[0mlength\u001b[0m \u001b[0;34m=\u001b[0m \u001b[0mparam_Ae\u001b[0m\u001b[0;34m[\u001b[0m\u001b[0;36m1\u001b[0m\u001b[0;34m]\u001b[0m\u001b[0;34m\u001b[0m\u001b[0;34m\u001b[0m\u001b[0m\n\u001b[1;32m     54\u001b[0m             \u001b[0mboltN\u001b[0m \u001b[0;34m=\u001b[0m \u001b[0mparam_Ae\u001b[0m\u001b[0;34m[\u001b[0m\u001b[0;36m2\u001b[0m\u001b[0;34m]\u001b[0m\u001b[0;34m\u001b[0m\u001b[0;34m\u001b[0m\u001b[0m\n\u001b[0;32m---> 55\u001b[0;31m             \u001b[0mgap\u001b[0m \u001b[0;34m=\u001b[0m \u001b[0mparam_Ae\u001b[0m\u001b[0;34m[\u001b[0m\u001b[0;36m3\u001b[0m\u001b[0;34m]\u001b[0m\u001b[0;34m\u001b[0m\u001b[0;34m\u001b[0m\u001b[0m\n\u001b[0m\u001b[1;32m     56\u001b[0m \u001b[0;34m\u001b[0m\u001b[0m\n\u001b[1;32m     57\u001b[0m             \u001b[0mΦ1\u001b[0m \u001b[0;34m=\u001b[0m \u001b[0;36m0.9\u001b[0m\u001b[0;34m\u001b[0m\u001b[0;34m\u001b[0m\u001b[0m\n",
      "\u001b[0;31mIndexError\u001b[0m: list index out of range"
     ]
    }
   ],
   "source": [
    "designBase1.tensile_check(275/1000, 400/1000, [20, 4, 2])"
   ]
  },
  {
   "cell_type": "code",
   "execution_count": null,
   "id": "gothic-finance",
   "metadata": {},
   "outputs": [],
   "source": [
    "designBase1.tensile_check()"
   ]
  },
  {
   "cell_type": "code",
   "execution_count": null,
   "id": "greenhouse-alert",
   "metadata": {},
   "outputs": [],
   "source": []
  }
 ],
 "metadata": {
  "kernelspec": {
   "display_name": "Python 3",
   "language": "python",
   "name": "python3"
  },
  "language_info": {
   "codemirror_mode": {
    "name": "ipython",
    "version": 3
   },
   "file_extension": ".py",
   "mimetype": "text/x-python",
   "name": "python",
   "nbconvert_exporter": "python",
   "pygments_lexer": "ipython3",
   "version": "3.8.8"
  },
  "toc": {
   "base_numbering": 1,
   "nav_menu": {},
   "number_sections": false,
   "sideBar": true,
   "skip_h1_title": false,
   "title_cell": "Table of Contents",
   "title_sidebar": "Contents",
   "toc_cell": false,
   "toc_position": {},
   "toc_section_display": true,
   "toc_window_display": false
  }
 },
 "nbformat": 4,
 "nbformat_minor": 5
}
