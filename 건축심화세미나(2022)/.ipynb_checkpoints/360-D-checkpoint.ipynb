{
 "cells": [
  {
   "cell_type": "code",
   "execution_count": 1,
   "id": "matched-cabinet",
   "metadata": {},
   "outputs": [
    {
     "data": {
      "text/plain": [
       "[350, 175, 7, 11]"
      ]
     },
     "execution_count": 1,
     "metadata": {},
     "output_type": "execute_result"
    }
   ],
   "source": [
    "inputSize1 = [350, 175, 7, 11]\n",
    "inputSize2 = [8.28, 5.27, 0.25, 0.4]\n",
    "\n",
    "class HSection:\n",
    "    def __init__(self, section):\n",
    "        self.size = section\n",
    "    \n",
    "section1 = HSection(inputSize1)\n",
    "section2 = HSection(inputSize2)\n",
    "section1.size"
   ]
  },
  {
   "cell_type": "code",
   "execution_count": 2,
   "id": "sealed-hostel",
   "metadata": {},
   "outputs": [],
   "source": [
    "class Section_property:\n",
    "    def __init__(self, section):\n",
    "        self.d = section.size[0]\n",
    "        self.bf = section.size[1]\n",
    "        self.tw = section.size[2]\n",
    "        self.tf = section.size[3]\n",
    "\n",
    "    def find_Ag(self):\n",
    "        d = self.d\n",
    "        bf = self.bf\n",
    "        tw = self.tw\n",
    "        tf = self.tf\n",
    "        return 2*tf*bf + (d-2*tf)*tw\n",
    "\n",
    "    def find_An(self, db, boltN, gap): ## 볼트 직경을 인수로 전달\n",
    "        An = self.find_Ag() - boltN*(db + gap)*self.tf\n",
    "        return An\n",
    "    \n",
    "    def find_U(self, l, boltN):\n",
    "        d = self.d\n",
    "        bf = self.bf\n",
    "        tw = self.tw\n",
    "        tf = self.tf\n",
    "        Ag = self.find_Ag()\n",
    "        \n",
    "        x = (bf*tf*tf/2 + (d/2 - tf)*tw*((d/2-tf)/2 + tf)) / (bf*tf + (d/2 - tf)*tw)\n",
    "        u1 = (2*bf*tf) / Ag\n",
    "        u2 = 1 - (x/l)\n",
    "        \n",
    "        if boltN >= 3:\n",
    "            if bf < 2/3*d:\n",
    "                u3 = 0.85\n",
    "            else:\n",
    "                u3 = 0.9\n",
    "        else:\n",
    "            u3 = 0\n",
    "        \n",
    "        return max(u1, u2, u3)\n",
    "    \n",
    "    def calc_Ae(self, db, l, boltN, gap):\n",
    "        U =  self.find_U(l, boltN)\n",
    "        return self.find_An(db, boltN, gap) * U\n",
    "        "
   ]
  },
  {
   "cell_type": "code",
   "execution_count": 3,
   "id": "attractive-mexican",
   "metadata": {},
   "outputs": [
    {
     "data": {
      "text/plain": [
       "<__main__.Section_property at 0x7f8e9899c550>"
      ]
     },
     "execution_count": 3,
     "metadata": {},
     "output_type": "execute_result"
    }
   ],
   "source": [
    "section_property1 = Section_property(section1)\n",
    "section_property2 = Section_property(section2)\n",
    "section_property1"
   ]
  },
  {
   "cell_type": "code",
   "execution_count": 4,
   "id": "subtle-kernel",
   "metadata": {},
   "outputs": [
    {
     "data": {
      "text/plain": [
       "6.086"
      ]
     },
     "execution_count": 4,
     "metadata": {},
     "output_type": "execute_result"
    }
   ],
   "source": [
    "section_property2.find_Ag()"
   ]
  },
  {
   "cell_type": "code",
   "execution_count": 5,
   "id": "fuzzy-poultry",
   "metadata": {},
   "outputs": [
    {
     "data": {
      "text/plain": [
       "5178"
      ]
     },
     "execution_count": 5,
     "metadata": {},
     "output_type": "execute_result"
    }
   ],
   "source": [
    "section_property1.find_An(20, 4, 2)"
   ]
  },
  {
   "cell_type": "code",
   "execution_count": 6,
   "id": "motivated-projection",
   "metadata": {},
   "outputs": [
    {
     "data": {
      "text/plain": [
       "0.9071073867163253"
      ]
     },
     "execution_count": 6,
     "metadata": {},
     "output_type": "execute_result"
    }
   ],
   "source": [
    "section_property2.find_U(9, 4)"
   ]
  },
  {
   "cell_type": "code",
   "execution_count": 7,
   "id": "increasing-spider",
   "metadata": {},
   "outputs": [
    {
     "data": {
      "text/plain": [
       "4401.3"
      ]
     },
     "execution_count": 7,
     "metadata": {},
     "output_type": "execute_result"
    }
   ],
   "source": [
    "section_property1.calc_Ae(20, 228, 4, 2)"
   ]
  },
  {
   "cell_type": "code",
   "execution_count": 8,
   "id": "waiting-evans",
   "metadata": {},
   "outputs": [
    {
     "data": {
      "text/plain": [
       "4.2507052141527"
      ]
     },
     "execution_count": 8,
     "metadata": {},
     "output_type": "execute_result"
    }
   ],
   "source": [
    "section_property2.calc_Ae(13/16, 9, 4, 1/16)"
   ]
  },
  {
   "cell_type": "code",
   "execution_count": null,
   "id": "reported-cedar",
   "metadata": {},
   "outputs": [],
   "source": []
  }
 ],
 "metadata": {
  "kernelspec": {
   "display_name": "Python 3",
   "language": "python",
   "name": "python3"
  },
  "language_info": {
   "codemirror_mode": {
    "name": "ipython",
    "version": 3
   },
   "file_extension": ".py",
   "mimetype": "text/x-python",
   "name": "python",
   "nbconvert_exporter": "python",
   "pygments_lexer": "ipython3",
   "version": "3.8.8"
  },
  "toc": {
   "base_numbering": 1,
   "nav_menu": {},
   "number_sections": false,
   "sideBar": true,
   "skip_h1_title": false,
   "title_cell": "Table of Contents",
   "title_sidebar": "Contents",
   "toc_cell": false,
   "toc_position": {},
   "toc_section_display": true,
   "toc_window_display": false
  }
 },
 "nbformat": 4,
 "nbformat_minor": 5
}
