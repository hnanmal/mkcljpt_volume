{
 "cells": [
  {
   "cell_type": "markdown",
   "id": "apparent-festival",
   "metadata": {
    "slideshow": {
     "slide_type": "slide"
    }
   },
   "source": [
    "<div\n",
    "style=\"\n",
    "font-style:  ; \n",
    "font-weight: bold; \n",
    "font-size: 2.5em;\n",
    "line-height: 1.0em; \n",
    "color: navy;\n",
    "font-family: RIDIBatang;\n",
    "text-align: center;\n",
    "\">\n",
    "    <h1>\n",
    "        Try Dynamic Document\n",
    "    </h1>\n",
    "</div>\n"
   ]
  },
  {
   "cell_type": "code",
   "execution_count": null,
   "id": "velvet-glance",
   "metadata": {},
   "outputs": [],
   "source": []
  },
  {
   "cell_type": "code",
   "execution_count": null,
   "id": "solid-permission",
   "metadata": {},
   "outputs": [],
   "source": []
  },
  {
   "cell_type": "code",
   "execution_count": null,
   "id": "applied-drunk",
   "metadata": {},
   "outputs": [],
   "source": []
  },
  {
   "cell_type": "markdown",
   "id": "exotic-envelope",
   "metadata": {},
   "source": [
    "파이썬으로 동작하는 문서를 써보면 어떤 느낌일까요?"
   ]
  },
  {
   "cell_type": "code",
   "execution_count": null,
   "id": "conceptual-tsunami",
   "metadata": {},
   "outputs": [],
   "source": []
  }
 ],
 "metadata": {
  "celltoolbar": "Slideshow",
  "kernelspec": {
   "display_name": "Python 3",
   "language": "python",
   "name": "python3"
  },
  "language_info": {
   "codemirror_mode": {
    "name": "ipython",
    "version": 3
   },
   "file_extension": ".py",
   "mimetype": "text/x-python",
   "name": "python",
   "nbconvert_exporter": "python",
   "pygments_lexer": "ipython3",
   "version": "3.8.8"
  }
 },
 "nbformat": 4,
 "nbformat_minor": 5
}
