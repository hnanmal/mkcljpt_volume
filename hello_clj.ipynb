{
 "cells": [
  {
   "cell_type": "code",
   "execution_count": 1,
   "id": "present-showcase",
   "metadata": {},
   "outputs": [
    {
     "name": "stdout",
     "output_type": "stream",
     "text": [
      "hello, clj !!"
     ]
    },
    {
     "data": {
      "text/plain": [
       "nil"
      ]
     },
     "execution_count": 1,
     "metadata": {},
     "output_type": "execute_result"
    }
   ],
   "source": [
    "(print \"hello, clj !!\")"
   ]
  },
  {
   "cell_type": "code",
   "execution_count": 2,
   "id": "danish-hunger",
   "metadata": {},
   "outputs": [
    {
     "data": {
      "text/plain": [
       "6"
      ]
     },
     "execution_count": 2,
     "metadata": {},
     "output_type": "execute_result"
    }
   ],
   "source": [
    "(+ 1 5)"
   ]
  },
  {
   "cell_type": "code",
   "execution_count": 3,
   "id": "short-rebate",
   "metadata": {},
   "outputs": [
    {
     "data": {
      "text/plain": [
       "6"
      ]
     },
     "execution_count": 3,
     "metadata": {},
     "output_type": "execute_result"
    }
   ],
   "source": [
    "(+ 1 2 3)"
   ]
  },
  {
   "cell_type": "code",
   "execution_count": 6,
   "id": "designed-guidance",
   "metadata": {},
   "outputs": [
    {
     "name": "stdout",
     "output_type": "stream",
     "text": [
      "10\n"
     ]
    },
    {
     "data": {
      "text/plain": [
       "nil"
      ]
     },
     "execution_count": 6,
     "metadata": {},
     "output_type": "execute_result"
    }
   ],
   "source": [
    "(def a 10) (println a)"
   ]
  },
  {
   "cell_type": "code",
   "execution_count": 7,
   "id": "monetary-admission",
   "metadata": {},
   "outputs": [
    {
     "data": {
      "text/plain": [
       "#'user/hello"
      ]
     },
     "execution_count": 7,
     "metadata": {},
     "output_type": "execute_result"
    }
   ],
   "source": [
    "(defn hello\n",
    "    []\n",
    "    (def a 3))"
   ]
  },
  {
   "cell_type": "code",
   "execution_count": 8,
   "id": "fabulous-palace",
   "metadata": {},
   "outputs": [
    {
     "data": {
      "text/plain": [
       "#'user/a"
      ]
     },
     "execution_count": 8,
     "metadata": {},
     "output_type": "execute_result"
    }
   ],
   "source": [
    "(hello)"
   ]
  },
  {
   "cell_type": "code",
   "execution_count": 9,
   "id": "basic-amsterdam",
   "metadata": {},
   "outputs": [
    {
     "name": "stdout",
     "output_type": "stream",
     "text": [
      "3\n"
     ]
    },
    {
     "data": {
      "text/plain": [
       "nil"
      ]
     },
     "execution_count": 9,
     "metadata": {},
     "output_type": "execute_result"
    }
   ],
   "source": [
    "(println a)"
   ]
  },
  {
   "cell_type": "code",
   "execution_count": 10,
   "id": "preliminary-assets",
   "metadata": {},
   "outputs": [
    {
     "name": "stdout",
     "output_type": "stream",
     "text": [
      "33\n"
     ]
    },
    {
     "data": {
      "text/plain": [
       "nil"
      ]
     },
     "execution_count": 10,
     "metadata": {},
     "output_type": "execute_result"
    }
   ],
   "source": [
    "(let [a 10 b 23]\n",
    "    (println (+ a b)))"
   ]
  },
  {
   "cell_type": "code",
   "execution_count": 11,
   "id": "ongoing-genius",
   "metadata": {},
   "outputs": [
    {
     "name": "stdout",
     "output_type": "stream",
     "text": [
      "123456789\n"
     ]
    },
    {
     "data": {
      "text/plain": [
       "nil"
      ]
     },
     "execution_count": 11,
     "metadata": {},
     "output_type": "execute_result"
    }
   ],
   "source": [
    "(println (str \"123\" \"456\" \"789\"))"
   ]
  },
  {
   "cell_type": "code",
   "execution_count": 14,
   "id": "variable-municipality",
   "metadata": {},
   "outputs": [
    {
     "name": "stdout",
     "output_type": "stream",
     "text": [
      "hello world 123\n"
     ]
    },
    {
     "data": {
      "text/plain": [
       "nil"
      ]
     },
     "execution_count": 14,
     "metadata": {},
     "output_type": "execute_result"
    }
   ],
   "source": [
    "(println (format \"hello %s %d\" \"world\" 123))"
   ]
  },
  {
   "cell_type": "code",
   "execution_count": 15,
   "id": "streaming-stage",
   "metadata": {},
   "outputs": [
    {
     "name": "stdout",
     "output_type": "stream",
     "text": [
      "5\n"
     ]
    },
    {
     "data": {
      "text/plain": [
       "nil"
      ]
     },
     "execution_count": 15,
     "metadata": {},
     "output_type": "execute_result"
    }
   ],
   "source": [
    "(println (count \"hello\"))"
   ]
  },
  {
   "cell_type": "code",
   "execution_count": 16,
   "id": "collaborative-answer",
   "metadata": {},
   "outputs": [
    {
     "name": "stdout",
     "output_type": "stream",
     "text": [
      "5\n"
     ]
    },
    {
     "data": {
      "text/plain": [
       "nil"
      ]
     },
     "execution_count": 16,
     "metadata": {},
     "output_type": "execute_result"
    }
   ],
   "source": [
    "(println (.length \"hello\"))"
   ]
  },
  {
   "cell_type": "code",
   "execution_count": 17,
   "id": "talented-thunder",
   "metadata": {},
   "outputs": [
    {
     "name": "stdout",
     "output_type": "stream",
     "text": [
      "5\n"
     ]
    },
    {
     "data": {
      "text/plain": [
       "nil"
      ]
     },
     "execution_count": 17,
     "metadata": {},
     "output_type": "execute_result"
    }
   ],
   "source": [
    "(println (. \"hello\" length))"
   ]
  },
  {
   "cell_type": "code",
   "execution_count": 18,
   "id": "square-savannah",
   "metadata": {},
   "outputs": [
    {
     "name": "stdout",
     "output_type": "stream",
     "text": [
      "ell\n"
     ]
    },
    {
     "data": {
      "text/plain": [
       "nil"
      ]
     },
     "execution_count": 18,
     "metadata": {},
     "output_type": "execute_result"
    }
   ],
   "source": [
    "(println (subs \"hello\" 1 4))"
   ]
  },
  {
   "cell_type": "code",
   "execution_count": 19,
   "id": "micro-reference",
   "metadata": {},
   "outputs": [
    {
     "name": "stdout",
     "output_type": "stream",
     "text": [
      "ell\n"
     ]
    },
    {
     "data": {
      "text/plain": [
       "nil"
      ]
     },
     "execution_count": 19,
     "metadata": {},
     "output_type": "execute_result"
    }
   ],
   "source": [
    "(println (.substring \"hello\" 1 4))"
   ]
  },
  {
   "cell_type": "code",
   "execution_count": 20,
   "id": "changed-decrease",
   "metadata": {},
   "outputs": [
    {
     "name": "stdout",
     "output_type": "stream",
     "text": [
      "ello\n"
     ]
    },
    {
     "data": {
      "text/plain": [
       "nil"
      ]
     },
     "execution_count": 20,
     "metadata": {},
     "output_type": "execute_result"
    }
   ],
   "source": [
    "(println (subs \"hello\" 1))"
   ]
  },
  {
   "cell_type": "code",
   "execution_count": 21,
   "id": "verified-report",
   "metadata": {},
   "outputs": [
    {
     "name": "stdout",
     "output_type": "stream",
     "text": [
      "ello\n"
     ]
    },
    {
     "data": {
      "text/plain": [
       "nil"
      ]
     },
     "execution_count": 21,
     "metadata": {},
     "output_type": "execute_result"
    }
   ],
   "source": [
    "(println (.substring \"hello\" 1))"
   ]
  },
  {
   "cell_type": "code",
   "execution_count": 30,
   "id": "perfect-generator",
   "metadata": {},
   "outputs": [
    {
     "name": "stdout",
     "output_type": "stream",
     "text": [
      "---World\n"
     ]
    },
    {
     "data": {
      "text/plain": [
       "nil"
      ]
     },
     "execution_count": 30,
     "metadata": {},
     "output_type": "execute_result"
    }
   ],
   "source": [
    "(println (clojure.string/replace\n",
    "           \"Hello World\" #\"^Hello\\s\" \"---\"))"
   ]
  },
  {
   "cell_type": "code",
   "execution_count": 23,
   "id": "unique-arbor",
   "metadata": {},
   "outputs": [
    {
     "data": {
      "text/plain": [
       "(\"123\" \"345\" \"567\")"
      ]
     },
     "execution_count": 23,
     "metadata": {},
     "output_type": "execute_result"
    }
   ],
   "source": [
    "(re-seq #\"[0-9]+\" \"abs123def345ghi567\")"
   ]
  },
  {
   "cell_type": "code",
   "execution_count": 31,
   "id": "champion-bronze",
   "metadata": {},
   "outputs": [
    {
     "name": "stdout",
     "output_type": "stream",
     "text": [
      "b는 2보다 큽니다.\n"
     ]
    },
    {
     "data": {
      "text/plain": [
       "nil"
      ]
     },
     "execution_count": 31,
     "metadata": {},
     "output_type": "execute_result"
    }
   ],
   "source": [
    "(def b 10)\n",
    "(println\n",
    "  (if (> b 2)\n",
    "    \"b는 2보다 큽니다.\"\n",
    "    \"b는 2보다 크지 않습니다.\"))"
   ]
  },
  {
   "cell_type": "code",
   "execution_count": 38,
   "id": "curious-tragedy",
   "metadata": {},
   "outputs": [
    {
     "data": {
      "text/plain": [
       "java.lang.Long"
      ]
     },
     "execution_count": 38,
     "metadata": {},
     "output_type": "execute_result"
    }
   ],
   "source": [
    "(class 1)"
   ]
  },
  {
   "cell_type": "code",
   "execution_count": null,
   "id": "olympic-discharge",
   "metadata": {},
   "outputs": [],
   "source": []
  }
 ],
 "metadata": {
  "kernelspec": {
   "display_name": "Clojure (clojupyter-0.3.2)",
   "language": "clojure",
   "name": "clojupyter-0.3.2"
  },
  "language_info": {
   "file_extension": ".clj",
   "mimetype": "text/x-clojure",
   "name": "clojure",
   "version": "1.10.1"
  }
 },
 "nbformat": 4,
 "nbformat_minor": 5
}
